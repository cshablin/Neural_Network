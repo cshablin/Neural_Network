{
  "nbformat": 4,
  "nbformat_minor": 0,
  "metadata": {
    "colab": {
      "name": "assignment_3_option1.ipynb",
      "provenance": [],
      "collapsed_sections": []
    },
    "kernelspec": {
      "name": "python3",
      "display_name": "Python 3"
    },
    "language_info": {
      "name": "python"
    },
    "accelerator": "GPU"
  },
  "cells": [
    {
      "cell_type": "code",
      "metadata": {
        "id": "IytrQ6yvX0x4"
      },
      "source": [
        "import numpy as np\n",
        "import random\n",
        "from keras import callbacks\n",
        "from keras.callbacks import History\n",
        "from keras.layers.recurrent import LSTM\n",
        "from keras.layers.embeddings import Embedding\n",
        "from keras.models import Sequential\n",
        "from keras.layers import Dense, Dropout\n",
        "from keras.preprocessing.text import Tokenizer\n",
        "from keras.preprocessing.sequence import pad_sequences\n",
        "from keras import utils\n",
        "import string\n",
        "from typing import List, Tuple\n",
        "import re"
      ],
      "execution_count": 17,
      "outputs": []
    },
    {
      "cell_type": "code",
      "metadata": {
        "id": "wdcFOmChYPtm"
      },
      "source": [
        "import pandas as pd\n",
        "from pandas import DataFrame\n",
        "\n",
        "\n",
        "def load_lyrics(csv_path: str) -> DataFrame:\n",
        "    df = pd.read_csv(csv_path, sep='\\n', header=None)\n",
        "    res = df.iloc[:, 0].str.rstrip(r'&, ').str.extract(r'([^,]+),([^,]+),(.+)')\n",
        "    res.columns = ['artist', 'title', 'lyrics']\n",
        "    return res\n"
      ],
      "execution_count": 18,
      "outputs": []
    },
    {
      "cell_type": "code",
      "metadata": {
        "id": "DdQYtAOFYchM"
      },
      "source": [
        "def create_x_y(songs, tokenize, total_words, max_len) -> Tuple[np.ndarray, np.ndarray]:\n",
        "    input_sequences = []\n",
        "    for line in songs:\n",
        "        token_list = tokenize.texts_to_sequences([line])[0]\n",
        "        for i in range(1, len(token_list)):\n",
        "            n_gram_sequence = token_list[:i + 1]\n",
        "            input_sequences.append(n_gram_sequence)\n",
        "    print(input_sequences[:10])\n",
        "    max_sequence_len = max([len(x) for x in input_sequences])\n",
        "    # input_sequences = np.array(pad_sequences(input_sequences, maxlen=max_sequence_len, padding='pre'))\n",
        "    input_sequences = np.array(pad_sequences(input_sequences, maxlen=max_len, padding='pre'))\n",
        "    x_train = input_sequences[:, :-1]\n",
        "    y_train = input_sequences[:, -1]\n",
        "    y_train = utils.to_categorical(y_train, num_classes=total_words)\n",
        "    return x_train, y_train\n",
        "\n",
        "def create_x_y_train(songs, tokenize, total_words) -> Tuple[np.ndarray, np.ndarray, np.ndarray, np.ndarray]:\n",
        "    \n",
        "    random.shuffle(songs)\n",
        "    val_songs = songs[:120]\n",
        "    train_songs = songs[120:]\n",
        "    # input_sequences = []\n",
        "    # for line in songs:\n",
        "    #     token_list = tokenize.texts_to_sequences([line])[0]\n",
        "    #     for i in range(1, len(token_list)):\n",
        "    #         n_gram_sequence = token_list[:i + 1]\n",
        "    #         input_sequences.append(n_gram_sequence)\n",
        "    # print(input_sequences[:10])\n",
        "    # max_sequence_len = max([len(x) for x in input_sequences])\n",
        "    # # input_sequences = np.array(pad_sequences(input_sequences, maxlen=max_sequence_len, padding='pre'))\n",
        "    # input_sequences = np.array(pad_sequences(input_sequences, maxlen=100, padding='pre'))\n",
        "    # x_train = input_sequences[:, :-1]\n",
        "    # y_train = input_sequences[:, -1]\n",
        "    # y_train = utils.to_categorical(y_train, num_classes=total_words)\n",
        "    max_len = 5\n",
        "    x_t, y_t = create_x_y(train_songs, tokenize, total_words, max_len)\n",
        "    x_v, y_v = create_x_y(val_songs, tokenize, total_words, max_len)\n",
        "    return x_t, y_t, x_v, y_v, max_len\n",
        "\n",
        "\n",
        "import pandas as pd\n",
        "from pandas import DataFrame\n",
        "\n",
        "\n",
        "def load_lyrics(csv_path: str) -> DataFrame:\n",
        "    df = pd.read_csv(csv_path, sep='\\n', header=None)\n",
        "    res = df.iloc[:, 0].str.rstrip(r'&, ').str.extract(r'([^,]+),([^,]+),(.+)')\n",
        "    res.columns = ['artist', 'title', 'lyrics']\n",
        "    return res\n",
        "\n",
        "def load_songs(path, pop_305=True) -> List[str]:\n",
        "    df = load_lyrics(path)\n",
        "    songs = []\n",
        "    for song in list(df['lyrics']):\n",
        "        song += \" EOF\"\n",
        "        # remove '(*)'\n",
        "        modified_song = re.sub(r\"\\([^()]*\\)\", \"\", song)\n",
        "        modified_song = modified_song.replace(\"chorus\", \"\").lower()\n",
        "        # modified_song = modified_song.replace(\"chorus\", \"\").replace(\"&\", \"silencio\").lower()\n",
        "        # modified_song = modified_song.replace(\"&\", \"silencio\").lower()\n",
        "        regex = re.compile('[%s]' % re.escape(string.punctuation))\n",
        "        modified_song = regex.sub('', modified_song)\n",
        "        songs.append(modified_song)\n",
        "    if pop_305:\n",
        "        songs.pop(305)\n",
        "    return songs\n",
        "\n",
        "def remove_words(words: List[str], songs):\n",
        "    resulting_songs = []\n",
        "    for song in songs:\n",
        "        result = song\n",
        "        for word in words:\n",
        "            result = result.replace(word, '')\n",
        "        resulting_songs.append(result)\n",
        "    return resulting_songs"
      ],
      "execution_count": 19,
      "outputs": []
    },
    {
      "cell_type": "code",
      "metadata": {
        "id": "JvcE5N-OYGtA"
      },
      "source": [
        "class LyricsGenerator(object):\n",
        "\n",
        "    def __init__(self, embedding_dim: int, vocab_size: int, input_size: int, embedding_matrix: np.ndarray):\n",
        "        embedding_layer = Embedding(\n",
        "            vocab_size,\n",
        "            embedding_dim,\n",
        "            input_length=input_size,\n",
        "            weights=[embedding_matrix],\n",
        "            # embeddings_initializer=initializers.Constant(embedding_matrix),\n",
        "            trainable=False,\n",
        "        )\n",
        "\n",
        "        self.model = Sequential()\n",
        "        self.model.add(embedding_layer)\n",
        "        self.model.add(LSTM(units=embedding_dim))\n",
        "        self.model.add(Dropout(0.2))\n",
        "        self.model.add(Dense(units=vocab_size, activation='softmax'))\n",
        "        self.model.compile(optimizer='adam', loss='categorical_crossentropy', metrics=['accuracy'])\n",
        "        self.model.summary()\n",
        "\n",
        "    def fit(self, x, y, hyper_parameters):\n",
        "        callback = callbacks.EarlyStopping(monitor='loss', patience=3)\n",
        "        callback2 = callbacks.LearningRateScheduler(self._lr_scheduler)\n",
        "        # callback3 = callbacks.ModelCheckpoint('lyrics_model.h5', save_best_only=True, monitor='val_loss', mode='min')\n",
        "        # callback = callbacks.EarlyStopping(monitor='val_accuracy', mode='max', min_delta=1)\n",
        "        # history = self.model.fit(x, y, epochs=100, verbose=1)\n",
        "        history = self.model.fit(x, y, batch_size=hyper_parameters['batch_size'], epochs=hyper_parameters['epochs'],\n",
        "                                 callbacks=[callback],\n",
        "                                 # callbacks=[callback, callback2],\n",
        "                                 verbose=1, validation_split=hyper_parameters['validation_split'],\n",
        "                                 validation_data=hyper_parameters['val_data'])\n",
        "        self.model.save('lyrics_model.h5')\n",
        "        \n",
        "        return history\n",
        "\n",
        "    def _lr_scheduler(self, epoch, lr):\n",
        "        return 0.95 * lr\n",
        "\n",
        "    def evaluate(self, x, y):\n",
        "        predictions = self.model.evaluate(x, y)\n",
        "        return predictions\n",
        "\n",
        "    # to get a picture of loss progress.\n",
        "    def plot_metric(self, history: History, metric: str = 'loss') -> None:\n",
        "        import matplotlib.pyplot as plt\n",
        "        train_metrics = history.history[metric]\n",
        "        val_metrics = history.history['val_'+metric]\n",
        "        epochs = range(1, len(train_metrics) + 1)\n",
        "        plt.plot(epochs, train_metrics)\n",
        "        plt.plot(epochs, val_metrics)\n",
        "        plt.title('Training and validation '+ metric)\n",
        "        plt.xlabel(\"Epochs\")\n",
        "        plt.ylabel(metric)\n",
        "        plt.legend([\"train_\"+metric, 'val_'+metric])\n",
        "        plt.show()"
      ],
      "execution_count": 20,
      "outputs": []
    },
    {
      "cell_type": "code",
      "metadata": {
        "colab": {
          "base_uri": "https://localhost:8080/"
        },
        "id": "TouTqfYeaKTl",
        "outputId": "47cf4c15-19dc-4a0a-c78e-ad3bb20f8033"
      },
      "source": [
        "from google.colab import drive\n",
        "drive.mount('/content/drive')"
      ],
      "execution_count": 21,
      "outputs": [
        {
          "output_type": "stream",
          "text": [
            "Drive already mounted at /content/drive; to attempt to forcibly remount, call drive.mount(\"/content/drive\", force_remount=True).\n"
          ],
          "name": "stdout"
        }
      ]
    },
    {
      "cell_type": "code",
      "metadata": {
        "id": "DqwTVl0Wo5gV",
        "colab": {
          "base_uri": "https://localhost:8080/"
        },
        "outputId": "29c9b128-845b-447e-fb12-ee224ff16dba"
      },
      "source": [
        "embedding_matrixs =  np.load(\"/content/drive/MyDrive/DL/Assignment_3/Lyrics/embedding_matrix_glove.npy\")\n",
        "embedding_matrixs.shape"
      ],
      "execution_count": 22,
      "outputs": [
        {
          "output_type": "execute_result",
          "data": {
            "text/plain": [
              "(7527, 300)"
            ]
          },
          "metadata": {
            "tags": []
          },
          "execution_count": 22
        }
      ]
    },
    {
      "cell_type": "code",
      "metadata": {
        "id": "sg17AmZ0ZhL1"
      },
      "source": [
        "songs = load_songs('/content/drive/MyDrive/DL/Assignment_3/Lyrics/lyrics_train_set.csv')\n",
        "test_songs = load_songs(\"/content/drive/MyDrive/DL/Assignment_3/Lyrics/lyrics_test_set.csv\", pop_305=False)\n",
        "\n",
        "# Data preprocessing\n",
        "tokenize = Tokenizer()\n",
        "tokenize.fit_on_texts(songs)\n",
        "total_words = len(tokenize.word_index) + 1"
      ],
      "execution_count": 23,
      "outputs": []
    },
    {
      "cell_type": "code",
      "metadata": {
        "id": "WdnjwhQazWkG",
        "colab": {
          "base_uri": "https://localhost:8080/"
        },
        "outputId": "48217f4e-ead2-41eb-865a-a5bbbdb9cdad"
      },
      "source": [
        "# import tensorflow as tf\n",
        "# import random\n",
        "# tf.random.set_seed(1)\n",
        "# random.seed(2)\n",
        "# np.random.seed(3)\n",
        "import json\n",
        "non_words_dict = json.load(open('/content/drive/MyDrive/DL/Assignment_3/Lyrics/non_words.json', \"r\"))\n",
        "non_words_list = non_words_dict[\"non existing words\"]\n",
        "cleaned_songs = remove_words(non_words_list, songs)\n",
        "cleaned_test_songs = remove_words(non_words_list, test_songs)\n",
        "print(len(cleaned_songs))\n",
        "print(len(cleaned_test_songs))\n"
      ],
      "execution_count": 24,
      "outputs": [
        {
          "output_type": "stream",
          "text": [
            "599\n",
            "5\n"
          ],
          "name": "stdout"
        }
      ]
    },
    {
      "cell_type": "code",
      "metadata": {
        "colab": {
          "base_uri": "https://localhost:8080/"
        },
        "id": "d0Av0w6spUQE",
        "outputId": "70473561-bd54-470f-c10b-47e3c2c8b0ed"
      },
      "source": [
        "# # Data preprocessing\n",
        "# tokenize = Tokenizer()\n",
        "# tokenize.fit_on_texts(cleaned_songs)\n",
        "# total_words = len(tokenize.word_index) + 1\n",
        "\n",
        "embedding_dim = 300\n",
        "x_train, y_train, x_val, y_val, max_sequence_len = create_x_y_train(cleaned_songs, tokenize, total_words)\n",
        "x_test, y_test = create_x_y(cleaned_test_songs, tokenize, total_words, max_sequence_len)\n"
      ],
      "execution_count": 25,
      "outputs": [
        {
          "output_type": "stream",
          "text": [
            "[[36, 1], [36, 1, 38], [36, 1, 38, 40], [36, 1, 38, 40, 3], [36, 1, 38, 40, 3, 44], [36, 1, 38, 40, 3, 44, 10], [36, 1, 38, 40, 3, 44, 10, 36], [36, 1, 38, 40, 3, 44, 10, 36, 1], [36, 1, 38, 40, 3, 44, 10, 36, 1, 81], [36, 1, 38, 40, 3, 44, 10, 36, 1, 81, 28]]\n",
            "[[649, 4], [649, 4, 2], [649, 4, 2, 102], [649, 4, 2, 102, 2], [649, 4, 2, 102, 2, 577], [649, 4, 2, 102, 2, 577, 16], [649, 4, 2, 102, 2, 577, 16, 56], [649, 4, 2, 102, 2, 577, 16, 56, 61], [649, 4, 2, 102, 2, 577, 16, 56, 61, 529], [649, 4, 2, 102, 2, 577, 16, 56, 61, 529, 3766]]\n",
            "[[330, 12], [330, 12, 112], [330, 12, 112, 110], [330, 12, 112, 110, 7], [330, 12, 112, 110, 7, 12], [330, 12, 112, 110, 7, 12, 271], [330, 12, 112, 110, 7, 12, 271, 636], [330, 12, 112, 110, 7, 12, 271, 636, 28], [330, 12, 112, 110, 7, 12, 271, 636, 28, 1], [330, 12, 112, 110, 7, 12, 271, 636, 28, 1, 77]]\n"
          ],
          "name": "stdout"
        }
      ]
    },
    {
      "cell_type": "code",
      "metadata": {
        "colab": {
          "base_uri": "https://localhost:8080/",
          "height": 1000
        },
        "id": "cVe2ZUvKqFbl",
        "outputId": "e310de9a-7fd0-46ca-fb8d-cff7634870b3"
      },
      "source": [
        "# Train model\n",
        "\n",
        "parameters = {\n",
        "    'batch_size' : 512 ,\n",
        "    'validation_split' : None ,\n",
        "    'epochs' : 15 ,\n",
        "    'val_data' :  (x_val, y_val)\n",
        "}\n",
        "lyrics_generator = LyricsGenerator(embedding_dim, total_words, x_train.shape[1], embedding_matrixs)\n",
        "h = lyrics_generator.fit(x_train, y_train, parameters)\n",
        "lyrics_generator.plot_metric(h)\n",
        "lyrics_generator.plot_metric(h, metric=\"accuracy\")"
      ],
      "execution_count": 30,
      "outputs": [
        {
          "output_type": "stream",
          "text": [
            "Model: \"sequential_4\"\n",
            "_________________________________________________________________\n",
            "Layer (type)                 Output Shape              Param #   \n",
            "=================================================================\n",
            "embedding_4 (Embedding)      (None, 4, 300)            2258100   \n",
            "_________________________________________________________________\n",
            "lstm_4 (LSTM)                (None, 300)               721200    \n",
            "_________________________________________________________________\n",
            "dropout_4 (Dropout)          (None, 300)               0         \n",
            "_________________________________________________________________\n",
            "dense_4 (Dense)              (None, 7527)              2265627   \n",
            "=================================================================\n",
            "Total params: 5,244,927\n",
            "Trainable params: 2,986,827\n",
            "Non-trainable params: 2,258,100\n",
            "_________________________________________________________________\n",
            "Epoch 1/15\n",
            "240/240 [==============================] - 9s 30ms/step - loss: 6.7755 - accuracy: 0.0404 - val_loss: 6.1346 - val_accuracy: 0.0615\n",
            "Epoch 2/15\n",
            "240/240 [==============================] - 7s 28ms/step - loss: 5.8156 - accuracy: 0.0727 - val_loss: 5.9129 - val_accuracy: 0.0883\n",
            "Epoch 3/15\n",
            "240/240 [==============================] - 7s 28ms/step - loss: 5.4459 - accuracy: 0.0976 - val_loss: 5.8147 - val_accuracy: 0.0989\n",
            "Epoch 4/15\n",
            "240/240 [==============================] - 7s 28ms/step - loss: 5.1326 - accuracy: 0.1194 - val_loss: 5.7571 - val_accuracy: 0.1047\n",
            "Epoch 5/15\n",
            "240/240 [==============================] - 7s 28ms/step - loss: 4.8616 - accuracy: 0.1438 - val_loss: 5.7351 - val_accuracy: 0.1090\n",
            "Epoch 6/15\n",
            "240/240 [==============================] - 7s 29ms/step - loss: 4.6075 - accuracy: 0.1683 - val_loss: 5.7266 - val_accuracy: 0.1126\n",
            "Epoch 7/15\n",
            "240/240 [==============================] - 7s 28ms/step - loss: 4.3787 - accuracy: 0.1941 - val_loss: 5.7389 - val_accuracy: 0.1137\n",
            "Epoch 8/15\n",
            "240/240 [==============================] - 7s 28ms/step - loss: 4.1671 - accuracy: 0.2213 - val_loss: 5.7599 - val_accuracy: 0.1137\n",
            "Epoch 9/15\n",
            "240/240 [==============================] - 7s 28ms/step - loss: 3.9695 - accuracy: 0.2430 - val_loss: 5.7869 - val_accuracy: 0.1171\n",
            "Epoch 10/15\n",
            "240/240 [==============================] - 7s 28ms/step - loss: 3.7832 - accuracy: 0.2670 - val_loss: 5.8179 - val_accuracy: 0.1133\n",
            "Epoch 11/15\n",
            "240/240 [==============================] - 7s 28ms/step - loss: 3.5988 - accuracy: 0.2918 - val_loss: 5.8450 - val_accuracy: 0.1176\n",
            "Epoch 12/15\n",
            "240/240 [==============================] - 7s 28ms/step - loss: 3.4447 - accuracy: 0.3148 - val_loss: 5.8785 - val_accuracy: 0.1192\n",
            "Epoch 13/15\n",
            "240/240 [==============================] - 7s 28ms/step - loss: 3.2885 - accuracy: 0.3411 - val_loss: 5.9294 - val_accuracy: 0.1176\n",
            "Epoch 14/15\n",
            "240/240 [==============================] - 7s 28ms/step - loss: 3.1375 - accuracy: 0.3686 - val_loss: 5.9788 - val_accuracy: 0.1169\n",
            "Epoch 15/15\n",
            "240/240 [==============================] - 7s 28ms/step - loss: 3.0139 - accuracy: 0.3871 - val_loss: 6.0092 - val_accuracy: 0.1159\n"
          ],
          "name": "stdout"
        },
        {
          "output_type": "display_data",
          "data": {
            "image/png": "[encoded data removed]",
            "text/plain": [
              "<Figure size 432x288 with 1 Axes>"
            ]
          },
          "metadata": {
            "tags": [],
            "needs_background": "light"
          }
        },
        {
          "output_type": "display_data",
          "data": {
            "image/png": "[encoded data removed]",
            "text/plain": [
              "<Figure size 432x288 with 1 Axes>"
            ]
          },
          "metadata": {
            "tags": [],
            "needs_background": "light"
          }
        }
      ]
    },
    {
      "cell_type": "code",
      "metadata": {
        "colab": {
          "base_uri": "https://localhost:8080/"
        },
        "id": "CfKNpPPeyYyB",
        "outputId": "5ef63061-c11c-43e2-c7bc-828194d14f1e"
      },
      "source": [
        "prediction = lyrics_generator.evaluate(x_test, y_test)\n",
        "print(prediction)"
      ],
      "execution_count": 27,
      "outputs": [
        {
          "output_type": "stream",
          "text": [
            "34/34 [==============================] - 0s 4ms/step - loss: 6.2135 - accuracy: 0.1145\n",
            "[6.2135467529296875, 0.11447492986917496]\n"
          ],
          "name": "stdout"
        }
      ]
    },
    {
      "cell_type": "code",
      "metadata": {
        "id": "5H7eN736nuUq"
      },
      "source": [
        "def generate_text(seed_text, eof, model, max_sequence_len, vocab_size):\n",
        "    next_word = \"\"\n",
        "    word_indices = np.arange(vocab_size) + 1\n",
        "    while next_word != eof:\n",
        "        token_list = tokenize.texts_to_sequences([seed_text])[0]\n",
        "        token_list = pad_sequences([token_list], maxlen=max_sequence_len-1, padding='pre')\n",
        "        predicted_proba = model.model.predict_proba(token_list, verbose=0)\n",
        "        # print(predicted_proba.reshape((predicted_proba.shape[1])).shape)\n",
        "        # sample the word index acording to predicted proba\n",
        "        chosen_index = np.random.choice(word_indices ,1 ,replace=False, p=predicted_proba.reshape((predicted_proba.shape[1])))\n",
        "\n",
        "        \n",
        "        next_word = \"\"\n",
        "        for word, index in tokenize.word_index.items():\n",
        "            if index == chosen_index:     \n",
        "                next_word = word\n",
        "                # print(next_word)\n",
        "                break\n",
        "        seed_text += \" \" + next_word\n",
        "    return seed_text"
      ],
      "execution_count": 28,
      "outputs": []
    },
    {
      "cell_type": "code",
      "metadata": {
        "id": "rMitghcqkXWj",
        "colab": {
          "base_uri": "https://localhost:8080/"
        },
        "outputId": "ea74d573-0a4a-4e63-de37-f4b3bebf9959"
      },
      "source": [
        "print(generate_text('forgive' , \"eof\" , lyrics_generator , max_sequence_len, total_words))"
      ],
      "execution_count": 29,
      "outputs": [
        {
          "output_type": "stream",
          "text": [
            "/usr/local/lib/python3.7/dist-packages/tensorflow/python/keras/engine/sequential.py:425: UserWarning: `model.predict_proba()` is deprecated and will be removed after 2021-01-01. Please use `model.predict()` instead.\n",
            "  warnings.warn('`model.predict_proba()` is deprecated and '\n"
          ],
          "name": "stderr"
        },
        {
          "output_type": "stream",
          "text": [
            "forgive my reminds here i hope the the there be me a loving can thats up a faith for i to was its through i stand and in i till why this apart and from i but everyone love slept girl a work it like of my whoa like eof\n"
          ],
          "name": "stdout"
        }
      ]
    }
  ]
}