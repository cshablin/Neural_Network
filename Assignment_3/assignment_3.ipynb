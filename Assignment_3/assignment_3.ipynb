{
  "nbformat": 4,
  "nbformat_minor": 0,
  "metadata": {
    "colab": {
      "name": "assignment_3_5_5.ipynb",
      "provenance": [],
      "collapsed_sections": []
    },
    "kernelspec": {
      "name": "python3",
      "display_name": "Python 3"
    },
    "language_info": {
      "name": "python"
    },
    "accelerator": "GPU"
  },
  "cells": [
    {
      "cell_type": "code",
      "metadata": {
        "id": "IytrQ6yvX0x4"
      },
      "source": [
        "import numpy as np\n",
        "import random\n",
        "from keras import callbacks\n",
        "from keras.callbacks import History\n",
        "from keras.layers.recurrent import LSTM\n",
        "from keras.layers.embeddings import Embedding\n",
        "from keras.models import Sequential\n",
        "from keras.layers import Dense, Dropout\n",
        "from keras.preprocessing.text import Tokenizer\n",
        "from keras.preprocessing.sequence import pad_sequences\n",
        "from keras import utils\n",
        "import string\n",
        "from typing import List, Tuple\n",
        "import re"
      ],
      "execution_count": null,
      "outputs": []
    },
    {
      "cell_type": "code",
      "metadata": {
        "id": "wdcFOmChYPtm"
      },
      "source": [
        "import pandas as pd\n",
        "from pandas import DataFrame\n",
        "\n",
        "\n",
        "def load_lyrics(csv_path: str) -> DataFrame:\n",
        "    df = pd.read_csv(csv_path, sep='\\n', header=None)\n",
        "    res = df.iloc[:, 0].str.rstrip(r'&, ').str.extract(r'([^,]+),([^,]+),(.+)')\n",
        "    res.columns = ['artist', 'title', 'lyrics']\n",
        "    return res\n"
      ],
      "execution_count": null,
      "outputs": []
    },
    {
      "cell_type": "code",
      "metadata": {
        "id": "DdQYtAOFYchM"
      },
      "source": [
        "def create_x_y(songs, tokenize, total_words, max_len) -> Tuple[np.ndarray, np.ndarray]:\n",
        "    input_sequences = []\n",
        "    for line in songs:\n",
        "        token_list = tokenize.texts_to_sequences([line])[0]\n",
        "        for i in range(1, len(token_list)):\n",
        "            n_gram_sequence = token_list[:i + 1]\n",
        "            input_sequences.append(n_gram_sequence)\n",
        "    print(input_sequences[:10])\n",
        "    max_sequence_len = max([len(x) for x in input_sequences])\n",
        "    # input_sequences = np.array(pad_sequences(input_sequences, maxlen=max_sequence_len, padding='pre'))\n",
        "    input_sequences = np.array(pad_sequences(input_sequences, maxlen=max_len, padding='pre'))\n",
        "    x_train = input_sequences[:, :-1]\n",
        "    y_train = input_sequences[:, -1]\n",
        "    y_train = utils.to_categorical(y_train, num_classes=total_words)\n",
        "    return x_train, y_train\n",
        "\n",
        "def create_x_y_train(songs, tokenize, total_words) -> Tuple[np.ndarray, np.ndarray, np.ndarray, np.ndarray]:\n",
        "    \n",
        "    random.shuffle(songs)\n",
        "    val_songs = songs[:120]\n",
        "    train_songs = songs[120:]\n",
        "    # input_sequences = []\n",
        "    # for line in songs:\n",
        "    #     token_list = tokenize.texts_to_sequences([line])[0]\n",
        "    #     for i in range(1, len(token_list)):\n",
        "    #         n_gram_sequence = token_list[:i + 1]\n",
        "    #         input_sequences.append(n_gram_sequence)\n",
        "    # print(input_sequences[:10])\n",
        "    # max_sequence_len = max([len(x) for x in input_sequences])\n",
        "    # # input_sequences = np.array(pad_sequences(input_sequences, maxlen=max_sequence_len, padding='pre'))\n",
        "    # input_sequences = np.array(pad_sequences(input_sequences, maxlen=100, padding='pre'))\n",
        "    # x_train = input_sequences[:, :-1]\n",
        "    # y_train = input_sequences[:, -1]\n",
        "    # y_train = utils.to_categorical(y_train, num_classes=total_words)\n",
        "    max_len = 10\n",
        "    x_t, y_t = create_x_y(train_songs, tokenize, total_words, max_len)\n",
        "    x_v, y_v = create_x_y(val_songs, tokenize, total_words, max_len)\n",
        "    return x_t, y_t, x_v, y_v, max_len\n",
        "\n",
        "\n",
        "import pandas as pd\n",
        "from pandas import DataFrame\n",
        "\n",
        "\n",
        "def load_lyrics(csv_path: str) -> DataFrame:\n",
        "    df = pd.read_csv(csv_path, sep='\\n', header=None)\n",
        "    res = df.iloc[:, 0].str.rstrip(r'&, ').str.extract(r'([^,]+),([^,]+),(.+)')\n",
        "    res.columns = ['artist', 'title', 'lyrics']\n",
        "    return res\n",
        "\n",
        "def load_songs(path) -> List[str]:\n",
        "    df = load_lyrics(path)\n",
        "    songs = []\n",
        "    for song in list(df['lyrics']):\n",
        "        song += \" EOF\"\n",
        "        # remove '(*)'\n",
        "        modified_song = re.sub(r\"\\([^()]*\\)\", \"\", song)\n",
        "        modified_song = modified_song.replace(\"chorus\", \"\").lower()\n",
        "        # modified_song = modified_song.replace(\"chorus\", \"\").replace(\"&\", \"silencio\").lower()\n",
        "        # modified_song = modified_song.replace(\"&\", \"silencio\").lower()\n",
        "        regex = re.compile('[%s]' % re.escape(string.punctuation))\n",
        "        modified_song = regex.sub('', modified_song)\n",
        "        songs.append(modified_song)\n",
        "    songs.pop(305)\n",
        "    return songs\n",
        "\n",
        "def remove_words(words: List[str], songs):\n",
        "    resulting_songs = []\n",
        "    for song in songs:\n",
        "        result = song\n",
        "        for word in words:\n",
        "            result = result.replace(word, '')\n",
        "        resulting_songs.append(result)\n",
        "    return resulting_songs"
      ],
      "execution_count": null,
      "outputs": []
    },
    {
      "cell_type": "code",
      "metadata": {
        "id": "JvcE5N-OYGtA"
      },
      "source": [
        "class LyricsGenerator(object):\n",
        "\n",
        "    def __init__(self, embedding_dim: int, vocab_size: int, input_size: int, embedding_matrix: np.ndarray):\n",
        "        embedding_layer = Embedding(\n",
        "            vocab_size,\n",
        "            embedding_dim,\n",
        "            input_length=input_size,\n",
        "            weights=[embedding_matrix],\n",
        "            # embeddings_initializer=initializers.Constant(embedding_matrix),\n",
        "            trainable=False,\n",
        "        )\n",
        "\n",
        "        self.model = Sequential()\n",
        "        self.model.add(embedding_layer)\n",
        "        self.model.add(LSTM(units=embedding_dim))\n",
        "        self.model.add(Dropout(0.2))\n",
        "        self.model.add(Dense(units=vocab_size, activation='softmax'))\n",
        "        self.model.compile(optimizer='adam', loss='categorical_crossentropy')\n",
        "        self.model.summary()\n",
        "\n",
        "    def fit(self, x, y, hyper_parameters):\n",
        "        callback = callbacks.EarlyStopping(monitor='loss', patience=3)\n",
        "        callback2 = callbacks.LearningRateScheduler(self._lr_scheduler)\n",
        "        # callback3 = callbacks.ModelCheckpoint('lyrics_model.h5', save_best_only=True, monitor='val_loss', mode='min')\n",
        "        # callback = callbacks.EarlyStopping(monitor='val_accuracy', mode='max', min_delta=1)\n",
        "        # history = self.model.fit(x, y, epochs=100, verbose=1)\n",
        "        history = self.model.fit(x, y, batch_size=hyper_parameters['batch_size'], epochs=hyper_parameters['epochs'],\n",
        "                                 callbacks=[callback],\n",
        "                                 # callbacks=[callback, callback2],\n",
        "                                 verbose=1, validation_split=hyper_parameters['validation_split'],\n",
        "                                 validation_data=hyper_parameters['val_data'])\n",
        "        self.model.save('lyrics_model.h5')\n",
        "        \n",
        "        return history\n",
        "\n",
        "    def _lr_scheduler(self, epoch, lr):\n",
        "        return 0.95 * lr\n",
        "\n",
        "    # to get a picture of loss progress.\n",
        "    def plot_metric(self, history: History, metric: str = 'loss') -> None:\n",
        "        import matplotlib.pyplot as plt\n",
        "        train_metrics = history.history[metric]\n",
        "        val_metrics = history.history['val_'+metric]\n",
        "        epochs = range(1, len(train_metrics) + 1)\n",
        "        plt.plot(epochs, train_metrics)\n",
        "        plt.plot(epochs, val_metrics)\n",
        "        plt.title('Training and validation '+ metric)\n",
        "        plt.xlabel(\"Epochs\")\n",
        "        plt.ylabel(metric)\n",
        "        plt.legend([\"train_\"+metric, 'val_'+metric])\n",
        "        plt.show()"
      ],
      "execution_count": 27,
      "outputs": []
    },
    {
      "cell_type": "code",
      "metadata": {
        "colab": {
          "base_uri": "https://localhost:8080/"
        },
        "id": "TouTqfYeaKTl",
        "outputId": "57bc5a37-44a0-4792-9488-7a9380d27289"
      },
      "source": [
        "from google.colab import drive\n",
        "drive.mount('/content/drive')"
      ],
      "execution_count": null,
      "outputs": [
        {
          "output_type": "stream",
          "text": [
            "Drive already mounted at /content/drive; to attempt to forcibly remount, call drive.mount(\"/content/drive\", force_remount=True).\n"
          ],
          "name": "stdout"
        }
      ]
    },
    {
      "cell_type": "code",
      "metadata": {
        "id": "DqwTVl0Wo5gV",
        "colab": {
          "base_uri": "https://localhost:8080/"
        },
        "outputId": "88936782-4bdc-4d2b-ef6b-ad6451f0eacd"
      },
      "source": [
        "embedding_matrixs =  np.load(\"/content/drive/MyDrive/DL/Assignment_3/Lyrics/embedding_matrix_glove.npy\")\n",
        "embedding_matrixs.shape"
      ],
      "execution_count": null,
      "outputs": [
        {
          "output_type": "execute_result",
          "data": {
            "text/plain": [
              "(7527, 300)"
            ]
          },
          "metadata": {
            "tags": []
          },
          "execution_count": 6
        }
      ]
    },
    {
      "cell_type": "code",
      "metadata": {
        "id": "sg17AmZ0ZhL1"
      },
      "source": [
        "songs = load_songs('/content/drive/MyDrive/DL/Assignment_3/Lyrics/lyrics_train_set.csv')\n",
        "\n",
        "# Data preprocessing\n",
        "tokenize = Tokenizer()\n",
        "tokenize.fit_on_texts(songs)\n",
        "total_words = len(tokenize.word_index) + 1"
      ],
      "execution_count": null,
      "outputs": []
    },
    {
      "cell_type": "code",
      "metadata": {
        "id": "WdnjwhQazWkG",
        "colab": {
          "base_uri": "https://localhost:8080/"
        },
        "outputId": "98624fb7-457c-494d-ccf7-d91bcca25fc4"
      },
      "source": [
        "# import tensorflow as tf\n",
        "# import random\n",
        "# tf.random.set_seed(1)\n",
        "# random.seed(2)\n",
        "# np.random.seed(3)\n",
        "import json\n",
        "non_words_dict = json.load(open('/content/drive/MyDrive/DL/Assignment_3/Lyrics/non_words.json', \"r\"))\n",
        "non_words_list = non_words_dict[\"non existing words\"]\n",
        "cleaned_songs = remove_words(non_words_list, songs)\n",
        "print(len(cleaned_songs))\n"
      ],
      "execution_count": null,
      "outputs": [
        {
          "output_type": "stream",
          "text": [
            "599\n"
          ],
          "name": "stdout"
        }
      ]
    },
    {
      "cell_type": "code",
      "metadata": {
        "colab": {
          "base_uri": "https://localhost:8080/"
        },
        "id": "d0Av0w6spUQE",
        "outputId": "3b8efe68-8249-4dfa-8c55-cbed87ffc2c6"
      },
      "source": [
        "# # Data preprocessing\n",
        "# tokenize = Tokenizer()\n",
        "# tokenize.fit_on_texts(cleaned_songs)\n",
        "# total_words = len(tokenize.word_index) + 1\n",
        "\n",
        "embedding_dim = 300\n",
        "x_train, y_train, x_val, y_val, max_sequence_len = create_x_y_train(cleaned_songs, tokenize, total_words)"
      ],
      "execution_count": null,
      "outputs": [
        {
          "output_type": "stream",
          "text": [
            "[[901, 37], [901, 37, 2], [901, 37, 2, 1005], [901, 37, 2, 1005, 781], [901, 37, 2, 1005, 781, 652], [901, 37, 2, 1005, 781, 652, 901], [901, 37, 2, 1005, 781, 652, 901, 37], [901, 37, 2, 1005, 781, 652, 901, 37, 2], [901, 37, 2, 1005, 781, 652, 901, 37, 2, 1005], [901, 37, 2, 1005, 781, 652, 901, 37, 2, 1005, 337]]\n",
            "[[32, 3], [32, 3, 53], [32, 3, 53, 349], [32, 3, 53, 349, 3], [32, 3, 53, 349, 3, 47], [32, 3, 53, 349, 3, 47, 494], [32, 3, 53, 349, 3, 47, 494, 935], [32, 3, 53, 349, 3, 47, 494, 935, 5], [32, 3, 53, 349, 3, 47, 494, 935, 5, 1193], [32, 3, 53, 349, 3, 47, 494, 935, 5, 1193, 17]]\n"
          ],
          "name": "stdout"
        }
      ]
    },
    {
      "cell_type": "code",
      "metadata": {
        "colab": {
          "base_uri": "https://localhost:8080/",
          "height": 1000
        },
        "id": "cVe2ZUvKqFbl",
        "outputId": "d1ab517a-5056-459e-bf69-799d6b3bcd48"
      },
      "source": [
        "# Train model\n",
        "\n",
        "parameters = {\n",
        "    'batch_size' : 512 ,\n",
        "    'validation_split' : None ,\n",
        "    'epochs' : 50 ,\n",
        "    'val_data' :  (x_val, y_val)\n",
        "}\n",
        "lyrics_generator = LyricsGenerator(embedding_dim, total_words, x_train.shape[1], embedding_matrixs)\n",
        "h = lyrics_generator.fit(x_train, y_train, parameters)\n",
        "lyrics_generator.plot_metric(h)"
      ],
      "execution_count": 28,
      "outputs": [
        {
          "output_type": "stream",
          "text": [
            "Model: \"sequential_6\"\n",
            "_________________________________________________________________\n",
            "Layer (type)                 Output Shape              Param #   \n",
            "=================================================================\n",
            "embedding_6 (Embedding)      (None, 9, 300)            2258100   \n",
            "_________________________________________________________________\n",
            "lstm_6 (LSTM)                (None, 300)               721200    \n",
            "_________________________________________________________________\n",
            "dropout_6 (Dropout)          (None, 300)               0         \n",
            "_________________________________________________________________\n",
            "dense_6 (Dense)              (None, 7527)              2265627   \n",
            "=================================================================\n",
            "Total params: 5,244,927\n",
            "Trainable params: 2,986,827\n",
            "Non-trainable params: 2,258,100\n",
            "_________________________________________________________________\n",
            "Epoch 1/30\n",
            "240/240 [==============================] - 7s 25ms/step - loss: 6.6803 - val_loss: 6.2808\n",
            "Epoch 2/30\n",
            "240/240 [==============================] - 5s 22ms/step - loss: 5.8332 - val_loss: 6.0761\n",
            "Epoch 3/30\n",
            "240/240 [==============================] - 5s 22ms/step - loss: 5.4766 - val_loss: 5.9838\n",
            "Epoch 4/30\n",
            "240/240 [==============================] - 5s 22ms/step - loss: 5.2313 - val_loss: 5.9432\n",
            "Epoch 5/30\n",
            "240/240 [==============================] - 5s 22ms/step - loss: 4.9991 - val_loss: 5.9078\n",
            "Epoch 6/30\n",
            "240/240 [==============================] - 5s 22ms/step - loss: 4.7840 - val_loss: 5.9030\n",
            "Epoch 7/30\n",
            "240/240 [==============================] - 5s 22ms/step - loss: 4.5729 - val_loss: 5.9009\n",
            "Epoch 8/30\n",
            "240/240 [==============================] - 5s 22ms/step - loss: 4.3871 - val_loss: 5.9118\n",
            "Epoch 9/30\n",
            "240/240 [==============================] - 5s 22ms/step - loss: 4.2150 - val_loss: 5.9433\n",
            "Epoch 10/30\n",
            "240/240 [==============================] - 5s 22ms/step - loss: 4.0479 - val_loss: 5.9676\n",
            "Epoch 11/30\n",
            "240/240 [==============================] - 5s 22ms/step - loss: 3.8798 - val_loss: 5.9902\n",
            "Epoch 12/30\n",
            "240/240 [==============================] - 5s 22ms/step - loss: 3.7361 - val_loss: 6.0232\n",
            "Epoch 13/30\n",
            "240/240 [==============================] - 5s 22ms/step - loss: 3.5845 - val_loss: 6.0759\n",
            "Epoch 14/30\n",
            "240/240 [==============================] - 5s 22ms/step - loss: 3.4252 - val_loss: 6.1184\n",
            "Epoch 15/30\n",
            "240/240 [==============================] - 5s 22ms/step - loss: 3.3082 - val_loss: 6.1715\n",
            "Epoch 16/30\n",
            "240/240 [==============================] - 5s 22ms/step - loss: 3.1589 - val_loss: 6.2078\n",
            "Epoch 17/30\n",
            "240/240 [==============================] - 5s 22ms/step - loss: 3.0499 - val_loss: 6.2675\n",
            "Epoch 18/30\n",
            "240/240 [==============================] - 5s 22ms/step - loss: 2.9208 - val_loss: 6.3171\n",
            "Epoch 19/30\n",
            "240/240 [==============================] - 5s 22ms/step - loss: 2.8155 - val_loss: 6.3657\n",
            "Epoch 20/30\n",
            "240/240 [==============================] - 5s 22ms/step - loss: 2.7130 - val_loss: 6.4419\n",
            "Epoch 21/30\n",
            "240/240 [==============================] - 5s 22ms/step - loss: 2.6222 - val_loss: 6.5001\n",
            "Epoch 22/30\n",
            "240/240 [==============================] - 5s 22ms/step - loss: 2.5173 - val_loss: 6.5626\n",
            "Epoch 23/30\n",
            "240/240 [==============================] - 5s 22ms/step - loss: 2.4310 - val_loss: 6.6225\n",
            "Epoch 24/30\n",
            "240/240 [==============================] - 5s 22ms/step - loss: 2.3502 - val_loss: 6.6931\n",
            "Epoch 25/30\n",
            "240/240 [==============================] - 5s 22ms/step - loss: 2.2659 - val_loss: 6.7540\n",
            "Epoch 26/30\n",
            "240/240 [==============================] - 5s 22ms/step - loss: 2.1844 - val_loss: 6.8076\n",
            "Epoch 27/30\n",
            "240/240 [==============================] - 5s 22ms/step - loss: 2.1213 - val_loss: 6.8850\n",
            "Epoch 28/30\n",
            "240/240 [==============================] - 5s 22ms/step - loss: 2.0438 - val_loss: 6.9358\n",
            "Epoch 29/30\n",
            "240/240 [==============================] - 5s 22ms/step - loss: 1.9797 - val_loss: 7.0094\n",
            "Epoch 30/30\n",
            "240/240 [==============================] - 5s 22ms/step - loss: 1.9040 - val_loss: 7.0725\n"
          ],
          "name": "stdout"
        },
        {
          "output_type": "display_data",
          "data": {
            "image/png": "[encoded data removed]",
            "text/plain": [
              "<Figure size 432x288 with 1 Axes>"
            ]
          },
          "metadata": {
            "tags": [],
            "needs_background": "light"
          }
        }
      ]
    },
    {
      "cell_type": "code",
      "metadata": {
        "colab": {
          "base_uri": "https://localhost:8080/"
        },
        "id": "CfKNpPPeyYyB",
        "outputId": "39f905cf-7825-4a93-9f0f-97d917cdb098"
      },
      "source": [
        "# print(generate_text('forgive' , \"eof\" , lyrics_generator , max_sequence_len, total_words))"
      ],
      "execution_count": 29,
      "outputs": [
        {
          "output_type": "stream",
          "text": [
            "/usr/local/lib/python3.7/dist-packages/tensorflow/python/keras/engine/sequential.py:425: UserWarning: `model.predict_proba()` is deprecated and will be removed after 2021-01-01. Please use `model.predict()` instead.\n",
            "  warnings.warn('`model.predict_proba()` is deprecated and '\n"
          ],
          "name": "stderr"
        },
        {
          "output_type": "stream",
          "text": [
            "forgive up it think wanna time dont the times here oh to without to tell my youre he his cant the boys it be she belongs and back the cause be to deep a i by it although oh if to look oh cant behind the go a store been before a nice hello here meaning love got when to was lady feel all that the too under that remember my last love get a all your horse with me got its war friends turn a thing find could needs me im its cause be to yeah a hand and intergalactic ive his stand it sense no opened if of think if of of endless know again it wheel bop the ive his eof\n"
          ],
          "name": "stdout"
        }
      ]
    },
    {
      "cell_type": "code",
      "metadata": {
        "colab": {
          "base_uri": "https://localhost:8080/",
          "height": 1000
        },
        "id": "tJDyt6yPiva2",
        "outputId": "bf8583ab-48eb-4d9b-a163-a8fc3f3c0943"
      },
      "source": [
        "# parameters = {\n",
        "#     'batch_size' : 512 ,\n",
        "#     'validation_split' : None ,\n",
        "#     'epochs' : 20 ,\n",
        "#     'val_data' :  (x_val, y_val)\n",
        "# }\n",
        "# h = lyrics_generator.fit(x_train, y_train, parameters)\n",
        "# lyrics_generator.plot_metric(h)\n",
        "# print(generate_text('forgive' , \"eof\" , lyrics_generator , max_sequence_len, total_words))"
      ],
      "execution_count": 30,
      "outputs": [
        {
          "output_type": "stream",
          "text": [
            "Epoch 1/20\n",
            "958/958 [==============================] - 8s 8ms/step - loss: 2.2473 - val_loss: 7.1398\n",
            "Epoch 2/20\n",
            "958/958 [==============================] - 8s 8ms/step - loss: 2.0103 - val_loss: 7.2870\n",
            "Epoch 3/20\n",
            "958/958 [==============================] - 8s 8ms/step - loss: 1.8893 - val_loss: 7.4088\n",
            "Epoch 4/20\n",
            "958/958 [==============================] - 8s 8ms/step - loss: 1.7957 - val_loss: 7.5550\n",
            "Epoch 5/20\n",
            "958/958 [==============================] - 8s 8ms/step - loss: 1.7173 - val_loss: 7.6554\n",
            "Epoch 6/20\n",
            "958/958 [==============================] - 8s 8ms/step - loss: 1.6448 - val_loss: 7.7891\n",
            "Epoch 7/20\n",
            "958/958 [==============================] - 8s 8ms/step - loss: 1.5786 - val_loss: 7.8829\n",
            "Epoch 8/20\n",
            "958/958 [==============================] - 8s 8ms/step - loss: 1.5173 - val_loss: 8.0130\n",
            "Epoch 9/20\n",
            "958/958 [==============================] - 8s 8ms/step - loss: 1.4645 - val_loss: 8.1473\n",
            "Epoch 10/20\n",
            "958/958 [==============================] - 8s 8ms/step - loss: 1.4071 - val_loss: 8.1975\n",
            "Epoch 11/20\n",
            "958/958 [==============================] - 8s 8ms/step - loss: 1.3577 - val_loss: 8.3138\n",
            "Epoch 12/20\n",
            "958/958 [==============================] - 8s 8ms/step - loss: 1.3084 - val_loss: 8.4036\n",
            "Epoch 13/20\n",
            "958/958 [==============================] - 8s 8ms/step - loss: 1.2659 - val_loss: 8.5422\n",
            "Epoch 14/20\n",
            "958/958 [==============================] - 8s 8ms/step - loss: 1.2249 - val_loss: 8.5829\n",
            "Epoch 15/20\n",
            "958/958 [==============================] - 8s 8ms/step - loss: 1.1842 - val_loss: 8.7081\n",
            "Epoch 16/20\n",
            "958/958 [==============================] - 8s 8ms/step - loss: 1.1510 - val_loss: 8.8055\n",
            "Epoch 17/20\n",
            "958/958 [==============================] - 8s 8ms/step - loss: 1.1123 - val_loss: 8.9142\n",
            "Epoch 18/20\n",
            "958/958 [==============================] - 8s 8ms/step - loss: 1.0808 - val_loss: 8.9854\n",
            "Epoch 19/20\n",
            "958/958 [==============================] - 8s 8ms/step - loss: 1.0477 - val_loss: 9.0895\n",
            "Epoch 20/20\n",
            "958/958 [==============================] - 8s 8ms/step - loss: 1.0172 - val_loss: 9.1556\n"
          ],
          "name": "stdout"
        },
        {
          "output_type": "display_data",
          "data": {
            "image/png": "[encoded data removed]",
            "text/plain": [
              "<Figure size 432x288 with 1 Axes>"
            ]
          },
          "metadata": {
            "tags": [],
            "needs_background": "light"
          }
        },
        {
          "output_type": "stream",
          "text": [
            "/usr/local/lib/python3.7/dist-packages/tensorflow/python/keras/engine/sequential.py:425: UserWarning: `model.predict_proba()` is deprecated and will be removed after 2021-01-01. Please use `model.predict()` instead.\n",
            "  warnings.warn('`model.predict_proba()` is deprecated and '\n"
          ],
          "name": "stderr"
        },
        {
          "output_type": "stream",
          "text": [
            "forgive my all got if the ive these girl the all the only to without night to my her got drums it wed out your fall oh anytime the pum will weve i out that that this boys another it with i falling no for me we come and to just me anytime the hair your should fought oh youre if the comin the i shit the guy eyes make the should be man falling see a have lick will in i tonight in in with where to hard and for the late its its girl dont thinking not space cant take my all life love love to was from my tell game it one light oh to all that the cause again how how know know know know dont never find if this again ooh help all could live to right youre with up im i listen in i take in can for side and i but down for the comes and why i youve i with lose find they part i all the through to i something and to waiting make of in not the lookin what me by a been been before they ooh i do say the two your all a found a loving here mean its he this listen and time cant because fly like be breeze a think be be not night kid make im walked if the go to cut me to in dancing to another think the gotta take my will what on in the spend will right on i shot are im open want its will on that to in a hurt gonna right give the in i life real im see and be with the only all to our youre im me with the havent the watching your win to on baby a your god one night ill on in me love it somebody be mean them away dont us i but the have will then to time day once to time to i about of eof\n"
          ],
          "name": "stdout"
        }
      ]
    },
    {
      "cell_type": "code",
      "metadata": {
        "id": "5H7eN736nuUq"
      },
      "source": [
        "def generate_text(seed_text, eof, model, max_sequence_len, vocab_size):\n",
        "    next_word = \"\"\n",
        "    word_indices = np.arange(vocab_size) + 1\n",
        "    while next_word != eof:\n",
        "        token_list = tokenize.texts_to_sequences([seed_text])[0]\n",
        "        token_list = pad_sequences([token_list], maxlen=max_sequence_len-1, padding='pre')\n",
        "        predicted_proba = model.model.predict_proba(token_list, verbose=0)\n",
        "        # print(predicted_proba.reshape((predicted_proba.shape[1])).shape)\n",
        "        # sample the word index acording to predicted proba\n",
        "        chosen_index = np.random.choice(word_indices ,1 ,replace=False, p=predicted_proba.reshape((predicted_proba.shape[1])))\n",
        "\n",
        "        \n",
        "        next_word = \"\"\n",
        "        for word, index in tokenize.word_index.items():\n",
        "            if index == chosen_index:     \n",
        "                next_word = word\n",
        "                # print(next_word)\n",
        "                break\n",
        "        seed_text += \" \" + next_word\n",
        "    return seed_text"
      ],
      "execution_count": null,
      "outputs": []
    },
    {
      "cell_type": "code",
      "metadata": {
        "id": "rMitghcqkXWj",
        "colab": {
          "base_uri": "https://localhost:8080/"
        },
        "outputId": "e1077bd4-b713-4b9b-82df-da2695070881"
      },
      "source": [
        "print(generate_text('forgive' , \"eof\" , lyrics_generator , max_sequence_len, total_words))"
      ],
      "execution_count": null,
      "outputs": [
        {
          "output_type": "stream",
          "text": [
            "/usr/local/lib/python3.7/dist-packages/tensorflow/python/keras/engine/sequential.py:425: UserWarning: `model.predict_proba()` is deprecated and will be removed after 2021-01-01. Please use `model.predict()` instead.\n",
            "  warnings.warn('`model.predict_proba()` is deprecated and '\n"
          ],
          "name": "stderr"
        },
        {
          "output_type": "stream",
          "text": [
            "forgive lover its if i manic your o ba across i number bells and each in that ask do find three move to miss will he hurl and drank can money im its me be even naturally thats in up know di bad feel that anytime summer make think feel apart give my world ever way what about of help my tell your girls and to some waterloo cant the simon call need the should of im they warm like me leavin im he before icy can for the wondering are that know eof\n"
          ],
          "name": "stdout"
        }
      ]
    }
  ]
}