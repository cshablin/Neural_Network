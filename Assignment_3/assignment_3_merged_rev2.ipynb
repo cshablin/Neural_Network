{
  "nbformat": 4,
  "nbformat_minor": 0,
  "metadata": {
    "colab": {
      "name": "assignment_3_merged.ipynb",
      "provenance": [],
      "collapsed_sections": []
    },
    "kernelspec": {
      "name": "python3",
      "display_name": "Python 3"
    },
    "language_info": {
      "name": "python"
    },
    "accelerator": "GPU"
  },
  "cells": [
    {
      "cell_type": "code",
      "metadata": {
        "id": "IytrQ6yvX0x4"
      },
      "source": [
        "import numpy as np\n",
        "import random\n",
        "from keras import callbacks\n",
        "from keras.callbacks import History\n",
        "from keras.layers.recurrent import LSTM\n",
        "from keras.layers.embeddings import Embedding\n",
        "from keras.models import Sequential, Model\n",
        "from keras.layers import Dense, Dropout, Input, concatenate\n",
        "from keras.preprocessing.text import Tokenizer\n",
        "from keras.preprocessing.sequence import pad_sequences\n",
        "from keras import utils\n",
        "import string\n",
        "from typing import List, Tuple\n",
        "import re\n",
        "\n",
        "random.seed(10)\n",
        "np.random.seed(10)"
      ],
      "execution_count": 1,
      "outputs": []
    },
    {
      "cell_type": "code",
      "metadata": {
        "id": "wdcFOmChYPtm"
      },
      "source": [
        "import pandas as pd\n",
        "from pandas import DataFrame\n",
        "\n",
        "\n",
        "def load_lyrics(csv_path: str) -> DataFrame:\n",
        "    df = pd.read_csv(csv_path, sep='\\n', header=None)\n",
        "    res = df.iloc[:, 0].str.rstrip(r'&, ').str.extract(r'([^,]+),([^,]+),(.+)')\n",
        "    res.columns = ['artist', 'title', 'lyrics']\n",
        "    return res\n",
        "\n",
        "def load_songs(path) -> List[str]:\n",
        "    df = load_lyrics(path)\n",
        "    for i, song in enumerate(list(df['lyrics'])):\n",
        "\n",
        "        song += \" EOF\"\n",
        "        # remove '(*)'\n",
        "        modified_song = re.sub(r\"\\([^()]*\\)\", \"\", song)\n",
        "        modified_song = modified_song.replace(\"chorus\", \"\").lower()\n",
        "        # modified_song = modified_song.replace(\"chorus\", \"\").replace(\"&\", \"silencio\").lower()\n",
        "        # modified_song = modified_song.replace(\"&\", \"silencio\").lower()\n",
        "        regex = re.compile('[%s]' % re.escape(string.punctuation.replace('&', '')))\n",
        "        modified_song = regex.sub('', modified_song)\n",
        "        # songs.append(modified_song)\n",
        "\n",
        "        # song += \" EOF\"\n",
        "        # modified_song = re.sub(r\"\\([^()]*\\)\", \"\", song)\n",
        "        # modified_song = re.sub(r\"\\([^()]*\\)\", \"\", song)\n",
        "        # modified_song = modified_song.replace(\"chorus\", \"\").lower()\n",
        "        # # modified_song = modified_song.replace(\"chorus\", \"\").replace(\"&\", \"silencio\").lower()\n",
        "        # regex = re.compile('[%s]' % re.escape(string.punctuation.replace(\"&\", \"\")))\n",
        "        # modified_song = regex.sub('', modified_song)\n",
        "        df.loc[i, 'lyrics'] = modified_song\n",
        "    return df"
      ],
      "execution_count": 2,
      "outputs": []
    },
    {
      "cell_type": "code",
      "metadata": {
        "id": "DdQYtAOFYchM"
      },
      "source": [
        "def create_x_y(songs, tokenize, total_words, max_len) -> Tuple[np.ndarray, np.ndarray]:\n",
        "    input_sequences = []\n",
        "    midi_meta = []\n",
        "    for index, row in songs.iterrows():\n",
        "      line = row['lyrics']\n",
        "    # for line in songs:\n",
        "      token_list = tokenize.texts_to_sequences([line])[0]\n",
        "      midi_metadata = row.drop(['artist', 'title', 'lyrics', 'filename']).values\n",
        "      for i in range(1, len(token_list)):\n",
        "          n_gram_sequence = token_list[:i + 1]\n",
        "          input_sequences.append(n_gram_sequence)\n",
        "          midi_meta.append(midi_metadata)\n",
        "    print(input_sequences[:10])\n",
        "    # max_sequence_len = max([len(x) for x in input_sequences])\n",
        "    input_sequences = np.array(pad_sequences(input_sequences, maxlen=max_len, padding='pre'))\n",
        "    x = input_sequences[:, :-1]\n",
        "    x_midi = np.array(midi_meta)\n",
        "    y = input_sequences[:, -1]\n",
        "    y = utils.to_categorical(y, num_classes=total_words)\n",
        "    return x, x_midi, y #, max_sequence_len\n",
        "\n",
        "def split_df_to_train_val(df, ratio):\n",
        "    mask = np.random.rand(len(df)) < ratio\n",
        "    df_train = df[mask]\n",
        "    df_val = df[~mask]\n",
        "    return df_train, df_val"
      ],
      "execution_count": 3,
      "outputs": []
    },
    {
      "cell_type": "code",
      "metadata": {
        "id": "JvcE5N-OYGtA"
      },
      "source": [
        "class LyricsGenerator(object):\n",
        "\n",
        "    def __init__(self, embedding_dim: int, vocab_size: int, input_size: int, midi_features_size: int, embedding_matrix: np.ndarray):\n",
        "        input_lyrics = Input(shape=(input_size,))\n",
        "        embedding_layer = Embedding(\n",
        "            vocab_size,\n",
        "            embedding_dim,\n",
        "            input_length=input_size,\n",
        "            weights=[embedding_matrix],\n",
        "            # embeddings_initializer=initializers.Constant(embedding_matrix),\n",
        "            trainable=True,\n",
        "        )(input_lyrics)\n",
        "        lstm = LSTM(units=embedding_dim)(embedding_layer)\n",
        "        lyrics_model = Dropout(0.2)(lstm)\n",
        "\n",
        "        input_midi =  Input(shape=(midi_features_size,))\n",
        "        midi_model = Dense(50, activation='relu')(input_midi)\n",
        "        midi_model = Dense(10, activation='relu')(midi_model)\n",
        "\n",
        "        final_model_1 = concatenate([lyrics_model, midi_model])\n",
        "        final_model = Dense(units=vocab_size, activation='softmax')(final_model_1)\n",
        "        self.model = Model(inputs=[input_lyrics, input_midi], outputs=final_model)\n",
        "        self.model.compile(optimizer='adam', loss='categorical_crossentropy', metrics=['accuracy'])\n",
        "        self.model.summary()\n",
        "\n",
        "    def fit(self, x, y, hyper_parameters):\n",
        "        callback = callbacks.EarlyStopping(monitor='loss', patience=3)\n",
        "        callback2 = callbacks.LearningRateScheduler(self._lr_scheduler)\n",
        "        # callback3 = callbacks.ModelCheckpoint('lyrics_model.h5', save_best_only=True, monitor='val_loss', mode='min')\n",
        "        # callback = callbacks.EarlyStopping(monitor='val_accuracy', mode='max', min_delta=1)\n",
        "        # history = self.model.fit(x, y, epochs=100, verbose=1)\n",
        "        history = self.model.fit(x, y, batch_size=hyper_parameters['batch_size'], epochs=hyper_parameters['epochs'],\n",
        "                                 callbacks=[callback],\n",
        "                                 # callbacks=[callback, callback2],\n",
        "                                 verbose=1, validation_split=hyper_parameters['validation_split'],\n",
        "                                 validation_data=hyper_parameters['val_data'])\n",
        "        self.model.save('lyrics_model.h5')\n",
        "        \n",
        "        return history\n",
        "\n",
        "    def _lr_scheduler(self, epoch, lr):\n",
        "        return 0.95 * lr\n",
        "\n",
        "    def evaluate(self, x, y):\n",
        "        predictions = self.model.evaluate(x, y)\n",
        "        return predictions\n",
        "\n",
        "    # to get a picture of loss progress.\n",
        "    def plot_metric(self, history: History, metric: str = 'loss') -> None:\n",
        "        import matplotlib.pyplot as plt\n",
        "        train_metrics = history.history[metric]\n",
        "        val_metrics = history.history['val_'+metric]\n",
        "        epochs = range(1, len(train_metrics) + 1)\n",
        "        plt.plot(epochs, train_metrics)\n",
        "        plt.plot(epochs, val_metrics)\n",
        "        plt.title('Training and validation '+ metric)\n",
        "        plt.xlabel(\"Epochs\")\n",
        "        plt.ylabel(metric)\n",
        "        plt.legend([\"train_\"+metric, 'val_'+metric])\n",
        "        plt.show()"
      ],
      "execution_count": 4,
      "outputs": []
    },
    {
      "cell_type": "code",
      "metadata": {
        "colab": {
          "base_uri": "https://localhost:8080/"
        },
        "id": "TouTqfYeaKTl",
        "outputId": "4d38fd0f-d987-4f82-f3e2-e2c3239148c9"
      },
      "source": [
        "from google.colab import drive\n",
        "drive.mount('/content/drive')"
      ],
      "execution_count": 5,
      "outputs": [
        {
          "output_type": "stream",
          "text": [
            "Drive already mounted at /content/drive; to attempt to forcibly remount, call drive.mount(\"/content/drive\", force_remount=True).\n"
          ],
          "name": "stdout"
        }
      ]
    },
    {
      "cell_type": "code",
      "metadata": {
        "id": "xglCv7oi-qgh"
      },
      "source": [
        "df_songs = load_songs('/content/drive/MyDrive/DL/Assignment_3/Lyrics/lyrics_train_set.csv')"
      ],
      "execution_count": 6,
      "outputs": []
    },
    {
      "cell_type": "code",
      "metadata": {
        "colab": {
          "base_uri": "https://localhost:8080/",
          "height": 88
        },
        "id": "EZW78-K-GLU9",
        "outputId": "9484858f-295f-4a58-e8f1-94b947b192f2"
      },
      "source": [
        "df_songs['lyrics'][0]"
      ],
      "execution_count": 7,
      "outputs": [
        {
          "output_type": "execute_result",
          "data": {
            "application/vnd.google.colaboratory.intrinsic+json": {
              "type": "string"
            },
            "text/plain": [
              "'goodbye norma jean & though i never knew you at all & you had the grace to hold yourself & while those around you crawled & they crawled out of the woodwork & and they whispered into your brain & they set you on the treadmill & and they made you change your name & and it seems to me you lived your life & like a candle in the wind & never knowing who to cling to & when the rain set in & and i would liked to have known you & but i was just a kid & your candle burned out long before & your legend ever did & loneliness was tough & the toughest role you ever played & hollywood created a superstar & and pain was the price you paid & even when you died & oh the press still hounded you & all the papers had to say & was that marilyn was found in the nude & and it seems to me you lived your life & like a candle in the wind & never knowing who to cling to & when the rain set in & and i would liked to have known you & but i was just a kid & your candle burned out long before & your legend ever did & goodbye norma jean & though i never knew you at all & you had the grace to hold yourself & while those around you crawled & goodbye norma jean & from the young man in the twenty second row & who sees you as something as more than sexual & more than just our marilyn monroe & and it seems to me you lived your life & like a candle in the wind & never knowing who to cling to & when the rain set in & and i would liked to have known you & but i was just a kid & your candle burned out long before & your legend ever did & the candle burned out long before & your legend ever did eof'"
            ]
          },
          "metadata": {
            "tags": []
          },
          "execution_count": 7
        }
      ]
    },
    {
      "cell_type": "code",
      "metadata": {
        "id": "0K5WyFoc-v3O"
      },
      "source": [
        "import zipfile\n",
        "with zipfile.ZipFile('/content/drive/MyDrive/DL/Assignment_3/midi_files.zip',\"r\") as zip_ref:\n",
        "  zip_ref.extractall(\"temp_dir\")"
      ],
      "execution_count": 8,
      "outputs": []
    },
    {
      "cell_type": "code",
      "metadata": {
        "colab": {
          "base_uri": "https://localhost:8080/"
        },
        "id": "IKEeeD6G-w73",
        "outputId": "fa27dfe8-3822-48ee-eea8-005447d8a727"
      },
      "source": [
        "!pip install MIDIFile"
      ],
      "execution_count": 9,
      "outputs": [
        {
          "output_type": "stream",
          "text": [
            "Requirement already satisfied: MIDIFile in /usr/local/lib/python3.7/dist-packages (0.1.0)\n"
          ],
          "name": "stdout"
        }
      ]
    },
    {
      "cell_type": "code",
      "metadata": {
        "colab": {
          "base_uri": "https://localhost:8080/"
        },
        "id": "CV97gC7I-ysO",
        "outputId": "260e08d3-3198-4988-e72e-be2cc21fdc00"
      },
      "source": [
        "from os import listdir\n",
        "from MIDI import MIDIFile\n",
        "\n",
        "\n",
        "files_in_dir = [f for f in listdir(\"temp_dir/midi_files\") if re.match('.*\\.mid', f)]\n",
        "df_midi = pd.DataFrame(columns=['filename', 'numerator', 'denominator', 'clocksPerTick', 'demisemiquaverPer24Clocks', 'key', 'mode', 'tempo'])\n",
        "def parse(file):\n",
        "    c=MIDIFile(file)\n",
        "    c.parse()\n",
        "    numerator = denominator = clocksPerTick = demisemiquaverPer24Clocks = -1\n",
        "    key = mode = 'unknown'\n",
        "    tempo = -1\n",
        "    for idx, track in enumerate(c):\n",
        "        track.parse()\n",
        "        data = str(track)\n",
        "        if 'Time Signature -> ' in data and numerator == -1:\n",
        "          t_s = data.split('Time Signature -> ')[1].split('\\n',1)[0].split(\" \")\n",
        "          numerator = t_s[0].split(\"numerator=\")[1]\n",
        "          denominator = t_s[1].split(\"denominator=\")[1]\n",
        "          clocksPerTick = t_s[2].split(\"clocksPerTick=\")[1]\n",
        "          demisemiquaverPer24Clocks = t_s[3].split(\"demisemiquaverPer24Clocks=\")[1]\n",
        "\n",
        "        if 'Key Signature -> ' in data and key == 'unknown':\n",
        "          k_s = data.split('Key Signature -> ')[1].split('\\n',1)[0].split(\" \")\n",
        "          key = k_s[0].split(\"key=\")[1]\n",
        "          mode = k_s[1].split(\"mode=\")[1]\n",
        "\n",
        "        if 'Set Tempo -> tempo=' in data and tempo == -1:\n",
        "          tempo = data.split('Set Tempo -> tempo=')[1].split('\\n',1)[0]\n",
        "    \n",
        "    return numerator,denominator,clocksPerTick,demisemiquaverPer24Clocks,key,mode,tempo #str(track)\n",
        "for i, f in enumerate(files_in_dir):\n",
        "\n",
        "    try:\n",
        "      numerator,denominator,clocksPerTick,demisemiquaverPer24Clocks,key,mode,tempo = parse(\"temp_dir/midi_files/\" + f)\n",
        "    except UnicodeDecodeError as e:\n",
        "      continue\n",
        "    \n",
        "    print(f'n {numerator} d {denominator} cpt {clocksPerTick} dp24c {demisemiquaverPer24Clocks}')\n",
        "    print(f'key {key} mode {mode} tempo {tempo}')\n",
        "    df_tmp = pd.DataFrame([[f.lower(),numerator,denominator,clocksPerTick,demisemiquaverPer24Clocks,key,mode,tempo ]], columns=['filename', 'numerator', 'denominator', 'clocksPerTick', 'demisemiquaverPer24Clocks', 'key', 'mode', 'tempo'])\n",
        "    df_midi= pd.concat([df_midi, df_tmp])"
      ],
      "execution_count": 10,
      "outputs": [
        {
          "output_type": "stream",
          "text": [
            "Traceback (most recent call last):\n",
            "  File \"/usr/local/lib/python3.7/dist-packages/MIDI/chunks/track.py\", line 37, in parse\n",
            "    event = MIDIEvent(time,self.buffer)\n",
            "  File \"/usr/local/lib/python3.7/dist-packages/MIDI/Events/midi.py\", line 43, in __init__\n",
            "    length = len(self.message) if self.message else 0\n",
            "TypeError: 'method' object cannot be interpreted as an integer\n",
            "Traceback (most recent call last):\n",
            "  File \"/usr/local/lib/python3.7/dist-packages/MIDI/chunks/track.py\", line 30, in parse\n",
            "    eventType=self.buffer[0]\n",
            "IndexError: index out of range\n"
          ],
          "name": "stderr"
        },
        {
          "output_type": "stream",
          "text": [
            "n 4 d 4 cpt 24 dp24c 8\n",
            "key C mode major tempo 126.31584\n",
            "n 4 d 4 cpt 24 dp24c 8\n",
            "key C mode major tempo 173.34768\n",
            "n 4 d 4 cpt 24 dp24c 8\n",
            "key C mode major tempo 134.57952\n",
            "n 2 d 4 cpt 24 dp24c 8\n",
            "key C mode major tempo 120.0\n"
          ],
          "name": "stdout"
        },
        {
          "output_type": "stream",
          "text": [
            "Traceback (most recent call last):\n",
            "  File \"/usr/local/lib/python3.7/dist-packages/MIDI/chunks/track.py\", line 37, in parse\n",
            "    event = MIDIEvent(time,self.buffer)\n",
            "  File \"/usr/local/lib/python3.7/dist-packages/MIDI/Events/midi.py\", line 43, in __init__\n",
            "    length = len(self.message) if self.message else 0\n",
            "TypeError: 'method' object cannot be interpreted as an integer\n"
          ],
          "name": "stderr"
        },
        {
          "output_type": "stream",
          "text": [
            "n 4 d 4 cpt 24 dp24c 8\n",
            "key C mode major tempo 141.1764\n",
            "n 2 d 4 cpt 96 dp24c 8\n",
            "key B mode major tempo 130.90896\n",
            "n -1 d -1 cpt -1 dp24c -1\n",
            "key C mode major tempo 173.49408\n"
          ],
          "name": "stdout"
        },
        {
          "output_type": "stream",
          "text": [
            "Traceback (most recent call last):\n",
            "  File \"/usr/local/lib/python3.7/dist-packages/MIDI/chunks/track.py\", line 30, in parse\n",
            "    eventType=self.buffer[0]\n",
            "IndexError: index out of range\n"
          ],
          "name": "stderr"
        },
        {
          "output_type": "stream",
          "text": [
            "n -1 d -1 cpt -1 dp24c -1\n",
            "key C mode major tempo 138.46152\n",
            "n -1 d -1 cpt -1 dp24c -1\n",
            "key unknown mode unknown tempo 169.41168\n",
            "n -1 d -1 cpt -1 dp24c -1\n",
            "key unknown mode unknown tempo 97.95912\n"
          ],
          "name": "stdout"
        },
        {
          "output_type": "stream",
          "text": [
            "Traceback (most recent call last):\n",
            "  File \"/usr/local/lib/python3.7/dist-packages/MIDI/chunks/track.py\", line 33, in parse\n",
            "    event = MetaEvent(time,self.buffer)\n",
            "  File \"/usr/local/lib/python3.7/dist-packages/MIDI/Events/meta.py\", line 75, in __init__\n",
            "    self.attributes = self.message.attributes(self.data)\n",
            "  File \"/usr/local/lib/python3.7/dist-packages/MIDI/Events/meta.py\", line 55, in attributes\n",
            "    return OrderedDict(key=self.key(_bytes[0]),mode=mode)\n",
            "  File \"/usr/local/lib/python3.7/dist-packages/MIDI/Events/meta.py\", line 31, in key\n",
            "    return ['C','G','D','A','E','B','F#','C#'][n]\n",
            "IndexError: list index out of range\n"
          ],
          "name": "stderr"
        },
        {
          "output_type": "stream",
          "text": [
            "n 4 d 4 cpt 24 dp24c 8\n",
            "key unknown mode unknown tempo 130.90896\n",
            "n 3 d 4 cpt 24 dp24c 8\n",
            "key C mode major tempo 79.99992\n",
            "n -1 d -1 cpt -1 dp24c -1\n",
            "key unknown mode unknown tempo 120.0\n"
          ],
          "name": "stdout"
        },
        {
          "output_type": "stream",
          "text": [
            "Traceback (most recent call last):\n",
            "  File \"/usr/local/lib/python3.7/dist-packages/MIDI/chunks/track.py\", line 37, in parse\n",
            "    event = MIDIEvent(time,self.buffer)\n",
            "  File \"/usr/local/lib/python3.7/dist-packages/MIDI/Events/midi.py\", line 43, in __init__\n",
            "    length = len(self.message) if self.message else 0\n",
            "TypeError: 'method' object cannot be interpreted as an integer\n",
            "Traceback (most recent call last):\n",
            "  File \"/usr/local/lib/python3.7/dist-packages/MIDI/chunks/track.py\", line 37, in parse\n",
            "    event = MIDIEvent(time,self.buffer)\n",
            "  File \"/usr/local/lib/python3.7/dist-packages/MIDI/Events/midi.py\", line 43, in __init__\n",
            "    length = len(self.message) if self.message else 0\n",
            "TypeError: 'method' object cannot be interpreted as an integer\n",
            "Traceback (most recent call last):\n",
            "  File \"/usr/local/lib/python3.7/dist-packages/MIDI/chunks/track.py\", line 30, in parse\n",
            "    eventType=self.buffer[0]\n",
            "IndexError: index out of range\n"
          ],
          "name": "stderr"
        },
        {
          "output_type": "stream",
          "text": [
            "n 4 d 4 cpt 24 dp24c 8\n",
            "key D mode major tempo 108.27072\n",
            "n -1 d -1 cpt -1 dp24c -1\n",
            "key unknown mode unknown tempo -1\n"
          ],
          "name": "stdout"
        },
        {
          "output_type": "stream",
          "text": [
            "Traceback (most recent call last):\n",
            "  File \"/usr/local/lib/python3.7/dist-packages/MIDI/chunks/track.py\", line 33, in parse\n",
            "    event = MetaEvent(time,self.buffer)\n",
            "  File \"/usr/local/lib/python3.7/dist-packages/MIDI/Events/meta.py\", line 75, in __init__\n",
            "    self.attributes = self.message.attributes(self.data)\n",
            "  File \"/usr/local/lib/python3.7/dist-packages/MIDI/Events/meta.py\", line 55, in attributes\n",
            "    return OrderedDict(key=self.key(_bytes[0]),mode=mode)\n",
            "  File \"/usr/local/lib/python3.7/dist-packages/MIDI/Events/meta.py\", line 31, in key\n",
            "    return ['C','G','D','A','E','B','F#','C#'][n]\n",
            "IndexError: list index out of range\n"
          ],
          "name": "stderr"
        },
        {
          "output_type": "stream",
          "text": [
            "n -1 d -1 cpt -1 dp24c -1\n",
            "key C mode major tempo -1\n",
            "n 4 d 4 cpt 24 dp24c 8\n",
            "key D mode major tempo 121.00848\n",
            "n 4 d 4 cpt 24 dp24c 8\n",
            "key C mode major tempo 96.0\n",
            "n -1 d -1 cpt -1 dp24c -1\n",
            "key C mode major tempo 104.34768\n"
          ],
          "name": "stdout"
        },
        {
          "output_type": "stream",
          "text": [
            "Traceback (most recent call last):\n",
            "  File \"/usr/local/lib/python3.7/dist-packages/MIDI/chunks/track.py\", line 33, in parse\n",
            "    event = MetaEvent(time,self.buffer)\n",
            "  File \"/usr/local/lib/python3.7/dist-packages/MIDI/Events/meta.py\", line 75, in __init__\n",
            "    self.attributes = self.message.attributes(self.data)\n",
            "  File \"/usr/local/lib/python3.7/dist-packages/MIDI/Events/meta.py\", line 55, in attributes\n",
            "    return OrderedDict(key=self.key(_bytes[0]),mode=mode)\n",
            "  File \"/usr/local/lib/python3.7/dist-packages/MIDI/Events/meta.py\", line 31, in key\n",
            "    return ['C','G','D','A','E','B','F#','C#'][n]\n",
            "IndexError: list index out of range\n",
            "Traceback (most recent call last):\n",
            "  File \"/usr/local/lib/python3.7/dist-packages/MIDI/chunks/track.py\", line 33, in parse\n",
            "    event = MetaEvent(time,self.buffer)\n",
            "  File \"/usr/local/lib/python3.7/dist-packages/MIDI/Events/meta.py\", line 75, in __init__\n",
            "    self.attributes = self.message.attributes(self.data)\n",
            "  File \"/usr/local/lib/python3.7/dist-packages/MIDI/Events/meta.py\", line 55, in attributes\n",
            "    return OrderedDict(key=self.key(_bytes[0]),mode=mode)\n",
            "  File \"/usr/local/lib/python3.7/dist-packages/MIDI/Events/meta.py\", line 31, in key\n",
            "    return ['C','G','D','A','E','B','F#','C#'][n]\n",
            "IndexError: list index out of range\n",
            "Traceback (most recent call last):\n",
            "  File \"/usr/local/lib/python3.7/dist-packages/MIDI/chunks/track.py\", line 33, in parse\n",
            "    event = MetaEvent(time,self.buffer)\n",
            "  File \"/usr/local/lib/python3.7/dist-packages/MIDI/Events/meta.py\", line 75, in __init__\n",
            "    self.attributes = self.message.attributes(self.data)\n",
            "  File \"/usr/local/lib/python3.7/dist-packages/MIDI/Events/meta.py\", line 55, in attributes\n",
            "    return OrderedDict(key=self.key(_bytes[0]),mode=mode)\n",
            "  File \"/usr/local/lib/python3.7/dist-packages/MIDI/Events/meta.py\", line 31, in key\n",
            "    return ['C','G','D','A','E','B','F#','C#'][n]\n",
            "IndexError: list index out of range\n",
            "Traceback (most recent call last):\n",
            "  File \"/usr/local/lib/python3.7/dist-packages/MIDI/chunks/track.py\", line 33, in parse\n",
            "    event = MetaEvent(time,self.buffer)\n",
            "  File \"/usr/local/lib/python3.7/dist-packages/MIDI/Events/meta.py\", line 75, in __init__\n",
            "    self.attributes = self.message.attributes(self.data)\n",
            "  File \"/usr/local/lib/python3.7/dist-packages/MIDI/Events/meta.py\", line 55, in attributes\n",
            "    return OrderedDict(key=self.key(_bytes[0]),mode=mode)\n",
            "  File \"/usr/local/lib/python3.7/dist-packages/MIDI/Events/meta.py\", line 31, in key\n",
            "    return ['C','G','D','A','E','B','F#','C#'][n]\n",
            "IndexError: list index out of range\n",
            "Traceback (most recent call last):\n",
            "  File \"/usr/local/lib/python3.7/dist-packages/MIDI/chunks/track.py\", line 33, in parse\n",
            "    event = MetaEvent(time,self.buffer)\n",
            "  File \"/usr/local/lib/python3.7/dist-packages/MIDI/Events/meta.py\", line 75, in __init__\n",
            "    self.attributes = self.message.attributes(self.data)\n",
            "  File \"/usr/local/lib/python3.7/dist-packages/MIDI/Events/meta.py\", line 55, in attributes\n",
            "    return OrderedDict(key=self.key(_bytes[0]),mode=mode)\n",
            "  File \"/usr/local/lib/python3.7/dist-packages/MIDI/Events/meta.py\", line 31, in key\n",
            "    return ['C','G','D','A','E','B','F#','C#'][n]\n",
            "IndexError: list index out of range\n",
            "Traceback (most recent call last):\n",
            "  File \"/usr/local/lib/python3.7/dist-packages/MIDI/chunks/track.py\", line 33, in parse\n",
            "    event = MetaEvent(time,self.buffer)\n",
            "  File \"/usr/local/lib/python3.7/dist-packages/MIDI/Events/meta.py\", line 75, in __init__\n",
            "    self.attributes = self.message.attributes(self.data)\n",
            "  File \"/usr/local/lib/python3.7/dist-packages/MIDI/Events/meta.py\", line 55, in attributes\n",
            "    return OrderedDict(key=self.key(_bytes[0]),mode=mode)\n",
            "  File \"/usr/local/lib/python3.7/dist-packages/MIDI/Events/meta.py\", line 31, in key\n",
            "    return ['C','G','D','A','E','B','F#','C#'][n]\n",
            "IndexError: list index out of range\n",
            "Traceback (most recent call last):\n",
            "  File \"/usr/local/lib/python3.7/dist-packages/MIDI/chunks/track.py\", line 33, in parse\n",
            "    event = MetaEvent(time,self.buffer)\n",
            "  File \"/usr/local/lib/python3.7/dist-packages/MIDI/Events/meta.py\", line 75, in __init__\n",
            "    self.attributes = self.message.attributes(self.data)\n",
            "  File \"/usr/local/lib/python3.7/dist-packages/MIDI/Events/meta.py\", line 55, in attributes\n",
            "    return OrderedDict(key=self.key(_bytes[0]),mode=mode)\n",
            "  File \"/usr/local/lib/python3.7/dist-packages/MIDI/Events/meta.py\", line 31, in key\n",
            "    return ['C','G','D','A','E','B','F#','C#'][n]\n",
            "IndexError: list index out of range\n",
            "Traceback (most recent call last):\n",
            "  File \"/usr/local/lib/python3.7/dist-packages/MIDI/chunks/track.py\", line 33, in parse\n",
            "    event = MetaEvent(time,self.buffer)\n",
            "  File \"/usr/local/lib/python3.7/dist-packages/MIDI/Events/meta.py\", line 75, in __init__\n",
            "    self.attributes = self.message.attributes(self.data)\n",
            "  File \"/usr/local/lib/python3.7/dist-packages/MIDI/Events/meta.py\", line 55, in attributes\n",
            "    return OrderedDict(key=self.key(_bytes[0]),mode=mode)\n",
            "  File \"/usr/local/lib/python3.7/dist-packages/MIDI/Events/meta.py\", line 31, in key\n",
            "    return ['C','G','D','A','E','B','F#','C#'][n]\n",
            "IndexError: list index out of range\n",
            "Traceback (most recent call last):\n",
            "  File \"/usr/local/lib/python3.7/dist-packages/MIDI/chunks/track.py\", line 33, in parse\n",
            "    event = MetaEvent(time,self.buffer)\n",
            "  File \"/usr/local/lib/python3.7/dist-packages/MIDI/Events/meta.py\", line 75, in __init__\n",
            "    self.attributes = self.message.attributes(self.data)\n",
            "  File \"/usr/local/lib/python3.7/dist-packages/MIDI/Events/meta.py\", line 55, in attributes\n",
            "    return OrderedDict(key=self.key(_bytes[0]),mode=mode)\n",
            "  File \"/usr/local/lib/python3.7/dist-packages/MIDI/Events/meta.py\", line 31, in key\n",
            "    return ['C','G','D','A','E','B','F#','C#'][n]\n",
            "IndexError: list index out of range\n",
            "Traceback (most recent call last):\n",
            "  File \"/usr/local/lib/python3.7/dist-packages/MIDI/chunks/track.py\", line 33, in parse\n",
            "    event = MetaEvent(time,self.buffer)\n",
            "  File \"/usr/local/lib/python3.7/dist-packages/MIDI/Events/meta.py\", line 75, in __init__\n",
            "    self.attributes = self.message.attributes(self.data)\n",
            "  File \"/usr/local/lib/python3.7/dist-packages/MIDI/Events/meta.py\", line 55, in attributes\n",
            "    return OrderedDict(key=self.key(_bytes[0]),mode=mode)\n",
            "  File \"/usr/local/lib/python3.7/dist-packages/MIDI/Events/meta.py\", line 31, in key\n",
            "    return ['C','G','D','A','E','B','F#','C#'][n]\n",
            "IndexError: list index out of range\n"
          ],
          "name": "stderr"
        },
        {
          "output_type": "stream",
          "text": [
            "n -1 d -1 cpt -1 dp24c -1\n",
            "key C mode major tempo -1\n",
            "n 4 d 4 cpt 24 dp24c 8\n",
            "key C mode major tempo 99.95136\n"
          ],
          "name": "stdout"
        },
        {
          "output_type": "stream",
          "text": [
            "Traceback (most recent call last):\n",
            "  File \"/usr/local/lib/python3.7/dist-packages/MIDI/chunks/track.py\", line 37, in parse\n",
            "    event = MIDIEvent(time,self.buffer)\n",
            "  File \"/usr/local/lib/python3.7/dist-packages/MIDI/Events/midi.py\", line 43, in __init__\n",
            "    length = len(self.message) if self.message else 0\n",
            "TypeError: 'method' object cannot be interpreted as an integer\n"
          ],
          "name": "stderr"
        },
        {
          "output_type": "stream",
          "text": [
            "n -1 d -1 cpt -1 dp24c -1\n",
            "key C mode major tempo 221.53848\n",
            "n -1 d -1 cpt -1 dp24c -1\n",
            "key C mode major tempo 90.0\n",
            "n 4 d 4 cpt 24 dp24c 8\n",
            "key C mode major tempo 151.57896\n"
          ],
          "name": "stdout"
        },
        {
          "output_type": "stream",
          "text": [
            "Traceback (most recent call last):\n",
            "  File \"/usr/local/lib/python3.7/dist-packages/MIDI/chunks/track.py\", line 37, in parse\n",
            "    event = MIDIEvent(time,self.buffer)\n",
            "  File \"/usr/local/lib/python3.7/dist-packages/MIDI/Events/midi.py\", line 43, in __init__\n",
            "    length = len(self.message) if self.message else 0\n",
            "TypeError: 'method' object cannot be interpreted as an integer\n",
            "Traceback (most recent call last):\n",
            "  File \"/usr/local/lib/python3.7/dist-packages/MIDI/chunks/track.py\", line 37, in parse\n",
            "    event = MIDIEvent(time,self.buffer)\n",
            "  File \"/usr/local/lib/python3.7/dist-packages/MIDI/Events/midi.py\", line 43, in __init__\n",
            "    length = len(self.message) if self.message else 0\n",
            "TypeError: 'method' object cannot be interpreted as an integer\n"
          ],
          "name": "stderr"
        },
        {
          "output_type": "stream",
          "text": [
            "n 4 d 4 cpt 24 dp24c 8\n",
            "key G mode major tempo 126.2052\n",
            "n -1 d -1 cpt -1 dp24c -1\n",
            "key C mode major tempo -1\n"
          ],
          "name": "stdout"
        },
        {
          "output_type": "stream",
          "text": [
            "Traceback (most recent call last):\n",
            "  File \"/usr/local/lib/python3.7/dist-packages/MIDI/chunks/track.py\", line 33, in parse\n",
            "    event = MetaEvent(time,self.buffer)\n",
            "  File \"/usr/local/lib/python3.7/dist-packages/MIDI/Events/meta.py\", line 75, in __init__\n",
            "    self.attributes = self.message.attributes(self.data)\n",
            "  File \"/usr/local/lib/python3.7/dist-packages/MIDI/Events/meta.py\", line 55, in attributes\n",
            "    return OrderedDict(key=self.key(_bytes[0]),mode=mode)\n",
            "  File \"/usr/local/lib/python3.7/dist-packages/MIDI/Events/meta.py\", line 31, in key\n",
            "    return ['C','G','D','A','E','B','F#','C#'][n]\n",
            "IndexError: list index out of range\n"
          ],
          "name": "stderr"
        },
        {
          "output_type": "stream",
          "text": [
            "n 4 d 4 cpt 24 dp24c 8\n",
            "key unknown mode unknown tempo -1\n",
            "n 4 d 4 cpt 24 dp24c 8\n",
            "key unknown mode unknown tempo -1\n",
            "n 4 d 4 cpt 24 dp24c 8\n",
            "key unknown mode unknown tempo -1\n"
          ],
          "name": "stdout"
        },
        {
          "output_type": "stream",
          "text": [
            "Traceback (most recent call last):\n",
            "  File \"/usr/local/lib/python3.7/dist-packages/MIDI/chunks/track.py\", line 33, in parse\n",
            "    event = MetaEvent(time,self.buffer)\n",
            "  File \"/usr/local/lib/python3.7/dist-packages/MIDI/Events/meta.py\", line 75, in __init__\n",
            "    self.attributes = self.message.attributes(self.data)\n",
            "  File \"/usr/local/lib/python3.7/dist-packages/MIDI/Events/meta.py\", line 55, in attributes\n",
            "    return OrderedDict(key=self.key(_bytes[0]),mode=mode)\n",
            "  File \"/usr/local/lib/python3.7/dist-packages/MIDI/Events/meta.py\", line 31, in key\n",
            "    return ['C','G','D','A','E','B','F#','C#'][n]\n",
            "IndexError: list index out of range\n",
            "Traceback (most recent call last):\n",
            "  File \"/usr/local/lib/python3.7/dist-packages/MIDI/chunks/track.py\", line 30, in parse\n",
            "    eventType=self.buffer[0]\n",
            "IndexError: index out of range\n"
          ],
          "name": "stderr"
        },
        {
          "output_type": "stream",
          "text": [
            "n -1 d -1 cpt -1 dp24c -1\n",
            "key G mode major tempo 175.60968\n",
            "n -1 d -1 cpt -1 dp24c -1\n",
            "key C mode major tempo 180.0\n"
          ],
          "name": "stdout"
        },
        {
          "output_type": "stream",
          "text": [
            "Traceback (most recent call last):\n",
            "  File \"/usr/local/lib/python3.7/dist-packages/MIDI/chunks/track.py\", line 33, in parse\n",
            "    event = MetaEvent(time,self.buffer)\n",
            "  File \"/usr/local/lib/python3.7/dist-packages/MIDI/Events/meta.py\", line 75, in __init__\n",
            "    self.attributes = self.message.attributes(self.data)\n",
            "  File \"/usr/local/lib/python3.7/dist-packages/MIDI/Events/meta.py\", line 55, in attributes\n",
            "    return OrderedDict(key=self.key(_bytes[0]),mode=mode)\n",
            "  File \"/usr/local/lib/python3.7/dist-packages/MIDI/Events/meta.py\", line 31, in key\n",
            "    return ['C','G','D','A','E','B','F#','C#'][n]\n",
            "IndexError: list index out of range\n"
          ],
          "name": "stderr"
        },
        {
          "output_type": "stream",
          "text": [
            "n 2 d 4 cpt 24 dp24c 8\n",
            "key unknown mode unknown tempo -1\n"
          ],
          "name": "stdout"
        },
        {
          "output_type": "stream",
          "text": [
            "Traceback (most recent call last):\n",
            "  File \"/usr/local/lib/python3.7/dist-packages/MIDI/chunks/track.py\", line 30, in parse\n",
            "    eventType=self.buffer[0]\n",
            "IndexError: index out of range\n"
          ],
          "name": "stderr"
        },
        {
          "output_type": "stream",
          "text": [
            "n 4 d 4 cpt 24 dp24c 8\n",
            "key C mode major tempo 82.28568\n",
            "n -1 d -1 cpt -1 dp24c -1\n",
            "key C mode major tempo 133.33344\n"
          ],
          "name": "stdout"
        },
        {
          "output_type": "stream",
          "text": [
            "Traceback (most recent call last):\n",
            "  File \"/usr/local/lib/python3.7/dist-packages/MIDI/chunks/track.py\", line 37, in parse\n",
            "    event = MIDIEvent(time,self.buffer)\n",
            "  File \"/usr/local/lib/python3.7/dist-packages/MIDI/Events/midi.py\", line 43, in __init__\n",
            "    length = len(self.message) if self.message else 0\n",
            "TypeError: 'method' object cannot be interpreted as an integer\n",
            "Traceback (most recent call last):\n",
            "  File \"/usr/local/lib/python3.7/dist-packages/MIDI/chunks/track.py\", line 37, in parse\n",
            "    event = MIDIEvent(time,self.buffer)\n",
            "  File \"/usr/local/lib/python3.7/dist-packages/MIDI/Events/midi.py\", line 43, in __init__\n",
            "    length = len(self.message) if self.message else 0\n",
            "TypeError: 'method' object cannot be interpreted as an integer\n"
          ],
          "name": "stderr"
        },
        {
          "output_type": "stream",
          "text": [
            "n -1 d -1 cpt -1 dp24c -1\n",
            "key C mode major tempo 120.0\n",
            "n -1 d -1 cpt -1 dp24c -1\n",
            "key unknown mode unknown tempo 102.85704\n",
            "n 4 d 4 cpt 24 dp24c 8\n",
            "key C mode major tempo 165.5172\n"
          ],
          "name": "stdout"
        },
        {
          "output_type": "stream",
          "text": [
            "Traceback (most recent call last):\n",
            "  File \"/usr/local/lib/python3.7/dist-packages/MIDI/chunks/track.py\", line 37, in parse\n",
            "    event = MIDIEvent(time,self.buffer)\n",
            "  File \"/usr/local/lib/python3.7/dist-packages/MIDI/Events/midi.py\", line 43, in __init__\n",
            "    length = len(self.message) if self.message else 0\n",
            "TypeError: 'method' object cannot be interpreted as an integer\n"
          ],
          "name": "stderr"
        },
        {
          "output_type": "stream",
          "text": [
            "n 4 d 4 cpt 24 dp24c 8\n",
            "key C mode major tempo 199.99992\n",
            "n -1 d -1 cpt -1 dp24c -1\n",
            "key unknown mode unknown tempo 115.2\n",
            "n -1 d -1 cpt -1 dp24c -1\n",
            "key C mode major tempo 128.57136\n",
            "n -1 d -1 cpt -1 dp24c -1\n",
            "key C mode major tempo 110.76912\n"
          ],
          "name": "stdout"
        },
        {
          "output_type": "stream",
          "text": [
            "Traceback (most recent call last):\n",
            "  File \"/usr/local/lib/python3.7/dist-packages/MIDI/chunks/track.py\", line 37, in parse\n",
            "    event = MIDIEvent(time,self.buffer)\n",
            "  File \"/usr/local/lib/python3.7/dist-packages/MIDI/Events/midi.py\", line 43, in __init__\n",
            "    length = len(self.message) if self.message else 0\n",
            "TypeError: 'method' object cannot be interpreted as an integer\n",
            "Traceback (most recent call last):\n",
            "  File \"/usr/local/lib/python3.7/dist-packages/MIDI/chunks/track.py\", line 37, in parse\n",
            "    event = MIDIEvent(time,self.buffer)\n",
            "  File \"/usr/local/lib/python3.7/dist-packages/MIDI/Events/midi.py\", line 43, in __init__\n",
            "    length = len(self.message) if self.message else 0\n",
            "TypeError: 'method' object cannot be interpreted as an integer\n"
          ],
          "name": "stderr"
        },
        {
          "output_type": "stream",
          "text": [
            "n -1 d -1 cpt -1 dp24c -1\n",
            "key C mode major tempo 160.00008\n",
            "n -1 d -1 cpt -1 dp24c -1\n",
            "key C mode major tempo -1\n"
          ],
          "name": "stdout"
        },
        {
          "output_type": "stream",
          "text": [
            "Traceback (most recent call last):\n",
            "  File \"/usr/local/lib/python3.7/dist-packages/MIDI/chunks/track.py\", line 37, in parse\n",
            "    event = MIDIEvent(time,self.buffer)\n",
            "  File \"/usr/local/lib/python3.7/dist-packages/MIDI/Events/midi.py\", line 43, in __init__\n",
            "    length = len(self.message) if self.message else 0\n",
            "TypeError: 'method' object cannot be interpreted as an integer\n",
            "Traceback (most recent call last):\n",
            "  File \"/usr/local/lib/python3.7/dist-packages/MIDI/chunks/track.py\", line 37, in parse\n",
            "    event = MIDIEvent(time,self.buffer)\n",
            "  File \"/usr/local/lib/python3.7/dist-packages/MIDI/Events/midi.py\", line 43, in __init__\n",
            "    length = len(self.message) if self.message else 0\n",
            "TypeError: 'method' object cannot be interpreted as an integer\n",
            "Traceback (most recent call last):\n",
            "  File \"/usr/local/lib/python3.7/dist-packages/MIDI/chunks/track.py\", line 37, in parse\n",
            "    event = MIDIEvent(time,self.buffer)\n",
            "  File \"/usr/local/lib/python3.7/dist-packages/MIDI/Events/midi.py\", line 43, in __init__\n",
            "    length = len(self.message) if self.message else 0\n",
            "TypeError: 'method' object cannot be interpreted as an integer\n"
          ],
          "name": "stderr"
        },
        {
          "output_type": "stream",
          "text": [
            "n 4 d 4 cpt 24 dp24c 8\n",
            "key C mode major tempo 214.92528\n",
            "n -1 d -1 cpt -1 dp24c -1\n",
            "key C mode major tempo 142.57416\n",
            "n -1 d -1 cpt -1 dp24c -1\n",
            "key E mode major tempo 102.85704\n",
            "n 4 d 4 cpt 24 dp24c 8\n",
            "key unknown mode unknown tempo 158.2416\n",
            "n -1 d -1 cpt -1 dp24c -1\n",
            "key unknown mode unknown tempo 240.0\n",
            "n -1 d -1 cpt -1 dp24c -1\n",
            "key C mode major tempo 83.72088\n",
            "n -1 d -1 cpt -1 dp24c -1\n",
            "key C mode major tempo 117.07296\n"
          ],
          "name": "stdout"
        },
        {
          "output_type": "stream",
          "text": [
            "Traceback (most recent call last):\n",
            "  File \"/usr/local/lib/python3.7/dist-packages/MIDI/chunks/track.py\", line 30, in parse\n",
            "    eventType=self.buffer[0]\n",
            "IndexError: index out of range\n"
          ],
          "name": "stderr"
        },
        {
          "output_type": "stream",
          "text": [
            "n -1 d -1 cpt -1 dp24c -1\n",
            "key C mode major tempo -1\n",
            "n 4 d 4 cpt 24 dp24c 8\n",
            "key C mode major tempo 120.0\n"
          ],
          "name": "stdout"
        },
        {
          "output_type": "stream",
          "text": [
            "Traceback (most recent call last):\n",
            "  File \"/usr/local/lib/python3.7/dist-packages/MIDI/chunks/track.py\", line 37, in parse\n",
            "    event = MIDIEvent(time,self.buffer)\n",
            "  File \"/usr/local/lib/python3.7/dist-packages/MIDI/Events/midi.py\", line 43, in __init__\n",
            "    length = len(self.message) if self.message else 0\n",
            "TypeError: 'method' object cannot be interpreted as an integer\n"
          ],
          "name": "stderr"
        },
        {
          "output_type": "stream",
          "text": [
            "n -1 d -1 cpt -1 dp24c -1\n",
            "key C mode major tempo 112.5\n",
            "n -1 d -1 cpt -1 dp24c -1\n",
            "key E mode major tempo 156.52176\n",
            "n -1 d -1 cpt -1 dp24c -1\n",
            "key C mode major tempo 120.0\n",
            "n 4 d 4 cpt 24 dp24c 8\n",
            "key C mode major tempo 122.034\n",
            "n 4 d 4 cpt 24 dp24c 8\n",
            "key C mode major tempo 110.76912\n",
            "n 4 d 4 cpt 24 dp24c 8\n",
            "key E mode major tempo 102.85704\n"
          ],
          "name": "stdout"
        },
        {
          "output_type": "stream",
          "text": [
            "Traceback (most recent call last):\n",
            "  File \"/usr/local/lib/python3.7/dist-packages/MIDI/chunks/track.py\", line 30, in parse\n",
            "    eventType=self.buffer[0]\n",
            "IndexError: index out of range\n",
            "Traceback (most recent call last):\n",
            "  File \"/usr/local/lib/python3.7/dist-packages/MIDI/chunks/track.py\", line 30, in parse\n",
            "    eventType=self.buffer[0]\n",
            "IndexError: index out of range\n"
          ],
          "name": "stderr"
        },
        {
          "output_type": "stream",
          "text": [
            "n 4 d 4 cpt 24 dp24c 8\n",
            "key C mode major tempo 102.85704\n",
            "n 4 d 4 cpt 24 dp24c 8\n",
            "key C mode major tempo 128.57136\n",
            "n 4 d 4 cpt 24 dp24c 8\n",
            "key unknown mode unknown tempo 153.16992\n",
            "n 6 d 8 cpt 12 dp24c 8\n",
            "key C mode major tempo 257.14296\n"
          ],
          "name": "stdout"
        },
        {
          "output_type": "stream",
          "text": [
            "Traceback (most recent call last):\n",
            "  File \"/usr/local/lib/python3.7/dist-packages/MIDI/chunks/track.py\", line 37, in parse\n",
            "    event = MIDIEvent(time,self.buffer)\n",
            "  File \"/usr/local/lib/python3.7/dist-packages/MIDI/Events/midi.py\", line 43, in __init__\n",
            "    length = len(self.message) if self.message else 0\n",
            "TypeError: 'method' object cannot be interpreted as an integer\n",
            "Traceback (most recent call last):\n",
            "  File \"/usr/local/lib/python3.7/dist-packages/MIDI/chunks/track.py\", line 37, in parse\n",
            "    event = MIDIEvent(time,self.buffer)\n",
            "  File \"/usr/local/lib/python3.7/dist-packages/MIDI/Events/midi.py\", line 43, in __init__\n",
            "    length = len(self.message) if self.message else 0\n",
            "TypeError: 'method' object cannot be interpreted as an integer\n"
          ],
          "name": "stderr"
        },
        {
          "output_type": "stream",
          "text": [
            "n -1 d -1 cpt -1 dp24c -1\n",
            "key C mode major tempo -1\n",
            "n 4 d 4 cpt 24 dp24c 8\n",
            "key E mode major tempo 180.0\n",
            "n -1 d -1 cpt -1 dp24c -1\n",
            "key unknown mode unknown tempo 108.27048\n",
            "n 2 d 4 cpt 96 dp24c 8\n",
            "key D mode major tempo 169.41168\n",
            "Unknown chunk type \u0000\u0000\u0000\u0000 - skipping\n",
            "Unknown chunk type \u0000\u0000\u0000\u0000 - skipping\n",
            "Unknown chunk type \u0000\u0000\u0000\u0000 - skipping\n",
            "Unknown chunk type \u0000\u0000\u0000\u0000 - skipping\n",
            "Unknown chunk type \u0000\u0000\u0000\u0000 - skipping\n",
            "Unknown chunk type \u0000\u0000\u0000\u0000 - skipping\n",
            "Unknown chunk type \u0000\u0000\u0000\u0000 - skipping\n",
            "Unknown chunk type \u0000\u0000\u0000\u0000 - skipping\n",
            "Unknown chunk type \u0000\u0000\u0000\u0000 - skipping\n",
            "Unknown chunk type \u0000\u0000\u0000\u0000 - skipping\n",
            "Unknown chunk type \u0000\u0000\u0000\u0000 - skipping\n",
            "Unknown chunk type \u0000\u0000\u0000\u0000 - skipping\n",
            "Unknown chunk type \u0000\u0000\u0000\u0000 - skipping\n",
            "Unknown chunk type \u0000\u0000\u0000\u0000 - skipping\n",
            "Unknown chunk type \u0000\u0000\u0000\u0000 - skipping\n",
            "Unknown chunk type \u0000\u0000\u0000\u0000 - skipping\n",
            "Unknown chunk type \u0000\u0000\u0000\u0000 - skipping\n",
            "Unknown chunk type \u0000\u0000\u0000\u0000 - skipping\n",
            "Unknown chunk type \u0000\u0000\u0000\u0000 - skipping\n",
            "Unknown chunk type \u0000\u0000\u0000\u0000 - skipping\n",
            "Unknown chunk type \u0000\u0000\u0000\u0000 - skipping\n",
            "Unknown chunk type \u0000\u0000\u0000\u0000 - skipping\n",
            "Unknown chunk type \u0000\u0000\u0000\u0000 - skipping\n",
            "Unknown chunk type \u0000\u0000\u0000\u0000 - skipping\n",
            "Unknown chunk type \u0000\u0000\u0000\u0000 - skipping\n",
            "Unknown chunk type \u0000\u0000\u0000\u0000 - skipping\n",
            "Unknown chunk type \u0000\u0000\u0000\u0000 - skipping\n",
            "Unknown chunk type \u0000\u0000\u0000\u0000 - skipping\n",
            "Unknown chunk type \u0000\u0000\u0000\u0000 - skipping\n",
            "Unknown chunk type \u0000\u0000\u0000\u0000 - skipping\n",
            "Unknown chunk type \u0000\u0000\u0000\u0000 - skipping\n",
            "Unknown chunk type \u0000\u0000\u0000\u0000 - skipping\n",
            "Unknown chunk type \u0000\u0000\u0000\u0000 - skipping\n",
            "Unknown chunk type \u0000\u0000\u0000\u0000 - skipping\n",
            "Unknown chunk type \u0000\u0000\u0000\u0000 - skipping\n",
            "Unknown chunk type \u0000\u0000\u0000\u0000 - skipping\n",
            "Unknown chunk type \u0000\u0000\u0000\u0000 - skipping\n",
            "Unknown chunk type \u0000\u0000\u0000\u0000 - skipping\n",
            "Unknown chunk type \u0000\u0000\u0000\u0000 - skipping\n",
            "Unknown chunk type \u0000\u0000\u0000\u0000 - skipping\n",
            "Unknown chunk type \u0000\u0000\u0000\u0000 - skipping\n",
            "Unknown chunk type \u0000\u0000\u0000\u0000 - skipping\n",
            "Unknown chunk type \u0000\u0000\u0000\u0000 - skipping\n",
            "Unknown chunk type \u0000\u0000\u0000\u0000 - skipping\n",
            "Unknown chunk type \u0000\u0000\u0000\u0000 - skipping\n",
            "Unknown chunk type \u0000\u0000\u0000\u0000 - skipping\n",
            "Unknown chunk type \u0000\u0000\u0000\u0000 - skipping\n",
            "Unknown chunk type \u0000\u0000\u0000\u0000 - skipping\n",
            "Unknown chunk type \u0000\u0000\u0000\u0000 - skipping\n",
            "Unknown chunk type \u0000\u0000\u0000\u0000 - skipping\n",
            "Unknown chunk type \u0000\u0000\u0000\u0000 - skipping\n",
            "Unknown chunk type \u0000\u0000\u0000\u0000 - skipping\n",
            "Unknown chunk type \u0000\u0000\u0000\u0000 - skipping\n",
            "Unknown chunk type \u0000\u0000\u0000\u0000 - skipping\n",
            "Unknown chunk type \u0000\u0000\u0000\u0000 - skipping\n",
            "Unknown chunk type \u0000\u0000\u0000\u0000 - skipping\n",
            "Unknown chunk type \u0000\u0000\u0000\u0000 - skipping\n",
            "Unknown chunk type \u0000\u0000\u0000\u0000 - skipping\n",
            "Unknown chunk type \u0000\u0000\u0000\u0000 - skipping\n",
            "Unknown chunk type \u0000\u0000\u0000\u0000 - skipping\n",
            "Unknown chunk type \u0000\u0000\u0000\u0000 - skipping\n",
            "Unknown chunk type \u0000\u0000\u0000\u0000 - skipping\n",
            "Unknown chunk type \u0000\u0000\u0000\u0000 - skipping\n",
            "Unknown chunk type \u0000\u0000\u0000\u0000 - skipping\n",
            "Unknown chunk type \u0000\u0000\u0000\u0000 - skipping\n",
            "Unknown chunk type \u0000\u0000\u0000\u0000 - skipping\n",
            "Unknown chunk type \u0000\u0000\u0000\u0000 - skipping\n",
            "Unknown chunk type \u0000\u0000\u0000\u0000 - skipping\n",
            "Unknown chunk type \u0000\u0000\u0000\u0000 - skipping\n",
            "Unknown chunk type \u0000\u0000\u0000\u0000 - skipping\n",
            "Unknown chunk type \u0000\u0000\u0000\u0000 - skipping\n",
            "Unknown chunk type \u0000\u0000\u0000\u0000 - skipping\n",
            "Unknown chunk type \u0000\u0000\u0000\u0000 - skipping\n",
            "Unknown chunk type \u0000\u0000\u0000\u0000 - skipping\n",
            "Unknown chunk type \u0000\u0000\u0000\u0000 - skipping\n",
            "Unknown chunk type \u0000\u0000\u0000\u0000 - skipping\n",
            "Unknown chunk type \u0000\u0000\u0000\u0000 - skipping\n",
            "Unknown chunk type \u0000\u0000\u0000\u0000 - skipping\n",
            "Unknown chunk type \u0000\u0000\u0000\u0000 - skipping\n",
            "Unknown chunk type \u0000\u0000\u0000\u0000 - skipping\n",
            "Unknown chunk type \u0000\u0000\u0000\u0000 - skipping\n",
            "Unknown chunk type \u0000\u0000\u0000\u0000 - skipping\n",
            "Unknown chunk type \u0000\u0000\u0000\u0000 - skipping\n",
            "Unknown chunk type \u0000\u0000\u0000\u0000 - skipping\n",
            "Unknown chunk type \u0000\u0000\u0000\u0000 - skipping\n",
            "Unknown chunk type \u0000\u0000\u0000\u0000 - skipping\n",
            "Unknown chunk type \u0000\u0000\u0000\u0000 - skipping\n",
            "Unknown chunk type \u0000\u0000\u0000\u0000 - skipping\n",
            "Unknown chunk type \u0000\u0000\u0000\u0000 - skipping\n",
            "Unknown chunk type \u0000\u0000\u0000\u0000 - skipping\n",
            "Unknown chunk type \u0000\u0000\u0000\u0000 - skipping\n",
            "Unknown chunk type \u0000\u0000\u0000\u0000 - skipping\n",
            "Unknown chunk type \u0000\u0000\u0000\u0000 - skipping\n",
            "Unknown chunk type \u0000\u0000\u0000\u0000 - skipping\n",
            "Unknown chunk type \u0000\u0000\u0000\u0000 - skipping\n",
            "Unknown chunk type \u0000\u0000\u0000\u0000 - skipping\n",
            "Unknown chunk type \u0000\u0000\u0000\u0000 - skipping\n",
            "Unknown chunk type \u0000\u0000\u0000\u0000 - skipping\n",
            "Unknown chunk type \u0000\u0000\u0000\u0000 - skipping\n",
            "Unknown chunk type \u0000\u0000\u0000\u0000 - skipping\n",
            "Unknown chunk type \u0000\u0000\u0000\u0000 - skipping\n",
            "Unknown chunk type \u0000\u0000\u0000\u0000 - skipping\n",
            "Unknown chunk type \u0000\u0000\u0000\u0000 - skipping\n",
            "Unknown chunk type \u0000\u0000\u0000\u0000 - skipping\n",
            "Unknown chunk type \u0000\u0000\u0000\u0000 - skipping\n",
            "Unknown chunk type \u0000\u0000\u0000\u0000 - skipping\n",
            "Unknown chunk type \u0000\u0000\u0000\u0000 - skipping\n",
            "Unknown chunk type \u0000\u0000\u0000\u0000 - skipping\n",
            "Unknown chunk type \u0000\u0000\u0000\u0000 - skipping\n",
            "Unknown chunk type \u0000\u0000\u0000\u0000 - skipping\n",
            "Unknown chunk type \u0000\u0000\u0000\u0000 - skipping\n",
            "Unknown chunk type \u0000\u0000\u0000\u0000 - skipping\n",
            "Unknown chunk type \u0000\u0000\u0000\u0000 - skipping\n",
            "Unknown chunk type \u0000\u0000\u0000\u0000 - skipping\n",
            "Unknown chunk type \u0000\u0000\u0000\u0000 - skipping\n",
            "Unknown chunk type \u0000\u0000\u0000\u0000 - skipping\n",
            "Unknown chunk type \u0000\u0000\u0000\u0000 - skipping\n",
            "Unknown chunk type \u0000\u0000\u0000\u0000 - skipping\n",
            "Unknown chunk type \u0000\u0000\u0000\u0000 - skipping\n",
            "Unknown chunk type \u0000\u0000\u0000\u0000 - skipping\n",
            "Unknown chunk type \u0000\u0000\u0000\u0000 - skipping\n",
            "Unknown chunk type \u0000\u0000\u0000\u0000 - skipping\n",
            "Unknown chunk type \u0000\u0000\u0000\u0000 - skipping\n",
            "Unknown chunk type \u0000\u0000\u0000\u0000 - skipping\n",
            "Unknown chunk type \u0000\u0000\u0000\u0000 - skipping\n",
            "Unknown chunk type \u0000\u0000\u0000\u0000 - skipping\n",
            "Unknown chunk type \u0000\u0000\u0000\u0000 - skipping\n",
            "Unknown chunk type \u0000\u0000\u0000\u0000 - skipping\n",
            "Unknown chunk type \u0000\u0000\u0000\u0000 - skipping\n",
            "Unknown chunk type \u0000\u0000\u0000\u0000 - skipping\n",
            "Unknown chunk type \u0000\u0000\u0000\u0000 - skipping\n",
            "Unknown chunk type \u0000\u0000\u0000\u0000 - skipping\n",
            "Unknown chunk type \u0000\u0000\u0000\u0000 - skipping\n",
            "Unknown chunk type \u0000\u0000\u0000\u0000 - skipping\n",
            "Unknown chunk type \u0000\u0000\u0000\u0000 - skipping\n",
            "Unknown chunk type \u0000\u0000\u0000\u0000 - skipping\n",
            "Unknown chunk type \u0000\u0000\u0000\u0000 - skipping\n",
            "Unknown chunk type \u0000\u0000\u0000\u0000 - skipping\n",
            "Unknown chunk type \u0000\u0000\u0000\u0000 - skipping\n",
            "Unknown chunk type \u0000\u0000\u0000\u0000 - skipping\n",
            "Unknown chunk type \u0000\u0000\u0000\u0000 - skipping\n",
            "Unknown chunk type \u0000\u0000\u0000\u0000 - skipping\n",
            "Unknown chunk type \u0000\u0000\u0000\u0000 - skipping\n",
            "Unknown chunk type \u0000\u0000\u0000\u0000 - skipping\n",
            "Unknown chunk type \u0000\u0000\u0000\u0000 - skipping\n",
            "Unknown chunk type \u0000\u0000\u0000\u0000 - skipping\n",
            "Unknown chunk type \u0000\u0000\u0000\u0000 - skipping\n",
            "Unknown chunk type \u0000\u0000\u0000\u0000 - skipping\n",
            "Unknown chunk type \u0000\u0000\u0000\u0000 - skipping\n",
            "Unknown chunk type \u0000\u0000\u0000\u0000 - skipping\n",
            "Unknown chunk type \u0000\u0000\u0000\u0000 - skipping\n",
            "Unknown chunk type \u0000\u0000\u0000\u0000 - skipping\n",
            "Unknown chunk type \u0000\u0000\u0000\u0000 - skipping\n",
            "Unknown chunk type \u0000\u0000\u0000\u0000 - skipping\n",
            "Unknown chunk type \u0000\u0000\u0000\u0000 - skipping\n",
            "Unknown chunk type \u0000\u0000\u0000\u0000 - skipping\n",
            "Unknown chunk type \u0000\u0000\u0000\u0000 - skipping\n",
            "Unknown chunk type \u0000\u0000\u0000\u0000 - skipping\n",
            "Unknown chunk type \u0000\u0000\u0000\u0000 - skipping\n",
            "Unknown chunk type \u0000\u0000\u0000\u0000 - skipping\n",
            "Unknown chunk type \u0000\u0000\u0000\u0000 - skipping\n",
            "Unknown chunk type \u0000\u0000\u0000\u0000 - skipping\n",
            "Unknown chunk type \u0000\u0000\u0000\u0000 - skipping\n",
            "Unknown chunk type \u0000\u0000\u0000\u0000 - skipping\n",
            "Unknown chunk type \u0000\u0000\u0000\u0000 - skipping\n",
            "Unknown chunk type \u0000\u0000\u0000\u0000 - skipping\n",
            "Unknown chunk type \u0000\u0000\u0000\u0000 - skipping\n",
            "Unknown chunk type \u0000\u0000\u0000\u0000 - skipping\n",
            "Unknown chunk type \u0000\u0000\u0000\u0000 - skipping\n",
            "Unknown chunk type \u0000\u0000\u0000\u0000 - skipping\n",
            "Unknown chunk type \u0000\u0000\u0000\u0000 - skipping\n",
            "Unknown chunk type \u0000\u0000\u0000\u0000 - skipping\n",
            "Unknown chunk type \u0000\u0000\u0000\u0000 - skipping\n",
            "Unknown chunk type \u0000\u0000\u0000\u0000 - skipping\n",
            "Unknown chunk type \u0000\u0000\u0000\u0000 - skipping\n",
            "Unknown chunk type \u0000\u0000\u0000\u0000 - skipping\n",
            "Unknown chunk type \u0000\u0000\u0000\u0000 - skipping\n",
            "Unknown chunk type \u0000\u0000\u0000\u0000 - skipping\n",
            "Unknown chunk type \u0000\u0000\u0000\u0000 - skipping\n",
            "Unknown chunk type \u0000\u0000\u0000\u0000 - skipping\n",
            "Unknown chunk type \u0000\u0000\u0000\u0000 - skipping\n",
            "Unknown chunk type \u0000\u0000\u0000\u0000 - skipping\n",
            "Unknown chunk type \u0000\u0000\u0000\u0000 - skipping\n",
            "Unknown chunk type \u0000\u0000\u0000\u0000 - skipping\n",
            "Unknown chunk type \u0000\u0000\u0000\u0000 - skipping\n",
            "Unknown chunk type \u0000\u0000\u0000\u0000 - skipping\n",
            "Unknown chunk type \u0000\u0000\u0000\u0000 - skipping\n",
            "Unknown chunk type \u0000\u0000\u0000\u0000 - skipping\n",
            "Unknown chunk type \u0000\u0000\u0000\u0000 - skipping\n",
            "Unknown chunk type \u0000\u0000\u0000\u0000 - skipping\n",
            "Unknown chunk type \u0000\u0000\u0000\u0000 - skipping\n",
            "Unknown chunk type \u0000\u0000\u0000\u0000 - skipping\n",
            "Unknown chunk type \u0000\u0000\u0000\u0000 - skipping\n",
            "Unknown chunk type \u0000\u0000\u0000\u0000 - skipping\n",
            "Unknown chunk type \u0000\u0000\u0000\u0000 - skipping\n",
            "Unknown chunk type \u0000\u0000\u0000\u0000 - skipping\n",
            "Unknown chunk type \u0000\u0000\u0000\u0000 - skipping\n",
            "Unknown chunk type \u0000\u0000\u0000\u0000 - skipping\n",
            "Unknown chunk type \u0000\u0000\u0000\u0000 - skipping\n",
            "Unknown chunk type \u0000\u0000\u0000\u0000 - skipping\n",
            "Unknown chunk type \u0000\u0000\u0000\u0000 - skipping\n",
            "Unknown chunk type \u0000\u0000\u0000\u0000 - skipping\n",
            "Unknown chunk type \u0000\u0000\u0000\u0000 - skipping\n",
            "Unknown chunk type \u0000\u0000\u0000\u0000 - skipping\n",
            "Unknown chunk type \u0000\u0000\u0000\u0000 - skipping\n",
            "Unknown chunk type \u0000\u0000\u0000\u0000 - skipping\n",
            "Unknown chunk type \u0000\u0000\u0000\u0000 - skipping\n",
            "Unknown chunk type \u0000\u0000\u0000\u0000 - skipping\n",
            "Unknown chunk type \u0000\u0000\u0000\u0000 - skipping\n",
            "Unknown chunk type \u0000\u0000\u0000\u0000 - skipping\n",
            "Unknown chunk type \u0000\u0000\u0000\u0000 - skipping\n",
            "Unknown chunk type \u0000\u0000\u0000\u0000 - skipping\n",
            "Unknown chunk type \u0000\u0000\u0000\u0000 - skipping\n",
            "Unknown chunk type \u0000\u0000\u0000\u0000 - skipping\n",
            "Unknown chunk type \u0000\u0000\u0000\u0000 - skipping\n",
            "Unknown chunk type \u0000\u0000\u0000\u0000 - skipping\n",
            "Unknown chunk type \u0000\u0000\u0000\u0000 - skipping\n",
            "Unknown chunk type \u0000\u0000\u0000\u0000 - skipping\n",
            "Unknown chunk type \u0000\u0000\u0000\u0000 - skipping\n",
            "Unknown chunk type \u0000\u0000\u0000\u0000 - skipping\n",
            "Unknown chunk type \u0000\u0000\u0000\u0000 - skipping\n",
            "Unknown chunk type \u0000\u0000\u0000\u0000 - skipping\n",
            "Unknown chunk type \u0000\u0000\u0000\u0000 - skipping\n",
            "Unknown chunk type \u0000\u0000\u0000\u0000 - skipping\n",
            "Unknown chunk type \u0000\u0000\u0000\u0000 - skipping\n",
            "Unknown chunk type \u0000\u0000\u0000\u0000 - skipping\n",
            "Unknown chunk type \u0000\u0000\u0000\u0000 - skipping\n",
            "Unknown chunk type \u0000\u0000\u0000\u0000 - skipping\n",
            "Unknown chunk type \u0000\u0000\u0000\u0000 - skipping\n",
            "Unknown chunk type \u0000\u0000\u0000\u0000 - skipping\n",
            "Unknown chunk type \u0000\u0000\u0000\u0000 - skipping\n",
            "Unknown chunk type \u0000\u0000\u0000\u0000 - skipping\n",
            "Unknown chunk type \u0000\u0000\u0000\u0000 - skipping\n",
            "Unknown chunk type \u0000\u0000\u0000\u0000 - skipping\n",
            "Unknown chunk type \u0000\u0000\u0000\u0000 - skipping\n",
            "Unknown chunk type \u0000\u0000\u0000\u0000 - skipping\n",
            "Unknown chunk type \u0000\u0000\u0000\u0000 - skipping\n",
            "Unknown chunk type \u0000\u0000\u0000\u0000 - skipping\n",
            "Unknown chunk type \u0000\u0000\u0000\u0000 - skipping\n",
            "Unknown chunk type \u0000\u0000\u0000\u0000 - skipping\n",
            "Unknown chunk type \u0000\u0000\u0000\u0000 - skipping\n",
            "Unknown chunk type \u0000\u0000\u0000\u0000 - skipping\n",
            "Unknown chunk type \u0000\u0000\u0000\u0000 - skipping\n",
            "Unknown chunk type \u0000\u0000\u0000\u0000 - skipping\n",
            "Unknown chunk type \u0000\u0000\u0000\u0000 - skipping\n",
            "Unknown chunk type \u0000\u0000\u0000\u0000 - skipping\n",
            "Unknown chunk type \u0000\u0000\u0000\u0000 - skipping\n",
            "Unknown chunk type \u0000\u0000\u0000\u0000 - skipping\n",
            "Unknown chunk type \u0000\u0000\u0000\u0000 - skipping\n",
            "Unknown chunk type \u0000\u0000\u0000\u0000 - skipping\n",
            "Unknown chunk type \u0000\u0000\u0000\u0000 - skipping\n",
            "Unknown chunk type \u0000\u0000\u0000\u0000 - skipping\n",
            "Unknown chunk type \u0000\u0000\u0000\u0000 - skipping\n",
            "Unknown chunk type \u0000\u0000\u0000\u0000 - skipping\n",
            "Unknown chunk type \u0000\u0000\u0000\u0000 - skipping\n",
            "Unknown chunk type \u0000\u0000\u0000\u0000 - skipping\n",
            "Unknown chunk type \u0000\u0000\u0000\u0000 - skipping\n",
            "Unknown chunk type \u0000\u0000\u0000\u0000 - skipping\n",
            "Unknown chunk type \u0000\u0000\u0000\u0000 - skipping\n",
            "Unknown chunk type \u0000\u0000\u0000\u0000 - skipping\n",
            "Unknown chunk type \u0000\u0000\u0000\u0000 - skipping\n",
            "Unknown chunk type \u0000\u0000\u0000\u0000 - skipping\n",
            "Unknown chunk type \u0000\u0000\u0000\u0000 - skipping\n",
            "Unknown chunk type \u0000\u0000\u0000\u0000 - skipping\n",
            "Unknown chunk type \u0000\u0000\u0000\u0000 - skipping\n",
            "Unknown chunk type \u0000\u0000\u0000\u0000 - skipping\n",
            "Unknown chunk type \u0000\u0000\u0000\u0000 - skipping\n",
            "Unknown chunk type \u0000\u0000\u0000\u0000 - skipping\n",
            "Unknown chunk type \u0000\u0000\u0000\u0000 - skipping\n",
            "Unknown chunk type \u0000\u0000\u0000\u0000 - skipping\n",
            "Unknown chunk type \u0000\u0000\u0000\u0000 - skipping\n",
            "Unknown chunk type \u0000\u0000\u0000\u0000 - skipping\n",
            "Unknown chunk type \u0000\u0000\u0000\u0000 - skipping\n",
            "Unknown chunk type \u0000\u0000\u0000\u0000 - skipping\n",
            "Unknown chunk type \u0000\u0000\u0000\u0000 - skipping\n",
            "Unknown chunk type \u0000\u0000\u0000\u0000 - skipping\n",
            "Unknown chunk type \u0000\u0000\u0000\u0000 - skipping\n",
            "Unknown chunk type \u0000\u0000\u0000\u0000 - skipping\n",
            "Unknown chunk type \u0000\u0000\u0000\u0000 - skipping\n",
            "Unknown chunk type \u0000\u0000\u0000\u0000 - skipping\n",
            "Unknown chunk type \u0000\u0000\u0000\u0000 - skipping\n",
            "Unknown chunk type \u0000\u0000\u0000\u0000 - skipping\n",
            "Unknown chunk type \u0000\u0000\u0000\u0000 - skipping\n",
            "Unknown chunk type \u0000\u0000\u0000\u0000 - skipping\n",
            "Unknown chunk type \u0000\u0000\u0000\u0000 - skipping\n",
            "Unknown chunk type \u0000\u0000\u0000\u0000 - skipping\n",
            "Unknown chunk type \u0000\u0000\u0000\u0000 - skipping\n",
            "Unknown chunk type \u0000\u0000\u0000\u0000 - skipping\n",
            "Unknown chunk type \u0000\u0000\u0000\u0000 - skipping\n",
            "Unknown chunk type \u0000\u0000\u0000\u0000 - skipping\n",
            "Unknown chunk type \u0000\u0000\u0000\u0000 - skipping\n",
            "Unknown chunk type \u0000\u0000\u0000\u0000 - skipping\n",
            "Unknown chunk type \u0000\u0000\u0000\u0000 - skipping\n",
            "Unknown chunk type \u0000\u0000\u0000\u0000 - skipping\n",
            "Unknown chunk type \u0000\u0000\u0000\u0000 - skipping\n",
            "Unknown chunk type \u0000\u0000\u0000\u0000 - skipping\n",
            "Unknown chunk type \u0000\u0000\u0000\u0000 - skipping\n",
            "Unknown chunk type \u0000\u0000\u0000\u0000 - skipping\n",
            "Unknown chunk type \u0000\u0000\u0000\u0000 - skipping\n",
            "Unknown chunk type \u0000\u0000\u0000\u0000 - skipping\n",
            "Unknown chunk type \u0000\u0000\u0000\u0000 - skipping\n",
            "Unknown chunk type \u0000\u0000\u0000\u0000 - skipping\n",
            "Unknown chunk type \u0000\u0000\u0000\u0000 - skipping\n",
            "Unknown chunk type \u0000\u0000\u0000\u0000 - skipping\n",
            "Unknown chunk type \u0000\u0000\u0000\u0000 - skipping\n",
            "Unknown chunk type \u0000\u0000\u0000\u0000 - skipping\n",
            "Unknown chunk type \u0000\u0000\u0000\u0000 - skipping\n",
            "Unknown chunk type \u0000\u0000\u0000\u0000 - skipping\n",
            "Unknown chunk type \u0000\u0000\u0000\u0000 - skipping\n",
            "Unknown chunk type \u0000\u0000\u0000\u0000 - skipping\n",
            "Unknown chunk type \u0000\u0000\u0000\u0000 - skipping\n",
            "Unknown chunk type \u0000\u0000\u0000\u0000 - skipping\n",
            "Unknown chunk type \u0000\u0000\u0000\u0000 - skipping\n",
            "Unknown chunk type \u0000\u0000\u0000\u0000 - skipping\n",
            "Unknown chunk type \u0000\u0000\u0000\u0000 - skipping\n",
            "Unknown chunk type \u0000\u0000\u0000\u0000 - skipping\n",
            "Unknown chunk type \u0000\u0000\u0000\u0000 - skipping\n",
            "Unknown chunk type \u0000\u0000\u0000\u0000 - skipping\n",
            "Unknown chunk type \u0000\u0000\u0000\u0000 - skipping\n",
            "Unknown chunk type \u0000\u0000\u0000\u0000 - skipping\n",
            "Unknown chunk type \u0000\u0000\u0000\u0000 - skipping\n",
            "Unknown chunk type \u0000\u0000\u0000\u0000 - skipping\n",
            "Unknown chunk type \u0000\u0000\u0000\u0000 - skipping\n",
            "Unknown chunk type \u0000\u0000\u0000\u0000 - skipping\n",
            "Unknown chunk type \u0000\u0000\u0000\u0000 - skipping\n",
            "Unknown chunk type \u0000\u0000\u0000\u0000 - skipping\n",
            "Unknown chunk type \u0000\u0000\u0000\u0000 - skipping\n",
            "Unknown chunk type \u0000\u0000\u0000\u0000 - skipping\n",
            "Unknown chunk type \u0000\u0000\u0000\u0000 - skipping\n",
            "Unknown chunk type \u0000\u0000\u0000\u0000 - skipping\n",
            "Unknown chunk type \u0000\u0000\u0000\u0000 - skipping\n",
            "Unknown chunk type \u0000\u0000\u0000\u0000 - skipping\n",
            "Unknown chunk type \u0000\u0000\u0000\u0000 - skipping\n",
            "Unknown chunk type \u0000\u0000\u0000\u0000 - skipping\n",
            "Unknown chunk type \u0000\u0000\u0000\u0000 - skipping\n",
            "Unknown chunk type \u0000\u0000\u0000\u0000 - skipping\n",
            "Unknown chunk type \u0000\u0000\u0000\u0000 - skipping\n",
            "Unknown chunk type \u0000\u0000\u0000\u0000 - skipping\n",
            "Unknown chunk type \u0000\u0000\u0000\u0000 - skipping\n",
            "Unknown chunk type \u0000\u0000\u0000\u0000 - skipping\n",
            "Unknown chunk type \u0000\u0000\u0000\u0000 - skipping\n",
            "Unknown chunk type \u0000\u0000\u0000\u0000 - skipping\n",
            "Unknown chunk type \u0000\u0000\u0000\u0000 - skipping\n",
            "Unknown chunk type \u0000\u0000\u0000\u0000 - skipping\n",
            "Unknown chunk type \u0000\u0000\u0000\u0000 - skipping\n",
            "Unknown chunk type \u0000\u0000\u0000\u0000 - skipping\n",
            "Unknown chunk type \u0000\u0000\u0000\u0000 - skipping\n",
            "Unknown chunk type \u0000\u0000\u0000\u0000 - skipping\n",
            "Unknown chunk type \u0000\u0000\u0000\u0000 - skipping\n",
            "Unknown chunk type \u0000\u0000\u0000\u0000 - skipping\n",
            "Unknown chunk type \u0000\u0000\u0000\u0000 - skipping\n",
            "Unknown chunk type \u0000\u0000\u0000\u0000 - skipping\n",
            "Unknown chunk type \u0000\u0000\u0000\u0000 - skipping\n",
            "Unknown chunk type \u0000\u0000\u0000\u0000 - skipping\n",
            "Unknown chunk type \u0000\u0000\u0000\u0000 - skipping\n",
            "Unknown chunk type \u0000\u0000\u0000\u0000 - skipping\n",
            "Unknown chunk type \u0000\u0000\u0000\u0000 - skipping\n",
            "Unknown chunk type \u0000\u0000\u0000\u0000 - skipping\n",
            "Unknown chunk type \u0000\u0000\u0000\u0000 - skipping\n",
            "Unknown chunk type \u0000\u0000\u0000\u0000 - skipping\n",
            "Unknown chunk type \u0000\u0000\u0000\u0000 - skipping\n",
            "Unknown chunk type \u0000\u0000\u0000\u0000 - skipping\n",
            "Unknown chunk type \u0000\u0000\u0000\u0000 - skipping\n",
            "Unknown chunk type \u0000\u0000\u0000\u0000 - skipping\n",
            "Unknown chunk type \u0000\u0000\u0000\u0000 - skipping\n",
            "Unknown chunk type \u0000\u0000\u0000\u0000 - skipping\n",
            "Unknown chunk type \u0000\u0000\u0000\u0000 - skipping\n",
            "Unknown chunk type \u0000\u0000\u0000\u0000 - skipping\n",
            "Unknown chunk type \u0000\u0000\u0000\u0000 - skipping\n",
            "Unknown chunk type \u0000\u0000\u0000\u0000 - skipping\n",
            "Unknown chunk type \u0000\u0000\u0000\u0000 - skipping\n",
            "Unknown chunk type \u0000\u0000\u0000\u0000 - skipping\n",
            "Unknown chunk type \u0000\u0000\u0000\u0000 - skipping\n",
            "Unknown chunk type \u0000\u0000\u0000\u0000 - skipping\n",
            "Unknown chunk type \u0000\u0000\u0000\u0000 - skipping\n",
            "Unknown chunk type \u0000\u0000\u0000\u0000 - skipping\n",
            "Unknown chunk type \u0000\u0000\u0000\u0000 - skipping\n",
            "Unknown chunk type \u0000\u0000\u0000\u0000 - skipping\n",
            "Unknown chunk type \u0000\u0000\u0000\u0000 - skipping\n",
            "Unknown chunk type \u0000\u0000\u0000\u0000 - skipping\n",
            "Unknown chunk type \u0000\u0000\u0000\u0000 - skipping\n",
            "Unknown chunk type \u0000\u0000\u0000\u0000 - skipping\n",
            "Unknown chunk type \u0000\u0000\u0000\u0000 - skipping\n",
            "Unknown chunk type \u0000\u0000\u0000\u0000 - skipping\n",
            "Unknown chunk type \u0000\u0000\u0000\u0000 - skipping\n",
            "Unknown chunk type \u0000\u0000\u0000\u0000 - skipping\n",
            "Unknown chunk type \u0000\u0000\u0000\u0000 - skipping\n",
            "Unknown chunk type \u0000\u0000\u0000\u0000 - skipping\n",
            "Unknown chunk type \u0000\u0000\u0000\u0000 - skipping\n",
            "Unknown chunk type \u0000\u0000\u0000\u0000 - skipping\n",
            "Unknown chunk type \u0000\u0000\u0000\u0000 - skipping\n",
            "Unknown chunk type \u0000\u0000\u0000\u0000 - skipping\n",
            "Unknown chunk type \u0000\u0000\u0000\u0000 - skipping\n",
            "Unknown chunk type \u0000\u0000\u0000\u0000 - skipping\n",
            "Unknown chunk type \u0000\u0000\u0000\u0000 - skipping\n",
            "Unknown chunk type \u0000\u0000\u0000\u0000 - skipping\n",
            "Unknown chunk type \u0000\u0000\u0000\u0000 - skipping\n",
            "Unknown chunk type \u0000\u0000\u0000\u0000 - skipping\n",
            "Unknown chunk type \u0000\u0000\u0000\u0000 - skipping\n",
            "Unknown chunk type \u0000\u0000\u0000\u0000 - skipping\n",
            "Unknown chunk type \u0000\u0000\u0000\u0000 - skipping\n",
            "Unknown chunk type \u0000\u0000\u0000\u0000 - skipping\n",
            "Unknown chunk type \u0000\u0000\u0000\u0000 - skipping\n",
            "Unknown chunk type \u0000\u0000\u0000\u0000 - skipping\n",
            "Unknown chunk type \u0000\u0000\u0000\u0000 - skipping\n",
            "Unknown chunk type \u0000\u0000\u0000\u0000 - skipping\n",
            "Unknown chunk type \u0000\u0000\u0000\u0000 - skipping\n",
            "Unknown chunk type \u0000\u0000\u0000\u0000 - skipping\n",
            "Unknown chunk type \u0000\u0000\u0000\u0000 - skipping\n",
            "Unknown chunk type \u0000\u0000\u0000\u0000 - skipping\n",
            "Unknown chunk type \u0000\u0000\u0000\u0000 - skipping\n",
            "Unknown chunk type \u0000\u0000\u0000\u0000 - skipping\n",
            "Unknown chunk type \u0000\u0000\u0000\u0000 - skipping\n",
            "Unknown chunk type \u0000\u0000\u0000\u0000 - skipping\n",
            "Unknown chunk type \u0000\u0000\u0000\u0000 - skipping\n",
            "Unknown chunk type \u0000\u0000\u0000\u0000 - skipping\n",
            "Unknown chunk type \u0000\u0000\u0000\u0000 - skipping\n",
            "Unknown chunk type \u0000\u0000\u0000\u0000 - skipping\n",
            "Unknown chunk type \u0000\u0000\u0000\u0000 - skipping\n",
            "Unknown chunk type \u0000\u0000\u0000\u0000 - skipping\n",
            "Unknown chunk type \u0000\u0000\u0000\u0000 - skipping\n",
            "Unknown chunk type \u0000\u0000\u0000\u0000 - skipping\n",
            "Unknown chunk type \u0000\u0000\u0000\u0000 - skipping\n",
            "Unknown chunk type \u0000\u0000\u0000\u0000 - skipping\n",
            "Unknown chunk type \u0000\u0000\u0000\u0000 - skipping\n",
            "Unknown chunk type \u0000\u0000\u0000\u0000 - skipping\n",
            "Unknown chunk type \u0000\u0000\u0000\u0000 - skipping\n",
            "Unknown chunk type \u0000\u0000\u0000\u0000 - skipping\n",
            "Unknown chunk type \u0000\u0000\u0000\u0000 - skipping\n",
            "Unknown chunk type \u0000\u0000\u0000\u0000 - skipping\n",
            "Unknown chunk type \u0000\u0000\u0000\u0000 - skipping\n",
            "Unknown chunk type \u0000\u0000\u0000\u0000 - skipping\n",
            "Unknown chunk type \u0000\u0000\u0000\u0000 - skipping\n",
            "Unknown chunk type \u0000\u0000\u0000\u0000 - skipping\n",
            "Unknown chunk type \u0000\u0000\u0000\u0000 - skipping\n",
            "Unknown chunk type \u0000\u0000\u0000\u0000 - skipping\n",
            "Unknown chunk type \u0000\u0000\u0000\u0000 - skipping\n",
            "Unknown chunk type \u0000\u0000\u0000\u0000 - skipping\n",
            "Unknown chunk type \u0000\u0000\u0000\u0000 - skipping\n",
            "Unknown chunk type \u0000\u0000\u0000\u0000 - skipping\n",
            "Unknown chunk type \u0000\u0000\u0000\u0000 - skipping\n",
            "Unknown chunk type \u0000\u0000\u0000\u0000 - skipping\n",
            "Unknown chunk type \u0000\u0000\u0000\u0000 - skipping\n",
            "Unknown chunk type \u0000\u0000\u0000\u0000 - skipping\n",
            "Unknown chunk type \u0000\u0000\u0000\u0000 - skipping\n",
            "Unknown chunk type \u0000\u0000\u0000\u0000 - skipping\n",
            "Unknown chunk type \u0000\u0000\u0000\u0000 - skipping\n",
            "Unknown chunk type \u0000\u0000\u0000\u0000 - skipping\n",
            "Unknown chunk type \u0000\u0000\u0000\u0000 - skipping\n",
            "Unknown chunk type \u0000\u0000\u0000\u0000 - skipping\n",
            "Unknown chunk type \u0000\u0000\u0000\u0000 - skipping\n",
            "Unknown chunk type \u0000\u0000\u0000\u0000 - skipping\n",
            "Unknown chunk type \u0000\u0000\u0000\u0000 - skipping\n",
            "Unknown chunk type \u0000\u0000\u0000\u0000 - skipping\n",
            "Unknown chunk type \u0000\u0000\u0000\u0000 - skipping\n",
            "Unknown chunk type \u0000\u0000\u0000\u0000 - skipping\n",
            "Unknown chunk type \u0000\u0000\u0000\u0000 - skipping\n",
            "Unknown chunk type \u0000\u0000\u0000\u0000 - skipping\n",
            "Unknown chunk type \u0000\u0000\u0000\u0000 - skipping\n",
            "Unknown chunk type \u0000\u0000\u0000\u0000 - skipping\n",
            "Unknown chunk type \u0000\u0000\u0000\u0000 - skipping\n",
            "Unknown chunk type \u0000\u0000\u0000\u0000 - skipping\n",
            "Unknown chunk type \u0000\u0000\u0000\u0000 - skipping\n",
            "Unknown chunk type \u0000\u0000\u0000\u0000 - skipping\n",
            "Unknown chunk type \u0000\u0000\u0000\u0000 - skipping\n",
            "Unknown chunk type \u0000\u0000\u0000\u0000 - skipping\n",
            "Unknown chunk type \u0000\u0000\u0000\u0000 - skipping\n",
            "Unknown chunk type \u0000\u0000\u0000\u0000 - skipping\n",
            "Unknown chunk type \u0000\u0000\u0000\u0000 - skipping\n",
            "Unknown chunk type \u0000\u0000\u0000\u0000 - skipping\n",
            "Unknown chunk type \u0000\u0000\u0000\u0000 - skipping\n",
            "Unknown chunk type \u0000\u0000\u0000\u0000 - skipping\n",
            "Unknown chunk type \u0000\u0000\u0000\u0000 - skipping\n",
            "Unknown chunk type \u0000\u0000\u0000\u0000 - skipping\n",
            "Unknown chunk type \u0000\u0000\u0000\u0000 - skipping\n",
            "Unknown chunk type \u0000\u0000\u0000\u0000 - skipping\n",
            "Unknown chunk type \u0000\u0000\u0000\u0000 - skipping\n",
            "Unknown chunk type \u0000\u0000\u0000\u0000 - skipping\n",
            "Unknown chunk type \u0000\u0000\u0000\u0000 - skipping\n",
            "Unknown chunk type \u0000\u0000\u0000\u0000 - skipping\n",
            "Unknown chunk type \u0000\u0000\u0000\u0000 - skipping\n",
            "Unknown chunk type \u0000\u0000\u0000\u0000 - skipping\n",
            "Unknown chunk type \u0000\u0000\u0000\u0000 - skipping\n",
            "Unknown chunk type \u0000\u0000\u0000\u0000 - skipping\n",
            "Unknown chunk type \u0000\u0000\u0000\u0000 - skipping\n",
            "Unknown chunk type \u0000\u0000\u0000\u0000 - skipping\n",
            "Unknown chunk type \u0000\u0000\u0000\u0000 - skipping\n",
            "Unknown chunk type \u0000\u0000\u0000\u0000 - skipping\n",
            "Unknown chunk type \u0000\u0000\u0000\u0000 - skipping\n",
            "Unknown chunk type \u0000\u0000\u0000\u0000 - skipping\n",
            "Unknown chunk type \u0000\u0000\u0000\u0000 - skipping\n",
            "Unknown chunk type \u0000\u0000\u0000\u0000 - skipping\n",
            "Unknown chunk type \u0000\u0000\u0000\u0000 - skipping\n",
            "Unknown chunk type \u0000\u0000\u0000\u0000 - skipping\n",
            "Unknown chunk type \u0000\u0000\u0000\u0000 - skipping\n",
            "Unknown chunk type \u0000\u0000\u0000\u0000 - skipping\n",
            "Unknown chunk type \u0000\u0000\u0000\u0000 - skipping\n",
            "Unknown chunk type \u0000\u0000\u0000\u0000 - skipping\n",
            "Unknown chunk type \u0000\u0000\u0000\u0000 - skipping\n",
            "Unknown chunk type \u0000\u0000\u0000\u0000 - skipping\n",
            "Unknown chunk type \u0000\u0000\u0000\u0000 - skipping\n",
            "Unknown chunk type \u0000\u0000\u0000\u0000 - skipping\n",
            "Unknown chunk type \u0000\u0000\u0000\u0000 - skipping\n",
            "Unknown chunk type \u0000\u0000\u0000\u0000 - skipping\n",
            "Unknown chunk type \u0000\u0000\u0000\u0000 - skipping\n",
            "Unknown chunk type \u0000\u0000\u0000\u0000 - skipping\n",
            "Unknown chunk type \u0000\u0000\u0000\u0000 - skipping\n",
            "Unknown chunk type \u0000\u0000\u0000\u0000 - skipping\n",
            "Unknown chunk type \u0000\u0000\u0000\u0000 - skipping\n",
            "Unknown chunk type \u0000\u0000\u0000\u0000 - skipping\n",
            "Unknown chunk type \u0000\u0000\u0000\u0000 - skipping\n",
            "Unknown chunk type \u0000\u0000\u0000\u0000 - skipping\n",
            "Unknown chunk type \u0000\u0000\u0000\u0000 - skipping\n",
            "Unknown chunk type \u0000\u0000\u0000\u0000 - skipping\n",
            "Unknown chunk type \u0000\u0000\u0000\u0000 - skipping\n",
            "Unknown chunk type \u0000\u0000\u0000\u0000 - skipping\n",
            "Unknown chunk type \u0000\u0000\u0000\u0000 - skipping\n",
            "Unknown chunk type \u0000\u0000\u0000\u0000 - skipping\n",
            "Unknown chunk type \u0000\u0000\u0000\u0000 - skipping\n",
            "Unknown chunk type \u0000\u0000\u0000\u0000 - skipping\n",
            "Unknown chunk type \u0000\u0000\u0000\u0000 - skipping\n",
            "Unknown chunk type \u0000\u0000\u0000\u0000 - skipping\n",
            "Unknown chunk type \u0000\u0000\u0000\u0000 - skipping\n",
            "Unknown chunk type \u0000\u0000\u0000\u0000 - skipping\n",
            "Unknown chunk type \u0000\u0000\u0000\u0000 - skipping\n",
            "Unknown chunk type \u0000\u0000\u0000\u0000 - skipping\n",
            "Unknown chunk type \u0000\u0000\u0000\u0000 - skipping\n",
            "Unknown chunk type \u0000\u0000\u0000\u0000 - skipping\n",
            "Unknown chunk type \u0000\u0000\u0000\u0000 - skipping\n",
            "Unknown chunk type \u0000\u0000\u0000\u0000 - skipping\n",
            "Unknown chunk type \u0000\u0000\u0000\u0000 - skipping\n",
            "Unknown chunk type \u0000\u0000\u0000\u0000 - skipping\n",
            "Unknown chunk type \u0000\u0000\u0000\u0000 - skipping\n",
            "Unknown chunk type \u0000\u0000\u0000\u0000 - skipping\n",
            "Unknown chunk type \u0000\u0000\u0000\u0000 - skipping\n",
            "Unknown chunk type \u0000\u0000\u0000\u0000 - skipping\n",
            "Unknown chunk type \u0000\u0000\u0000\u0000 - skipping\n",
            "Unknown chunk type \u0000\u0000\u0000\u0000 - skipping\n",
            "Unknown chunk type \u0000\u0000\u0000\u0000 - skipping\n",
            "Unknown chunk type \u0000\u0000\u0000\u0000 - skipping\n",
            "Unknown chunk type \u0000\u0000\u0000\u0000 - skipping\n",
            "Unknown chunk type \u0000\u0000\u0000\u0000 - skipping\n",
            "Unknown chunk type \u0000\u0000\u0000\u0000 - skipping\n",
            "Unknown chunk type \u0000\u0000\u0000\u0000 - skipping\n",
            "Unknown chunk type \u0000\u0000\u0000\u0000 - skipping\n",
            "Unknown chunk type \u0000\u0000\u0000\u0000 - skipping\n",
            "Unknown chunk type \u0000\u0000\u0000\u0000 - skipping\n",
            "Unknown chunk type \u0000\u0000\u0000\u0000 - skipping\n",
            "Unknown chunk type \u0000\u0000\u0000\u0000 - skipping\n",
            "Unknown chunk type \u0000\u0000\u0000\u0000 - skipping\n",
            "Unknown chunk type \u0000\u0000\u0000\u0000 - skipping\n",
            "Unknown chunk type \u0000\u0000\u0000\u0000 - skipping\n",
            "Unknown chunk type \u0000\u0000\u0000\u0000 - skipping\n",
            "Unknown chunk type \u0000\u0000\u0000\u0000 - skipping\n",
            "Unknown chunk type \u0000\u0000\u0000\u0000 - skipping\n",
            "Unknown chunk type \u0000\u0000\u0000\u0000 - skipping\n",
            "Unknown chunk type \u0000\u0000\u0000\u0000 - skipping\n",
            "Unknown chunk type \u0000\u0000\u0000\u0000 - skipping\n",
            "Unknown chunk type \u0000\u0000\u0000\u0000 - skipping\n",
            "Unknown chunk type \u0000\u0000\u0000\u0000 - skipping\n",
            "Unknown chunk type \u0000\u0000\u0000\u0000 - skipping\n",
            "Unknown chunk type \u0000\u0000\u0000\u0000 - skipping\n",
            "Unknown chunk type \u0000\u0000\u0000\u0000 - skipping\n",
            "Unknown chunk type \u0000\u0000\u0000\u0000 - skipping\n",
            "Unknown chunk type \u0000\u0000\u0000\u0000 - skipping\n",
            "Unknown chunk type \u0000\u0000\u0000\u0000 - skipping\n",
            "Unknown chunk type \u0000\u0000\u0000\u0000 - skipping\n",
            "Unknown chunk type \u0000\u0000\u0000\u0000 - skipping\n",
            "Unknown chunk type \u0000\u0000\u0000\u0000 - skipping\n",
            "Unknown chunk type \u0000\u0000\u0000\u0000 - skipping\n",
            "Unknown chunk type \u0000\u0000\u0000\u0000 - skipping\n",
            "Unknown chunk type \u0000\u0000\u0000\u0000 - skipping\n",
            "Unknown chunk type \u0000\u0000\u0000\u0000 - skipping\n",
            "Unknown chunk type \u0000\u0000\u0000\u0000 - skipping\n",
            "Unknown chunk type \u0000\u0000\u0000\u0000 - skipping\n",
            "Unknown chunk type \u0000\u0000\u0000\u0000 - skipping\n",
            "Unknown chunk type \u0000\u0000\u0000\u0000 - skipping\n",
            "Unknown chunk type \u0000\u0000\u0000\u0000 - skipping\n",
            "Unknown chunk type \u0000\u0000\u0000\u0000 - skipping\n",
            "Unknown chunk type \u0000\u0000\u0000\u0000 - skipping\n",
            "Unknown chunk type \u0000\u0000\u0000\u0000 - skipping\n",
            "Unknown chunk type \u0000\u0000\u0000\u0000 - skipping\n",
            "Unknown chunk type \u0000\u0000\u0000\u0000 - skipping\n",
            "Unknown chunk type \u0000\u0000\u0000\u0000 - skipping\n",
            "Unknown chunk type \u0000\u0000\u0000\u0000 - skipping\n",
            "Unknown chunk type \u0000\u0000\u0000\u0000 - skipping\n",
            "Unknown chunk type \u0000\u0000\u0000\u0000 - skipping\n",
            "Unknown chunk type \u0000\u0000\u0000\u0000 - skipping\n",
            "Unknown chunk type \u0000\u0000\u0000\u0000 - skipping\n",
            "Unknown chunk type \u0000\u0000\u0000\u0000 - skipping\n",
            "Unknown chunk type \u0000\u0000\u0000\u0000 - skipping\n",
            "Unknown chunk type \u0000\u0000\u0000\u0000 - skipping\n",
            "Unknown chunk type \u0000\u0000\u0000\u0000 - skipping\n",
            "Unknown chunk type \u0000\u0000\u0000\u0000 - skipping\n",
            "Unknown chunk type \u0000\u0000\u0000\u0000 - skipping\n",
            "Unknown chunk type \u0000\u0000\u0000\u0000 - skipping\n",
            "Unknown chunk type \u0000\u0000\u0000\u0000 - skipping\n",
            "Unknown chunk type \u0000\u0000\u0000\u0000 - skipping\n",
            "Unknown chunk type \u0000\u0000\u0000\u0000 - skipping\n",
            "Unknown chunk type \u0000\u0000\u0000\u0000 - skipping\n",
            "Unknown chunk type \u0000\u0000\u0000\u0000 - skipping\n",
            "Unknown chunk type \u0000\u0000\u0000\u0000 - skipping\n",
            "Unknown chunk type \u0000\u0000\u0000\u0000 - skipping\n",
            "Unknown chunk type \u0000\u0000\u0000\u0000 - skipping\n",
            "Unknown chunk type \u0000\u0000\u0000\u0000 - skipping\n",
            "Unknown chunk type \u0000\u0000\u0000\u0000 - skipping\n",
            "Unknown chunk type \u0000\u0000\u0000\u0000 - skipping\n",
            "Unknown chunk type \u0000\u0000\u0000\u0000 - skipping\n",
            "Unknown chunk type \u0000\u0000\u0000\u0000 - skipping\n",
            "Unknown chunk type \u0000\u0000\u0000\u0000 - skipping\n",
            "Unknown chunk type \u0000\u0000\u0000\u0000 - skipping\n",
            "Unknown chunk type \u0000\u0000\u0000\u0000 - skipping\n",
            "Unknown chunk type \u0000\u0000\u0000\u0000 - skipping\n",
            "Unknown chunk type \u0000\u0000\u0000\u0000 - skipping\n",
            "Unknown chunk type \u0000\u0000\u0000\u0000 - skipping\n",
            "Unknown chunk type \u0000\u0000\u0000\u0000 - skipping\n",
            "Unknown chunk type \u0000\u0000\u0000\u0000 - skipping\n",
            "Unknown chunk type \u0000\u0000\u0000\u0000 - skipping\n",
            "Unknown chunk type \u0000\u0000\u0000\u0000 - skipping\n",
            "Unknown chunk type \u0000\u0000\u0000\u0000 - skipping\n",
            "Unknown chunk type \u0000\u0000\u0000\u0000 - skipping\n",
            "Unknown chunk type \u0000\u0000\u0000\u0000 - skipping\n",
            "Unknown chunk type \u0000\u0000\u0000\u0000 - skipping\n",
            "Unknown chunk type \u0000\u0000\u0000\u0000 - skipping\n",
            "Unknown chunk type \u0000\u0000\u0000\u0000 - skipping\n",
            "Unknown chunk type \u0000\u0000\u0000\u0000 - skipping\n",
            "Unknown chunk type \u0000\u0000\u0000\u0000 - skipping\n",
            "Unknown chunk type \u0000\u0000\u0000\u0000 - skipping\n",
            "Unknown chunk type \u0000\u0000\u0000\u0000 - skipping\n",
            "Unknown chunk type \u0000\u0000\u0000\u0000 - skipping\n",
            "Unknown chunk type \u0000\u0000\u0000\u0000 - skipping\n",
            "Unknown chunk type \u0000\u0000\u0000\u0000 - skipping\n",
            "Unknown chunk type \u0000\u0000\u0000\u0000 - skipping\n",
            "Unknown chunk type \u0000\u0000\u0000\u0000 - skipping\n",
            "Unknown chunk type \u0000\u0000\u0000\u0000 - skipping\n",
            "Unknown chunk type \u0000\u0000\u0000\u0000 - skipping\n",
            "Unknown chunk type \u0000\u0000\u0000\u0000 - skipping\n",
            "Unknown chunk type \u0000\u0000\u0000\u0000 - skipping\n",
            "Unknown chunk type \u0000\u0000\u0000\u0000 - skipping\n",
            "Unknown chunk type \u0000\u0000\u0000\u0000 - skipping\n",
            "Unknown chunk type \u0000\u0000\u0000\u0000 - skipping\n",
            "Unknown chunk type \u0000\u0000\u0000\u0000 - skipping\n",
            "Unknown chunk type \u0000\u0000\u0000\u0000 - skipping\n",
            "Unknown chunk type \u0000\u0000\u0000\u0000 - skipping\n",
            "Unknown chunk type \u0000\u0000\u0000\u0000 - skipping\n",
            "Unknown chunk type \u0000\u0000\u0000\u0000 - skipping\n",
            "Unknown chunk type \u0000\u0000\u0000\u0000 - skipping\n",
            "Unknown chunk type \u0000\u0000\u0000\u0000 - skipping\n",
            "Unknown chunk type \u0000\u0000\u0000\u0000 - skipping\n",
            "Unknown chunk type \u0000\u0000\u0000\u0000 - skipping\n",
            "Unknown chunk type \u0000\u0000\u0000\u0000 - skipping\n",
            "Unknown chunk type \u0000\u0000\u0000\u0000 - skipping\n",
            "Unknown chunk type \u0000\u0000\u0000\u0000 - skipping\n",
            "Unknown chunk type \u0000\u0000\u0000\u0000 - skipping\n",
            "Unknown chunk type \u0000\u0000\u0000\u0000 - skipping\n",
            "Unknown chunk type \u0000\u0000\u0000\u0000 - skipping\n",
            "Unknown chunk type \u0000\u0000\u0000\u0000 - skipping\n",
            "Unknown chunk type \u0000\u0000\u0000\u0000 - skipping\n",
            "Unknown chunk type \u0000\u0000\u0000\u0000 - skipping\n",
            "Unknown chunk type \u0000\u0000\u0000\u0000 - skipping\n",
            "Unknown chunk type \u0000\u0000\u0000\u0000 - skipping\n",
            "Unknown chunk type \u0000\u0000\u0000\u0000 - skipping\n",
            "Unknown chunk type \u0000\u0000\u0000\u0000 - skipping\n",
            "Unknown chunk type \u0000\u0000\u0000\u0000 - skipping\n",
            "Unknown chunk type \u0000\u0000\u0000\u0000 - skipping\n",
            "Unknown chunk type \u0000\u0000\u0000\u0000 - skipping\n",
            "Unknown chunk type \u0000\u0000\u0000\u0000 - skipping\n",
            "Unknown chunk type \u0000\u0000\u0000\u0000 - skipping\n",
            "Unknown chunk type \u0000\u0000\u0000\u0000 - skipping\n",
            "Unknown chunk type \u0000\u0000\u0000\u0000 - skipping\n",
            "Unknown chunk type \u0000\u0000\u0000\u0000 - skipping\n",
            "Unknown chunk type \u0000\u0000\u0000\u0000 - skipping\n",
            "Unknown chunk type \u0000\u0000\u0000\u0000 - skipping\n",
            "Unknown chunk type \u0000\u0000\u0000\u0000 - skipping\n",
            "Unknown chunk type \u0000\u0000\u0000\u0000 - skipping\n",
            "Unknown chunk type \u0000\u0000\u0000\u0000 - skipping\n",
            "Unknown chunk type \u0000\u0000\u0000\u0000 - skipping\n",
            "Unknown chunk type \u0000\u0000\u0000\u0000 - skipping\n",
            "Unknown chunk type \u0000\u0000\u0000\u0000 - skipping\n",
            "Unknown chunk type \u0000\u0000\u0000\u0000 - skipping\n",
            "Unknown chunk type \u0000\u0000\u0000\u0000 - skipping\n",
            "Unknown chunk type \u0000\u0000\u0000\u0000 - skipping\n",
            "Unknown chunk type \u0000\u0000\u0000\u0000 - skipping\n",
            "Unknown chunk type \u0000\u0000\u0000\u0000 - skipping\n",
            "Unknown chunk type \u0000\u0000\u0000\u0000 - skipping\n",
            "Unknown chunk type \u0000\u0000\u0000\u0000 - skipping\n",
            "Unknown chunk type \u0000\u0000\u0000\u0000 - skipping\n",
            "Unknown chunk type \u0000\u0000\u0000\u0000 - skipping\n",
            "Unknown chunk type \u0000\u0000\u0000\u0000 - skipping\n",
            "Unknown chunk type \u0000\u0000\u0000\u0000 - skipping\n",
            "Unknown chunk type \u0000\u0000\u0000\u0000 - skipping\n",
            "Unknown chunk type \u0000\u0000\u0000\u0000 - skipping\n",
            "Unknown chunk type \u0000\u0000\u0000\u0000 - skipping\n",
            "Unknown chunk type \u0000\u0000\u0000\u0000 - skipping\n",
            "Unknown chunk type \u0000\u0000\u0000\u0000 - skipping\n",
            "Unknown chunk type \u0000\u0000\u0000\u0000 - skipping\n",
            "Unknown chunk type \u0000\u0000\u0000\u0000 - skipping\n",
            "Unknown chunk type \u0000\u0000\u0000\u0000 - skipping\n",
            "Unknown chunk type \u0000\u0000\u0000\u0000 - skipping\n",
            "Unknown chunk type \u0000\u0000\u0000\u0000 - skipping\n",
            "Unknown chunk type \u0000\u0000\u0000\u0000 - skipping\n",
            "Unknown chunk type \u0000\u0000\u0000\u0000 - skipping\n",
            "Unknown chunk type \u0000\u0000\u0000\u0000 - skipping\n",
            "Unknown chunk type \u0000\u0000\u0000\u0000 - skipping\n",
            "Unknown chunk type \u0000\u0000\u0000\u0000 - skipping\n",
            "Unknown chunk type \u0000\u0000\u0000\u0000 - skipping\n",
            "Unknown chunk type \u0000\u0000\u0000\u0000 - skipping\n",
            "Unknown chunk type \u0000\u0000\u0000\u0000 - skipping\n",
            "Unknown chunk type \u0000\u0000\u0000\u0000 - skipping\n",
            "Unknown chunk type \u0000\u0000\u0000\u0000 - skipping\n",
            "Unknown chunk type \u0000\u0000\u0000\u0000 - skipping\n",
            "Unknown chunk type \u0000\u0000\u0000\u0000 - skipping\n",
            "Unknown chunk type \u0000\u0000\u0000\u0000 - skipping\n",
            "Unknown chunk type \u0000\u0000\u0000\u0000 - skipping\n",
            "Unknown chunk type \u0000\u0000\u0000\u0000 - skipping\n",
            "Unknown chunk type \u0000\u0000\u0000\u0000 - skipping\n",
            "Unknown chunk type \u0000\u0000\u0000\u0000 - skipping\n",
            "Unknown chunk type \u0000\u0000\u0000\u0000 - skipping\n",
            "Unknown chunk type \u0000\u0000\u0000\u0000 - skipping\n",
            "Unknown chunk type \u0000\u0000\u0000\u0000 - skipping\n",
            "Unknown chunk type \u0000\u0000\u0000\u0000 - skipping\n",
            "Unknown chunk type \u0000\u0000\u0000\u0000 - skipping\n",
            "Unknown chunk type \u0000\u0000\u0000\u0000 - skipping\n",
            "Unknown chunk type \u0000\u0000\u0000\u0000 - skipping\n",
            "Unknown chunk type \u0000\u0000\u0000\u0000 - skipping\n",
            "Unknown chunk type \u0000\u0000\u0000\u0000 - skipping\n",
            "Unknown chunk type \u0000\u0000\u0000\u0000 - skipping\n",
            "Unknown chunk type \u0000\u0000\u0000\u0000 - skipping\n",
            "Unknown chunk type \u0000\u0000\u0000\u0000 - skipping\n",
            "Unknown chunk type \u0000\u0000\u0000\u0000 - skipping\n",
            "Unknown chunk type \u0000\u0000\u0000\u0000 - skipping\n",
            "Unknown chunk type \u0000\u0000\u0000\u0000 - skipping\n",
            "Unknown chunk type \u0000\u0000\u0000\u0000 - skipping\n",
            "Unknown chunk type \u0000\u0000\u0000\u0000 - skipping\n",
            "Unknown chunk type \u0000\u0000\u0000\u0000 - skipping\n",
            "Unknown chunk type \u0000\u0000\u0000\u0000 - skipping\n",
            "Unknown chunk type \u0000\u0000\u0000\u0000 - skipping\n",
            "Unknown chunk type \u0000\u0000\u0000\u0000 - skipping\n",
            "Unknown chunk type \u0000\u0000\u0000\u0000 - skipping\n",
            "Unknown chunk type \u0000\u0000\u0000\u0000 - skipping\n",
            "Unknown chunk type \u0000\u0000\u0000\u0000 - skipping\n",
            "Unknown chunk type \u0000\u0000\u0000\u0000 - skipping\n",
            "Unknown chunk type \u0000\u0000\u0000\u0000 - skipping\n",
            "Unknown chunk type \u0000\u0000\u0000\u0000 - skipping\n",
            "Unknown chunk type \u0000\u0000\u0000\u0000 - skipping\n",
            "Unknown chunk type \u0000\u0000\u0000\u0000 - skipping\n",
            "Unknown chunk type \u0000\u0000\u0000\u0000 - skipping\n",
            "Unknown chunk type \u0000\u0000\u0000\u0000 - skipping\n",
            "Unknown chunk type \u0000\u0000\u0000\u0000 - skipping\n",
            "Unknown chunk type \u0000\u0000\u0000\u0000 - skipping\n",
            "Unknown chunk type \u0000\u0000\u0000\u0000 - skipping\n",
            "Unknown chunk type \u0000\u0000\u0000\u0000 - skipping\n",
            "Unknown chunk type \u0000\u0000\u0000\u0000 - skipping\n",
            "Unknown chunk type \u0000\u0000\u0000\u0000 - skipping\n",
            "Unknown chunk type \u0000\u0000\u0000\u0000 - skipping\n",
            "Unknown chunk type \u0000\u0000\u0000\u0000 - skipping\n",
            "Unknown chunk type \u0000\u0000\u0000\u0000 - skipping\n",
            "Unknown chunk type \u0000\u0000\u0000\u0000 - skipping\n",
            "Unknown chunk type \u0000\u0000\u0000\u0000 - skipping\n",
            "Unknown chunk type \u0000\u0000\u0000\u0000 - skipping\n",
            "Unknown chunk type \u0000\u0000\u0000\u0000 - skipping\n",
            "Unknown chunk type \u0000\u0000\u0000\u0000 - skipping\n",
            "Unknown chunk type \u0000\u0000\u0000\u0000 - skipping\n",
            "Unknown chunk type \u0000\u0000\u0000\u0000 - skipping\n",
            "Unknown chunk type \u0000\u0000\u0000\u0000 - skipping\n",
            "Unknown chunk type \u0000\u0000\u0000\u0000 - skipping\n",
            "Unknown chunk type \u0000\u0000\u0000\u0000 - skipping\n",
            "Unknown chunk type \u0000\u0000\u0000\u0000 - skipping\n",
            "Unknown chunk type \u0000\u0000\u0000\u0000 - skipping\n",
            "Unknown chunk type \u0000\u0000\u0000\u0000 - skipping\n",
            "Unknown chunk type \u0000\u0000\u0000\u0000 - skipping\n",
            "Unknown chunk type \u0000\u0000\u0000\u0000 - skipping\n",
            "Unknown chunk type \u0000\u0000\u0000\u0000 - skipping\n",
            "Unknown chunk type \u0000\u0000\u0000\u0000 - skipping\n",
            "Unknown chunk type \u0000\u0000\u0000\u0000 - skipping\n",
            "Unknown chunk type \u0000\u0000\u0000\u0000 - skipping\n",
            "Unknown chunk type \u0000\u0000\u0000\u0000 - skipping\n",
            "Unknown chunk type \u0000\u0000\u0000\u0000 - skipping\n",
            "Unknown chunk type \u0000\u0000\u0000\u0000 - skipping\n",
            "Unknown chunk type \u0000\u0000\u0000\u0000 - skipping\n",
            "Unknown chunk type \u0000\u0000\u0000\u0000 - skipping\n",
            "Unknown chunk type \u0000\u0000\u0000\u0000 - skipping\n",
            "Unknown chunk type \u0000\u0000\u0000\u0000 - skipping\n",
            "Unknown chunk type \u0000\u0000\u0000\u0000 - skipping\n",
            "Unknown chunk type \u0000\u0000\u0000\u0000 - skipping\n",
            "Unknown chunk type \u0000\u0000\u0000\u0000 - skipping\n",
            "Unknown chunk type \u0000\u0000\u0000\u0000 - skipping\n",
            "Unknown chunk type \u0000\u0000\u0000\u0000 - skipping\n",
            "Unknown chunk type \u0000\u0000\u0000\u0000 - skipping\n",
            "Unknown chunk type \u0000\u0000\u0000\u0000 - skipping\n",
            "Unknown chunk type \u0000\u0000\u0000\u0000 - skipping\n",
            "Unknown chunk type \u0000\u0000\u0000\u0000 - skipping\n",
            "Unknown chunk type \u0000\u0000\u0000\u0000 - skipping\n",
            "Unknown chunk type \u0000\u0000\u0000\u0000 - skipping\n",
            "Unknown chunk type \u0000\u0000\u0000\u0000 - skipping\n",
            "Unknown chunk type \u0000\u0000\u0000\u0000 - skipping\n",
            "Unknown chunk type \u0000\u0000\u0000\u0000 - skipping\n",
            "Unknown chunk type \u0000\u0000\u0000\u0000 - skipping\n",
            "Unknown chunk type \u0000\u0000\u0000\u0000 - skipping\n",
            "Unknown chunk type \u0000\u0000\u0000\u0000 - skipping\n",
            "Unknown chunk type \u0000\u0000\u0000\u0000 - skipping\n",
            "Unknown chunk type \u0000\u0000\u0000\u0000 - skipping\n",
            "Unknown chunk type \u0000\u0000\u0000\u0000 - skipping\n",
            "Unknown chunk type \u0000\u0000\u0000\u0000 - skipping\n",
            "Unknown chunk type \u0000\u0000\u0000\u0000 - skipping\n",
            "Unknown chunk type \u0000\u0000\u0000\u0000 - skipping\n",
            "Unknown chunk type \u0000\u0000\u0000\u0000 - skipping\n",
            "Unknown chunk type \u0000\u0000\u0000\u0000 - skipping\n",
            "Unknown chunk type \u0000\u0000\u0000\u0000 - skipping\n",
            "Unknown chunk type \u0000\u0000\u0000\u0000 - skipping\n",
            "Unknown chunk type \u0000\u0000\u0000\u0000 - skipping\n",
            "Unknown chunk type \u0000\u0000\u0000\u0000 - skipping\n",
            "Unknown chunk type \u0000\u0000\u0000\u0000 - skipping\n",
            "Unknown chunk type \u0000\u0000\u0000\u0000 - skipping\n",
            "Unknown chunk type \u0000\u0000\u0000\u0000 - skipping\n",
            "Unknown chunk type \u0000\u0000\u0000\u0000 - skipping\n",
            "Unknown chunk type \u0000\u0000\u0000\u0000 - skipping\n",
            "Unknown chunk type \u0000\u0000\u0000\u0000 - skipping\n",
            "Unknown chunk type \u0000\u0000\u0000\u0000 - skipping\n",
            "Unknown chunk type \u0000\u0000\u0000\u0000 - skipping\n",
            "Unknown chunk type \u0000\u0000\u0000\u0000 - skipping\n",
            "Unknown chunk type \u0000\u0000\u0000\u0000 - skipping\n",
            "Unknown chunk type \u0000\u0000\u0000\u0000 - skipping\n",
            "Unknown chunk type \u0000\u0000\u0000\u0000 - skipping\n",
            "Unknown chunk type \u0000\u0000\u0000\u0000 - skipping\n",
            "Unknown chunk type \u0000\u0000\u0000\u0000 - skipping\n",
            "Unknown chunk type \u0000\u0000\u0000\u0000 - skipping\n",
            "Unknown chunk type \u0000\u0000\u0000\u0000 - skipping\n",
            "Unknown chunk type \u0000\u0000\u0000\u0000 - skipping\n",
            "Unknown chunk type \u0000\u0000\u0000\u0000 - skipping\n",
            "Unknown chunk type \u0000\u0000\u0000\u0000 - skipping\n",
            "Unknown chunk type \u0000\u0000\u0000\u0000 - skipping\n",
            "Unknown chunk type \u0000\u0000\u0000\u0000 - skipping\n",
            "Unknown chunk type \u0000\u0000\u0000\u0000 - skipping\n",
            "Unknown chunk type \u0000\u0000\u0000\u0000 - skipping\n",
            "Unknown chunk type \u0000\u0000\u0000\u0000 - skipping\n",
            "Unknown chunk type \u0000\u0000\u0000\u0000 - skipping\n",
            "Unknown chunk type \u0000\u0000\u0000\u0000 - skipping\n",
            "Unknown chunk type \u0000\u0000\u0000\u0000 - skipping\n",
            "Unknown chunk type \u0000\u0000\u0000\u0000 - skipping\n",
            "Unknown chunk type \u0000\u0000\u0000\u0000 - skipping\n",
            "Unknown chunk type \u0000\u0000\u0000\u0000 - skipping\n",
            "Unknown chunk type \u0000\u0000\u0000\u0000 - skipping\n",
            "Unknown chunk type \u0000\u0000\u0000\u0000 - skipping\n",
            "Unknown chunk type \u0000\u0000\u0000\u0000 - skipping\n",
            "Unknown chunk type \u0000\u0000\u0000\u0000 - skipping\n",
            "Unknown chunk type \u0000\u0000\u0000\u0000 - skipping\n",
            "Unknown chunk type \u0000\u0000\u0000\u0000 - skipping\n",
            "Unknown chunk type \u0000\u0000\u0000\u0000 - skipping\n",
            "Unknown chunk type \u0000\u0000\u0000\u0000 - skipping\n",
            "Unknown chunk type \u0000\u0000\u0000\u0000 - skipping\n",
            "Unknown chunk type \u0000\u0000\u0000\u0000 - skipping\n",
            "Unknown chunk type \u0000\u0000\u0000\u0000 - skipping\n",
            "Unknown chunk type \u0000\u0000\u0000\u0000 - skipping\n",
            "Unknown chunk type \u0000\u0000\u0000\u0000 - skipping\n",
            "Unknown chunk type \u0000\u0000\u0000\u0000 - skipping\n",
            "Unknown chunk type \u0000\u0000\u0000\u0000 - skipping\n",
            "Unknown chunk type \u0000\u0000\u0000\u0000 - skipping\n",
            "Unknown chunk type \u0000\u0000\u0000\u0000 - skipping\n",
            "Unknown chunk type \u0000\u0000\u0000\u0000 - skipping\n",
            "Unknown chunk type \u0000\u0000\u0000\u0000 - skipping\n",
            "Unknown chunk type \u0000\u0000\u0000\u0000 - skipping\n",
            "Unknown chunk type \u0000\u0000\u0000\u0000 - skipping\n",
            "Unknown chunk type \u0000\u0000\u0000\u0000 - skipping\n",
            "Unknown chunk type \u0000\u0000\u0000\u0000 - skipping\n",
            "Unknown chunk type \u0000\u0000\u0000\u0000 - skipping\n",
            "Unknown chunk type \u0000\u0000\u0000\u0000 - skipping\n",
            "Unknown chunk type \u0000\u0000\u0000\u0000 - skipping\n",
            "Unknown chunk type \u0000\u0000\u0000\u0000 - skipping\n",
            "Unknown chunk type \u0000\u0000\u0000\u0000 - skipping\n",
            "Unknown chunk type \u0000\u0000\u0000\u0000 - skipping\n",
            "Unknown chunk type \u0000\u0000\u0000\u0000 - skipping\n",
            "Unknown chunk type \u0000\u0000\u0000\u0000 - skipping\n",
            "Unknown chunk type \u0000\u0000\u0000\u0000 - skipping\n",
            "Unknown chunk type \u0000\u0000\u0000\u0000 - skipping\n",
            "Unknown chunk type \u0000\u0000\u0000\u0000 - skipping\n",
            "Unknown chunk type \u0000\u0000\u0000\u0000 - skipping\n",
            "Unknown chunk type \u0000\u0000\u0000\u0000 - skipping\n",
            "Unknown chunk type \u0000\u0000\u0000\u0000 - skipping\n",
            "Unknown chunk type \u0000\u0000\u0000\u0000 - skipping\n",
            "Unknown chunk type \u0000\u0000\u0000\u0000 - skipping\n",
            "Unknown chunk type \u0000\u0000\u0000\u0000 - skipping\n",
            "Unknown chunk type \u0000\u0000\u0000\u0000 - skipping\n",
            "Unknown chunk type \u0000\u0000\u0000\u0000 - skipping\n",
            "Unknown chunk type \u0000\u0000\u0000\u0000 - skipping\n",
            "Unknown chunk type \u0000\u0000\u0000\u0000 - skipping\n",
            "Unknown chunk type \u0000\u0000\u0000\u0000 - skipping\n",
            "Unknown chunk type \u0000\u0000\u0000\u0000 - skipping\n",
            "Unknown chunk type \u0000\u0000\u0000\u0000 - skipping\n",
            "Unknown chunk type \u0000\u0000\u0000\u0000 - skipping\n",
            "Unknown chunk type \u0000\u0000\u0000\u0000 - skipping\n",
            "Unknown chunk type \u0000\u0000\u0000\u0000 - skipping\n",
            "Unknown chunk type \u0000\u0000\u0000\u0000 - skipping\n",
            "Unknown chunk type \u0000\u0000\u0000\u0000 - skipping\n",
            "Unknown chunk type \u0000\u0000\u0000\u0000 - skipping\n",
            "Unknown chunk type \u0000\u0000\u0000\u0000 - skipping\n",
            "Unknown chunk type \u0000\u0000\u0000\u0000 - skipping\n",
            "Unknown chunk type \u0000\u0000\u0000\u0000 - skipping\n",
            "Unknown chunk type \u0000\u0000\u0000\u0000 - skipping\n",
            "Unknown chunk type \u0000\u0000\u0000\u0000 - skipping\n",
            "Unknown chunk type \u0000\u0000\u0000\u0000 - skipping\n",
            "Unknown chunk type \u0000\u0000\u0000\u0000 - skipping\n",
            "Unknown chunk type \u0000\u0000\u0000\u0000 - skipping\n",
            "Unknown chunk type \u0000\u0000\u0000\u0000 - skipping\n",
            "Unknown chunk type \u0000\u0000\u0000\u0000 - skipping\n",
            "Unknown chunk type \u0000\u0000\u0000\u0000 - skipping\n",
            "Unknown chunk type \u0000\u0000\u0000\u0000 - skipping\n",
            "Unknown chunk type \u0000\u0000\u0000\u0000 - skipping\n",
            "Unknown chunk type \u0000\u0000\u0000\u0000 - skipping\n",
            "Unknown chunk type \u0000\u0000\u0000\u0000 - skipping\n",
            "Unknown chunk type \u0000\u0000\u0000\u0000 - skipping\n",
            "Unknown chunk type \u0000\u0000\u0000\u0000 - skipping\n",
            "Unknown chunk type \u0000\u0000\u0000\u0000 - skipping\n",
            "Unknown chunk type \u0000\u0000\u0000\u0000 - skipping\n",
            "Unknown chunk type \u0000\u0000\u0000\u0000 - skipping\n",
            "Unknown chunk type \u0000\u0000\u0000\u0000 - skipping\n",
            "Unknown chunk type \u0000\u0000\u0000\u0000 - skipping\n",
            "Unknown chunk type \u0000\u0000\u0000\u0000 - skipping\n",
            "Unknown chunk type \u0000\u0000\u0000\u0000 - skipping\n",
            "Unknown chunk type \u0000\u0000\u0000\u0000 - skipping\n",
            "Unknown chunk type \u0000\u0000\u0000\u0000 - skipping\n",
            "Unknown chunk type \u0000\u0000\u0000\u0000 - skipping\n",
            "Unknown chunk type \u0000\u0000\u0000\u0000 - skipping\n",
            "Unknown chunk type \u0000\u0000\u0000\u0000 - skipping\n",
            "Unknown chunk type \u0000\u0000\u0000\u0000 - skipping\n",
            "Unknown chunk type \u0000\u0000\u0000\u0000 - skipping\n",
            "Unknown chunk type \u0000\u0000\u0000\u0000 - skipping\n",
            "Unknown chunk type \u0000\u0000\u0000\u0000 - skipping\n",
            "Unknown chunk type \u0000\u0000\u0000\u0000 - skipping\n",
            "Unknown chunk type \u0000\u0000\u0000\u0000 - skipping\n",
            "Unknown chunk type \u0000\u0000\u0000\u0000 - skipping\n",
            "Unknown chunk type \u0000\u0000\u0000\u0000 - skipping\n",
            "Unknown chunk type \u0000\u0000\u0000\u0000 - skipping\n",
            "Unknown chunk type \u0000\u0000\u0000\u0000 - skipping\n",
            "Unknown chunk type \u0000\u0000\u0000\u0000 - skipping\n",
            "Unknown chunk type \u0000\u0000\u0000\u0000 - skipping\n",
            "Unknown chunk type \u0000\u0000\u0000\u0000 - skipping\n",
            "Unknown chunk type \u0000\u0000\u0000\u0000 - skipping\n",
            "Unknown chunk type \u0000\u0000\u0000\u0000 - skipping\n",
            "Unknown chunk type \u0000\u0000\u0000\u0000 - skipping\n",
            "Unknown chunk type \u0000\u0000\u0000\u0000 - skipping\n",
            "Unknown chunk type \u0000\u0000\u0000\u0000 - skipping\n",
            "Unknown chunk type \u0000\u0000\u0000\u0000 - skipping\n",
            "Unknown chunk type \u0000\u0000\u0000\u0000 - skipping\n",
            "Unknown chunk type \u0000\u0000\u0000\u0000 - skipping\n",
            "Unknown chunk type \u0000\u0000\u0000\u0000 - skipping\n",
            "Unknown chunk type \u0000\u0000\u0000\u0000 - skipping\n",
            "Unknown chunk type \u0000\u0000\u0000\u0000 - skipping\n",
            "Unknown chunk type \u0000\u0000\u0000\u0000 - skipping\n",
            "Unknown chunk type \u0000\u0000\u0000\u0000 - skipping\n",
            "Unknown chunk type \u0000\u0000\u0000\u0000 - skipping\n",
            "Unknown chunk type \u0000\u0000\u0000\u0000 - skipping\n",
            "Unknown chunk type \u0000\u0000\u0000\u0000 - skipping\n",
            "Unknown chunk type \u0000\u0000\u0000\u0000 - skipping\n",
            "Unknown chunk type \u0000\u0000\u0000\u0000 - skipping\n",
            "Unknown chunk type \u0000\u0000\u0000\u0000 - skipping\n",
            "Unknown chunk type \u0000\u0000\u0000\u0000 - skipping\n",
            "Unknown chunk type \u0000\u0000\u0000\u0000 - skipping\n",
            "Unknown chunk type \u0000\u0000\u0000\u0000 - skipping\n",
            "Unknown chunk type \u0000\u0000\u0000\u0000 - skipping\n",
            "Unknown chunk type \u0000\u0000\u0000\u0000 - skipping\n",
            "Unknown chunk type \u0000\u0000\u0000\u0000 - skipping\n",
            "Unknown chunk type \u0000\u0000\u0000\u0000 - skipping\n",
            "Unknown chunk type \u0000\u0000\u0000\u0000 - skipping\n",
            "Unknown chunk type \u0000\u0000\u0000\u0000 - skipping\n",
            "Unknown chunk type \u0000\u0000\u0000\u0000 - skipping\n",
            "Unknown chunk type \u0000\u0000\u0000\u0000 - skipping\n",
            "Unknown chunk type \u0000\u0000\u0000\u0000 - skipping\n",
            "Unknown chunk type \u0000\u0000\u0000\u0000 - skipping\n",
            "Unknown chunk type \u0000\u0000\u0000\u0000 - skipping\n",
            "Unknown chunk type \u0000\u0000\u0000\u0000 - skipping\n",
            "Unknown chunk type \u0000\u0000\u0000\u0000 - skipping\n",
            "Unknown chunk type \u0000\u0000\u0000\u0000 - skipping\n",
            "Unknown chunk type \u0000\u0000\u0000\u0000 - skipping\n",
            "Unknown chunk type \u0000\u0000\u0000\u0000 - skipping\n",
            "Unknown chunk type \u0000\u0000\u0000\u0000 - skipping\n",
            "Unknown chunk type \u0000\u0000\u0000\u0000 - skipping\n",
            "Unknown chunk type \u0000\u0000\u0000\u0000 - skipping\n",
            "Unknown chunk type \u0000\u0000\u0000\u0000 - skipping\n",
            "Unknown chunk type \u0000\u0000\u0000\u0000 - skipping\n",
            "Unknown chunk type \u0000\u0000\u0000\u0000 - skipping\n",
            "Unknown chunk type \u0000\u0000\u0000\u0000 - skipping\n",
            "Unknown chunk type \u0000\u0000\u0000\u0000 - skipping\n",
            "Unknown chunk type \u0000\u0000\u0000\u0000 - skipping\n",
            "Unknown chunk type \u0000\u0000\u0000\u0000 - skipping\n",
            "Unknown chunk type \u0000\u0000\u0000\u0000 - skipping\n",
            "Unknown chunk type \u0000\u0000\u0000\u0000 - skipping\n",
            "Unknown chunk type \u0000\u0000\u0000\u0000 - skipping\n",
            "Unknown chunk type \u0000\u0000\u0000\u0000 - skipping\n",
            "Unknown chunk type \u0000\u0000\u0000\u0000 - skipping\n",
            "Unknown chunk type \u0000\u0000\u0000\u0000 - skipping\n",
            "Unknown chunk type \u0000\u0000\u0000\u0000 - skipping\n",
            "Unknown chunk type \u0000\u0000\u0000\u0000 - skipping\n",
            "Unknown chunk type \u0000\u0000\u0000\u0000 - skipping\n",
            "Unknown chunk type \u0000\u0000\u0000\u0000 - skipping\n",
            "Unknown chunk type \u0000\u0000\u0000\u0000 - skipping\n",
            "Unknown chunk type \u0000\u0000\u0000\u0000 - skipping\n",
            "Unknown chunk type \u0000\u0000\u0000\u0000 - skipping\n",
            "Unknown chunk type \u0000\u0000\u0000\u0000 - skipping\n",
            "Unknown chunk type \u0000\u0000\u0000\u0000 - skipping\n",
            "Unknown chunk type \u0000\u0000\u0000\u0000 - skipping\n",
            "Unknown chunk type \u0000\u0000\u0000\u0000 - skipping\n",
            "Unknown chunk type \u0000\u0000\u0000\u0000 - skipping\n",
            "Unknown chunk type \u0000\u0000\u0000\u0000 - skipping\n",
            "Unknown chunk type \u0000\u0000\u0000\u0000 - skipping\n",
            "Unknown chunk type \u0000\u0000\u0000\u0000 - skipping\n",
            "Unknown chunk type \u0000\u0000\u0000\u0000 - skipping\n",
            "Unknown chunk type \u0000\u0000\u0000\u0000 - skipping\n",
            "Unknown chunk type \u0000\u0000\u0000\u0000 - skipping\n",
            "Unknown chunk type \u0000\u0000\u0000\u0000 - skipping\n",
            "Unknown chunk type \u0000\u0000\u0000\u0000 - skipping\n",
            "Unknown chunk type \u0000\u0000\u0000\u0000 - skipping\n",
            "Unknown chunk type \u0000\u0000\u0000\u0000 - skipping\n",
            "Unknown chunk type \u0000\u0000\u0000\u0000 - skipping\n",
            "Unknown chunk type \u0000\u0000\u0000\u0000 - skipping\n",
            "Unknown chunk type \u0000\u0000\u0000\u0000 - skipping\n",
            "Unknown chunk type \u0000\u0000\u0000\u0000 - skipping\n",
            "Unknown chunk type \u0000\u0000\u0000\u0000 - skipping\n",
            "Unknown chunk type \u0000\u0000\u0000\u0000 - skipping\n",
            "Unknown chunk type \u0000\u0000\u0000\u0000 - skipping\n",
            "Unknown chunk type \u0000\u0000\u0000\u0000 - skipping\n",
            "Unknown chunk type \u0000\u0000\u0000\u0000 - skipping\n",
            "Unknown chunk type \u0000\u0000\u0000\u0000 - skipping\n",
            "Unknown chunk type \u0000\u0000\u0000\u0000 - skipping\n",
            "Unknown chunk type \u0000\u0000\u0000\u0000 - skipping\n",
            "Unknown chunk type \u0000\u0000\u0000\u0000 - skipping\n",
            "Unknown chunk type \u0000\u0000\u0000\u0000 - skipping\n",
            "Unknown chunk type \u0000\u0000\u0000\u0000 - skipping\n",
            "Unknown chunk type \u0000\u0000\u0000\u0000 - skipping\n",
            "Unknown chunk type \u0000\u0000\u0000\u0000 - skipping\n",
            "Unknown chunk type \u0000\u0000\u0000\u0000 - skipping\n",
            "Unknown chunk type \u0000\u0000\u0000\u0000 - skipping\n",
            "Unknown chunk type \u0000\u0000\u0000\u0000 - skipping\n",
            "Unknown chunk type \u0000\u0000\u0000\u0000 - skipping\n",
            "Unknown chunk type \u0000\u0000\u0000\u0000 - skipping\n",
            "Unknown chunk type \u0000\u0000\u0000\u0000 - skipping\n",
            "Unknown chunk type \u0000\u0000\u0000\u0000 - skipping\n",
            "Unknown chunk type \u0000\u0000\u0000\u0000 - skipping\n",
            "Unknown chunk type \u0000\u0000\u0000\u0000 - skipping\n",
            "Unknown chunk type \u0000\u0000\u0000\u0000 - skipping\n",
            "Unknown chunk type \u0000\u0000\u0000\u0000 - skipping\n",
            "Unknown chunk type \u0000\u0000\u0000\u0000 - skipping\n",
            "Unknown chunk type \u0000\u0000\u0000\u0000 - skipping\n",
            "Unknown chunk type \u0000\u0000\u0000\u0000 - skipping\n",
            "Unknown chunk type \u0000\u0000\u0000\u0000 - skipping\n",
            "Unknown chunk type \u0000\u0000\u0000\u0000 - skipping\n",
            "Unknown chunk type \u0000\u0000\u0000\u0000 - skipping\n",
            "Unknown chunk type \u0000\u0000\u0000\u0000 - skipping\n",
            "Unknown chunk type \u0000\u0000\u0000\u0000 - skipping\n",
            "Unknown chunk type \u0000\u0000\u0000\u0000 - skipping\n",
            "Unknown chunk type \u0000\u0000\u0000\u0000 - skipping\n",
            "Unknown chunk type \u0000\u0000\u0000\u0000 - skipping\n",
            "Unknown chunk type \u0000\u0000\u0000\u0000 - skipping\n",
            "Unknown chunk type \u0000\u0000\u0000\u0000 - skipping\n",
            "Unknown chunk type \u0000\u0000\u0000\u0000 - skipping\n",
            "Unknown chunk type \u0000\u0000\u0000\u0000 - skipping\n",
            "Unknown chunk type \u0000\u0000\u0000\u0000 - skipping\n",
            "Unknown chunk type \u0000\u0000\u0000\u0000 - skipping\n",
            "Unknown chunk type \u0000\u0000\u0000\u0000 - skipping\n",
            "Unknown chunk type \u0000\u0000\u0000\u0000 - skipping\n",
            "Unknown chunk type \u0000\u0000\u0000\u0000 - skipping\n",
            "Unknown chunk type \u0000\u0000\u0000\u0000 - skipping\n",
            "Unknown chunk type \u0000\u0000\u0000\u0000 - skipping\n",
            "Unknown chunk type \u0000\u0000\u0000\u0000 - skipping\n",
            "Unknown chunk type \u0000\u0000\u0000\u0000 - skipping\n",
            "Unknown chunk type \u0000\u0000\u0000\u0000 - skipping\n",
            "Unknown chunk type \u0000\u0000\u0000\u0000 - skipping\n",
            "Unknown chunk type \u0000\u0000\u0000\u0000 - skipping\n",
            "Unknown chunk type \u0000\u0000\u0000\u0000 - skipping\n",
            "Unknown chunk type \u0000\u0000\u0000\u0000 - skipping\n",
            "Unknown chunk type \u0000\u0000\u0000\u0000 - skipping\n",
            "Unknown chunk type \u0000\u0000\u0000\u0000 - skipping\n",
            "n -1 d -1 cpt -1 dp24c -1\n",
            "key C mode major tempo -1\n"
          ],
          "name": "stdout"
        },
        {
          "output_type": "stream",
          "text": [
            "Traceback (most recent call last):\n",
            "  File \"/usr/local/lib/python3.7/dist-packages/MIDI/chunks/track.py\", line 37, in parse\n",
            "    event = MIDIEvent(time,self.buffer)\n",
            "  File \"/usr/local/lib/python3.7/dist-packages/MIDI/Events/midi.py\", line 43, in __init__\n",
            "    length = len(self.message) if self.message else 0\n",
            "TypeError: 'method' object cannot be interpreted as an integer\n",
            "Traceback (most recent call last):\n",
            "  File \"/usr/local/lib/python3.7/dist-packages/MIDI/chunks/track.py\", line 37, in parse\n",
            "    event = MIDIEvent(time,self.buffer)\n",
            "  File \"/usr/local/lib/python3.7/dist-packages/MIDI/Events/midi.py\", line 43, in __init__\n",
            "    length = len(self.message) if self.message else 0\n",
            "TypeError: 'method' object cannot be interpreted as an integer\n",
            "Traceback (most recent call last):\n",
            "  File \"/usr/local/lib/python3.7/dist-packages/MIDI/chunks/track.py\", line 37, in parse\n",
            "    event = MIDIEvent(time,self.buffer)\n",
            "  File \"/usr/local/lib/python3.7/dist-packages/MIDI/Events/midi.py\", line 43, in __init__\n",
            "    length = len(self.message) if self.message else 0\n",
            "TypeError: 'method' object cannot be interpreted as an integer\n"
          ],
          "name": "stderr"
        },
        {
          "output_type": "stream",
          "text": [
            "n 4 d 4 cpt 24 dp24c 8\n",
            "key C mode major tempo 94.73688\n",
            "n 4 d 4 cpt 24 dp24c 8\n",
            "key C mode major tempo 110.76912\n",
            "n -1 d -1 cpt -1 dp24c -1\n",
            "key C mode major tempo 257.14296\n"
          ],
          "name": "stdout"
        },
        {
          "output_type": "stream",
          "text": [
            "Traceback (most recent call last):\n",
            "  File \"/usr/local/lib/python3.7/dist-packages/MIDI/chunks/track.py\", line 30, in parse\n",
            "    eventType=self.buffer[0]\n",
            "IndexError: index out of range\n",
            "Traceback (most recent call last):\n",
            "  File \"/usr/local/lib/python3.7/dist-packages/MIDI/chunks/track.py\", line 37, in parse\n",
            "    event = MIDIEvent(time,self.buffer)\n",
            "  File \"/usr/local/lib/python3.7/dist-packages/MIDI/Events/midi.py\", line 43, in __init__\n",
            "    length = len(self.message) if self.message else 0\n",
            "TypeError: 'method' object cannot be interpreted as an integer\n"
          ],
          "name": "stderr"
        },
        {
          "output_type": "stream",
          "text": [
            "n -1 d -1 cpt -1 dp24c -1\n",
            "key C mode major tempo 158.24184\n"
          ],
          "name": "stdout"
        },
        {
          "output_type": "stream",
          "text": [
            "Traceback (most recent call last):\n",
            "  File \"/usr/local/lib/python3.7/dist-packages/MIDI/chunks/track.py\", line 33, in parse\n",
            "    event = MetaEvent(time,self.buffer)\n",
            "  File \"/usr/local/lib/python3.7/dist-packages/MIDI/Events/meta.py\", line 75, in __init__\n",
            "    self.attributes = self.message.attributes(self.data)\n",
            "  File \"/usr/local/lib/python3.7/dist-packages/MIDI/Events/meta.py\", line 55, in attributes\n",
            "    return OrderedDict(key=self.key(_bytes[0]),mode=mode)\n",
            "  File \"/usr/local/lib/python3.7/dist-packages/MIDI/Events/meta.py\", line 31, in key\n",
            "    return ['C','G','D','A','E','B','F#','C#'][n]\n",
            "IndexError: list index out of range\n"
          ],
          "name": "stderr"
        },
        {
          "output_type": "stream",
          "text": [
            "n 4 d 4 cpt 24 dp24c 8\n",
            "key unknown mode unknown tempo -1\n",
            "n -1 d -1 cpt -1 dp24c -1\n",
            "key C mode major tempo 120.0\n",
            "n 4 d 4 cpt 24 dp24c 8\n",
            "key E mode major tempo 110.76912\n",
            "n 4 d 4 cpt 24 dp24c 8\n",
            "key C mode major tempo 175.60968\n"
          ],
          "name": "stdout"
        },
        {
          "output_type": "stream",
          "text": [
            "Traceback (most recent call last):\n",
            "  File \"/usr/local/lib/python3.7/dist-packages/MIDI/chunks/track.py\", line 33, in parse\n",
            "    event = MetaEvent(time,self.buffer)\n",
            "  File \"/usr/local/lib/python3.7/dist-packages/MIDI/Events/meta.py\", line 75, in __init__\n",
            "    self.attributes = self.message.attributes(self.data)\n",
            "  File \"/usr/local/lib/python3.7/dist-packages/MIDI/Events/meta.py\", line 55, in attributes\n",
            "    return OrderedDict(key=self.key(_bytes[0]),mode=mode)\n",
            "  File \"/usr/local/lib/python3.7/dist-packages/MIDI/Events/meta.py\", line 31, in key\n",
            "    return ['C','G','D','A','E','B','F#','C#'][n]\n",
            "IndexError: list index out of range\n"
          ],
          "name": "stderr"
        },
        {
          "output_type": "stream",
          "text": [
            "n 3 d 4 cpt 24 dp24c 8\n",
            "key unknown mode unknown tempo -1\n"
          ],
          "name": "stdout"
        },
        {
          "output_type": "stream",
          "text": [
            "Traceback (most recent call last):\n",
            "  File \"/usr/local/lib/python3.7/dist-packages/MIDI/chunks/track.py\", line 37, in parse\n",
            "    event = MIDIEvent(time,self.buffer)\n",
            "  File \"/usr/local/lib/python3.7/dist-packages/MIDI/Events/midi.py\", line 43, in __init__\n",
            "    length = len(self.message) if self.message else 0\n",
            "TypeError: 'method' object cannot be interpreted as an integer\n"
          ],
          "name": "stderr"
        },
        {
          "output_type": "stream",
          "text": [
            "n 4 d 4 cpt 24 dp24c 8\n",
            "key C mode major tempo 144.0\n",
            "n -1 d -1 cpt -1 dp24c -1\n",
            "key C mode major tempo 116.12904\n"
          ],
          "name": "stdout"
        },
        {
          "output_type": "stream",
          "text": [
            "Traceback (most recent call last):\n",
            "  File \"/usr/local/lib/python3.7/dist-packages/MIDI/chunks/track.py\", line 33, in parse\n",
            "    event = MetaEvent(time,self.buffer)\n",
            "  File \"/usr/local/lib/python3.7/dist-packages/MIDI/Events/meta.py\", line 75, in __init__\n",
            "    self.attributes = self.message.attributes(self.data)\n",
            "  File \"/usr/local/lib/python3.7/dist-packages/MIDI/Events/meta.py\", line 55, in attributes\n",
            "    return OrderedDict(key=self.key(_bytes[0]),mode=mode)\n",
            "  File \"/usr/local/lib/python3.7/dist-packages/MIDI/Events/meta.py\", line 31, in key\n",
            "    return ['C','G','D','A','E','B','F#','C#'][n]\n",
            "IndexError: list index out of range\n"
          ],
          "name": "stderr"
        },
        {
          "output_type": "stream",
          "text": [
            "n -1 d -1 cpt -1 dp24c -1\n",
            "key unknown mode unknown tempo 60.0\n",
            "n -1 d -1 cpt -1 dp24c -1\n",
            "key G mode major tempo 132.11016\n",
            "n 4 d 4 cpt 36 dp24c 8\n",
            "key C mode major tempo 75.78936\n",
            "n -1 d -1 cpt -1 dp24c -1\n",
            "key C mode major tempo 125.21736\n",
            "n -1 d -1 cpt -1 dp24c -1\n",
            "key C mode major tempo 148.45368\n",
            "n 4 d 4 cpt 24 dp24c 8\n",
            "key C mode major tempo 145.45464\n",
            "n 4 d 4 cpt 24 dp24c 8\n",
            "key C mode major tempo 221.53848\n"
          ],
          "name": "stdout"
        },
        {
          "output_type": "stream",
          "text": [
            "Traceback (most recent call last):\n",
            "  File \"/usr/local/lib/python3.7/dist-packages/MIDI/chunks/track.py\", line 37, in parse\n",
            "    event = MIDIEvent(time,self.buffer)\n",
            "  File \"/usr/local/lib/python3.7/dist-packages/MIDI/Events/midi.py\", line 43, in __init__\n",
            "    length = len(self.message) if self.message else 0\n",
            "TypeError: 'method' object cannot be interpreted as an integer\n"
          ],
          "name": "stderr"
        },
        {
          "output_type": "stream",
          "text": [
            "n 4 d 4 cpt 24 dp24c 8\n",
            "key D mode major tempo 115.2\n",
            "Unknown chunk type ~x9\u0000 - skipping\n",
            "n 4 d 4 cpt 24 dp24c 8\n",
            "key D mode major tempo 144.0\n"
          ],
          "name": "stdout"
        },
        {
          "output_type": "stream",
          "text": [
            "Traceback (most recent call last):\n",
            "  File \"/usr/local/lib/python3.7/dist-packages/MIDI/chunks/track.py\", line 37, in parse\n",
            "    event = MIDIEvent(time,self.buffer)\n",
            "  File \"/usr/local/lib/python3.7/dist-packages/MIDI/Events/midi.py\", line 43, in __init__\n",
            "    length = len(self.message) if self.message else 0\n",
            "TypeError: 'method' object cannot be interpreted as an integer\n"
          ],
          "name": "stderr"
        },
        {
          "output_type": "stream",
          "text": [
            "n 2 d 4 cpt 24 dp24c 8\n",
            "key C mode major tempo 106.66656\n",
            "n -1 d -1 cpt -1 dp24c -1\n",
            "key C mode major tempo 141.1764\n",
            "n 2 d 4 cpt 24 dp24c 8\n",
            "key A mode major tempo 135.84912\n",
            "n -1 d -1 cpt -1 dp24c -1\n",
            "key unknown mode unknown tempo 106.66656\n",
            "n -1 d -1 cpt -1 dp24c -1\n",
            "key C mode major tempo 70.58808\n",
            "n 4 d 4 cpt 24 dp24c 8\n",
            "key C mode major tempo 106.50888\n",
            "n -1 d -1 cpt -1 dp24c -1\n",
            "key unknown mode unknown tempo 114.2856\n",
            "n -1 d -1 cpt -1 dp24c -1\n",
            "key unknown mode unknown tempo -1\n"
          ],
          "name": "stdout"
        },
        {
          "output_type": "stream",
          "text": [
            "Traceback (most recent call last):\n",
            "  File \"/usr/local/lib/python3.7/dist-packages/MIDI/chunks/track.py\", line 33, in parse\n",
            "    event = MetaEvent(time,self.buffer)\n",
            "  File \"/usr/local/lib/python3.7/dist-packages/MIDI/Events/meta.py\", line 75, in __init__\n",
            "    self.attributes = self.message.attributes(self.data)\n",
            "  File \"/usr/local/lib/python3.7/dist-packages/MIDI/Events/meta.py\", line 55, in attributes\n",
            "    return OrderedDict(key=self.key(_bytes[0]),mode=mode)\n",
            "  File \"/usr/local/lib/python3.7/dist-packages/MIDI/Events/meta.py\", line 31, in key\n",
            "    return ['C','G','D','A','E','B','F#','C#'][n]\n",
            "IndexError: list index out of range\n"
          ],
          "name": "stderr"
        },
        {
          "output_type": "stream",
          "text": [
            "n 7 d 8 cpt 12 dp24c 8\n",
            "key unknown mode unknown tempo 192.0\n",
            "n -1 d -1 cpt -1 dp24c -1\n",
            "key unknown mode unknown tempo -1\n",
            "n 4 d 4 cpt 24 dp24c 8\n",
            "key C mode major tempo 165.5172\n",
            "n -1 d -1 cpt -1 dp24c -1\n",
            "key D mode major tempo 144.0\n",
            "n -1 d -1 cpt -1 dp24c -1\n",
            "key unknown mode unknown tempo 96.0\n",
            "n 4 d 4 cpt 24 dp24c 8\n",
            "key A mode major tempo 225.0\n",
            "n 4 d 4 cpt 24 dp24c 8\n",
            "key C mode major tempo 146.9388\n",
            "n -1 d -1 cpt -1 dp24c -1\n",
            "key C mode major tempo 123.0768\n",
            "n 4 d 4 cpt 24 dp24c 8\n",
            "key C mode major tempo -1\n",
            "n 4 d 4 cpt 24 dp24c 8\n",
            "key C mode major tempo 163.63632\n",
            "n 4 d 4 cpt 24 dp24c 8\n",
            "key C# mode major tempo 66.66672\n",
            "n 6 d 8 cpt 12 dp24c 8\n",
            "key D mode major tempo 70.58832\n",
            "n -1 d -1 cpt -1 dp24c -1\n",
            "key C mode major tempo 133.33344\n",
            "n -1 d -1 cpt -1 dp24c -1\n",
            "key C mode major tempo -1\n",
            "n -1 d -1 cpt -1 dp24c -1\n",
            "key G mode major tempo 109.0908\n",
            "n -1 d -1 cpt -1 dp24c -1\n",
            "key unknown mode unknown tempo 124.13784\n",
            "n 4 d 4 cpt 24 dp24c 8\n",
            "key C mode major tempo 160.00008\n",
            "n -1 d -1 cpt -1 dp24c -1\n",
            "key C mode major tempo 165.5172\n",
            "n 4 d 4 cpt 24 dp24c 8\n",
            "key C mode major tempo 252.63168\n",
            "n 4 d 4 cpt 24 dp24c 8\n",
            "key C mode major tempo 130.9092\n"
          ],
          "name": "stdout"
        },
        {
          "output_type": "stream",
          "text": [
            "Traceback (most recent call last):\n",
            "  File \"/usr/local/lib/python3.7/dist-packages/MIDI/chunks/track.py\", line 37, in parse\n",
            "    event = MIDIEvent(time,self.buffer)\n",
            "  File \"/usr/local/lib/python3.7/dist-packages/MIDI/Events/midi.py\", line 43, in __init__\n",
            "    length = len(self.message) if self.message else 0\n",
            "TypeError: 'method' object cannot be interpreted as an integer\n",
            "Traceback (most recent call last):\n",
            "  File \"/usr/local/lib/python3.7/dist-packages/MIDI/chunks/track.py\", line 37, in parse\n",
            "    event = MIDIEvent(time,self.buffer)\n",
            "  File \"/usr/local/lib/python3.7/dist-packages/MIDI/Events/midi.py\", line 43, in __init__\n",
            "    length = len(self.message) if self.message else 0\n",
            "TypeError: 'method' object cannot be interpreted as an integer\n",
            "Traceback (most recent call last):\n",
            "  File \"/usr/local/lib/python3.7/dist-packages/MIDI/chunks/track.py\", line 30, in parse\n",
            "    eventType=self.buffer[0]\n",
            "IndexError: index out of range\n",
            "Traceback (most recent call last):\n",
            "  File \"/usr/local/lib/python3.7/dist-packages/MIDI/chunks/track.py\", line 37, in parse\n",
            "    event = MIDIEvent(time,self.buffer)\n",
            "  File \"/usr/local/lib/python3.7/dist-packages/MIDI/Events/midi.py\", line 43, in __init__\n",
            "    length = len(self.message) if self.message else 0\n",
            "TypeError: 'method' object cannot be interpreted as an integer\n"
          ],
          "name": "stderr"
        },
        {
          "output_type": "stream",
          "text": [
            "n 4 d 4 cpt 24 dp24c 8\n",
            "key A mode major tempo 119.00832\n",
            "n 4 d 4 cpt 24 dp24c 8\n",
            "key C mode major tempo 126.31584\n",
            "n 4 d 4 cpt 24 dp24c 8\n",
            "key C mode major tempo 240.0\n",
            "n 4 d 4 cpt 24 dp24c 8\n",
            "key C mode major tempo 156.52176\n"
          ],
          "name": "stdout"
        },
        {
          "output_type": "stream",
          "text": [
            "Traceback (most recent call last):\n",
            "  File \"/usr/local/lib/python3.7/dist-packages/MIDI/chunks/track.py\", line 37, in parse\n",
            "    event = MIDIEvent(time,self.buffer)\n",
            "  File \"/usr/local/lib/python3.7/dist-packages/MIDI/Events/midi.py\", line 43, in __init__\n",
            "    length = len(self.message) if self.message else 0\n",
            "TypeError: 'method' object cannot be interpreted as an integer\n"
          ],
          "name": "stderr"
        },
        {
          "output_type": "stream",
          "text": [
            "n 4 d 4 cpt 24 dp24c 8\n",
            "key unknown mode unknown tempo 101.4084\n",
            "n 4 d 4 cpt 24 dp24c 8\n",
            "key G mode major tempo 68.57136\n",
            "n -1 d -1 cpt -1 dp24c -1\n",
            "key C mode major tempo 102.85704\n",
            "n -1 d -1 cpt -1 dp24c -1\n",
            "key C mode major tempo 180.0\n",
            "n -1 d -1 cpt -1 dp24c -1\n",
            "key unknown mode unknown tempo 133.3332\n",
            "n 6 d 4 cpt 24 dp24c 8\n",
            "key C mode major tempo 91.60296\n",
            "n 4 d 4 cpt 24 dp24c 8\n",
            "key C mode major tempo 145.45464\n",
            "n 6 d 8 cpt 12 dp24c 8\n",
            "key unknown mode unknown tempo -1\n"
          ],
          "name": "stdout"
        },
        {
          "output_type": "stream",
          "text": [
            "Traceback (most recent call last):\n",
            "  File \"/usr/local/lib/python3.7/dist-packages/MIDI/chunks/track.py\", line 33, in parse\n",
            "    event = MetaEvent(time,self.buffer)\n",
            "  File \"/usr/local/lib/python3.7/dist-packages/MIDI/Events/meta.py\", line 75, in __init__\n",
            "    self.attributes = self.message.attributes(self.data)\n",
            "  File \"/usr/local/lib/python3.7/dist-packages/MIDI/Events/meta.py\", line 55, in attributes\n",
            "    return OrderedDict(key=self.key(_bytes[0]),mode=mode)\n",
            "  File \"/usr/local/lib/python3.7/dist-packages/MIDI/Events/meta.py\", line 31, in key\n",
            "    return ['C','G','D','A','E','B','F#','C#'][n]\n",
            "IndexError: list index out of range\n"
          ],
          "name": "stderr"
        },
        {
          "output_type": "stream",
          "text": [
            "n 4 d 4 cpt 24 dp24c 8\n",
            "key A mode major tempo 163.63632\n"
          ],
          "name": "stdout"
        },
        {
          "output_type": "stream",
          "text": [
            "Traceback (most recent call last):\n",
            "  File \"/usr/local/lib/python3.7/dist-packages/MIDI/chunks/track.py\", line 33, in parse\n",
            "    event = MetaEvent(time,self.buffer)\n",
            "  File \"/usr/local/lib/python3.7/dist-packages/MIDI/Events/meta.py\", line 75, in __init__\n",
            "    self.attributes = self.message.attributes(self.data)\n",
            "  File \"/usr/local/lib/python3.7/dist-packages/MIDI/Events/meta.py\", line 55, in attributes\n",
            "    return OrderedDict(key=self.key(_bytes[0]),mode=mode)\n",
            "  File \"/usr/local/lib/python3.7/dist-packages/MIDI/Events/meta.py\", line 31, in key\n",
            "    return ['C','G','D','A','E','B','F#','C#'][n]\n",
            "IndexError: list index out of range\n"
          ],
          "name": "stderr"
        },
        {
          "output_type": "stream",
          "text": [
            "n 4 d 4 cpt 24 dp24c 8\n",
            "key unknown mode unknown tempo -1\n",
            "n 2 d 4 cpt 24 dp24c 8\n",
            "key C mode major tempo 130.9092\n",
            "n 4 d 4 cpt 24 dp24c 8\n",
            "key C mode major tempo 105.88224\n",
            "n 4 d 4 cpt 24 dp24c 8\n",
            "key C mode major tempo 205.71432\n",
            "n -1 d -1 cpt -1 dp24c -1\n",
            "key unknown mode unknown tempo -1\n"
          ],
          "name": "stdout"
        },
        {
          "output_type": "stream",
          "text": [
            "Traceback (most recent call last):\n",
            "  File \"/usr/local/lib/python3.7/dist-packages/MIDI/chunks/track.py\", line 33, in parse\n",
            "    event = MetaEvent(time,self.buffer)\n",
            "  File \"/usr/local/lib/python3.7/dist-packages/MIDI/Events/meta.py\", line 75, in __init__\n",
            "    self.attributes = self.message.attributes(self.data)\n",
            "  File \"/usr/local/lib/python3.7/dist-packages/MIDI/Events/meta.py\", line 55, in attributes\n",
            "    return OrderedDict(key=self.key(_bytes[0]),mode=mode)\n",
            "  File \"/usr/local/lib/python3.7/dist-packages/MIDI/Events/meta.py\", line 31, in key\n",
            "    return ['C','G','D','A','E','B','F#','C#'][n]\n",
            "IndexError: list index out of range\n",
            "Traceback (most recent call last):\n",
            "  File \"/usr/local/lib/python3.7/dist-packages/MIDI/chunks/track.py\", line 37, in parse\n",
            "    event = MIDIEvent(time,self.buffer)\n",
            "  File \"/usr/local/lib/python3.7/dist-packages/MIDI/Events/midi.py\", line 43, in __init__\n",
            "    length = len(self.message) if self.message else 0\n",
            "TypeError: 'method' object cannot be interpreted as an integer\n",
            "Traceback (most recent call last):\n",
            "  File \"/usr/local/lib/python3.7/dist-packages/MIDI/chunks/track.py\", line 37, in parse\n",
            "    event = MIDIEvent(time,self.buffer)\n",
            "  File \"/usr/local/lib/python3.7/dist-packages/MIDI/Events/midi.py\", line 43, in __init__\n",
            "    length = len(self.message) if self.message else 0\n",
            "TypeError: 'method' object cannot be interpreted as an integer\n"
          ],
          "name": "stderr"
        },
        {
          "output_type": "stream",
          "text": [
            "n 4 d 4 cpt 24 dp24c 8\n",
            "key unknown mode unknown tempo -1\n",
            "n 2 d 2 cpt 24 dp24c 8\n",
            "key G mode major tempo 110.76912\n",
            "n 4 d 4 cpt 24 dp24c 8\n",
            "key C mode major tempo 163.63632\n",
            "n -1 d -1 cpt -1 dp24c -1\n",
            "key unknown mode unknown tempo -1\n"
          ],
          "name": "stdout"
        },
        {
          "output_type": "stream",
          "text": [
            "Traceback (most recent call last):\n",
            "  File \"/usr/local/lib/python3.7/dist-packages/MIDI/chunks/track.py\", line 37, in parse\n",
            "    event = MIDIEvent(time,self.buffer)\n",
            "  File \"/usr/local/lib/python3.7/dist-packages/MIDI/Events/midi.py\", line 43, in __init__\n",
            "    length = len(self.message) if self.message else 0\n",
            "TypeError: 'method' object cannot be interpreted as an integer\n"
          ],
          "name": "stderr"
        },
        {
          "output_type": "stream",
          "text": [
            "n -1 d -1 cpt -1 dp24c -1\n",
            "key B mode major tempo 211.76472\n",
            "n 2 d 4 cpt 24 dp24c 8\n",
            "key C mode major tempo 128.57136\n",
            "n -1 d -1 cpt -1 dp24c -1\n",
            "key C mode major tempo 137.14272\n",
            "n 6 d 4 cpt 24 dp24c 8\n",
            "key C mode major tempo 84.90576\n"
          ],
          "name": "stdout"
        },
        {
          "output_type": "stream",
          "text": [
            "Traceback (most recent call last):\n",
            "  File \"/usr/local/lib/python3.7/dist-packages/MIDI/chunks/track.py\", line 37, in parse\n",
            "    event = MIDIEvent(time,self.buffer)\n",
            "  File \"/usr/local/lib/python3.7/dist-packages/MIDI/Events/midi.py\", line 43, in __init__\n",
            "    length = len(self.message) if self.message else 0\n",
            "TypeError: 'method' object cannot be interpreted as an integer\n"
          ],
          "name": "stderr"
        },
        {
          "output_type": "stream",
          "text": [
            "n -1 d -1 cpt -1 dp24c -1\n",
            "key C mode major tempo 122.034\n",
            "n -1 d -1 cpt -1 dp24c -1\n",
            "key C mode major tempo 133.33344\n",
            "n 4 d 4 cpt 24 dp24c 8\n",
            "key C mode major tempo 79.99992\n"
          ],
          "name": "stdout"
        },
        {
          "output_type": "stream",
          "text": [
            "Traceback (most recent call last):\n",
            "  File \"/usr/local/lib/python3.7/dist-packages/MIDI/chunks/track.py\", line 37, in parse\n",
            "    event = MIDIEvent(time,self.buffer)\n",
            "  File \"/usr/local/lib/python3.7/dist-packages/MIDI/Events/midi.py\", line 43, in __init__\n",
            "    length = len(self.message) if self.message else 0\n",
            "TypeError: 'method' object cannot be interpreted as an integer\n",
            "Traceback (most recent call last):\n",
            "  File \"/usr/local/lib/python3.7/dist-packages/MIDI/chunks/track.py\", line 37, in parse\n",
            "    event = MIDIEvent(time,self.buffer)\n",
            "  File \"/usr/local/lib/python3.7/dist-packages/MIDI/Events/midi.py\", line 43, in __init__\n",
            "    length = len(self.message) if self.message else 0\n",
            "TypeError: 'method' object cannot be interpreted as an integer\n",
            "Traceback (most recent call last):\n",
            "  File \"/usr/local/lib/python3.7/dist-packages/MIDI/chunks/track.py\", line 37, in parse\n",
            "    event = MIDIEvent(time,self.buffer)\n",
            "  File \"/usr/local/lib/python3.7/dist-packages/MIDI/Events/midi.py\", line 43, in __init__\n",
            "    length = len(self.message) if self.message else 0\n",
            "TypeError: 'method' object cannot be interpreted as an integer\n",
            "Traceback (most recent call last):\n",
            "  File \"/usr/local/lib/python3.7/dist-packages/MIDI/chunks/track.py\", line 37, in parse\n",
            "    event = MIDIEvent(time,self.buffer)\n",
            "  File \"/usr/local/lib/python3.7/dist-packages/MIDI/Events/midi.py\", line 43, in __init__\n",
            "    length = len(self.message) if self.message else 0\n",
            "TypeError: 'method' object cannot be interpreted as an integer\n"
          ],
          "name": "stderr"
        },
        {
          "output_type": "stream",
          "text": [
            "n 12 d 8 cpt 24 dp24c 8\n",
            "key unknown mode unknown tempo 72.0\n",
            "n 4 d 4 cpt 24 dp24c 8\n",
            "key C mode major tempo 99.31032\n",
            "n 4 d 4 cpt 24 dp24c 8\n",
            "key C mode major tempo 117.0732\n"
          ],
          "name": "stdout"
        },
        {
          "output_type": "stream",
          "text": [
            "Traceback (most recent call last):\n",
            "  File \"/usr/local/lib/python3.7/dist-packages/MIDI/chunks/track.py\", line 33, in parse\n",
            "    event = MetaEvent(time,self.buffer)\n",
            "  File \"/usr/local/lib/python3.7/dist-packages/MIDI/Events/meta.py\", line 75, in __init__\n",
            "    self.attributes = self.message.attributes(self.data)\n",
            "  File \"/usr/local/lib/python3.7/dist-packages/MIDI/Events/meta.py\", line 55, in attributes\n",
            "    return OrderedDict(key=self.key(_bytes[0]),mode=mode)\n",
            "  File \"/usr/local/lib/python3.7/dist-packages/MIDI/Events/meta.py\", line 31, in key\n",
            "    return ['C','G','D','A','E','B','F#','C#'][n]\n",
            "IndexError: list index out of range\n"
          ],
          "name": "stderr"
        },
        {
          "output_type": "stream",
          "text": [
            "n 4 d 4 cpt 24 dp24c 8\n",
            "key unknown mode unknown tempo -1\n",
            "n 4 d 4 cpt 24 dp24c 8\n",
            "key C mode major tempo 120.0\n",
            "n 6 d 4 cpt 24 dp24c 8\n",
            "key C mode major tempo 78.94728\n"
          ],
          "name": "stdout"
        },
        {
          "output_type": "stream",
          "text": [
            "Traceback (most recent call last):\n",
            "  File \"/usr/local/lib/python3.7/dist-packages/MIDI/chunks/track.py\", line 37, in parse\n",
            "    event = MIDIEvent(time,self.buffer)\n",
            "  File \"/usr/local/lib/python3.7/dist-packages/MIDI/Events/midi.py\", line 43, in __init__\n",
            "    length = len(self.message) if self.message else 0\n",
            "TypeError: 'method' object cannot be interpreted as an integer\n",
            "Traceback (most recent call last):\n",
            "  File \"/usr/local/lib/python3.7/dist-packages/MIDI/chunks/track.py\", line 37, in parse\n",
            "    event = MIDIEvent(time,self.buffer)\n",
            "  File \"/usr/local/lib/python3.7/dist-packages/MIDI/Events/midi.py\", line 43, in __init__\n",
            "    length = len(self.message) if self.message else 0\n",
            "TypeError: 'method' object cannot be interpreted as an integer\n",
            "Traceback (most recent call last):\n",
            "  File \"/usr/local/lib/python3.7/dist-packages/MIDI/chunks/track.py\", line 30, in parse\n",
            "    eventType=self.buffer[0]\n",
            "IndexError: index out of range\n",
            "Traceback (most recent call last):\n",
            "  File \"/usr/local/lib/python3.7/dist-packages/MIDI/chunks/track.py\", line 30, in parse\n",
            "    eventType=self.buffer[0]\n",
            "IndexError: index out of range\n",
            "Traceback (most recent call last):\n",
            "  File \"/usr/local/lib/python3.7/dist-packages/MIDI/chunks/track.py\", line 37, in parse\n",
            "    event = MIDIEvent(time,self.buffer)\n",
            "  File \"/usr/local/lib/python3.7/dist-packages/MIDI/Events/midi.py\", line 43, in __init__\n",
            "    length = len(self.message) if self.message else 0\n",
            "TypeError: 'method' object cannot be interpreted as an integer\n",
            "Traceback (most recent call last):\n",
            "  File \"/usr/local/lib/python3.7/dist-packages/MIDI/chunks/track.py\", line 37, in parse\n",
            "    event = MIDIEvent(time,self.buffer)\n",
            "  File \"/usr/local/lib/python3.7/dist-packages/MIDI/Events/midi.py\", line 43, in __init__\n",
            "    length = len(self.message) if self.message else 0\n",
            "TypeError: 'method' object cannot be interpreted as an integer\n",
            "Traceback (most recent call last):\n",
            "  File \"/usr/local/lib/python3.7/dist-packages/MIDI/chunks/track.py\", line 37, in parse\n",
            "    event = MIDIEvent(time,self.buffer)\n",
            "  File \"/usr/local/lib/python3.7/dist-packages/MIDI/Events/midi.py\", line 43, in __init__\n",
            "    length = len(self.message) if self.message else 0\n",
            "TypeError: 'method' object cannot be interpreted as an integer\n"
          ],
          "name": "stderr"
        },
        {
          "output_type": "stream",
          "text": [
            "n -1 d -1 cpt -1 dp24c -1\n",
            "key unknown mode unknown tempo -1\n",
            "n 4 d 4 cpt 24 dp24c 8\n",
            "key A mode major tempo 130.9092\n",
            "n -1 d -1 cpt -1 dp24c -1\n",
            "key C mode major tempo 120.0\n"
          ],
          "name": "stdout"
        },
        {
          "output_type": "stream",
          "text": [
            "Traceback (most recent call last):\n",
            "  File \"/usr/local/lib/python3.7/dist-packages/MIDI/chunks/track.py\", line 30, in parse\n",
            "    eventType=self.buffer[0]\n",
            "IndexError: index out of range\n"
          ],
          "name": "stderr"
        },
        {
          "output_type": "stream",
          "text": [
            "n 4 d 4 cpt 24 dp24c 8\n",
            "key C mode major tempo 90.0\n",
            "n -1 d -1 cpt -1 dp24c -1\n",
            "key C mode major tempo 187.01304\n",
            "n -1 d -1 cpt -1 dp24c -1\n",
            "key unknown mode unknown tempo 120.0\n",
            "n 4 d 4 cpt 24 dp24c 8\n",
            "key C mode major tempo 139.80576\n",
            "n 2 d 4 cpt 24 dp24c 8\n",
            "key A mode major tempo 144.0\n",
            "n 4 d 4 cpt 24 dp24c 8\n",
            "key E mode major tempo 120.0\n",
            "n 4 d 4 cpt 24 dp24c 8\n",
            "key C mode major tempo 85.71432\n"
          ],
          "name": "stdout"
        },
        {
          "output_type": "stream",
          "text": [
            "Traceback (most recent call last):\n",
            "  File \"/usr/local/lib/python3.7/dist-packages/MIDI/chunks/track.py\", line 33, in parse\n",
            "    event = MetaEvent(time,self.buffer)\n",
            "  File \"/usr/local/lib/python3.7/dist-packages/MIDI/Events/meta.py\", line 75, in __init__\n",
            "    self.attributes = self.message.attributes(self.data)\n",
            "  File \"/usr/local/lib/python3.7/dist-packages/MIDI/Events/meta.py\", line 55, in attributes\n",
            "    return OrderedDict(key=self.key(_bytes[0]),mode=mode)\n",
            "  File \"/usr/local/lib/python3.7/dist-packages/MIDI/Events/meta.py\", line 31, in key\n",
            "    return ['C','G','D','A','E','B','F#','C#'][n]\n",
            "IndexError: list index out of range\n"
          ],
          "name": "stderr"
        },
        {
          "output_type": "stream",
          "text": [
            "n 4 d 4 cpt 24 dp24c 8\n",
            "key unknown mode unknown tempo 106.66656\n",
            "n -1 d -1 cpt -1 dp24c -1\n",
            "key unknown mode unknown tempo -1\n"
          ],
          "name": "stdout"
        },
        {
          "output_type": "stream",
          "text": [
            "Traceback (most recent call last):\n",
            "  File \"/usr/local/lib/python3.7/dist-packages/MIDI/chunks/track.py\", line 37, in parse\n",
            "    event = MIDIEvent(time,self.buffer)\n",
            "  File \"/usr/local/lib/python3.7/dist-packages/MIDI/Events/midi.py\", line 43, in __init__\n",
            "    length = len(self.message) if self.message else 0\n",
            "TypeError: 'method' object cannot be interpreted as an integer\n",
            "Traceback (most recent call last):\n",
            "  File \"/usr/local/lib/python3.7/dist-packages/MIDI/chunks/track.py\", line 30, in parse\n",
            "    eventType=self.buffer[0]\n",
            "IndexError: index out of range\n",
            "Traceback (most recent call last):\n",
            "  File \"/usr/local/lib/python3.7/dist-packages/MIDI/chunks/track.py\", line 37, in parse\n",
            "    event = MIDIEvent(time,self.buffer)\n",
            "  File \"/usr/local/lib/python3.7/dist-packages/MIDI/Events/midi.py\", line 43, in __init__\n",
            "    length = len(self.message) if self.message else 0\n",
            "TypeError: 'method' object cannot be interpreted as an integer\n"
          ],
          "name": "stderr"
        },
        {
          "output_type": "stream",
          "text": [
            "n 4 d 4 cpt 24 dp24c 8\n",
            "key C mode major tempo 144.0\n",
            "n 4 d 4 cpt 24 dp24c 8\n",
            "key C mode major tempo 99.31032\n",
            "n -1 d -1 cpt -1 dp24c -1\n",
            "key C mode major tempo -1\n",
            "n 4 d 4 cpt 24 dp24c 8\n",
            "key C mode major tempo 109.0908\n",
            "n 4 d 4 cpt 24 dp24c 8\n",
            "key C mode major tempo 102.85704\n",
            "n -1 d -1 cpt -1 dp24c -1\n",
            "key C mode major tempo 105.88224\n",
            "n -1 d -1 cpt -1 dp24c -1\n",
            "key C mode major tempo 163.2\n",
            "n 4 d 4 cpt 24 dp24c 8\n",
            "key C mode major tempo 169.014\n",
            "n 4 d 4 cpt 24 dp24c 8\n",
            "key unknown mode unknown tempo 114.2856\n",
            "n 2 d 4 cpt 36 dp24c 8\n",
            "key C mode major tempo 351.21936\n",
            "n -1 d -1 cpt -1 dp24c -1\n",
            "key C mode major tempo 107.46264\n",
            "n 4 d 4 cpt 24 dp24c 8\n",
            "key C mode major tempo 138.46152\n",
            "n -1 d -1 cpt -1 dp24c -1\n",
            "key unknown mode unknown tempo 120.0\n",
            "n 4 d 4 cpt 24 dp24c 8\n",
            "key C mode major tempo 128.57136\n",
            "n 4 d 4 cpt 24 dp24c 8\n",
            "key C mode major tempo 103.59696\n",
            "n -1 d -1 cpt -1 dp24c -1\n",
            "key unknown mode unknown tempo -1\n"
          ],
          "name": "stdout"
        },
        {
          "output_type": "stream",
          "text": [
            "Traceback (most recent call last):\n",
            "  File \"/usr/local/lib/python3.7/dist-packages/MIDI/chunks/track.py\", line 33, in parse\n",
            "    event = MetaEvent(time,self.buffer)\n",
            "  File \"/usr/local/lib/python3.7/dist-packages/MIDI/Events/meta.py\", line 75, in __init__\n",
            "    self.attributes = self.message.attributes(self.data)\n",
            "  File \"/usr/local/lib/python3.7/dist-packages/MIDI/Events/meta.py\", line 55, in attributes\n",
            "    return OrderedDict(key=self.key(_bytes[0]),mode=mode)\n",
            "  File \"/usr/local/lib/python3.7/dist-packages/MIDI/Events/meta.py\", line 31, in key\n",
            "    return ['C','G','D','A','E','B','F#','C#'][n]\n",
            "IndexError: list index out of range\n"
          ],
          "name": "stderr"
        },
        {
          "output_type": "stream",
          "text": [
            "n 4 d 4 cpt 24 dp24c 8\n",
            "key C mode major tempo 122.034\n",
            "n 4 d 4 cpt 24 dp24c 8\n",
            "key E mode major tempo 133.3332\n"
          ],
          "name": "stdout"
        },
        {
          "output_type": "stream",
          "text": [
            "Traceback (most recent call last):\n",
            "  File \"/usr/local/lib/python3.7/dist-packages/MIDI/chunks/track.py\", line 30, in parse\n",
            "    eventType=self.buffer[0]\n",
            "IndexError: index out of range\n"
          ],
          "name": "stderr"
        },
        {
          "output_type": "stream",
          "text": [
            "n 2 d 4 cpt 24 dp24c 8\n",
            "key C mode major tempo 133.33344\n"
          ],
          "name": "stdout"
        },
        {
          "output_type": "stream",
          "text": [
            "Traceback (most recent call last):\n",
            "  File \"/usr/local/lib/python3.7/dist-packages/MIDI/chunks/track.py\", line 30, in parse\n",
            "    eventType=self.buffer[0]\n",
            "IndexError: index out of range\n"
          ],
          "name": "stderr"
        },
        {
          "output_type": "stream",
          "text": [
            "n -1 d -1 cpt -1 dp24c -1\n",
            "key C mode major tempo 192.0\n"
          ],
          "name": "stdout"
        },
        {
          "output_type": "stream",
          "text": [
            "Traceback (most recent call last):\n",
            "  File \"/usr/local/lib/python3.7/dist-packages/MIDI/chunks/track.py\", line 30, in parse\n",
            "    eventType=self.buffer[0]\n",
            "IndexError: index out of range\n"
          ],
          "name": "stderr"
        },
        {
          "output_type": "stream",
          "text": [
            "n -1 d -1 cpt -1 dp24c -1\n",
            "key C mode major tempo 122.034\n",
            "n -1 d -1 cpt -1 dp24c -1\n",
            "key unknown mode unknown tempo -1\n",
            "n -1 d -1 cpt -1 dp24c -1\n",
            "key C mode major tempo 120.0\n",
            "n -1 d -1 cpt -1 dp24c -1\n",
            "key unknown mode unknown tempo -1\n"
          ],
          "name": "stdout"
        },
        {
          "output_type": "stream",
          "text": [
            "Traceback (most recent call last):\n",
            "  File \"/usr/local/lib/python3.7/dist-packages/MIDI/chunks/track.py\", line 37, in parse\n",
            "    event = MIDIEvent(time,self.buffer)\n",
            "  File \"/usr/local/lib/python3.7/dist-packages/MIDI/Events/midi.py\", line 43, in __init__\n",
            "    length = len(self.message) if self.message else 0\n",
            "TypeError: 'method' object cannot be interpreted as an integer\n"
          ],
          "name": "stderr"
        },
        {
          "output_type": "stream",
          "text": [
            "n 4 d 4 cpt 24 dp24c 8\n",
            "key C mode major tempo 115.2\n",
            "n 4 d 4 cpt 24 dp24c 8\n",
            "key C mode major tempo 117.0732\n",
            "n 4 d 4 cpt 24 dp24c 8\n",
            "key C mode major tempo 144.0\n",
            "n -1 d -1 cpt -1 dp24c -1\n",
            "key C mode major tempo 99.31032\n",
            "n 4 d 4 cpt 24 dp24c 8\n",
            "key C mode major tempo 150.0\n"
          ],
          "name": "stdout"
        },
        {
          "output_type": "stream",
          "text": [
            "Traceback (most recent call last):\n",
            "  File \"/usr/local/lib/python3.7/dist-packages/MIDI/chunks/track.py\", line 37, in parse\n",
            "    event = MIDIEvent(time,self.buffer)\n",
            "  File \"/usr/local/lib/python3.7/dist-packages/MIDI/Events/midi.py\", line 43, in __init__\n",
            "    length = len(self.message) if self.message else 0\n",
            "TypeError: 'method' object cannot be interpreted as an integer\n",
            "Traceback (most recent call last):\n",
            "  File \"/usr/local/lib/python3.7/dist-packages/MIDI/chunks/track.py\", line 37, in parse\n",
            "    event = MIDIEvent(time,self.buffer)\n",
            "  File \"/usr/local/lib/python3.7/dist-packages/MIDI/Events/midi.py\", line 43, in __init__\n",
            "    length = len(self.message) if self.message else 0\n",
            "TypeError: 'method' object cannot be interpreted as an integer\n",
            "Traceback (most recent call last):\n",
            "  File \"/usr/local/lib/python3.7/dist-packages/MIDI/chunks/track.py\", line 33, in parse\n",
            "    event = MetaEvent(time,self.buffer)\n",
            "  File \"/usr/local/lib/python3.7/dist-packages/MIDI/Events/meta.py\", line 75, in __init__\n",
            "    self.attributes = self.message.attributes(self.data)\n",
            "  File \"/usr/local/lib/python3.7/dist-packages/MIDI/Events/meta.py\", line 55, in attributes\n",
            "    return OrderedDict(key=self.key(_bytes[0]),mode=mode)\n",
            "  File \"/usr/local/lib/python3.7/dist-packages/MIDI/Events/meta.py\", line 31, in key\n",
            "    return ['C','G','D','A','E','B','F#','C#'][n]\n",
            "IndexError: list index out of range\n"
          ],
          "name": "stderr"
        },
        {
          "output_type": "stream",
          "text": [
            "n 4 d 4 cpt 24 dp24c 8\n",
            "key unknown mode unknown tempo -1\n"
          ],
          "name": "stdout"
        },
        {
          "output_type": "stream",
          "text": [
            "Traceback (most recent call last):\n",
            "  File \"/usr/local/lib/python3.7/dist-packages/MIDI/chunks/track.py\", line 37, in parse\n",
            "    event = MIDIEvent(time,self.buffer)\n",
            "  File \"/usr/local/lib/python3.7/dist-packages/MIDI/Events/midi.py\", line 43, in __init__\n",
            "    length = len(self.message) if self.message else 0\n",
            "TypeError: 'method' object cannot be interpreted as an integer\n"
          ],
          "name": "stderr"
        },
        {
          "output_type": "stream",
          "text": [
            "n 4 d 4 cpt 24 dp24c 8\n",
            "key unknown mode unknown tempo -1\n",
            "n -1 d -1 cpt -1 dp24c -1\n",
            "key C mode major tempo 154.83864\n"
          ],
          "name": "stdout"
        },
        {
          "output_type": "stream",
          "text": [
            "Traceback (most recent call last):\n",
            "  File \"/usr/local/lib/python3.7/dist-packages/MIDI/chunks/track.py\", line 37, in parse\n",
            "    event = MIDIEvent(time,self.buffer)\n",
            "  File \"/usr/local/lib/python3.7/dist-packages/MIDI/Events/midi.py\", line 43, in __init__\n",
            "    length = len(self.message) if self.message else 0\n",
            "TypeError: 'method' object cannot be interpreted as an integer\n"
          ],
          "name": "stderr"
        },
        {
          "output_type": "stream",
          "text": [
            "n 4 d 4 cpt 24 dp24c 8\n",
            "key C mode major tempo 109.9236\n",
            "n 4 d 4 cpt 24 dp24c 8\n",
            "key C mode major tempo 79.55808\n",
            "n -1 d -1 cpt -1 dp24c -1\n",
            "key C mode major tempo 100.6992\n",
            "n -1 d -1 cpt -1 dp24c -1\n",
            "key C mode major tempo -1\n"
          ],
          "name": "stdout"
        },
        {
          "output_type": "stream",
          "text": [
            "Traceback (most recent call last):\n",
            "  File \"/usr/local/lib/python3.7/dist-packages/MIDI/chunks/track.py\", line 37, in parse\n",
            "    event = MIDIEvent(time,self.buffer)\n",
            "  File \"/usr/local/lib/python3.7/dist-packages/MIDI/Events/midi.py\", line 43, in __init__\n",
            "    length = len(self.message) if self.message else 0\n",
            "TypeError: 'method' object cannot be interpreted as an integer\n",
            "Traceback (most recent call last):\n",
            "  File \"/usr/local/lib/python3.7/dist-packages/MIDI/chunks/track.py\", line 37, in parse\n",
            "    event = MIDIEvent(time,self.buffer)\n",
            "  File \"/usr/local/lib/python3.7/dist-packages/MIDI/Events/midi.py\", line 43, in __init__\n",
            "    length = len(self.message) if self.message else 0\n",
            "TypeError: 'method' object cannot be interpreted as an integer\n"
          ],
          "name": "stderr"
        },
        {
          "output_type": "stream",
          "text": [
            "n 4 d 4 cpt 24 dp24c 8\n",
            "key C mode major tempo 110.76912\n",
            "n 4 d 4 cpt 24 dp24c 8\n",
            "key unknown mode unknown tempo 116.1288\n"
          ],
          "name": "stdout"
        },
        {
          "output_type": "stream",
          "text": [
            "Traceback (most recent call last):\n",
            "  File \"/usr/local/lib/python3.7/dist-packages/MIDI/chunks/track.py\", line 37, in parse\n",
            "    event = MIDIEvent(time,self.buffer)\n",
            "  File \"/usr/local/lib/python3.7/dist-packages/MIDI/Events/midi.py\", line 43, in __init__\n",
            "    length = len(self.message) if self.message else 0\n",
            "TypeError: 'method' object cannot be interpreted as an integer\n",
            "Traceback (most recent call last):\n",
            "  File \"/usr/local/lib/python3.7/dist-packages/MIDI/chunks/track.py\", line 37, in parse\n",
            "    event = MIDIEvent(time,self.buffer)\n",
            "  File \"/usr/local/lib/python3.7/dist-packages/MIDI/Events/midi.py\", line 43, in __init__\n",
            "    length = len(self.message) if self.message else 0\n",
            "TypeError: 'method' object cannot be interpreted as an integer\n"
          ],
          "name": "stderr"
        },
        {
          "output_type": "stream",
          "text": [
            "n 4 d 4 cpt 24 dp24c 8\n",
            "key C mode major tempo 121.00848\n",
            "n 4 d 4 cpt 24 dp24c 8\n",
            "key C mode major tempo 158.24184\n",
            "n -1 d -1 cpt -1 dp24c -1\n",
            "key C mode major tempo 158.24184\n"
          ],
          "name": "stdout"
        },
        {
          "output_type": "stream",
          "text": [
            "Traceback (most recent call last):\n",
            "  File \"/usr/local/lib/python3.7/dist-packages/MIDI/chunks/track.py\", line 37, in parse\n",
            "    event = MIDIEvent(time,self.buffer)\n",
            "  File \"/usr/local/lib/python3.7/dist-packages/MIDI/Events/midi.py\", line 43, in __init__\n",
            "    length = len(self.message) if self.message else 0\n",
            "TypeError: 'method' object cannot be interpreted as an integer\n"
          ],
          "name": "stderr"
        },
        {
          "output_type": "stream",
          "text": [
            "n 4 d 4 cpt 24 dp24c 8\n",
            "key C mode major tempo 144.0\n",
            "n 4 d 4 cpt 24 dp24c 8\n",
            "key C mode major tempo 120.0\n",
            "n 4 d 4 cpt 24 dp24c 8\n",
            "key C mode major tempo 160.00008\n",
            "n 4 d 4 cpt 24 dp24c 8\n",
            "key C mode major tempo 113.38584\n",
            "n 4 d 4 cpt 24 dp24c 8\n",
            "key C mode major tempo 146.93856\n"
          ],
          "name": "stdout"
        },
        {
          "output_type": "stream",
          "text": [
            "Traceback (most recent call last):\n",
            "  File \"/usr/local/lib/python3.7/dist-packages/MIDI/chunks/track.py\", line 33, in parse\n",
            "    event = MetaEvent(time,self.buffer)\n",
            "  File \"/usr/local/lib/python3.7/dist-packages/MIDI/Events/meta.py\", line 75, in __init__\n",
            "    self.attributes = self.message.attributes(self.data)\n",
            "  File \"/usr/local/lib/python3.7/dist-packages/MIDI/Events/meta.py\", line 55, in attributes\n",
            "    return OrderedDict(key=self.key(_bytes[0]),mode=mode)\n",
            "  File \"/usr/local/lib/python3.7/dist-packages/MIDI/Events/meta.py\", line 31, in key\n",
            "    return ['C','G','D','A','E','B','F#','C#'][n]\n",
            "IndexError: list index out of range\n"
          ],
          "name": "stderr"
        },
        {
          "output_type": "stream",
          "text": [
            "n -1 d -1 cpt -1 dp24c -1\n",
            "key D mode major tempo 128.57136\n",
            "n -1 d -1 cpt -1 dp24c -1\n",
            "key unknown mode unknown tempo -1\n",
            "n -1 d -1 cpt -1 dp24c -1\n",
            "key C mode major tempo 102.85704\n",
            "n 4 d 4 cpt 24 dp24c 8\n",
            "key unknown mode unknown tempo 180.0\n",
            "n 4 d 4 cpt 24 dp24c 8\n",
            "key C mode major tempo 144.0\n"
          ],
          "name": "stdout"
        },
        {
          "output_type": "stream",
          "text": [
            "Traceback (most recent call last):\n",
            "  File \"/usr/local/lib/python3.7/dist-packages/MIDI/chunks/track.py\", line 37, in parse\n",
            "    event = MIDIEvent(time,self.buffer)\n",
            "  File \"/usr/local/lib/python3.7/dist-packages/MIDI/Events/midi.py\", line 43, in __init__\n",
            "    length = len(self.message) if self.message else 0\n",
            "TypeError: 'method' object cannot be interpreted as an integer\n",
            "Traceback (most recent call last):\n",
            "  File \"/usr/local/lib/python3.7/dist-packages/MIDI/chunks/track.py\", line 37, in parse\n",
            "    event = MIDIEvent(time,self.buffer)\n",
            "  File \"/usr/local/lib/python3.7/dist-packages/MIDI/Events/midi.py\", line 43, in __init__\n",
            "    length = len(self.message) if self.message else 0\n",
            "TypeError: 'method' object cannot be interpreted as an integer\n"
          ],
          "name": "stderr"
        },
        {
          "output_type": "stream",
          "text": [
            "n 4 d 4 cpt 24 dp24c 8\n",
            "key D mode major tempo 175.60968\n",
            "n -1 d -1 cpt -1 dp24c -1\n",
            "key C mode major tempo 192.0\n",
            "n -1 d -1 cpt -1 dp24c -1\n",
            "key C mode major tempo 130.9092\n",
            "n 4 d 4 cpt 24 dp24c 8\n",
            "key unknown mode unknown tempo 126.3156\n",
            "n 4 d 4 cpt 24 dp24c 8\n",
            "key G mode major tempo 69.90288\n",
            "n 4 d 4 cpt 24 dp24c 8\n",
            "key C mode major tempo 133.33344\n",
            "n 4 d 4 cpt 24 dp24c 8\n",
            "key C mode major tempo 106.66656\n",
            "n 3 d 4 cpt 24 dp24c 8\n",
            "key E mode major tempo 82.28568\n",
            "n -1 d -1 cpt -1 dp24c -1\n",
            "key G mode major tempo 142.57416\n",
            "n 4 d 4 cpt 24 dp24c 8\n",
            "key C mode major tempo 71.64168\n",
            "n -1 d -1 cpt -1 dp24c -1\n",
            "key C mode major tempo 125.21736\n",
            "n -1 d -1 cpt -1 dp24c -1\n",
            "key unknown mode unknown tempo 160.00008\n"
          ],
          "name": "stdout"
        },
        {
          "output_type": "stream",
          "text": [
            "Traceback (most recent call last):\n",
            "  File \"/usr/local/lib/python3.7/dist-packages/MIDI/chunks/track.py\", line 33, in parse\n",
            "    event = MetaEvent(time,self.buffer)\n",
            "  File \"/usr/local/lib/python3.7/dist-packages/MIDI/Events/meta.py\", line 75, in __init__\n",
            "    self.attributes = self.message.attributes(self.data)\n",
            "  File \"/usr/local/lib/python3.7/dist-packages/MIDI/Events/meta.py\", line 55, in attributes\n",
            "    return OrderedDict(key=self.key(_bytes[0]),mode=mode)\n",
            "  File \"/usr/local/lib/python3.7/dist-packages/MIDI/Events/meta.py\", line 31, in key\n",
            "    return ['C','G','D','A','E','B','F#','C#'][n]\n",
            "IndexError: list index out of range\n",
            "Traceback (most recent call last):\n",
            "  File \"/usr/local/lib/python3.7/dist-packages/MIDI/chunks/track.py\", line 37, in parse\n",
            "    event = MIDIEvent(time,self.buffer)\n",
            "  File \"/usr/local/lib/python3.7/dist-packages/MIDI/Events/midi.py\", line 43, in __init__\n",
            "    length = len(self.message) if self.message else 0\n",
            "TypeError: 'method' object cannot be interpreted as an integer\n"
          ],
          "name": "stderr"
        },
        {
          "output_type": "stream",
          "text": [
            "n -1 d -1 cpt -1 dp24c -1\n",
            "key unknown mode unknown tempo -1\n",
            "n 4 d 4 cpt 24 dp24c 8\n",
            "key unknown mode unknown tempo 109.9236\n"
          ],
          "name": "stdout"
        },
        {
          "output_type": "stream",
          "text": [
            "Traceback (most recent call last):\n",
            "  File \"/usr/local/lib/python3.7/dist-packages/MIDI/chunks/track.py\", line 30, in parse\n",
            "    eventType=self.buffer[0]\n",
            "IndexError: index out of range\n",
            "Traceback (most recent call last):\n",
            "  File \"/usr/local/lib/python3.7/dist-packages/MIDI/chunks/track.py\", line 37, in parse\n",
            "    event = MIDIEvent(time,self.buffer)\n",
            "  File \"/usr/local/lib/python3.7/dist-packages/MIDI/Events/midi.py\", line 43, in __init__\n",
            "    length = len(self.message) if self.message else 0\n",
            "TypeError: 'method' object cannot be interpreted as an integer\n"
          ],
          "name": "stderr"
        },
        {
          "output_type": "stream",
          "text": [
            "n -1 d -1 cpt -1 dp24c -1\n",
            "key C mode major tempo 127.43352\n",
            "n -1 d -1 cpt -1 dp24c -1\n",
            "key unknown mode unknown tempo -1\n",
            "n -1 d -1 cpt -1 dp24c -1\n",
            "key G mode major tempo 160.00008\n",
            "n 4 d 4 cpt 24 dp24c 8\n",
            "key C mode major tempo 102.85704\n",
            "n -1 d -1 cpt -1 dp24c -1\n",
            "key C mode major tempo 126.31584\n"
          ],
          "name": "stdout"
        },
        {
          "output_type": "stream",
          "text": [
            "Traceback (most recent call last):\n",
            "  File \"/usr/local/lib/python3.7/dist-packages/MIDI/chunks/track.py\", line 37, in parse\n",
            "    event = MIDIEvent(time,self.buffer)\n",
            "  File \"/usr/local/lib/python3.7/dist-packages/MIDI/Events/midi.py\", line 43, in __init__\n",
            "    length = len(self.message) if self.message else 0\n",
            "TypeError: 'method' object cannot be interpreted as an integer\n",
            "Traceback (most recent call last):\n",
            "  File \"/usr/local/lib/python3.7/dist-packages/MIDI/chunks/track.py\", line 33, in parse\n",
            "    event = MetaEvent(time,self.buffer)\n",
            "  File \"/usr/local/lib/python3.7/dist-packages/MIDI/Events/meta.py\", line 75, in __init__\n",
            "    self.attributes = self.message.attributes(self.data)\n",
            "  File \"/usr/local/lib/python3.7/dist-packages/MIDI/Events/meta.py\", line 55, in attributes\n",
            "    return OrderedDict(key=self.key(_bytes[0]),mode=mode)\n",
            "  File \"/usr/local/lib/python3.7/dist-packages/MIDI/Events/meta.py\", line 31, in key\n",
            "    return ['C','G','D','A','E','B','F#','C#'][n]\n",
            "IndexError: list index out of range\n"
          ],
          "name": "stderr"
        },
        {
          "output_type": "stream",
          "text": [
            "n -1 d -1 cpt -1 dp24c -1\n",
            "key C mode major tempo 125.21736\n",
            "n 4 d 4 cpt 24 dp24c 8\n",
            "key unknown mode unknown tempo 118.03272\n"
          ],
          "name": "stdout"
        },
        {
          "output_type": "stream",
          "text": [
            "Traceback (most recent call last):\n",
            "  File \"/usr/local/lib/python3.7/dist-packages/MIDI/chunks/track.py\", line 30, in parse\n",
            "    eventType=self.buffer[0]\n",
            "IndexError: index out of range\n",
            "Traceback (most recent call last):\n",
            "  File \"/usr/local/lib/python3.7/dist-packages/MIDI/chunks/track.py\", line 30, in parse\n",
            "    eventType=self.buffer[0]\n",
            "IndexError: index out of range\n",
            "Traceback (most recent call last):\n",
            "  File \"/usr/local/lib/python3.7/dist-packages/MIDI/chunks/track.py\", line 30, in parse\n",
            "    eventType=self.buffer[0]\n",
            "IndexError: index out of range\n",
            "Traceback (most recent call last):\n",
            "  File \"/usr/local/lib/python3.7/dist-packages/MIDI/chunks/track.py\", line 30, in parse\n",
            "    eventType=self.buffer[0]\n",
            "IndexError: index out of range\n",
            "Traceback (most recent call last):\n",
            "  File \"/usr/local/lib/python3.7/dist-packages/MIDI/chunks/track.py\", line 30, in parse\n",
            "    eventType=self.buffer[0]\n",
            "IndexError: index out of range\n",
            "Traceback (most recent call last):\n",
            "  File \"/usr/local/lib/python3.7/dist-packages/MIDI/chunks/track.py\", line 30, in parse\n",
            "    eventType=self.buffer[0]\n",
            "IndexError: index out of range\n",
            "Traceback (most recent call last):\n",
            "  File \"/usr/local/lib/python3.7/dist-packages/MIDI/chunks/track.py\", line 30, in parse\n",
            "    eventType=self.buffer[0]\n",
            "IndexError: index out of range\n",
            "Traceback (most recent call last):\n",
            "  File \"/usr/local/lib/python3.7/dist-packages/MIDI/chunks/track.py\", line 37, in parse\n",
            "    event = MIDIEvent(time,self.buffer)\n",
            "  File \"/usr/local/lib/python3.7/dist-packages/MIDI/Events/midi.py\", line 43, in __init__\n",
            "    length = len(self.message) if self.message else 0\n",
            "TypeError: 'method' object cannot be interpreted as an integer\n"
          ],
          "name": "stderr"
        },
        {
          "output_type": "stream",
          "text": [
            "n -1 d -1 cpt -1 dp24c -1\n",
            "key unknown mode unknown tempo 120.0\n",
            "n 4 d 4 cpt 24 dp24c 8\n",
            "key D mode major tempo 180.0\n",
            "n 4 d 4 cpt 24 dp24c 8\n",
            "key E mode major tempo 169.41168\n",
            "n -1 d -1 cpt -1 dp24c -1\n",
            "key C mode major tempo 105.88224\n",
            "n -1 d -1 cpt -1 dp24c -1\n",
            "key unknown mode unknown tempo 110.76912\n",
            "n -1 d -1 cpt -1 dp24c -1\n",
            "key C mode major tempo 143.4264\n"
          ],
          "name": "stdout"
        },
        {
          "output_type": "stream",
          "text": [
            "Traceback (most recent call last):\n",
            "  File \"/usr/local/lib/python3.7/dist-packages/MIDI/chunks/track.py\", line 30, in parse\n",
            "    eventType=self.buffer[0]\n",
            "IndexError: index out of range\n",
            "Traceback (most recent call last):\n",
            "  File \"/usr/local/lib/python3.7/dist-packages/MIDI/chunks/track.py\", line 37, in parse\n",
            "    event = MIDIEvent(time,self.buffer)\n",
            "  File \"/usr/local/lib/python3.7/dist-packages/MIDI/Events/midi.py\", line 43, in __init__\n",
            "    length = len(self.message) if self.message else 0\n",
            "TypeError: 'method' object cannot be interpreted as an integer\n"
          ],
          "name": "stderr"
        },
        {
          "output_type": "stream",
          "text": [
            "n -1 d -1 cpt -1 dp24c -1\n",
            "key unknown mode unknown tempo 119.00832\n",
            "n 4 d 4 cpt 24 dp24c 8\n",
            "key C mode major tempo 119.00808\n",
            "n 4 d 4 cpt 24 dp24c 8\n",
            "key C mode major tempo 144.0\n",
            "n 4 d 4 cpt 24 dp24c 8\n",
            "key A mode major tempo 84.70584\n",
            "n 4 d 4 cpt 96 dp24c 8\n",
            "key unknown mode unknown tempo 154.83864\n",
            "n -1 d -1 cpt -1 dp24c -1\n",
            "key C mode major tempo 120.0\n",
            "n -1 d -1 cpt -1 dp24c -1\n",
            "key C mode major tempo 110.76912\n",
            "n -1 d -1 cpt -1 dp24c -1\n",
            "key unknown mode unknown tempo 99.31032\n"
          ],
          "name": "stdout"
        },
        {
          "output_type": "stream",
          "text": [
            "Traceback (most recent call last):\n",
            "  File \"/usr/local/lib/python3.7/dist-packages/MIDI/chunks/track.py\", line 30, in parse\n",
            "    eventType=self.buffer[0]\n",
            "IndexError: index out of range\n",
            "Traceback (most recent call last):\n",
            "  File \"/usr/local/lib/python3.7/dist-packages/MIDI/chunks/track.py\", line 30, in parse\n",
            "    eventType=self.buffer[0]\n",
            "IndexError: index out of range\n"
          ],
          "name": "stderr"
        },
        {
          "output_type": "stream",
          "text": [
            "n 4 d 4 cpt 96 dp24c 8\n",
            "key unknown mode unknown tempo 211.76448\n"
          ],
          "name": "stdout"
        },
        {
          "output_type": "stream",
          "text": [
            "Traceback (most recent call last):\n",
            "  File \"/usr/local/lib/python3.7/dist-packages/MIDI/chunks/track.py\", line 37, in parse\n",
            "    event = MIDIEvent(time,self.buffer)\n",
            "  File \"/usr/local/lib/python3.7/dist-packages/MIDI/Events/midi.py\", line 43, in __init__\n",
            "    length = len(self.message) if self.message else 0\n",
            "TypeError: 'method' object cannot be interpreted as an integer\n"
          ],
          "name": "stderr"
        },
        {
          "output_type": "stream",
          "text": [
            "n -1 d -1 cpt -1 dp24c -1\n",
            "key G mode major tempo 125.21736\n",
            "n -1 d -1 cpt -1 dp24c -1\n",
            "key C mode major tempo 144.0\n",
            "n 4 d 4 cpt 24 dp24c 8\n",
            "key C mode major tempo 160.00008\n",
            "n -1 d -1 cpt -1 dp24c -1\n",
            "key C mode major tempo 100.00008\n"
          ],
          "name": "stdout"
        },
        {
          "output_type": "stream",
          "text": [
            "Traceback (most recent call last):\n",
            "  File \"/usr/local/lib/python3.7/dist-packages/MIDI/chunks/track.py\", line 33, in parse\n",
            "    event = MetaEvent(time,self.buffer)\n",
            "  File \"/usr/local/lib/python3.7/dist-packages/MIDI/Events/meta.py\", line 75, in __init__\n",
            "    self.attributes = self.message.attributes(self.data)\n",
            "  File \"/usr/local/lib/python3.7/dist-packages/MIDI/Events/meta.py\", line 55, in attributes\n",
            "    return OrderedDict(key=self.key(_bytes[0]),mode=mode)\n",
            "  File \"/usr/local/lib/python3.7/dist-packages/MIDI/Events/meta.py\", line 31, in key\n",
            "    return ['C','G','D','A','E','B','F#','C#'][n]\n",
            "IndexError: list index out of range\n"
          ],
          "name": "stderr"
        },
        {
          "output_type": "stream",
          "text": [
            "n -1 d -1 cpt -1 dp24c -1\n",
            "key unknown mode unknown tempo -1\n",
            "n -1 d -1 cpt -1 dp24c -1\n",
            "key C mode major tempo 133.33344\n"
          ],
          "name": "stdout"
        },
        {
          "output_type": "stream",
          "text": [
            "Traceback (most recent call last):\n",
            "  File \"/usr/local/lib/python3.7/dist-packages/MIDI/chunks/track.py\", line 30, in parse\n",
            "    eventType=self.buffer[0]\n",
            "IndexError: index out of range\n"
          ],
          "name": "stderr"
        },
        {
          "output_type": "stream",
          "text": [
            "n -1 d -1 cpt -1 dp24c -1\n",
            "key C mode major tempo 76.59576\n",
            "n -1 d -1 cpt -1 dp24c -1\n",
            "key unknown mode unknown tempo -1\n",
            "n 2 d 4 cpt 24 dp24c 8\n",
            "key C mode major tempo 153.19128\n",
            "n -1 d -1 cpt -1 dp24c -1\n",
            "key unknown mode unknown tempo -1\n",
            "n 4 d 4 cpt 24 dp24c 8\n",
            "key C mode major tempo 109.0908\n",
            "n 4 d 4 cpt 24 dp24c 8\n",
            "key unknown mode unknown tempo 159.99984\n"
          ],
          "name": "stdout"
        },
        {
          "output_type": "stream",
          "text": [
            "Traceback (most recent call last):\n",
            "  File \"/usr/local/lib/python3.7/dist-packages/MIDI/chunks/track.py\", line 33, in parse\n",
            "    event = MetaEvent(time,self.buffer)\n",
            "  File \"/usr/local/lib/python3.7/dist-packages/MIDI/Events/meta.py\", line 75, in __init__\n",
            "    self.attributes = self.message.attributes(self.data)\n",
            "  File \"/usr/local/lib/python3.7/dist-packages/MIDI/Events/meta.py\", line 55, in attributes\n",
            "    return OrderedDict(key=self.key(_bytes[0]),mode=mode)\n",
            "  File \"/usr/local/lib/python3.7/dist-packages/MIDI/Events/meta.py\", line 31, in key\n",
            "    return ['C','G','D','A','E','B','F#','C#'][n]\n",
            "IndexError: list index out of range\n",
            "Traceback (most recent call last):\n",
            "  File \"/usr/local/lib/python3.7/dist-packages/MIDI/chunks/track.py\", line 37, in parse\n",
            "    event = MIDIEvent(time,self.buffer)\n",
            "  File \"/usr/local/lib/python3.7/dist-packages/MIDI/Events/midi.py\", line 43, in __init__\n",
            "    length = len(self.message) if self.message else 0\n",
            "TypeError: 'method' object cannot be interpreted as an integer\n"
          ],
          "name": "stderr"
        },
        {
          "output_type": "stream",
          "text": [
            "n 4 d 4 cpt 24 dp24c 8\n",
            "key unknown mode unknown tempo -1\n",
            "n -1 d -1 cpt -1 dp24c -1\n",
            "key G mode major tempo 114.2856\n",
            "n -1 d -1 cpt -1 dp24c -1\n",
            "key C mode major tempo 144.0\n"
          ],
          "name": "stdout"
        },
        {
          "output_type": "stream",
          "text": [
            "Traceback (most recent call last):\n",
            "  File \"/usr/local/lib/python3.7/dist-packages/MIDI/chunks/track.py\", line 33, in parse\n",
            "    event = MetaEvent(time,self.buffer)\n",
            "  File \"/usr/local/lib/python3.7/dist-packages/MIDI/Events/meta.py\", line 75, in __init__\n",
            "    self.attributes = self.message.attributes(self.data)\n",
            "  File \"/usr/local/lib/python3.7/dist-packages/MIDI/Events/meta.py\", line 55, in attributes\n",
            "    return OrderedDict(key=self.key(_bytes[0]),mode=mode)\n",
            "  File \"/usr/local/lib/python3.7/dist-packages/MIDI/Events/meta.py\", line 31, in key\n",
            "    return ['C','G','D','A','E','B','F#','C#'][n]\n",
            "IndexError: list index out of range\n"
          ],
          "name": "stderr"
        },
        {
          "output_type": "stream",
          "text": [
            "n -1 d -1 cpt -1 dp24c -1\n",
            "key unknown mode unknown tempo 130.90896\n",
            "n -1 d -1 cpt -1 dp24c -1\n",
            "key C mode major tempo 79.1208\n",
            "n -1 d -1 cpt -1 dp24c -1\n",
            "key C mode major tempo -1\n",
            "n 4 d 4 cpt 24 dp24c 8\n",
            "key C mode major tempo 125.21736\n",
            "n -1 d -1 cpt -1 dp24c -1\n",
            "key C mode major tempo 133.3332\n",
            "n -1 d -1 cpt -1 dp24c -1\n",
            "key C mode major tempo 122.034\n",
            "n -1 d -1 cpt -1 dp24c -1\n",
            "key C mode major tempo 100.00008\n",
            "n 4 d 4 cpt 24 dp24c 8\n",
            "key unknown mode unknown tempo -1\n",
            "n 4 d 4 cpt 24 dp24c 8\n",
            "key C mode major tempo 205.71432\n",
            "n 4 d 4 cpt 24 dp24c 8\n",
            "key G mode major tempo 144.0\n"
          ],
          "name": "stdout"
        },
        {
          "output_type": "stream",
          "text": [
            "Traceback (most recent call last):\n",
            "  File \"/usr/local/lib/python3.7/dist-packages/MIDI/chunks/track.py\", line 33, in parse\n",
            "    event = MetaEvent(time,self.buffer)\n",
            "  File \"/usr/local/lib/python3.7/dist-packages/MIDI/Events/meta.py\", line 75, in __init__\n",
            "    self.attributes = self.message.attributes(self.data)\n",
            "  File \"/usr/local/lib/python3.7/dist-packages/MIDI/Events/meta.py\", line 55, in attributes\n",
            "    return OrderedDict(key=self.key(_bytes[0]),mode=mode)\n",
            "  File \"/usr/local/lib/python3.7/dist-packages/MIDI/Events/meta.py\", line 31, in key\n",
            "    return ['C','G','D','A','E','B','F#','C#'][n]\n",
            "IndexError: list index out of range\n"
          ],
          "name": "stderr"
        },
        {
          "output_type": "stream",
          "text": [
            "n 3 d 4 cpt 24 dp24c 8\n",
            "key C mode major tempo 171.42864\n",
            "n 4 d 4 cpt 24 dp24c 8\n",
            "key unknown mode unknown tempo 120.0\n",
            "n -1 d -1 cpt -1 dp24c -1\n",
            "key A mode major tempo 96.0\n",
            "n 4 d 4 cpt 24 dp24c 8\n",
            "key C mode major tempo 122.034\n"
          ],
          "name": "stdout"
        },
        {
          "output_type": "stream",
          "text": [
            "Traceback (most recent call last):\n",
            "  File \"/usr/local/lib/python3.7/dist-packages/MIDI/chunks/track.py\", line 30, in parse\n",
            "    eventType=self.buffer[0]\n",
            "IndexError: index out of range\n"
          ],
          "name": "stderr"
        },
        {
          "output_type": "stream",
          "text": [
            "n 4 d 4 cpt 24 dp24c 8\n",
            "key C mode major tempo 114.2856\n",
            "n -1 d -1 cpt -1 dp24c -1\n",
            "key unknown mode unknown tempo -1\n"
          ],
          "name": "stdout"
        },
        {
          "output_type": "stream",
          "text": [
            "Traceback (most recent call last):\n",
            "  File \"/usr/local/lib/python3.7/dist-packages/MIDI/chunks/track.py\", line 33, in parse\n",
            "    event = MetaEvent(time,self.buffer)\n",
            "  File \"/usr/local/lib/python3.7/dist-packages/MIDI/Events/meta.py\", line 75, in __init__\n",
            "    self.attributes = self.message.attributes(self.data)\n",
            "  File \"/usr/local/lib/python3.7/dist-packages/MIDI/Events/meta.py\", line 55, in attributes\n",
            "    return OrderedDict(key=self.key(_bytes[0]),mode=mode)\n",
            "  File \"/usr/local/lib/python3.7/dist-packages/MIDI/Events/meta.py\", line 31, in key\n",
            "    return ['C','G','D','A','E','B','F#','C#'][n]\n",
            "IndexError: list index out of range\n"
          ],
          "name": "stderr"
        },
        {
          "output_type": "stream",
          "text": [
            "n -1 d -1 cpt -1 dp24c -1\n",
            "key C mode major tempo 234.7188\n",
            "n -1 d -1 cpt -1 dp24c -1\n",
            "key A mode major tempo 211.76472\n"
          ],
          "name": "stdout"
        },
        {
          "output_type": "stream",
          "text": [
            "Traceback (most recent call last):\n",
            "  File \"/usr/local/lib/python3.7/dist-packages/MIDI/chunks/track.py\", line 33, in parse\n",
            "    event = MetaEvent(time,self.buffer)\n",
            "  File \"/usr/local/lib/python3.7/dist-packages/MIDI/Events/meta.py\", line 75, in __init__\n",
            "    self.attributes = self.message.attributes(self.data)\n",
            "  File \"/usr/local/lib/python3.7/dist-packages/MIDI/Events/meta.py\", line 55, in attributes\n",
            "    return OrderedDict(key=self.key(_bytes[0]),mode=mode)\n",
            "  File \"/usr/local/lib/python3.7/dist-packages/MIDI/Events/meta.py\", line 31, in key\n",
            "    return ['C','G','D','A','E','B','F#','C#'][n]\n",
            "IndexError: list index out of range\n"
          ],
          "name": "stderr"
        },
        {
          "output_type": "stream",
          "text": [
            "n -1 d -1 cpt -1 dp24c -1\n",
            "key B mode major tempo 205.71432\n",
            "n 4 d 4 cpt 24 dp24c 8\n",
            "key C mode major tempo 218.18184\n"
          ],
          "name": "stdout"
        },
        {
          "output_type": "stream",
          "text": [
            "Traceback (most recent call last):\n",
            "  File \"/usr/local/lib/python3.7/dist-packages/MIDI/chunks/track.py\", line 33, in parse\n",
            "    event = MetaEvent(time,self.buffer)\n",
            "  File \"/usr/local/lib/python3.7/dist-packages/MIDI/Events/meta.py\", line 75, in __init__\n",
            "    self.attributes = self.message.attributes(self.data)\n",
            "  File \"/usr/local/lib/python3.7/dist-packages/MIDI/Events/meta.py\", line 55, in attributes\n",
            "    return OrderedDict(key=self.key(_bytes[0]),mode=mode)\n",
            "  File \"/usr/local/lib/python3.7/dist-packages/MIDI/Events/meta.py\", line 31, in key\n",
            "    return ['C','G','D','A','E','B','F#','C#'][n]\n",
            "IndexError: list index out of range\n",
            "Traceback (most recent call last):\n",
            "  File \"/usr/local/lib/python3.7/dist-packages/MIDI/chunks/track.py\", line 37, in parse\n",
            "    event = MIDIEvent(time,self.buffer)\n",
            "  File \"/usr/local/lib/python3.7/dist-packages/MIDI/Events/midi.py\", line 43, in __init__\n",
            "    length = len(self.message) if self.message else 0\n",
            "TypeError: 'method' object cannot be interpreted as an integer\n",
            "Traceback (most recent call last):\n",
            "  File \"/usr/local/lib/python3.7/dist-packages/MIDI/chunks/track.py\", line 37, in parse\n",
            "    event = MIDIEvent(time,self.buffer)\n",
            "  File \"/usr/local/lib/python3.7/dist-packages/MIDI/Events/midi.py\", line 43, in __init__\n",
            "    length = len(self.message) if self.message else 0\n",
            "TypeError: 'method' object cannot be interpreted as an integer\n"
          ],
          "name": "stderr"
        },
        {
          "output_type": "stream",
          "text": [
            "n -1 d -1 cpt -1 dp24c -1\n",
            "key unknown mode unknown tempo -1\n",
            "n 4 d 4 cpt 24 dp24c 8\n",
            "key C mode major tempo 148.45368\n",
            "n 4 d 4 cpt 24 dp24c 8\n",
            "key C mode major tempo 145.45464\n",
            "n 4 d 4 cpt 24 dp24c 8\n",
            "key C mode major tempo 151.57896\n",
            "n 4 d 4 cpt 24 dp24c 8\n",
            "key A mode major tempo 115.2\n",
            "n 4 d 4 cpt 24 dp24c 8\n",
            "key G mode major tempo 106.66656\n"
          ],
          "name": "stdout"
        },
        {
          "output_type": "stream",
          "text": [
            "Traceback (most recent call last):\n",
            "  File \"/usr/local/lib/python3.7/dist-packages/MIDI/chunks/track.py\", line 30, in parse\n",
            "    eventType=self.buffer[0]\n",
            "IndexError: index out of range\n",
            "Traceback (most recent call last):\n",
            "  File \"/usr/local/lib/python3.7/dist-packages/MIDI/chunks/track.py\", line 30, in parse\n",
            "    eventType=self.buffer[0]\n",
            "IndexError: index out of range\n",
            "Traceback (most recent call last):\n",
            "  File \"/usr/local/lib/python3.7/dist-packages/MIDI/chunks/track.py\", line 37, in parse\n",
            "    event = MIDIEvent(time,self.buffer)\n",
            "  File \"/usr/local/lib/python3.7/dist-packages/MIDI/Events/midi.py\", line 43, in __init__\n",
            "    length = len(self.message) if self.message else 0\n",
            "TypeError: 'method' object cannot be interpreted as an integer\n"
          ],
          "name": "stderr"
        },
        {
          "output_type": "stream",
          "text": [
            "n 4 d 4 cpt 24 dp24c 8\n",
            "key unknown mode unknown tempo -1\n",
            "n -1 d -1 cpt -1 dp24c -1\n",
            "key D mode major tempo 208.6956\n"
          ],
          "name": "stdout"
        },
        {
          "output_type": "stream",
          "text": [
            "Traceback (most recent call last):\n",
            "  File \"/usr/local/lib/python3.7/dist-packages/MIDI/chunks/track.py\", line 33, in parse\n",
            "    event = MetaEvent(time,self.buffer)\n",
            "  File \"/usr/local/lib/python3.7/dist-packages/MIDI/Events/meta.py\", line 75, in __init__\n",
            "    self.attributes = self.message.attributes(self.data)\n",
            "  File \"/usr/local/lib/python3.7/dist-packages/MIDI/Events/meta.py\", line 54, in attributes\n",
            "    mode = { 0 : 'major', 1 : 'minor' }[_bytes[1]]\n",
            "KeyError: 255\n"
          ],
          "name": "stderr"
        },
        {
          "output_type": "stream",
          "text": [
            "n -1 d -1 cpt -1 dp24c -1\n",
            "key C mode major tempo 49.18032\n",
            "n 4 d 4 cpt 24 dp24c 8\n",
            "key C mode major tempo 138.46152\n",
            "n -1 d -1 cpt -1 dp24c -1\n",
            "key unknown mode unknown tempo 110.75688\n",
            "n -1 d -1 cpt -1 dp24c -1\n",
            "key unknown mode unknown tempo -1\n",
            "n -1 d -1 cpt -1 dp24c -1\n",
            "key unknown mode unknown tempo 122.03376\n"
          ],
          "name": "stdout"
        },
        {
          "output_type": "stream",
          "text": [
            "Traceback (most recent call last):\n",
            "  File \"/usr/local/lib/python3.7/dist-packages/MIDI/chunks/track.py\", line 33, in parse\n",
            "    event = MetaEvent(time,self.buffer)\n",
            "  File \"/usr/local/lib/python3.7/dist-packages/MIDI/Events/meta.py\", line 75, in __init__\n",
            "    self.attributes = self.message.attributes(self.data)\n",
            "  File \"/usr/local/lib/python3.7/dist-packages/MIDI/Events/meta.py\", line 55, in attributes\n",
            "    return OrderedDict(key=self.key(_bytes[0]),mode=mode)\n",
            "  File \"/usr/local/lib/python3.7/dist-packages/MIDI/Events/meta.py\", line 31, in key\n",
            "    return ['C','G','D','A','E','B','F#','C#'][n]\n",
            "IndexError: list index out of range\n",
            "Traceback (most recent call last):\n",
            "  File \"/usr/local/lib/python3.7/dist-packages/MIDI/chunks/track.py\", line 37, in parse\n",
            "    event = MIDIEvent(time,self.buffer)\n",
            "  File \"/usr/local/lib/python3.7/dist-packages/MIDI/Events/midi.py\", line 43, in __init__\n",
            "    length = len(self.message) if self.message else 0\n",
            "TypeError: 'method' object cannot be interpreted as an integer\n"
          ],
          "name": "stderr"
        },
        {
          "output_type": "stream",
          "text": [
            "n -1 d -1 cpt -1 dp24c -1\n",
            "key unknown mode unknown tempo 150.0\n",
            "n 1 d 4 cpt 24 dp24c 8\n",
            "key C mode major tempo 119.99976\n",
            "n -1 d -1 cpt -1 dp24c -1\n",
            "key B mode major tempo 120.0\n"
          ],
          "name": "stdout"
        },
        {
          "output_type": "stream",
          "text": [
            "Traceback (most recent call last):\n",
            "  File \"/usr/local/lib/python3.7/dist-packages/MIDI/chunks/track.py\", line 30, in parse\n",
            "    eventType=self.buffer[0]\n",
            "IndexError: index out of range\n",
            "Traceback (most recent call last):\n",
            "  File \"/usr/local/lib/python3.7/dist-packages/MIDI/chunks/track.py\", line 30, in parse\n",
            "    eventType=self.buffer[0]\n",
            "IndexError: index out of range\n",
            "Traceback (most recent call last):\n",
            "  File \"/usr/local/lib/python3.7/dist-packages/MIDI/chunks/track.py\", line 30, in parse\n",
            "    eventType=self.buffer[0]\n",
            "IndexError: index out of range\n",
            "Traceback (most recent call last):\n",
            "  File \"/usr/local/lib/python3.7/dist-packages/MIDI/chunks/track.py\", line 30, in parse\n",
            "    eventType=self.buffer[0]\n",
            "IndexError: index out of range\n",
            "Traceback (most recent call last):\n",
            "  File \"/usr/local/lib/python3.7/dist-packages/MIDI/chunks/track.py\", line 30, in parse\n",
            "    eventType=self.buffer[0]\n",
            "IndexError: index out of range\n",
            "Traceback (most recent call last):\n",
            "  File \"/usr/local/lib/python3.7/dist-packages/MIDI/chunks/track.py\", line 30, in parse\n",
            "    eventType=self.buffer[0]\n",
            "IndexError: index out of range\n",
            "Traceback (most recent call last):\n",
            "  File \"/usr/local/lib/python3.7/dist-packages/MIDI/chunks/track.py\", line 30, in parse\n",
            "    eventType=self.buffer[0]\n",
            "IndexError: index out of range\n"
          ],
          "name": "stderr"
        },
        {
          "output_type": "stream",
          "text": [
            "n 4 d 4 cpt 24 dp24c 8\n",
            "key C mode major tempo 126.31584\n",
            "n 4 d 4 cpt 24 dp24c 8\n",
            "key A mode major tempo 120.0\n",
            "n -1 d -1 cpt -1 dp24c -1\n",
            "key C mode major tempo 130.90896\n",
            "Unknown chunk type \u0000\u0014J\u0000 - skipping\n"
          ],
          "name": "stdout"
        },
        {
          "output_type": "stream",
          "text": [
            "Traceback (most recent call last):\n",
            "  File \"/usr/local/lib/python3.7/dist-packages/MIDI/chunks/track.py\", line 30, in parse\n",
            "    eventType=self.buffer[0]\n",
            "IndexError: index out of range\n",
            "Traceback (most recent call last):\n",
            "  File \"/usr/local/lib/python3.7/dist-packages/MIDI/chunks/track.py\", line 30, in parse\n",
            "    eventType=self.buffer[0]\n",
            "IndexError: index out of range\n",
            "Traceback (most recent call last):\n",
            "  File \"/usr/local/lib/python3.7/dist-packages/MIDI/chunks/track.py\", line 30, in parse\n",
            "    eventType=self.buffer[0]\n",
            "IndexError: index out of range\n",
            "Traceback (most recent call last):\n",
            "  File \"/usr/local/lib/python3.7/dist-packages/MIDI/chunks/track.py\", line 30, in parse\n",
            "    eventType=self.buffer[0]\n",
            "IndexError: index out of range\n"
          ],
          "name": "stderr"
        },
        {
          "output_type": "stream",
          "text": [
            "n 2 d 4 cpt 24 dp24c 8\n",
            "key C mode major tempo 144.0\n",
            "n -1 d -1 cpt -1 dp24c -1\n",
            "key C mode major tempo 72.0\n",
            "n -1 d -1 cpt -1 dp24c -1\n",
            "key C mode minor tempo 67.28952\n"
          ],
          "name": "stdout"
        },
        {
          "output_type": "stream",
          "text": [
            "Traceback (most recent call last):\n",
            "  File \"/usr/local/lib/python3.7/dist-packages/MIDI/chunks/track.py\", line 37, in parse\n",
            "    event = MIDIEvent(time,self.buffer)\n",
            "  File \"/usr/local/lib/python3.7/dist-packages/MIDI/Events/midi.py\", line 43, in __init__\n",
            "    length = len(self.message) if self.message else 0\n",
            "TypeError: 'method' object cannot be interpreted as an integer\n"
          ],
          "name": "stderr"
        },
        {
          "output_type": "stream",
          "text": [
            "n 4 d 4 cpt 24 dp24c 8\n",
            "key unknown mode unknown tempo 163.1064\n",
            "n 2 d 4 cpt 24 dp24c 8\n",
            "key A mode major tempo 154.83864\n",
            "n -1 d -1 cpt -1 dp24c -1\n",
            "key G mode major tempo 120.0\n",
            "n 4 d 4 cpt 96 dp24c 8\n",
            "key unknown mode unknown tempo 96.64416\n"
          ],
          "name": "stdout"
        },
        {
          "output_type": "stream",
          "text": [
            "Traceback (most recent call last):\n",
            "  File \"/usr/local/lib/python3.7/dist-packages/MIDI/chunks/track.py\", line 33, in parse\n",
            "    event = MetaEvent(time,self.buffer)\n",
            "  File \"/usr/local/lib/python3.7/dist-packages/MIDI/Events/meta.py\", line 75, in __init__\n",
            "    self.attributes = self.message.attributes(self.data)\n",
            "  File \"/usr/local/lib/python3.7/dist-packages/MIDI/Events/meta.py\", line 55, in attributes\n",
            "    return OrderedDict(key=self.key(_bytes[0]),mode=mode)\n",
            "  File \"/usr/local/lib/python3.7/dist-packages/MIDI/Events/meta.py\", line 31, in key\n",
            "    return ['C','G','D','A','E','B','F#','C#'][n]\n",
            "IndexError: list index out of range\n"
          ],
          "name": "stderr"
        },
        {
          "output_type": "stream",
          "text": [
            "n -1 d -1 cpt -1 dp24c -1\n",
            "key unknown mode unknown tempo -1\n",
            "n 4 d 4 cpt 24 dp24c 8\n",
            "key C mode major tempo 72.0\n"
          ],
          "name": "stdout"
        },
        {
          "output_type": "stream",
          "text": [
            "Traceback (most recent call last):\n",
            "  File \"/usr/local/lib/python3.7/dist-packages/MIDI/chunks/track.py\", line 37, in parse\n",
            "    event = MIDIEvent(time,self.buffer)\n",
            "  File \"/usr/local/lib/python3.7/dist-packages/MIDI/Events/midi.py\", line 43, in __init__\n",
            "    length = len(self.message) if self.message else 0\n",
            "TypeError: 'method' object cannot be interpreted as an integer\n"
          ],
          "name": "stderr"
        },
        {
          "output_type": "stream",
          "text": [
            "n -1 d -1 cpt -1 dp24c -1\n",
            "key C mode major tempo 122.034\n",
            "n 2 d 4 cpt 24 dp24c 8\n",
            "key unknown mode unknown tempo -1\n",
            "n -1 d -1 cpt -1 dp24c -1\n",
            "key unknown mode unknown tempo -1\n",
            "n -1 d -1 cpt -1 dp24c -1\n",
            "key C mode major tempo 165.5172\n",
            "n -1 d -1 cpt -1 dp24c -1\n",
            "key C mode major tempo 104.34768\n"
          ],
          "name": "stdout"
        },
        {
          "output_type": "stream",
          "text": [
            "Traceback (most recent call last):\n",
            "  File \"/usr/local/lib/python3.7/dist-packages/MIDI/chunks/track.py\", line 37, in parse\n",
            "    event = MIDIEvent(time,self.buffer)\n",
            "  File \"/usr/local/lib/python3.7/dist-packages/MIDI/Events/midi.py\", line 43, in __init__\n",
            "    length = len(self.message) if self.message else 0\n",
            "TypeError: 'method' object cannot be interpreted as an integer\n",
            "Traceback (most recent call last):\n",
            "  File \"/usr/local/lib/python3.7/dist-packages/MIDI/chunks/track.py\", line 37, in parse\n",
            "    event = MIDIEvent(time,self.buffer)\n",
            "  File \"/usr/local/lib/python3.7/dist-packages/MIDI/Events/midi.py\", line 43, in __init__\n",
            "    length = len(self.message) if self.message else 0\n",
            "TypeError: 'method' object cannot be interpreted as an integer\n"
          ],
          "name": "stderr"
        },
        {
          "output_type": "stream",
          "text": [
            "n 4 d 4 cpt 24 dp24c 8\n",
            "key C mode major tempo 109.0908\n",
            "n -1 d -1 cpt -1 dp24c -1\n",
            "key C mode major tempo 128.57136\n",
            "n 4 d 4 cpt 24 dp24c 8\n",
            "key unknown mode unknown tempo 214.92528\n",
            "n 4 d 4 cpt 24 dp24c 8\n",
            "key E mode major tempo 81.81816\n",
            "n 4 d 4 cpt 24 dp24c 8\n",
            "key C mode major tempo 128.57136\n",
            "n -1 d -1 cpt -1 dp24c -1\n",
            "key C mode major tempo -1\n"
          ],
          "name": "stdout"
        },
        {
          "output_type": "stream",
          "text": [
            "Traceback (most recent call last):\n",
            "  File \"/usr/local/lib/python3.7/dist-packages/MIDI/chunks/track.py\", line 37, in parse\n",
            "    event = MIDIEvent(time,self.buffer)\n",
            "  File \"/usr/local/lib/python3.7/dist-packages/MIDI/Events/midi.py\", line 43, in __init__\n",
            "    length = len(self.message) if self.message else 0\n",
            "TypeError: 'method' object cannot be interpreted as an integer\n",
            "Traceback (most recent call last):\n",
            "  File \"/usr/local/lib/python3.7/dist-packages/MIDI/chunks/track.py\", line 37, in parse\n",
            "    event = MIDIEvent(time,self.buffer)\n",
            "  File \"/usr/local/lib/python3.7/dist-packages/MIDI/Events/midi.py\", line 43, in __init__\n",
            "    length = len(self.message) if self.message else 0\n",
            "TypeError: 'method' object cannot be interpreted as an integer\n",
            "Traceback (most recent call last):\n",
            "  File \"/usr/local/lib/python3.7/dist-packages/MIDI/chunks/track.py\", line 33, in parse\n",
            "    event = MetaEvent(time,self.buffer)\n",
            "  File \"/usr/local/lib/python3.7/dist-packages/MIDI/Events/meta.py\", line 75, in __init__\n",
            "    self.attributes = self.message.attributes(self.data)\n",
            "  File \"/usr/local/lib/python3.7/dist-packages/MIDI/Events/meta.py\", line 55, in attributes\n",
            "    return OrderedDict(key=self.key(_bytes[0]),mode=mode)\n",
            "  File \"/usr/local/lib/python3.7/dist-packages/MIDI/Events/meta.py\", line 31, in key\n",
            "    return ['C','G','D','A','E','B','F#','C#'][n]\n",
            "IndexError: list index out of range\n"
          ],
          "name": "stderr"
        },
        {
          "output_type": "stream",
          "text": [
            "n 4 d 4 cpt 24 dp24c 8\n",
            "key C mode major tempo 160.00008\n",
            "n 4 d 4 cpt 24 dp24c 8\n",
            "key C mode major tempo 130.9092\n",
            "n -1 d -1 cpt -1 dp24c -1\n",
            "key unknown mode unknown tempo -1\n",
            "n 4 d 4 cpt 24 dp24c 8\n",
            "key unknown mode unknown tempo -1\n",
            "n 4 d 4 cpt 96 dp24c 8\n",
            "key unknown mode unknown tempo 144.0\n",
            "n -1 d -1 cpt -1 dp24c -1\n",
            "key G mode major tempo 151.57872\n",
            "n 4 d 4 cpt 24 dp24c 8\n",
            "key unknown mode unknown tempo -1\n"
          ],
          "name": "stdout"
        },
        {
          "output_type": "stream",
          "text": [
            "Traceback (most recent call last):\n",
            "  File \"/usr/local/lib/python3.7/dist-packages/MIDI/chunks/track.py\", line 33, in parse\n",
            "    event = MetaEvent(time,self.buffer)\n",
            "  File \"/usr/local/lib/python3.7/dist-packages/MIDI/Events/meta.py\", line 75, in __init__\n",
            "    self.attributes = self.message.attributes(self.data)\n",
            "  File \"/usr/local/lib/python3.7/dist-packages/MIDI/Events/meta.py\", line 55, in attributes\n",
            "    return OrderedDict(key=self.key(_bytes[0]),mode=mode)\n",
            "  File \"/usr/local/lib/python3.7/dist-packages/MIDI/Events/meta.py\", line 31, in key\n",
            "    return ['C','G','D','A','E','B','F#','C#'][n]\n",
            "IndexError: list index out of range\n",
            "Traceback (most recent call last):\n",
            "  File \"/usr/local/lib/python3.7/dist-packages/MIDI/chunks/track.py\", line 33, in parse\n",
            "    event = MetaEvent(time,self.buffer)\n",
            "  File \"/usr/local/lib/python3.7/dist-packages/MIDI/Events/meta.py\", line 75, in __init__\n",
            "    self.attributes = self.message.attributes(self.data)\n",
            "  File \"/usr/local/lib/python3.7/dist-packages/MIDI/Events/meta.py\", line 54, in attributes\n",
            "    mode = { 0 : 'major', 1 : 'minor' }[_bytes[1]]\n",
            "KeyError: 255\n"
          ],
          "name": "stderr"
        },
        {
          "output_type": "stream",
          "text": [
            "n -1 d -1 cpt -1 dp24c -1\n",
            "key unknown mode unknown tempo 120.0\n",
            "n -1 d -1 cpt -1 dp24c -1\n",
            "key C mode major tempo 124.13784\n",
            "n 4 d 4 cpt 24 dp24c 8\n",
            "key C mode major tempo 119.00832\n",
            "n -1 d -1 cpt -1 dp24c -1\n",
            "key C mode major tempo 144.0\n"
          ],
          "name": "stdout"
        },
        {
          "output_type": "stream",
          "text": [
            "Traceback (most recent call last):\n",
            "  File \"/usr/local/lib/python3.7/dist-packages/MIDI/chunks/track.py\", line 37, in parse\n",
            "    event = MIDIEvent(time,self.buffer)\n",
            "  File \"/usr/local/lib/python3.7/dist-packages/MIDI/Events/midi.py\", line 43, in __init__\n",
            "    length = len(self.message) if self.message else 0\n",
            "TypeError: 'method' object cannot be interpreted as an integer\n"
          ],
          "name": "stderr"
        },
        {
          "output_type": "stream",
          "text": [
            "n 4 d 4 cpt 24 dp24c 8\n",
            "key C mode major tempo 184.61544\n",
            "n 2 d 4 cpt 24 dp24c 8\n",
            "key C mode major tempo 173.49408\n",
            "n -1 d -1 cpt -1 dp24c -1\n",
            "key unknown mode unknown tempo 151.57536\n",
            "n 4 d 4 cpt 24 dp24c 8\n",
            "key C mode major tempo 84.70584\n",
            "n 4 d 4 cpt 24 dp24c 8\n",
            "key G mode minor tempo 102.85704\n",
            "n -1 d -1 cpt -1 dp24c -1\n",
            "key C mode major tempo 69.5652\n",
            "n -1 d -1 cpt -1 dp24c -1\n",
            "key D mode major tempo 156.52176\n",
            "n -1 d -1 cpt -1 dp24c -1\n",
            "key unknown mode unknown tempo -1\n",
            "n 4 d 4 cpt 24 dp24c 8\n",
            "key unknown mode unknown tempo -1\n",
            "n -1 d -1 cpt -1 dp24c -1\n",
            "key C mode major tempo 109.0908\n"
          ],
          "name": "stdout"
        },
        {
          "output_type": "stream",
          "text": [
            "Traceback (most recent call last):\n",
            "  File \"/usr/local/lib/python3.7/dist-packages/MIDI/chunks/track.py\", line 33, in parse\n",
            "    event = MetaEvent(time,self.buffer)\n",
            "  File \"/usr/local/lib/python3.7/dist-packages/MIDI/Events/meta.py\", line 75, in __init__\n",
            "    self.attributes = self.message.attributes(self.data)\n",
            "  File \"/usr/local/lib/python3.7/dist-packages/MIDI/Events/meta.py\", line 55, in attributes\n",
            "    return OrderedDict(key=self.key(_bytes[0]),mode=mode)\n",
            "  File \"/usr/local/lib/python3.7/dist-packages/MIDI/Events/meta.py\", line 31, in key\n",
            "    return ['C','G','D','A','E','B','F#','C#'][n]\n",
            "IndexError: list index out of range\n",
            "Traceback (most recent call last):\n",
            "  File \"/usr/local/lib/python3.7/dist-packages/MIDI/chunks/track.py\", line 33, in parse\n",
            "    event = MetaEvent(time,self.buffer)\n",
            "  File \"/usr/local/lib/python3.7/dist-packages/MIDI/Events/meta.py\", line 75, in __init__\n",
            "    self.attributes = self.message.attributes(self.data)\n",
            "  File \"/usr/local/lib/python3.7/dist-packages/MIDI/Events/meta.py\", line 54, in attributes\n",
            "    mode = { 0 : 'major', 1 : 'minor' }[_bytes[1]]\n",
            "KeyError: 255\n",
            "Traceback (most recent call last):\n",
            "  File \"/usr/local/lib/python3.7/dist-packages/MIDI/chunks/track.py\", line 33, in parse\n",
            "    event = MetaEvent(time,self.buffer)\n",
            "  File \"/usr/local/lib/python3.7/dist-packages/MIDI/Events/meta.py\", line 75, in __init__\n",
            "    self.attributes = self.message.attributes(self.data)\n",
            "  File \"/usr/local/lib/python3.7/dist-packages/MIDI/Events/meta.py\", line 54, in attributes\n",
            "    mode = { 0 : 'major', 1 : 'minor' }[_bytes[1]]\n",
            "KeyError: 255\n",
            "Traceback (most recent call last):\n",
            "  File \"/usr/local/lib/python3.7/dist-packages/MIDI/chunks/track.py\", line 33, in parse\n",
            "    event = MetaEvent(time,self.buffer)\n",
            "  File \"/usr/local/lib/python3.7/dist-packages/MIDI/Events/meta.py\", line 75, in __init__\n",
            "    self.attributes = self.message.attributes(self.data)\n",
            "  File \"/usr/local/lib/python3.7/dist-packages/MIDI/Events/meta.py\", line 54, in attributes\n",
            "    mode = { 0 : 'major', 1 : 'minor' }[_bytes[1]]\n",
            "KeyError: 255\n",
            "Traceback (most recent call last):\n",
            "  File \"/usr/local/lib/python3.7/dist-packages/MIDI/chunks/track.py\", line 33, in parse\n",
            "    event = MetaEvent(time,self.buffer)\n",
            "  File \"/usr/local/lib/python3.7/dist-packages/MIDI/Events/meta.py\", line 75, in __init__\n",
            "    self.attributes = self.message.attributes(self.data)\n",
            "  File \"/usr/local/lib/python3.7/dist-packages/MIDI/Events/meta.py\", line 54, in attributes\n",
            "    mode = { 0 : 'major', 1 : 'minor' }[_bytes[1]]\n",
            "KeyError: 255\n",
            "Traceback (most recent call last):\n",
            "  File \"/usr/local/lib/python3.7/dist-packages/MIDI/chunks/track.py\", line 33, in parse\n",
            "    event = MetaEvent(time,self.buffer)\n",
            "  File \"/usr/local/lib/python3.7/dist-packages/MIDI/Events/meta.py\", line 75, in __init__\n",
            "    self.attributes = self.message.attributes(self.data)\n",
            "  File \"/usr/local/lib/python3.7/dist-packages/MIDI/Events/meta.py\", line 54, in attributes\n",
            "    mode = { 0 : 'major', 1 : 'minor' }[_bytes[1]]\n",
            "KeyError: 255\n"
          ],
          "name": "stderr"
        },
        {
          "output_type": "stream",
          "text": [
            "n -1 d -1 cpt -1 dp24c -1\n",
            "key C mode major tempo 208.6956\n",
            "n -1 d -1 cpt -1 dp24c -1\n",
            "key C mode major tempo -1\n",
            "n 4 d 4 cpt 24 dp24c 8\n",
            "key C mode major tempo 150.0\n",
            "n 4 d 4 cpt 24 dp24c 8\n",
            "key C mode major tempo 134.57952\n",
            "n -1 d -1 cpt -1 dp24c -1\n",
            "key unknown mode unknown tempo -1\n",
            "n -1 d -1 cpt -1 dp24c -1\n",
            "key C mode major tempo 113.38584\n",
            "n -1 d -1 cpt -1 dp24c -1\n",
            "key unknown mode unknown tempo 100.00008\n"
          ],
          "name": "stdout"
        },
        {
          "output_type": "stream",
          "text": [
            "Traceback (most recent call last):\n",
            "  File \"/usr/local/lib/python3.7/dist-packages/MIDI/chunks/track.py\", line 37, in parse\n",
            "    event = MIDIEvent(time,self.buffer)\n",
            "  File \"/usr/local/lib/python3.7/dist-packages/MIDI/Events/midi.py\", line 43, in __init__\n",
            "    length = len(self.message) if self.message else 0\n",
            "TypeError: 'method' object cannot be interpreted as an integer\n"
          ],
          "name": "stderr"
        },
        {
          "output_type": "stream",
          "text": [
            "n -1 d -1 cpt -1 dp24c -1\n",
            "key C mode major tempo 117.0732\n",
            "n 2 d 4 cpt 96 dp24c 8\n",
            "key C mode major tempo 180.0\n",
            "n 4 d 4 cpt 24 dp24c 8\n",
            "key C mode major tempo 130.9092\n",
            "n 4 d 4 cpt 24 dp24c 8\n",
            "key C mode major tempo 138.46152\n"
          ],
          "name": "stdout"
        },
        {
          "output_type": "stream",
          "text": [
            "Traceback (most recent call last):\n",
            "  File \"/usr/local/lib/python3.7/dist-packages/MIDI/chunks/track.py\", line 37, in parse\n",
            "    event = MIDIEvent(time,self.buffer)\n",
            "  File \"/usr/local/lib/python3.7/dist-packages/MIDI/Events/midi.py\", line 43, in __init__\n",
            "    length = len(self.message) if self.message else 0\n",
            "TypeError: 'method' object cannot be interpreted as an integer\n"
          ],
          "name": "stderr"
        },
        {
          "output_type": "stream",
          "text": [
            "n -1 d -1 cpt -1 dp24c -1\n",
            "key C mode major tempo 199.99992\n",
            "n 4 d 4 cpt 24 dp24c 8\n",
            "key G mode major tempo 141.1764\n",
            "n 2 d 4 cpt 96 dp24c 8\n",
            "key C mode major tempo 202.8168\n",
            "n 4 d 4 cpt 24 dp24c 8\n",
            "key C mode major tempo 124.13784\n",
            "n -1 d -1 cpt -1 dp24c -1\n",
            "key D mode major tempo 114.2856\n"
          ],
          "name": "stdout"
        },
        {
          "output_type": "stream",
          "text": [
            "Traceback (most recent call last):\n",
            "  File \"/usr/local/lib/python3.7/dist-packages/MIDI/chunks/track.py\", line 33, in parse\n",
            "    event = MetaEvent(time,self.buffer)\n",
            "  File \"/usr/local/lib/python3.7/dist-packages/MIDI/Events/meta.py\", line 75, in __init__\n",
            "    self.attributes = self.message.attributes(self.data)\n",
            "  File \"/usr/local/lib/python3.7/dist-packages/MIDI/Events/meta.py\", line 55, in attributes\n",
            "    return OrderedDict(key=self.key(_bytes[0]),mode=mode)\n",
            "  File \"/usr/local/lib/python3.7/dist-packages/MIDI/Events/meta.py\", line 31, in key\n",
            "    return ['C','G','D','A','E','B','F#','C#'][n]\n",
            "IndexError: list index out of range\n"
          ],
          "name": "stderr"
        },
        {
          "output_type": "stream",
          "text": [
            "n -1 d -1 cpt -1 dp24c -1\n",
            "key unknown mode unknown tempo 113.3856\n",
            "n -1 d -1 cpt -1 dp24c -1\n",
            "key C mode major tempo 154.8\n",
            "n 4 d 4 cpt 24 dp24c 8\n",
            "key C mode major tempo 180.0\n",
            "n 4 d 4 cpt 24 dp24c 8\n",
            "key C mode major tempo 128.57136\n",
            "n 4 d 4 cpt 24 dp24c 8\n",
            "key C mode major tempo 111.62784\n"
          ],
          "name": "stdout"
        },
        {
          "output_type": "stream",
          "text": [
            "Traceback (most recent call last):\n",
            "  File \"/usr/local/lib/python3.7/dist-packages/MIDI/chunks/track.py\", line 30, in parse\n",
            "    eventType=self.buffer[0]\n",
            "IndexError: index out of range\n",
            "Traceback (most recent call last):\n",
            "  File \"/usr/local/lib/python3.7/dist-packages/MIDI/chunks/track.py\", line 30, in parse\n",
            "    eventType=self.buffer[0]\n",
            "IndexError: index out of range\n",
            "Traceback (most recent call last):\n",
            "  File \"/usr/local/lib/python3.7/dist-packages/MIDI/chunks/track.py\", line 30, in parse\n",
            "    eventType=self.buffer[0]\n",
            "IndexError: index out of range\n",
            "Traceback (most recent call last):\n",
            "  File \"/usr/local/lib/python3.7/dist-packages/MIDI/chunks/track.py\", line 30, in parse\n",
            "    eventType=self.buffer[0]\n",
            "IndexError: index out of range\n",
            "Traceback (most recent call last):\n",
            "  File \"/usr/local/lib/python3.7/dist-packages/MIDI/chunks/track.py\", line 30, in parse\n",
            "    eventType=self.buffer[0]\n",
            "IndexError: index out of range\n",
            "Traceback (most recent call last):\n",
            "  File \"/usr/local/lib/python3.7/dist-packages/MIDI/chunks/track.py\", line 30, in parse\n",
            "    eventType=self.buffer[0]\n",
            "IndexError: index out of range\n",
            "Traceback (most recent call last):\n",
            "  File \"/usr/local/lib/python3.7/dist-packages/MIDI/chunks/track.py\", line 30, in parse\n",
            "    eventType=self.buffer[0]\n",
            "IndexError: index out of range\n",
            "Traceback (most recent call last):\n",
            "  File \"/usr/local/lib/python3.7/dist-packages/MIDI/chunks/track.py\", line 30, in parse\n",
            "    eventType=self.buffer[0]\n",
            "IndexError: index out of range\n",
            "Traceback (most recent call last):\n",
            "  File \"/usr/local/lib/python3.7/dist-packages/MIDI/chunks/track.py\", line 30, in parse\n",
            "    eventType=self.buffer[0]\n",
            "IndexError: index out of range\n",
            "Traceback (most recent call last):\n",
            "  File \"/usr/local/lib/python3.7/dist-packages/MIDI/chunks/track.py\", line 30, in parse\n",
            "    eventType=self.buffer[0]\n",
            "IndexError: index out of range\n"
          ],
          "name": "stderr"
        },
        {
          "output_type": "stream",
          "text": [
            "n -1 d -1 cpt -1 dp24c -1\n",
            "key C mode major tempo -1\n",
            "n 4 d 4 cpt 24 dp24c 8\n",
            "key G mode major tempo 116.5992\n",
            "n 4 d 4 cpt 24 dp24c 8\n",
            "key C mode major tempo 117.0732\n",
            "n 4 d 4 cpt 24 dp24c 8\n",
            "key C mode major tempo 60.0\n",
            "n 4 d 4 cpt 24 dp24c 8\n",
            "key C mode major tempo 115.2\n"
          ],
          "name": "stdout"
        },
        {
          "output_type": "stream",
          "text": [
            "Traceback (most recent call last):\n",
            "  File \"/usr/local/lib/python3.7/dist-packages/MIDI/chunks/track.py\", line 37, in parse\n",
            "    event = MIDIEvent(time,self.buffer)\n",
            "  File \"/usr/local/lib/python3.7/dist-packages/MIDI/Events/midi.py\", line 43, in __init__\n",
            "    length = len(self.message) if self.message else 0\n",
            "TypeError: 'method' object cannot be interpreted as an integer\n",
            "Traceback (most recent call last):\n",
            "  File \"/usr/local/lib/python3.7/dist-packages/MIDI/chunks/track.py\", line 33, in parse\n",
            "    event = MetaEvent(time,self.buffer)\n",
            "  File \"/usr/local/lib/python3.7/dist-packages/MIDI/Events/meta.py\", line 75, in __init__\n",
            "    self.attributes = self.message.attributes(self.data)\n",
            "  File \"/usr/local/lib/python3.7/dist-packages/MIDI/Events/meta.py\", line 55, in attributes\n",
            "    return OrderedDict(key=self.key(_bytes[0]),mode=mode)\n",
            "  File \"/usr/local/lib/python3.7/dist-packages/MIDI/Events/meta.py\", line 31, in key\n",
            "    return ['C','G','D','A','E','B','F#','C#'][n]\n",
            "IndexError: list index out of range\n"
          ],
          "name": "stderr"
        },
        {
          "output_type": "stream",
          "text": [
            "n 4 d 4 cpt 24 dp24c 8\n",
            "key unknown mode unknown tempo 156.52152\n",
            "n -1 d -1 cpt -1 dp24c -1\n",
            "key C mode major tempo 108.27048\n",
            "n -1 d -1 cpt -1 dp24c -1\n",
            "key A mode major tempo 130.9092\n",
            "n 4 d 4 cpt 24 dp24c 8\n",
            "key C mode major tempo 109.0908\n",
            "n 4 d 4 cpt 24 dp24c 8\n",
            "key C mode major tempo 138.46152\n",
            "n 4 d 4 cpt 24 dp24c 8\n",
            "key C mode major tempo 130.9092\n"
          ],
          "name": "stdout"
        },
        {
          "output_type": "stream",
          "text": [
            "Traceback (most recent call last):\n",
            "  File \"/usr/local/lib/python3.7/dist-packages/MIDI/chunks/track.py\", line 30, in parse\n",
            "    eventType=self.buffer[0]\n",
            "IndexError: index out of range\n"
          ],
          "name": "stderr"
        },
        {
          "output_type": "stream",
          "text": [
            "n 4 d 4 cpt 24 dp24c 8\n",
            "key C mode major tempo 134.57952\n",
            "n -1 d -1 cpt -1 dp24c -1\n",
            "key E mode major tempo 208.6956\n",
            "n 4 d 4 cpt 24 dp24c 8\n",
            "key C mode major tempo 61.5384\n",
            "n -1 d -1 cpt -1 dp24c -1\n",
            "key unknown mode unknown tempo -1\n",
            "n 4 d 4 cpt 24 dp24c 8\n",
            "key C mode major tempo 240.0\n"
          ],
          "name": "stdout"
        },
        {
          "output_type": "stream",
          "text": [
            "Traceback (most recent call last):\n",
            "  File \"/usr/local/lib/python3.7/dist-packages/MIDI/chunks/track.py\", line 33, in parse\n",
            "    event = MetaEvent(time,self.buffer)\n",
            "  File \"/usr/local/lib/python3.7/dist-packages/MIDI/Events/meta.py\", line 75, in __init__\n",
            "    self.attributes = self.message.attributes(self.data)\n",
            "  File \"/usr/local/lib/python3.7/dist-packages/MIDI/Events/meta.py\", line 55, in attributes\n",
            "    return OrderedDict(key=self.key(_bytes[0]),mode=mode)\n",
            "  File \"/usr/local/lib/python3.7/dist-packages/MIDI/Events/meta.py\", line 31, in key\n",
            "    return ['C','G','D','A','E','B','F#','C#'][n]\n",
            "IndexError: list index out of range\n"
          ],
          "name": "stderr"
        },
        {
          "output_type": "stream",
          "text": [
            "n -1 d -1 cpt -1 dp24c -1\n",
            "key C mode major tempo 120.0\n",
            "n -1 d -1 cpt -1 dp24c -1\n",
            "key unknown mode unknown tempo 208.6956\n",
            "n -1 d -1 cpt -1 dp24c -1\n",
            "key C mode major tempo 115.2\n"
          ],
          "name": "stdout"
        },
        {
          "output_type": "stream",
          "text": [
            "Traceback (most recent call last):\n",
            "  File \"/usr/local/lib/python3.7/dist-packages/MIDI/chunks/track.py\", line 33, in parse\n",
            "    event = MetaEvent(time,self.buffer)\n",
            "  File \"/usr/local/lib/python3.7/dist-packages/MIDI/Events/meta.py\", line 75, in __init__\n",
            "    self.attributes = self.message.attributes(self.data)\n",
            "  File \"/usr/local/lib/python3.7/dist-packages/MIDI/Events/meta.py\", line 55, in attributes\n",
            "    return OrderedDict(key=self.key(_bytes[0]),mode=mode)\n",
            "  File \"/usr/local/lib/python3.7/dist-packages/MIDI/Events/meta.py\", line 31, in key\n",
            "    return ['C','G','D','A','E','B','F#','C#'][n]\n",
            "IndexError: list index out of range\n"
          ],
          "name": "stderr"
        },
        {
          "output_type": "stream",
          "text": [
            "n -1 d -1 cpt -1 dp24c -1\n",
            "key unknown mode unknown tempo 90.0\n",
            "n -1 d -1 cpt -1 dp24c -1\n",
            "key unknown mode unknown tempo -1\n"
          ],
          "name": "stdout"
        },
        {
          "output_type": "stream",
          "text": [
            "Traceback (most recent call last):\n",
            "  File \"/usr/local/lib/python3.7/dist-packages/MIDI/chunks/track.py\", line 33, in parse\n",
            "    event = MetaEvent(time,self.buffer)\n",
            "  File \"/usr/local/lib/python3.7/dist-packages/MIDI/Events/meta.py\", line 75, in __init__\n",
            "    self.attributes = self.message.attributes(self.data)\n",
            "  File \"/usr/local/lib/python3.7/dist-packages/MIDI/Events/meta.py\", line 55, in attributes\n",
            "    return OrderedDict(key=self.key(_bytes[0]),mode=mode)\n",
            "  File \"/usr/local/lib/python3.7/dist-packages/MIDI/Events/meta.py\", line 31, in key\n",
            "    return ['C','G','D','A','E','B','F#','C#'][n]\n",
            "IndexError: list index out of range\n",
            "Traceback (most recent call last):\n",
            "  File \"/usr/local/lib/python3.7/dist-packages/MIDI/chunks/track.py\", line 33, in parse\n",
            "    event = MetaEvent(time,self.buffer)\n",
            "  File \"/usr/local/lib/python3.7/dist-packages/MIDI/Events/meta.py\", line 75, in __init__\n",
            "    self.attributes = self.message.attributes(self.data)\n",
            "  File \"/usr/local/lib/python3.7/dist-packages/MIDI/Events/meta.py\", line 55, in attributes\n",
            "    return OrderedDict(key=self.key(_bytes[0]),mode=mode)\n",
            "  File \"/usr/local/lib/python3.7/dist-packages/MIDI/Events/meta.py\", line 31, in key\n",
            "    return ['C','G','D','A','E','B','F#','C#'][n]\n",
            "IndexError: list index out of range\n"
          ],
          "name": "stderr"
        },
        {
          "output_type": "stream",
          "text": [
            "n 4 d 4 cpt 24 dp24c 8\n",
            "key unknown mode unknown tempo -1\n",
            "n -1 d -1 cpt -1 dp24c -1\n",
            "key C mode major tempo -1\n",
            "n -1 d -1 cpt -1 dp24c -1\n",
            "key unknown mode unknown tempo 146.9388\n",
            "n 4 d 4 cpt 24 dp24c 8\n",
            "key G mode major tempo 92.90328\n",
            "n 4 d 4 cpt 24 dp24c 8\n",
            "key C mode major tempo 105.10944\n",
            "n 4 d 4 cpt 24 dp24c 8\n",
            "key unknown mode unknown tempo 120.0\n",
            "n 4 d 4 cpt 24 dp24c 8\n",
            "key F# mode major tempo 144.0\n"
          ],
          "name": "stdout"
        },
        {
          "output_type": "stream",
          "text": [
            "Traceback (most recent call last):\n",
            "  File \"/usr/local/lib/python3.7/dist-packages/MIDI/chunks/track.py\", line 37, in parse\n",
            "    event = MIDIEvent(time,self.buffer)\n",
            "  File \"/usr/local/lib/python3.7/dist-packages/MIDI/Events/midi.py\", line 43, in __init__\n",
            "    length = len(self.message) if self.message else 0\n",
            "TypeError: 'method' object cannot be interpreted as an integer\n"
          ],
          "name": "stderr"
        },
        {
          "output_type": "stream",
          "text": [
            "n 4 d 4 cpt 24 dp24c 8\n",
            "key C mode major tempo 151.57896\n",
            "n -1 d -1 cpt -1 dp24c -1\n",
            "key D mode major tempo 128.57136\n",
            "n -1 d -1 cpt -1 dp24c -1\n",
            "key unknown mode unknown tempo 150.47016\n",
            "n 4 d 4 cpt 24 dp24c 8\n",
            "key C mode major tempo 125.21736\n",
            "n -1 d -1 cpt -1 dp24c -1\n",
            "key A mode major tempo 223.46328\n",
            "n 4 d 4 cpt 24 dp24c 8\n",
            "key A mode major tempo 154.83864\n"
          ],
          "name": "stdout"
        },
        {
          "output_type": "stream",
          "text": [
            "Traceback (most recent call last):\n",
            "  File \"/usr/local/lib/python3.7/dist-packages/MIDI/chunks/track.py\", line 30, in parse\n",
            "    eventType=self.buffer[0]\n",
            "IndexError: index out of range\n",
            "Traceback (most recent call last):\n",
            "  File \"/usr/local/lib/python3.7/dist-packages/MIDI/chunks/track.py\", line 30, in parse\n",
            "    eventType=self.buffer[0]\n",
            "IndexError: index out of range\n",
            "Traceback (most recent call last):\n",
            "  File \"/usr/local/lib/python3.7/dist-packages/MIDI/chunks/track.py\", line 30, in parse\n",
            "    eventType=self.buffer[0]\n",
            "IndexError: index out of range\n",
            "Traceback (most recent call last):\n",
            "  File \"/usr/local/lib/python3.7/dist-packages/MIDI/chunks/track.py\", line 30, in parse\n",
            "    eventType=self.buffer[0]\n",
            "IndexError: index out of range\n",
            "Traceback (most recent call last):\n",
            "  File \"/usr/local/lib/python3.7/dist-packages/MIDI/chunks/track.py\", line 30, in parse\n",
            "    eventType=self.buffer[0]\n",
            "IndexError: index out of range\n",
            "Traceback (most recent call last):\n",
            "  File \"/usr/local/lib/python3.7/dist-packages/MIDI/chunks/track.py\", line 30, in parse\n",
            "    eventType=self.buffer[0]\n",
            "IndexError: index out of range\n",
            "Traceback (most recent call last):\n",
            "  File \"/usr/local/lib/python3.7/dist-packages/MIDI/chunks/track.py\", line 30, in parse\n",
            "    eventType=self.buffer[0]\n",
            "IndexError: index out of range\n",
            "Traceback (most recent call last):\n",
            "  File \"/usr/local/lib/python3.7/dist-packages/MIDI/chunks/track.py\", line 30, in parse\n",
            "    eventType=self.buffer[0]\n",
            "IndexError: index out of range\n",
            "Traceback (most recent call last):\n",
            "  File \"/usr/local/lib/python3.7/dist-packages/MIDI/chunks/track.py\", line 30, in parse\n",
            "    eventType=self.buffer[0]\n",
            "IndexError: index out of range\n"
          ],
          "name": "stderr"
        },
        {
          "output_type": "stream",
          "text": [
            "n -1 d -1 cpt -1 dp24c -1\n",
            "key unknown mode unknown tempo 161.79768\n",
            "n -1 d -1 cpt -1 dp24c -1\n",
            "key C mode major tempo 48.0\n",
            "n 4 d 4 cpt 24 dp24c 8\n",
            "key C mode major tempo 141.1764\n",
            "n 4 d 4 cpt 24 dp24c 8\n",
            "key C mode major tempo -1\n",
            "n 4 d 4 cpt 24 dp24c 8\n",
            "key C mode major tempo 248.27592\n",
            "n -1 d -1 cpt -1 dp24c -1\n",
            "key unknown mode unknown tempo -1\n"
          ],
          "name": "stdout"
        },
        {
          "output_type": "stream",
          "text": [
            "Traceback (most recent call last):\n",
            "  File \"/usr/local/lib/python3.7/dist-packages/MIDI/chunks/track.py\", line 37, in parse\n",
            "    event = MIDIEvent(time,self.buffer)\n",
            "  File \"/usr/local/lib/python3.7/dist-packages/MIDI/Events/midi.py\", line 43, in __init__\n",
            "    length = len(self.message) if self.message else 0\n",
            "TypeError: 'method' object cannot be interpreted as an integer\n",
            "Traceback (most recent call last):\n",
            "  File \"/usr/local/lib/python3.7/dist-packages/MIDI/chunks/track.py\", line 33, in parse\n",
            "    event = MetaEvent(time,self.buffer)\n",
            "  File \"/usr/local/lib/python3.7/dist-packages/MIDI/Events/meta.py\", line 75, in __init__\n",
            "    self.attributes = self.message.attributes(self.data)\n",
            "  File \"/usr/local/lib/python3.7/dist-packages/MIDI/Events/meta.py\", line 55, in attributes\n",
            "    return OrderedDict(key=self.key(_bytes[0]),mode=mode)\n",
            "  File \"/usr/local/lib/python3.7/dist-packages/MIDI/Events/meta.py\", line 31, in key\n",
            "    return ['C','G','D','A','E','B','F#','C#'][n]\n",
            "IndexError: list index out of range\n"
          ],
          "name": "stderr"
        },
        {
          "output_type": "stream",
          "text": [
            "n 4 d 4 cpt 24 dp24c 8\n",
            "key C mode major tempo 110.76912\n",
            "n 4 d 4 cpt 24 dp24c 8\n",
            "key unknown mode unknown tempo -1\n",
            "n 4 d 4 cpt 96 dp24c 8\n",
            "key unknown mode unknown tempo 161.79768\n",
            "n -1 d -1 cpt -1 dp24c -1\n",
            "key C mode major tempo 161.79768\n",
            "n -1 d -1 cpt -1 dp24c -1\n",
            "key C mode major tempo 151.57896\n",
            "n -1 d -1 cpt -1 dp24c -1\n",
            "key unknown mode unknown tempo 112.5\n",
            "n -1 d -1 cpt -1 dp24c -1\n",
            "key C mode major tempo 125.21736\n",
            "n 4 d 4 cpt 24 dp24c 8\n",
            "key C mode major tempo 124.13784\n",
            "n 2 d 4 cpt 24 dp24c 8\n",
            "key C mode major tempo 209.46648\n",
            "n 12 d 8 cpt 12 dp24c 8\n",
            "key D mode major tempo 112.5\n"
          ],
          "name": "stdout"
        },
        {
          "output_type": "stream",
          "text": [
            "Traceback (most recent call last):\n",
            "  File \"/usr/local/lib/python3.7/dist-packages/MIDI/chunks/track.py\", line 30, in parse\n",
            "    eventType=self.buffer[0]\n",
            "IndexError: index out of range\n"
          ],
          "name": "stderr"
        },
        {
          "output_type": "stream",
          "text": [
            "n 4 d 4 cpt 24 dp24c 8\n",
            "key C mode major tempo 127.43352\n",
            "n 4 d 4 cpt 24 dp24c 8\n",
            "key C mode major tempo 110.76912\n",
            "n -1 d -1 cpt -1 dp24c -1\n",
            "key C mode major tempo 221.53848\n",
            "n -1 d -1 cpt -1 dp24c -1\n",
            "key unknown mode unknown tempo 141.1764\n",
            "n -1 d -1 cpt -1 dp24c -1\n",
            "key unknown mode unknown tempo -1\n"
          ],
          "name": "stdout"
        },
        {
          "output_type": "stream",
          "text": [
            "Traceback (most recent call last):\n",
            "  File \"/usr/local/lib/python3.7/dist-packages/MIDI/chunks/track.py\", line 33, in parse\n",
            "    event = MetaEvent(time,self.buffer)\n",
            "  File \"/usr/local/lib/python3.7/dist-packages/MIDI/Events/meta.py\", line 75, in __init__\n",
            "    self.attributes = self.message.attributes(self.data)\n",
            "  File \"/usr/local/lib/python3.7/dist-packages/MIDI/Events/meta.py\", line 55, in attributes\n",
            "    return OrderedDict(key=self.key(_bytes[0]),mode=mode)\n",
            "  File \"/usr/local/lib/python3.7/dist-packages/MIDI/Events/meta.py\", line 31, in key\n",
            "    return ['C','G','D','A','E','B','F#','C#'][n]\n",
            "IndexError: list index out of range\n"
          ],
          "name": "stderr"
        },
        {
          "output_type": "stream",
          "text": [
            "n 4 d 4 cpt 24 dp24c 8\n",
            "key D mode major tempo 158.24184\n",
            "n -1 d -1 cpt -1 dp24c -1\n",
            "key G mode major tempo 218.18184\n"
          ],
          "name": "stdout"
        },
        {
          "output_type": "stream",
          "text": [
            "Traceback (most recent call last):\n",
            "  File \"/usr/local/lib/python3.7/dist-packages/MIDI/chunks/track.py\", line 37, in parse\n",
            "    event = MIDIEvent(time,self.buffer)\n",
            "  File \"/usr/local/lib/python3.7/dist-packages/MIDI/Events/midi.py\", line 43, in __init__\n",
            "    length = len(self.message) if self.message else 0\n",
            "TypeError: 'method' object cannot be interpreted as an integer\n"
          ],
          "name": "stderr"
        },
        {
          "output_type": "stream",
          "text": [
            "n 4 d 4 cpt 24 dp24c 8\n",
            "key C mode major tempo 112.5\n",
            "n -1 d -1 cpt -1 dp24c -1\n",
            "key C mode major tempo 92.3076\n"
          ],
          "name": "stdout"
        },
        {
          "output_type": "stream",
          "text": [
            "Traceback (most recent call last):\n",
            "  File \"/usr/local/lib/python3.7/dist-packages/MIDI/chunks/track.py\", line 37, in parse\n",
            "    event = MIDIEvent(time,self.buffer)\n",
            "  File \"/usr/local/lib/python3.7/dist-packages/MIDI/Events/midi.py\", line 43, in __init__\n",
            "    length = len(self.message) if self.message else 0\n",
            "TypeError: 'method' object cannot be interpreted as an integer\n"
          ],
          "name": "stderr"
        },
        {
          "output_type": "stream",
          "text": [
            "n 4 d 4 cpt 24 dp24c 8\n",
            "key unknown mode unknown tempo -1\n",
            "n -1 d -1 cpt -1 dp24c -1\n",
            "key C mode major tempo 124.13784\n",
            "n 4 d 4 cpt 96 dp24c 8\n",
            "key E mode major tempo 102.564\n",
            "n 2 d 4 cpt 24 dp24c 8\n",
            "key C mode major tempo 158.24184\n",
            "n 4 d 4 cpt 24 dp24c 8\n",
            "key C mode major tempo 184.61544\n",
            "n -1 d -1 cpt -1 dp24c -1\n",
            "key unknown mode unknown tempo -1\n",
            "n 4 d 4 cpt 24 dp24c 8\n",
            "key C mode major tempo 145.45464\n",
            "n -1 d -1 cpt -1 dp24c -1\n",
            "key C mode major tempo 120.0\n"
          ],
          "name": "stdout"
        },
        {
          "output_type": "stream",
          "text": [
            "Traceback (most recent call last):\n",
            "  File \"/usr/local/lib/python3.7/dist-packages/MIDI/chunks/track.py\", line 37, in parse\n",
            "    event = MIDIEvent(time,self.buffer)\n",
            "  File \"/usr/local/lib/python3.7/dist-packages/MIDI/Events/midi.py\", line 43, in __init__\n",
            "    length = len(self.message) if self.message else 0\n",
            "TypeError: 'method' object cannot be interpreted as an integer\n",
            "Traceback (most recent call last):\n",
            "  File \"/usr/local/lib/python3.7/dist-packages/MIDI/chunks/track.py\", line 33, in parse\n",
            "    event = MetaEvent(time,self.buffer)\n",
            "  File \"/usr/local/lib/python3.7/dist-packages/MIDI/Events/meta.py\", line 75, in __init__\n",
            "    self.attributes = self.message.attributes(self.data)\n",
            "  File \"/usr/local/lib/python3.7/dist-packages/MIDI/Events/meta.py\", line 55, in attributes\n",
            "    return OrderedDict(key=self.key(_bytes[0]),mode=mode)\n",
            "  File \"/usr/local/lib/python3.7/dist-packages/MIDI/Events/meta.py\", line 31, in key\n",
            "    return ['C','G','D','A','E','B','F#','C#'][n]\n",
            "IndexError: list index out of range\n"
          ],
          "name": "stderr"
        },
        {
          "output_type": "stream",
          "text": [
            "n 2 d 4 cpt 24 dp24c 8\n",
            "key unknown mode unknown tempo 114.2856\n",
            "n -1 d -1 cpt -1 dp24c -1\n",
            "key C mode major tempo 109.0908\n",
            "n 4 d 4 cpt 24 dp24c 8\n",
            "key C mode major tempo 166.47408\n"
          ],
          "name": "stdout"
        },
        {
          "output_type": "stream",
          "text": [
            "Traceback (most recent call last):\n",
            "  File \"/usr/local/lib/python3.7/dist-packages/MIDI/chunks/track.py\", line 37, in parse\n",
            "    event = MIDIEvent(time,self.buffer)\n",
            "  File \"/usr/local/lib/python3.7/dist-packages/MIDI/Events/midi.py\", line 43, in __init__\n",
            "    length = len(self.message) if self.message else 0\n",
            "TypeError: 'method' object cannot be interpreted as an integer\n",
            "Traceback (most recent call last):\n",
            "  File \"/usr/local/lib/python3.7/dist-packages/MIDI/chunks/track.py\", line 37, in parse\n",
            "    event = MIDIEvent(time,self.buffer)\n",
            "  File \"/usr/local/lib/python3.7/dist-packages/MIDI/Events/midi.py\", line 43, in __init__\n",
            "    length = len(self.message) if self.message else 0\n",
            "TypeError: 'method' object cannot be interpreted as an integer\n"
          ],
          "name": "stderr"
        },
        {
          "output_type": "stream",
          "text": [
            "n -1 d -1 cpt -1 dp24c -1\n",
            "key C mode major tempo -1\n",
            "n 4 d 4 cpt 24 dp24c 8\n",
            "key C mode major tempo 138.46152\n",
            "n -1 d -1 cpt -1 dp24c -1\n",
            "key C mode major tempo 120.0\n",
            "n 4 d 4 cpt 24 dp24c 8\n",
            "key C mode major tempo 115.2\n",
            "n 3 d 4 cpt 24 dp24c 8\n",
            "key C mode major tempo 134.57952\n",
            "n -1 d -1 cpt -1 dp24c -1\n",
            "key C mode major tempo 159.99984\n",
            "n 4 d 4 cpt 24 dp24c 8\n",
            "key C mode minor tempo 73.84608\n",
            "n -1 d -1 cpt -1 dp24c -1\n",
            "key G mode major tempo 205.71432\n",
            "n 4 d 4 cpt 24 dp24c 8\n",
            "key C mode major tempo 156.52176\n",
            "n -1 d -1 cpt -1 dp24c -1\n",
            "key unknown mode unknown tempo -1\n"
          ],
          "name": "stdout"
        },
        {
          "output_type": "stream",
          "text": [
            "Traceback (most recent call last):\n",
            "  File \"/usr/local/lib/python3.7/dist-packages/MIDI/chunks/track.py\", line 33, in parse\n",
            "    event = MetaEvent(time,self.buffer)\n",
            "  File \"/usr/local/lib/python3.7/dist-packages/MIDI/Events/meta.py\", line 75, in __init__\n",
            "    self.attributes = self.message.attributes(self.data)\n",
            "  File \"/usr/local/lib/python3.7/dist-packages/MIDI/Events/meta.py\", line 55, in attributes\n",
            "    return OrderedDict(key=self.key(_bytes[0]),mode=mode)\n",
            "  File \"/usr/local/lib/python3.7/dist-packages/MIDI/Events/meta.py\", line 31, in key\n",
            "    return ['C','G','D','A','E','B','F#','C#'][n]\n",
            "IndexError: list index out of range\n"
          ],
          "name": "stderr"
        },
        {
          "output_type": "stream",
          "text": [
            "n -1 d -1 cpt -1 dp24c -1\n",
            "key C mode major tempo 261.81816\n",
            "n 4 d 4 cpt 24 dp24c 8\n",
            "key E mode major tempo 151.57872\n",
            "n -1 d -1 cpt -1 dp24c -1\n",
            "key C mode major tempo 130.9092\n",
            "n -1 d -1 cpt -1 dp24c -1\n",
            "key unknown mode unknown tempo 110.76912\n",
            "n 6 d 8 cpt 12 dp24c 8\n",
            "key C mode major tempo 192.0\n"
          ],
          "name": "stdout"
        },
        {
          "output_type": "stream",
          "text": [
            "Traceback (most recent call last):\n",
            "  File \"/usr/local/lib/python3.7/dist-packages/MIDI/chunks/track.py\", line 37, in parse\n",
            "    event = MIDIEvent(time,self.buffer)\n",
            "  File \"/usr/local/lib/python3.7/dist-packages/MIDI/Events/midi.py\", line 43, in __init__\n",
            "    length = len(self.message) if self.message else 0\n",
            "TypeError: 'method' object cannot be interpreted as an integer\n"
          ],
          "name": "stderr"
        },
        {
          "output_type": "stream",
          "text": [
            "n 4 d 4 cpt 24 dp24c 8\n",
            "key C mode major tempo 71.64168\n",
            "n 4 d 4 cpt 96 dp24c 8\n",
            "key unknown mode unknown tempo 180.0\n",
            "n 4 d 4 cpt 24 dp24c 8\n",
            "key D mode major tempo 180.0\n",
            "n -1 d -1 cpt -1 dp24c -1\n",
            "key unknown mode unknown tempo -1\n"
          ],
          "name": "stdout"
        },
        {
          "output_type": "stream",
          "text": [
            "Traceback (most recent call last):\n",
            "  File \"/usr/local/lib/python3.7/dist-packages/MIDI/chunks/track.py\", line 30, in parse\n",
            "    eventType=self.buffer[0]\n",
            "IndexError: index out of range\n"
          ],
          "name": "stderr"
        },
        {
          "output_type": "stream",
          "text": [
            "n -1 d -1 cpt -1 dp24c -1\n",
            "key unknown mode unknown tempo -1\n",
            "n 4 d 4 cpt 24 dp24c 8\n",
            "key unknown mode unknown tempo 197.26008\n",
            "n 3 d 4 cpt 24 dp24c 8\n",
            "key C mode major tempo 87.27264\n",
            "n -1 d -1 cpt -1 dp24c -1\n",
            "key C mode major tempo 110.76912\n",
            "n -1 d -1 cpt -1 dp24c -1\n",
            "key unknown mode unknown tempo -1\n",
            "n -1 d -1 cpt -1 dp24c -1\n",
            "key unknown mode unknown tempo 148.45368\n",
            "n 6 d 4 cpt 24 dp24c 8\n",
            "key C mode major tempo 144.0\n",
            "n -1 d -1 cpt -1 dp24c -1\n",
            "key C mode major tempo 97.95912\n",
            "n -1 d -1 cpt -1 dp24c -1\n",
            "key C mode major tempo -1\n",
            "n 4 d 4 cpt 24 dp24c 8\n",
            "key unknown mode unknown tempo 225.0\n",
            "n -1 d -1 cpt -1 dp24c -1\n",
            "key C mode major tempo 151.9788\n",
            "n 4 d 4 cpt 24 dp24c 8\n",
            "key C mode major tempo 142.57416\n",
            "n 4 d 4 cpt 24 dp24c 8\n",
            "key unknown mode unknown tempo 180.0\n",
            "n 4 d 4 cpt 24 dp24c 8\n",
            "key C mode major tempo 120.0\n",
            "n 4 d 4 cpt 24 dp24c 8\n",
            "key C mode major tempo 100.00008\n",
            "n 4 d 4 cpt 24 dp24c 8\n",
            "key G mode major tempo 144.0\n"
          ],
          "name": "stdout"
        },
        {
          "output_type": "stream",
          "text": [
            "Traceback (most recent call last):\n",
            "  File \"/usr/local/lib/python3.7/dist-packages/MIDI/chunks/track.py\", line 37, in parse\n",
            "    event = MIDIEvent(time,self.buffer)\n",
            "  File \"/usr/local/lib/python3.7/dist-packages/MIDI/Events/midi.py\", line 43, in __init__\n",
            "    length = len(self.message) if self.message else 0\n",
            "TypeError: 'method' object cannot be interpreted as an integer\n",
            "Traceback (most recent call last):\n",
            "  File \"/usr/local/lib/python3.7/dist-packages/MIDI/chunks/track.py\", line 30, in parse\n",
            "    eventType=self.buffer[0]\n",
            "IndexError: index out of range\n"
          ],
          "name": "stderr"
        },
        {
          "output_type": "stream",
          "text": [
            "n 6 d 8 cpt 12 dp24c 8\n",
            "key C mode major tempo 225.0\n",
            "n -1 d -1 cpt -1 dp24c -1\n",
            "key C mode major tempo -1\n",
            "n 4 d 4 cpt 24 dp24c 8\n",
            "key G mode major tempo 84.70584\n",
            "n -1 d -1 cpt -1 dp24c -1\n",
            "key C mode major tempo 163.63632\n",
            "n -1 d -1 cpt -1 dp24c -1\n",
            "key C mode major tempo 120.0\n",
            "n 4 d 4 cpt 24 dp24c 8\n",
            "key C mode major tempo 293.8776\n",
            "n 4 d 4 cpt 24 dp24c 8\n",
            "key C mode major tempo 125.21736\n"
          ],
          "name": "stdout"
        },
        {
          "output_type": "stream",
          "text": [
            "Traceback (most recent call last):\n",
            "  File \"/usr/local/lib/python3.7/dist-packages/MIDI/chunks/track.py\", line 37, in parse\n",
            "    event = MIDIEvent(time,self.buffer)\n",
            "  File \"/usr/local/lib/python3.7/dist-packages/MIDI/Events/midi.py\", line 43, in __init__\n",
            "    length = len(self.message) if self.message else 0\n",
            "TypeError: 'method' object cannot be interpreted as an integer\n",
            "Traceback (most recent call last):\n",
            "  File \"/usr/local/lib/python3.7/dist-packages/MIDI/chunks/track.py\", line 37, in parse\n",
            "    event = MIDIEvent(time,self.buffer)\n",
            "  File \"/usr/local/lib/python3.7/dist-packages/MIDI/Events/midi.py\", line 43, in __init__\n",
            "    length = len(self.message) if self.message else 0\n",
            "TypeError: 'method' object cannot be interpreted as an integer\n"
          ],
          "name": "stderr"
        },
        {
          "output_type": "stream",
          "text": [
            "n -1 d -1 cpt -1 dp24c -1\n",
            "key D mode major tempo 82.28568\n",
            "n -1 d -1 cpt -1 dp24c -1\n",
            "key C mode major tempo 154.83864\n",
            "Unknown chunk type <SCR - skipping\n",
            "n -1 d -1 cpt -1 dp24c -1\n",
            "key C mode major tempo -1\n"
          ],
          "name": "stdout"
        },
        {
          "output_type": "stream",
          "text": [
            "Traceback (most recent call last):\n",
            "  File \"/usr/local/lib/python3.7/dist-packages/MIDI/chunks/track.py\", line 30, in parse\n",
            "    eventType=self.buffer[0]\n",
            "IndexError: index out of range\n",
            "Traceback (most recent call last):\n",
            "  File \"/usr/local/lib/python3.7/dist-packages/MIDI/chunks/track.py\", line 30, in parse\n",
            "    eventType=self.buffer[0]\n",
            "IndexError: index out of range\n",
            "Traceback (most recent call last):\n",
            "  File \"/usr/local/lib/python3.7/dist-packages/MIDI/chunks/track.py\", line 37, in parse\n",
            "    event = MIDIEvent(time,self.buffer)\n",
            "  File \"/usr/local/lib/python3.7/dist-packages/MIDI/Events/midi.py\", line 43, in __init__\n",
            "    length = len(self.message) if self.message else 0\n",
            "TypeError: 'method' object cannot be interpreted as an integer\n"
          ],
          "name": "stderr"
        },
        {
          "output_type": "stream",
          "text": [
            "n -1 d -1 cpt -1 dp24c -1\n",
            "key G mode major tempo 90.0\n",
            "n 4 d 4 cpt 24 dp24c 8\n",
            "key C mode major tempo 120.0\n",
            "n 4 d 4 cpt 24 dp24c 8\n",
            "key C mode major tempo 205.71432\n",
            "n 4 d 4 cpt 24 dp24c 8\n",
            "key C mode major tempo 144.0\n",
            "Unknown chunk type \u001a\u001a\u001a\u001a - skipping\n",
            "n -1 d -1 cpt -1 dp24c -1\n",
            "key unknown mode unknown tempo 96.0\n",
            "n 4 d 4 cpt 24 dp24c 8\n",
            "key F# mode major tempo 156.52176\n"
          ],
          "name": "stdout"
        },
        {
          "output_type": "stream",
          "text": [
            "Traceback (most recent call last):\n",
            "  File \"/usr/local/lib/python3.7/dist-packages/MIDI/chunks/track.py\", line 33, in parse\n",
            "    event = MetaEvent(time,self.buffer)\n",
            "  File \"/usr/local/lib/python3.7/dist-packages/MIDI/Events/meta.py\", line 75, in __init__\n",
            "    self.attributes = self.message.attributes(self.data)\n",
            "  File \"/usr/local/lib/python3.7/dist-packages/MIDI/Events/meta.py\", line 55, in attributes\n",
            "    return OrderedDict(key=self.key(_bytes[0]),mode=mode)\n",
            "  File \"/usr/local/lib/python3.7/dist-packages/MIDI/Events/meta.py\", line 31, in key\n",
            "    return ['C','G','D','A','E','B','F#','C#'][n]\n",
            "IndexError: list index out of range\n"
          ],
          "name": "stderr"
        },
        {
          "output_type": "stream",
          "text": [
            "n 3 d 2 cpt 48 dp24c 8\n",
            "key unknown mode unknown tempo -1\n"
          ],
          "name": "stdout"
        },
        {
          "output_type": "stream",
          "text": [
            "Traceback (most recent call last):\n",
            "  File \"/usr/local/lib/python3.7/dist-packages/MIDI/chunks/track.py\", line 37, in parse\n",
            "    event = MIDIEvent(time,self.buffer)\n",
            "  File \"/usr/local/lib/python3.7/dist-packages/MIDI/Events/midi.py\", line 43, in __init__\n",
            "    length = len(self.message) if self.message else 0\n",
            "TypeError: 'method' object cannot be interpreted as an integer\n",
            "Traceback (most recent call last):\n",
            "  File \"/usr/local/lib/python3.7/dist-packages/MIDI/chunks/track.py\", line 37, in parse\n",
            "    event = MIDIEvent(time,self.buffer)\n",
            "  File \"/usr/local/lib/python3.7/dist-packages/MIDI/Events/midi.py\", line 43, in __init__\n",
            "    length = len(self.message) if self.message else 0\n",
            "TypeError: 'method' object cannot be interpreted as an integer\n"
          ],
          "name": "stderr"
        },
        {
          "output_type": "stream",
          "text": [
            "n 4 d 4 cpt 24 dp24c 8\n",
            "key C mode major tempo 127.43352\n"
          ],
          "name": "stdout"
        },
        {
          "output_type": "stream",
          "text": [
            "Traceback (most recent call last):\n",
            "  File \"/usr/local/lib/python3.7/dist-packages/MIDI/chunks/track.py\", line 33, in parse\n",
            "    event = MetaEvent(time,self.buffer)\n",
            "  File \"/usr/local/lib/python3.7/dist-packages/MIDI/Events/meta.py\", line 75, in __init__\n",
            "    self.attributes = self.message.attributes(self.data)\n",
            "  File \"/usr/local/lib/python3.7/dist-packages/MIDI/Events/meta.py\", line 55, in attributes\n",
            "    return OrderedDict(key=self.key(_bytes[0]),mode=mode)\n",
            "  File \"/usr/local/lib/python3.7/dist-packages/MIDI/Events/meta.py\", line 31, in key\n",
            "    return ['C','G','D','A','E','B','F#','C#'][n]\n",
            "IndexError: list index out of range\n"
          ],
          "name": "stderr"
        },
        {
          "output_type": "stream",
          "text": [
            "n 6 d 8 cpt 12 dp24c 8\n",
            "key unknown mode unknown tempo -1\n",
            "n -1 d -1 cpt -1 dp24c -1\n",
            "key D mode major tempo 205.71432\n",
            "n 4 d 4 cpt 24 dp24c 8\n",
            "key unknown mode unknown tempo -1\n"
          ],
          "name": "stdout"
        },
        {
          "output_type": "stream",
          "text": [
            "Traceback (most recent call last):\n",
            "  File \"/usr/local/lib/python3.7/dist-packages/MIDI/chunks/track.py\", line 30, in parse\n",
            "    eventType=self.buffer[0]\n",
            "IndexError: index out of range\n",
            "Traceback (most recent call last):\n",
            "  File \"/usr/local/lib/python3.7/dist-packages/MIDI/chunks/track.py\", line 33, in parse\n",
            "    event = MetaEvent(time,self.buffer)\n",
            "  File \"/usr/local/lib/python3.7/dist-packages/MIDI/Events/meta.py\", line 75, in __init__\n",
            "    self.attributes = self.message.attributes(self.data)\n",
            "  File \"/usr/local/lib/python3.7/dist-packages/MIDI/Events/meta.py\", line 55, in attributes\n",
            "    return OrderedDict(key=self.key(_bytes[0]),mode=mode)\n",
            "  File \"/usr/local/lib/python3.7/dist-packages/MIDI/Events/meta.py\", line 31, in key\n",
            "    return ['C','G','D','A','E','B','F#','C#'][n]\n",
            "IndexError: list index out of range\n"
          ],
          "name": "stderr"
        },
        {
          "output_type": "stream",
          "text": [
            "n 4 d 4 cpt 24 dp24c 8\n",
            "key E mode major tempo 115.2\n",
            "n 4 d 4 cpt 24 dp24c 8\n",
            "key C mode major tempo 120.0\n",
            "n 4 d 4 cpt 24 dp24c 8\n",
            "key unknown mode unknown tempo -1\n"
          ],
          "name": "stdout"
        },
        {
          "output_type": "stream",
          "text": [
            "Traceback (most recent call last):\n",
            "  File \"/usr/local/lib/python3.7/dist-packages/MIDI/chunks/track.py\", line 33, in parse\n",
            "    event = MetaEvent(time,self.buffer)\n",
            "  File \"/usr/local/lib/python3.7/dist-packages/MIDI/Events/meta.py\", line 75, in __init__\n",
            "    self.attributes = self.message.attributes(self.data)\n",
            "  File \"/usr/local/lib/python3.7/dist-packages/MIDI/Events/meta.py\", line 55, in attributes\n",
            "    return OrderedDict(key=self.key(_bytes[0]),mode=mode)\n",
            "  File \"/usr/local/lib/python3.7/dist-packages/MIDI/Events/meta.py\", line 31, in key\n",
            "    return ['C','G','D','A','E','B','F#','C#'][n]\n",
            "IndexError: list index out of range\n",
            "Traceback (most recent call last):\n",
            "  File \"/usr/local/lib/python3.7/dist-packages/MIDI/chunks/track.py\", line 37, in parse\n",
            "    event = MIDIEvent(time,self.buffer)\n",
            "  File \"/usr/local/lib/python3.7/dist-packages/MIDI/Events/midi.py\", line 43, in __init__\n",
            "    length = len(self.message) if self.message else 0\n",
            "TypeError: 'method' object cannot be interpreted as an integer\n",
            "Traceback (most recent call last):\n",
            "  File \"/usr/local/lib/python3.7/dist-packages/MIDI/chunks/track.py\", line 37, in parse\n",
            "    event = MIDIEvent(time,self.buffer)\n",
            "  File \"/usr/local/lib/python3.7/dist-packages/MIDI/Events/midi.py\", line 43, in __init__\n",
            "    length = len(self.message) if self.message else 0\n",
            "TypeError: 'method' object cannot be interpreted as an integer\n",
            "Traceback (most recent call last):\n",
            "  File \"/usr/local/lib/python3.7/dist-packages/MIDI/chunks/track.py\", line 33, in parse\n",
            "    event = MetaEvent(time,self.buffer)\n",
            "  File \"/usr/local/lib/python3.7/dist-packages/MIDI/Events/meta.py\", line 75, in __init__\n",
            "    self.attributes = self.message.attributes(self.data)\n",
            "  File \"/usr/local/lib/python3.7/dist-packages/MIDI/Events/meta.py\", line 55, in attributes\n",
            "    return OrderedDict(key=self.key(_bytes[0]),mode=mode)\n",
            "  File \"/usr/local/lib/python3.7/dist-packages/MIDI/Events/meta.py\", line 31, in key\n",
            "    return ['C','G','D','A','E','B','F#','C#'][n]\n",
            "IndexError: list index out of range\n"
          ],
          "name": "stderr"
        },
        {
          "output_type": "stream",
          "text": [
            "n -1 d -1 cpt -1 dp24c -1\n",
            "key unknown mode unknown tempo -1\n",
            "n 4 d 4 cpt 24 dp24c 8\n",
            "key C mode major tempo 72.0\n",
            "n -1 d -1 cpt -1 dp24c -1\n",
            "key C mode major tempo -1\n",
            "n 4 d 4 cpt 24 dp24c 8\n",
            "key unknown mode unknown tempo 120.0\n",
            "n -1 d -1 cpt -1 dp24c -1\n",
            "key C mode major tempo 130.9092\n",
            "n 4 d 4 cpt 24 dp24c 8\n",
            "key A mode major tempo 130.9092\n"
          ],
          "name": "stdout"
        },
        {
          "output_type": "stream",
          "text": [
            "Traceback (most recent call last):\n",
            "  File \"/usr/local/lib/python3.7/dist-packages/MIDI/chunks/track.py\", line 37, in parse\n",
            "    event = MIDIEvent(time,self.buffer)\n",
            "  File \"/usr/local/lib/python3.7/dist-packages/MIDI/Events/midi.py\", line 43, in __init__\n",
            "    length = len(self.message) if self.message else 0\n",
            "TypeError: 'method' object cannot be interpreted as an integer\n",
            "Traceback (most recent call last):\n",
            "  File \"/usr/local/lib/python3.7/dist-packages/MIDI/chunks/track.py\", line 37, in parse\n",
            "    event = MIDIEvent(time,self.buffer)\n",
            "  File \"/usr/local/lib/python3.7/dist-packages/MIDI/Events/midi.py\", line 43, in __init__\n",
            "    length = len(self.message) if self.message else 0\n",
            "TypeError: 'method' object cannot be interpreted as an integer\n",
            "Traceback (most recent call last):\n",
            "  File \"/usr/local/lib/python3.7/dist-packages/MIDI/chunks/track.py\", line 37, in parse\n",
            "    event = MIDIEvent(time,self.buffer)\n",
            "  File \"/usr/local/lib/python3.7/dist-packages/MIDI/Events/midi.py\", line 43, in __init__\n",
            "    length = len(self.message) if self.message else 0\n",
            "TypeError: 'method' object cannot be interpreted as an integer\n"
          ],
          "name": "stderr"
        },
        {
          "output_type": "stream",
          "text": [
            "n 6 d 4 cpt 24 dp24c 8\n",
            "key C mode major tempo 78.26088\n",
            "n 3 d 4 cpt 24 dp24c 8\n",
            "key unknown mode unknown tempo 120.0\n",
            "n -1 d -1 cpt -1 dp24c -1\n",
            "key C mode major tempo 142.57416\n",
            "n 4 d 4 cpt 24 dp24c 8\n",
            "key unknown mode unknown tempo 146.93856\n",
            "n -1 d -1 cpt -1 dp24c -1\n",
            "key unknown mode unknown tempo 146.9388\n",
            "n 4 d 4 cpt 24 dp24c 8\n",
            "key C mode major tempo 101.4084\n",
            "n 4 d 4 cpt 24 dp24c 8\n",
            "key unknown mode unknown tempo -1\n"
          ],
          "name": "stdout"
        },
        {
          "output_type": "stream",
          "text": [
            "Traceback (most recent call last):\n",
            "  File \"/usr/local/lib/python3.7/dist-packages/MIDI/chunks/track.py\", line 33, in parse\n",
            "    event = MetaEvent(time,self.buffer)\n",
            "  File \"/usr/local/lib/python3.7/dist-packages/MIDI/Events/meta.py\", line 75, in __init__\n",
            "    self.attributes = self.message.attributes(self.data)\n",
            "  File \"/usr/local/lib/python3.7/dist-packages/MIDI/Events/meta.py\", line 55, in attributes\n",
            "    return OrderedDict(key=self.key(_bytes[0]),mode=mode)\n",
            "  File \"/usr/local/lib/python3.7/dist-packages/MIDI/Events/meta.py\", line 31, in key\n",
            "    return ['C','G','D','A','E','B','F#','C#'][n]\n",
            "IndexError: list index out of range\n",
            "Traceback (most recent call last):\n",
            "  File \"/usr/local/lib/python3.7/dist-packages/MIDI/chunks/track.py\", line 30, in parse\n",
            "    eventType=self.buffer[0]\n",
            "IndexError: index out of range\n"
          ],
          "name": "stderr"
        },
        {
          "output_type": "stream",
          "text": [
            "n 4 d 4 cpt 24 dp24c 8\n",
            "key unknown mode unknown tempo 148.45344\n",
            "n -1 d -1 cpt -1 dp24c -1\n",
            "key unknown mode unknown tempo 194.5944\n",
            "n -1 d -1 cpt -1 dp24c -1\n",
            "key G mode major tempo 199.99992\n"
          ],
          "name": "stdout"
        },
        {
          "output_type": "stream",
          "text": [
            "Traceback (most recent call last):\n",
            "  File \"/usr/local/lib/python3.7/dist-packages/MIDI/chunks/track.py\", line 37, in parse\n",
            "    event = MIDIEvent(time,self.buffer)\n",
            "  File \"/usr/local/lib/python3.7/dist-packages/MIDI/Events/midi.py\", line 43, in __init__\n",
            "    length = len(self.message) if self.message else 0\n",
            "TypeError: 'method' object cannot be interpreted as an integer\n"
          ],
          "name": "stderr"
        },
        {
          "output_type": "stream",
          "text": [
            "n 4 d 4 cpt 24 dp24c 8\n",
            "key C mode major tempo 211.76472\n",
            "n -1 d -1 cpt -1 dp24c -1\n",
            "key unknown mode unknown tempo -1\n",
            "n 4 d 4 cpt 24 dp24c 8\n",
            "key C mode major tempo 74.22672\n",
            "n 4 d 4 cpt 24 dp24c 8\n",
            "key C mode major tempo 144.0\n",
            "n 4 d 4 cpt 24 dp24c 8\n",
            "key A mode major tempo 102.85704\n",
            "n 4 d 4 cpt 24 dp24c 8\n",
            "key C mode major tempo 192.0\n",
            "n -1 d -1 cpt -1 dp24c -1\n",
            "key unknown mode unknown tempo 120.0\n",
            "n -1 d -1 cpt -1 dp24c -1\n",
            "key C mode major tempo 120.0\n",
            "n 4 d 4 cpt 24 dp24c 8\n",
            "key C mode major tempo 124.13784\n",
            "n -1 d -1 cpt -1 dp24c -1\n",
            "key C mode major tempo 75.39264\n",
            "n -1 d -1 cpt -1 dp24c -1\n",
            "key C mode major tempo 108.27072\n"
          ],
          "name": "stdout"
        },
        {
          "output_type": "stream",
          "text": [
            "Traceback (most recent call last):\n",
            "  File \"/usr/local/lib/python3.7/dist-packages/MIDI/chunks/track.py\", line 30, in parse\n",
            "    eventType=self.buffer[0]\n",
            "IndexError: index out of range\n"
          ],
          "name": "stderr"
        },
        {
          "output_type": "stream",
          "text": [
            "n 4 d 4 cpt 24 dp24c 8\n",
            "key E mode major tempo 139.80576\n",
            "n 4 d 4 cpt 24 dp24c 8\n",
            "key G mode major tempo 189.47352\n"
          ],
          "name": "stdout"
        },
        {
          "output_type": "stream",
          "text": [
            "Traceback (most recent call last):\n",
            "  File \"/usr/local/lib/python3.7/dist-packages/MIDI/chunks/track.py\", line 33, in parse\n",
            "    event = MetaEvent(time,self.buffer)\n",
            "  File \"/usr/local/lib/python3.7/dist-packages/MIDI/Events/meta.py\", line 75, in __init__\n",
            "    self.attributes = self.message.attributes(self.data)\n",
            "  File \"/usr/local/lib/python3.7/dist-packages/MIDI/Events/meta.py\", line 55, in attributes\n",
            "    return OrderedDict(key=self.key(_bytes[0]),mode=mode)\n",
            "  File \"/usr/local/lib/python3.7/dist-packages/MIDI/Events/meta.py\", line 31, in key\n",
            "    return ['C','G','D','A','E','B','F#','C#'][n]\n",
            "IndexError: list index out of range\n",
            "Traceback (most recent call last):\n",
            "  File \"/usr/local/lib/python3.7/dist-packages/MIDI/chunks/track.py\", line 33, in parse\n",
            "    event = MetaEvent(time,self.buffer)\n",
            "  File \"/usr/local/lib/python3.7/dist-packages/MIDI/Events/meta.py\", line 75, in __init__\n",
            "    self.attributes = self.message.attributes(self.data)\n",
            "  File \"/usr/local/lib/python3.7/dist-packages/MIDI/Events/meta.py\", line 55, in attributes\n",
            "    return OrderedDict(key=self.key(_bytes[0]),mode=mode)\n",
            "  File \"/usr/local/lib/python3.7/dist-packages/MIDI/Events/meta.py\", line 31, in key\n",
            "    return ['C','G','D','A','E','B','F#','C#'][n]\n",
            "IndexError: list index out of range\n",
            "Traceback (most recent call last):\n",
            "  File \"/usr/local/lib/python3.7/dist-packages/MIDI/chunks/track.py\", line 33, in parse\n",
            "    event = MetaEvent(time,self.buffer)\n",
            "  File \"/usr/local/lib/python3.7/dist-packages/MIDI/Events/meta.py\", line 75, in __init__\n",
            "    self.attributes = self.message.attributes(self.data)\n",
            "  File \"/usr/local/lib/python3.7/dist-packages/MIDI/Events/meta.py\", line 55, in attributes\n",
            "    return OrderedDict(key=self.key(_bytes[0]),mode=mode)\n",
            "  File \"/usr/local/lib/python3.7/dist-packages/MIDI/Events/meta.py\", line 31, in key\n",
            "    return ['C','G','D','A','E','B','F#','C#'][n]\n",
            "IndexError: list index out of range\n",
            "Traceback (most recent call last):\n",
            "  File \"/usr/local/lib/python3.7/dist-packages/MIDI/chunks/track.py\", line 33, in parse\n",
            "    event = MetaEvent(time,self.buffer)\n",
            "  File \"/usr/local/lib/python3.7/dist-packages/MIDI/Events/meta.py\", line 75, in __init__\n",
            "    self.attributes = self.message.attributes(self.data)\n",
            "  File \"/usr/local/lib/python3.7/dist-packages/MIDI/Events/meta.py\", line 55, in attributes\n",
            "    return OrderedDict(key=self.key(_bytes[0]),mode=mode)\n",
            "  File \"/usr/local/lib/python3.7/dist-packages/MIDI/Events/meta.py\", line 31, in key\n",
            "    return ['C','G','D','A','E','B','F#','C#'][n]\n",
            "IndexError: list index out of range\n",
            "Traceback (most recent call last):\n",
            "  File \"/usr/local/lib/python3.7/dist-packages/MIDI/chunks/track.py\", line 33, in parse\n",
            "    event = MetaEvent(time,self.buffer)\n",
            "  File \"/usr/local/lib/python3.7/dist-packages/MIDI/Events/meta.py\", line 75, in __init__\n",
            "    self.attributes = self.message.attributes(self.data)\n",
            "  File \"/usr/local/lib/python3.7/dist-packages/MIDI/Events/meta.py\", line 55, in attributes\n",
            "    return OrderedDict(key=self.key(_bytes[0]),mode=mode)\n",
            "  File \"/usr/local/lib/python3.7/dist-packages/MIDI/Events/meta.py\", line 31, in key\n",
            "    return ['C','G','D','A','E','B','F#','C#'][n]\n",
            "IndexError: list index out of range\n",
            "Traceback (most recent call last):\n",
            "  File \"/usr/local/lib/python3.7/dist-packages/MIDI/chunks/track.py\", line 33, in parse\n",
            "    event = MetaEvent(time,self.buffer)\n",
            "  File \"/usr/local/lib/python3.7/dist-packages/MIDI/Events/meta.py\", line 75, in __init__\n",
            "    self.attributes = self.message.attributes(self.data)\n",
            "  File \"/usr/local/lib/python3.7/dist-packages/MIDI/Events/meta.py\", line 55, in attributes\n",
            "    return OrderedDict(key=self.key(_bytes[0]),mode=mode)\n",
            "  File \"/usr/local/lib/python3.7/dist-packages/MIDI/Events/meta.py\", line 31, in key\n",
            "    return ['C','G','D','A','E','B','F#','C#'][n]\n",
            "IndexError: list index out of range\n",
            "Traceback (most recent call last):\n",
            "  File \"/usr/local/lib/python3.7/dist-packages/MIDI/chunks/track.py\", line 33, in parse\n",
            "    event = MetaEvent(time,self.buffer)\n",
            "  File \"/usr/local/lib/python3.7/dist-packages/MIDI/Events/meta.py\", line 75, in __init__\n",
            "    self.attributes = self.message.attributes(self.data)\n",
            "  File \"/usr/local/lib/python3.7/dist-packages/MIDI/Events/meta.py\", line 55, in attributes\n",
            "    return OrderedDict(key=self.key(_bytes[0]),mode=mode)\n",
            "  File \"/usr/local/lib/python3.7/dist-packages/MIDI/Events/meta.py\", line 31, in key\n",
            "    return ['C','G','D','A','E','B','F#','C#'][n]\n",
            "IndexError: list index out of range\n",
            "Traceback (most recent call last):\n",
            "  File \"/usr/local/lib/python3.7/dist-packages/MIDI/chunks/track.py\", line 33, in parse\n",
            "    event = MetaEvent(time,self.buffer)\n",
            "  File \"/usr/local/lib/python3.7/dist-packages/MIDI/Events/meta.py\", line 75, in __init__\n",
            "    self.attributes = self.message.attributes(self.data)\n",
            "  File \"/usr/local/lib/python3.7/dist-packages/MIDI/Events/meta.py\", line 55, in attributes\n",
            "    return OrderedDict(key=self.key(_bytes[0]),mode=mode)\n",
            "  File \"/usr/local/lib/python3.7/dist-packages/MIDI/Events/meta.py\", line 31, in key\n",
            "    return ['C','G','D','A','E','B','F#','C#'][n]\n",
            "IndexError: list index out of range\n",
            "Traceback (most recent call last):\n",
            "  File \"/usr/local/lib/python3.7/dist-packages/MIDI/chunks/track.py\", line 33, in parse\n",
            "    event = MetaEvent(time,self.buffer)\n",
            "  File \"/usr/local/lib/python3.7/dist-packages/MIDI/Events/meta.py\", line 75, in __init__\n",
            "    self.attributes = self.message.attributes(self.data)\n",
            "  File \"/usr/local/lib/python3.7/dist-packages/MIDI/Events/meta.py\", line 55, in attributes\n",
            "    return OrderedDict(key=self.key(_bytes[0]),mode=mode)\n",
            "  File \"/usr/local/lib/python3.7/dist-packages/MIDI/Events/meta.py\", line 31, in key\n",
            "    return ['C','G','D','A','E','B','F#','C#'][n]\n",
            "IndexError: list index out of range\n"
          ],
          "name": "stderr"
        },
        {
          "output_type": "stream",
          "text": [
            "n -1 d -1 cpt -1 dp24c -1\n",
            "key D mode major tempo 105.88224\n",
            "n 4 d 4 cpt 24 dp24c 8\n",
            "key D mode major tempo 160.00008\n",
            "n -1 d -1 cpt -1 dp24c -1\n",
            "key G mode major tempo 240.0\n",
            "n -1 d -1 cpt -1 dp24c -1\n",
            "key C mode major tempo 110.76912\n",
            "n 4 d 4 cpt 24 dp24c 8\n",
            "key unknown mode unknown tempo 156.52152\n",
            "n 4 d 4 cpt 24 dp24c 8\n",
            "key C mode major tempo 144.0\n",
            "n 4 d 4 cpt 24 dp24c 8\n",
            "key unknown mode unknown tempo 163.63632\n",
            "n -1 d -1 cpt -1 dp24c -1\n",
            "key C mode major tempo -1\n",
            "n -1 d -1 cpt -1 dp24c -1\n",
            "key G mode major tempo 197.26008\n",
            "n -1 d -1 cpt -1 dp24c -1\n",
            "key unknown mode unknown tempo 125.21736\n",
            "n 4 d 4 cpt 24 dp24c 8\n",
            "key C mode major tempo 138.46152\n",
            "n -1 d -1 cpt -1 dp24c -1\n",
            "key unknown mode unknown tempo -1\n"
          ],
          "name": "stdout"
        },
        {
          "output_type": "stream",
          "text": [
            "Traceback (most recent call last):\n",
            "  File \"/usr/local/lib/python3.7/dist-packages/MIDI/chunks/track.py\", line 33, in parse\n",
            "    event = MetaEvent(time,self.buffer)\n",
            "  File \"/usr/local/lib/python3.7/dist-packages/MIDI/Events/meta.py\", line 75, in __init__\n",
            "    self.attributes = self.message.attributes(self.data)\n",
            "  File \"/usr/local/lib/python3.7/dist-packages/MIDI/Events/meta.py\", line 55, in attributes\n",
            "    return OrderedDict(key=self.key(_bytes[0]),mode=mode)\n",
            "  File \"/usr/local/lib/python3.7/dist-packages/MIDI/Events/meta.py\", line 31, in key\n",
            "    return ['C','G','D','A','E','B','F#','C#'][n]\n",
            "IndexError: list index out of range\n"
          ],
          "name": "stderr"
        },
        {
          "output_type": "stream",
          "text": [
            "n -1 d -1 cpt -1 dp24c -1\n",
            "key C mode major tempo 99.31032\n"
          ],
          "name": "stdout"
        },
        {
          "output_type": "stream",
          "text": [
            "Traceback (most recent call last):\n",
            "  File \"/usr/local/lib/python3.7/dist-packages/MIDI/chunks/track.py\", line 33, in parse\n",
            "    event = MetaEvent(time,self.buffer)\n",
            "  File \"/usr/local/lib/python3.7/dist-packages/MIDI/Events/meta.py\", line 75, in __init__\n",
            "    self.attributes = self.message.attributes(self.data)\n",
            "  File \"/usr/local/lib/python3.7/dist-packages/MIDI/Events/meta.py\", line 55, in attributes\n",
            "    return OrderedDict(key=self.key(_bytes[0]),mode=mode)\n",
            "  File \"/usr/local/lib/python3.7/dist-packages/MIDI/Events/meta.py\", line 31, in key\n",
            "    return ['C','G','D','A','E','B','F#','C#'][n]\n",
            "IndexError: list index out of range\n"
          ],
          "name": "stderr"
        },
        {
          "output_type": "stream",
          "text": [
            "n 4 d 4 cpt 24 dp24c 8\n",
            "key unknown mode unknown tempo -1\n",
            "n -1 d -1 cpt -1 dp24c -1\n",
            "key C mode major tempo 144.0\n",
            "n 7 d 4 cpt 24 dp24c 8\n",
            "key C mode major tempo 159.99984\n",
            "n 4 d 4 cpt 24 dp24c 8\n",
            "key unknown mode unknown tempo -1\n",
            "n 4 d 4 cpt 24 dp24c 8\n",
            "key G mode major tempo 205.71432\n"
          ],
          "name": "stdout"
        },
        {
          "output_type": "stream",
          "text": [
            "Traceback (most recent call last):\n",
            "  File \"/usr/local/lib/python3.7/dist-packages/MIDI/chunks/track.py\", line 33, in parse\n",
            "    event = MetaEvent(time,self.buffer)\n",
            "  File \"/usr/local/lib/python3.7/dist-packages/MIDI/Events/meta.py\", line 75, in __init__\n",
            "    self.attributes = self.message.attributes(self.data)\n",
            "  File \"/usr/local/lib/python3.7/dist-packages/MIDI/Events/meta.py\", line 55, in attributes\n",
            "    return OrderedDict(key=self.key(_bytes[0]),mode=mode)\n",
            "  File \"/usr/local/lib/python3.7/dist-packages/MIDI/Events/meta.py\", line 31, in key\n",
            "    return ['C','G','D','A','E','B','F#','C#'][n]\n",
            "IndexError: list index out of range\n",
            "Traceback (most recent call last):\n",
            "  File \"/usr/local/lib/python3.7/dist-packages/MIDI/chunks/track.py\", line 37, in parse\n",
            "    event = MIDIEvent(time,self.buffer)\n",
            "  File \"/usr/local/lib/python3.7/dist-packages/MIDI/Events/midi.py\", line 43, in __init__\n",
            "    length = len(self.message) if self.message else 0\n",
            "TypeError: 'method' object cannot be interpreted as an integer\n",
            "Traceback (most recent call last):\n",
            "  File \"/usr/local/lib/python3.7/dist-packages/MIDI/chunks/track.py\", line 37, in parse\n",
            "    event = MIDIEvent(time,self.buffer)\n",
            "  File \"/usr/local/lib/python3.7/dist-packages/MIDI/Events/midi.py\", line 43, in __init__\n",
            "    length = len(self.message) if self.message else 0\n",
            "TypeError: 'method' object cannot be interpreted as an integer\n",
            "Traceback (most recent call last):\n",
            "  File \"/usr/local/lib/python3.7/dist-packages/MIDI/chunks/track.py\", line 37, in parse\n",
            "    event = MIDIEvent(time,self.buffer)\n",
            "  File \"/usr/local/lib/python3.7/dist-packages/MIDI/Events/midi.py\", line 43, in __init__\n",
            "    length = len(self.message) if self.message else 0\n",
            "TypeError: 'method' object cannot be interpreted as an integer\n"
          ],
          "name": "stderr"
        },
        {
          "output_type": "stream",
          "text": [
            "n 4 d 4 cpt 24 dp24c 8\n",
            "key A mode major tempo 64.00008\n",
            "n 4 d 4 cpt 24 dp24c 8\n",
            "key unknown mode unknown tempo -1\n"
          ],
          "name": "stdout"
        },
        {
          "output_type": "stream",
          "text": [
            "Traceback (most recent call last):\n",
            "  File \"/usr/local/lib/python3.7/dist-packages/MIDI/chunks/track.py\", line 33, in parse\n",
            "    event = MetaEvent(time,self.buffer)\n",
            "  File \"/usr/local/lib/python3.7/dist-packages/MIDI/Events/meta.py\", line 75, in __init__\n",
            "    self.attributes = self.message.attributes(self.data)\n",
            "  File \"/usr/local/lib/python3.7/dist-packages/MIDI/Events/meta.py\", line 55, in attributes\n",
            "    return OrderedDict(key=self.key(_bytes[0]),mode=mode)\n",
            "  File \"/usr/local/lib/python3.7/dist-packages/MIDI/Events/meta.py\", line 31, in key\n",
            "    return ['C','G','D','A','E','B','F#','C#'][n]\n",
            "IndexError: list index out of range\n"
          ],
          "name": "stderr"
        },
        {
          "output_type": "stream",
          "text": [
            "n -1 d -1 cpt -1 dp24c -1\n",
            "key unknown mode unknown tempo -1\n",
            "n -1 d -1 cpt -1 dp24c -1\n",
            "key C mode major tempo 130.90896\n",
            "n 4 d 4 cpt 96 dp24c 8\n",
            "key unknown mode unknown tempo 161.79768\n",
            "n 4 d 4 cpt 24 dp24c 8\n",
            "key unknown mode unknown tempo -1\n"
          ],
          "name": "stdout"
        },
        {
          "output_type": "stream",
          "text": [
            "Traceback (most recent call last):\n",
            "  File \"/usr/local/lib/python3.7/dist-packages/MIDI/chunks/track.py\", line 33, in parse\n",
            "    event = MetaEvent(time,self.buffer)\n",
            "  File \"/usr/local/lib/python3.7/dist-packages/MIDI/Events/meta.py\", line 75, in __init__\n",
            "    self.attributes = self.message.attributes(self.data)\n",
            "  File \"/usr/local/lib/python3.7/dist-packages/MIDI/Events/meta.py\", line 55, in attributes\n",
            "    return OrderedDict(key=self.key(_bytes[0]),mode=mode)\n",
            "  File \"/usr/local/lib/python3.7/dist-packages/MIDI/Events/meta.py\", line 31, in key\n",
            "    return ['C','G','D','A','E','B','F#','C#'][n]\n",
            "IndexError: list index out of range\n"
          ],
          "name": "stderr"
        },
        {
          "output_type": "stream",
          "text": [
            "n 4 d 4 cpt 24 dp24c 8\n",
            "key C mode major tempo 106.66656\n",
            "n -1 d -1 cpt -1 dp24c -1\n",
            "key A mode major tempo 144.0\n",
            "n 2 d 4 cpt 24 dp24c 8\n",
            "key C mode major tempo 163.63632\n",
            "n -1 d -1 cpt -1 dp24c -1\n",
            "key C mode major tempo 126.31584\n",
            "n -1 d -1 cpt -1 dp24c -1\n",
            "key unknown mode unknown tempo -1\n",
            "n -1 d -1 cpt -1 dp24c -1\n",
            "key G mode major tempo 109.9236\n",
            "n -1 d -1 cpt -1 dp24c -1\n",
            "key C mode major tempo 221.5128\n",
            "n 2 d 4 cpt 24 dp24c 8\n",
            "key D mode major tempo 108.27072\n",
            "n 4 d 4 cpt 24 dp24c 8\n",
            "key G mode major tempo -1\n",
            "n 4 d 4 cpt 24 dp24c 8\n",
            "key C mode major tempo 153.19152\n",
            "n 12 d 8 cpt 36 dp24c 8\n",
            "key unknown mode unknown tempo 90.56592\n",
            "n -1 d -1 cpt -1 dp24c -1\n",
            "key unknown mode unknown tempo -1\n",
            "n -1 d -1 cpt -1 dp24c -1\n",
            "key unknown mode unknown tempo 156.52152\n"
          ],
          "name": "stdout"
        },
        {
          "output_type": "stream",
          "text": [
            "Traceback (most recent call last):\n",
            "  File \"/usr/local/lib/python3.7/dist-packages/MIDI/chunks/track.py\", line 33, in parse\n",
            "    event = MetaEvent(time,self.buffer)\n",
            "  File \"/usr/local/lib/python3.7/dist-packages/MIDI/Events/meta.py\", line 75, in __init__\n",
            "    self.attributes = self.message.attributes(self.data)\n",
            "  File \"/usr/local/lib/python3.7/dist-packages/MIDI/Events/meta.py\", line 55, in attributes\n",
            "    return OrderedDict(key=self.key(_bytes[0]),mode=mode)\n",
            "  File \"/usr/local/lib/python3.7/dist-packages/MIDI/Events/meta.py\", line 31, in key\n",
            "    return ['C','G','D','A','E','B','F#','C#'][n]\n",
            "IndexError: list index out of range\n"
          ],
          "name": "stderr"
        },
        {
          "output_type": "stream",
          "text": [
            "n -1 d -1 cpt -1 dp24c -1\n",
            "key C mode major tempo 120.0\n",
            "n 4 d 4 cpt 24 dp24c 8\n",
            "key C mode major tempo 130.9092\n",
            "n 3 d 4 cpt 24 dp24c 8\n",
            "key C mode major tempo 87.27264\n"
          ],
          "name": "stdout"
        },
        {
          "output_type": "stream",
          "text": [
            "Traceback (most recent call last):\n",
            "  File \"/usr/local/lib/python3.7/dist-packages/MIDI/chunks/track.py\", line 37, in parse\n",
            "    event = MIDIEvent(time,self.buffer)\n",
            "  File \"/usr/local/lib/python3.7/dist-packages/MIDI/Events/midi.py\", line 43, in __init__\n",
            "    length = len(self.message) if self.message else 0\n",
            "TypeError: 'method' object cannot be interpreted as an integer\n",
            "Traceback (most recent call last):\n",
            "  File \"/usr/local/lib/python3.7/dist-packages/MIDI/chunks/track.py\", line 37, in parse\n",
            "    event = MIDIEvent(time,self.buffer)\n",
            "  File \"/usr/local/lib/python3.7/dist-packages/MIDI/Events/midi.py\", line 43, in __init__\n",
            "    length = len(self.message) if self.message else 0\n",
            "TypeError: 'method' object cannot be interpreted as an integer\n",
            "Traceback (most recent call last):\n",
            "  File \"/usr/local/lib/python3.7/dist-packages/MIDI/chunks/track.py\", line 33, in parse\n",
            "    event = MetaEvent(time,self.buffer)\n",
            "  File \"/usr/local/lib/python3.7/dist-packages/MIDI/Events/meta.py\", line 75, in __init__\n",
            "    self.attributes = self.message.attributes(self.data)\n",
            "  File \"/usr/local/lib/python3.7/dist-packages/MIDI/Events/meta.py\", line 55, in attributes\n",
            "    return OrderedDict(key=self.key(_bytes[0]),mode=mode)\n",
            "  File \"/usr/local/lib/python3.7/dist-packages/MIDI/Events/meta.py\", line 31, in key\n",
            "    return ['C','G','D','A','E','B','F#','C#'][n]\n",
            "IndexError: list index out of range\n"
          ],
          "name": "stderr"
        },
        {
          "output_type": "stream",
          "text": [
            "n -1 d -1 cpt -1 dp24c -1\n",
            "key unknown mode unknown tempo -1\n",
            "n -1 d -1 cpt -1 dp24c -1\n",
            "key unknown mode unknown tempo 120.0\n",
            "n 4 d 4 cpt 24 dp24c 8\n",
            "key C mode major tempo 93.5064\n",
            "n 4 d 4 cpt 24 dp24c 8\n",
            "key C mode major tempo 173.49408\n"
          ],
          "name": "stdout"
        },
        {
          "output_type": "stream",
          "text": [
            "Traceback (most recent call last):\n",
            "  File \"/usr/local/lib/python3.7/dist-packages/MIDI/chunks/track.py\", line 37, in parse\n",
            "    event = MIDIEvent(time,self.buffer)\n",
            "  File \"/usr/local/lib/python3.7/dist-packages/MIDI/Events/midi.py\", line 43, in __init__\n",
            "    length = len(self.message) if self.message else 0\n",
            "TypeError: 'method' object cannot be interpreted as an integer\n",
            "Traceback (most recent call last):\n",
            "  File \"/usr/local/lib/python3.7/dist-packages/MIDI/chunks/track.py\", line 30, in parse\n",
            "    eventType=self.buffer[0]\n",
            "IndexError: index out of range\n"
          ],
          "name": "stderr"
        },
        {
          "output_type": "stream",
          "text": [
            "n 4 d 4 cpt 24 dp24c 8\n",
            "key C mode major tempo 179.91\n",
            "n 4 d 4 cpt 24 dp24c 8\n",
            "key unknown mode unknown tempo 104.34768\n"
          ],
          "name": "stdout"
        },
        {
          "output_type": "stream",
          "text": [
            "Traceback (most recent call last):\n",
            "  File \"/usr/local/lib/python3.7/dist-packages/MIDI/chunks/track.py\", line 37, in parse\n",
            "    event = MIDIEvent(time,self.buffer)\n",
            "  File \"/usr/local/lib/python3.7/dist-packages/MIDI/Events/midi.py\", line 43, in __init__\n",
            "    length = len(self.message) if self.message else 0\n",
            "TypeError: 'method' object cannot be interpreted as an integer\n",
            "Traceback (most recent call last):\n",
            "  File \"/usr/local/lib/python3.7/dist-packages/MIDI/chunks/track.py\", line 37, in parse\n",
            "    event = MIDIEvent(time,self.buffer)\n",
            "  File \"/usr/local/lib/python3.7/dist-packages/MIDI/Events/midi.py\", line 43, in __init__\n",
            "    length = len(self.message) if self.message else 0\n",
            "TypeError: 'method' object cannot be interpreted as an integer\n"
          ],
          "name": "stderr"
        },
        {
          "output_type": "stream",
          "text": [
            "n 4 d 4 cpt 24 dp24c 8\n",
            "key C mode major tempo 120.0\n",
            "n -1 d -1 cpt -1 dp24c -1\n",
            "key C mode major tempo 76.59576\n",
            "n 4 d 4 cpt 24 dp24c 8\n",
            "key C mode major tempo 169.41168\n",
            "n -1 d -1 cpt -1 dp24c -1\n",
            "key unknown mode unknown tempo 120.0\n",
            "n -1 d -1 cpt -1 dp24c -1\n",
            "key unknown mode unknown tempo 221.53824\n"
          ],
          "name": "stdout"
        },
        {
          "output_type": "stream",
          "text": [
            "Traceback (most recent call last):\n",
            "  File \"/usr/local/lib/python3.7/dist-packages/MIDI/chunks/track.py\", line 30, in parse\n",
            "    eventType=self.buffer[0]\n",
            "IndexError: index out of range\n"
          ],
          "name": "stderr"
        },
        {
          "output_type": "stream",
          "text": [
            "n 4 d 4 cpt 24 dp24c 8\n",
            "key A mode major tempo 130.9092\n",
            "n 4 d 4 cpt 24 dp24c 8\n",
            "key C mode major tempo 57.6\n",
            "n -1 d -1 cpt -1 dp24c -1\n",
            "key unknown mode unknown tempo 142.57416\n"
          ],
          "name": "stdout"
        },
        {
          "output_type": "stream",
          "text": [
            "Traceback (most recent call last):\n",
            "  File \"/usr/local/lib/python3.7/dist-packages/MIDI/chunks/track.py\", line 30, in parse\n",
            "    eventType=self.buffer[0]\n",
            "IndexError: index out of range\n"
          ],
          "name": "stderr"
        },
        {
          "output_type": "stream",
          "text": [
            "n 4 d 4 cpt 24 dp24c 8\n",
            "key C mode major tempo 118.03272\n",
            "n 4 d 4 cpt 24 dp24c 8\n",
            "key C mode major tempo 128.57112\n"
          ],
          "name": "stdout"
        },
        {
          "output_type": "stream",
          "text": [
            "Traceback (most recent call last):\n",
            "  File \"/usr/local/lib/python3.7/dist-packages/MIDI/chunks/track.py\", line 33, in parse\n",
            "    event = MetaEvent(time,self.buffer)\n",
            "  File \"/usr/local/lib/python3.7/dist-packages/MIDI/Events/meta.py\", line 75, in __init__\n",
            "    self.attributes = self.message.attributes(self.data)\n",
            "  File \"/usr/local/lib/python3.7/dist-packages/MIDI/Events/meta.py\", line 55, in attributes\n",
            "    return OrderedDict(key=self.key(_bytes[0]),mode=mode)\n",
            "  File \"/usr/local/lib/python3.7/dist-packages/MIDI/Events/meta.py\", line 31, in key\n",
            "    return ['C','G','D','A','E','B','F#','C#'][n]\n",
            "IndexError: list index out of range\n"
          ],
          "name": "stderr"
        },
        {
          "output_type": "stream",
          "text": [
            "n -1 d -1 cpt -1 dp24c -1\n",
            "key C mode major tempo 120.0\n",
            "n -1 d -1 cpt -1 dp24c -1\n",
            "key unknown mode unknown tempo 211.76448\n",
            "n -1 d -1 cpt -1 dp24c -1\n",
            "key C mode major tempo 144.0\n",
            "n -1 d -1 cpt -1 dp24c -1\n",
            "key A mode major tempo 115.2\n",
            "n 8 d 8 cpt 12 dp24c 8\n",
            "key C mode major tempo 232.25808\n",
            "n -1 d -1 cpt -1 dp24c -1\n",
            "key C mode major tempo -1\n"
          ],
          "name": "stdout"
        },
        {
          "output_type": "stream",
          "text": [
            "Traceback (most recent call last):\n",
            "  File \"/usr/local/lib/python3.7/dist-packages/MIDI/chunks/track.py\", line 30, in parse\n",
            "    eventType=self.buffer[0]\n",
            "IndexError: index out of range\n"
          ],
          "name": "stderr"
        },
        {
          "output_type": "stream",
          "text": [
            "n 2 d 4 cpt 24 dp24c 8\n",
            "key C mode major tempo 236.06568\n",
            "n -1 d -1 cpt -1 dp24c -1\n",
            "key C mode major tempo 96.0\n"
          ],
          "name": "stdout"
        },
        {
          "output_type": "stream",
          "text": [
            "Traceback (most recent call last):\n",
            "  File \"/usr/local/lib/python3.7/dist-packages/MIDI/chunks/track.py\", line 33, in parse\n",
            "    event = MetaEvent(time,self.buffer)\n",
            "  File \"/usr/local/lib/python3.7/dist-packages/MIDI/Events/meta.py\", line 75, in __init__\n",
            "    self.attributes = self.message.attributes(self.data)\n",
            "  File \"/usr/local/lib/python3.7/dist-packages/MIDI/Events/meta.py\", line 55, in attributes\n",
            "    return OrderedDict(key=self.key(_bytes[0]),mode=mode)\n",
            "  File \"/usr/local/lib/python3.7/dist-packages/MIDI/Events/meta.py\", line 31, in key\n",
            "    return ['C','G','D','A','E','B','F#','C#'][n]\n",
            "IndexError: list index out of range\n"
          ],
          "name": "stderr"
        },
        {
          "output_type": "stream",
          "text": [
            "n 4 d 4 cpt 24 dp24c 8\n",
            "key unknown mode unknown tempo -1\n",
            "n 4 d 4 cpt 24 dp24c 8\n",
            "key C mode major tempo -1\n"
          ],
          "name": "stdout"
        },
        {
          "output_type": "stream",
          "text": [
            "Traceback (most recent call last):\n",
            "  File \"/usr/local/lib/python3.7/dist-packages/MIDI/chunks/track.py\", line 30, in parse\n",
            "    eventType=self.buffer[0]\n",
            "IndexError: index out of range\n"
          ],
          "name": "stderr"
        },
        {
          "output_type": "stream",
          "text": [
            "n 4 d 4 cpt 24 dp24c 8\n",
            "key C mode major tempo 127.43352\n",
            "n -1 d -1 cpt -1 dp24c -1\n",
            "key C mode major tempo 100.00008\n",
            "n -1 d -1 cpt -1 dp24c -1\n",
            "key C mode major tempo -1\n",
            "n 4 d 4 cpt 24 dp24c 8\n",
            "key D mode major tempo 148.45368\n",
            "n 4 d 4 cpt 24 dp24c 8\n",
            "key G mode major tempo 158.24184\n",
            "Unknown chunk type  of\u0000 - skipping\n",
            "n -1 d -1 cpt -1 dp24c -1\n",
            "key C mode major tempo 120.0\n",
            "n 4 d 4 cpt 24 dp24c 8\n",
            "key B mode major tempo 214.5732\n",
            "n 4 d 4 cpt 24 dp24c 8\n",
            "key C mode major tempo 150.0\n"
          ],
          "name": "stdout"
        },
        {
          "output_type": "stream",
          "text": [
            "Traceback (most recent call last):\n",
            "  File \"/usr/local/lib/python3.7/dist-packages/MIDI/chunks/track.py\", line 37, in parse\n",
            "    event = MIDIEvent(time,self.buffer)\n",
            "  File \"/usr/local/lib/python3.7/dist-packages/MIDI/Events/midi.py\", line 43, in __init__\n",
            "    length = len(self.message) if self.message else 0\n",
            "TypeError: 'method' object cannot be interpreted as an integer\n"
          ],
          "name": "stderr"
        },
        {
          "output_type": "stream",
          "text": [
            "n 4 d 4 cpt 24 dp24c 8\n",
            "key C mode major tempo 160.00008\n",
            "n 4 d 4 cpt 24 dp24c 8\n",
            "key C mode major tempo 112.5\n",
            "n -1 d -1 cpt -1 dp24c -1\n",
            "key C mode major tempo 132.11016\n",
            "n -1 d -1 cpt -1 dp24c -1\n",
            "key C mode major tempo 115.2\n",
            "n -1 d -1 cpt -1 dp24c -1\n",
            "key C mode major tempo 197.26032\n",
            "n -1 d -1 cpt -1 dp24c -1\n",
            "key unknown mode unknown tempo 104.34768\n",
            "n -1 d -1 cpt -1 dp24c -1\n",
            "key unknown mode unknown tempo 180.0\n",
            "n -1 d -1 cpt -1 dp24c -1\n",
            "key C mode major tempo 159.99984\n",
            "n 4 d 4 cpt 24 dp24c 8\n",
            "key E mode major tempo 117.0732\n",
            "n -1 d -1 cpt -1 dp24c -1\n",
            "key C mode major tempo -1\n"
          ],
          "name": "stdout"
        },
        {
          "output_type": "stream",
          "text": [
            "Traceback (most recent call last):\n",
            "  File \"/usr/local/lib/python3.7/dist-packages/MIDI/chunks/track.py\", line 33, in parse\n",
            "    event = MetaEvent(time,self.buffer)\n",
            "  File \"/usr/local/lib/python3.7/dist-packages/MIDI/Events/meta.py\", line 75, in __init__\n",
            "    self.attributes = self.message.attributes(self.data)\n",
            "  File \"/usr/local/lib/python3.7/dist-packages/MIDI/Events/meta.py\", line 55, in attributes\n",
            "    return OrderedDict(key=self.key(_bytes[0]),mode=mode)\n",
            "  File \"/usr/local/lib/python3.7/dist-packages/MIDI/Events/meta.py\", line 31, in key\n",
            "    return ['C','G','D','A','E','B','F#','C#'][n]\n",
            "IndexError: list index out of range\n"
          ],
          "name": "stderr"
        },
        {
          "output_type": "stream",
          "text": [
            "n 4 d 4 cpt 24 dp24c 8\n",
            "key unknown mode unknown tempo -1\n",
            "n 4 d 4 cpt 24 dp24c 8\n",
            "key C mode major tempo 139.80576\n",
            "n 4 d 4 cpt 24 dp24c 8\n",
            "key C mode major tempo 144.0\n"
          ],
          "name": "stdout"
        },
        {
          "output_type": "stream",
          "text": [
            "Traceback (most recent call last):\n",
            "  File \"/usr/local/lib/python3.7/dist-packages/MIDI/chunks/track.py\", line 30, in parse\n",
            "    eventType=self.buffer[0]\n",
            "IndexError: index out of range\n"
          ],
          "name": "stderr"
        },
        {
          "output_type": "stream",
          "text": [
            "n -1 d -1 cpt -1 dp24c -1\n",
            "key C mode major tempo 110.76912\n",
            "n -1 d -1 cpt -1 dp24c -1\n",
            "key unknown mode unknown tempo -1\n",
            "n -1 d -1 cpt -1 dp24c -1\n",
            "key G mode major tempo 91.71984\n",
            "n 4 d 4 cpt 24 dp24c 8\n",
            "key G mode major tempo 218.18184\n",
            "n -1 d -1 cpt -1 dp24c -1\n",
            "key C mode major tempo 129.72984\n",
            "n 2 d 4 cpt 24 dp24c 8\n",
            "key C mode major tempo 214.92528\n",
            "n -1 d -1 cpt -1 dp24c -1\n",
            "key unknown mode unknown tempo -1\n"
          ],
          "name": "stdout"
        },
        {
          "output_type": "stream",
          "text": [
            "Traceback (most recent call last):\n",
            "  File \"/usr/local/lib/python3.7/dist-packages/MIDI/chunks/track.py\", line 37, in parse\n",
            "    event = MIDIEvent(time,self.buffer)\n",
            "  File \"/usr/local/lib/python3.7/dist-packages/MIDI/Events/midi.py\", line 43, in __init__\n",
            "    length = len(self.message) if self.message else 0\n",
            "TypeError: 'method' object cannot be interpreted as an integer\n",
            "Traceback (most recent call last):\n",
            "  File \"/usr/local/lib/python3.7/dist-packages/MIDI/chunks/track.py\", line 30, in parse\n",
            "    eventType=self.buffer[0]\n",
            "IndexError: index out of range\n"
          ],
          "name": "stderr"
        },
        {
          "output_type": "stream",
          "text": [
            "n -1 d -1 cpt -1 dp24c -1\n",
            "key unknown mode unknown tempo 125.21736\n",
            "n 4 d 4 cpt 24 dp24c 8\n",
            "key C mode major tempo 144.0\n",
            "n 4 d 4 cpt 24 dp24c 8\n",
            "key C mode major tempo 110.76912\n",
            "n 4 d 4 cpt 24 dp24c 8\n",
            "key C mode major tempo 120.0\n",
            "n 4 d 4 cpt 24 dp24c 8\n",
            "key C mode major tempo 175.60968\n"
          ],
          "name": "stdout"
        }
      ]
    },
    {
      "cell_type": "code",
      "metadata": {
        "colab": {
          "base_uri": "https://localhost:8080/",
          "height": 406
        },
        "id": "pgoHr5Am-6Ms",
        "outputId": "8ed712fc-2122-47bd-b0b2-8e98cca3c6a7"
      },
      "source": [
        "df_midi"
      ],
      "execution_count": 11,
      "outputs": [
        {
          "output_type": "execute_result",
          "data": {
            "text/html": [
              "<div>\n",
              "<style scoped>\n",
              "    .dataframe tbody tr th:only-of-type {\n",
              "        vertical-align: middle;\n",
              "    }\n",
              "\n",
              "    .dataframe tbody tr th {\n",
              "        vertical-align: top;\n",
              "    }\n",
              "\n",
              "    .dataframe thead th {\n",
              "        text-align: right;\n",
              "    }\n",
              "</style>\n",
              "<table border=\"1\" class=\"dataframe\">\n",
              "  <thead>\n",
              "    <tr style=\"text-align: right;\">\n",
              "      <th></th>\n",
              "      <th>filename</th>\n",
              "      <th>numerator</th>\n",
              "      <th>denominator</th>\n",
              "      <th>clocksPerTick</th>\n",
              "      <th>demisemiquaverPer24Clocks</th>\n",
              "      <th>key</th>\n",
              "      <th>mode</th>\n",
              "      <th>tempo</th>\n",
              "    </tr>\n",
              "  </thead>\n",
              "  <tbody>\n",
              "    <tr>\n",
              "      <th>0</th>\n",
              "      <td>elmore_james_-_dust_my_broom.mid</td>\n",
              "      <td>4</td>\n",
              "      <td>4</td>\n",
              "      <td>24</td>\n",
              "      <td>8</td>\n",
              "      <td>C</td>\n",
              "      <td>major</td>\n",
              "      <td>126.31584</td>\n",
              "    </tr>\n",
              "    <tr>\n",
              "      <th>0</th>\n",
              "      <td>eric_clapton_-_wonderful_tonight_-_live_extnd_...</td>\n",
              "      <td>4</td>\n",
              "      <td>4</td>\n",
              "      <td>24</td>\n",
              "      <td>8</td>\n",
              "      <td>C</td>\n",
              "      <td>major</td>\n",
              "      <td>173.34768</td>\n",
              "    </tr>\n",
              "    <tr>\n",
              "      <th>0</th>\n",
              "      <td>the_corrs_-_someday.mid</td>\n",
              "      <td>4</td>\n",
              "      <td>4</td>\n",
              "      <td>24</td>\n",
              "      <td>8</td>\n",
              "      <td>C</td>\n",
              "      <td>major</td>\n",
              "      <td>134.57952</td>\n",
              "    </tr>\n",
              "    <tr>\n",
              "      <th>0</th>\n",
              "      <td>cat_stevens_-_oh_very_young.mid</td>\n",
              "      <td>2</td>\n",
              "      <td>4</td>\n",
              "      <td>24</td>\n",
              "      <td>8</td>\n",
              "      <td>C</td>\n",
              "      <td>major</td>\n",
              "      <td>120.0</td>\n",
              "    </tr>\n",
              "    <tr>\n",
              "      <th>0</th>\n",
              "      <td>dionne_warwick_-_heartbreaker.mid</td>\n",
              "      <td>4</td>\n",
              "      <td>4</td>\n",
              "      <td>24</td>\n",
              "      <td>8</td>\n",
              "      <td>C</td>\n",
              "      <td>major</td>\n",
              "      <td>141.1764</td>\n",
              "    </tr>\n",
              "    <tr>\n",
              "      <th>...</th>\n",
              "      <td>...</td>\n",
              "      <td>...</td>\n",
              "      <td>...</td>\n",
              "      <td>...</td>\n",
              "      <td>...</td>\n",
              "      <td>...</td>\n",
              "      <td>...</td>\n",
              "      <td>...</td>\n",
              "    </tr>\n",
              "    <tr>\n",
              "      <th>0</th>\n",
              "      <td>chuck_mangione_-_feels_so_good.mid</td>\n",
              "      <td>-1</td>\n",
              "      <td>-1</td>\n",
              "      <td>-1</td>\n",
              "      <td>-1</td>\n",
              "      <td>unknown</td>\n",
              "      <td>unknown</td>\n",
              "      <td>125.21736</td>\n",
              "    </tr>\n",
              "    <tr>\n",
              "      <th>0</th>\n",
              "      <td>cardigans_-_erase_and_rewind.mid</td>\n",
              "      <td>4</td>\n",
              "      <td>4</td>\n",
              "      <td>24</td>\n",
              "      <td>8</td>\n",
              "      <td>C</td>\n",
              "      <td>major</td>\n",
              "      <td>144.0</td>\n",
              "    </tr>\n",
              "    <tr>\n",
              "      <th>0</th>\n",
              "      <td>gene_vincent_-_be_bop_a_lula.mid</td>\n",
              "      <td>4</td>\n",
              "      <td>4</td>\n",
              "      <td>24</td>\n",
              "      <td>8</td>\n",
              "      <td>C</td>\n",
              "      <td>major</td>\n",
              "      <td>110.76912</td>\n",
              "    </tr>\n",
              "    <tr>\n",
              "      <th>0</th>\n",
              "      <td>abba_-_super_trouper.mid</td>\n",
              "      <td>4</td>\n",
              "      <td>4</td>\n",
              "      <td>24</td>\n",
              "      <td>8</td>\n",
              "      <td>C</td>\n",
              "      <td>major</td>\n",
              "      <td>120.0</td>\n",
              "    </tr>\n",
              "    <tr>\n",
              "      <th>0</th>\n",
              "      <td>boyzone_-_words.mid</td>\n",
              "      <td>4</td>\n",
              "      <td>4</td>\n",
              "      <td>24</td>\n",
              "      <td>8</td>\n",
              "      <td>C</td>\n",
              "      <td>major</td>\n",
              "      <td>175.60968</td>\n",
              "    </tr>\n",
              "  </tbody>\n",
              "</table>\n",
              "<p>622 rows × 8 columns</p>\n",
              "</div>"
            ],
            "text/plain": [
              "                                             filename  ...      tempo\n",
              "0                    elmore_james_-_dust_my_broom.mid  ...  126.31584\n",
              "0   eric_clapton_-_wonderful_tonight_-_live_extnd_...  ...  173.34768\n",
              "0                             the_corrs_-_someday.mid  ...  134.57952\n",
              "0                     cat_stevens_-_oh_very_young.mid  ...      120.0\n",
              "0                   dionne_warwick_-_heartbreaker.mid  ...   141.1764\n",
              "..                                                ...  ...        ...\n",
              "0                  chuck_mangione_-_feels_so_good.mid  ...  125.21736\n",
              "0                    cardigans_-_erase_and_rewind.mid  ...      144.0\n",
              "0                    gene_vincent_-_be_bop_a_lula.mid  ...  110.76912\n",
              "0                            abba_-_super_trouper.mid  ...      120.0\n",
              "0                                 boyzone_-_words.mid  ...  175.60968\n",
              "\n",
              "[622 rows x 8 columns]"
            ]
          },
          "metadata": {
            "tags": []
          },
          "execution_count": 11
        }
      ]
    },
    {
      "cell_type": "code",
      "metadata": {
        "id": "3QqrEE11-6xg"
      },
      "source": [
        "df_songs['filename'] = df_songs['artist'].str.replace(' ', \"_\") + \"_-_\" + df_songs['title'].str.replace(' ', \"_\") + \".mid\"\n",
        "df_merged = pd.merge(df_songs, df_midi, on=\"filename\")"
      ],
      "execution_count": 12,
      "outputs": []
    },
    {
      "cell_type": "code",
      "metadata": {
        "id": "CSSPwh0c-90q"
      },
      "source": [
        "from sklearn.preprocessing import MinMaxScaler\n",
        "from sklearn.preprocessing import OneHotEncoder\n",
        "\n",
        "scalers = []\n",
        "columns = ['numerator', 'denominator','clocksPerTick', 'demisemiquaverPer24Clocks', 'tempo']\n",
        "for col in columns:\n",
        "  scaler = MinMaxScaler()\n",
        "  scaled_features = scaler.fit_transform(df_merged[col].values.reshape(-1, 1))\n",
        "  tmp_df = pd.DataFrame(scaled_features, index=df_merged.index, columns=[col])\n",
        "  df_merged[col] = tmp_df[col]\n",
        "  scalers.append(scaler)\n",
        "\n",
        "\n",
        "onehot_encoders = []\n",
        "columns = ['key', 'mode']\n",
        "for col in columns:\n",
        "  onehot_encoder = OneHotEncoder(sparse=False)\n",
        "  scaled_features = onehot_encoder.fit_transform(df_merged[col].values.reshape(-1, 1))\n",
        "  tmp_df = pd.DataFrame(scaled_features, index=df_merged.index)\n",
        "  tmp_df.columns = onehot_encoder.get_feature_names([col])\n",
        "  df_merged.drop([col] ,axis=1, inplace=True)\n",
        "  df_merged = pd.concat([df_merged, tmp_df ], axis=1)\n",
        "  onehot_encoders.append(onehot_encoder)"
      ],
      "execution_count": 13,
      "outputs": []
    },
    {
      "cell_type": "code",
      "metadata": {
        "id": "l99xn9GF_C6J"
      },
      "source": [
        "# import zipfile\n",
        "# with zipfile.ZipFile('/content/drive/MyDrive/DL/Assignment_3/glove.6B.zip',\"r\") as zip_ref:\n",
        "#   zip_ref.extractall(\"glove\")"
      ],
      "execution_count": 14,
      "outputs": []
    },
    {
      "cell_type": "code",
      "metadata": {
        "id": "2KFHMLTN_X-w"
      },
      "source": [
        "# tokenize = Tokenizer()\n",
        "# tokenize.fit_on_texts(df_merged['lyrics'])\n",
        "# total_words = len(tokenize.word_index) + 1\n",
        "\n",
        "tokenize = Tokenizer(filters='')\n",
        "tokenize.fit_on_texts(df_merged['lyrics'])\n",
        "tokenize.fit_on_texts(['eof'])\n",
        "total_words = len(tokenize.word_index) + 1\n",
        "embedding_dim = 300"
      ],
      "execution_count": 15,
      "outputs": []
    },
    {
      "cell_type": "code",
      "metadata": {
        "id": "d2MewhaR_ayE"
      },
      "source": [
        "# import pickle\n",
        "# f = open(\"tokenizer_pickle\", \"wb\")\n",
        "# pickle.dump(tokenize, f)\n",
        "# f.close()"
      ],
      "execution_count": 16,
      "outputs": []
    },
    {
      "cell_type": "code",
      "metadata": {
        "id": "rwWM5cOb_fQX"
      },
      "source": [
        "# #taken from https://gist.github.com/shubham0204/531f75c37c49362c9b61a11865496177\n",
        "# import numpy as np\n",
        "# import pickle\n",
        "# import os\n",
        "\n",
        "# # You need to download the GloVe embeddings ( in txt files ) from here -> http://nlp.stanford.edu/data/glove.6B.zip\n",
        "\n",
        "# # The vocabulary size. It is the value of `len( tokenizer.word_index )+1`\n",
        "# vocab_size = total_words #int(input('Enter Vocabulary Size : '))\n",
        "\n",
        "# # The file to the GloVe file. For instance, \"glove.6B/glove.6B.50d\" where \"50\" represents the output dimension of the embedding.\n",
        "# glove_path = \"/content/glove/glove.6B.300d.txt\" #input('Enter path to GloVe text file : ')\n",
        "\n",
        "# # The filepath of the tf.keras.preprocessing.text.Tokenizer object in pickled form. \n",
        "# # This object was earlier used to tokenize the question and answer pairs. \n",
        "# tokenizer_path = \"/content/tokenizer_pickle\" #input('Enter pickled Tokenizer path : ')\n",
        "\n",
        "# # The output directory where the files will be stored.\n",
        "# output_dir = \"/content\" #input( 'Enter path of output directory : ')\n",
        "\n",
        "# # The output dimensions for the embedding. If the `glove_path` refers to `glove.6B.50d` then this argument should be equal to 50.\n",
        "# output_dim = embedding_dim #int(input('Enter output dimension for Embedding : '))\n",
        "\n",
        "# # The filename for the saved numpy array. For example, \"embedding_matrix.npy\"\n",
        "# embedding_filename = \"embedding_matrix_6b.npy\" #input('Enter file name : ' )\n",
        "\n",
        "# # load the whole embedding into memory\n",
        "# embeddings_index = dict()\n",
        "# f = open( glove_path , encoding='utf8' )\n",
        "# for line in f:\n",
        "# \tvalues = line.split()\n",
        "# \tword = values[0]\n",
        "# \tcoefs = np.asarray(values[1:], dtype='float32')\n",
        "# \tembeddings_index[word] = coefs\n",
        "# f.close()\n",
        "# print('Loaded %s word vectors.' % len(embeddings_index))\n",
        "\n",
        "# tokenizer = pickle.load( open( tokenizer_path , 'rb' ) )\n",
        "\n",
        "# embedding_matrix = np.zeros((vocab_size, output_dim))\n",
        "# for word, i in tokenizer.word_index.items():\n",
        "# \tembedding_vector = embeddings_index.get(word)\n",
        "# \tif embedding_vector is not None:\n",
        "# \t\tembedding_matrix[i] = embedding_vector\n",
        "\n",
        "# np.save( os.path.join( output_dir , '{}'.format( embedding_filename )) , embedding_matrix )"
      ],
      "execution_count": 17,
      "outputs": []
    },
    {
      "cell_type": "code",
      "metadata": {
        "id": "LYQG66haD6Rj"
      },
      "source": [
        "# gloveFile = \"/content/glove/glove.6B.300d.txt\"\n",
        "# import numpy as np\n",
        "# def loadGloveModel(gloveFile):\n",
        "#     print (\"Loading Glove Model\")\n",
        "#     with open(gloveFile, encoding=\"utf8\" ) as f:\n",
        "#         content = f.readlines()\n",
        "#     model = {}\n",
        "#     for line in content:\n",
        "#         splitLine = line.split()\n",
        "#         word = splitLine[0]\n",
        "#         embedding = np.array([float(val) for val in splitLine[1:]])\n",
        "#         model[word] = embedding\n",
        "#     print (\"Done.\",len(model),\" words loaded!\")\n",
        "#     return model\n",
        "\n",
        "# model = loadGloveModel(gloveFile)\n",
        "\n"
      ],
      "execution_count": 18,
      "outputs": []
    },
    {
      "cell_type": "code",
      "metadata": {
        "id": "YFy5DDm2EPGx"
      },
      "source": [
        "# words1=[',']\n",
        "# vector_2 = np.mean([model[word] for word in words1],axis=0) ## Got error message"
      ],
      "execution_count": 19,
      "outputs": []
    },
    {
      "cell_type": "code",
      "metadata": {
        "id": "uPfEt0ZHEgJa"
      },
      "source": [
        "# vector_2"
      ],
      "execution_count": 20,
      "outputs": []
    },
    {
      "cell_type": "code",
      "metadata": {
        "colab": {
          "base_uri": "https://localhost:8080/"
        },
        "id": "URlKizNz_jkL",
        "outputId": "561473d9-5716-4e2a-f6e7-f04ae7ca6608"
      },
      "source": [
        "# embedding_matrixs =  np.load(\"/content/drive/MyDrive/DL/Assignment_3/Lyrics/embedding_matrix_6b.npy\")\n",
        "embedding_matrixs =  np.load(\"/content/drive/MyDrive/DL/Assignment_3/Lyrics/embedding_matrix_6b_no_eof.npy\")\n",
        "\n",
        "embedding_matrixs.shape"
      ],
      "execution_count": 21,
      "outputs": [
        {
          "output_type": "execute_result",
          "data": {
            "text/plain": [
              "(7517, 300)"
            ]
          },
          "metadata": {
            "tags": []
          },
          "execution_count": 21
        }
      ]
    },
    {
      "cell_type": "code",
      "metadata": {
        "id": "1faEArvJF6DT"
      },
      "source": [
        "def remove_words(words: List[str], songs):\n",
        "    resulting_songs = []\n",
        "    for song in songs:\n",
        "        result = song\n",
        "        for word in words:\n",
        "            result = result.replace(word, '')\n",
        "        resulting_songs.append(result)\n",
        "    return resulting_songs"
      ],
      "execution_count": 22,
      "outputs": []
    },
    {
      "cell_type": "code",
      "metadata": {
        "id": "WdnjwhQazWkG"
      },
      "source": [
        "import json\n",
        "non_words_json = json.load(open('/content/drive/MyDrive/DL/Assignment_3/Lyrics/non_words.json', \"r\"))\n",
        "non_words_list = non_words_json[\"non existing words\"]\n",
        "df_merged['lyrics'] = remove_words(non_words_list, df_merged['lyrics'])"
      ],
      "execution_count": 23,
      "outputs": []
    },
    {
      "cell_type": "code",
      "metadata": {
        "colab": {
          "base_uri": "https://localhost:8080/"
        },
        "id": "jw-8aoOGBZCd",
        "outputId": "cd36109c-e0f8-4cb9-fb34-aaf5a8ad8fcc"
      },
      "source": [
        "# max_sequence_len = df_merged['lyrics'].str.split().apply(len).max()-1\n",
        "max_sequence_len = 7\n",
        "df_train, df_val = split_df_to_train_val(df_merged, ratio=0.9)\n",
        "x_train, x_train_midi, y_train = create_x_y(df_train, tokenize, total_words, max_sequence_len)\n",
        "x_val, x_val_midi, y_val = create_x_y(df_val, tokenize, total_words, max_sequence_len)\n",
        "x_train_midi = np.asarray(x_train_midi).astype('float32')\n",
        "x_val_midi = np.asarray(x_val_midi).astype('float32')"
      ],
      "execution_count": 24,
      "outputs": [
        {
          "output_type": "stream",
          "text": [
            "[[220, 2434], [220, 2434, 2435], [220, 2434, 2435, 1], [220, 2434, 2435, 1, 320], [220, 2434, 2435, 1, 320, 4], [220, 2434, 2435, 1, 320, 4, 47], [220, 2434, 2435, 1, 320, 4, 47, 224], [220, 2434, 2435, 1, 320, 4, 47, 224, 2], [220, 2434, 2435, 1, 320, 4, 47, 224, 2, 68], [220, 2434, 2435, 1, 320, 4, 47, 224, 2, 68, 19]]\n",
            "[[724, 24], [724, 24, 8], [724, 24, 8, 1], [724, 24, 8, 1, 4], [724, 24, 8, 1, 4, 54], [724, 24, 8, 1, 4, 54, 3564], [724, 24, 8, 1, 4, 54, 3564, 36], [724, 24, 8, 1, 4, 54, 3564, 36, 276], [724, 24, 8, 1, 4, 54, 3564, 36, 276, 19], [724, 24, 8, 1, 4, 54, 3564, 36, 276, 19, 243]]\n"
          ],
          "name": "stdout"
        }
      ]
    },
    {
      "cell_type": "code",
      "metadata": {
        "id": "d0Av0w6spUQE"
      },
      "source": [
        "# x_train, y_train, x_val, y_val, max_sequence_len = create_x_y_train(cleaned_songs, tokenize, total_words)\n",
        "# x_test, y_test = create_x_y(cleaned_test_songs, tokenize, total_words, max_sequence_len)\n"
      ],
      "execution_count": 25,
      "outputs": []
    },
    {
      "cell_type": "code",
      "metadata": {
        "colab": {
          "base_uri": "https://localhost:8080/",
          "height": 1000
        },
        "id": "cVe2ZUvKqFbl",
        "outputId": "20602823-f0a0-47f6-9d70-3f3a9e056298"
      },
      "source": [
        "# Train model\n",
        "parameters = {\n",
        "    'batch_size' : 512 ,\n",
        "    'validation_split' : None ,\n",
        "    'epochs' : 10 ,\n",
        "    'val_data' :  ([x_val, x_val_midi], y_val)\n",
        "}\n",
        "lyrics_generator = LyricsGenerator(embedding_dim, total_words, x_train.shape[1], x_train_midi.shape[1], embedding_matrixs)\n",
        "h = lyrics_generator.fit([x_train, x_train_midi], y_train, parameters)\n",
        "lyrics_generator.plot_metric(h)\n",
        "lyrics_generator.plot_metric(h, metric=\"accuracy\")"
      ],
      "execution_count": 26,
      "outputs": [
        {
          "output_type": "stream",
          "text": [
            "Model: \"model\"\n",
            "__________________________________________________________________________________________________\n",
            "Layer (type)                    Output Shape         Param #     Connected to                     \n",
            "==================================================================================================\n",
            "input_1 (InputLayer)            [(None, 6)]          0                                            \n",
            "__________________________________________________________________________________________________\n",
            "embedding (Embedding)           (None, 6, 300)       2255100     input_1[0][0]                    \n",
            "__________________________________________________________________________________________________\n",
            "input_2 (InputLayer)            [(None, 17)]         0                                            \n",
            "__________________________________________________________________________________________________\n",
            "lstm (LSTM)                     (None, 300)          721200      embedding[0][0]                  \n",
            "__________________________________________________________________________________________________\n",
            "dense (Dense)                   (None, 50)           900         input_2[0][0]                    \n",
            "__________________________________________________________________________________________________\n",
            "dropout (Dropout)               (None, 300)          0           lstm[0][0]                       \n",
            "__________________________________________________________________________________________________\n",
            "dense_1 (Dense)                 (None, 10)           510         dense[0][0]                      \n",
            "__________________________________________________________________________________________________\n",
            "concatenate (Concatenate)       (None, 310)          0           dropout[0][0]                    \n",
            "                                                                 dense_1[0][0]                    \n",
            "__________________________________________________________________________________________________\n",
            "dense_2 (Dense)                 (None, 7517)         2337787     concatenate[0][0]                \n",
            "==================================================================================================\n",
            "Total params: 5,315,497\n",
            "Trainable params: 5,315,497\n",
            "Non-trainable params: 0\n",
            "__________________________________________________________________________________________________\n",
            "Epoch 1/10\n",
            "318/318 [==============================] - 47s 47ms/step - loss: 6.2228 - accuracy: 0.1359 - val_loss: 5.1571 - val_accuracy: 0.1922\n",
            "Epoch 2/10\n",
            "318/318 [==============================] - 14s 44ms/step - loss: 4.9990 - accuracy: 0.1860 - val_loss: 4.9108 - val_accuracy: 0.2118\n",
            "Epoch 3/10\n",
            "318/318 [==============================] - 14s 44ms/step - loss: 4.5801 - accuracy: 0.2117 - val_loss: 4.8251 - val_accuracy: 0.2248\n",
            "Epoch 4/10\n",
            "318/318 [==============================] - 14s 44ms/step - loss: 4.2791 - accuracy: 0.2366 - val_loss: 4.8117 - val_accuracy: 0.2228\n",
            "Epoch 5/10\n",
            "318/318 [==============================] - 14s 44ms/step - loss: 4.0195 - accuracy: 0.2599 - val_loss: 4.8045 - val_accuracy: 0.2297\n",
            "Epoch 6/10\n",
            "318/318 [==============================] - 14s 44ms/step - loss: 3.7845 - accuracy: 0.2877 - val_loss: 4.8298 - val_accuracy: 0.2294\n",
            "Epoch 7/10\n",
            "318/318 [==============================] - 14s 45ms/step - loss: 3.5771 - accuracy: 0.3104 - val_loss: 4.8415 - val_accuracy: 0.2320\n",
            "Epoch 8/10\n",
            "318/318 [==============================] - 14s 44ms/step - loss: 3.3902 - accuracy: 0.3346 - val_loss: 4.8727 - val_accuracy: 0.2307\n",
            "Epoch 9/10\n",
            "318/318 [==============================] - 14s 45ms/step - loss: 3.2088 - accuracy: 0.3595 - val_loss: 4.9301 - val_accuracy: 0.2305\n",
            "Epoch 10/10\n",
            "318/318 [==============================] - 14s 44ms/step - loss: 3.0139 - accuracy: 0.3913 - val_loss: 4.9773 - val_accuracy: 0.2258\n"
          ],
          "name": "stdout"
        },
        {
          "output_type": "display_data",
          "data": {
            "image/png": "[encoded data removed]",
            "text/plain": [
              "<Figure size 432x288 with 1 Axes>"
            ]
          },
          "metadata": {
            "tags": [],
            "needs_background": "light"
          }
        },
        {
          "output_type": "display_data",
          "data": {
            "image/png": "[encoded data removed]",
            "text/plain": [
              "<Figure size 432x288 with 1 Axes>"
            ]
          },
          "metadata": {
            "tags": [],
            "needs_background": "light"
          }
        }
      ]
    },
    {
      "cell_type": "code",
      "metadata": {
        "id": "FMtPZoMPC_Yt",
        "colab": {
          "base_uri": "https://localhost:8080/"
        },
        "outputId": "5f2b4a43-81ac-45ea-d2ea-7e4816ebb54b"
      },
      "source": [
        "df_songs_test = load_songs('/content/drive/MyDrive/DL/Assignment_3/Lyrics/lyrics_test_set.csv')\n",
        "df_songs_test['filename'] = df_songs_test['artist'].str.replace(' ', \"_\") + \"_-\" + df_songs_test['title'].str.replace(' ', \"_\") + \".mid\"\n",
        "df_test = pd.merge(df_songs_test, df_midi, on=\"filename\")\n",
        "\n",
        "columns = ['numerator', 'denominator','clocksPerTick', 'demisemiquaverPer24Clocks', 'tempo']\n",
        "for i, col in enumerate(columns):\n",
        "  scaled_features = scalers[i].transform(df_test[col].values.reshape(-1, 1))\n",
        "  tmp_df = pd.DataFrame(scaled_features, index=df_test.index, columns=[col])\n",
        "  df_test[col] = tmp_df[col]\n",
        "\n",
        "\n",
        "columns = ['key', 'mode']\n",
        "for i, col in enumerate(columns):\n",
        "  scaled_features = onehot_encoders[i].transform(df_test[col].values.reshape(-1, 1))\n",
        "  tmp_df = pd.DataFrame(scaled_features, index=df_test.index)\n",
        "  tmp_df.columns = onehot_encoders[i].get_feature_names([col])\n",
        "  df_test.drop([col] ,axis=1, inplace=True)\n",
        "  df_test = pd.concat([df_test, tmp_df ], axis=1)\n",
        "\n",
        "x_test, x_test_midi, y_test = create_x_y(df_test, tokenize, total_words, max_sequence_len)\n",
        "# x_test_midi = np.asarray(x_test_midi[0]).astype('float32').reshape(1,x_test_midi[0].size)\n",
        "x_test_midi = np.asarray(x_test_midi).astype('float32')"
      ],
      "execution_count": 27,
      "outputs": [
        {
          "output_type": "stream",
          "text": [
            "[[333, 13], [333, 13, 113], [333, 13, 113, 111], [333, 13, 113, 111, 8], [333, 13, 113, 111, 8, 13], [333, 13, 113, 111, 8, 13, 272], [333, 13, 113, 111, 8, 13, 272, 678], [333, 13, 113, 111, 8, 13, 272, 678, 1], [333, 13, 113, 111, 8, 13, 272, 678, 1, 29], [333, 13, 113, 111, 8, 13, 272, 678, 1, 29, 2]]\n"
          ],
          "name": "stdout"
        }
      ]
    },
    {
      "cell_type": "code",
      "metadata": {
        "colab": {
          "base_uri": "https://localhost:8080/"
        },
        "id": "-spg8Y-ZR4kb",
        "outputId": "79d8aa11-9fcc-4546-b547-a5091657bf5a"
      },
      "source": [
        "prediction = lyrics_generator.evaluate([x_test, x_test_midi], y_test)\n",
        "print(prediction)"
      ],
      "execution_count": 28,
      "outputs": [
        {
          "output_type": "stream",
          "text": [
            "39/39 [==============================] - 0s 4ms/step - loss: 4.8772 - accuracy: 0.2303\n",
            "[4.8772478103637695, 0.2302737534046173]\n"
          ],
          "name": "stdout"
        }
      ]
    },
    {
      "cell_type": "code",
      "metadata": {
        "id": "xPIMgt2YcSLi"
      },
      "source": [
        "def generate_text(x, eof, model, max_sequence_len, vocab_size):\n",
        "    seed_text, midi_metadata = x\n",
        "    next_word = \"\"\n",
        "    word_indices = np.arange(vocab_size) + 1\n",
        "    word_count = 0\n",
        "    while next_word != eof:\n",
        "        token_list = tokenize.texts_to_sequences([seed_text])[0]\n",
        "        token_list = pad_sequences([token_list], maxlen=max_sequence_len-1, padding='pre')\n",
        "        predicted_proba = model.model.predict_on_batch([token_list, midi_metadata])\n",
        "        # print(token_list)\n",
        "        # print(predicted_proba.reshape((predicted_proba.shape[1])).shape)\n",
        "        # sample the word index acording to predicted proba\n",
        "        chosen_index = np.random.choice(word_indices ,1 ,replace=False, p=predicted_proba.reshape((predicted_proba.shape[1])))\n",
        "        word_count += 1\n",
        "        next_word = tokenize.sequences_to_texts([chosen_index])[0]\n",
        "        seed_text += \" \" + next_word\n",
        "    print(f'total number of words {word_count}')\n",
        "    return seed_text"
      ],
      "execution_count": 29,
      "outputs": []
    },
    {
      "cell_type": "code",
      "metadata": {
        "colab": {
          "base_uri": "https://localhost:8080/"
        },
        "id": "d3fHHGXbDEor",
        "outputId": "a86e8359-cd7d-41d6-9f90-1728c5058d1c"
      },
      "source": [
        "print(generate_text(['forgive', x_test_midi[0].reshape(1,x_test_midi[0].size)], \"eof\" , lyrics_generator , max_sequence_len, total_words).replace(\"&\",\"\\n\"))"
      ],
      "execution_count": 30,
      "outputs": [
        {
          "output_type": "stream",
          "text": [
            "total number of words 318\n",
            "forgive my her whoa you road do got i bird you do like i dance you act no will to than that the slip you lay you icy smell i gonna on doors is me to the precious you they see you fought around feeling no you da still you tell you baby got you it doesnt do you has and all i they let my walk say you when to see turn gold got of empty not lovely part you but an trees make my away you long tell my playin anytime his powdered you you you brother you with rain you you you gonna let the other hold the pussy you see me hanging never tell my waterloo alright you you gonna come where this love you when i about if i again you when that to hes take i cold you you look everything to from the regular you got me and held the collect i grady you a afford and will the world before mean and come boy you out i who you lover you its no you musics its in screams you no sad box you every well aw drop you say me you do my too only kids youre with heart shitfaced you when this well they guide bout and know for i just gonna on you color gets of killas you pop you mine a becomes you you was alright you you now some have id human right you with the then to am you about i yes you everything to just over you you taking somebody you by you you got wont leaves reach and to i life you having you all oohoohoooooo you you you was right you do in in highest teacher you how hear my away dont just up you to always icy you dance you no you see you gold you a alright you do of eof\n"
          ],
          "name": "stdout"
        }
      ]
    }
  ]
}