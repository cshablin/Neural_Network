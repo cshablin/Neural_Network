{
  "nbformat": 4,
  "nbformat_minor": 0,
  "metadata": {
    "colab": {
      "name": "Assignment4_GAN_diab_part2_v0.4.ipynb",
      "provenance": [],
      "collapsed_sections": []
    },
    "kernelspec": {
      "name": "python3",
      "display_name": "Python 3"
    },
    "language_info": {
      "name": "python"
    },
    "accelerator": "GPU"
  },
  "cells": [
    {
      "cell_type": "code",
      "metadata": {
        "id": "4kmcxRzCD1nh"
      },
      "source": [
        "import pandas as pd\n",
        "import numpy as np\n",
        "from scipy.io import arff\n",
        "import tensorflow as tf\n",
        "from tensorflow.keras import layers, backend \n",
        "from sklearn.ensemble import RandomForestClassifier\n",
        "from sklearn.metrics import confusion_matrix\n",
        "from sklearn.metrics import classification_report\n",
        "from sklearn.model_selection import GridSearchCV\n",
        "from keras.models import Sequential, Model\n",
        "from keras.layers import Dense, Dropout, Input, concatenate, BatchNormalization, LeakyReLU, Flatten\n",
        "import joblib\n",
        "\n",
        "import time\n",
        "from typing import Tuple, List\n",
        "from sklearn.preprocessing import OneHotEncoder, MinMaxScaler"
      ],
      "execution_count": 117,
      "outputs": []
    },
    {
      "cell_type": "code",
      "metadata": {
        "colab": {
          "base_uri": "https://localhost:8080/"
        },
        "id": "cicvn2rxESII",
        "outputId": "084e3dd3-a206-48f9-b13b-d3a2da01a4ec"
      },
      "source": [
        "from google.colab import drive \n",
        "drive.mount('/content/gdrive')"
      ],
      "execution_count": 118,
      "outputs": [
        {
          "output_type": "stream",
          "text": [
            "Drive already mounted at /content/gdrive; to attempt to forcibly remount, call drive.mount(\"/content/gdrive\", force_remount=True).\n"
          ],
          "name": "stdout"
        }
      ]
    },
    {
      "cell_type": "code",
      "metadata": {
        "id": "ORwi0IQ3WksA"
      },
      "source": [
        "def split_df_to_train_val(df, ratio):\n",
        "    mask = np.random.rand(len(df)) < ratio\n",
        "    df_train = df[mask]\n",
        "    df_val = df[~mask]\n",
        "    return df_train, df_val"
      ],
      "execution_count": 119,
      "outputs": []
    },
    {
      "cell_type": "code",
      "metadata": {
        "colab": {
          "base_uri": "https://localhost:8080/",
          "height": 204
        },
        "id": "63ihYoNGWGIQ",
        "outputId": "9e1d0822-c9c8-4278-85bf-54d7d629eb6a"
      },
      "source": [
        "diab_arf = arff.loadarff('gdrive/MyDrive/DL/Assignment_4/diabetes.arff')\n",
        "diab_df = pd.DataFrame(diab_arf[0])\n",
        "diab_df.replace(to_replace=b'tested_negative', value=-1, inplace=True)\n",
        "diab_df.replace(to_replace=b'tested_positive', value=1, inplace=True)\n",
        "# the values must be scaled to the range [-1,1] to match the output of the generator model\n",
        "def scaler(df):\n",
        "  for column in df:\n",
        "    max = df[column].max()\n",
        "    min = df[column].min()\n",
        "    col = 2*((df[column] - min)/(max - min)) - 1\n",
        "    df[column] = col\n",
        "  return df\n",
        "diab_df = scaler(diab_df)\n",
        "diab_df.head()"
      ],
      "execution_count": 120,
      "outputs": [
        {
          "output_type": "execute_result",
          "data": {
            "text/html": [
              "<div>\n",
              "<style scoped>\n",
              "    .dataframe tbody tr th:only-of-type {\n",
              "        vertical-align: middle;\n",
              "    }\n",
              "\n",
              "    .dataframe tbody tr th {\n",
              "        vertical-align: top;\n",
              "    }\n",
              "\n",
              "    .dataframe thead th {\n",
              "        text-align: right;\n",
              "    }\n",
              "</style>\n",
              "<table border=\"1\" class=\"dataframe\">\n",
              "  <thead>\n",
              "    <tr style=\"text-align: right;\">\n",
              "      <th></th>\n",
              "      <th>preg</th>\n",
              "      <th>plas</th>\n",
              "      <th>pres</th>\n",
              "      <th>skin</th>\n",
              "      <th>insu</th>\n",
              "      <th>mass</th>\n",
              "      <th>pedi</th>\n",
              "      <th>age</th>\n",
              "      <th>class</th>\n",
              "    </tr>\n",
              "  </thead>\n",
              "  <tbody>\n",
              "    <tr>\n",
              "      <th>0</th>\n",
              "      <td>-0.294118</td>\n",
              "      <td>0.487437</td>\n",
              "      <td>0.180328</td>\n",
              "      <td>-0.292929</td>\n",
              "      <td>-1.000000</td>\n",
              "      <td>0.001490</td>\n",
              "      <td>-0.531170</td>\n",
              "      <td>-0.033333</td>\n",
              "      <td>1.0</td>\n",
              "    </tr>\n",
              "    <tr>\n",
              "      <th>1</th>\n",
              "      <td>-0.882353</td>\n",
              "      <td>-0.145729</td>\n",
              "      <td>0.081967</td>\n",
              "      <td>-0.414141</td>\n",
              "      <td>-1.000000</td>\n",
              "      <td>-0.207154</td>\n",
              "      <td>-0.766866</td>\n",
              "      <td>-0.666667</td>\n",
              "      <td>-1.0</td>\n",
              "    </tr>\n",
              "    <tr>\n",
              "      <th>2</th>\n",
              "      <td>-0.058824</td>\n",
              "      <td>0.839196</td>\n",
              "      <td>0.049180</td>\n",
              "      <td>-1.000000</td>\n",
              "      <td>-1.000000</td>\n",
              "      <td>-0.305514</td>\n",
              "      <td>-0.492741</td>\n",
              "      <td>-0.633333</td>\n",
              "      <td>1.0</td>\n",
              "    </tr>\n",
              "    <tr>\n",
              "      <th>3</th>\n",
              "      <td>-0.882353</td>\n",
              "      <td>-0.105528</td>\n",
              "      <td>0.081967</td>\n",
              "      <td>-0.535354</td>\n",
              "      <td>-0.777778</td>\n",
              "      <td>-0.162444</td>\n",
              "      <td>-0.923997</td>\n",
              "      <td>-1.000000</td>\n",
              "      <td>-1.0</td>\n",
              "    </tr>\n",
              "    <tr>\n",
              "      <th>4</th>\n",
              "      <td>-1.000000</td>\n",
              "      <td>0.376884</td>\n",
              "      <td>-0.344262</td>\n",
              "      <td>-0.292929</td>\n",
              "      <td>-0.602837</td>\n",
              "      <td>0.284650</td>\n",
              "      <td>0.887276</td>\n",
              "      <td>-0.600000</td>\n",
              "      <td>1.0</td>\n",
              "    </tr>\n",
              "  </tbody>\n",
              "</table>\n",
              "</div>"
            ],
            "text/plain": [
              "       preg      plas      pres      skin  ...      mass      pedi       age  class\n",
              "0 -0.294118  0.487437  0.180328 -0.292929  ...  0.001490 -0.531170 -0.033333    1.0\n",
              "1 -0.882353 -0.145729  0.081967 -0.414141  ... -0.207154 -0.766866 -0.666667   -1.0\n",
              "2 -0.058824  0.839196  0.049180 -1.000000  ... -0.305514 -0.492741 -0.633333    1.0\n",
              "3 -0.882353 -0.105528  0.081967 -0.535354  ... -0.162444 -0.923997 -1.000000   -1.0\n",
              "4 -1.000000  0.376884 -0.344262 -0.292929  ...  0.284650  0.887276 -0.600000    1.0\n",
              "\n",
              "[5 rows x 9 columns]"
            ]
          },
          "metadata": {
            "tags": []
          },
          "execution_count": 120
        }
      ]
    },
    {
      "cell_type": "code",
      "metadata": {
        "colab": {
          "base_uri": "https://localhost:8080/",
          "height": 204
        },
        "id": "-Du89EeNWrKZ",
        "outputId": "e27fe51e-adc3-4bdb-9058-645a36e16b0f"
      },
      "source": [
        "df_train, df_test = split_df_to_train_val(diab_df, 0.7)\n",
        "y_train = df_train.pop('class')\n",
        "y_test = df_test.pop('class')\n",
        "\n",
        "df_train.head()"
      ],
      "execution_count": 121,
      "outputs": [
        {
          "output_type": "execute_result",
          "data": {
            "text/html": [
              "<div>\n",
              "<style scoped>\n",
              "    .dataframe tbody tr th:only-of-type {\n",
              "        vertical-align: middle;\n",
              "    }\n",
              "\n",
              "    .dataframe tbody tr th {\n",
              "        vertical-align: top;\n",
              "    }\n",
              "\n",
              "    .dataframe thead th {\n",
              "        text-align: right;\n",
              "    }\n",
              "</style>\n",
              "<table border=\"1\" class=\"dataframe\">\n",
              "  <thead>\n",
              "    <tr style=\"text-align: right;\">\n",
              "      <th></th>\n",
              "      <th>preg</th>\n",
              "      <th>plas</th>\n",
              "      <th>pres</th>\n",
              "      <th>skin</th>\n",
              "      <th>insu</th>\n",
              "      <th>mass</th>\n",
              "      <th>pedi</th>\n",
              "      <th>age</th>\n",
              "    </tr>\n",
              "  </thead>\n",
              "  <tbody>\n",
              "    <tr>\n",
              "      <th>0</th>\n",
              "      <td>-0.294118</td>\n",
              "      <td>0.487437</td>\n",
              "      <td>0.180328</td>\n",
              "      <td>-0.292929</td>\n",
              "      <td>-1.000000</td>\n",
              "      <td>0.001490</td>\n",
              "      <td>-0.531170</td>\n",
              "      <td>-0.033333</td>\n",
              "    </tr>\n",
              "    <tr>\n",
              "      <th>1</th>\n",
              "      <td>-0.882353</td>\n",
              "      <td>-0.145729</td>\n",
              "      <td>0.081967</td>\n",
              "      <td>-0.414141</td>\n",
              "      <td>-1.000000</td>\n",
              "      <td>-0.207154</td>\n",
              "      <td>-0.766866</td>\n",
              "      <td>-0.666667</td>\n",
              "    </tr>\n",
              "    <tr>\n",
              "      <th>2</th>\n",
              "      <td>-0.058824</td>\n",
              "      <td>0.839196</td>\n",
              "      <td>0.049180</td>\n",
              "      <td>-1.000000</td>\n",
              "      <td>-1.000000</td>\n",
              "      <td>-0.305514</td>\n",
              "      <td>-0.492741</td>\n",
              "      <td>-0.633333</td>\n",
              "    </tr>\n",
              "    <tr>\n",
              "      <th>3</th>\n",
              "      <td>-0.882353</td>\n",
              "      <td>-0.105528</td>\n",
              "      <td>0.081967</td>\n",
              "      <td>-0.535354</td>\n",
              "      <td>-0.777778</td>\n",
              "      <td>-0.162444</td>\n",
              "      <td>-0.923997</td>\n",
              "      <td>-1.000000</td>\n",
              "    </tr>\n",
              "    <tr>\n",
              "      <th>4</th>\n",
              "      <td>-1.000000</td>\n",
              "      <td>0.376884</td>\n",
              "      <td>-0.344262</td>\n",
              "      <td>-0.292929</td>\n",
              "      <td>-0.602837</td>\n",
              "      <td>0.284650</td>\n",
              "      <td>0.887276</td>\n",
              "      <td>-0.600000</td>\n",
              "    </tr>\n",
              "  </tbody>\n",
              "</table>\n",
              "</div>"
            ],
            "text/plain": [
              "       preg      plas      pres  ...      mass      pedi       age\n",
              "0 -0.294118  0.487437  0.180328  ...  0.001490 -0.531170 -0.033333\n",
              "1 -0.882353 -0.145729  0.081967  ... -0.207154 -0.766866 -0.666667\n",
              "2 -0.058824  0.839196  0.049180  ... -0.305514 -0.492741 -0.633333\n",
              "3 -0.882353 -0.105528  0.081967  ... -0.162444 -0.923997 -1.000000\n",
              "4 -1.000000  0.376884 -0.344262  ...  0.284650  0.887276 -0.600000\n",
              "\n",
              "[5 rows x 8 columns]"
            ]
          },
          "metadata": {
            "tags": []
          },
          "execution_count": 121
        }
      ]
    },
    {
      "cell_type": "code",
      "metadata": {
        "id": "q0dv1dvMkesv"
      },
      "source": [
        "# rf.fit(df_train, y_train)\n",
        "# rf.oob_score_\n",
        "\n",
        "# using cross-validation and grid-search\n",
        "\n",
        "# rf = RandomForestClassifier()\n",
        "# parameters = {\n",
        "#     'max_features': ('auto', 'sqrt', 10, 12, 20, 30),\n",
        "#     'max_depth': (5, 10, 15, None),\n",
        "#     'n_estimators': (100, 200, 500, 1000, 2000)\n",
        "# }\n",
        "# gs_rf = GridSearchCV(estimator=rf, param_grid=parameters, cv=5, n_jobs=-1, verbose=3)\n",
        "# gs_rf.fit(df_train, y_train)\n",
        "\n",
        "# joblib.dump(gs_rf, \"/content/gdrive/MyDrive/DL/Assignment_4/random_forest_diab.joblib\")"
      ],
      "execution_count": 122,
      "outputs": []
    },
    {
      "cell_type": "code",
      "metadata": {
        "id": "lFsUxTywGagL"
      },
      "source": [
        "gs_rf = joblib.load(\"/content/gdrive/MyDrive/DL/Assignment_4/random_forest_diab.joblib\")"
      ],
      "execution_count": 123,
      "outputs": []
    },
    {
      "cell_type": "code",
      "metadata": {
        "colab": {
          "base_uri": "https://localhost:8080/"
        },
        "id": "kDk6y8VAMQmk",
        "outputId": "e63222c3-660d-4227-cd5b-dfa38ca75d87"
      },
      "source": [
        "gs_rf.best_params_"
      ],
      "execution_count": 124,
      "outputs": [
        {
          "output_type": "execute_result",
          "data": {
            "text/plain": [
              "{'max_depth': 5, 'max_features': 'auto', 'n_estimators': 500}"
            ]
          },
          "metadata": {
            "tags": []
          },
          "execution_count": 124
        }
      ]
    },
    {
      "cell_type": "code",
      "metadata": {
        "colab": {
          "base_uri": "https://localhost:8080/"
        },
        "id": "XS3GNQNLTgxw",
        "outputId": "c1ef9ff4-cbd5-44e1-dfed-9c28e1e17ae4"
      },
      "source": [
        "gs_rf.best_score_"
      ],
      "execution_count": 125,
      "outputs": [
        {
          "output_type": "execute_result",
          "data": {
            "text/plain": [
              "0.7571794871794871"
            ]
          },
          "metadata": {
            "tags": []
          },
          "execution_count": 125
        }
      ]
    },
    {
      "cell_type": "code",
      "metadata": {
        "colab": {
          "base_uri": "https://localhost:8080/"
        },
        "id": "V9olZc8EmlH_",
        "outputId": "4cf5e1d4-f31a-4e86-b1e2-78306f4fc9d3"
      },
      "source": [
        "p = gs_rf.predict(df_test)\n",
        "confusion_matrix(y_test.values, p)"
      ],
      "execution_count": 126,
      "outputs": [
        {
          "output_type": "execute_result",
          "data": {
            "text/plain": [
              "array([[123,  19],\n",
              "       [ 30,  60]])"
            ]
          },
          "metadata": {
            "tags": []
          },
          "execution_count": 126
        }
      ]
    },
    {
      "cell_type": "code",
      "metadata": {
        "colab": {
          "base_uri": "https://localhost:8080/"
        },
        "id": "tB33XCTwnp2y",
        "outputId": "2ce66641-cfef-4453-f4e5-b54fcb3368aa"
      },
      "source": [
        "print(classification_report(y_test.values, p,labels=[1,-1]))"
      ],
      "execution_count": 127,
      "outputs": [
        {
          "output_type": "stream",
          "text": [
            "              precision    recall  f1-score   support\n",
            "\n",
            "           1       0.76      0.67      0.71        90\n",
            "          -1       0.80      0.87      0.83       142\n",
            "\n",
            "    accuracy                           0.79       232\n",
            "   macro avg       0.78      0.77      0.77       232\n",
            "weighted avg       0.79      0.79      0.79       232\n",
            "\n"
          ],
          "name": "stdout"
        }
      ]
    },
    {
      "cell_type": "code",
      "metadata": {
        "id": "Mm5gwJr9pmA4"
      },
      "source": [
        "# joblib.dump(gs_rf, \"/content/gdrive/MyDrive/DL/Assignment_4/random_forest_cred.joblib\")\n",
        "# gs_rf = joblib.load(\"/content/gdrive/MyDrive/DL/Assignment_4/random_forest_cred.joblib\")\n",
        "\n"
      ],
      "execution_count": 128,
      "outputs": []
    },
    {
      "cell_type": "code",
      "metadata": {
        "id": "I1rc_ONj6asZ"
      },
      "source": [
        "\n",
        "\n",
        "class GAN:\n",
        "\n",
        "    def __init__(self, black_box_model):\n",
        "        self.latent_dim = 10\n",
        "        self.generator_vector_size = 8\n",
        "        self.discriminator_input_shape = (self.generator_vector_size,)\n",
        "\n",
        "        self.generator = self.make_generator_model()\n",
        "        self.discriminator = self.make_discriminator_model()\n",
        "        self.gan = self.combime_gan(self.generator, self.discriminator)\n",
        "        # self.gs_rf = joblib.load(\"random_forest_diab.joblib\")\n",
        "        self.gs_rf = black_box_model\n",
        "\n",
        "\n",
        "    def combime_gan(self, g_model, d_model):\n",
        "        # make weights in the discriminator not trainable\n",
        "        d_model.trainable = False\n",
        "        g_input = Input(shape=(self.latent_dim,))\n",
        "        c_input = Input(shape=(1,))\n",
        "        batch_mean = Input(shape=(1,))\n",
        "        batch_std = Input(shape=(1,))  \n",
        "\n",
        "        g_sample = g_model([g_input, c_input, batch_mean, batch_std])\n",
        "        d_desision = d_model([g_sample, c_input, c_input, batch_mean, batch_std])\n",
        "        gan_model = Model([g_input, c_input, batch_mean, batch_std], d_desision)\n",
        "        opt = tf.keras.optimizers.Adam(lr=0.0002, beta_1=0.7)\n",
        "        # opt = tf.keras.optimizers.Adam(lr=0.0002, beta_1=0.95)\n",
        "        gan_model.compile(loss='binary_crossentropy', optimizer=opt, metrics=['accuracy'])\n",
        "        return gan_model\n",
        "\n",
        "    def make_generator_model(self):\n",
        "        c_input = Input(shape=(1,))\n",
        "        batch_mean = Input(shape=(1,))\n",
        "        batch_std = Input(shape=(1,))\n",
        "        concat_layer_batch = concatenate([c_input, batch_mean, batch_std])\n",
        "        # dense_batch = Dense(30, use_bias=True)(concat_layer_batch)\n",
        "        dense_batch = Dense(10, use_bias=True)(concat_layer_batch)\n",
        "        dense_batch_bn = BatchNormalization()(dense_batch)\n",
        "        dense_batch_lr = LeakyReLU()(dense_batch_bn)\n",
        "        dense_batch_do = Dropout(0.3)(dense_batch_lr)\n",
        "        # dense_batch_2 = Dense(15)(dense_batch_do)\n",
        "        dense_batch_2 = Dense(5)(dense_batch_do)\n",
        "        dense_batch_2_bn = BatchNormalization()(dense_batch_2)\n",
        "        dense_batch_2_lr = LeakyReLU()(dense_batch_2_bn)\n",
        "        dense_batch_2_do = Dropout(0.2)(dense_batch_2_lr)\n",
        "\n",
        "        input_noise = Input(shape=(self.latent_dim,))\n",
        "           \n",
        "        # concat_layer_c = concatenate([input_noise])\n",
        "        dense_1 = Dense(30, use_bias=True)(input_noise)\n",
        "        dense_1_bn = BatchNormalization()(dense_1)\n",
        "        dense_1_lr = LeakyReLU()(dense_1_bn)\n",
        "        dense_1_do = Dropout(0.2)(dense_1_lr)\n",
        "        dense_2 = Dense(15)(dense_1_do)\n",
        "        dense_2_bn = BatchNormalization()(dense_2)\n",
        "        dense_2_lr = LeakyReLU()(dense_2_bn)\n",
        "        dense_2_do = Dropout(0.2)(dense_2_lr)\n",
        "\n",
        "        merge_noise_meta = concatenate([dense_2_do, dense_batch_2_do])\n",
        "\n",
        "        final_layer = Dense(self.generator_vector_size, activation='tanh')(merge_noise_meta)\n",
        "        # concat_layer = concatenate([final_layer, c_input])\n",
        "        model = Model(inputs=[input_noise, c_input, batch_mean, batch_std], outputs=final_layer)\n",
        "\n",
        "        model.summary()\n",
        "        return model\n",
        "\n",
        "    def make_discriminator_model(self):\n",
        "\n",
        "        # input_sample = Input(shape=self.discriminator_input_shape,)\n",
        "        input_sample = Input(shape=self.discriminator_input_shape)\n",
        "        cy1_input = Input(shape=(1,))\n",
        "        cy2_input = Input(shape=(1,))\n",
        "        batch_mean = Input(shape=(1,))\n",
        "        batch_std = Input(shape=(1,))\n",
        "\n",
        "        concat_layer_c = concatenate([input_sample, cy1_input, cy2_input, batch_mean, batch_std])\n",
        "        dense_1 = Dense(32, use_bias=True)(concat_layer_c)\n",
        "        dense_1_lr = LeakyReLU()(dense_1)\n",
        "        dense_1_do = Dropout(0.2)(dense_1_lr)\n",
        "        dense_2 = Dense(16)(dense_1_do)\n",
        "        dense_2_lr = LeakyReLU()(dense_2)\n",
        "        dense_2_do = Dropout(0.2)(dense_2_lr)\n",
        "        flatten = Flatten()(dense_2_do)\n",
        "        final_layer = Dense(1, activation='sigmoid')(flatten)\n",
        "        model = Model(inputs=[input_sample, cy1_input, cy2_input, batch_mean, batch_std], outputs=final_layer)\n",
        "        # opt = tf.keras.optimizers.Adam(lr=0.00015, beta_1=0.5)\n",
        "        # opt = tf.keras.optimizers.Adam(lr=0.0002, beta_1=0.5) # not good \n",
        "        # opt = tf.keras.optimizers.Adam(lr=0.00015, beta_1=0.5) # good\n",
        "        # opt = tf.keras.optimizers.Adam(lr=0.00015, beta_1=0.9)\n",
        "        # opt = tf.keras.optimizers.Adam(lr=0.00015, beta_1=0.9,  beta_2=0.9) # good\n",
        "        # opt = tf.keras.optimizers.Adam(lr=0.00011, beta_1=0.9,  beta_2=0.9) # not good    \n",
        "        opt = tf.keras.optimizers.Adam(lr=0.00015, beta_1=0.5, beta_2=0.9) # very good for without cMean input\n",
        "        # opt = tf.keras.optimizers.Adam(lr=0.00015, beta_1=0.5, beta_2=0.8) # not good for with cMean input\n",
        "        # opt = tf.keras.optimizers.Adam(lr=0.00015, beta_1=0.5, beta_2=0.9) # + G Adam(lr=0.0002, beta_1=0.9)\n",
        "        # opt = tf.keras.optimizers.Adam(lr=0.0001, beta_1=0.5, beta_2=0.9) # + G Adam(lr=0.0002, beta_1=0.9)\n",
        "        model.compile(loss='binary_crossentropy', optimizer=opt, metrics=['accuracy'])\n",
        "        model.summary()\n",
        "        return model\n",
        "\n",
        "    def generate_real_x_y(self, n_samples: int) -> Tuple[np.ndarray, np.ndarray, np.ndarray, np.ndarray]:\n",
        "        # prepare samples\n",
        "        noise = np.random.uniform(-1, 1, size=(n_samples, self.latent_dim))\n",
        "        c_1 = np.random.random((n_samples, ))\n",
        "        c_1_mean = np.ones((n_samples,)) * np.mean(c_1)\n",
        "        c_1_std = np.ones((n_samples, )) * np.std(c_1)  \n",
        "        samples_1 = self.generator.predict([noise, c_1, c_1_mean, c_1_std])\n",
        "        y_1 = self.gs_rf.predict_proba(samples_1)[:, 0]\n",
        "        valid = np.ones((n_samples, 1))\n",
        "        return samples_1, c_1, y_1, valid\n",
        "\n",
        "    def generate_fake_x_y(self, n_samples: int) -> Tuple[np.ndarray, np.ndarray, np.ndarray, np.ndarray]:\n",
        "        noise = np.random.uniform(-1, 1, size=(n_samples, self.latent_dim))\n",
        "        c_2 = np.random.random((n_samples, ))\n",
        "        c_2_mean = np.ones((n_samples,)) * np.mean(c_2)\n",
        "        c_2_std = np.ones((n_samples, )) * np.std(c_2)    \n",
        "        samples_2 = self.generator.predict([noise, c_2, c_2_mean, c_2_std])\n",
        "        y_2 = self.gs_rf.predict_proba(samples_2)[:, 0]\n",
        "        invalid = np.zeros((n_samples, 1))\n",
        "        return samples_2, y_2, c_2, invalid\n",
        "\n",
        "    def train(self, epochs, batch_size=8):\n",
        "        # (X_train, _), (_, _) = mnist.load_data()\n",
        "        # X_train = X_train / 127.5 - 1.\n",
        "        # X_train = np.expand_dims(X_train, axis=3)\n",
        "        # X_train = df.values\n",
        "        valid = np.ones((batch_size, 1))\n",
        "        invalid = np.zeros((batch_size, 1))\n",
        "        valid_twice = np.ones((batch_size * 2, 1))\n",
        "        # fake = np.zeros((batch_size, 1))\n",
        "        d_losses = np.zeros((epochs, 1))\n",
        "        d_accuracies = np.zeros((epochs, 1))\n",
        "        d_fake_losses = np.zeros((epochs, 1))\n",
        "        d_fake_accuracies = np.zeros((epochs, 1))\n",
        "        d_real_losses = np.zeros((epochs, 1))\n",
        "        d_real_accuracies = np.zeros((epochs, 1))\n",
        "        g_losses = np.zeros((epochs, 1))\n",
        "        g_accuracies = np.zeros((epochs, 1))\n",
        "        best_epoch = 0\n",
        "\n",
        "        d_acc_delta_to_0_5 = 1\n",
        "        losses_delta = 1\n",
        "        real_2_fake_acc_delta = 1\n",
        "        for i, epoch in enumerate(range(epochs)):\n",
        "            # prepare samples\n",
        "            noise = np.random.uniform(-1, 1, size=(batch_size, self.latent_dim))\n",
        "            c_1 = np.random.random((batch_size, ))\n",
        "            c_1_mean = np.ones((batch_size,)) * np.mean(c_1)\n",
        "            c_1_std = np.ones((batch_size, )) * np.std(c_1)\n",
        "            samples_1 = self.generator.predict([noise, c_1, c_1_mean, c_1_std])\n",
        "               \n",
        "            y_1 = self.gs_rf.predict_proba(samples_1)[:, 0]  # evaluate Y via RF classifier take first column confidence\n",
        "            c_2 = np.random.random((batch_size, ))\n",
        "            c_2_mean = np.ones((batch_size,)) * np.mean(c_2)\n",
        "            c_2_std = np.ones((batch_size, )) * np.std(c_2)        \n",
        "            samples_2 = self.generator.predict([noise, c_2, c_2_mean, c_2_std])\n",
        "            y_2 = self.gs_rf.predict_proba(samples_2)[:, 0]  # evaluate Y via RF classifier take first column confidence\n",
        "\n",
        "            # create training set for the discriminator\n",
        "            # swapping places between 'y' and 'c' trains the Discriminator\n",
        "            # to realize that right hand side parameter is fake (and the opposite)\n",
        "            samples, c, y_bb = np.vstack((samples_1, samples_2)), np.concatenate((c_1, y_2), axis=None), np.concatenate((y_1, c_2), axis=None)\n",
        "            # samples, c, y_bb = np.vstack((samples_1, samples_2)), np.vstack((c_1, y_2)), np.vstack((y_1, c_2))\n",
        "            y_1_mean = np.ones((batch_size,)) * np.mean(y_1)\n",
        "            y_1_std = np.ones((batch_size, )) * np.std(y_1)\n",
        "            c_2_mean = np.ones((batch_size, )) * np.mean(c_2)\n",
        "            c_2_std = np.ones((batch_size, )) * np.std(c_2)\n",
        "            d_loss_half_real, d_acc_half_real = self.discriminator.train_on_batch([samples_1, c_1, y_1,  y_1_mean, y_1_std], valid)\n",
        "            d_loss_half_fake, d_acc_half_fake = self.discriminator.train_on_batch([samples_2, y_2, c_2, c_2_mean, c_2_std], invalid)\n",
        "            d_loss = 0.5 * (d_loss_half_real + d_loss_half_fake)\n",
        "            d_acc = 0.5 * (d_acc_half_real + d_acc_half_fake)\n",
        "\n",
        "            # update discriminator model weights\n",
        "            # d_loss, d_acc = self.discriminator.train_on_batch([samples, c, y_bb], np.vstack((valid, invalid)))\n",
        "\n",
        "            # evaluate discriminator on real examples\n",
        "            samples_real, c_real, y_bb_real, y_real = self.generate_real_x_y(batch_size)\n",
        "            y_bb_mean_real = np.ones((batch_size, )) * np.mean(y_bb_real)\n",
        "            y_bb_std_real = np.ones((batch_size, )) * np.std(y_bb_real)         \n",
        "            d_loss_real, d_acc_real = self.discriminator.evaluate([samples_real, c_real, y_bb_real, y_bb_mean_real, y_bb_std_real], y_real, verbose=0)\n",
        "            # evaluate discriminator on fake examples\n",
        "            samples_fake, c_fake, y_bb_fake, y_fake = self.generate_fake_x_y(batch_size)\n",
        "            y_bb_mean_fake = np.ones((batch_size, )) * np.mean(y_bb_fake)\n",
        "            y_bb_std_fake = np.ones((batch_size, )) * np.std(y_bb_fake)      \n",
        "            d_loss_fake, d_acc_fake = self.discriminator.evaluate([samples_fake, c_fake, y_bb_fake, y_bb_mean_fake, y_bb_std_fake], y_fake, verbose=0)\n",
        "\n",
        "            d_fake_losses[i] = d_loss_fake\n",
        "            d_real_losses[i] = d_loss_real\n",
        "            d_fake_accuracies[i] = d_acc_fake\n",
        "            d_real_accuracies[i] = d_acc_real\n",
        "\n",
        "            # create inverted labels for the fake samples so generator can improve to be 'real'\n",
        "            # update the generator via the discriminator's error\n",
        "            noise = np.random.uniform(-1, 1, size=(batch_size * 2, self.latent_dim))\n",
        "            # c = np.random.normal(0, 1, (batch_size * 2, ))\n",
        "            c = np.random.random((batch_size * 2, ))\n",
        "            c_mean = np.ones((batch_size * 2,)) * np.mean(c)\n",
        "            c_std = np.ones((batch_size * 2, )) * np.std(c)            \n",
        "            g_loss, g_acc = self.gan.train_on_batch([noise, c, c_mean, c_std], valid_twice)\n",
        "\n",
        "            d_losses[i] = d_loss\n",
        "            d_accuracies[i] = d_acc\n",
        "            g_losses[i] = g_loss\n",
        "            g_accuracies[i] = g_acc\n",
        "\n",
        "            if i % 50 == 0:\n",
        "                print(\"epoch %d [D loss: %f, acc.: %.2f%%] [G loss: %f, acc.: %.2f%%]\" % (epoch, d_loss, 100 * d_acc, g_loss, g_acc))\n",
        "                if 800 <= i:\n",
        "                    if abs(g_loss - d_loss) < 0.2: # check that losses converged\n",
        "                        if abs(d_acc - 0.5) < 0.2 and abs( d_acc_fake - d_acc_real) < 0.2 : # save generator model for closest to 0.5 accuracy\n",
        "                            # filename = 'generator_model.h5'\n",
        "                            filename = 'generator_model_%03d.h5' % epoch\n",
        "\n",
        "                            self.generator.save(filename)\n",
        "                            best_epoch = epoch       \n",
        "\n",
        "        print(f'Best epoch: {best_epoch}')\n",
        "        return d_losses, d_accuracies, g_losses, g_accuracies, d_fake_losses, d_real_losses, d_fake_accuracies, d_real_accuracies"
      ],
      "execution_count": 129,
      "outputs": []
    },
    {
      "cell_type": "code",
      "metadata": {
        "colab": {
          "base_uri": "https://localhost:8080/"
        },
        "id": "Zq2RyaE2VHCg",
        "outputId": "265e6e9a-0ba9-4a9b-8c15-9a56a5e16d6d"
      },
      "source": [
        "iterations = 3000\n",
        "gan = GAN(gs_rf)\n",
        "d_losses, d_accuracies, g_losses, g_accuracies, d_fake_losses, d_real_losses, d_fake_accuracies, d_real_accuracies = gan.train(epochs=iterations, batch_size=16)"
      ],
      "execution_count": 130,
      "outputs": [
        {
          "output_type": "stream",
          "text": [
            "Model: \"model_7\"\n",
            "__________________________________________________________________________________________________\n",
            "Layer (type)                    Output Shape         Param #     Connected to                     \n",
            "==================================================================================================\n",
            "input_33 (InputLayer)           [(None, 1)]          0                                            \n",
            "__________________________________________________________________________________________________\n",
            "input_34 (InputLayer)           [(None, 1)]          0                                            \n",
            "__________________________________________________________________________________________________\n",
            "input_35 (InputLayer)           [(None, 1)]          0                                            \n",
            "__________________________________________________________________________________________________\n",
            "input_36 (InputLayer)           [(None, 10)]         0                                            \n",
            "__________________________________________________________________________________________________\n",
            "concatenate_11 (Concatenate)    (None, 3)            0           input_33[0][0]                   \n",
            "                                                                 input_34[0][0]                   \n",
            "                                                                 input_35[0][0]                   \n",
            "__________________________________________________________________________________________________\n",
            "dense_23 (Dense)                (None, 30)           330         input_36[0][0]                   \n",
            "__________________________________________________________________________________________________\n",
            "dense_21 (Dense)                (None, 10)           40          concatenate_11[0][0]             \n",
            "__________________________________________________________________________________________________\n",
            "batch_normalization_14 (BatchNo (None, 30)           120         dense_23[0][0]                   \n",
            "__________________________________________________________________________________________________\n",
            "batch_normalization_12 (BatchNo (None, 10)           40          dense_21[0][0]                   \n",
            "__________________________________________________________________________________________________\n",
            "leaky_re_lu_18 (LeakyReLU)      (None, 30)           0           batch_normalization_14[0][0]     \n",
            "__________________________________________________________________________________________________\n",
            "leaky_re_lu_16 (LeakyReLU)      (None, 10)           0           batch_normalization_12[0][0]     \n",
            "__________________________________________________________________________________________________\n",
            "dropout_18 (Dropout)            (None, 30)           0           leaky_re_lu_18[0][0]             \n",
            "__________________________________________________________________________________________________\n",
            "dropout_16 (Dropout)            (None, 10)           0           leaky_re_lu_16[0][0]             \n",
            "__________________________________________________________________________________________________\n",
            "dense_24 (Dense)                (None, 15)           465         dropout_18[0][0]                 \n",
            "__________________________________________________________________________________________________\n",
            "dense_22 (Dense)                (None, 5)            55          dropout_16[0][0]                 \n",
            "__________________________________________________________________________________________________\n",
            "batch_normalization_15 (BatchNo (None, 15)           60          dense_24[0][0]                   \n",
            "__________________________________________________________________________________________________\n",
            "batch_normalization_13 (BatchNo (None, 5)            20          dense_22[0][0]                   \n",
            "__________________________________________________________________________________________________\n",
            "leaky_re_lu_19 (LeakyReLU)      (None, 15)           0           batch_normalization_15[0][0]     \n",
            "__________________________________________________________________________________________________\n",
            "leaky_re_lu_17 (LeakyReLU)      (None, 5)            0           batch_normalization_13[0][0]     \n",
            "__________________________________________________________________________________________________\n",
            "dropout_19 (Dropout)            (None, 15)           0           leaky_re_lu_19[0][0]             \n",
            "__________________________________________________________________________________________________\n",
            "dropout_17 (Dropout)            (None, 5)            0           leaky_re_lu_17[0][0]             \n",
            "__________________________________________________________________________________________________\n",
            "concatenate_12 (Concatenate)    (None, 20)           0           dropout_19[0][0]                 \n",
            "                                                                 dropout_17[0][0]                 \n",
            "__________________________________________________________________________________________________\n",
            "dense_25 (Dense)                (None, 8)            168         concatenate_12[0][0]             \n",
            "==================================================================================================\n",
            "Total params: 1,298\n",
            "Trainable params: 1,178\n",
            "Non-trainable params: 120\n",
            "__________________________________________________________________________________________________\n",
            "Model: \"model_8\"\n",
            "__________________________________________________________________________________________________\n",
            "Layer (type)                    Output Shape         Param #     Connected to                     \n",
            "==================================================================================================\n",
            "input_37 (InputLayer)           [(None, 8)]          0                                            \n",
            "__________________________________________________________________________________________________\n",
            "input_38 (InputLayer)           [(None, 1)]          0                                            \n",
            "__________________________________________________________________________________________________\n",
            "input_39 (InputLayer)           [(None, 1)]          0                                            \n",
            "__________________________________________________________________________________________________\n",
            "input_40 (InputLayer)           [(None, 1)]          0                                            \n",
            "__________________________________________________________________________________________________\n",
            "input_41 (InputLayer)           [(None, 1)]          0                                            \n",
            "__________________________________________________________________________________________________\n",
            "concatenate_13 (Concatenate)    (None, 12)           0           input_37[0][0]                   \n",
            "                                                                 input_38[0][0]                   \n",
            "                                                                 input_39[0][0]                   \n",
            "                                                                 input_40[0][0]                   \n",
            "                                                                 input_41[0][0]                   \n",
            "__________________________________________________________________________________________________\n",
            "dense_26 (Dense)                (None, 32)           416         concatenate_13[0][0]             \n",
            "__________________________________________________________________________________________________\n",
            "leaky_re_lu_20 (LeakyReLU)      (None, 32)           0           dense_26[0][0]                   \n",
            "__________________________________________________________________________________________________\n",
            "dropout_20 (Dropout)            (None, 32)           0           leaky_re_lu_20[0][0]             \n",
            "__________________________________________________________________________________________________\n",
            "dense_27 (Dense)                (None, 16)           528         dropout_20[0][0]                 \n",
            "__________________________________________________________________________________________________\n",
            "leaky_re_lu_21 (LeakyReLU)      (None, 16)           0           dense_27[0][0]                   \n",
            "__________________________________________________________________________________________________\n",
            "dropout_21 (Dropout)            (None, 16)           0           leaky_re_lu_21[0][0]             \n",
            "__________________________________________________________________________________________________\n",
            "flatten_2 (Flatten)             (None, 16)           0           dropout_21[0][0]                 \n",
            "__________________________________________________________________________________________________\n",
            "dense_28 (Dense)                (None, 1)            17          flatten_2[0][0]                  \n",
            "==================================================================================================\n",
            "Total params: 961\n",
            "Trainable params: 961\n",
            "Non-trainable params: 0\n",
            "__________________________________________________________________________________________________\n"
          ],
          "name": "stdout"
        },
        {
          "output_type": "stream",
          "text": [
            "/usr/local/lib/python3.7/dist-packages/tensorflow/python/keras/optimizer_v2/optimizer_v2.py:375: UserWarning: The `lr` argument is deprecated, use `learning_rate` instead.\n",
            "  \"The `lr` argument is deprecated, use `learning_rate` instead.\")\n"
          ],
          "name": "stderr"
        },
        {
          "output_type": "stream",
          "text": [
            "epoch 0 [D loss: 0.706936, acc.: 50.00%] [G loss: 0.953421, acc.: 0.06%]\n",
            "epoch 50 [D loss: 0.662803, acc.: 71.88%] [G loss: 0.875142, acc.: 0.12%]\n",
            "epoch 100 [D loss: 0.654997, acc.: 71.88%] [G loss: 0.786433, acc.: 0.25%]\n",
            "epoch 150 [D loss: 0.674189, acc.: 68.75%] [G loss: 0.767416, acc.: 0.34%]\n",
            "epoch 200 [D loss: 0.673311, acc.: 78.12%] [G loss: 0.820988, acc.: 0.28%]\n",
            "epoch 250 [D loss: 0.662824, acc.: 68.75%] [G loss: 0.759996, acc.: 0.41%]\n",
            "epoch 300 [D loss: 0.667281, acc.: 60.94%] [G loss: 0.697955, acc.: 0.47%]\n",
            "epoch 350 [D loss: 0.675039, acc.: 53.12%] [G loss: 0.739122, acc.: 0.41%]\n",
            "epoch 400 [D loss: 0.713685, acc.: 37.50%] [G loss: 0.736795, acc.: 0.47%]\n",
            "epoch 450 [D loss: 0.666468, acc.: 60.94%] [G loss: 0.713962, acc.: 0.56%]\n",
            "epoch 500 [D loss: 0.693075, acc.: 56.25%] [G loss: 0.681791, acc.: 0.47%]\n",
            "epoch 550 [D loss: 0.696063, acc.: 46.88%] [G loss: 0.706576, acc.: 0.41%]\n",
            "epoch 600 [D loss: 0.715160, acc.: 39.06%] [G loss: 0.729502, acc.: 0.41%]\n",
            "epoch 650 [D loss: 0.704624, acc.: 40.62%] [G loss: 0.713032, acc.: 0.44%]\n",
            "epoch 700 [D loss: 0.678647, acc.: 53.12%] [G loss: 0.707434, acc.: 0.56%]\n",
            "epoch 750 [D loss: 0.701199, acc.: 45.31%] [G loss: 0.739858, acc.: 0.44%]\n",
            "epoch 800 [D loss: 0.687377, acc.: 46.88%] [G loss: 0.719765, acc.: 0.47%]\n",
            "epoch 850 [D loss: 0.691955, acc.: 51.56%] [G loss: 0.718815, acc.: 0.47%]\n",
            "WARNING:tensorflow:Compiled the loaded model, but the compiled metrics have yet to be built. `model.compile_metrics` will be empty until you train or evaluate the model.\n",
            "epoch 900 [D loss: 0.650674, acc.: 65.62%] [G loss: 0.680156, acc.: 0.56%]\n",
            "epoch 950 [D loss: 0.672354, acc.: 62.50%] [G loss: 0.758223, acc.: 0.28%]\n",
            "epoch 1000 [D loss: 0.674860, acc.: 57.81%] [G loss: 0.723144, acc.: 0.47%]\n",
            "WARNING:tensorflow:Compiled the loaded model, but the compiled metrics have yet to be built. `model.compile_metrics` will be empty until you train or evaluate the model.\n",
            "epoch 1050 [D loss: 0.686113, acc.: 62.50%] [G loss: 0.725017, acc.: 0.41%]\n",
            "epoch 1100 [D loss: 0.654678, acc.: 64.06%] [G loss: 0.693341, acc.: 0.50%]\n",
            "epoch 1150 [D loss: 0.687376, acc.: 54.69%] [G loss: 0.684299, acc.: 0.56%]\n",
            "epoch 1200 [D loss: 0.669487, acc.: 64.06%] [G loss: 0.709253, acc.: 0.47%]\n",
            "epoch 1250 [D loss: 0.642552, acc.: 75.00%] [G loss: 0.772459, acc.: 0.19%]\n",
            "epoch 1300 [D loss: 0.656582, acc.: 60.94%] [G loss: 0.750304, acc.: 0.38%]\n",
            "WARNING:tensorflow:Compiled the loaded model, but the compiled metrics have yet to be built. `model.compile_metrics` will be empty until you train or evaluate the model.\n",
            "epoch 1350 [D loss: 0.656693, acc.: 65.62%] [G loss: 0.768168, acc.: 0.38%]\n",
            "WARNING:tensorflow:Compiled the loaded model, but the compiled metrics have yet to be built. `model.compile_metrics` will be empty until you train or evaluate the model.\n",
            "epoch 1400 [D loss: 0.591697, acc.: 84.38%] [G loss: 0.660200, acc.: 0.59%]\n",
            "epoch 1450 [D loss: 0.655149, acc.: 67.19%] [G loss: 0.802059, acc.: 0.22%]\n",
            "WARNING:tensorflow:Compiled the loaded model, but the compiled metrics have yet to be built. `model.compile_metrics` will be empty until you train or evaluate the model.\n",
            "epoch 1500 [D loss: 0.652458, acc.: 70.31%] [G loss: 0.773310, acc.: 0.34%]\n",
            "epoch 1550 [D loss: 0.652505, acc.: 60.94%] [G loss: 0.842892, acc.: 0.16%]\n",
            "WARNING:tensorflow:Compiled the loaded model, but the compiled metrics have yet to be built. `model.compile_metrics` will be empty until you train or evaluate the model.\n",
            "epoch 1600 [D loss: 0.647513, acc.: 64.06%] [G loss: 0.773924, acc.: 0.31%]\n",
            "WARNING:tensorflow:Compiled the loaded model, but the compiled metrics have yet to be built. `model.compile_metrics` will be empty until you train or evaluate the model.\n",
            "epoch 1650 [D loss: 0.648085, acc.: 70.31%] [G loss: 0.725961, acc.: 0.47%]\n",
            "epoch 1700 [D loss: 0.611918, acc.: 75.00%] [G loss: 0.822577, acc.: 0.22%]\n",
            "epoch 1750 [D loss: 0.605202, acc.: 79.69%] [G loss: 0.714007, acc.: 0.50%]\n",
            "epoch 1800 [D loss: 0.704962, acc.: 50.00%] [G loss: 0.838669, acc.: 0.16%]\n",
            "WARNING:tensorflow:Compiled the loaded model, but the compiled metrics have yet to be built. `model.compile_metrics` will be empty until you train or evaluate the model.\n",
            "epoch 1850 [D loss: 0.585397, acc.: 82.81%] [G loss: 0.825384, acc.: 0.22%]\n",
            "epoch 1900 [D loss: 0.632767, acc.: 68.75%] [G loss: 0.860405, acc.: 0.19%]\n",
            "epoch 1950 [D loss: 0.602983, acc.: 75.00%] [G loss: 0.809194, acc.: 0.19%]\n",
            "epoch 2000 [D loss: 0.512880, acc.: 96.88%] [G loss: 0.844266, acc.: 0.25%]\n",
            "epoch 2050 [D loss: 0.561404, acc.: 84.38%] [G loss: 0.782187, acc.: 0.38%]\n",
            "epoch 2100 [D loss: 0.534871, acc.: 85.94%] [G loss: 0.895152, acc.: 0.06%]\n",
            "epoch 2150 [D loss: 0.559090, acc.: 85.94%] [G loss: 0.797670, acc.: 0.28%]\n",
            "epoch 2200 [D loss: 0.572743, acc.: 78.12%] [G loss: 0.883866, acc.: 0.19%]\n",
            "epoch 2250 [D loss: 0.487367, acc.: 90.62%] [G loss: 0.836808, acc.: 0.22%]\n",
            "epoch 2300 [D loss: 0.454086, acc.: 98.44%] [G loss: 0.864066, acc.: 0.22%]\n",
            "epoch 2350 [D loss: 0.530721, acc.: 79.69%] [G loss: 1.022766, acc.: 0.12%]\n",
            "epoch 2400 [D loss: 0.504746, acc.: 89.06%] [G loss: 0.912227, acc.: 0.25%]\n",
            "epoch 2450 [D loss: 0.559136, acc.: 90.62%] [G loss: 0.943566, acc.: 0.16%]\n",
            "epoch 2500 [D loss: 0.452691, acc.: 90.62%] [G loss: 0.999841, acc.: 0.09%]\n",
            "epoch 2550 [D loss: 0.451834, acc.: 96.88%] [G loss: 1.113282, acc.: 0.12%]\n",
            "epoch 2600 [D loss: 0.410152, acc.: 96.88%] [G loss: 0.958485, acc.: 0.22%]\n",
            "epoch 2650 [D loss: 0.346029, acc.: 93.75%] [G loss: 1.078175, acc.: 0.06%]\n",
            "epoch 2700 [D loss: 0.310270, acc.: 96.88%] [G loss: 1.171940, acc.: 0.06%]\n",
            "epoch 2750 [D loss: 0.422405, acc.: 89.06%] [G loss: 1.128961, acc.: 0.06%]\n",
            "epoch 2800 [D loss: 0.360893, acc.: 90.62%] [G loss: 0.973877, acc.: 0.12%]\n",
            "epoch 2850 [D loss: 0.322020, acc.: 92.19%] [G loss: 1.201616, acc.: 0.12%]\n",
            "epoch 2900 [D loss: 0.375101, acc.: 95.31%] [G loss: 1.186119, acc.: 0.19%]\n",
            "epoch 2950 [D loss: 0.331808, acc.: 96.88%] [G loss: 1.240690, acc.: 0.12%]\n",
            "Best epoch: 1800\n"
          ],
          "name": "stdout"
        }
      ]
    },
    {
      "cell_type": "code",
      "metadata": {
        "colab": {
          "base_uri": "https://localhost:8080/",
          "height": 301
        },
        "id": "ZM9PERydwSj1",
        "outputId": "51e69fe9-2814-4196-c0a0-fbb79d91c926"
      },
      "source": [
        "from typing import List\n",
        "\n",
        "def plot_metric_general(graphs: List[np.ndarray], labels: List[str]) -> None:\n",
        "    import matplotlib.pyplot as plt\n",
        "    epochs = range(1, graphs[0].shape[0] + 1)\n",
        "    plt.xlabel(\"Iterations\")\n",
        "    plt.title('Gan')\n",
        "    for i in range(len(labels)):\n",
        "        plt.plot(epochs, graphs[i])\n",
        "    plt.legend(labels)\n",
        "    plt.show()\n",
        "\n",
        "def moving_average(x, w):\n",
        "    return np.convolve(x, np.ones(w), 'valid') / w\n",
        "\n",
        "d_losses_smooth, d_fake_accuracies_smooth, d_real_accuracies_smooth = moving_average(d_losses.reshape((iterations)), 5), moving_average(d_fake_accuracies.reshape((iterations)), 5), moving_average(d_real_accuracies.reshape((iterations)), 5)\n",
        "\n",
        "plot_metric_general([d_losses_smooth, d_fake_accuracies_smooth, d_real_accuracies_smooth], ['d_losses_smooth', 'd_fake_accuracies_smooth', 'd_real_accuracies_smooth'])\n",
        "# plot_metric_general([d_losses, d_accuracies, g_losses, g_accuracies], ['d_losses', 'd_accuracies', 'g_losses', 'g_accuracies']) \n",
        "# we can see aroud 800 epochs d_fake_accuracies=d_real_accuracies=0.5 and after that it degragates "
      ],
      "execution_count": 131,
      "outputs": [
        {
          "output_type": "display_data",
          "data": {
            "image/png": "[encoded data removed]",
            "text/plain": [
              "<Figure size 432x288 with 1 Axes>"
            ]
          },
          "metadata": {
            "tags": []
          }
        }
      ]
    },
    {
      "cell_type": "code",
      "metadata": {
        "colab": {
          "base_uri": "https://localhost:8080/",
          "height": 301
        },
        "id": "Ix6EuTBrIWmd",
        "outputId": "9b2768ee-5adf-45b4-c914-90a3de9e8f55"
      },
      "source": [
        "d_losses_smooth, d_accuracies_smooth, g_losses_smooth, g_accuracies_smooth = moving_average(d_losses.reshape((iterations)), 5), moving_average(d_accuracies.reshape((iterations)), 5), moving_average(g_losses.reshape((iterations)), 5), moving_average(g_accuracies.reshape((iterations)), 5)\n",
        "\n",
        "plot_metric_general([d_losses_smooth, d_accuracies_smooth, g_losses_smooth], ['d_losses_smooth', 'd_accuracies_smooth', 'g_losses_smooth'])"
      ],
      "execution_count": 132,
      "outputs": [
        {
          "output_type": "display_data",
          "data": {
            "image/png": "[encoded data removed]",
            "text/plain": [
              "<Figure size 432x288 with 1 Axes>"
            ]
          },
          "metadata": {
            "tags": []
          }
        }
      ]
    },
    {
      "cell_type": "code",
      "metadata": {
        "id": "waAGk29Rxq3N"
      },
      "source": [
        "import seaborn as sns\n",
        "sns.set_theme()"
      ],
      "execution_count": 133,
      "outputs": []
    },
    {
      "cell_type": "code",
      "metadata": {
        "colab": {
          "base_uri": "https://localhost:8080/",
          "height": 382
        },
        "id": "nisaRy3kz1J8",
        "outputId": "c127396b-7c8b-425c-c62b-a65f6ea63ff6"
      },
      "source": [
        "p_proba = gs_rf.predict_proba(df_test)[:,0]\n",
        "sns.displot(p_proba, bins=10)\n",
        "print(f'min {min(p_proba)}, max {max(p_proba)}, avg {sum(p_proba)/len(p_proba)}')"
      ],
      "execution_count": 134,
      "outputs": [
        {
          "output_type": "stream",
          "text": [
            "min 0.11971331624786395, max 0.9807541629190631, avg 0.6139337177018638\n"
          ],
          "name": "stdout"
        },
        {
          "output_type": "display_data",
          "data": {
            "image/png": "[encoded data removed]",
            "text/plain": [
              "<Figure size 360x360 with 1 Axes>"
            ]
          },
          "metadata": {
            "tags": []
          }
        }
      ]
    },
    {
      "cell_type": "code",
      "metadata": {
        "id": "XBnJB1i0Iqun"
      },
      "source": [
        "def test_spesific_confidence_range(low, high):\n",
        "  import math\n",
        "  smaples_len = 1000\n",
        "  noise = np.random.uniform(-1, 1, size=(smaples_len, 10))\n",
        "  c = np.random.uniform(low, high, size=(smaples_len, ))\n",
        "  loaded_generator = tf.keras.models.load_model('generator_model_850.h5')\n",
        "  # samples = gan.generator.predict([noise, c])\n",
        "  c_mean = np.ones((smaples_len ,)) * np.mean(c)\n",
        "  # c_mean = np.ones((smaples_len ,)) * 0.5\n",
        "  c_std = np.ones((smaples_len , )) * np.std(c)  \n",
        "  # c_std = np.ones((smaples_len , )) * 1.0 / math.sqrt(12)   \n",
        "  samples = loaded_generator.predict([noise, c, c_mean, c_std])\n",
        "  p_proba_s = gs_rf.predict_proba(samples)[:,0]\n",
        "  sns.displot(p_proba_s, bins=10)\n",
        "  print(f'min {min(p_proba_s)}, max {max(p_proba_s)}, avg {sum(p_proba_s)/len(p_proba_s)}')"
      ],
      "execution_count": 151,
      "outputs": []
    },
    {
      "cell_type": "code",
      "metadata": {
        "colab": {
          "base_uri": "https://localhost:8080/",
          "height": 399
        },
        "id": "CTVJNmZqI8Cd",
        "outputId": "527088af-bc9d-4026-e242-6e2159261df0"
      },
      "source": [
        "test_spesific_confidence_range(0.0, 1.0)"
      ],
      "execution_count": 152,
      "outputs": [
        {
          "output_type": "stream",
          "text": [
            "WARNING:tensorflow:No training configuration found in the save file, so the model was *not* compiled. Compile it manually.\n",
            "min 0.19309119526281981, max 0.800632437644736, avg 0.5597271064292095\n"
          ],
          "name": "stdout"
        },
        {
          "output_type": "display_data",
          "data": {
            "image/png": "[encoded data removed]",
            "text/plain": [
              "<Figure size 360x360 with 1 Axes>"
            ]
          },
          "metadata": {
            "tags": []
          }
        }
      ]
    },
    {
      "cell_type": "code",
      "metadata": {
        "colab": {
          "base_uri": "https://localhost:8080/",
          "height": 399
        },
        "id": "yemGIruTI86w",
        "outputId": "da49e43e-12d6-4e36-87fd-5e9eb318d9d0"
      },
      "source": [
        "test_spesific_confidence_range(0.1, 0.3)"
      ],
      "execution_count": 158,
      "outputs": [
        {
          "output_type": "stream",
          "text": [
            "WARNING:tensorflow:No training configuration found in the save file, so the model was *not* compiled. Compile it manually.\n",
            "min 0.2652433603882145, max 0.42193232216966026, avg 0.3331665963548579\n"
          ],
          "name": "stdout"
        },
        {
          "output_type": "display_data",
          "data": {
            "image/png": "[encoded data removed]",
            "text/plain": [
              "<Figure size 360x360 with 1 Axes>"
            ]
          },
          "metadata": {
            "tags": []
          }
        }
      ]
    },
    {
      "cell_type": "code",
      "metadata": {
        "colab": {
          "base_uri": "https://localhost:8080/",
          "height": 399
        },
        "id": "5q5Ucox0I9Pd",
        "outputId": "3b598779-b4d0-4c8c-de1a-df75b5292ac2"
      },
      "source": [
        "test_spesific_confidence_range(0.3, 0.7)"
      ],
      "execution_count": 166,
      "outputs": [
        {
          "output_type": "stream",
          "text": [
            "WARNING:tensorflow:No training configuration found in the save file, so the model was *not* compiled. Compile it manually.\n",
            "min 0.21771024648311954, max 0.8039810668133385, avg 0.5068170703235597\n"
          ],
          "name": "stdout"
        },
        {
          "output_type": "display_data",
          "data": {
            "image/png": "[encoded data removed]",
            "text/plain": [
              "<Figure size 360x360 with 1 Axes>"
            ]
          },
          "metadata": {
            "tags": []
          }
        }
      ]
    },
    {
      "cell_type": "code",
      "metadata": {
        "colab": {
          "base_uri": "https://localhost:8080/",
          "height": 399
        },
        "id": "HFlMRpq-I9cF",
        "outputId": "76af9aac-cf89-47ac-bd26-af006f94242e"
      },
      "source": [
        "test_spesific_confidence_range(0.7, 0.9)"
      ],
      "execution_count": 163,
      "outputs": [
        {
          "output_type": "stream",
          "text": [
            "WARNING:tensorflow:No training configuration found in the save file, so the model was *not* compiled. Compile it manually.\n",
            "min 0.39564308347036076, max 0.7610682346164868, avg 0.6453961397658854\n"
          ],
          "name": "stdout"
        },
        {
          "output_type": "display_data",
          "data": {
            "image/png": "[encoded data removed]",
            "text/plain": [
              "<Figure size 360x360 with 1 Axes>"
            ]
          },
          "metadata": {
            "tags": []
          }
        }
      ]
    },
    {
      "cell_type": "code",
      "metadata": {
        "id": "kR4uBLaCWUBY"
      },
      "source": [
        "# smaples_len = 1000\n",
        "# noise = np.random.uniform(-1, 1, size=(smaples_len, 10))\n",
        "# c = np.random.uniform(size=(smaples_len, ))\n",
        "# loaded_generator = tf.keras.models.load_model('generator_model_2200.h5')\n",
        "# # samples = gan.generator.predict([noise, c])\n",
        "# samples = loaded_generator.predict([noise, c])"
      ],
      "execution_count": 140,
      "outputs": []
    },
    {
      "cell_type": "code",
      "metadata": {
        "id": "2mdS8RbCWUFG"
      },
      "source": [
        "# p_proba_s = gs_rf.predict_proba(samples)[:,0]\n",
        "# sns.displot(p_proba_s, bins=10)"
      ],
      "execution_count": 141,
      "outputs": []
    },
    {
      "cell_type": "code",
      "metadata": {
        "id": "KcX8i-2g1Ebu"
      },
      "source": [
        "# def test_spesific_confidence_range(low, high):\n",
        "#   smaples_len = 1000\n",
        "#   noise = np.random.uniform(-1, 1, size=(smaples_len, 10))\n",
        "#   c = np.random.uniform(low, high, size=(smaples_len, ))\n",
        "#   loaded_generator = tf.keras.models.load_model('generator_model_2500.h5')\n",
        "#   # samples = gan.generator.predict([noise, c])\n",
        "#   samples = loaded_generator.predict([noise, c])\n",
        " \n",
        "#   p_proba_s = gs_rf.predict_proba(samples)[:,0]\n",
        "#   sns.displot(p_proba_s, bins=10)\n",
        "#   print(f'min {min(p_proba_s)}, max {max(p_proba_s)}, avg {sum(p_proba_s)/len(p_proba_s)}')"
      ],
      "execution_count": 142,
      "outputs": []
    },
    {
      "cell_type": "code",
      "metadata": {
        "id": "1SOm870TGi1K"
      },
      "source": [
        "# test_spesific_confidence_range(0.1, 0.3)"
      ],
      "execution_count": 143,
      "outputs": []
    },
    {
      "cell_type": "code",
      "metadata": {
        "id": "TRL8Lj9oy0DN"
      },
      "source": [
        "# will be a little bit hard to explain... the distribution is not the same at all.\n",
        "# got various different results from a couple of runs\n",
        "# for sure one of the other architecures will give a better results"
      ],
      "execution_count": 144,
      "outputs": []
    }
  ]
}