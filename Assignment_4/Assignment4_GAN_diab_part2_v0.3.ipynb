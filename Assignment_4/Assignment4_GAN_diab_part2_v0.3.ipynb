{
  "nbformat": 4,
  "nbformat_minor": 0,
  "metadata": {
    "colab": {
      "name": "Assignment4_GAN_diab_part2_v0.4.ipynb",
      "provenance": [],
      "collapsed_sections": []
    },
    "kernelspec": {
      "name": "python3",
      "display_name": "Python 3"
    },
    "language_info": {
      "name": "python"
    },
    "accelerator": "GPU"
  },
  "cells": [
    {
      "cell_type": "code",
      "metadata": {
        "id": "4kmcxRzCD1nh"
      },
      "source": [
        "import pandas as pd\n",
        "import numpy as np\n",
        "from scipy.io import arff\n",
        "import tensorflow as tf\n",
        "from tensorflow.keras import layers, backend \n",
        "from sklearn.ensemble import RandomForestClassifier\n",
        "from sklearn.metrics import confusion_matrix\n",
        "from sklearn.metrics import classification_report\n",
        "from sklearn.model_selection import GridSearchCV\n",
        "from keras.models import Sequential, Model\n",
        "from keras.layers import Dense, Dropout, Input, concatenate, BatchNormalization, LeakyReLU, Flatten\n",
        "import joblib\n",
        "\n",
        "import time\n",
        "from typing import Tuple, List\n",
        "from sklearn.preprocessing import OneHotEncoder, MinMaxScaler"
      ],
      "execution_count": 1,
      "outputs": []
    },
    {
      "cell_type": "code",
      "metadata": {
        "colab": {
          "base_uri": "https://localhost:8080/"
        },
        "id": "cicvn2rxESII",
        "outputId": "a82b7d04-faa1-4087-e9b4-72ce38bb4aca"
      },
      "source": [
        "from google.colab import drive \n",
        "drive.mount('/content/gdrive')"
      ],
      "execution_count": 2,
      "outputs": [
        {
          "output_type": "stream",
          "text": [
            "Mounted at /content/gdrive\n"
          ],
          "name": "stdout"
        }
      ]
    },
    {
      "cell_type": "code",
      "metadata": {
        "id": "ORwi0IQ3WksA"
      },
      "source": [
        "def split_df_to_train_val(df, ratio):\n",
        "    mask = np.random.rand(len(df)) < ratio\n",
        "    df_train = df[mask]\n",
        "    df_val = df[~mask]\n",
        "    return df_train, df_val"
      ],
      "execution_count": 3,
      "outputs": []
    },
    {
      "cell_type": "code",
      "metadata": {
        "colab": {
          "base_uri": "https://localhost:8080/",
          "height": 204
        },
        "id": "63ihYoNGWGIQ",
        "outputId": "2423859d-78d8-4c1d-a6c8-8c63a6c4cc0e"
      },
      "source": [
        "diab_arf = arff.loadarff('gdrive/MyDrive/DL/Assignment_4/diabetes.arff')\n",
        "diab_df = pd.DataFrame(diab_arf[0])\n",
        "diab_df.replace(to_replace=b'tested_negative', value=-1, inplace=True)\n",
        "diab_df.replace(to_replace=b'tested_positive', value=1, inplace=True)\n",
        "# the values must be scaled to the range [-1,1] to match the output of the generator model\n",
        "def scaler(df):\n",
        "  for column in df:\n",
        "    max = df[column].max()\n",
        "    min = df[column].min()\n",
        "    col = 2*((df[column] - min)/(max - min)) - 1\n",
        "    df[column] = col\n",
        "  return df\n",
        "diab_df = scaler(diab_df)\n",
        "diab_df.head()"
      ],
      "execution_count": 4,
      "outputs": [
        {
          "output_type": "execute_result",
          "data": {
            "text/html": [
              "<div>\n",
              "<style scoped>\n",
              "    .dataframe tbody tr th:only-of-type {\n",
              "        vertical-align: middle;\n",
              "    }\n",
              "\n",
              "    .dataframe tbody tr th {\n",
              "        vertical-align: top;\n",
              "    }\n",
              "\n",
              "    .dataframe thead th {\n",
              "        text-align: right;\n",
              "    }\n",
              "</style>\n",
              "<table border=\"1\" class=\"dataframe\">\n",
              "  <thead>\n",
              "    <tr style=\"text-align: right;\">\n",
              "      <th></th>\n",
              "      <th>preg</th>\n",
              "      <th>plas</th>\n",
              "      <th>pres</th>\n",
              "      <th>skin</th>\n",
              "      <th>insu</th>\n",
              "      <th>mass</th>\n",
              "      <th>pedi</th>\n",
              "      <th>age</th>\n",
              "      <th>class</th>\n",
              "    </tr>\n",
              "  </thead>\n",
              "  <tbody>\n",
              "    <tr>\n",
              "      <th>0</th>\n",
              "      <td>-0.294118</td>\n",
              "      <td>0.487437</td>\n",
              "      <td>0.180328</td>\n",
              "      <td>-0.292929</td>\n",
              "      <td>-1.000000</td>\n",
              "      <td>0.001490</td>\n",
              "      <td>-0.531170</td>\n",
              "      <td>-0.033333</td>\n",
              "      <td>1.0</td>\n",
              "    </tr>\n",
              "    <tr>\n",
              "      <th>1</th>\n",
              "      <td>-0.882353</td>\n",
              "      <td>-0.145729</td>\n",
              "      <td>0.081967</td>\n",
              "      <td>-0.414141</td>\n",
              "      <td>-1.000000</td>\n",
              "      <td>-0.207154</td>\n",
              "      <td>-0.766866</td>\n",
              "      <td>-0.666667</td>\n",
              "      <td>-1.0</td>\n",
              "    </tr>\n",
              "    <tr>\n",
              "      <th>2</th>\n",
              "      <td>-0.058824</td>\n",
              "      <td>0.839196</td>\n",
              "      <td>0.049180</td>\n",
              "      <td>-1.000000</td>\n",
              "      <td>-1.000000</td>\n",
              "      <td>-0.305514</td>\n",
              "      <td>-0.492741</td>\n",
              "      <td>-0.633333</td>\n",
              "      <td>1.0</td>\n",
              "    </tr>\n",
              "    <tr>\n",
              "      <th>3</th>\n",
              "      <td>-0.882353</td>\n",
              "      <td>-0.105528</td>\n",
              "      <td>0.081967</td>\n",
              "      <td>-0.535354</td>\n",
              "      <td>-0.777778</td>\n",
              "      <td>-0.162444</td>\n",
              "      <td>-0.923997</td>\n",
              "      <td>-1.000000</td>\n",
              "      <td>-1.0</td>\n",
              "    </tr>\n",
              "    <tr>\n",
              "      <th>4</th>\n",
              "      <td>-1.000000</td>\n",
              "      <td>0.376884</td>\n",
              "      <td>-0.344262</td>\n",
              "      <td>-0.292929</td>\n",
              "      <td>-0.602837</td>\n",
              "      <td>0.284650</td>\n",
              "      <td>0.887276</td>\n",
              "      <td>-0.600000</td>\n",
              "      <td>1.0</td>\n",
              "    </tr>\n",
              "  </tbody>\n",
              "</table>\n",
              "</div>"
            ],
            "text/plain": [
              "       preg      plas      pres      skin  ...      mass      pedi       age  class\n",
              "0 -0.294118  0.487437  0.180328 -0.292929  ...  0.001490 -0.531170 -0.033333    1.0\n",
              "1 -0.882353 -0.145729  0.081967 -0.414141  ... -0.207154 -0.766866 -0.666667   -1.0\n",
              "2 -0.058824  0.839196  0.049180 -1.000000  ... -0.305514 -0.492741 -0.633333    1.0\n",
              "3 -0.882353 -0.105528  0.081967 -0.535354  ... -0.162444 -0.923997 -1.000000   -1.0\n",
              "4 -1.000000  0.376884 -0.344262 -0.292929  ...  0.284650  0.887276 -0.600000    1.0\n",
              "\n",
              "[5 rows x 9 columns]"
            ]
          },
          "metadata": {
            "tags": []
          },
          "execution_count": 4
        }
      ]
    },
    {
      "cell_type": "code",
      "metadata": {
        "colab": {
          "base_uri": "https://localhost:8080/",
          "height": 204
        },
        "id": "-Du89EeNWrKZ",
        "outputId": "e2ac158d-c1c9-41cd-c78f-1e5cda84cf6c"
      },
      "source": [
        "df_train, df_test = split_df_to_train_val(diab_df, 0.7)\n",
        "y_train = df_train.pop('class')\n",
        "y_test = df_test.pop('class')\n",
        "\n",
        "df_train.head()"
      ],
      "execution_count": 5,
      "outputs": [
        {
          "output_type": "execute_result",
          "data": {
            "text/html": [
              "<div>\n",
              "<style scoped>\n",
              "    .dataframe tbody tr th:only-of-type {\n",
              "        vertical-align: middle;\n",
              "    }\n",
              "\n",
              "    .dataframe tbody tr th {\n",
              "        vertical-align: top;\n",
              "    }\n",
              "\n",
              "    .dataframe thead th {\n",
              "        text-align: right;\n",
              "    }\n",
              "</style>\n",
              "<table border=\"1\" class=\"dataframe\">\n",
              "  <thead>\n",
              "    <tr style=\"text-align: right;\">\n",
              "      <th></th>\n",
              "      <th>preg</th>\n",
              "      <th>plas</th>\n",
              "      <th>pres</th>\n",
              "      <th>skin</th>\n",
              "      <th>insu</th>\n",
              "      <th>mass</th>\n",
              "      <th>pedi</th>\n",
              "      <th>age</th>\n",
              "    </tr>\n",
              "  </thead>\n",
              "  <tbody>\n",
              "    <tr>\n",
              "      <th>0</th>\n",
              "      <td>-0.294118</td>\n",
              "      <td>0.487437</td>\n",
              "      <td>0.180328</td>\n",
              "      <td>-0.292929</td>\n",
              "      <td>-1.000000</td>\n",
              "      <td>0.001490</td>\n",
              "      <td>-0.531170</td>\n",
              "      <td>-0.033333</td>\n",
              "    </tr>\n",
              "    <tr>\n",
              "      <th>2</th>\n",
              "      <td>-0.058824</td>\n",
              "      <td>0.839196</td>\n",
              "      <td>0.049180</td>\n",
              "      <td>-1.000000</td>\n",
              "      <td>-1.000000</td>\n",
              "      <td>-0.305514</td>\n",
              "      <td>-0.492741</td>\n",
              "      <td>-0.633333</td>\n",
              "    </tr>\n",
              "    <tr>\n",
              "      <th>3</th>\n",
              "      <td>-0.882353</td>\n",
              "      <td>-0.105528</td>\n",
              "      <td>0.081967</td>\n",
              "      <td>-0.535354</td>\n",
              "      <td>-0.777778</td>\n",
              "      <td>-0.162444</td>\n",
              "      <td>-0.923997</td>\n",
              "      <td>-1.000000</td>\n",
              "    </tr>\n",
              "    <tr>\n",
              "      <th>4</th>\n",
              "      <td>-1.000000</td>\n",
              "      <td>0.376884</td>\n",
              "      <td>-0.344262</td>\n",
              "      <td>-0.292929</td>\n",
              "      <td>-0.602837</td>\n",
              "      <td>0.284650</td>\n",
              "      <td>0.887276</td>\n",
              "      <td>-0.600000</td>\n",
              "    </tr>\n",
              "    <tr>\n",
              "      <th>5</th>\n",
              "      <td>-0.411765</td>\n",
              "      <td>0.165829</td>\n",
              "      <td>0.213115</td>\n",
              "      <td>-1.000000</td>\n",
              "      <td>-1.000000</td>\n",
              "      <td>-0.236960</td>\n",
              "      <td>-0.894962</td>\n",
              "      <td>-0.700000</td>\n",
              "    </tr>\n",
              "  </tbody>\n",
              "</table>\n",
              "</div>"
            ],
            "text/plain": [
              "       preg      plas      pres  ...      mass      pedi       age\n",
              "0 -0.294118  0.487437  0.180328  ...  0.001490 -0.531170 -0.033333\n",
              "2 -0.058824  0.839196  0.049180  ... -0.305514 -0.492741 -0.633333\n",
              "3 -0.882353 -0.105528  0.081967  ... -0.162444 -0.923997 -1.000000\n",
              "4 -1.000000  0.376884 -0.344262  ...  0.284650  0.887276 -0.600000\n",
              "5 -0.411765  0.165829  0.213115  ... -0.236960 -0.894962 -0.700000\n",
              "\n",
              "[5 rows x 8 columns]"
            ]
          },
          "metadata": {
            "tags": []
          },
          "execution_count": 5
        }
      ]
    },
    {
      "cell_type": "code",
      "metadata": {
        "id": "q0dv1dvMkesv"
      },
      "source": [
        "# rf.fit(df_train, y_train)\n",
        "# rf.oob_score_\n",
        "\n",
        "# using cross-validation and grid-search\n",
        "\n",
        "# rf = RandomForestClassifier()\n",
        "# parameters = {\n",
        "#     'max_features': ('auto', 'sqrt', 10, 12, 20, 30),\n",
        "#     'max_depth': (5, 10, 15, None),\n",
        "#     'n_estimators': (100, 200, 500, 1000, 2000)\n",
        "# }\n",
        "# gs_rf = GridSearchCV(estimator=rf, param_grid=parameters, cv=5, n_jobs=-1, verbose=3)\n",
        "# gs_rf.fit(df_train, y_train)\n",
        "\n",
        "# joblib.dump(gs_rf, \"/content/gdrive/MyDrive/DL/Assignment_4/random_forest_diab.joblib\")"
      ],
      "execution_count": 6,
      "outputs": []
    },
    {
      "cell_type": "code",
      "metadata": {
        "id": "lFsUxTywGagL"
      },
      "source": [
        "gs_rf = joblib.load(\"/content/gdrive/MyDrive/DL/Assignment_4/random_forest_diab.joblib\")"
      ],
      "execution_count": 7,
      "outputs": []
    },
    {
      "cell_type": "code",
      "metadata": {
        "colab": {
          "base_uri": "https://localhost:8080/"
        },
        "id": "kDk6y8VAMQmk",
        "outputId": "032e5613-fb08-4703-9d5f-3f7dba674b21"
      },
      "source": [
        "gs_rf.best_params_"
      ],
      "execution_count": 8,
      "outputs": [
        {
          "output_type": "execute_result",
          "data": {
            "text/plain": [
              "{'max_depth': 5, 'max_features': 'auto', 'n_estimators': 500}"
            ]
          },
          "metadata": {
            "tags": []
          },
          "execution_count": 8
        }
      ]
    },
    {
      "cell_type": "code",
      "metadata": {
        "colab": {
          "base_uri": "https://localhost:8080/"
        },
        "id": "XS3GNQNLTgxw",
        "outputId": "d5bc3c81-b374-4f43-a7f9-5515c490359b"
      },
      "source": [
        "gs_rf.best_score_"
      ],
      "execution_count": 9,
      "outputs": [
        {
          "output_type": "execute_result",
          "data": {
            "text/plain": [
              "0.7571794871794871"
            ]
          },
          "metadata": {
            "tags": []
          },
          "execution_count": 9
        }
      ]
    },
    {
      "cell_type": "code",
      "metadata": {
        "colab": {
          "base_uri": "https://localhost:8080/"
        },
        "id": "V9olZc8EmlH_",
        "outputId": "60b7beb8-bed5-4699-a389-a8bc5abbd07e"
      },
      "source": [
        "p = gs_rf.predict(df_test)\n",
        "confusion_matrix(y_test.values, p)"
      ],
      "execution_count": 10,
      "outputs": [
        {
          "output_type": "execute_result",
          "data": {
            "text/plain": [
              "array([[153,  17],\n",
              "       [ 20,  41]])"
            ]
          },
          "metadata": {
            "tags": []
          },
          "execution_count": 10
        }
      ]
    },
    {
      "cell_type": "code",
      "metadata": {
        "colab": {
          "base_uri": "https://localhost:8080/"
        },
        "id": "tB33XCTwnp2y",
        "outputId": "de2629e0-0cd5-4fce-b4b2-b89e63ed4129"
      },
      "source": [
        "print(classification_report(y_test.values, p,labels=[1,-1]))"
      ],
      "execution_count": 11,
      "outputs": [
        {
          "output_type": "stream",
          "text": [
            "              precision    recall  f1-score   support\n",
            "\n",
            "           1       0.71      0.67      0.69        61\n",
            "          -1       0.88      0.90      0.89       170\n",
            "\n",
            "    accuracy                           0.84       231\n",
            "   macro avg       0.80      0.79      0.79       231\n",
            "weighted avg       0.84      0.84      0.84       231\n",
            "\n"
          ],
          "name": "stdout"
        }
      ]
    },
    {
      "cell_type": "code",
      "metadata": {
        "id": "Mm5gwJr9pmA4"
      },
      "source": [
        "# joblib.dump(gs_rf, \"/content/gdrive/MyDrive/DL/Assignment_4/random_forest_cred.joblib\")\n",
        "# gs_rf = joblib.load(\"/content/gdrive/MyDrive/DL/Assignment_4/random_forest_cred.joblib\")\n",
        "\n"
      ],
      "execution_count": 12,
      "outputs": []
    },
    {
      "cell_type": "code",
      "metadata": {
        "id": "I1rc_ONj6asZ"
      },
      "source": [
        "\n",
        "\n",
        "class GAN:\n",
        "\n",
        "    def __init__(self, black_box_model):\n",
        "        self.latent_dim = 10\n",
        "        self.generator_vector_size = 8\n",
        "        self.discriminator_input_shape = (self.generator_vector_size,)\n",
        "\n",
        "        self.generator = self.make_generator_model()\n",
        "        self.discriminator = self.make_discriminator_model()\n",
        "        self.gan = self.combime_gan(self.generator, self.discriminator)\n",
        "        # self.gs_rf = joblib.load(\"random_forest_diab.joblib\")\n",
        "        self.gs_rf = black_box_model\n",
        "\n",
        "\n",
        "    def combime_gan(self, g_model, d_model):\n",
        "        # make weights in the discriminator not trainable\n",
        "        d_model.trainable = False\n",
        "        g_input = Input(shape=(self.latent_dim,))\n",
        "        c_input = Input(shape=(1,))\n",
        "        g_sample = g_model([g_input, c_input])\n",
        "        d_desision = d_model([g_sample, c_input, c_input])\n",
        "        gan_model = Model([g_input, c_input], d_desision)\n",
        "        opt = tf.keras.optimizers.Adam(lr=0.0002, beta_1=0.5)\n",
        "        gan_model.compile(loss='binary_crossentropy', optimizer=opt, metrics=['accuracy'])\n",
        "        return gan_model\n",
        "\n",
        "    def make_generator_model(self):\n",
        "        input_noise = Input(shape=(self.latent_dim,))\n",
        "        c_input = Input(shape=(1,))\n",
        "        concat_layer_c = concatenate([input_noise, c_input])\n",
        "        dense_1 = Dense(30, use_bias=True)(concat_layer_c)\n",
        "        dense_1_bn = BatchNormalization()(dense_1)\n",
        "        dense_1_lr = LeakyReLU()(dense_1_bn)\n",
        "        dense_1_do = Dropout(0.2)(dense_1_lr)\n",
        "        dense_2 = Dense(15)(dense_1_do)\n",
        "        dense_2_bn = BatchNormalization()(dense_2)\n",
        "        dense_2_lr = LeakyReLU()(dense_2_bn)\n",
        "        dense_2_do = Dropout(0.2)(dense_2_lr)\n",
        "        final_layer = Dense(self.generator_vector_size, activation='tanh')(dense_2_do)\n",
        "        # concat_layer = concatenate([final_layer, c_input])\n",
        "        model = Model(inputs=[input_noise, c_input], outputs=final_layer)\n",
        "\n",
        "        model.summary()\n",
        "        return model\n",
        "\n",
        "    def make_discriminator_model(self):\n",
        "\n",
        "        # input_sample = Input(shape=self.discriminator_input_shape,)\n",
        "        input_sample = Input(shape=self.discriminator_input_shape)\n",
        "        cy1_input = Input(shape=(1,))\n",
        "        cy2_input = Input(shape=(1,))\n",
        "\n",
        "        concat_layer_c = concatenate([input_sample, cy1_input, cy2_input])\n",
        "        dense_1 = Dense(32, use_bias=True)(concat_layer_c)\n",
        "        dense_1_lr = LeakyReLU()(dense_1)\n",
        "        dense_1_do = Dropout(0.2)(dense_1_lr)\n",
        "        dense_2 = Dense(16)(dense_1_do)\n",
        "        dense_2_lr = LeakyReLU()(dense_2)\n",
        "        dense_2_do = Dropout(0.2)(dense_2_lr)\n",
        "        flatten = Flatten()(dense_2_do)\n",
        "        final_layer = Dense(1, activation='sigmoid')(flatten)\n",
        "        model = Model(inputs=[input_sample, cy1_input, cy2_input], outputs=final_layer)\n",
        "        # opt = tf.keras.optimizers.Adam(lr=0.00015, beta_1=0.5)\n",
        "        # opt = tf.keras.optimizers.Adam(lr=0.0002, beta_1=0.5) # not good \n",
        "        # opt = tf.keras.optimizers.Adam(lr=0.00015, beta_1=0.5) # good\n",
        "        # opt = tf.keras.optimizers.Adam(lr=0.00015, beta_1=0.9)\n",
        "        # opt = tf.keras.optimizers.Adam(lr=0.00015, beta_1=0.9,  beta_2=0.9) # good\n",
        "        # opt = tf.keras.optimizers.Adam(lr=0.00011, beta_1=0.9,  beta_2=0.9) # not good    \n",
        "        opt = tf.keras.optimizers.Adam(lr=0.00015, beta_1=0.5, beta_2=0.9) # very good\n",
        "        model.compile(loss='binary_crossentropy', optimizer=opt, metrics=['accuracy'])\n",
        "        model.summary()\n",
        "        return model\n",
        "\n",
        "    def generate_real_x_y(self, n_samples: int) -> Tuple[np.ndarray, np.ndarray, np.ndarray, np.ndarray]:\n",
        "        # prepare samples\n",
        "        noise = np.random.uniform(-1, 1, size=(n_samples, self.latent_dim))\n",
        "        c_1 = np.random.random((n_samples, ))\n",
        "        samples_1 = self.generator.predict([noise, c_1])\n",
        "        y_1 = self.gs_rf.predict_proba(samples_1)[:, 0]\n",
        "        valid = np.ones((n_samples, 1))\n",
        "        return samples_1, c_1, y_1, valid\n",
        "\n",
        "    def generate_fake_x_y(self, n_samples: int) -> Tuple[np.ndarray, np.ndarray, np.ndarray, np.ndarray]:\n",
        "        noise = np.random.uniform(-1, 1, size=(n_samples, self.latent_dim))\n",
        "        c_2 = np.random.random((n_samples, ))\n",
        "        samples_2 = self.generator.predict([noise, c_2])\n",
        "        y_2 = self.gs_rf.predict_proba(samples_2)[:, 0]\n",
        "        invalid = np.zeros((n_samples, 1))\n",
        "        return samples_2, y_2, c_2, invalid\n",
        "\n",
        "    def train(self, epochs, batch_size=8):\n",
        "        # (X_train, _), (_, _) = mnist.load_data()\n",
        "        # X_train = X_train / 127.5 - 1.\n",
        "        # X_train = np.expand_dims(X_train, axis=3)\n",
        "        # X_train = df.values\n",
        "        valid = np.ones((batch_size, 1))\n",
        "        invalid = np.zeros((batch_size, 1))\n",
        "        valid_twice = np.ones((batch_size * 2, 1))\n",
        "        # fake = np.zeros((batch_size, 1))\n",
        "        d_losses = np.zeros((epochs, 1))\n",
        "        d_accuracies = np.zeros((epochs, 1))\n",
        "        d_fake_losses = np.zeros((epochs, 1))\n",
        "        d_fake_accuracies = np.zeros((epochs, 1))\n",
        "        d_real_losses = np.zeros((epochs, 1))\n",
        "        d_real_accuracies = np.zeros((epochs, 1))\n",
        "        g_losses = np.zeros((epochs, 1))\n",
        "        g_accuracies = np.zeros((epochs, 1))\n",
        "        best_epoch = 0\n",
        "\n",
        "        d_acc_delta_to_0_5 = 1\n",
        "        losses_delta = 1\n",
        "        real_2_fake_acc_delta = 1\n",
        "        for i, epoch in enumerate(range(epochs)):\n",
        "            # prepare samples\n",
        "            noise = np.random.uniform(-1, 1, size=(batch_size, self.latent_dim))\n",
        "            c_1 = np.random.random((batch_size, ))\n",
        "            samples_1 = self.generator.predict([noise, c_1])\n",
        "            y_1 = self.gs_rf.predict_proba(samples_1)[:, 0]  # evaluate Y via RF classifier take first column confidence\n",
        "            c_2 = np.random.random((batch_size, ))\n",
        "            samples_2 = self.generator.predict([noise, c_2])\n",
        "            y_2 = self.gs_rf.predict_proba(samples_2)[:, 0]  # evaluate Y via RF classifier take first column confidence\n",
        "\n",
        "            # create training set for the discriminator\n",
        "            # swapping places between 'y' and 'c' trains the Discriminator\n",
        "            # to realize that right hand side parameter is fake (and the opposite)\n",
        "            samples, c, y_bb = np.vstack((samples_1, samples_2)), np.concatenate((c_1, y_2), axis=None), np.concatenate((y_1, c_2), axis=None)\n",
        "            # samples, c, y_bb = np.vstack((samples_1, samples_2)), np.vstack((c_1, y_2)), np.vstack((y_1, c_2))\n",
        "\n",
        "            # update discriminator model weights\n",
        "            d_loss, d_acc = self.discriminator.train_on_batch([samples, c, y_bb], np.vstack((valid, invalid)))\n",
        "\n",
        "            # evaluate discriminator on real examples\n",
        "            samples_real, c_real, y_bb_real, y_real = self.generate_real_x_y(batch_size)\n",
        "            d_loss_real, d_acc_real = self.discriminator.evaluate([samples_real, c_real, y_bb_real], y_real, verbose=0)\n",
        "            # evaluate discriminator on fake examples\n",
        "            samples_fake, c_fake, y_bb_fake, y_fake = self.generate_fake_x_y(batch_size)\n",
        "            d_loss_fake, d_acc_fake = self.discriminator.evaluate([samples_fake, c_fake, y_bb_fake], y_fake, verbose=0)\n",
        "\n",
        "            d_fake_losses[i] = d_loss_fake\n",
        "            d_real_losses[i] = d_loss_real\n",
        "            d_fake_accuracies[i] = d_acc_fake\n",
        "            d_real_accuracies[i] = d_acc_real\n",
        "\n",
        "            # create inverted labels for the fake samples so generator can improve to be 'real'\n",
        "            # update the generator via the discriminator's error\n",
        "            noise = np.random.uniform(-1, 1, size=(batch_size * 2, self.latent_dim))\n",
        "            # c = np.random.normal(0, 1, (batch_size * 2, ))\n",
        "            c = np.random.random((batch_size * 2, ))\n",
        "            g_loss, g_acc = self.gan.train_on_batch([noise, c], valid_twice)\n",
        "\n",
        "            d_losses[i] = d_loss\n",
        "            d_accuracies[i] = d_acc\n",
        "            g_losses[i] = g_loss\n",
        "            g_accuracies[i] = g_acc\n",
        "\n",
        "            # if i % 50 == 0:\n",
        "            #     print(\"epoch %d [D loss: %f, acc.: %.2f%%] [G loss: %f, acc.: %.2f%%]\" % (epoch, d_loss, 100 * d_acc, g_loss, g_acc))\n",
        "            #     if 800 <= i:\n",
        "            #         if abs(g_loss - d_loss) < losses_delta: # check that losses converged\n",
        "            #             if d_acc_delta_to_0_5 > abs(d_acc - 0.5) and real_2_fake_acc_delta > abs( d_acc_fake - d_acc_real): # save generator model for closest to 0.5 accuracy\n",
        "            #                 losses_delta = abs(g_loss - d_loss)\n",
        "            #                 d_acc_delta_to_0_5 = abs(d_acc - 0.5)\n",
        "            #                 real_2_fake_acc_delta = abs(d_fake_accuracies - d_real_accuracies)\n",
        "            #                 filename = 'generator_model.h5'\n",
        "            #                 self.generator.save(filename)\n",
        "            #                 best_epoch = epoch\n",
        "\n",
        "            if i % 50 == 0:\n",
        "                print(\"epoch %d [D loss: %f, acc.: %.2f%%] [G loss: %f, acc.: %.2f%%]\" % (epoch, d_loss, 100 * d_acc, g_loss, g_acc))\n",
        "                if 800 <= i:\n",
        "                    if abs(g_loss - d_loss) < 0.2: # check that losses converged\n",
        "                        if abs(d_acc - 0.5) < 0.2 and abs( d_acc_fake - d_acc_real) < 0.2 : # save generator model for closest to 0.5 accuracy\n",
        "                            # filename = 'generator_model.h5'\n",
        "                            filename = 'generator_model_%03d.h5' % epoch\n",
        "\n",
        "                            self.generator.save(filename)\n",
        "                            best_epoch = epoch       \n",
        "\n",
        "        print(f'Best epoch: {best_epoch}')\n",
        "        return d_losses, d_accuracies, g_losses, g_accuracies, d_fake_losses, d_real_losses, d_fake_accuracies, d_real_accuracies"
      ],
      "execution_count": 13,
      "outputs": []
    },
    {
      "cell_type": "code",
      "metadata": {
        "id": "37b1aEEMMuLE",
        "colab": {
          "base_uri": "https://localhost:8080/"
        },
        "outputId": "0c2cebd3-69d3-45e1-ec9b-0ec72ae29b03"
      },
      "source": [
        "iterations = 4000\n",
        "gan = GAN(gs_rf)\n",
        "# from tensorflow.python.keras.utils.vis_utils import plot_model\n",
        "# plot_model(gan.generator, to_file='g_plot.png', show_shapes=True, show_layer_names=True)"
      ],
      "execution_count": 14,
      "outputs": [
        {
          "output_type": "stream",
          "text": [
            "Model: \"model\"\n",
            "__________________________________________________________________________________________________\n",
            "Layer (type)                    Output Shape         Param #     Connected to                     \n",
            "==================================================================================================\n",
            "input_1 (InputLayer)            [(None, 10)]         0                                            \n",
            "__________________________________________________________________________________________________\n",
            "input_2 (InputLayer)            [(None, 1)]          0                                            \n",
            "__________________________________________________________________________________________________\n",
            "concatenate (Concatenate)       (None, 11)           0           input_1[0][0]                    \n",
            "                                                                 input_2[0][0]                    \n",
            "__________________________________________________________________________________________________\n",
            "dense (Dense)                   (None, 30)           360         concatenate[0][0]                \n",
            "__________________________________________________________________________________________________\n",
            "batch_normalization (BatchNorma (None, 30)           120         dense[0][0]                      \n",
            "__________________________________________________________________________________________________\n",
            "leaky_re_lu (LeakyReLU)         (None, 30)           0           batch_normalization[0][0]        \n",
            "__________________________________________________________________________________________________\n",
            "dropout (Dropout)               (None, 30)           0           leaky_re_lu[0][0]                \n",
            "__________________________________________________________________________________________________\n",
            "dense_1 (Dense)                 (None, 15)           465         dropout[0][0]                    \n",
            "__________________________________________________________________________________________________\n",
            "batch_normalization_1 (BatchNor (None, 15)           60          dense_1[0][0]                    \n",
            "__________________________________________________________________________________________________\n",
            "leaky_re_lu_1 (LeakyReLU)       (None, 15)           0           batch_normalization_1[0][0]      \n",
            "__________________________________________________________________________________________________\n",
            "dropout_1 (Dropout)             (None, 15)           0           leaky_re_lu_1[0][0]              \n",
            "__________________________________________________________________________________________________\n",
            "dense_2 (Dense)                 (None, 8)            128         dropout_1[0][0]                  \n",
            "==================================================================================================\n",
            "Total params: 1,133\n",
            "Trainable params: 1,043\n",
            "Non-trainable params: 90\n",
            "__________________________________________________________________________________________________\n",
            "Model: \"model_1\"\n",
            "__________________________________________________________________________________________________\n",
            "Layer (type)                    Output Shape         Param #     Connected to                     \n",
            "==================================================================================================\n",
            "input_3 (InputLayer)            [(None, 8)]          0                                            \n",
            "__________________________________________________________________________________________________\n",
            "input_4 (InputLayer)            [(None, 1)]          0                                            \n",
            "__________________________________________________________________________________________________\n",
            "input_5 (InputLayer)            [(None, 1)]          0                                            \n",
            "__________________________________________________________________________________________________\n",
            "concatenate_1 (Concatenate)     (None, 10)           0           input_3[0][0]                    \n",
            "                                                                 input_4[0][0]                    \n",
            "                                                                 input_5[0][0]                    \n",
            "__________________________________________________________________________________________________\n",
            "dense_3 (Dense)                 (None, 32)           352         concatenate_1[0][0]              \n",
            "__________________________________________________________________________________________________\n",
            "leaky_re_lu_2 (LeakyReLU)       (None, 32)           0           dense_3[0][0]                    \n",
            "__________________________________________________________________________________________________\n",
            "dropout_2 (Dropout)             (None, 32)           0           leaky_re_lu_2[0][0]              \n",
            "__________________________________________________________________________________________________\n",
            "dense_4 (Dense)                 (None, 16)           528         dropout_2[0][0]                  \n",
            "__________________________________________________________________________________________________\n",
            "leaky_re_lu_3 (LeakyReLU)       (None, 16)           0           dense_4[0][0]                    \n",
            "__________________________________________________________________________________________________\n",
            "dropout_3 (Dropout)             (None, 16)           0           leaky_re_lu_3[0][0]              \n",
            "__________________________________________________________________________________________________\n",
            "flatten (Flatten)               (None, 16)           0           dropout_3[0][0]                  \n",
            "__________________________________________________________________________________________________\n",
            "dense_5 (Dense)                 (None, 1)            17          flatten[0][0]                    \n",
            "==================================================================================================\n",
            "Total params: 897\n",
            "Trainable params: 897\n",
            "Non-trainable params: 0\n",
            "__________________________________________________________________________________________________\n"
          ],
          "name": "stdout"
        },
        {
          "output_type": "stream",
          "text": [
            "/usr/local/lib/python3.7/dist-packages/tensorflow/python/keras/optimizer_v2/optimizer_v2.py:375: UserWarning: The `lr` argument is deprecated, use `learning_rate` instead.\n",
            "  \"The `lr` argument is deprecated, use `learning_rate` instead.\")\n"
          ],
          "name": "stderr"
        }
      ]
    },
    {
      "cell_type": "code",
      "metadata": {
        "id": "XwEULmE2M3fV"
      },
      "source": [
        "# plot_model(gan.discriminator, to_file='d_plot.png', show_shapes=True, show_layer_names=True)"
      ],
      "execution_count": 15,
      "outputs": []
    },
    {
      "cell_type": "code",
      "metadata": {
        "colab": {
          "base_uri": "https://localhost:8080/"
        },
        "id": "Zq2RyaE2VHCg",
        "outputId": "2f54caae-2187-4f52-eb33-56e3e3ee5aab"
      },
      "source": [
        "\n",
        "# d_losses, d_accuracies, g_losses, g_accuracies = gan.train(epochs=iterations, batch_size=16)\n",
        "d_losses, d_accuracies, g_losses, g_accuracies, d_fake_losses, d_real_losses, d_fake_accuracies, d_real_accuracies = gan.train(epochs=iterations, batch_size=16)"
      ],
      "execution_count": 16,
      "outputs": [
        {
          "output_type": "stream",
          "text": [
            "epoch 0 [D loss: 0.696757, acc.: 50.00%] [G loss: 0.597607, acc.: 0.91%]\n",
            "epoch 50 [D loss: 0.686294, acc.: 47.92%] [G loss: 0.617217, acc.: 0.84%]\n",
            "epoch 100 [D loss: 0.705644, acc.: 33.33%] [G loss: 0.651724, acc.: 0.69%]\n",
            "epoch 150 [D loss: 0.684265, acc.: 52.08%] [G loss: 0.701345, acc.: 0.41%]\n",
            "epoch 200 [D loss: 0.704849, acc.: 43.75%] [G loss: 0.675765, acc.: 0.59%]\n",
            "epoch 250 [D loss: 0.688627, acc.: 50.00%] [G loss: 0.673197, acc.: 0.62%]\n",
            "epoch 300 [D loss: 0.669280, acc.: 68.75%] [G loss: 0.697077, acc.: 0.50%]\n",
            "epoch 350 [D loss: 0.691686, acc.: 56.25%] [G loss: 0.725968, acc.: 0.38%]\n",
            "epoch 400 [D loss: 0.683729, acc.: 58.33%] [G loss: 0.679475, acc.: 0.62%]\n",
            "epoch 450 [D loss: 0.724048, acc.: 35.42%] [G loss: 0.688542, acc.: 0.53%]\n",
            "epoch 500 [D loss: 0.676446, acc.: 62.50%] [G loss: 0.713883, acc.: 0.44%]\n",
            "epoch 550 [D loss: 0.678055, acc.: 60.42%] [G loss: 0.694169, acc.: 0.56%]\n",
            "epoch 600 [D loss: 0.674020, acc.: 66.67%] [G loss: 0.704855, acc.: 0.47%]\n",
            "epoch 650 [D loss: 0.690678, acc.: 52.08%] [G loss: 0.717769, acc.: 0.28%]\n",
            "epoch 700 [D loss: 0.694191, acc.: 39.58%] [G loss: 0.713181, acc.: 0.50%]\n",
            "epoch 750 [D loss: 0.688611, acc.: 43.75%] [G loss: 0.693898, acc.: 0.44%]\n",
            "epoch 800 [D loss: 0.657930, acc.: 58.33%] [G loss: 0.690286, acc.: 0.59%]\n",
            "WARNING:tensorflow:Compiled the loaded model, but the compiled metrics have yet to be built. `model.compile_metrics` will be empty until you train or evaluate the model.\n",
            "epoch 850 [D loss: 0.695428, acc.: 47.92%] [G loss: 0.727759, acc.: 0.44%]\n",
            "epoch 900 [D loss: 0.684888, acc.: 60.42%] [G loss: 0.663793, acc.: 0.56%]\n",
            "WARNING:tensorflow:Compiled the loaded model, but the compiled metrics have yet to be built. `model.compile_metrics` will be empty until you train or evaluate the model.\n",
            "epoch 950 [D loss: 0.689567, acc.: 37.50%] [G loss: 0.728248, acc.: 0.50%]\n",
            "epoch 1000 [D loss: 0.709682, acc.: 37.50%] [G loss: 0.709027, acc.: 0.50%]\n",
            "WARNING:tensorflow:Compiled the loaded model, but the compiled metrics have yet to be built. `model.compile_metrics` will be empty until you train or evaluate the model.\n",
            "epoch 1050 [D loss: 0.680551, acc.: 56.25%] [G loss: 0.698534, acc.: 0.53%]\n",
            "WARNING:tensorflow:Compiled the loaded model, but the compiled metrics have yet to be built. `model.compile_metrics` will be empty until you train or evaluate the model.\n",
            "epoch 1100 [D loss: 0.694627, acc.: 47.92%] [G loss: 0.698349, acc.: 0.50%]\n",
            "epoch 1150 [D loss: 0.692437, acc.: 43.75%] [G loss: 0.731630, acc.: 0.34%]\n",
            "WARNING:tensorflow:Compiled the loaded model, but the compiled metrics have yet to be built. `model.compile_metrics` will be empty until you train or evaluate the model.\n",
            "epoch 1200 [D loss: 0.721533, acc.: 37.50%] [G loss: 0.699925, acc.: 0.44%]\n",
            "epoch 1250 [D loss: 0.694526, acc.: 50.00%] [G loss: 0.708658, acc.: 0.38%]\n",
            "epoch 1300 [D loss: 0.702851, acc.: 45.83%] [G loss: 0.718299, acc.: 0.41%]\n",
            "WARNING:tensorflow:Compiled the loaded model, but the compiled metrics have yet to be built. `model.compile_metrics` will be empty until you train or evaluate the model.\n",
            "epoch 1350 [D loss: 0.731103, acc.: 33.33%] [G loss: 0.717160, acc.: 0.38%]\n",
            "WARNING:tensorflow:Compiled the loaded model, but the compiled metrics have yet to be built. `model.compile_metrics` will be empty until you train or evaluate the model.\n",
            "epoch 1400 [D loss: 0.700143, acc.: 50.00%] [G loss: 0.695716, acc.: 0.53%]\n",
            "epoch 1450 [D loss: 0.707179, acc.: 41.67%] [G loss: 0.707144, acc.: 0.34%]\n",
            "WARNING:tensorflow:Compiled the loaded model, but the compiled metrics have yet to be built. `model.compile_metrics` will be empty until you train or evaluate the model.\n",
            "epoch 1500 [D loss: 0.691205, acc.: 41.67%] [G loss: 0.707422, acc.: 0.38%]\n",
            "WARNING:tensorflow:Compiled the loaded model, but the compiled metrics have yet to be built. `model.compile_metrics` will be empty until you train or evaluate the model.\n",
            "epoch 1550 [D loss: 0.703921, acc.: 47.92%] [G loss: 0.695827, acc.: 0.53%]\n",
            "WARNING:tensorflow:Compiled the loaded model, but the compiled metrics have yet to be built. `model.compile_metrics` will be empty until you train or evaluate the model.\n",
            "epoch 1600 [D loss: 0.687471, acc.: 56.25%] [G loss: 0.688699, acc.: 0.47%]\n",
            "WARNING:tensorflow:Compiled the loaded model, but the compiled metrics have yet to be built. `model.compile_metrics` will be empty until you train or evaluate the model.\n",
            "epoch 1650 [D loss: 0.702711, acc.: 39.58%] [G loss: 0.723839, acc.: 0.38%]\n",
            "WARNING:tensorflow:Compiled the loaded model, but the compiled metrics have yet to be built. `model.compile_metrics` will be empty until you train or evaluate the model.\n",
            "epoch 1700 [D loss: 0.679116, acc.: 60.42%] [G loss: 0.711561, acc.: 0.44%]\n",
            "WARNING:tensorflow:Compiled the loaded model, but the compiled metrics have yet to be built. `model.compile_metrics` will be empty until you train or evaluate the model.\n",
            "epoch 1750 [D loss: 0.688441, acc.: 54.17%] [G loss: 0.698898, acc.: 0.50%]\n",
            "epoch 1800 [D loss: 0.682860, acc.: 60.42%] [G loss: 0.705346, acc.: 0.47%]\n",
            "epoch 1850 [D loss: 0.686044, acc.: 50.00%] [G loss: 0.684683, acc.: 0.50%]\n",
            "epoch 1900 [D loss: 0.696132, acc.: 37.50%] [G loss: 0.687437, acc.: 0.72%]\n",
            "WARNING:tensorflow:Compiled the loaded model, but the compiled metrics have yet to be built. `model.compile_metrics` will be empty until you train or evaluate the model.\n",
            "epoch 1950 [D loss: 0.698068, acc.: 39.58%] [G loss: 0.719098, acc.: 0.41%]\n",
            "WARNING:tensorflow:Compiled the loaded model, but the compiled metrics have yet to be built. `model.compile_metrics` will be empty until you train or evaluate the model.\n",
            "epoch 2000 [D loss: 0.687715, acc.: 45.83%] [G loss: 0.721084, acc.: 0.41%]\n",
            "WARNING:tensorflow:Compiled the loaded model, but the compiled metrics have yet to be built. `model.compile_metrics` will be empty until you train or evaluate the model.\n",
            "epoch 2050 [D loss: 0.702954, acc.: 47.92%] [G loss: 0.709385, acc.: 0.44%]\n",
            "WARNING:tensorflow:Compiled the loaded model, but the compiled metrics have yet to be built. `model.compile_metrics` will be empty until you train or evaluate the model.\n",
            "epoch 2100 [D loss: 0.694362, acc.: 50.00%] [G loss: 0.700677, acc.: 0.44%]\n",
            "WARNING:tensorflow:Compiled the loaded model, but the compiled metrics have yet to be built. `model.compile_metrics` will be empty until you train or evaluate the model.\n",
            "epoch 2150 [D loss: 0.685403, acc.: 54.17%] [G loss: 0.681800, acc.: 0.50%]\n",
            "WARNING:tensorflow:Compiled the loaded model, but the compiled metrics have yet to be built. `model.compile_metrics` will be empty until you train or evaluate the model.\n",
            "epoch 2200 [D loss: 0.688658, acc.: 54.17%] [G loss: 0.690337, acc.: 0.56%]\n",
            "WARNING:tensorflow:Compiled the loaded model, but the compiled metrics have yet to be built. `model.compile_metrics` will be empty until you train or evaluate the model.\n",
            "epoch 2250 [D loss: 0.702735, acc.: 47.92%] [G loss: 0.690575, acc.: 0.53%]\n",
            "WARNING:tensorflow:Compiled the loaded model, but the compiled metrics have yet to be built. `model.compile_metrics` will be empty until you train or evaluate the model.\n",
            "epoch 2300 [D loss: 0.686795, acc.: 54.17%] [G loss: 0.720224, acc.: 0.38%]\n",
            "WARNING:tensorflow:Compiled the loaded model, but the compiled metrics have yet to be built. `model.compile_metrics` will be empty until you train or evaluate the model.\n",
            "epoch 2350 [D loss: 0.697305, acc.: 41.67%] [G loss: 0.706936, acc.: 0.41%]\n",
            "WARNING:tensorflow:Compiled the loaded model, but the compiled metrics have yet to be built. `model.compile_metrics` will be empty until you train or evaluate the model.\n",
            "epoch 2400 [D loss: 0.665409, acc.: 72.92%] [G loss: 0.714258, acc.: 0.38%]\n",
            "epoch 2450 [D loss: 0.695617, acc.: 39.58%] [G loss: 0.701631, acc.: 0.47%]\n",
            "WARNING:tensorflow:Compiled the loaded model, but the compiled metrics have yet to be built. `model.compile_metrics` will be empty until you train or evaluate the model.\n",
            "epoch 2500 [D loss: 0.701726, acc.: 47.92%] [G loss: 0.691684, acc.: 0.44%]\n",
            "WARNING:tensorflow:Compiled the loaded model, but the compiled metrics have yet to be built. `model.compile_metrics` will be empty until you train or evaluate the model.\n",
            "epoch 2550 [D loss: 0.692113, acc.: 47.92%] [G loss: 0.723798, acc.: 0.34%]\n",
            "WARNING:tensorflow:Compiled the loaded model, but the compiled metrics have yet to be built. `model.compile_metrics` will be empty until you train or evaluate the model.\n",
            "epoch 2600 [D loss: 0.674336, acc.: 64.58%] [G loss: 0.711298, acc.: 0.47%]\n",
            "WARNING:tensorflow:Compiled the loaded model, but the compiled metrics have yet to be built. `model.compile_metrics` will be empty until you train or evaluate the model.\n",
            "epoch 2650 [D loss: 0.694549, acc.: 41.67%] [G loss: 0.698204, acc.: 0.41%]\n",
            "epoch 2700 [D loss: 0.665203, acc.: 62.50%] [G loss: 0.711821, acc.: 0.44%]\n",
            "WARNING:tensorflow:Compiled the loaded model, but the compiled metrics have yet to be built. `model.compile_metrics` will be empty until you train or evaluate the model.\n",
            "epoch 2750 [D loss: 0.705736, acc.: 45.83%] [G loss: 0.692675, acc.: 0.56%]\n",
            "WARNING:tensorflow:Compiled the loaded model, but the compiled metrics have yet to be built. `model.compile_metrics` will be empty until you train or evaluate the model.\n",
            "epoch 2800 [D loss: 0.696915, acc.: 58.33%] [G loss: 0.672131, acc.: 0.66%]\n",
            "WARNING:tensorflow:Compiled the loaded model, but the compiled metrics have yet to be built. `model.compile_metrics` will be empty until you train or evaluate the model.\n",
            "epoch 2850 [D loss: 0.683345, acc.: 52.08%] [G loss: 0.687973, acc.: 0.53%]\n",
            "epoch 2900 [D loss: 0.690657, acc.: 52.08%] [G loss: 0.715152, acc.: 0.47%]\n",
            "epoch 2950 [D loss: 0.684429, acc.: 52.08%] [G loss: 0.695089, acc.: 0.47%]\n",
            "WARNING:tensorflow:Compiled the loaded model, but the compiled metrics have yet to be built. `model.compile_metrics` will be empty until you train or evaluate the model.\n",
            "epoch 3000 [D loss: 0.674484, acc.: 70.83%] [G loss: 0.722806, acc.: 0.47%]\n",
            "epoch 3050 [D loss: 0.674155, acc.: 62.50%] [G loss: 0.691549, acc.: 0.53%]\n",
            "WARNING:tensorflow:Compiled the loaded model, but the compiled metrics have yet to be built. `model.compile_metrics` will be empty until you train or evaluate the model.\n",
            "epoch 3100 [D loss: 0.696299, acc.: 47.92%] [G loss: 0.679322, acc.: 0.62%]\n",
            "WARNING:tensorflow:Compiled the loaded model, but the compiled metrics have yet to be built. `model.compile_metrics` will be empty until you train or evaluate the model.\n",
            "epoch 3150 [D loss: 0.683531, acc.: 64.58%] [G loss: 0.728600, acc.: 0.44%]\n",
            "WARNING:tensorflow:Compiled the loaded model, but the compiled metrics have yet to be built. `model.compile_metrics` will be empty until you train or evaluate the model.\n",
            "epoch 3200 [D loss: 0.688663, acc.: 58.33%] [G loss: 0.690155, acc.: 0.47%]\n",
            "WARNING:tensorflow:Compiled the loaded model, but the compiled metrics have yet to be built. `model.compile_metrics` will be empty until you train or evaluate the model.\n",
            "epoch 3250 [D loss: 0.687532, acc.: 56.25%] [G loss: 0.693864, acc.: 0.44%]\n",
            "WARNING:tensorflow:Compiled the loaded model, but the compiled metrics have yet to be built. `model.compile_metrics` will be empty until you train or evaluate the model.\n",
            "epoch 3300 [D loss: 0.693213, acc.: 45.83%] [G loss: 0.692989, acc.: 0.59%]\n",
            "WARNING:tensorflow:Compiled the loaded model, but the compiled metrics have yet to be built. `model.compile_metrics` will be empty until you train or evaluate the model.\n",
            "epoch 3350 [D loss: 0.683672, acc.: 47.92%] [G loss: 0.732198, acc.: 0.31%]\n",
            "WARNING:tensorflow:Compiled the loaded model, but the compiled metrics have yet to be built. `model.compile_metrics` will be empty until you train or evaluate the model.\n",
            "epoch 3400 [D loss: 0.679933, acc.: 52.08%] [G loss: 0.707759, acc.: 0.50%]\n",
            "WARNING:tensorflow:Compiled the loaded model, but the compiled metrics have yet to be built. `model.compile_metrics` will be empty until you train or evaluate the model.\n",
            "epoch 3450 [D loss: 0.688237, acc.: 56.25%] [G loss: 0.707526, acc.: 0.50%]\n",
            "WARNING:tensorflow:Compiled the loaded model, but the compiled metrics have yet to be built. `model.compile_metrics` will be empty until you train or evaluate the model.\n",
            "epoch 3500 [D loss: 0.689139, acc.: 54.17%] [G loss: 0.669590, acc.: 0.62%]\n",
            "epoch 3550 [D loss: 0.683296, acc.: 56.25%] [G loss: 0.691862, acc.: 0.38%]\n",
            "epoch 3600 [D loss: 0.693020, acc.: 47.92%] [G loss: 0.695359, acc.: 0.44%]\n",
            "WARNING:tensorflow:Compiled the loaded model, but the compiled metrics have yet to be built. `model.compile_metrics` will be empty until you train or evaluate the model.\n",
            "epoch 3650 [D loss: 0.674287, acc.: 58.33%] [G loss: 0.691332, acc.: 0.38%]\n",
            "WARNING:tensorflow:Compiled the loaded model, but the compiled metrics have yet to be built. `model.compile_metrics` will be empty until you train or evaluate the model.\n",
            "epoch 3700 [D loss: 0.686177, acc.: 54.17%] [G loss: 0.727878, acc.: 0.41%]\n",
            "epoch 3750 [D loss: 0.667656, acc.: 64.58%] [G loss: 0.689995, acc.: 0.56%]\n",
            "WARNING:tensorflow:Compiled the loaded model, but the compiled metrics have yet to be built. `model.compile_metrics` will be empty until you train or evaluate the model.\n",
            "epoch 3800 [D loss: 0.675786, acc.: 54.17%] [G loss: 0.692522, acc.: 0.59%]\n",
            "epoch 3850 [D loss: 0.682203, acc.: 52.08%] [G loss: 0.702983, acc.: 0.50%]\n",
            "WARNING:tensorflow:Compiled the loaded model, but the compiled metrics have yet to be built. `model.compile_metrics` will be empty until you train or evaluate the model.\n",
            "epoch 3900 [D loss: 0.670180, acc.: 64.58%] [G loss: 0.698652, acc.: 0.47%]\n",
            "epoch 3950 [D loss: 0.673456, acc.: 60.42%] [G loss: 0.718199, acc.: 0.41%]\n",
            "WARNING:tensorflow:Compiled the loaded model, but the compiled metrics have yet to be built. `model.compile_metrics` will be empty until you train or evaluate the model.\n",
            "Best epoch: 3950\n"
          ],
          "name": "stdout"
        }
      ]
    },
    {
      "cell_type": "code",
      "metadata": {
        "colab": {
          "base_uri": "https://localhost:8080/",
          "height": 295
        },
        "id": "ZM9PERydwSj1",
        "outputId": "e1048e58-1487-4377-e750-cc532ee08e20"
      },
      "source": [
        "from typing import List\n",
        "\n",
        "def plot_metric_general(graphs: List[np.ndarray], labels: List[str]) -> None:\n",
        "    import matplotlib.pyplot as plt\n",
        "    epochs = range(1, graphs[0].shape[0] + 1)\n",
        "    plt.xlabel(\"Iterations\")\n",
        "    plt.title('Gan')\n",
        "    for i in range(len(labels)):\n",
        "        plt.plot(epochs, graphs[i])\n",
        "    plt.legend(labels)\n",
        "    plt.show()\n",
        "\n",
        "def moving_average(x, w):\n",
        "    return np.convolve(x, np.ones(w), 'valid') / w\n",
        "\n",
        "d_losses_smooth, d_fake_accuracies_smooth, d_real_accuracies_smooth = moving_average(d_losses.reshape((iterations)), 5), moving_average(d_fake_accuracies.reshape((iterations)), 5), moving_average(d_real_accuracies.reshape((iterations)), 5)\n",
        "\n",
        "plot_metric_general([d_losses_smooth, d_fake_accuracies_smooth, d_real_accuracies_smooth], ['d_losses_smooth', 'd_fake_accuracies_smooth', 'd_real_accuracies_smooth'])\n",
        "# plot_metric_general([d_losses, d_accuracies, g_losses, g_accuracies], ['d_losses', 'd_accuracies', 'g_losses', 'g_accuracies']) \n",
        "# we can see aroud 800 epochs d_fake_accuracies=d_real_accuracies=0.5 and after that it degragates "
      ],
      "execution_count": 17,
      "outputs": [
        {
          "output_type": "display_data",
          "data": {
            "image/png": "[encoded data removed]",
            "text/plain": [
              "<Figure size 432x288 with 1 Axes>"
            ]
          },
          "metadata": {
            "tags": [],
            "needs_background": "light"
          }
        }
      ]
    },
    {
      "cell_type": "code",
      "metadata": {
        "colab": {
          "base_uri": "https://localhost:8080/",
          "height": 295
        },
        "id": "Ix6EuTBrIWmd",
        "outputId": "098d6672-686d-4428-ad0e-652bc860a564"
      },
      "source": [
        "d_losses_smooth, d_accuracies_smooth, g_losses_smooth, g_accuracies_smooth = moving_average(d_losses.reshape((iterations)), 5), moving_average(d_accuracies.reshape((iterations)), 5), moving_average(g_losses.reshape((iterations)), 5), moving_average(g_accuracies.reshape((iterations)), 5)\n",
        "\n",
        "plot_metric_general([d_losses_smooth, d_accuracies_smooth, g_losses_smooth], ['d_losses_smooth', 'd_accuracies_smooth', 'g_losses_smooth'])"
      ],
      "execution_count": 18,
      "outputs": [
        {
          "output_type": "display_data",
          "data": {
            "image/png": "[encoded data removed]",
            "text/plain": [
              "<Figure size 432x288 with 1 Axes>"
            ]
          },
          "metadata": {
            "tags": [],
            "needs_background": "light"
          }
        }
      ]
    },
    {
      "cell_type": "code",
      "metadata": {
        "id": "waAGk29Rxq3N"
      },
      "source": [
        "import seaborn as sns\n",
        "sns.set_theme()"
      ],
      "execution_count": 19,
      "outputs": []
    },
    {
      "cell_type": "code",
      "metadata": {
        "colab": {
          "base_uri": "https://localhost:8080/",
          "height": 382
        },
        "id": "nisaRy3kz1J8",
        "outputId": "7f7b41b1-0c61-4ca8-f6cb-9d7abc7131cd"
      },
      "source": [
        "p_proba = gs_rf.predict_proba(df_test)[:,0]\n",
        "sns.displot(p_proba, bins=10)\n",
        "print(f'min {min(p_proba)}, max {max(p_proba)}, avg {sum(p_proba)/len(p_proba)}')"
      ],
      "execution_count": 20,
      "outputs": [
        {
          "output_type": "stream",
          "text": [
            "min 0.11971331624786395, max 0.9832781989358225, avg 0.6568581507189382\n"
          ],
          "name": "stdout"
        },
        {
          "output_type": "display_data",
          "data": {
            "image/png": "[encoded data removed]",
            "text/plain": [
              "<Figure size 360x360 with 1 Axes>"
            ]
          },
          "metadata": {
            "tags": []
          }
        }
      ]
    },
    {
      "cell_type": "code",
      "metadata": {
        "colab": {
          "base_uri": "https://localhost:8080/"
        },
        "id": "kR4uBLaCWUBY",
        "outputId": "cf361cca-992d-463b-85d3-f9e7f89fe755"
      },
      "source": [
        "smaples_len = 1000\n",
        "noise = np.random.uniform(-1, 1, size=(smaples_len, 10))\n",
        "c = np.random.uniform(size=(smaples_len, ))\n",
        "loaded_generator = tf.keras.models.load_model('generator_model_2200.h5')\n",
        "# samples = gan.generator.predict([noise, c])\n",
        "samples = loaded_generator.predict([noise, c])"
      ],
      "execution_count": 21,
      "outputs": [
        {
          "output_type": "stream",
          "text": [
            "WARNING:tensorflow:No training configuration found in the save file, so the model was *not* compiled. Compile it manually.\n"
          ],
          "name": "stdout"
        }
      ]
    },
    {
      "cell_type": "code",
      "metadata": {
        "colab": {
          "base_uri": "https://localhost:8080/",
          "height": 382
        },
        "id": "2mdS8RbCWUFG",
        "outputId": "cc37046b-2b5c-41d4-88cc-fbf834550ed0"
      },
      "source": [
        "p_proba_s = gs_rf.predict_proba(samples)[:,0]\n",
        "sns.displot(p_proba_s, bins=10)"
      ],
      "execution_count": 22,
      "outputs": [
        {
          "output_type": "execute_result",
          "data": {
            "text/plain": [
              "<seaborn.axisgrid.FacetGrid at 0x7ff62ae705d0>"
            ]
          },
          "metadata": {
            "tags": []
          },
          "execution_count": 22
        },
        {
          "output_type": "display_data",
          "data": {
            "image/png": "[encoded data removed]",
            "text/plain": [
              "<Figure size 360x360 with 1 Axes>"
            ]
          },
          "metadata": {
            "tags": []
          }
        }
      ]
    },
    {
      "cell_type": "code",
      "metadata": {
        "id": "KcX8i-2g1Ebu"
      },
      "source": [
        "def test_spesific_confidence_range(low, high):\n",
        "  smaples_len = 1000\n",
        "  noise = np.random.uniform(-1, 1, size=(smaples_len, 10))\n",
        "  c = np.random.uniform(low, high, size=(smaples_len, ))\n",
        "  loaded_generator = tf.keras.models.load_model('generator_model_2500.h5')\n",
        "  # samples = gan.generator.predict([noise, c])\n",
        "  samples = loaded_generator.predict([noise, c])\n",
        " \n",
        "  p_proba_s = gs_rf.predict_proba(samples)[:,0]\n",
        "  sns.displot(p_proba_s, bins=10)\n",
        "  print(f'min {min(p_proba_s)}, max {max(p_proba_s)}, avg {sum(p_proba_s)/len(p_proba_s)}')"
      ],
      "execution_count": 28,
      "outputs": []
    },
    {
      "cell_type": "code",
      "metadata": {
        "colab": {
          "base_uri": "https://localhost:8080/",
          "height": 399
        },
        "id": "1SOm870TGi1K",
        "outputId": "fd39e7e4-e24a-4a2f-b296-78b8feb2063e"
      },
      "source": [
        "test_spesific_confidence_range(0.1, 0.3)"
      ],
      "execution_count": 29,
      "outputs": [
        {
          "output_type": "stream",
          "text": [
            "WARNING:tensorflow:No training configuration found in the save file, so the model was *not* compiled. Compile it manually.\n",
            "min 0.2943131337844314, max 0.7741233037566041, avg 0.45932998625405175\n"
          ],
          "name": "stdout"
        },
        {
          "output_type": "display_data",
          "data": {
            "image/png": "[encoded data removed]",
            "text/plain": [
              "<Figure size 360x360 with 1 Axes>"
            ]
          },
          "metadata": {
            "tags": []
          }
        }
      ]
    },
    {
      "cell_type": "code",
      "metadata": {
        "colab": {
          "base_uri": "https://localhost:8080/",
          "height": 399
        },
        "id": "fhoShNb_Gjuh",
        "outputId": "8eadae26-325b-4413-f8ed-8ca092604a7f"
      },
      "source": [
        "test_spesific_confidence_range(0.3, 0.7)"
      ],
      "execution_count": 30,
      "outputs": [
        {
          "output_type": "stream",
          "text": [
            "WARNING:tensorflow:No training configuration found in the save file, so the model was *not* compiled. Compile it manually.\n",
            "min 0.2980593953143864, max 0.8123887180600475, avg 0.5074112742619424\n"
          ],
          "name": "stdout"
        },
        {
          "output_type": "display_data",
          "data": {
            "image/png": "[encoded data removed]",
            "text/plain": [
              "<Figure size 360x360 with 1 Axes>"
            ]
          },
          "metadata": {
            "tags": []
          }
        }
      ]
    },
    {
      "cell_type": "code",
      "metadata": {
        "colab": {
          "base_uri": "https://localhost:8080/",
          "height": 399
        },
        "id": "GBEUixTLGkMf",
        "outputId": "74ccd9c0-bf15-4f5b-a128-386e101b3493"
      },
      "source": [
        "test_spesific_confidence_range(0.7, 0.9)"
      ],
      "execution_count": 31,
      "outputs": [
        {
          "output_type": "stream",
          "text": [
            "WARNING:tensorflow:No training configuration found in the save file, so the model was *not* compiled. Compile it manually.\n",
            "min 0.29972676539893983, max 0.8208825673271783, avg 0.5795475895218036\n"
          ],
          "name": "stdout"
        },
        {
          "output_type": "display_data",
          "data": {
            "image/png": "[encoded data removed]",
            "text/plain": [
              "<Figure size 360x360 with 1 Axes>"
            ]
          },
          "metadata": {
            "tags": []
          }
        }
      ]
    },
    {
      "cell_type": "code",
      "metadata": {
        "id": "TRL8Lj9oy0DN"
      },
      "source": [
        "# will be a little bit hard to explain... the distribution is not the same at all.\n",
        "# got various different results from a couple of runs\n",
        "# for sure one of the other architecures will give a better results"
      ],
      "execution_count": 27,
      "outputs": []
    }
  ]
}