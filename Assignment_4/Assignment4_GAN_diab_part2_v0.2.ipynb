{
  "nbformat": 4,
  "nbformat_minor": 0,
  "metadata": {
    "colab": {
      "name": "Assignment4_GAN_diab_part2_v0.4.ipynb",
      "provenance": [],
      "collapsed_sections": []
    },
    "kernelspec": {
      "name": "python3",
      "display_name": "Python 3"
    },
    "language_info": {
      "name": "python"
    },
    "accelerator": "GPU"
  },
  "cells": [
    {
      "cell_type": "code",
      "metadata": {
        "id": "4kmcxRzCD1nh"
      },
      "source": [
        "import pandas as pd\n",
        "import numpy as np\n",
        "from scipy.io import arff\n",
        "import tensorflow as tf\n",
        "from tensorflow.keras import layers, backend \n",
        "from sklearn.ensemble import RandomForestClassifier\n",
        "from sklearn.metrics import confusion_matrix\n",
        "from sklearn.metrics import classification_report\n",
        "from sklearn.model_selection import GridSearchCV\n",
        "from keras.models import Sequential, Model\n",
        "from keras.layers import Dense, Dropout, Input, concatenate, BatchNormalization, LeakyReLU, Flatten\n",
        "import joblib\n",
        "\n",
        "import time\n",
        "from typing import Tuple, List\n",
        "from sklearn.preprocessing import OneHotEncoder, MinMaxScaler"
      ],
      "execution_count": 15,
      "outputs": []
    },
    {
      "cell_type": "code",
      "metadata": {
        "colab": {
          "base_uri": "https://localhost:8080/"
        },
        "id": "cicvn2rxESII",
        "outputId": "bca197cb-23ea-449a-f3be-2c8d19681603"
      },
      "source": [
        "from google.colab import drive \n",
        "drive.mount('/content/gdrive')"
      ],
      "execution_count": 16,
      "outputs": [
        {
          "output_type": "stream",
          "text": [
            "Drive already mounted at /content/gdrive; to attempt to forcibly remount, call drive.mount(\"/content/gdrive\", force_remount=True).\n"
          ],
          "name": "stdout"
        }
      ]
    },
    {
      "cell_type": "code",
      "metadata": {
        "id": "ORwi0IQ3WksA"
      },
      "source": [
        "def split_df_to_train_val(df, ratio):\n",
        "    mask = np.random.rand(len(df)) < ratio\n",
        "    df_train = df[mask]\n",
        "    df_val = df[~mask]\n",
        "    return df_train, df_val"
      ],
      "execution_count": 17,
      "outputs": []
    },
    {
      "cell_type": "code",
      "metadata": {
        "colab": {
          "base_uri": "https://localhost:8080/",
          "height": 204
        },
        "id": "63ihYoNGWGIQ",
        "outputId": "78a2ff53-8b6f-405e-f6f5-ce9141a4d98e"
      },
      "source": [
        "diab_arf = arff.loadarff('gdrive/MyDrive/DL/Assignment_4/diabetes.arff')\n",
        "diab_df = pd.DataFrame(diab_arf[0])\n",
        "diab_df.replace(to_replace=b'tested_negative', value=-1, inplace=True)\n",
        "diab_df.replace(to_replace=b'tested_positive', value=1, inplace=True)\n",
        "# the values must be scaled to the range [-1,1] to match the output of the generator model\n",
        "def scaler(df):\n",
        "  for column in df:\n",
        "    max = df[column].max()\n",
        "    min = df[column].min()\n",
        "    col = 2*((df[column] - min)/(max - min)) - 1\n",
        "    df[column] = col\n",
        "  return df\n",
        "diab_df = scaler(diab_df)\n",
        "diab_df.head()"
      ],
      "execution_count": 18,
      "outputs": [
        {
          "output_type": "execute_result",
          "data": {
            "text/html": [
              "<div>\n",
              "<style scoped>\n",
              "    .dataframe tbody tr th:only-of-type {\n",
              "        vertical-align: middle;\n",
              "    }\n",
              "\n",
              "    .dataframe tbody tr th {\n",
              "        vertical-align: top;\n",
              "    }\n",
              "\n",
              "    .dataframe thead th {\n",
              "        text-align: right;\n",
              "    }\n",
              "</style>\n",
              "<table border=\"1\" class=\"dataframe\">\n",
              "  <thead>\n",
              "    <tr style=\"text-align: right;\">\n",
              "      <th></th>\n",
              "      <th>preg</th>\n",
              "      <th>plas</th>\n",
              "      <th>pres</th>\n",
              "      <th>skin</th>\n",
              "      <th>insu</th>\n",
              "      <th>mass</th>\n",
              "      <th>pedi</th>\n",
              "      <th>age</th>\n",
              "      <th>class</th>\n",
              "    </tr>\n",
              "  </thead>\n",
              "  <tbody>\n",
              "    <tr>\n",
              "      <th>0</th>\n",
              "      <td>-0.294118</td>\n",
              "      <td>0.487437</td>\n",
              "      <td>0.180328</td>\n",
              "      <td>-0.292929</td>\n",
              "      <td>-1.000000</td>\n",
              "      <td>0.001490</td>\n",
              "      <td>-0.531170</td>\n",
              "      <td>-0.033333</td>\n",
              "      <td>1.0</td>\n",
              "    </tr>\n",
              "    <tr>\n",
              "      <th>1</th>\n",
              "      <td>-0.882353</td>\n",
              "      <td>-0.145729</td>\n",
              "      <td>0.081967</td>\n",
              "      <td>-0.414141</td>\n",
              "      <td>-1.000000</td>\n",
              "      <td>-0.207154</td>\n",
              "      <td>-0.766866</td>\n",
              "      <td>-0.666667</td>\n",
              "      <td>-1.0</td>\n",
              "    </tr>\n",
              "    <tr>\n",
              "      <th>2</th>\n",
              "      <td>-0.058824</td>\n",
              "      <td>0.839196</td>\n",
              "      <td>0.049180</td>\n",
              "      <td>-1.000000</td>\n",
              "      <td>-1.000000</td>\n",
              "      <td>-0.305514</td>\n",
              "      <td>-0.492741</td>\n",
              "      <td>-0.633333</td>\n",
              "      <td>1.0</td>\n",
              "    </tr>\n",
              "    <tr>\n",
              "      <th>3</th>\n",
              "      <td>-0.882353</td>\n",
              "      <td>-0.105528</td>\n",
              "      <td>0.081967</td>\n",
              "      <td>-0.535354</td>\n",
              "      <td>-0.777778</td>\n",
              "      <td>-0.162444</td>\n",
              "      <td>-0.923997</td>\n",
              "      <td>-1.000000</td>\n",
              "      <td>-1.0</td>\n",
              "    </tr>\n",
              "    <tr>\n",
              "      <th>4</th>\n",
              "      <td>-1.000000</td>\n",
              "      <td>0.376884</td>\n",
              "      <td>-0.344262</td>\n",
              "      <td>-0.292929</td>\n",
              "      <td>-0.602837</td>\n",
              "      <td>0.284650</td>\n",
              "      <td>0.887276</td>\n",
              "      <td>-0.600000</td>\n",
              "      <td>1.0</td>\n",
              "    </tr>\n",
              "  </tbody>\n",
              "</table>\n",
              "</div>"
            ],
            "text/plain": [
              "       preg      plas      pres      skin  ...      mass      pedi       age  class\n",
              "0 -0.294118  0.487437  0.180328 -0.292929  ...  0.001490 -0.531170 -0.033333    1.0\n",
              "1 -0.882353 -0.145729  0.081967 -0.414141  ... -0.207154 -0.766866 -0.666667   -1.0\n",
              "2 -0.058824  0.839196  0.049180 -1.000000  ... -0.305514 -0.492741 -0.633333    1.0\n",
              "3 -0.882353 -0.105528  0.081967 -0.535354  ... -0.162444 -0.923997 -1.000000   -1.0\n",
              "4 -1.000000  0.376884 -0.344262 -0.292929  ...  0.284650  0.887276 -0.600000    1.0\n",
              "\n",
              "[5 rows x 9 columns]"
            ]
          },
          "metadata": {
            "tags": []
          },
          "execution_count": 18
        }
      ]
    },
    {
      "cell_type": "code",
      "metadata": {
        "colab": {
          "base_uri": "https://localhost:8080/",
          "height": 204
        },
        "id": "-Du89EeNWrKZ",
        "outputId": "3fcb24ec-f8ce-42f6-fd3b-34344890e723"
      },
      "source": [
        "df_train, df_test = split_df_to_train_val(diab_df, 0.7)\n",
        "y_train = df_train.pop('class')\n",
        "y_test = df_test.pop('class')\n",
        "\n",
        "df_train.head()"
      ],
      "execution_count": 19,
      "outputs": [
        {
          "output_type": "execute_result",
          "data": {
            "text/html": [
              "<div>\n",
              "<style scoped>\n",
              "    .dataframe tbody tr th:only-of-type {\n",
              "        vertical-align: middle;\n",
              "    }\n",
              "\n",
              "    .dataframe tbody tr th {\n",
              "        vertical-align: top;\n",
              "    }\n",
              "\n",
              "    .dataframe thead th {\n",
              "        text-align: right;\n",
              "    }\n",
              "</style>\n",
              "<table border=\"1\" class=\"dataframe\">\n",
              "  <thead>\n",
              "    <tr style=\"text-align: right;\">\n",
              "      <th></th>\n",
              "      <th>preg</th>\n",
              "      <th>plas</th>\n",
              "      <th>pres</th>\n",
              "      <th>skin</th>\n",
              "      <th>insu</th>\n",
              "      <th>mass</th>\n",
              "      <th>pedi</th>\n",
              "      <th>age</th>\n",
              "    </tr>\n",
              "  </thead>\n",
              "  <tbody>\n",
              "    <tr>\n",
              "      <th>0</th>\n",
              "      <td>-0.294118</td>\n",
              "      <td>0.487437</td>\n",
              "      <td>0.180328</td>\n",
              "      <td>-0.292929</td>\n",
              "      <td>-1.000000</td>\n",
              "      <td>0.001490</td>\n",
              "      <td>-0.531170</td>\n",
              "      <td>-0.033333</td>\n",
              "    </tr>\n",
              "    <tr>\n",
              "      <th>1</th>\n",
              "      <td>-0.882353</td>\n",
              "      <td>-0.145729</td>\n",
              "      <td>0.081967</td>\n",
              "      <td>-0.414141</td>\n",
              "      <td>-1.000000</td>\n",
              "      <td>-0.207154</td>\n",
              "      <td>-0.766866</td>\n",
              "      <td>-0.666667</td>\n",
              "    </tr>\n",
              "    <tr>\n",
              "      <th>2</th>\n",
              "      <td>-0.058824</td>\n",
              "      <td>0.839196</td>\n",
              "      <td>0.049180</td>\n",
              "      <td>-1.000000</td>\n",
              "      <td>-1.000000</td>\n",
              "      <td>-0.305514</td>\n",
              "      <td>-0.492741</td>\n",
              "      <td>-0.633333</td>\n",
              "    </tr>\n",
              "    <tr>\n",
              "      <th>3</th>\n",
              "      <td>-0.882353</td>\n",
              "      <td>-0.105528</td>\n",
              "      <td>0.081967</td>\n",
              "      <td>-0.535354</td>\n",
              "      <td>-0.777778</td>\n",
              "      <td>-0.162444</td>\n",
              "      <td>-0.923997</td>\n",
              "      <td>-1.000000</td>\n",
              "    </tr>\n",
              "    <tr>\n",
              "      <th>5</th>\n",
              "      <td>-0.411765</td>\n",
              "      <td>0.165829</td>\n",
              "      <td>0.213115</td>\n",
              "      <td>-1.000000</td>\n",
              "      <td>-1.000000</td>\n",
              "      <td>-0.236960</td>\n",
              "      <td>-0.894962</td>\n",
              "      <td>-0.700000</td>\n",
              "    </tr>\n",
              "  </tbody>\n",
              "</table>\n",
              "</div>"
            ],
            "text/plain": [
              "       preg      plas      pres  ...      mass      pedi       age\n",
              "0 -0.294118  0.487437  0.180328  ...  0.001490 -0.531170 -0.033333\n",
              "1 -0.882353 -0.145729  0.081967  ... -0.207154 -0.766866 -0.666667\n",
              "2 -0.058824  0.839196  0.049180  ... -0.305514 -0.492741 -0.633333\n",
              "3 -0.882353 -0.105528  0.081967  ... -0.162444 -0.923997 -1.000000\n",
              "5 -0.411765  0.165829  0.213115  ... -0.236960 -0.894962 -0.700000\n",
              "\n",
              "[5 rows x 8 columns]"
            ]
          },
          "metadata": {
            "tags": []
          },
          "execution_count": 19
        }
      ]
    },
    {
      "cell_type": "code",
      "metadata": {
        "id": "q0dv1dvMkesv"
      },
      "source": [
        "# rf.fit(df_train, y_train)\n",
        "# rf.oob_score_\n",
        "\n",
        "# using cross-validation and grid-search\n",
        "\n",
        "# rf = RandomForestClassifier()\n",
        "# parameters = {\n",
        "#     'max_features': ('auto', 'sqrt', 10, 12, 20, 30),\n",
        "#     'max_depth': (5, 10, 15, None),\n",
        "#     'n_estimators': (100, 200, 500, 1000, 2000)\n",
        "# }\n",
        "# gs_rf = GridSearchCV(estimator=rf, param_grid=parameters, cv=5, n_jobs=-1, verbose=3)\n",
        "# gs_rf.fit(df_train, y_train)\n",
        "\n",
        "# joblib.dump(gs_rf, \"/content/gdrive/MyDrive/DL/Assignment_4/random_forest_diab.joblib\")"
      ],
      "execution_count": 20,
      "outputs": []
    },
    {
      "cell_type": "code",
      "metadata": {
        "id": "lFsUxTywGagL"
      },
      "source": [
        "gs_rf = joblib.load(\"/content/gdrive/MyDrive/DL/Assignment_4/random_forest_diab.joblib\")"
      ],
      "execution_count": 21,
      "outputs": []
    },
    {
      "cell_type": "code",
      "metadata": {
        "colab": {
          "base_uri": "https://localhost:8080/"
        },
        "id": "kDk6y8VAMQmk",
        "outputId": "0904d500-06a4-42de-aa4b-feaf0631aa0f"
      },
      "source": [
        "gs_rf.best_params_"
      ],
      "execution_count": 22,
      "outputs": [
        {
          "output_type": "execute_result",
          "data": {
            "text/plain": [
              "{'max_depth': 5, 'max_features': 'auto', 'n_estimators': 500}"
            ]
          },
          "metadata": {
            "tags": []
          },
          "execution_count": 22
        }
      ]
    },
    {
      "cell_type": "code",
      "metadata": {
        "colab": {
          "base_uri": "https://localhost:8080/"
        },
        "id": "XS3GNQNLTgxw",
        "outputId": "d411881d-ade3-4377-a6e8-5f29bd5122e4"
      },
      "source": [
        "gs_rf.best_score_"
      ],
      "execution_count": 23,
      "outputs": [
        {
          "output_type": "execute_result",
          "data": {
            "text/plain": [
              "0.7571794871794871"
            ]
          },
          "metadata": {
            "tags": []
          },
          "execution_count": 23
        }
      ]
    },
    {
      "cell_type": "code",
      "metadata": {
        "colab": {
          "base_uri": "https://localhost:8080/"
        },
        "id": "V9olZc8EmlH_",
        "outputId": "4a39e2ea-0cc6-4246-fa37-71f4a4a64e6a"
      },
      "source": [
        "p = gs_rf.predict(df_test)\n",
        "confusion_matrix(y_test.values, p)"
      ],
      "execution_count": 24,
      "outputs": [
        {
          "output_type": "execute_result",
          "data": {
            "text/plain": [
              "array([[137,  14],\n",
              "       [ 28,  64]])"
            ]
          },
          "metadata": {
            "tags": []
          },
          "execution_count": 24
        }
      ]
    },
    {
      "cell_type": "code",
      "metadata": {
        "colab": {
          "base_uri": "https://localhost:8080/"
        },
        "id": "tB33XCTwnp2y",
        "outputId": "2e2f7d05-9ebf-4b02-a9d2-deff991b971e"
      },
      "source": [
        "print(classification_report(y_test.values, p,labels=[1,-1]))"
      ],
      "execution_count": 25,
      "outputs": [
        {
          "output_type": "stream",
          "text": [
            "              precision    recall  f1-score   support\n",
            "\n",
            "           1       0.82      0.70      0.75        92\n",
            "          -1       0.83      0.91      0.87       151\n",
            "\n",
            "    accuracy                           0.83       243\n",
            "   macro avg       0.83      0.80      0.81       243\n",
            "weighted avg       0.83      0.83      0.82       243\n",
            "\n"
          ],
          "name": "stdout"
        }
      ]
    },
    {
      "cell_type": "code",
      "metadata": {
        "id": "Mm5gwJr9pmA4"
      },
      "source": [
        "# joblib.dump(gs_rf, \"/content/gdrive/MyDrive/DL/Assignment_4/random_forest_cred.joblib\")\n",
        "# gs_rf = joblib.load(\"/content/gdrive/MyDrive/DL/Assignment_4/random_forest_cred.joblib\")\n",
        "\n"
      ],
      "execution_count": 26,
      "outputs": []
    },
    {
      "cell_type": "code",
      "metadata": {
        "id": "I1rc_ONj6asZ"
      },
      "source": [
        "\n",
        "\n",
        "class GAN:\n",
        "\n",
        "    def __init__(self, black_box_model):\n",
        "        self.latent_dim = 10\n",
        "        self.generator_vector_size = 8\n",
        "        self.discriminator_input_shape = (self.generator_vector_size,)\n",
        "\n",
        "        self.generator = self.make_generator_model()\n",
        "        self.discriminator = self.make_discriminator_model()\n",
        "        self.gan = self.combime_gan(self.generator, self.discriminator)\n",
        "        # self.gs_rf = joblib.load(\"random_forest_diab.joblib\")\n",
        "        self.gs_rf = black_box_model\n",
        "\n",
        "\n",
        "    def combime_gan(self, g_model, d_model):\n",
        "        # make weights in the discriminator not trainable\n",
        "        d_model.trainable = False\n",
        "        g_input = Input(shape=(self.latent_dim,))\n",
        "        c_input = Input(shape=(1,))\n",
        "        g_sample = g_model([g_input, c_input])\n",
        "        d_desision = d_model([g_sample, c_input, c_input])\n",
        "        gan_model = Model([g_input, c_input], d_desision)\n",
        "        opt = tf.keras.optimizers.Adam(lr=0.0002, beta_1=0.5)\n",
        "        gan_model.compile(loss='binary_crossentropy', optimizer=opt, metrics=['accuracy'])\n",
        "        return gan_model\n",
        "\n",
        "    def make_generator_model(self):\n",
        "        input_noise = Input(shape=(self.latent_dim,))\n",
        "        c_input = Input(shape=(1,))\n",
        "        concat_layer_c = concatenate([input_noise, c_input])\n",
        "        dense_1 = Dense(30, use_bias=True)(concat_layer_c)\n",
        "        dense_1_bn = BatchNormalization()(dense_1)\n",
        "        dense_1_lr = LeakyReLU()(dense_1_bn)\n",
        "        dense_1_do = Dropout(0.2)(dense_1_lr)\n",
        "        dense_2 = Dense(15)(dense_1_do)\n",
        "        dense_2_bn = BatchNormalization()(dense_2)\n",
        "        dense_2_lr = LeakyReLU()(dense_2_bn)\n",
        "        dense_2_do = Dropout(0.2)(dense_2_lr)\n",
        "        final_layer = Dense(self.generator_vector_size, activation='tanh')(dense_2_do)\n",
        "        # concat_layer = concatenate([final_layer, c_input])\n",
        "        model = Model(inputs=[input_noise, c_input], outputs=final_layer)\n",
        "\n",
        "        model.summary()\n",
        "        return model\n",
        "\n",
        "    def make_discriminator_model(self):\n",
        "\n",
        "        # input_sample = Input(shape=self.discriminator_input_shape,)\n",
        "        input_sample = Input(shape=self.discriminator_input_shape)\n",
        "        cy1_input = Input(shape=(1,))\n",
        "        cy2_input = Input(shape=(1,))\n",
        "\n",
        "        concat_layer_c = concatenate([input_sample, cy1_input, cy2_input])\n",
        "        dense_1 = Dense(32, use_bias=True)(concat_layer_c)\n",
        "        dense_1_lr = LeakyReLU()(dense_1)\n",
        "        dense_1_do = Dropout(0.2)(dense_1_lr)\n",
        "        dense_2 = Dense(16)(dense_1_do)\n",
        "        dense_2_lr = LeakyReLU()(dense_2)\n",
        "        dense_2_do = Dropout(0.2)(dense_2_lr)\n",
        "        flatten = Flatten()(dense_2_do)\n",
        "        final_layer = Dense(1, activation='sigmoid')(flatten)\n",
        "        model = Model(inputs=[input_sample, cy1_input, cy2_input], outputs=final_layer)\n",
        "        # opt = tf.keras.optimizers.Adam(lr=0.00015, beta_1=0.5)\n",
        "        opt = tf.keras.optimizers.Adam(lr=0.0002, beta_1=0.5)\n",
        "        model.compile(loss='binary_crossentropy', optimizer=opt, metrics=['accuracy'])\n",
        "        model.summary()\n",
        "        return model\n",
        "\n",
        "    def generate_real_x_y(self, n_samples: int) -> Tuple[np.ndarray, np.ndarray, np.ndarray, np.ndarray]:\n",
        "        # prepare samples\n",
        "        noise = np.random.uniform(-1, 1, size=(n_samples, self.latent_dim))\n",
        "        c_1 = np.random.random((n_samples, ))\n",
        "        samples_1 = self.generator.predict([noise, c_1])\n",
        "        y_1 = self.gs_rf.predict_proba(samples_1)[:, 0]\n",
        "        valid = np.ones((n_samples, 1))\n",
        "        return samples_1, c_1, y_1, valid\n",
        "\n",
        "    def generate_fake_x_y(self, n_samples: int) -> Tuple[np.ndarray, np.ndarray, np.ndarray, np.ndarray]:\n",
        "        noise = np.random.uniform(-1, 1, size=(n_samples, self.latent_dim))\n",
        "        c_2 = np.random.random((n_samples, ))\n",
        "        samples_2 = self.generator.predict([noise, c_2])\n",
        "        y_2 = self.gs_rf.predict_proba(samples_2)[:, 0]\n",
        "        invalid = np.zeros((n_samples, 1))\n",
        "        return samples_2, y_2, c_2, invalid\n",
        "\n",
        "    def train(self, epochs, batch_size=8):\n",
        "        # (X_train, _), (_, _) = mnist.load_data()\n",
        "        # X_train = X_train / 127.5 - 1.\n",
        "        # X_train = np.expand_dims(X_train, axis=3)\n",
        "        # X_train = df.values\n",
        "        valid = np.ones((batch_size, 1))\n",
        "        invalid = np.zeros((batch_size, 1))\n",
        "        valid_twice = np.ones((batch_size * 2, 1))\n",
        "        # fake = np.zeros((batch_size, 1))\n",
        "        d_losses = np.zeros((epochs, 1))\n",
        "        d_accuracies = np.zeros((epochs, 1))\n",
        "        d_fake_losses = np.zeros((epochs, 1))\n",
        "        d_fake_accuracies = np.zeros((epochs, 1))\n",
        "        d_real_losses = np.zeros((epochs, 1))\n",
        "        d_real_accuracies = np.zeros((epochs, 1))\n",
        "        g_losses = np.zeros((epochs, 1))\n",
        "        g_accuracies = np.zeros((epochs, 1))\n",
        "        best_epoch = 0\n",
        "\n",
        "        d_acc_delta_to_0_5 = 1\n",
        "        losses_delta = 1\n",
        "        real_2_fake_acc_delta = 1\n",
        "        for i, epoch in enumerate(range(epochs)):\n",
        "            # prepare samples\n",
        "            noise = np.random.uniform(-1, 1, size=(batch_size, self.latent_dim))\n",
        "            c_1 = np.random.random((batch_size, ))\n",
        "            samples_1 = self.generator.predict([noise, c_1])\n",
        "            y_1 = self.gs_rf.predict_proba(samples_1)[:, 0]  # evaluate Y via RF classifier take first column confidence\n",
        "            c_2 = np.random.random((batch_size, ))\n",
        "            samples_2 = self.generator.predict([noise, c_2])\n",
        "            y_2 = self.gs_rf.predict_proba(samples_2)[:, 0]  # evaluate Y via RF classifier take first column confidence\n",
        "\n",
        "            # create training set for the discriminator\n",
        "            # swapping places between 'y' and 'c' trains the Discriminator\n",
        "            # to realize that right hand side parameter is fake (and the opposite)\n",
        "            samples, c, y_bb = np.vstack((samples_1, samples_2)), np.concatenate((c_1, y_2), axis=None), np.concatenate((y_1, c_2), axis=None)\n",
        "            # samples, c, y_bb = np.vstack((samples_1, samples_2)), np.vstack((c_1, y_2)), np.vstack((y_1, c_2))\n",
        "\n",
        "            # update discriminator model weights\n",
        "            d_loss, d_acc = self.discriminator.train_on_batch([samples, c, y_bb], np.vstack((valid, invalid)))\n",
        "\n",
        "            # evaluate discriminator on real examples\n",
        "            samples_real, c_real, y_bb_real, y_real = self.generate_real_x_y(batch_size)\n",
        "            d_loss_real, d_acc_real = self.discriminator.evaluate([samples_real, c_real, y_bb_real], y_real, verbose=0)\n",
        "            # evaluate discriminator on fake examples\n",
        "            samples_fake, c_fake, y_bb_fake, y_fake = self.generate_fake_x_y(batch_size)\n",
        "            d_loss_fake, d_acc_fake = self.discriminator.evaluate([samples_fake, c_fake, y_bb_fake], y_fake, verbose=0)\n",
        "\n",
        "            d_fake_losses[i] = d_loss_fake\n",
        "            d_real_losses[i] = d_loss_real\n",
        "            d_fake_accuracies[i] = d_acc_fake\n",
        "            d_real_accuracies[i] = d_acc_real\n",
        "\n",
        "            # create inverted labels for the fake samples so generator can improve to be 'real'\n",
        "            # update the generator via the discriminator's error\n",
        "            noise = np.random.uniform(-1, 1, size=(batch_size * 2, self.latent_dim))\n",
        "            c = np.random.normal(0, 1, (batch_size * 2, ))\n",
        "            g_loss, g_acc = self.gan.train_on_batch([noise, c], valid_twice)\n",
        "\n",
        "            d_losses[i] = d_loss\n",
        "            d_accuracies[i] = d_acc\n",
        "            g_losses[i] = g_loss\n",
        "            g_accuracies[i] = g_acc\n",
        "\n",
        "            # if i % 50 == 0:\n",
        "            #     print(\"epoch %d [D loss: %f, acc.: %.2f%%] [G loss: %f, acc.: %.2f%%]\" % (epoch, d_loss, 100 * d_acc, g_loss, g_acc))\n",
        "            #     if 800 <= i:\n",
        "            #         if abs(g_loss - d_loss) < losses_delta: # check that losses converged\n",
        "            #             if d_acc_delta_to_0_5 > abs(d_acc - 0.5) and real_2_fake_acc_delta > abs( d_acc_fake - d_acc_real): # save generator model for closest to 0.5 accuracy\n",
        "            #                 losses_delta = abs(g_loss - d_loss)\n",
        "            #                 d_acc_delta_to_0_5 = abs(d_acc - 0.5)\n",
        "            #                 real_2_fake_acc_delta = abs(d_fake_accuracies - d_real_accuracies)\n",
        "            #                 filename = 'generator_model.h5'\n",
        "            #                 self.generator.save(filename)\n",
        "            #                 best_epoch = epoch\n",
        "\n",
        "            if i % 50 == 0:\n",
        "                print(\"epoch %d [D loss: %f, acc.: %.2f%%] [G loss: %f, acc.: %.2f%%]\" % (epoch, d_loss, 100 * d_acc, g_loss, g_acc))\n",
        "                if 800 <= i:\n",
        "                    if abs(g_loss - d_loss) < 0.1: # check that losses converged\n",
        "                        if abs(d_acc - 0.5) < 0.1 and abs( d_acc_fake - d_acc_real) < 0.1 : # save generator model for closest to 0.5 accuracy\n",
        "                            # filename = 'generator_model.h5'\n",
        "                            filename = 'generator_model_%03d.h5' % epoch\n",
        "\n",
        "                            self.generator.save(filename)\n",
        "                            best_epoch = epoch       \n",
        "\n",
        "        print(f'Best epoch: {best_epoch}')\n",
        "        return d_losses, d_accuracies, g_losses, g_accuracies, d_fake_losses, d_real_losses, d_fake_accuracies, d_real_accuracies"
      ],
      "execution_count": 27,
      "outputs": []
    },
    {
      "cell_type": "code",
      "metadata": {
        "colab": {
          "base_uri": "https://localhost:8080/"
        },
        "id": "Zq2RyaE2VHCg",
        "outputId": "cbdf82c5-f0a5-4f22-d15a-4d930acc959b"
      },
      "source": [
        "iterations = 3500\n",
        "gan = GAN(gs_rf)\n",
        "# d_losses, d_accuracies, g_losses, g_accuracies = gan.train(epochs=iterations, batch_size=16)\n",
        "d_losses, d_accuracies, g_losses, g_accuracies, d_fake_losses, d_real_losses, d_fake_accuracies, d_real_accuracies = gan.train(epochs=iterations, batch_size=16)"
      ],
      "execution_count": 28,
      "outputs": [
        {
          "output_type": "stream",
          "text": [
            "Model: \"model_3\"\n",
            "__________________________________________________________________________________________________\n",
            "Layer (type)                    Output Shape         Param #     Connected to                     \n",
            "==================================================================================================\n",
            "input_8 (InputLayer)            [(None, 10)]         0                                            \n",
            "__________________________________________________________________________________________________\n",
            "input_9 (InputLayer)            [(None, 1)]          0                                            \n",
            "__________________________________________________________________________________________________\n",
            "concatenate_2 (Concatenate)     (None, 11)           0           input_8[0][0]                    \n",
            "                                                                 input_9[0][0]                    \n",
            "__________________________________________________________________________________________________\n",
            "dense_6 (Dense)                 (None, 30)           360         concatenate_2[0][0]              \n",
            "__________________________________________________________________________________________________\n",
            "batch_normalization_2 (BatchNor (None, 30)           120         dense_6[0][0]                    \n",
            "__________________________________________________________________________________________________\n",
            "leaky_re_lu_4 (LeakyReLU)       (None, 30)           0           batch_normalization_2[0][0]      \n",
            "__________________________________________________________________________________________________\n",
            "dropout_4 (Dropout)             (None, 30)           0           leaky_re_lu_4[0][0]              \n",
            "__________________________________________________________________________________________________\n",
            "dense_7 (Dense)                 (None, 15)           465         dropout_4[0][0]                  \n",
            "__________________________________________________________________________________________________\n",
            "batch_normalization_3 (BatchNor (None, 15)           60          dense_7[0][0]                    \n",
            "__________________________________________________________________________________________________\n",
            "leaky_re_lu_5 (LeakyReLU)       (None, 15)           0           batch_normalization_3[0][0]      \n",
            "__________________________________________________________________________________________________\n",
            "dropout_5 (Dropout)             (None, 15)           0           leaky_re_lu_5[0][0]              \n",
            "__________________________________________________________________________________________________\n",
            "dense_8 (Dense)                 (None, 8)            128         dropout_5[0][0]                  \n",
            "==================================================================================================\n",
            "Total params: 1,133\n",
            "Trainable params: 1,043\n",
            "Non-trainable params: 90\n",
            "__________________________________________________________________________________________________\n",
            "Model: \"model_4\"\n",
            "__________________________________________________________________________________________________\n",
            "Layer (type)                    Output Shape         Param #     Connected to                     \n",
            "==================================================================================================\n",
            "input_10 (InputLayer)           [(None, 8)]          0                                            \n",
            "__________________________________________________________________________________________________\n",
            "input_11 (InputLayer)           [(None, 1)]          0                                            \n",
            "__________________________________________________________________________________________________\n",
            "input_12 (InputLayer)           [(None, 1)]          0                                            \n",
            "__________________________________________________________________________________________________\n",
            "concatenate_3 (Concatenate)     (None, 10)           0           input_10[0][0]                   \n",
            "                                                                 input_11[0][0]                   \n",
            "                                                                 input_12[0][0]                   \n",
            "__________________________________________________________________________________________________\n",
            "dense_9 (Dense)                 (None, 32)           352         concatenate_3[0][0]              \n",
            "__________________________________________________________________________________________________\n",
            "leaky_re_lu_6 (LeakyReLU)       (None, 32)           0           dense_9[0][0]                    \n",
            "__________________________________________________________________________________________________\n",
            "dropout_6 (Dropout)             (None, 32)           0           leaky_re_lu_6[0][0]              \n",
            "__________________________________________________________________________________________________\n",
            "dense_10 (Dense)                (None, 16)           528         dropout_6[0][0]                  \n",
            "__________________________________________________________________________________________________\n",
            "leaky_re_lu_7 (LeakyReLU)       (None, 16)           0           dense_10[0][0]                   \n",
            "__________________________________________________________________________________________________\n",
            "dropout_7 (Dropout)             (None, 16)           0           leaky_re_lu_7[0][0]              \n",
            "__________________________________________________________________________________________________\n",
            "flatten_1 (Flatten)             (None, 16)           0           dropout_7[0][0]                  \n",
            "__________________________________________________________________________________________________\n",
            "dense_11 (Dense)                (None, 1)            17          flatten_1[0][0]                  \n",
            "==================================================================================================\n",
            "Total params: 897\n",
            "Trainable params: 897\n",
            "Non-trainable params: 0\n",
            "__________________________________________________________________________________________________\n"
          ],
          "name": "stdout"
        },
        {
          "output_type": "stream",
          "text": [
            "/usr/local/lib/python3.7/dist-packages/tensorflow/python/keras/optimizer_v2/optimizer_v2.py:375: UserWarning: The `lr` argument is deprecated, use `learning_rate` instead.\n",
            "  \"The `lr` argument is deprecated, use `learning_rate` instead.\")\n"
          ],
          "name": "stderr"
        },
        {
          "output_type": "stream",
          "text": [
            "epoch 0 [D loss: 0.715245, acc.: 43.75%] [G loss: 0.622383, acc.: 0.72%]\n",
            "epoch 50 [D loss: 0.706564, acc.: 41.67%] [G loss: 0.660536, acc.: 0.66%]\n",
            "epoch 100 [D loss: 0.687883, acc.: 52.08%] [G loss: 0.655968, acc.: 0.66%]\n",
            "epoch 150 [D loss: 0.710320, acc.: 41.67%] [G loss: 0.647529, acc.: 0.72%]\n",
            "epoch 200 [D loss: 0.701342, acc.: 43.75%] [G loss: 0.659534, acc.: 0.62%]\n",
            "epoch 250 [D loss: 0.701286, acc.: 47.92%] [G loss: 0.642662, acc.: 0.66%]\n",
            "epoch 300 [D loss: 0.707149, acc.: 43.75%] [G loss: 0.690418, acc.: 0.53%]\n",
            "epoch 350 [D loss: 0.695735, acc.: 50.00%] [G loss: 0.697556, acc.: 0.50%]\n",
            "epoch 400 [D loss: 0.700043, acc.: 41.67%] [G loss: 0.698496, acc.: 0.50%]\n",
            "epoch 450 [D loss: 0.681768, acc.: 66.67%] [G loss: 0.687556, acc.: 0.56%]\n",
            "epoch 500 [D loss: 0.695710, acc.: 43.75%] [G loss: 0.664671, acc.: 0.66%]\n",
            "epoch 550 [D loss: 0.693221, acc.: 58.33%] [G loss: 0.708762, acc.: 0.50%]\n",
            "epoch 600 [D loss: 0.672861, acc.: 54.17%] [G loss: 0.689501, acc.: 0.53%]\n",
            "epoch 650 [D loss: 0.667326, acc.: 66.67%] [G loss: 0.704351, acc.: 0.53%]\n",
            "epoch 700 [D loss: 0.668637, acc.: 56.25%] [G loss: 0.709959, acc.: 0.44%]\n",
            "epoch 750 [D loss: 0.663259, acc.: 58.33%] [G loss: 0.685925, acc.: 0.53%]\n",
            "epoch 800 [D loss: 0.657261, acc.: 62.50%] [G loss: 0.663965, acc.: 0.56%]\n",
            "epoch 850 [D loss: 0.670275, acc.: 54.17%] [G loss: 0.674454, acc.: 0.47%]\n",
            "epoch 900 [D loss: 0.686576, acc.: 45.83%] [G loss: 0.698278, acc.: 0.53%]\n",
            "WARNING:tensorflow:Compiled the loaded model, but the compiled metrics have yet to be built. `model.compile_metrics` will be empty until you train or evaluate the model.\n",
            "epoch 950 [D loss: 0.676688, acc.: 56.25%] [G loss: 0.708375, acc.: 0.34%]\n",
            "WARNING:tensorflow:Compiled the loaded model, but the compiled metrics have yet to be built. `model.compile_metrics` will be empty until you train or evaluate the model.\n",
            "epoch 1000 [D loss: 0.611024, acc.: 81.25%] [G loss: 0.752208, acc.: 0.38%]\n",
            "epoch 1050 [D loss: 0.654660, acc.: 62.50%] [G loss: 0.754835, acc.: 0.38%]\n",
            "epoch 1100 [D loss: 0.655552, acc.: 62.50%] [G loss: 0.696438, acc.: 0.50%]\n",
            "epoch 1150 [D loss: 0.599076, acc.: 64.58%] [G loss: 0.753653, acc.: 0.47%]\n",
            "epoch 1200 [D loss: 0.591928, acc.: 68.75%] [G loss: 0.656219, acc.: 0.56%]\n",
            "epoch 1250 [D loss: 0.600817, acc.: 64.58%] [G loss: 0.627125, acc.: 0.59%]\n",
            "epoch 1300 [D loss: 0.600536, acc.: 68.75%] [G loss: 0.767254, acc.: 0.50%]\n",
            "epoch 1350 [D loss: 0.595582, acc.: 62.50%] [G loss: 0.736065, acc.: 0.44%]\n",
            "epoch 1400 [D loss: 0.590300, acc.: 64.58%] [G loss: 0.816700, acc.: 0.28%]\n",
            "epoch 1450 [D loss: 0.615358, acc.: 62.50%] [G loss: 0.805086, acc.: 0.38%]\n",
            "epoch 1500 [D loss: 0.582855, acc.: 75.00%] [G loss: 0.780577, acc.: 0.38%]\n",
            "epoch 1550 [D loss: 0.665322, acc.: 60.42%] [G loss: 0.726574, acc.: 0.38%]\n",
            "epoch 1600 [D loss: 0.587610, acc.: 60.42%] [G loss: 0.724140, acc.: 0.56%]\n",
            "epoch 1650 [D loss: 0.500443, acc.: 83.33%] [G loss: 0.745772, acc.: 0.50%]\n",
            "epoch 1700 [D loss: 0.587132, acc.: 68.75%] [G loss: 0.747766, acc.: 0.38%]\n",
            "epoch 1750 [D loss: 0.584407, acc.: 62.50%] [G loss: 0.651664, acc.: 0.62%]\n",
            "epoch 1800 [D loss: 0.611873, acc.: 56.25%] [G loss: 0.708274, acc.: 0.59%]\n",
            "epoch 1850 [D loss: 0.626151, acc.: 62.50%] [G loss: 0.682290, acc.: 0.41%]\n",
            "epoch 1900 [D loss: 0.574957, acc.: 62.50%] [G loss: 0.663839, acc.: 0.50%]\n",
            "epoch 1950 [D loss: 0.500920, acc.: 72.92%] [G loss: 0.658782, acc.: 0.62%]\n",
            "epoch 2000 [D loss: 0.620118, acc.: 64.58%] [G loss: 0.649308, acc.: 0.59%]\n",
            "epoch 2050 [D loss: 0.508203, acc.: 77.08%] [G loss: 0.624178, acc.: 0.56%]\n",
            "epoch 2100 [D loss: 0.622628, acc.: 58.33%] [G loss: 0.591450, acc.: 0.72%]\n",
            "WARNING:tensorflow:Compiled the loaded model, but the compiled metrics have yet to be built. `model.compile_metrics` will be empty until you train or evaluate the model.\n",
            "epoch 2150 [D loss: 0.702931, acc.: 54.17%] [G loss: 0.616202, acc.: 0.53%]\n",
            "WARNING:tensorflow:Compiled the loaded model, but the compiled metrics have yet to be built. `model.compile_metrics` will be empty until you train or evaluate the model.\n",
            "epoch 2200 [D loss: 0.587752, acc.: 60.42%] [G loss: 0.559590, acc.: 0.75%]\n",
            "epoch 2250 [D loss: 0.662215, acc.: 56.25%] [G loss: 0.557340, acc.: 0.72%]\n",
            "epoch 2300 [D loss: 0.595088, acc.: 60.42%] [G loss: 0.569570, acc.: 0.66%]\n",
            "epoch 2350 [D loss: 0.639838, acc.: 62.50%] [G loss: 0.478411, acc.: 0.75%]\n",
            "epoch 2400 [D loss: 0.600284, acc.: 64.58%] [G loss: 0.518620, acc.: 0.69%]\n",
            "epoch 2450 [D loss: 0.580736, acc.: 68.75%] [G loss: 0.575957, acc.: 0.62%]\n",
            "epoch 2500 [D loss: 0.604512, acc.: 62.50%] [G loss: 0.591493, acc.: 0.69%]\n",
            "epoch 2550 [D loss: 0.578957, acc.: 66.67%] [G loss: 0.563511, acc.: 0.62%]\n",
            "epoch 2600 [D loss: 0.632885, acc.: 58.33%] [G loss: 0.539815, acc.: 0.72%]\n",
            "epoch 2650 [D loss: 0.588480, acc.: 68.75%] [G loss: 0.546219, acc.: 0.66%]\n",
            "epoch 2700 [D loss: 0.643101, acc.: 54.17%] [G loss: 0.480149, acc.: 0.75%]\n",
            "epoch 2750 [D loss: 0.634310, acc.: 58.33%] [G loss: 0.566331, acc.: 0.69%]\n",
            "epoch 2800 [D loss: 0.679950, acc.: 56.25%] [G loss: 0.641753, acc.: 0.59%]\n",
            "epoch 2850 [D loss: 0.655033, acc.: 58.33%] [G loss: 0.519728, acc.: 0.62%]\n",
            "epoch 2900 [D loss: 0.691411, acc.: 52.08%] [G loss: 0.541434, acc.: 0.62%]\n",
            "epoch 2950 [D loss: 0.665220, acc.: 54.17%] [G loss: 0.496727, acc.: 0.66%]\n",
            "epoch 3000 [D loss: 0.665393, acc.: 52.08%] [G loss: 0.479365, acc.: 0.66%]\n",
            "epoch 3050 [D loss: 0.645115, acc.: 54.17%] [G loss: 0.494659, acc.: 0.56%]\n",
            "epoch 3100 [D loss: 0.632724, acc.: 60.42%] [G loss: 0.481197, acc.: 0.72%]\n",
            "epoch 3150 [D loss: 0.653435, acc.: 47.92%] [G loss: 0.561382, acc.: 0.66%]\n",
            "epoch 3200 [D loss: 0.655852, acc.: 47.92%] [G loss: 0.438676, acc.: 0.81%]\n",
            "epoch 3250 [D loss: 0.685477, acc.: 41.67%] [G loss: 0.492285, acc.: 0.59%]\n",
            "epoch 3300 [D loss: 0.613944, acc.: 50.00%] [G loss: 0.596135, acc.: 0.56%]\n",
            "epoch 3350 [D loss: 0.586256, acc.: 64.58%] [G loss: 0.517767, acc.: 0.62%]\n",
            "epoch 3400 [D loss: 0.630345, acc.: 52.08%] [G loss: 0.547648, acc.: 0.59%]\n",
            "epoch 3450 [D loss: 0.626677, acc.: 52.08%] [G loss: 0.479400, acc.: 0.66%]\n",
            "Best epoch: 2150\n"
          ],
          "name": "stdout"
        }
      ]
    },
    {
      "cell_type": "code",
      "metadata": {
        "colab": {
          "base_uri": "https://localhost:8080/",
          "height": 295
        },
        "id": "ZM9PERydwSj1",
        "outputId": "03c616d0-94b6-444d-d1af-a58293d10568"
      },
      "source": [
        "from typing import List\n",
        "\n",
        "def plot_metric_general(graphs: List[np.ndarray], labels: List[str]) -> None:\n",
        "    import matplotlib.pyplot as plt\n",
        "    epochs = range(1, graphs[0].shape[0] + 1)\n",
        "    plt.xlabel(\"Iterations\")\n",
        "    plt.title('Gan')\n",
        "    for i in range(len(labels)):\n",
        "        plt.plot(epochs, graphs[i])\n",
        "    plt.legend(labels)\n",
        "    plt.show()\n",
        "\n",
        "def moving_average(x, w):\n",
        "    return np.convolve(x, np.ones(w), 'valid') / w\n",
        "\n",
        "d_losses_smooth, d_fake_accuracies_smooth, d_real_accuracies_smooth = moving_average(d_losses.reshape((iterations)), 5), moving_average(d_fake_accuracies.reshape((iterations)), 5), moving_average(d_real_accuracies.reshape((iterations)), 5)\n",
        "\n",
        "plot_metric_general([d_losses_smooth, d_fake_accuracies_smooth, d_real_accuracies_smooth], ['d_losses_smooth', 'd_fake_accuracies_smooth', 'd_real_accuracies_smooth'])\n",
        "# plot_metric_general([d_losses, d_accuracies, g_losses, g_accuracies], ['d_losses', 'd_accuracies', 'g_losses', 'g_accuracies']) \n",
        "# we can see aroud 800 epochs d_fake_accuracies=d_real_accuracies=0.5 and after that it degragates "
      ],
      "execution_count": 29,
      "outputs": [
        {
          "output_type": "display_data",
          "data": {
            "image/png": "[encoded data removed]",
            "text/plain": [
              "<Figure size 432x288 with 1 Axes>"
            ]
          },
          "metadata": {
            "tags": [],
            "needs_background": "light"
          }
        }
      ]
    },
    {
      "cell_type": "code",
      "metadata": {
        "colab": {
          "base_uri": "https://localhost:8080/",
          "height": 295
        },
        "id": "Ix6EuTBrIWmd",
        "outputId": "bdd2fd3a-ad33-477a-fe09-45bb619532b7"
      },
      "source": [
        "d_losses_smooth, d_accuracies_smooth, g_losses_smooth, g_accuracies_smooth = moving_average(d_losses.reshape((iterations)), 5), moving_average(d_accuracies.reshape((iterations)), 5), moving_average(g_losses.reshape((iterations)), 5), moving_average(g_accuracies.reshape((iterations)), 5)\n",
        "\n",
        "plot_metric_general([d_losses_smooth, d_accuracies_smooth, g_losses_smooth], ['d_losses_smooth', 'd_accuracies_smooth', 'g_losses_smooth'])"
      ],
      "execution_count": 30,
      "outputs": [
        {
          "output_type": "display_data",
          "data": {
            "image/png": "[encoded data removed]",
            "text/plain": [
              "<Figure size 432x288 with 1 Axes>"
            ]
          },
          "metadata": {
            "tags": [],
            "needs_background": "light"
          }
        }
      ]
    },
    {
      "cell_type": "code",
      "metadata": {
        "id": "waAGk29Rxq3N"
      },
      "source": [
        "import seaborn as sns\n",
        "sns.set_theme()"
      ],
      "execution_count": 31,
      "outputs": []
    },
    {
      "cell_type": "code",
      "metadata": {
        "colab": {
          "base_uri": "https://localhost:8080/",
          "height": 382
        },
        "id": "nisaRy3kz1J8",
        "outputId": "7704574f-9adf-4e8b-e098-940a72a229c4"
      },
      "source": [
        "p_proba = gs_rf.predict_proba(df_test)[:,0]\n",
        "sns.displot(p_proba, bins=10)"
      ],
      "execution_count": 32,
      "outputs": [
        {
          "output_type": "execute_result",
          "data": {
            "text/plain": [
              "<seaborn.axisgrid.FacetGrid at 0x7fc9395b9f10>"
            ]
          },
          "metadata": {
            "tags": []
          },
          "execution_count": 32
        },
        {
          "output_type": "display_data",
          "data": {
            "image/png": "[encoded data removed]",
            "text/plain": [
              "<Figure size 360x360 with 1 Axes>"
            ]
          },
          "metadata": {
            "tags": []
          }
        }
      ]
    },
    {
      "cell_type": "code",
      "metadata": {
        "colab": {
          "base_uri": "https://localhost:8080/"
        },
        "id": "5JzF-M_k0aOH",
        "outputId": "dc1010c3-313d-4350-d46e-39439604bf3e"
      },
      "source": [
        "print(f'min {min(p_proba)}, max {max(p_proba)}, avg {sum(p_proba)/len(p_proba)}')"
      ],
      "execution_count": 33,
      "outputs": [
        {
          "output_type": "stream",
          "text": [
            "min 0.16437916595696844, max 0.9832781989358225, avg 0.6380105573088423\n"
          ],
          "name": "stdout"
        }
      ]
    },
    {
      "cell_type": "code",
      "metadata": {
        "colab": {
          "base_uri": "https://localhost:8080/"
        },
        "id": "KcX8i-2g1Ebu",
        "outputId": "68e40ce2-32b9-4f96-a349-036dc9fe28db"
      },
      "source": [
        "smaples_len = 1000\n",
        "noise = np.random.uniform(-1, 1, size=(smaples_len, 10))\n",
        "c = np.random.uniform(size=(smaples_len, ))\n",
        "loaded_generator = tf.keras.models.load_model('generator_model_2100.h5')\n",
        "# samples = gan.generator.predict([noise, c])\n",
        "samples = loaded_generator.predict([noise, c])"
      ],
      "execution_count": 49,
      "outputs": [
        {
          "output_type": "stream",
          "text": [
            "WARNING:tensorflow:No training configuration found in the save file, so the model was *not* compiled. Compile it manually.\n"
          ],
          "name": "stdout"
        }
      ]
    },
    {
      "cell_type": "code",
      "metadata": {
        "colab": {
          "base_uri": "https://localhost:8080/",
          "height": 382
        },
        "id": "JAGHmhKu1pwM",
        "outputId": "0bd429c2-3f66-4b4e-df67-c0cf41e60738"
      },
      "source": [
        "p_proba_s = gs_rf.predict_proba(samples)[:,0]\n",
        "sns.displot(p_proba_s, bins=10)"
      ],
      "execution_count": 50,
      "outputs": [
        {
          "output_type": "execute_result",
          "data": {
            "text/plain": [
              "<seaborn.axisgrid.FacetGrid at 0x7fc9482d2a50>"
            ]
          },
          "metadata": {
            "tags": []
          },
          "execution_count": 50
        },
        {
          "output_type": "display_data",
          "data": {
            "image/png": "[encoded data removed]",
            "text/plain": [
              "<Figure size 360x360 with 1 Axes>"
            ]
          },
          "metadata": {
            "tags": []
          }
        }
      ]
    },
    {
      "cell_type": "code",
      "metadata": {
        "colab": {
          "base_uri": "https://localhost:8080/"
        },
        "id": "3tBQsOEQ3Qkh",
        "outputId": "ef8253a1-53dd-44ab-b3e5-d9c99046e624"
      },
      "source": [
        "print(f'min {min(p_proba_s)}, max {max(p_proba_s)}, avg {sum(p_proba_s)/len(p_proba_s)}')"
      ],
      "execution_count": 51,
      "outputs": [
        {
          "output_type": "stream",
          "text": [
            "min 0.3287434047365515, max 0.928045728588254, avg 0.633922940636928\n"
          ],
          "name": "stdout"
        }
      ]
    },
    {
      "cell_type": "code",
      "metadata": {
        "id": "TRL8Lj9oy0DN"
      },
      "source": [
        "# will be a little bit hard to explain... the distribution is not the same at all.\n",
        "# got various different results from a couple of runs\n",
        "# for sure one of the other architecures will give a better results"
      ],
      "execution_count": null,
      "outputs": []
    }
  ]
}