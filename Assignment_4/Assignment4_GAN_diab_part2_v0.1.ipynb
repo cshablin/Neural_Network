{
  "nbformat": 4,
  "nbformat_minor": 0,
  "metadata": {
    "colab": {
      "name": "Assignment4_GAN_diab_part2_v0.1.ipynb",
      "provenance": [],
      "collapsed_sections": []
    },
    "kernelspec": {
      "name": "python3",
      "display_name": "Python 3"
    },
    "language_info": {
      "name": "python"
    }
  },
  "cells": [
    {
      "cell_type": "code",
      "metadata": {
        "id": "4kmcxRzCD1nh"
      },
      "source": [
        "import pandas as pd\n",
        "import numpy as np\n",
        "from scipy.io import arff\n",
        "import tensorflow as tf\n",
        "from tensorflow.keras import layers, backend \n",
        "from sklearn.ensemble import RandomForestClassifier\n",
        "from sklearn.metrics import confusion_matrix\n",
        "from sklearn.metrics import classification_report\n",
        "from sklearn.model_selection import GridSearchCV\n",
        "from keras.models import Sequential, Model\n",
        "from keras.layers import Dense, Dropout, Input, concatenate, BatchNormalization, LeakyReLU, Flatten\n",
        "import joblib\n",
        "\n",
        "import time\n",
        "from typing import Tuple, List\n",
        "from sklearn.preprocessing import OneHotEncoder, MinMaxScaler"
      ],
      "execution_count": 1,
      "outputs": []
    },
    {
      "cell_type": "code",
      "metadata": {
        "colab": {
          "base_uri": "https://localhost:8080/"
        },
        "id": "cicvn2rxESII",
        "outputId": "b38ac468-8d0e-4e17-b594-2021881b204d"
      },
      "source": [
        "from google.colab import drive \n",
        "drive.mount('/content/gdrive')"
      ],
      "execution_count": 2,
      "outputs": [
        {
          "output_type": "stream",
          "text": [
            "Mounted at /content/gdrive\n"
          ],
          "name": "stdout"
        }
      ]
    },
    {
      "cell_type": "code",
      "metadata": {
        "id": "ORwi0IQ3WksA"
      },
      "source": [
        "def split_df_to_train_val(df, ratio):\n",
        "    mask = np.random.rand(len(df)) < ratio\n",
        "    df_train = df[mask]\n",
        "    df_val = df[~mask]\n",
        "    return df_train, df_val"
      ],
      "execution_count": 3,
      "outputs": []
    },
    {
      "cell_type": "code",
      "metadata": {
        "colab": {
          "base_uri": "https://localhost:8080/",
          "height": 197
        },
        "id": "63ihYoNGWGIQ",
        "outputId": "d4f1dea7-082a-4899-d7f9-ac86f442cd39"
      },
      "source": [
        "diab_arf = arff.loadarff('gdrive/MyDrive/DL/Assignment_4/diabetes.arff')\n",
        "diab_df = pd.DataFrame(diab_arf[0])\n",
        "diab_df.replace(to_replace=b'tested_negative', value=-1, inplace=True)\n",
        "diab_df.replace(to_replace=b'tested_positive', value=1, inplace=True)\n",
        "# the values must be scaled to the range [-1,1] to match the output of the generator model\n",
        "def scaler(df):\n",
        "  for column in df:\n",
        "    max = df[column].max()\n",
        "    min = df[column].min()\n",
        "    col = 2*((df[column] - min)/(max - min)) - 1\n",
        "    df[column] = col\n",
        "  return df\n",
        "diab_df = scaler(diab_df)\n",
        "diab_df.head()"
      ],
      "execution_count": 4,
      "outputs": [
        {
          "output_type": "execute_result",
          "data": {
            "text/html": [
              "<div>\n",
              "<style scoped>\n",
              "    .dataframe tbody tr th:only-of-type {\n",
              "        vertical-align: middle;\n",
              "    }\n",
              "\n",
              "    .dataframe tbody tr th {\n",
              "        vertical-align: top;\n",
              "    }\n",
              "\n",
              "    .dataframe thead th {\n",
              "        text-align: right;\n",
              "    }\n",
              "</style>\n",
              "<table border=\"1\" class=\"dataframe\">\n",
              "  <thead>\n",
              "    <tr style=\"text-align: right;\">\n",
              "      <th></th>\n",
              "      <th>preg</th>\n",
              "      <th>plas</th>\n",
              "      <th>pres</th>\n",
              "      <th>skin</th>\n",
              "      <th>insu</th>\n",
              "      <th>mass</th>\n",
              "      <th>pedi</th>\n",
              "      <th>age</th>\n",
              "      <th>class</th>\n",
              "    </tr>\n",
              "  </thead>\n",
              "  <tbody>\n",
              "    <tr>\n",
              "      <th>0</th>\n",
              "      <td>-0.294118</td>\n",
              "      <td>0.487437</td>\n",
              "      <td>0.180328</td>\n",
              "      <td>-0.292929</td>\n",
              "      <td>-1.000000</td>\n",
              "      <td>0.001490</td>\n",
              "      <td>-0.531170</td>\n",
              "      <td>-0.033333</td>\n",
              "      <td>1.0</td>\n",
              "    </tr>\n",
              "    <tr>\n",
              "      <th>1</th>\n",
              "      <td>-0.882353</td>\n",
              "      <td>-0.145729</td>\n",
              "      <td>0.081967</td>\n",
              "      <td>-0.414141</td>\n",
              "      <td>-1.000000</td>\n",
              "      <td>-0.207154</td>\n",
              "      <td>-0.766866</td>\n",
              "      <td>-0.666667</td>\n",
              "      <td>-1.0</td>\n",
              "    </tr>\n",
              "    <tr>\n",
              "      <th>2</th>\n",
              "      <td>-0.058824</td>\n",
              "      <td>0.839196</td>\n",
              "      <td>0.049180</td>\n",
              "      <td>-1.000000</td>\n",
              "      <td>-1.000000</td>\n",
              "      <td>-0.305514</td>\n",
              "      <td>-0.492741</td>\n",
              "      <td>-0.633333</td>\n",
              "      <td>1.0</td>\n",
              "    </tr>\n",
              "    <tr>\n",
              "      <th>3</th>\n",
              "      <td>-0.882353</td>\n",
              "      <td>-0.105528</td>\n",
              "      <td>0.081967</td>\n",
              "      <td>-0.535354</td>\n",
              "      <td>-0.777778</td>\n",
              "      <td>-0.162444</td>\n",
              "      <td>-0.923997</td>\n",
              "      <td>-1.000000</td>\n",
              "      <td>-1.0</td>\n",
              "    </tr>\n",
              "    <tr>\n",
              "      <th>4</th>\n",
              "      <td>-1.000000</td>\n",
              "      <td>0.376884</td>\n",
              "      <td>-0.344262</td>\n",
              "      <td>-0.292929</td>\n",
              "      <td>-0.602837</td>\n",
              "      <td>0.284650</td>\n",
              "      <td>0.887276</td>\n",
              "      <td>-0.600000</td>\n",
              "      <td>1.0</td>\n",
              "    </tr>\n",
              "  </tbody>\n",
              "</table>\n",
              "</div>"
            ],
            "text/plain": [
              "       preg      plas      pres      skin  ...      mass      pedi       age  class\n",
              "0 -0.294118  0.487437  0.180328 -0.292929  ...  0.001490 -0.531170 -0.033333    1.0\n",
              "1 -0.882353 -0.145729  0.081967 -0.414141  ... -0.207154 -0.766866 -0.666667   -1.0\n",
              "2 -0.058824  0.839196  0.049180 -1.000000  ... -0.305514 -0.492741 -0.633333    1.0\n",
              "3 -0.882353 -0.105528  0.081967 -0.535354  ... -0.162444 -0.923997 -1.000000   -1.0\n",
              "4 -1.000000  0.376884 -0.344262 -0.292929  ...  0.284650  0.887276 -0.600000    1.0\n",
              "\n",
              "[5 rows x 9 columns]"
            ]
          },
          "metadata": {
            "tags": []
          },
          "execution_count": 4
        }
      ]
    },
    {
      "cell_type": "code",
      "metadata": {
        "colab": {
          "base_uri": "https://localhost:8080/",
          "height": 197
        },
        "id": "-Du89EeNWrKZ",
        "outputId": "f6fd6d9a-23f0-4a60-ae25-d15edc8f53ee"
      },
      "source": [
        "df_train, df_test = split_df_to_train_val(diab_df, 0.7)\n",
        "y_train = df_train.pop('class')\n",
        "y_test = df_test.pop('class')\n",
        "\n",
        "df_train.head()"
      ],
      "execution_count": 5,
      "outputs": [
        {
          "output_type": "execute_result",
          "data": {
            "text/html": [
              "<div>\n",
              "<style scoped>\n",
              "    .dataframe tbody tr th:only-of-type {\n",
              "        vertical-align: middle;\n",
              "    }\n",
              "\n",
              "    .dataframe tbody tr th {\n",
              "        vertical-align: top;\n",
              "    }\n",
              "\n",
              "    .dataframe thead th {\n",
              "        text-align: right;\n",
              "    }\n",
              "</style>\n",
              "<table border=\"1\" class=\"dataframe\">\n",
              "  <thead>\n",
              "    <tr style=\"text-align: right;\">\n",
              "      <th></th>\n",
              "      <th>preg</th>\n",
              "      <th>plas</th>\n",
              "      <th>pres</th>\n",
              "      <th>skin</th>\n",
              "      <th>insu</th>\n",
              "      <th>mass</th>\n",
              "      <th>pedi</th>\n",
              "      <th>age</th>\n",
              "    </tr>\n",
              "  </thead>\n",
              "  <tbody>\n",
              "    <tr>\n",
              "      <th>0</th>\n",
              "      <td>-0.294118</td>\n",
              "      <td>0.487437</td>\n",
              "      <td>0.180328</td>\n",
              "      <td>-0.292929</td>\n",
              "      <td>-1.000000</td>\n",
              "      <td>0.001490</td>\n",
              "      <td>-0.531170</td>\n",
              "      <td>-0.033333</td>\n",
              "    </tr>\n",
              "    <tr>\n",
              "      <th>1</th>\n",
              "      <td>-0.882353</td>\n",
              "      <td>-0.145729</td>\n",
              "      <td>0.081967</td>\n",
              "      <td>-0.414141</td>\n",
              "      <td>-1.000000</td>\n",
              "      <td>-0.207154</td>\n",
              "      <td>-0.766866</td>\n",
              "      <td>-0.666667</td>\n",
              "    </tr>\n",
              "    <tr>\n",
              "      <th>3</th>\n",
              "      <td>-0.882353</td>\n",
              "      <td>-0.105528</td>\n",
              "      <td>0.081967</td>\n",
              "      <td>-0.535354</td>\n",
              "      <td>-0.777778</td>\n",
              "      <td>-0.162444</td>\n",
              "      <td>-0.923997</td>\n",
              "      <td>-1.000000</td>\n",
              "    </tr>\n",
              "    <tr>\n",
              "      <th>4</th>\n",
              "      <td>-1.000000</td>\n",
              "      <td>0.376884</td>\n",
              "      <td>-0.344262</td>\n",
              "      <td>-0.292929</td>\n",
              "      <td>-0.602837</td>\n",
              "      <td>0.284650</td>\n",
              "      <td>0.887276</td>\n",
              "      <td>-0.600000</td>\n",
              "    </tr>\n",
              "    <tr>\n",
              "      <th>6</th>\n",
              "      <td>-0.647059</td>\n",
              "      <td>-0.216080</td>\n",
              "      <td>-0.180328</td>\n",
              "      <td>-0.353535</td>\n",
              "      <td>-0.791962</td>\n",
              "      <td>-0.076006</td>\n",
              "      <td>-0.854825</td>\n",
              "      <td>-0.833333</td>\n",
              "    </tr>\n",
              "  </tbody>\n",
              "</table>\n",
              "</div>"
            ],
            "text/plain": [
              "       preg      plas      pres  ...      mass      pedi       age\n",
              "0 -0.294118  0.487437  0.180328  ...  0.001490 -0.531170 -0.033333\n",
              "1 -0.882353 -0.145729  0.081967  ... -0.207154 -0.766866 -0.666667\n",
              "3 -0.882353 -0.105528  0.081967  ... -0.162444 -0.923997 -1.000000\n",
              "4 -1.000000  0.376884 -0.344262  ...  0.284650  0.887276 -0.600000\n",
              "6 -0.647059 -0.216080 -0.180328  ... -0.076006 -0.854825 -0.833333\n",
              "\n",
              "[5 rows x 8 columns]"
            ]
          },
          "metadata": {
            "tags": []
          },
          "execution_count": 5
        }
      ]
    },
    {
      "cell_type": "code",
      "metadata": {
        "colab": {
          "base_uri": "https://localhost:8080/"
        },
        "id": "q0dv1dvMkesv",
        "outputId": "798032b4-f9bd-49bd-d8d0-1a36e60ce003"
      },
      "source": [
        "# rf.fit(df_train, y_train)\n",
        "# rf.oob_score_\n",
        "\n",
        "# using cross-validation and grid-search\n",
        "\n",
        "rf = RandomForestClassifier()\n",
        "parameters = {\n",
        "    'max_features': ('auto', 'sqrt', 10, 12, 20, 30),\n",
        "    'max_depth': (5, 10, 15, None),\n",
        "    'n_estimators': (100, 200, 500, 1000, 2000)\n",
        "}\n",
        "gs_rf = GridSearchCV(estimator=rf, param_grid=parameters, cv=5, n_jobs=-1, verbose=3)\n",
        "gs_rf.fit(df_train, y_train)"
      ],
      "execution_count": 42,
      "outputs": [
        {
          "output_type": "stream",
          "text": [
            "Fitting 5 folds for each of 120 candidates, totalling 600 fits\n"
          ],
          "name": "stdout"
        },
        {
          "output_type": "stream",
          "text": [
            "[Parallel(n_jobs=-1)]: Using backend LokyBackend with 2 concurrent workers.\n",
            "[Parallel(n_jobs=-1)]: Done  28 tasks      | elapsed:   26.5s\n",
            "[Parallel(n_jobs=-1)]: Done 124 tasks      | elapsed:  1.2min\n",
            "[Parallel(n_jobs=-1)]: Done 284 tasks      | elapsed:  2.6min\n",
            "[Parallel(n_jobs=-1)]: Done 508 tasks      | elapsed:  5.1min\n",
            "[Parallel(n_jobs=-1)]: Done 600 out of 600 | elapsed:  5.6min finished\n"
          ],
          "name": "stderr"
        },
        {
          "output_type": "execute_result",
          "data": {
            "text/plain": [
              "GridSearchCV(cv=5, error_score=nan,\n",
              "             estimator=RandomForestClassifier(bootstrap=True, ccp_alpha=0.0,\n",
              "                                              class_weight=None,\n",
              "                                              criterion='gini', max_depth=None,\n",
              "                                              max_features='auto',\n",
              "                                              max_leaf_nodes=None,\n",
              "                                              max_samples=None,\n",
              "                                              min_impurity_decrease=0.0,\n",
              "                                              min_impurity_split=None,\n",
              "                                              min_samples_leaf=1,\n",
              "                                              min_samples_split=2,\n",
              "                                              min_weight_fraction_leaf=0.0,\n",
              "                                              n_estimators=100, n_jobs=None,\n",
              "                                              oob_score=False,\n",
              "                                              random_state=None, verbose=0,\n",
              "                                              warm_start=False),\n",
              "             iid='deprecated', n_jobs=-1,\n",
              "             param_grid={'max_depth': (5, 10, 15, None),\n",
              "                         'max_features': ('auto', 'sqrt', 10, 12, 20, 30),\n",
              "                         'n_estimators': (100, 200, 500, 1000, 2000)},\n",
              "             pre_dispatch='2*n_jobs', refit=True, return_train_score=False,\n",
              "             scoring=None, verbose=3)"
            ]
          },
          "metadata": {
            "tags": []
          },
          "execution_count": 42
        }
      ]
    },
    {
      "cell_type": "code",
      "metadata": {
        "colab": {
          "base_uri": "https://localhost:8080/"
        },
        "id": "kDk6y8VAMQmk",
        "outputId": "d0e45de7-7262-445a-aa92-d1537a487546"
      },
      "source": [
        "gs_rf.best_params_"
      ],
      "execution_count": 43,
      "outputs": [
        {
          "output_type": "execute_result",
          "data": {
            "text/plain": [
              "{'max_depth': 10, 'max_features': 'sqrt', 'n_estimators': 2000}"
            ]
          },
          "metadata": {
            "tags": []
          },
          "execution_count": 43
        }
      ]
    },
    {
      "cell_type": "code",
      "metadata": {
        "colab": {
          "base_uri": "https://localhost:8080/"
        },
        "id": "XS3GNQNLTgxw",
        "outputId": "b819e74d-c0a0-4cad-a0e3-1434a5207fb1"
      },
      "source": [
        "gs_rf.best_score_"
      ],
      "execution_count": 44,
      "outputs": [
        {
          "output_type": "execute_result",
          "data": {
            "text/plain": [
              "0.7693620844564241"
            ]
          },
          "metadata": {
            "tags": []
          },
          "execution_count": 44
        }
      ]
    },
    {
      "cell_type": "code",
      "metadata": {
        "colab": {
          "base_uri": "https://localhost:8080/"
        },
        "id": "V9olZc8EmlH_",
        "outputId": "04bf4ee3-1c20-4b5b-b67e-ba3791f18dda"
      },
      "source": [
        "p = gs_rf.predict(df_test)\n",
        "confusion_matrix(y_test.values, p)"
      ],
      "execution_count": 45,
      "outputs": [
        {
          "output_type": "execute_result",
          "data": {
            "text/plain": [
              "array([[138,  31],\n",
              "       [ 21,  49]])"
            ]
          },
          "metadata": {
            "tags": []
          },
          "execution_count": 45
        }
      ]
    },
    {
      "cell_type": "code",
      "metadata": {
        "colab": {
          "base_uri": "https://localhost:8080/"
        },
        "id": "tB33XCTwnp2y",
        "outputId": "54100d73-d114-4629-9432-78c81a475d60"
      },
      "source": [
        "print(classification_report(y_test.values, p,labels=[1,-1]))"
      ],
      "execution_count": 46,
      "outputs": [
        {
          "output_type": "stream",
          "text": [
            "              precision    recall  f1-score   support\n",
            "\n",
            "           1       0.61      0.70      0.65        70\n",
            "          -1       0.87      0.82      0.84       169\n",
            "\n",
            "    accuracy                           0.78       239\n",
            "   macro avg       0.74      0.76      0.75       239\n",
            "weighted avg       0.79      0.78      0.79       239\n",
            "\n"
          ],
          "name": "stdout"
        }
      ]
    },
    {
      "cell_type": "code",
      "metadata": {
        "id": "Mm5gwJr9pmA4"
      },
      "source": [
        "# joblib.dump(gs_rf, \"/content/gdrive/MyDrive/DL/Assignment_4/random_forest_cred.joblib\")\n",
        "# gs_rf = joblib.load(\"/content/gdrive/MyDrive/DL/Assignment_4/random_forest_cred.joblib\")\n",
        "# joblib.dump(gs_rf, \"/content/gdrive/MyDrive/DL/Assignment_4/random_forest_diab.joblib\")\n",
        "gs_rf = joblib.load(\"/content/gdrive/MyDrive/DL/Assignment_4/random_forest_diab.joblib\")"
      ],
      "execution_count": 6,
      "outputs": []
    },
    {
      "cell_type": "code",
      "metadata": {
        "id": "p9oEzK68SvBO"
      },
      "source": [
        "class GAN:\n",
        "    def __init__(self):\n",
        "        self.latent_dim = 10\n",
        "        self.generator_vector_size = 8\n",
        "        self.discriminator_input_shape = (self.generator_vector_size,)\n",
        "\n",
        "        self.generator = self.make_generator_model()\n",
        "        self.discriminator = self.make_discriminator_model()\n",
        "        self.gan = self.combime_gan(self.generator, self.discriminator)\n",
        "\n",
        "    def combime_gan(self, g_model, d_model):\n",
        "        # make weights in the discriminator not trainable\n",
        "        d_model.trainable = False\n",
        "\n",
        "        g_input = Input(shape=(self.latent_dim,))\n",
        "        c_input = Input(shape=(1,))\n",
        "\n",
        "        \n",
        "        g_sample = g_model([g_input, c_input])\n",
        "\n",
        "        # c_input = Input(shape=(1,))\n",
        "        # c_input = Input(shape=(1,))\n",
        "        # print(g_sample)\n",
        "        # print(g_sample.shape)\n",
        "        # proto_tensor = tf.make_tensor_proto(g_sample)  # convert `tensor a` to a proto tensor\n",
        "        \n",
        "        # y =  gs_rf.predict_proba(tf.make_ndarray(proto_tensor))[:,0]  # evaluate Y by running RF classifier\n",
        "        # # shuffle c and y\n",
        "        # # idx = np.random.randint(0, c.shape, n_samples)\n",
        "        # # for i, ix in enumerate(range(idx)):\n",
        "        # #   if ix == 1:\n",
        "        # #     tmp = c[i]\n",
        "        # #     c[i] = y[i]\n",
        "        # #     y[i] = tmp\n",
        "\n",
        "        d_desision = d_model([g_sample, c_input, c_input])\n",
        "\n",
        "        gan_model = Model([g_input, c_input], d_desision)\n",
        "        opt = tf.keras.optimizers.Adam(lr=0.0002, beta_1=0.5)\n",
        "        gan_model.compile(loss='binary_crossentropy', optimizer=opt, metrics=['accuracy'])\n",
        "        # connect generator and discriminator\n",
        "        # model = tf.keras.Sequential()\n",
        "        # model.add(g_model)\n",
        "        # model.add(d_model)\n",
        "        # opt = tf.keras.optimizers.Adam(lr=0.0002, beta_1=0.5)\n",
        "        # model.compile(loss='binary_crossentropy', optimizer=opt, metrics=['accuracy'])\n",
        "        return gan_model\n",
        "\n",
        "    def make_generator_model(self):\n",
        "        input_noise = Input(shape=(self.latent_dim,))\n",
        "        c_input = Input(shape=(1,))\n",
        "        concat_layer_c = concatenate([input_noise, c_input]) \n",
        "        dense_1 = Dense(30, use_bias=True)(concat_layer_c)\n",
        "        dense_1_bn = BatchNormalization()(dense_1)\n",
        "        dense_1_lr = LeakyReLU()(dense_1_bn)\n",
        "        dense_2 = Dense(15)(dense_1_lr)\n",
        "        dense_2_bn = BatchNormalization()(dense_2)\n",
        "        dense_2_lr = LeakyReLU()(dense_2_bn)\n",
        "        final_layer = Dense(self.generator_vector_size, activation='tanh')(dense_2_lr)\n",
        "        # concat_layer = concatenate([final_layer, c_input])\n",
        "        model = Model(inputs=[input_noise, c_input], outputs=final_layer)\n",
        "\n",
        "        # final_model_1 = concatenate([lyrics_model, bn2])\n",
        "        # final_model = Dense(units=vocab_size, activation='softmax')(final_model_1)\n",
        "        # self.model = Model(inputs=[input_lyrics, input_midi], outputs=final_model)\n",
        "        # self.model.compile(optimizer='adam', loss='categorical_crossentropy', metrics=['accuracy'])\n",
        "        # self.model.summary()\n",
        "\n",
        "\n",
        "        # model = tf.keras.Sequential()\n",
        "        # model.add(layers.Dense(30, use_bias=True, input_dim=self.latent_dim))\n",
        "        # model.add(layers.BatchNormalization())\n",
        "        # model.add(layers.LeakyReLU())\n",
        "\n",
        "        # model.add(layers.Dense(15))\n",
        "        # model.add(layers.BatchNormalization())\n",
        "        # model.add(layers.LeakyReLU())\n",
        "        # model.add(layers.Dense(self.generator_vector_size, activation='tanh'))\n",
        "        model.summary()\n",
        "        return model\n",
        "\n",
        "        # noise = tf.keras.layers.Input(shape=(self.latent_dim,))\n",
        "        # g_rows = model(noise)\n",
        "        # return tf.keras.Model(noise, g_rows)\n",
        "        # return model\n",
        "\n",
        "    def make_discriminator_model(self):\n",
        "\n",
        "        input_sample = Input(shape=self.discriminator_input_shape,)\n",
        "        cy1_input = Input(shape=(1,))\n",
        "        cy2_input = Input(shape=(1,))\n",
        "        \n",
        "        # --------- arc1\n",
        "        # dense_1 = Dense(32, use_bias=True)(input_sample)\n",
        "        # dense_1_lr = LeakyReLU()(dense_1)\n",
        "        # dense_1_do = Dropout(0.2)(dense_1_lr)\n",
        "        # dense_2 = Dense(16)(dense_1_do)\n",
        "        # dense_2_lr = LeakyReLU()(dense_2)\n",
        "        # dense_2_do = Dropout(0.2)(dense_2_lr)\n",
        "        # flatten = Flatten()(dense_2_do)\n",
        "        # concat_layer_c = concatenate([dense_2_do, cy1_input]) \n",
        "        # cy1_score = Dense(1, activation='sigmoid')(concat_layer_c)\n",
        "        # concat_layer_y = concatenate([dense_2_do, cy2_input]) \n",
        "        # cy2_score = Dense(1, activation='sigmoid')(concat_layer_y)\n",
        "        # concat_layer_final = concatenate([cy1_score, cy2_score]) \n",
        "        # final_layer = Dense(1, activation='sigmoid')(concat_layer_final)\n",
        "        # # concat_layer = concatenate([dense_2_do, c_input, y_input])        \n",
        "        # model = Model(inputs=[input_sample, cy1_input, cy2_input], outputs=final_layer)\n",
        "\n",
        "        # --------- arc2\n",
        "        # dense_1 = Dense(32, use_bias=True)(input_sample)\n",
        "        # dense_1_lr = LeakyReLU()(dense_1)\n",
        "        # dense_1_do = Dropout(0.2)(dense_1_lr)\n",
        "        # dense_2 = Dense(16)(dense_1_do)\n",
        "        # dense_2_lr = LeakyReLU()(dense_2)\n",
        "        # dense_2_do = Dropout(0.2)(dense_2_lr)\n",
        "        # flatten = Flatten()(dense_2_do)\n",
        "        # concat_layer_c = concatenate([dense_2_do, cy1_input, cy2_input]) \n",
        "        # final_layer = Dense(1, activation='sigmoid')(concat_layer_c)\n",
        "        # # concat_layer = concatenate([dense_2_do, c_input, y_input])        \n",
        "        # model = Model(inputs=[input_sample, cy1_input, cy2_input], outputs=final_layer)\n",
        "\n",
        "\n",
        "        # --------- arc3\n",
        "        concat_layer_c = concatenate([input_sample, cy1_input, cy2_input])\n",
        "        dense_1 = Dense(32, use_bias=True)(input_sample)\n",
        "        dense_1_lr = LeakyReLU()(dense_1)\n",
        "        dense_1_do = Dropout(0.2)(dense_1_lr)\n",
        "        dense_2 = Dense(16)(dense_1_do)\n",
        "        dense_2_lr = LeakyReLU()(dense_2)\n",
        "        dense_2_do = Dropout(0.2)(dense_2_lr)\n",
        "        flatten = Flatten()(dense_2_do)\n",
        "        # layer_final_sm = Dense(2, activation='softmax')(flatten)\n",
        "        final_layer = Dense(1, activation='sigmoid')(flatten)\n",
        "        # concat_layer = concatenate([dense_2_do, c_input, y_input])        \n",
        "        model = Model(inputs=[input_sample, cy1_input, cy2_input], outputs=final_layer)\n",
        "\n",
        "        # --------- arc4\n",
        "        # dense_1 = Dense(32, use_bias=True)(input_sample)\n",
        "        # dense_1_lr = LeakyReLU()(dense_1)\n",
        "        # dense_1_do = Dropout(0.2)(dense_1_lr)\n",
        "        # dense_2 = Dense(16)(dense_1_do)\n",
        "        # dense_2_lr = LeakyReLU()(dense_2)\n",
        "        # dense_2_do = Dropout(0.2)(dense_2_lr)\n",
        "        # flatten = Flatten()(dense_2_do)\n",
        "        # concat_layer_c = concatenate([dense_2_do, cy1_input]) \n",
        "        # cy1_score = Dense(1, activation='sigmoid')(concat_layer_c)\n",
        "        # concat_layer_y = concatenate([dense_2_do, cy2_input]) \n",
        "        # cy2_score = Dense(1, activation='sigmoid')(concat_layer_y)\n",
        "        # concat_layer_final = concatenate([cy1_score, cy2_score]) \n",
        "        # concat_layer_final_sm = Dense(2, activation='softmax')(concat_layer_final)\n",
        "        # final_layer = Dense(1, activation='sigmoid')(concat_layer_final)\n",
        "        # # concat_layer = concatenate([dense_2_do, c_input, y_input])        \n",
        "        # model = Model(inputs=[input_sample, cy1_input, cy2_input], outputs=final_layer)\n",
        "\n",
        "\n",
        "\n",
        "        # dense_2 = Dense(self.generator_vector_size, activation='tanh')(dense_2_lr)\n",
        "        # final_layer = tanh()(dense_2)\n",
        "        # model = Model(inputs=[input_noise, c_input], outputs=final_layer)      \n",
        "\n",
        "        # model = tf.keras.Sequential()\n",
        "        # model.add(layers.Dense(32, use_bias=True, input_shape=self.discriminator_input_shape))\n",
        "        # # model.add(layers.Dense(32, use_bias=False, input_shape=(8,)))\n",
        "        # model.add(layers.LeakyReLU())\n",
        "        # model.add(layers.Dropout(0.2))\n",
        "\n",
        "        # model.add(layers.Dense(16))\n",
        "        # model.add(layers.LeakyReLU())\n",
        "        # model.add(layers.Dropout(0.2))\n",
        "\n",
        "        # model.add(layers.Flatten())\n",
        "        # model.add(layers.Dense(1, activation='sigmoid'))\n",
        "        opt = tf.keras.optimizers.Adam(lr=0.00015, beta_1=0.5)\n",
        "        model.compile(loss='binary_crossentropy', optimizer=opt, metrics=['accuracy'])\n",
        "        model.summary()\n",
        "        return model\n",
        "\n",
        "        # g_rows = tf.keras.layers.Input(shape=self.discriminator_input_shape)\n",
        "        # validity = model(g_rows)\n",
        "        # return tf.keras.Model(g_rows, validity)\n",
        "\n",
        "\n",
        "    # def generate_real_x_y(self, data: np.ndarray, n_samples: int) -> Tuple[np.ndarray, np.ndarray]:\n",
        "    #     y_real = np.ones((n_samples, 1))\n",
        "    #     idx = np.random.randint(0, data.shape[0], n_samples)\n",
        "    #     x_real = data[idx]\n",
        "    #     return x_real, y_real\n",
        "\n",
        "    # def generate_fake_x_y(self, n_samples: int) -> Tuple[np.ndarray, np.ndarray]:\n",
        "    #     y_fake = np.zeros((n_samples, 1))\n",
        "    #     noise = np.random.normal(0, 1, (n_samples, self.latent_dim))\n",
        "    #     x_fake = self.generator.predict(noise)\n",
        "    #     return x_fake, y_fake\n",
        "\n",
        "    def train(self, epochs, batch_size=8):\n",
        "        # (X_train, _), (_, _) = mnist.load_data()\n",
        "        # X_train = X_train / 127.5 - 1.\n",
        "        # X_train = np.expand_dims(X_train, axis=3)\n",
        "        # X_train = df.values\n",
        "        valid = np.ones((batch_size, 1))\n",
        "        invalid = np.zeros((batch_size, 1))\n",
        "        valid_twice = np.ones((batch_size * 2, 1))\n",
        "        # fake = np.zeros((batch_size, 1))\n",
        "        d_losses = np.zeros((epochs, 1))\n",
        "        d_accuracies = np.zeros((epochs, 1))\n",
        "        # d_fake_losses = np.zeros((epochs, 1))\n",
        "        # d_fake_accuracies = np.zeros((epochs, 1))\n",
        "        # d_real_losses = np.zeros((epochs, 1))\n",
        "        # d_real_accuracies = np.zeros((epochs, 1))\n",
        "        g_losses = np.zeros((epochs, 1))\n",
        "        g_accuracies = np.zeros((epochs, 1))\n",
        "        best_epoch = 0\n",
        "\n",
        "        for i, epoch in enumerate(range(epochs)):\n",
        "            # prepare samples\n",
        "            noise = np.random.normal(0, 1, (batch_size, self.latent_dim))\n",
        "            c_1 = np.random.random((batch_size, ))\n",
        "            samples_1 = self.generator.predict([noise, c_1])\n",
        "            y_1 =  gs_rf.predict_proba(samples_1)[:,0]  # evaluate Y by running RF classifier\n",
        "\n",
        "            d_loss, d_acc = self.discriminator.train_on_batch([samples_1, c_1, y_1], valid)\n",
        "\n",
        "            c_2 = np.random.random((batch_size, ))\n",
        "            samples_2 = self.generator.predict([noise, c_2])\n",
        "            y_2 =  gs_rf.predict_proba(samples_2)[:,0]  # evaluate Y by running RF classifier\n",
        "\n",
        "            d_loss, d_acc = self.discriminator.train_on_batch([samples_2, y_2, c_2], invalid)\n",
        "\n",
        "            # create training set for the discriminator\n",
        "            # samples, y, c = np.vstack((samples_1, samples_2)), np.vstack((y_1, c_2)), np.vstack((y_2, c_1))\n",
        "            # update discriminator model weights\n",
        "            # d_loss, d_acc = self.discriminator.train_on_batch([samples, y, c], valid_twice)\n",
        "\n",
        "            # # shuffle c and y\n",
        "            # idx = np.random.randint(2, size=batch_size)\n",
        "            # # print(idx)\n",
        "            # for i in range(batch_size):\n",
        "            #   if idx[i] == 0 :\n",
        "            #     tmp = c[i]\n",
        "            #     c[i] = y[i]\n",
        "            #     y[i] = tmp\n",
        "\n",
        "            # d_loss, d_acc = self.discriminator.train_on_batch([samples, c, y], idx)\n",
        "\n",
        "\n",
        "            # np.stack((samples,c,y), axis=-1)\n",
        "\n",
        "            # # create training set for the discriminator\n",
        "            # x, y = np.vstack((x_real, x_fake)), np.vstack((y_real, y_fake))\n",
        "            # # update discriminator model weights\n",
        "            # d_loss, d_acc = self.discriminator.train_on_batch(x, y)\n",
        "\n",
        "            # # evaluate discriminator on real examples\n",
        "            # x_real, y_real = self.generate_real_x_y(X_train, batch_size)\n",
        "            # d_loss_real, d_acc_real = self.discriminator.evaluate(x_real, y_real, verbose=0)\n",
        "            # # evaluate discriminator on fake examples\n",
        "            # x_fake, y_fake = self.generate_fake_x_y(batch_size)\n",
        "            # d_loss_fake, d_acc_fake = self.discriminator.evaluate(x_fake, y_fake, verbose=0)\n",
        "\n",
        "            # d_fake_losses[i] = d_loss_fake\n",
        "            # d_real_losses[i] = d_loss_real\n",
        "            # d_fake_accuracies[i] = d_acc_fake\n",
        "            # d_real_accuracies[i] = d_acc_real\n",
        "\n",
        "            # noise = np.random.normal(0, 1, (batch_size * 2, self.latent_dim)) # Carmel,  WHY TWISE?\n",
        "            # create inverted labels for the fake samples so generator can improve to be 'real'\n",
        "            # update the generator via the discriminator's error\n",
        "            noise = np.random.normal(0, 1, (batch_size*2, self.latent_dim))\n",
        "            c = np.random.normal(0, 1, (batch_size*2, ))\n",
        "            g_loss, g_acc = self.gan.train_on_batch([noise, c], valid_twice)\n",
        "\n",
        "            d_losses[i] = d_loss\n",
        "            d_accuracies[i] = d_acc\n",
        "            g_losses[i] = g_loss\n",
        "            g_accuracies[i] = g_acc\n",
        "            \n",
        "            d_acc_delta_to_0_5 = 1\n",
        "            losses_delta = 1\n",
        "            \n",
        "            if i % 50 == 0:\n",
        "              print(\"epoch %d [D loss: %f, acc.: %.2f%%] [G loss: %f, acc.: %.2f%%]\" % (epoch, d_loss, 100 * d_acc, g_loss, g_acc))\n",
        "              if 500<=i:\n",
        "                if abs(g_loss - d_loss) < losses_delta or abs(g_loss - d_loss) < 0.02: # check that losses converged\n",
        "                  if d_acc_delta_to_0_5 > abs(d_acc - 0.5): # save generator model for closest to 0.5 accuracy \n",
        "                    filename = 'generator_model.h5'\n",
        "                    self.generator.save(filename)\n",
        "                    best_epoch = epoch\n",
        "\n",
        "        print(f'Best epoch: {best_epoch}')\n",
        "            # if epoch % 10 == 0:\n",
        "            #   noise = np.random.normal(0, 1, (1, self.noise_dim))\n",
        "            #   gen_rows = self.generator.predict(noise)\n",
        "            #   print(gen_rows)\n",
        "        return d_losses, d_accuracies, g_losses, g_accuracies"
      ],
      "execution_count": 9,
      "outputs": []
    },
    {
      "cell_type": "code",
      "metadata": {
        "colab": {
          "base_uri": "https://localhost:8080/"
        },
        "id": "Zq2RyaE2VHCg",
        "outputId": "52bb72c8-b2c6-4bb3-b119-4e40ee7b6adc"
      },
      "source": [
        "iterations = 2000\n",
        "gan = GAN()\n",
        "d_losses, d_accuracies, g_losses, g_accuracies = gan.train(epochs=iterations, batch_size=16)"
      ],
      "execution_count": 21,
      "outputs": [
        {
          "output_type": "stream",
          "text": [
            "Model: \"model_3\"\n",
            "__________________________________________________________________________________________________\n",
            "Layer (type)                    Output Shape         Param #     Connected to                     \n",
            "==================================================================================================\n",
            "input_8 (InputLayer)            [(None, 10)]         0                                            \n",
            "__________________________________________________________________________________________________\n",
            "input_9 (InputLayer)            [(None, 1)]          0                                            \n",
            "__________________________________________________________________________________________________\n",
            "concatenate_2 (Concatenate)     (None, 11)           0           input_8[0][0]                    \n",
            "                                                                 input_9[0][0]                    \n",
            "__________________________________________________________________________________________________\n",
            "dense_6 (Dense)                 (None, 30)           360         concatenate_2[0][0]              \n",
            "__________________________________________________________________________________________________\n",
            "batch_normalization_2 (BatchNor (None, 30)           120         dense_6[0][0]                    \n",
            "__________________________________________________________________________________________________\n",
            "leaky_re_lu_4 (LeakyReLU)       (None, 30)           0           batch_normalization_2[0][0]      \n",
            "__________________________________________________________________________________________________\n",
            "dense_7 (Dense)                 (None, 15)           465         leaky_re_lu_4[0][0]              \n",
            "__________________________________________________________________________________________________\n",
            "batch_normalization_3 (BatchNor (None, 15)           60          dense_7[0][0]                    \n",
            "__________________________________________________________________________________________________\n",
            "leaky_re_lu_5 (LeakyReLU)       (None, 15)           0           batch_normalization_3[0][0]      \n",
            "__________________________________________________________________________________________________\n",
            "dense_8 (Dense)                 (None, 8)            128         leaky_re_lu_5[0][0]              \n",
            "==================================================================================================\n",
            "Total params: 1,133\n",
            "Trainable params: 1,043\n",
            "Non-trainable params: 90\n",
            "__________________________________________________________________________________________________\n",
            "Model: \"model_4\"\n",
            "__________________________________________________________________________________________________\n",
            "Layer (type)                    Output Shape         Param #     Connected to                     \n",
            "==================================================================================================\n",
            "input_10 (InputLayer)           [(None, 8)]          0                                            \n",
            "__________________________________________________________________________________________________\n",
            "dense_9 (Dense)                 (None, 32)           288         input_10[0][0]                   \n",
            "__________________________________________________________________________________________________\n",
            "leaky_re_lu_6 (LeakyReLU)       (None, 32)           0           dense_9[0][0]                    \n",
            "__________________________________________________________________________________________________\n",
            "dropout_2 (Dropout)             (None, 32)           0           leaky_re_lu_6[0][0]              \n",
            "__________________________________________________________________________________________________\n",
            "dense_10 (Dense)                (None, 16)           528         dropout_2[0][0]                  \n",
            "__________________________________________________________________________________________________\n",
            "leaky_re_lu_7 (LeakyReLU)       (None, 16)           0           dense_10[0][0]                   \n",
            "__________________________________________________________________________________________________\n",
            "dropout_3 (Dropout)             (None, 16)           0           leaky_re_lu_7[0][0]              \n",
            "__________________________________________________________________________________________________\n",
            "flatten_1 (Flatten)             (None, 16)           0           dropout_3[0][0]                  \n",
            "__________________________________________________________________________________________________\n",
            "input_11 (InputLayer)           [(None, 1)]          0                                            \n",
            "__________________________________________________________________________________________________\n",
            "input_12 (InputLayer)           [(None, 1)]          0                                            \n",
            "__________________________________________________________________________________________________\n",
            "dense_11 (Dense)                (None, 1)            17          flatten_1[0][0]                  \n",
            "==================================================================================================\n",
            "Total params: 833\n",
            "Trainable params: 833\n",
            "Non-trainable params: 0\n",
            "__________________________________________________________________________________________________\n"
          ],
          "name": "stdout"
        },
        {
          "output_type": "stream",
          "text": [
            "/usr/local/lib/python3.7/dist-packages/tensorflow/python/keras/optimizer_v2/optimizer_v2.py:375: UserWarning: The `lr` argument is deprecated, use `learning_rate` instead.\n",
            "  \"The `lr` argument is deprecated, use `learning_rate` instead.\")\n"
          ],
          "name": "stderr"
        },
        {
          "output_type": "stream",
          "text": [
            "epoch 0 [D loss: 0.755747, acc.: 43.75%] [G loss: 0.575600, acc.: 0.78%]\n",
            "epoch 50 [D loss: 0.789333, acc.: 12.50%] [G loss: 0.563603, acc.: 0.81%]\n",
            "epoch 100 [D loss: 0.854861, acc.: 0.00%] [G loss: 0.605618, acc.: 0.72%]\n",
            "epoch 150 [D loss: 0.902728, acc.: 6.25%] [G loss: 0.556502, acc.: 0.78%]\n",
            "epoch 200 [D loss: 0.805298, acc.: 31.25%] [G loss: 0.548292, acc.: 1.00%]\n",
            "epoch 250 [D loss: 0.905027, acc.: 12.50%] [G loss: 0.589902, acc.: 0.91%]\n",
            "epoch 300 [D loss: 0.821499, acc.: 18.75%] [G loss: 0.592432, acc.: 0.78%]\n",
            "epoch 350 [D loss: 0.913091, acc.: 6.25%] [G loss: 0.567557, acc.: 0.81%]\n",
            "epoch 400 [D loss: 0.824738, acc.: 18.75%] [G loss: 0.613664, acc.: 0.81%]\n",
            "epoch 450 [D loss: 0.751018, acc.: 31.25%] [G loss: 0.599840, acc.: 0.81%]\n",
            "epoch 500 [D loss: 0.725823, acc.: 50.00%] [G loss: 0.641670, acc.: 0.62%]\n",
            "WARNING:tensorflow:Compiled the loaded model, but the compiled metrics have yet to be built. `model.compile_metrics` will be empty until you train or evaluate the model.\n",
            "epoch 550 [D loss: 0.760364, acc.: 25.00%] [G loss: 0.602965, acc.: 0.88%]\n",
            "WARNING:tensorflow:Compiled the loaded model, but the compiled metrics have yet to be built. `model.compile_metrics` will be empty until you train or evaluate the model.\n",
            "epoch 600 [D loss: 0.741227, acc.: 37.50%] [G loss: 0.628810, acc.: 0.69%]\n",
            "WARNING:tensorflow:Compiled the loaded model, but the compiled metrics have yet to be built. `model.compile_metrics` will be empty until you train or evaluate the model.\n",
            "epoch 650 [D loss: 0.730766, acc.: 43.75%] [G loss: 0.627097, acc.: 0.81%]\n",
            "WARNING:tensorflow:Compiled the loaded model, but the compiled metrics have yet to be built. `model.compile_metrics` will be empty until you train or evaluate the model.\n",
            "epoch 700 [D loss: 0.739153, acc.: 37.50%] [G loss: 0.659767, acc.: 0.66%]\n",
            "WARNING:tensorflow:Compiled the loaded model, but the compiled metrics have yet to be built. `model.compile_metrics` will be empty until you train or evaluate the model.\n",
            "epoch 750 [D loss: 0.752901, acc.: 31.25%] [G loss: 0.677122, acc.: 0.50%]\n",
            "WARNING:tensorflow:Compiled the loaded model, but the compiled metrics have yet to be built. `model.compile_metrics` will be empty until you train or evaluate the model.\n",
            "epoch 800 [D loss: 0.736315, acc.: 43.75%] [G loss: 0.645712, acc.: 0.69%]\n",
            "WARNING:tensorflow:Compiled the loaded model, but the compiled metrics have yet to be built. `model.compile_metrics` will be empty until you train or evaluate the model.\n",
            "epoch 850 [D loss: 0.733344, acc.: 50.00%] [G loss: 0.680720, acc.: 0.59%]\n",
            "WARNING:tensorflow:Compiled the loaded model, but the compiled metrics have yet to be built. `model.compile_metrics` will be empty until you train or evaluate the model.\n",
            "epoch 900 [D loss: 0.702316, acc.: 50.00%] [G loss: 0.653764, acc.: 0.66%]\n",
            "WARNING:tensorflow:Compiled the loaded model, but the compiled metrics have yet to be built. `model.compile_metrics` will be empty until you train or evaluate the model.\n",
            "epoch 950 [D loss: 0.738156, acc.: 43.75%] [G loss: 0.650045, acc.: 0.69%]\n",
            "WARNING:tensorflow:Compiled the loaded model, but the compiled metrics have yet to be built. `model.compile_metrics` will be empty until you train or evaluate the model.\n",
            "epoch 1000 [D loss: 0.746260, acc.: 31.25%] [G loss: 0.650447, acc.: 0.59%]\n",
            "WARNING:tensorflow:Compiled the loaded model, but the compiled metrics have yet to be built. `model.compile_metrics` will be empty until you train or evaluate the model.\n",
            "epoch 1050 [D loss: 0.670272, acc.: 62.50%] [G loss: 0.679299, acc.: 0.53%]\n",
            "WARNING:tensorflow:Compiled the loaded model, but the compiled metrics have yet to be built. `model.compile_metrics` will be empty until you train or evaluate the model.\n",
            "epoch 1100 [D loss: 0.736465, acc.: 18.75%] [G loss: 0.649824, acc.: 0.69%]\n",
            "WARNING:tensorflow:Compiled the loaded model, but the compiled metrics have yet to be built. `model.compile_metrics` will be empty until you train or evaluate the model.\n",
            "epoch 1150 [D loss: 0.747073, acc.: 18.75%] [G loss: 0.646013, acc.: 0.69%]\n",
            "WARNING:tensorflow:Compiled the loaded model, but the compiled metrics have yet to be built. `model.compile_metrics` will be empty until you train or evaluate the model.\n",
            "epoch 1200 [D loss: 0.715262, acc.: 37.50%] [G loss: 0.649101, acc.: 0.69%]\n",
            "WARNING:tensorflow:Compiled the loaded model, but the compiled metrics have yet to be built. `model.compile_metrics` will be empty until you train or evaluate the model.\n",
            "epoch 1250 [D loss: 0.713613, acc.: 50.00%] [G loss: 0.688811, acc.: 0.47%]\n",
            "WARNING:tensorflow:Compiled the loaded model, but the compiled metrics have yet to be built. `model.compile_metrics` will be empty until you train or evaluate the model.\n",
            "epoch 1300 [D loss: 0.719273, acc.: 43.75%] [G loss: 0.676890, acc.: 0.66%]\n",
            "WARNING:tensorflow:Compiled the loaded model, but the compiled metrics have yet to be built. `model.compile_metrics` will be empty until you train or evaluate the model.\n",
            "epoch 1350 [D loss: 0.691130, acc.: 56.25%] [G loss: 0.680802, acc.: 0.62%]\n",
            "WARNING:tensorflow:Compiled the loaded model, but the compiled metrics have yet to be built. `model.compile_metrics` will be empty until you train or evaluate the model.\n",
            "epoch 1400 [D loss: 0.725401, acc.: 37.50%] [G loss: 0.677316, acc.: 0.53%]\n",
            "WARNING:tensorflow:Compiled the loaded model, but the compiled metrics have yet to be built. `model.compile_metrics` will be empty until you train or evaluate the model.\n",
            "epoch 1450 [D loss: 0.680329, acc.: 56.25%] [G loss: 0.675532, acc.: 0.50%]\n",
            "WARNING:tensorflow:Compiled the loaded model, but the compiled metrics have yet to be built. `model.compile_metrics` will be empty until you train or evaluate the model.\n",
            "epoch 1500 [D loss: 0.723746, acc.: 31.25%] [G loss: 0.681190, acc.: 0.53%]\n",
            "WARNING:tensorflow:Compiled the loaded model, but the compiled metrics have yet to be built. `model.compile_metrics` will be empty until you train or evaluate the model.\n",
            "epoch 1550 [D loss: 0.711776, acc.: 31.25%] [G loss: 0.682275, acc.: 0.59%]\n",
            "WARNING:tensorflow:Compiled the loaded model, but the compiled metrics have yet to be built. `model.compile_metrics` will be empty until you train or evaluate the model.\n",
            "epoch 1600 [D loss: 0.679772, acc.: 62.50%] [G loss: 0.685721, acc.: 0.59%]\n",
            "WARNING:tensorflow:Compiled the loaded model, but the compiled metrics have yet to be built. `model.compile_metrics` will be empty until you train or evaluate the model.\n",
            "epoch 1650 [D loss: 0.700739, acc.: 56.25%] [G loss: 0.713392, acc.: 0.38%]\n",
            "WARNING:tensorflow:Compiled the loaded model, but the compiled metrics have yet to be built. `model.compile_metrics` will be empty until you train or evaluate the model.\n",
            "epoch 1700 [D loss: 0.714982, acc.: 43.75%] [G loss: 0.691470, acc.: 0.50%]\n",
            "WARNING:tensorflow:Compiled the loaded model, but the compiled metrics have yet to be built. `model.compile_metrics` will be empty until you train or evaluate the model.\n",
            "epoch 1750 [D loss: 0.688071, acc.: 68.75%] [G loss: 0.683932, acc.: 0.56%]\n",
            "WARNING:tensorflow:Compiled the loaded model, but the compiled metrics have yet to be built. `model.compile_metrics` will be empty until you train or evaluate the model.\n",
            "epoch 1800 [D loss: 0.713943, acc.: 50.00%] [G loss: 0.727150, acc.: 0.31%]\n",
            "WARNING:tensorflow:Compiled the loaded model, but the compiled metrics have yet to be built. `model.compile_metrics` will be empty until you train or evaluate the model.\n",
            "epoch 1850 [D loss: 0.696833, acc.: 62.50%] [G loss: 0.699454, acc.: 0.44%]\n",
            "WARNING:tensorflow:Compiled the loaded model, but the compiled metrics have yet to be built. `model.compile_metrics` will be empty until you train or evaluate the model.\n",
            "epoch 1900 [D loss: 0.718415, acc.: 37.50%] [G loss: 0.711068, acc.: 0.41%]\n",
            "WARNING:tensorflow:Compiled the loaded model, but the compiled metrics have yet to be built. `model.compile_metrics` will be empty until you train or evaluate the model.\n",
            "epoch 1950 [D loss: 0.677615, acc.: 50.00%] [G loss: 0.676632, acc.: 0.53%]\n",
            "WARNING:tensorflow:Compiled the loaded model, but the compiled metrics have yet to be built. `model.compile_metrics` will be empty until you train or evaluate the model.\n",
            "Best epoch: 0\n"
          ],
          "name": "stdout"
        }
      ]
    },
    {
      "cell_type": "code",
      "metadata": {
        "colab": {
          "base_uri": "https://localhost:8080/",
          "height": 301
        },
        "id": "ZM9PERydwSj1",
        "outputId": "b353c733-61bf-44e3-e429-12c94e77f6e9"
      },
      "source": [
        "from typing import List\n",
        "\n",
        "def plot_metric_general(graphs: List[np.ndarray], labels: List[str]) -> None:\n",
        "    import matplotlib.pyplot as plt\n",
        "    epochs = range(1, graphs[0].shape[0] + 1)\n",
        "    plt.xlabel(\"Iterations\")\n",
        "    plt.title('Gan')\n",
        "    for i in range(len(labels)):\n",
        "        plt.plot(epochs, graphs[i])\n",
        "    plt.legend(labels)\n",
        "    plt.show()\n",
        "\n",
        "def moving_average(x, w):\n",
        "    return np.convolve(x, np.ones(w), 'valid') / w\n",
        "\n",
        "\n",
        "d_losses_smooth, d_accuracies_smooth, g_losses_smooth, g_accuracies_smooth = moving_average(d_losses.reshape((iterations)), 9), moving_average(d_accuracies.reshape((iterations)), 9), moving_average(g_losses.reshape((iterations)), 9), moving_average(g_accuracies.reshape((iterations)), 9)\n",
        "\n",
        "plot_metric_general([d_losses_smooth, d_accuracies_smooth, g_losses_smooth, g_accuracies_smooth], ['d_losses_smooth', 'd_accuracies_smooth', 'g_losses_smooth', 'g_accuracies_smooth'])\n",
        "# plot_metric_general([d_losses, d_accuracies, g_losses, g_accuracies], ['d_losses', 'd_accuracies', 'g_losses', 'g_accuracies']) \n",
        "# we can see aroud 800 epochs d_fake_accuracies=d_real_accuracies=0.5 and after that it degragates "
      ],
      "execution_count": 22,
      "outputs": [
        {
          "output_type": "display_data",
          "data": {
            "image/png": "[encoded data removed]",
            "text/plain": [
              "<Figure size 432x288 with 1 Axes>"
            ]
          },
          "metadata": {
            "tags": []
          }
        }
      ]
    },
    {
      "cell_type": "code",
      "metadata": {
        "id": "waAGk29Rxq3N"
      },
      "source": [
        "import seaborn as sns\n",
        "sns.set_theme()"
      ],
      "execution_count": 23,
      "outputs": []
    },
    {
      "cell_type": "code",
      "metadata": {
        "colab": {
          "base_uri": "https://localhost:8080/",
          "height": 382
        },
        "id": "nisaRy3kz1J8",
        "outputId": "e78aaddd-e53f-4d8c-b5bd-829ffa9a327c"
      },
      "source": [
        "p_proba = gs_rf.predict_proba(df_test)[:,0]\n",
        "sns.displot(p_proba, bins=10)"
      ],
      "execution_count": 24,
      "outputs": [
        {
          "output_type": "execute_result",
          "data": {
            "text/plain": [
              "<seaborn.axisgrid.FacetGrid at 0x7f77e2664610>"
            ]
          },
          "metadata": {
            "tags": []
          },
          "execution_count": 24
        },
        {
          "output_type": "display_data",
          "data": {
            "image/png": "[encoded data removed]",
            "text/plain": [
              "<Figure size 360x360 with 1 Axes>"
            ]
          },
          "metadata": {
            "tags": []
          }
        }
      ]
    },
    {
      "cell_type": "code",
      "metadata": {
        "colab": {
          "base_uri": "https://localhost:8080/"
        },
        "id": "5JzF-M_k0aOH",
        "outputId": "c00bac85-0b61-45b9-aa9d-c46ba818bd58"
      },
      "source": [
        "print(f'min {min(p_proba)}, max {max(p_proba)}, avg {sum(p_proba)/len(p_proba)}')"
      ],
      "execution_count": 25,
      "outputs": [
        {
          "output_type": "stream",
          "text": [
            "min 0.05222159200799896, max 0.999285525240614, avg 0.6224190157120703\n"
          ],
          "name": "stdout"
        }
      ]
    },
    {
      "cell_type": "code",
      "metadata": {
        "colab": {
          "base_uri": "https://localhost:8080/"
        },
        "id": "KcX8i-2g1Ebu",
        "outputId": "a3891988-895d-41fd-de35-9e35f3f47b72"
      },
      "source": [
        "smaples_len = 1000\n",
        "noise = np.random.normal(0, 1, (smaples_len, 10))\n",
        "c = np.random.uniform(size=(smaples_len, ))\n",
        "loaded_generator = tf.keras.models.load_model('generator_model.h5')\n",
        "# samples = gan.generator.predict([noise, c])\n",
        "samples = loaded_generator.predict([noise, c])"
      ],
      "execution_count": 26,
      "outputs": [
        {
          "output_type": "stream",
          "text": [
            "WARNING:tensorflow:No training configuration found in the save file, so the model was *not* compiled. Compile it manually.\n"
          ],
          "name": "stdout"
        }
      ]
    },
    {
      "cell_type": "code",
      "metadata": {
        "colab": {
          "base_uri": "https://localhost:8080/",
          "height": 382
        },
        "id": "JAGHmhKu1pwM",
        "outputId": "1595c7b1-a066-41e8-961b-cd4c2c75b092"
      },
      "source": [
        "p_proba_s = gs_rf.predict_proba(samples)[:,0]\n",
        "sns.displot(p_proba_s, bins=10)"
      ],
      "execution_count": 27,
      "outputs": [
        {
          "output_type": "execute_result",
          "data": {
            "text/plain": [
              "<seaborn.axisgrid.FacetGrid at 0x7f77e2ef8c10>"
            ]
          },
          "metadata": {
            "tags": []
          },
          "execution_count": 27
        },
        {
          "output_type": "display_data",
          "data": {
            "image/png": "[encoded data removed]",
            "text/plain": [
              "<Figure size 360x360 with 1 Axes>"
            ]
          },
          "metadata": {
            "tags": []
          }
        }
      ]
    },
    {
      "cell_type": "code",
      "metadata": {
        "colab": {
          "base_uri": "https://localhost:8080/"
        },
        "id": "3tBQsOEQ3Qkh",
        "outputId": "43a7da6f-d1e1-4981-bfb7-0f7af1fe33a9"
      },
      "source": [
        "print(f'min {min(p_proba_s)}, max {max(p_proba_s)}, avg {sum(p_proba_s)/len(p_proba_s)}')"
      ],
      "execution_count": 28,
      "outputs": [
        {
          "output_type": "stream",
          "text": [
            "min 0.3178514604646184, max 0.8395422849951392, avg 0.49962123287162397\n"
          ],
          "name": "stdout"
        }
      ]
    },
    {
      "cell_type": "code",
      "metadata": {
        "id": "TRL8Lj9oy0DN"
      },
      "source": [
        "# will be a little bit hard to explain... the distribution is not the same at all.\n",
        "# got various different results from a couple of runs\n",
        "# for sure one of the other architecures will give a better results"
      ],
      "execution_count": null,
      "outputs": []
    }
  ]
}