{
  "nbformat": 4,
  "nbformat_minor": 0,
  "metadata": {
    "colab": {
      "name": "Assignment4_GAN_diab_part1_v0_7.ipynb",
      "provenance": [],
      "collapsed_sections": []
    },
    "kernelspec": {
      "name": "python3",
      "display_name": "Python 3"
    },
    "language_info": {
      "name": "python"
    },
    "accelerator": "GPU"
  },
  "cells": [
    {
      "cell_type": "code",
      "metadata": {
        "id": "B0xjeKubRH_g"
      },
      "source": [
        "import pandas as pd\n",
        "import numpy as np\n",
        "from scipy.io import arff\n",
        "import tensorflow as tf\n",
        "from tensorflow.keras import layers\n",
        "import time\n",
        "from typing import Tuple"
      ],
      "execution_count": 64,
      "outputs": []
    },
    {
      "cell_type": "code",
      "metadata": {
        "id": "ODy92sg5BVO1"
      },
      "source": [
        "class GAN:\n",
        "    def __init__(self):\n",
        "        self.latent_dim = 10\n",
        "        self.generator_vector_size = 8\n",
        "        self.discriminator_input_shape = (self.generator_vector_size,)\n",
        "        self.num_examples_to_generate = 16\n",
        "\n",
        "        self.generator = self.make_generator_model()\n",
        "        self.discriminator = self.make_discriminator_model()\n",
        "        self.gan = self.combime_gan(self.generator, self.discriminator)\n",
        "\n",
        "    def combime_gan(self, g_model, d_model):\n",
        "        # make weights in the discriminator not trainable\n",
        "        d_model.trainable = False\n",
        "        # connect generator and discriminator\n",
        "        model = tf.keras.Sequential()\n",
        "        model.add(g_model)\n",
        "        model.add(d_model)\n",
        "        opt = tf.keras.optimizers.Adam(lr=0.0002, beta_1=0.5)\n",
        "        model.compile(loss='binary_crossentropy', optimizer=opt, metrics=['accuracy'])\n",
        "        return model\n",
        "\n",
        "    def make_generator_model(self):\n",
        "        model = tf.keras.Sequential()\n",
        "        model.add(layers.Dense(30, use_bias=True, input_dim=self.latent_dim))\n",
        "        model.add(layers.BatchNormalization())\n",
        "        model.add(layers.LeakyReLU())\n",
        "\n",
        "        model.add(layers.Dense(15))\n",
        "        model.add(layers.BatchNormalization())\n",
        "        model.add(layers.LeakyReLU())\n",
        "        model.add(layers.Dense(self.generator_vector_size, activation='tanh'))\n",
        "\n",
        "        model.summary()\n",
        "        return model\n",
        "\n",
        "        # noise = tf.keras.layers.Input(shape=(self.latent_dim,))\n",
        "        # g_rows = model(noise)\n",
        "        # return tf.keras.Model(noise, g_rows)\n",
        "        # return model\n",
        "\n",
        "    def make_discriminator_model(self):\n",
        "        model = tf.keras.Sequential()\n",
        "        model.add(layers.Dense(32, use_bias=True, input_shape=self.discriminator_input_shape))\n",
        "        # model.add(layers.Dense(32, use_bias=False, input_shape=(8,)))\n",
        "        model.add(layers.LeakyReLU())\n",
        "        model.add(layers.Dropout(0.2))\n",
        "\n",
        "        model.add(layers.Dense(16))\n",
        "        model.add(layers.LeakyReLU())\n",
        "        model.add(layers.Dropout(0.2))\n",
        "\n",
        "        model.add(layers.Flatten())\n",
        "        model.add(layers.Dense(1, activation='sigmoid'))\n",
        "        opt = tf.keras.optimizers.Adam(lr=0.0002, beta_1=0.5)\n",
        "        model.compile(loss='binary_crossentropy', optimizer=opt, metrics=['accuracy'])\n",
        "        model.summary()\n",
        "        return model\n",
        "\n",
        "        # g_rows = tf.keras.layers.Input(shape=self.discriminator_input_shape)\n",
        "        # validity = model(g_rows)\n",
        "        # return tf.keras.Model(g_rows, validity)\n",
        "\n",
        "\n",
        "    def generate_real_x_y(self, data: np.ndarray, n_samples: int) -> Tuple[np.ndarray, np.ndarray]:\n",
        "        y_real = np.ones((n_samples, 1))\n",
        "        idx = np.random.randint(0, data.shape[0], n_samples)\n",
        "        x_real = data[idx]\n",
        "        return x_real, y_real\n",
        "\n",
        "    def generate_fake_x_y(self, n_samples: int) -> Tuple[np.ndarray, np.ndarray]:\n",
        "        y_fake = np.zeros((n_samples, 1))\n",
        "        # noise = np.random.normal(0, 1, (n_samples, self.latent_dim))\n",
        "        noise = np.random.uniform(-1, 1, size=(n_samples, self.latent_dim))\n",
        "        x_fake = self.generator.predict(noise)\n",
        "        return x_fake, y_fake\n",
        "\n",
        "    def train(self, df, epochs, batch_size=8):\n",
        "        # (X_train, _), (_, _) = mnist.load_data()\n",
        "        # X_train = X_train / 127.5 - 1.\n",
        "        # X_train = np.expand_dims(X_train, axis=3)\n",
        "        X_train = df.values\n",
        "        valid = np.ones((batch_size, 1))\n",
        "        valid_twice = np.ones((batch_size * 2, 1))\n",
        "        fake = np.zeros((batch_size, 1))\n",
        "        d_losses = np.zeros((epochs, 1))\n",
        "        d_accuracies = np.zeros((epochs, 1))\n",
        "        d_fake_losses = np.zeros((epochs, 1))\n",
        "        d_fake_accuracies = np.zeros((epochs, 1))\n",
        "        d_real_losses = np.zeros((epochs, 1))\n",
        "        d_real_accuracies = np.zeros((epochs, 1))\n",
        "        g_losses = np.zeros((epochs, 1))\n",
        "        g_accuracies = np.zeros((epochs, 1))\n",
        "\n",
        "        for i, epoch in enumerate(range(epochs)):\n",
        "            # prepare real fake examples\n",
        "            x_fake, y_fake = self.generate_fake_x_y(batch_size)\n",
        "            x_real, y_real = self.generate_real_x_y(X_train, batch_size)\n",
        "            # create training set for the discriminator\n",
        "            x, y = np.vstack((x_real, x_fake)), np.vstack((y_real, y_fake))\n",
        "            # update discriminator model weights\n",
        "            d_loss, d_acc = self.discriminator.train_on_batch(x, y)\n",
        "\n",
        "            # evaluate discriminator on real examples\n",
        "            x_real, y_real = self.generate_real_x_y(X_train, batch_size)\n",
        "            d_loss_real, d_acc_real = self.discriminator.evaluate(x_real, y_real, verbose=0)\n",
        "            # evaluate discriminator on fake examples\n",
        "            x_fake, y_fake = self.generate_fake_x_y(batch_size)\n",
        "            d_loss_fake, d_acc_fake = self.discriminator.evaluate(x_fake, y_fake, verbose=0)\n",
        "\n",
        "            d_fake_losses[i] = d_loss_fake\n",
        "            d_real_losses[i] = d_loss_real\n",
        "            d_fake_accuracies[i] = d_acc_fake\n",
        "            d_real_accuracies[i] = d_acc_real\n",
        "\n",
        "            # noise = np.random.normal(0, 1, (batch_size * 2, self.latent_dim))\n",
        "            noise = np.random.uniform(-1, 1, size=(batch_size * 2, self.latent_dim))\n",
        "            # create inverted labels for the fake samples so generator can improve to be 'real'\n",
        "            # update the generator via the discriminator's error\n",
        "            g_loss, g_acc = self.gan.train_on_batch(noise, valid_twice)\n",
        "\n",
        "            d_losses[i] = d_loss\n",
        "            d_accuracies[i] = d_acc\n",
        "            g_losses[i] = g_loss\n",
        "            g_accuracies[i] = g_acc\n",
        "            # if i % 50 == 0:\n",
        "            #   print(\"epoch %d [D loss: %f, acc.: %.2f%%] [G loss: %f, acc.: %.2f%%]\" % (epoch, d_loss, 100 * d_acc, g_loss, g_acc))\n",
        "            #   if 800<=i and i<= 1200:\n",
        "            #     filename = 'generator_model_%03d.h5' % (epoch + 1)\n",
        "            #     self.generator.save(filename)\n",
        "\n",
        "            if i % 50 == 0:\n",
        "                print(\"epoch %d [D loss: %f, acc.: %.2f%%] [G loss: %f, acc.: %.2f%%]\" % (epoch, d_loss, 100 * d_acc, g_loss, g_acc))\n",
        "                if 500 <= i:\n",
        "                    if abs(g_loss - d_loss) < 0.2: # check that losses converged\n",
        "                        if abs(d_acc - 0.5) < 0.2 and abs( d_acc_fake - d_acc_real) < 0.2 : # save generator model for closest to 0.5 accuracy\n",
        "                            # filename = 'generator_model.h5'\n",
        "                            filename = f'diab_g_model_{epoch:.2f}_{g_loss:.2f}_{g_loss-d_loss:.2f}_{d_acc:.2f}_{d_acc_fake - d_acc_real:.2f}.h5' \n",
        "\n",
        "                            self.generator.save(filename)\n",
        "                            best_epoch = epoch                   \n",
        "        return d_losses, d_accuracies, g_losses, g_accuracies, d_fake_losses, d_real_losses, d_fake_accuracies, d_real_accuracies"
      ],
      "execution_count": 65,
      "outputs": []
    },
    {
      "cell_type": "code",
      "metadata": {
        "colab": {
          "base_uri": "https://localhost:8080/"
        },
        "id": "RYyQd6rkQo8-",
        "outputId": "562e273c-a58f-44a2-e5d9-57cfbeae95d2"
      },
      "source": [
        "from google.colab import drive \n",
        "drive.mount('/content/gdrive')"
      ],
      "execution_count": 66,
      "outputs": [
        {
          "output_type": "stream",
          "text": [
            "Drive already mounted at /content/gdrive; to attempt to forcibly remount, call drive.mount(\"/content/gdrive\", force_remount=True).\n"
          ],
          "name": "stdout"
        }
      ]
    },
    {
      "cell_type": "code",
      "metadata": {
        "id": "lT3CYUGFUjZM"
      },
      "source": [
        "diab_arf = arff.loadarff('gdrive/MyDrive/DL/Assignment_4/diabetes.arff')"
      ],
      "execution_count": 67,
      "outputs": []
    },
    {
      "cell_type": "code",
      "metadata": {
        "id": "gMgc25w7Uu-2"
      },
      "source": [
        "diab_df = pd.DataFrame(diab_arf[0])"
      ],
      "execution_count": 68,
      "outputs": []
    },
    {
      "cell_type": "code",
      "metadata": {
        "id": "PrqCIaw5XwsL"
      },
      "source": [
        "# diab_df.replace(to_replace=b'tested_negative', value=-1, inplace=True)\n",
        "# diab_df.replace(to_replace=b'tested_positive', value=1, inplace=True)"
      ],
      "execution_count": 69,
      "outputs": []
    },
    {
      "cell_type": "code",
      "metadata": {
        "colab": {
          "base_uri": "https://localhost:8080/",
          "height": 197
        },
        "id": "YDlAMStuZCrq",
        "outputId": "c9c27774-d7a6-4eda-ef29-b05c3d485b09"
      },
      "source": [
        "diab_df.head()"
      ],
      "execution_count": 70,
      "outputs": [
        {
          "output_type": "execute_result",
          "data": {
            "text/html": [
              "<div>\n",
              "<style scoped>\n",
              "    .dataframe tbody tr th:only-of-type {\n",
              "        vertical-align: middle;\n",
              "    }\n",
              "\n",
              "    .dataframe tbody tr th {\n",
              "        vertical-align: top;\n",
              "    }\n",
              "\n",
              "    .dataframe thead th {\n",
              "        text-align: right;\n",
              "    }\n",
              "</style>\n",
              "<table border=\"1\" class=\"dataframe\">\n",
              "  <thead>\n",
              "    <tr style=\"text-align: right;\">\n",
              "      <th></th>\n",
              "      <th>preg</th>\n",
              "      <th>plas</th>\n",
              "      <th>pres</th>\n",
              "      <th>skin</th>\n",
              "      <th>insu</th>\n",
              "      <th>mass</th>\n",
              "      <th>pedi</th>\n",
              "      <th>age</th>\n",
              "      <th>class</th>\n",
              "    </tr>\n",
              "  </thead>\n",
              "  <tbody>\n",
              "    <tr>\n",
              "      <th>0</th>\n",
              "      <td>6.0</td>\n",
              "      <td>148.0</td>\n",
              "      <td>72.0</td>\n",
              "      <td>35.0</td>\n",
              "      <td>0.0</td>\n",
              "      <td>33.6</td>\n",
              "      <td>0.627</td>\n",
              "      <td>50.0</td>\n",
              "      <td>b'tested_positive'</td>\n",
              "    </tr>\n",
              "    <tr>\n",
              "      <th>1</th>\n",
              "      <td>1.0</td>\n",
              "      <td>85.0</td>\n",
              "      <td>66.0</td>\n",
              "      <td>29.0</td>\n",
              "      <td>0.0</td>\n",
              "      <td>26.6</td>\n",
              "      <td>0.351</td>\n",
              "      <td>31.0</td>\n",
              "      <td>b'tested_negative'</td>\n",
              "    </tr>\n",
              "    <tr>\n",
              "      <th>2</th>\n",
              "      <td>8.0</td>\n",
              "      <td>183.0</td>\n",
              "      <td>64.0</td>\n",
              "      <td>0.0</td>\n",
              "      <td>0.0</td>\n",
              "      <td>23.3</td>\n",
              "      <td>0.672</td>\n",
              "      <td>32.0</td>\n",
              "      <td>b'tested_positive'</td>\n",
              "    </tr>\n",
              "    <tr>\n",
              "      <th>3</th>\n",
              "      <td>1.0</td>\n",
              "      <td>89.0</td>\n",
              "      <td>66.0</td>\n",
              "      <td>23.0</td>\n",
              "      <td>94.0</td>\n",
              "      <td>28.1</td>\n",
              "      <td>0.167</td>\n",
              "      <td>21.0</td>\n",
              "      <td>b'tested_negative'</td>\n",
              "    </tr>\n",
              "    <tr>\n",
              "      <th>4</th>\n",
              "      <td>0.0</td>\n",
              "      <td>137.0</td>\n",
              "      <td>40.0</td>\n",
              "      <td>35.0</td>\n",
              "      <td>168.0</td>\n",
              "      <td>43.1</td>\n",
              "      <td>2.288</td>\n",
              "      <td>33.0</td>\n",
              "      <td>b'tested_positive'</td>\n",
              "    </tr>\n",
              "  </tbody>\n",
              "</table>\n",
              "</div>"
            ],
            "text/plain": [
              "   preg   plas  pres  skin   insu  mass   pedi   age               class\n",
              "0   6.0  148.0  72.0  35.0    0.0  33.6  0.627  50.0  b'tested_positive'\n",
              "1   1.0   85.0  66.0  29.0    0.0  26.6  0.351  31.0  b'tested_negative'\n",
              "2   8.0  183.0  64.0   0.0    0.0  23.3  0.672  32.0  b'tested_positive'\n",
              "3   1.0   89.0  66.0  23.0   94.0  28.1  0.167  21.0  b'tested_negative'\n",
              "4   0.0  137.0  40.0  35.0  168.0  43.1  2.288  33.0  b'tested_positive'"
            ]
          },
          "metadata": {
            "tags": []
          },
          "execution_count": 70
        }
      ]
    },
    {
      "cell_type": "code",
      "metadata": {
        "id": "MDA-w1sYGC3B"
      },
      "source": [
        "# the values must be scaled to the range [-1,1] to match the output of the generator model\n",
        "def scaler(df):\n",
        "  for column in df:\n",
        "    max = df[column].max()\n",
        "    min = df[column].min()\n",
        "    col = 2*((df[column] - min)/(max - min)) - 1\n",
        "    df[column] = col\n",
        "  return df"
      ],
      "execution_count": 71,
      "outputs": []
    },
    {
      "cell_type": "code",
      "metadata": {
        "id": "6_QL7k-VHdzT"
      },
      "source": [
        "# class is not part of sample description\n",
        "del diab_df['class']\n",
        "diab_df = scaler(diab_df)"
      ],
      "execution_count": 72,
      "outputs": []
    },
    {
      "cell_type": "code",
      "metadata": {
        "colab": {
          "base_uri": "https://localhost:8080/",
          "height": 287
        },
        "id": "k2xzgNz_ZEBU",
        "outputId": "8b168a45-e4fd-4641-c87c-9b799ae8e798"
      },
      "source": [
        "diab_df.describe()"
      ],
      "execution_count": 73,
      "outputs": [
        {
          "output_type": "execute_result",
          "data": {
            "text/html": [
              "<div>\n",
              "<style scoped>\n",
              "    .dataframe tbody tr th:only-of-type {\n",
              "        vertical-align: middle;\n",
              "    }\n",
              "\n",
              "    .dataframe tbody tr th {\n",
              "        vertical-align: top;\n",
              "    }\n",
              "\n",
              "    .dataframe thead th {\n",
              "        text-align: right;\n",
              "    }\n",
              "</style>\n",
              "<table border=\"1\" class=\"dataframe\">\n",
              "  <thead>\n",
              "    <tr style=\"text-align: right;\">\n",
              "      <th></th>\n",
              "      <th>preg</th>\n",
              "      <th>plas</th>\n",
              "      <th>pres</th>\n",
              "      <th>skin</th>\n",
              "      <th>insu</th>\n",
              "      <th>mass</th>\n",
              "      <th>pedi</th>\n",
              "      <th>age</th>\n",
              "    </tr>\n",
              "  </thead>\n",
              "  <tbody>\n",
              "    <tr>\n",
              "      <th>count</th>\n",
              "      <td>768.000000</td>\n",
              "      <td>768.000000</td>\n",
              "      <td>768.000000</td>\n",
              "      <td>768.000000</td>\n",
              "      <td>768.000000</td>\n",
              "      <td>768.000000</td>\n",
              "      <td>768.000000</td>\n",
              "      <td>768.000000</td>\n",
              "    </tr>\n",
              "    <tr>\n",
              "      <th>mean</th>\n",
              "      <td>-0.547641</td>\n",
              "      <td>0.215020</td>\n",
              "      <td>0.132877</td>\n",
              "      <td>-0.585122</td>\n",
              "      <td>-0.811349</td>\n",
              "      <td>-0.046421</td>\n",
              "      <td>-0.663641</td>\n",
              "      <td>-0.591970</td>\n",
              "    </tr>\n",
              "    <tr>\n",
              "      <th>std</th>\n",
              "      <td>0.396421</td>\n",
              "      <td>0.321333</td>\n",
              "      <td>0.317308</td>\n",
              "      <td>0.322267</td>\n",
              "      <td>0.272444</td>\n",
              "      <td>0.234997</td>\n",
              "      <td>0.282945</td>\n",
              "      <td>0.392008</td>\n",
              "    </tr>\n",
              "    <tr>\n",
              "      <th>min</th>\n",
              "      <td>-1.000000</td>\n",
              "      <td>-1.000000</td>\n",
              "      <td>-1.000000</td>\n",
              "      <td>-1.000000</td>\n",
              "      <td>-1.000000</td>\n",
              "      <td>-1.000000</td>\n",
              "      <td>-1.000000</td>\n",
              "      <td>-1.000000</td>\n",
              "    </tr>\n",
              "    <tr>\n",
              "      <th>25%</th>\n",
              "      <td>-0.882353</td>\n",
              "      <td>-0.005025</td>\n",
              "      <td>0.016393</td>\n",
              "      <td>-1.000000</td>\n",
              "      <td>-1.000000</td>\n",
              "      <td>-0.186289</td>\n",
              "      <td>-0.858454</td>\n",
              "      <td>-0.900000</td>\n",
              "    </tr>\n",
              "    <tr>\n",
              "      <th>50%</th>\n",
              "      <td>-0.647059</td>\n",
              "      <td>0.175879</td>\n",
              "      <td>0.180328</td>\n",
              "      <td>-0.535354</td>\n",
              "      <td>-0.927896</td>\n",
              "      <td>-0.046200</td>\n",
              "      <td>-0.748506</td>\n",
              "      <td>-0.733333</td>\n",
              "    </tr>\n",
              "    <tr>\n",
              "      <th>75%</th>\n",
              "      <td>-0.294118</td>\n",
              "      <td>0.409548</td>\n",
              "      <td>0.311475</td>\n",
              "      <td>-0.353535</td>\n",
              "      <td>-0.699173</td>\n",
              "      <td>0.090909</td>\n",
              "      <td>-0.531810</td>\n",
              "      <td>-0.333333</td>\n",
              "    </tr>\n",
              "    <tr>\n",
              "      <th>max</th>\n",
              "      <td>1.000000</td>\n",
              "      <td>1.000000</td>\n",
              "      <td>1.000000</td>\n",
              "      <td>1.000000</td>\n",
              "      <td>1.000000</td>\n",
              "      <td>1.000000</td>\n",
              "      <td>1.000000</td>\n",
              "      <td>1.000000</td>\n",
              "    </tr>\n",
              "  </tbody>\n",
              "</table>\n",
              "</div>"
            ],
            "text/plain": [
              "             preg        plas        pres  ...        mass        pedi         age\n",
              "count  768.000000  768.000000  768.000000  ...  768.000000  768.000000  768.000000\n",
              "mean    -0.547641    0.215020    0.132877  ...   -0.046421   -0.663641   -0.591970\n",
              "std      0.396421    0.321333    0.317308  ...    0.234997    0.282945    0.392008\n",
              "min     -1.000000   -1.000000   -1.000000  ...   -1.000000   -1.000000   -1.000000\n",
              "25%     -0.882353   -0.005025    0.016393  ...   -0.186289   -0.858454   -0.900000\n",
              "50%     -0.647059    0.175879    0.180328  ...   -0.046200   -0.748506   -0.733333\n",
              "75%     -0.294118    0.409548    0.311475  ...    0.090909   -0.531810   -0.333333\n",
              "max      1.000000    1.000000    1.000000  ...    1.000000    1.000000    1.000000\n",
              "\n",
              "[8 rows x 8 columns]"
            ]
          },
          "metadata": {
            "tags": []
          },
          "execution_count": 73
        }
      ]
    },
    {
      "cell_type": "code",
      "metadata": {
        "colab": {
          "base_uri": "https://localhost:8080/"
        },
        "id": "ydiDRgBKSfdG",
        "outputId": "3aa968fe-7e6b-49ba-c76d-d4f3a5df7a18"
      },
      "source": [
        "gan = GAN()\n",
        "# from tensorflow.python.keras.utils.vis_utils import plot_model\n",
        "# plot_model(gan.generator, to_file='g_plot.png', show_shapes=True, show_layer_names=True)"
      ],
      "execution_count": 74,
      "outputs": [
        {
          "output_type": "stream",
          "text": [
            "Model: \"sequential_9\"\n",
            "_________________________________________________________________\n",
            "Layer (type)                 Output Shape              Param #   \n",
            "=================================================================\n",
            "dense_18 (Dense)             (None, 30)                330       \n",
            "_________________________________________________________________\n",
            "batch_normalization_6 (Batch (None, 30)                120       \n",
            "_________________________________________________________________\n",
            "leaky_re_lu_12 (LeakyReLU)   (None, 30)                0         \n",
            "_________________________________________________________________\n",
            "dense_19 (Dense)             (None, 15)                465       \n",
            "_________________________________________________________________\n",
            "batch_normalization_7 (Batch (None, 15)                60        \n",
            "_________________________________________________________________\n",
            "leaky_re_lu_13 (LeakyReLU)   (None, 15)                0         \n",
            "_________________________________________________________________\n",
            "dense_20 (Dense)             (None, 8)                 128       \n",
            "=================================================================\n",
            "Total params: 1,103\n",
            "Trainable params: 1,013\n",
            "Non-trainable params: 90\n",
            "_________________________________________________________________\n",
            "Model: \"sequential_10\"\n",
            "_________________________________________________________________\n",
            "Layer (type)                 Output Shape              Param #   \n",
            "=================================================================\n",
            "dense_21 (Dense)             (None, 32)                288       \n",
            "_________________________________________________________________\n",
            "leaky_re_lu_14 (LeakyReLU)   (None, 32)                0         \n",
            "_________________________________________________________________\n",
            "dropout_6 (Dropout)          (None, 32)                0         \n",
            "_________________________________________________________________\n",
            "dense_22 (Dense)             (None, 16)                528       \n",
            "_________________________________________________________________\n",
            "leaky_re_lu_15 (LeakyReLU)   (None, 16)                0         \n",
            "_________________________________________________________________\n",
            "dropout_7 (Dropout)          (None, 16)                0         \n",
            "_________________________________________________________________\n",
            "flatten_3 (Flatten)          (None, 16)                0         \n",
            "_________________________________________________________________\n",
            "dense_23 (Dense)             (None, 1)                 17        \n",
            "=================================================================\n",
            "Total params: 833\n",
            "Trainable params: 833\n",
            "Non-trainable params: 0\n",
            "_________________________________________________________________\n"
          ],
          "name": "stdout"
        },
        {
          "output_type": "stream",
          "text": [
            "/usr/local/lib/python3.7/dist-packages/tensorflow/python/keras/optimizer_v2/optimizer_v2.py:375: UserWarning: The `lr` argument is deprecated, use `learning_rate` instead.\n",
            "  \"The `lr` argument is deprecated, use `learning_rate` instead.\")\n"
          ],
          "name": "stderr"
        }
      ]
    },
    {
      "cell_type": "code",
      "metadata": {
        "id": "2Pb5PyJsTIYf"
      },
      "source": [
        "# plot_model(gan.discriminator, to_file='d_plot.png', show_shapes=True, show_layer_names=True)"
      ],
      "execution_count": 75,
      "outputs": []
    },
    {
      "cell_type": "code",
      "metadata": {
        "colab": {
          "base_uri": "https://localhost:8080/"
        },
        "id": "_cHtG9JVObgt",
        "outputId": "fe277d87-62b6-4b3b-9aa5-c6c89ab81ab7"
      },
      "source": [
        "epochs = 7000\n",
        "d_losses, d_accuracies, g_losses, g_accuracies, d_fake_losses, d_real_losses, d_fake_accuracies, d_real_accuracies = gan.train(df=diab_df, epochs=epochs, batch_size=16)"
      ],
      "execution_count": 76,
      "outputs": [
        {
          "output_type": "stream",
          "text": [
            "epoch 0 [D loss: 0.641949, acc.: 71.88%] [G loss: 0.679883, acc.: 0.62%]\n",
            "epoch 50 [D loss: 0.630593, acc.: 62.50%] [G loss: 0.669717, acc.: 0.59%]\n",
            "epoch 100 [D loss: 0.629924, acc.: 62.50%] [G loss: 0.661022, acc.: 0.62%]\n",
            "epoch 150 [D loss: 0.683589, acc.: 54.17%] [G loss: 0.641497, acc.: 0.59%]\n",
            "epoch 200 [D loss: 0.619984, acc.: 64.58%] [G loss: 0.616111, acc.: 0.66%]\n",
            "epoch 250 [D loss: 0.665769, acc.: 56.25%] [G loss: 0.686914, acc.: 0.53%]\n",
            "epoch 300 [D loss: 0.556155, acc.: 70.83%] [G loss: 0.654854, acc.: 0.59%]\n",
            "epoch 350 [D loss: 0.658245, acc.: 52.08%] [G loss: 0.669614, acc.: 0.53%]\n",
            "epoch 400 [D loss: 0.672921, acc.: 58.33%] [G loss: 0.681095, acc.: 0.59%]\n",
            "epoch 450 [D loss: 0.677306, acc.: 52.08%] [G loss: 0.668537, acc.: 0.44%]\n",
            "epoch 500 [D loss: 0.721297, acc.: 47.92%] [G loss: 0.699727, acc.: 0.44%]\n",
            "epoch 550 [D loss: 0.691769, acc.: 47.92%] [G loss: 0.640963, acc.: 0.56%]\n",
            "WARNING:tensorflow:Compiled the loaded model, but the compiled metrics have yet to be built. `model.compile_metrics` will be empty until you train or evaluate the model.\n",
            "epoch 600 [D loss: 0.705830, acc.: 41.67%] [G loss: 0.723507, acc.: 0.50%]\n",
            "WARNING:tensorflow:Compiled the loaded model, but the compiled metrics have yet to be built. `model.compile_metrics` will be empty until you train or evaluate the model.\n",
            "epoch 650 [D loss: 0.734820, acc.: 33.33%] [G loss: 0.718960, acc.: 0.34%]\n",
            "epoch 700 [D loss: 0.696769, acc.: 47.92%] [G loss: 0.722283, acc.: 0.50%]\n",
            "WARNING:tensorflow:Compiled the loaded model, but the compiled metrics have yet to be built. `model.compile_metrics` will be empty until you train or evaluate the model.\n",
            "epoch 750 [D loss: 0.711948, acc.: 45.83%] [G loss: 0.696531, acc.: 0.56%]\n",
            "epoch 800 [D loss: 0.693032, acc.: 58.33%] [G loss: 0.749812, acc.: 0.34%]\n",
            "epoch 850 [D loss: 0.675735, acc.: 66.67%] [G loss: 0.760506, acc.: 0.12%]\n",
            "epoch 900 [D loss: 0.659652, acc.: 75.00%] [G loss: 0.752396, acc.: 0.28%]\n",
            "epoch 950 [D loss: 0.677170, acc.: 62.50%] [G loss: 0.778226, acc.: 0.09%]\n",
            "epoch 1000 [D loss: 0.672952, acc.: 68.75%] [G loss: 0.763861, acc.: 0.19%]\n",
            "epoch 1050 [D loss: 0.663284, acc.: 68.75%] [G loss: 0.771341, acc.: 0.16%]\n",
            "epoch 1100 [D loss: 0.662467, acc.: 72.92%] [G loss: 0.740425, acc.: 0.28%]\n",
            "epoch 1150 [D loss: 0.678069, acc.: 66.67%] [G loss: 0.752976, acc.: 0.19%]\n",
            "epoch 1200 [D loss: 0.669315, acc.: 70.83%] [G loss: 0.764416, acc.: 0.16%]\n",
            "epoch 1250 [D loss: 0.672472, acc.: 66.67%] [G loss: 0.745131, acc.: 0.25%]\n",
            "epoch 1300 [D loss: 0.688450, acc.: 60.42%] [G loss: 0.774335, acc.: 0.12%]\n",
            "epoch 1350 [D loss: 0.664944, acc.: 66.67%] [G loss: 0.779887, acc.: 0.06%]\n",
            "epoch 1400 [D loss: 0.663891, acc.: 60.42%] [G loss: 0.754663, acc.: 0.16%]\n",
            "epoch 1450 [D loss: 0.681108, acc.: 64.58%] [G loss: 0.742029, acc.: 0.19%]\n",
            "epoch 1500 [D loss: 0.668748, acc.: 66.67%] [G loss: 0.714240, acc.: 0.31%]\n",
            "epoch 1550 [D loss: 0.663398, acc.: 75.00%] [G loss: 0.722731, acc.: 0.34%]\n",
            "epoch 1600 [D loss: 0.680171, acc.: 66.67%] [G loss: 0.756767, acc.: 0.09%]\n",
            "epoch 1650 [D loss: 0.692880, acc.: 58.33%] [G loss: 0.730628, acc.: 0.28%]\n",
            "epoch 1700 [D loss: 0.701067, acc.: 52.08%] [G loss: 0.725242, acc.: 0.25%]\n",
            "epoch 1750 [D loss: 0.707551, acc.: 64.58%] [G loss: 0.715915, acc.: 0.34%]\n",
            "epoch 1800 [D loss: 0.685620, acc.: 58.33%] [G loss: 0.708274, acc.: 0.41%]\n",
            "epoch 1850 [D loss: 0.680895, acc.: 68.75%] [G loss: 0.737495, acc.: 0.25%]\n",
            "epoch 1900 [D loss: 0.678301, acc.: 64.58%] [G loss: 0.727869, acc.: 0.25%]\n",
            "epoch 1950 [D loss: 0.699879, acc.: 56.25%] [G loss: 0.730448, acc.: 0.25%]\n",
            "epoch 2000 [D loss: 0.662986, acc.: 72.92%] [G loss: 0.733812, acc.: 0.19%]\n",
            "epoch 2050 [D loss: 0.679022, acc.: 60.42%] [G loss: 0.717018, acc.: 0.34%]\n",
            "epoch 2100 [D loss: 0.674323, acc.: 62.50%] [G loss: 0.741473, acc.: 0.28%]\n",
            "epoch 2150 [D loss: 0.671475, acc.: 68.75%] [G loss: 0.714986, acc.: 0.38%]\n",
            "epoch 2200 [D loss: 0.672297, acc.: 70.83%] [G loss: 0.731924, acc.: 0.31%]\n",
            "epoch 2250 [D loss: 0.679468, acc.: 64.58%] [G loss: 0.719048, acc.: 0.31%]\n",
            "epoch 2300 [D loss: 0.679221, acc.: 58.33%] [G loss: 0.722028, acc.: 0.31%]\n",
            "epoch 2350 [D loss: 0.697017, acc.: 43.75%] [G loss: 0.703511, acc.: 0.56%]\n",
            "epoch 2400 [D loss: 0.678890, acc.: 64.58%] [G loss: 0.704488, acc.: 0.47%]\n",
            "WARNING:tensorflow:Compiled the loaded model, but the compiled metrics have yet to be built. `model.compile_metrics` will be empty until you train or evaluate the model.\n",
            "epoch 2450 [D loss: 0.696463, acc.: 54.17%] [G loss: 0.701557, acc.: 0.28%]\n",
            "epoch 2500 [D loss: 0.697028, acc.: 50.00%] [G loss: 0.684324, acc.: 0.47%]\n",
            "epoch 2550 [D loss: 0.692236, acc.: 60.42%] [G loss: 0.700673, acc.: 0.41%]\n",
            "epoch 2600 [D loss: 0.686388, acc.: 64.58%] [G loss: 0.696046, acc.: 0.50%]\n",
            "epoch 2650 [D loss: 0.674865, acc.: 70.83%] [G loss: 0.690533, acc.: 0.47%]\n",
            "epoch 2700 [D loss: 0.681277, acc.: 68.75%] [G loss: 0.702008, acc.: 0.47%]\n",
            "epoch 2750 [D loss: 0.678554, acc.: 66.67%] [G loss: 0.708948, acc.: 0.44%]\n",
            "epoch 2800 [D loss: 0.679955, acc.: 68.75%] [G loss: 0.692440, acc.: 0.44%]\n",
            "epoch 2850 [D loss: 0.692606, acc.: 62.50%] [G loss: 0.715904, acc.: 0.38%]\n",
            "epoch 2900 [D loss: 0.688027, acc.: 60.42%] [G loss: 0.709862, acc.: 0.25%]\n",
            "epoch 2950 [D loss: 0.692887, acc.: 64.58%] [G loss: 0.717566, acc.: 0.31%]\n",
            "epoch 3000 [D loss: 0.689537, acc.: 54.17%] [G loss: 0.682379, acc.: 0.62%]\n",
            "epoch 3050 [D loss: 0.695196, acc.: 54.17%] [G loss: 0.694404, acc.: 0.38%]\n",
            "epoch 3100 [D loss: 0.691833, acc.: 60.42%] [G loss: 0.706235, acc.: 0.44%]\n",
            "epoch 3150 [D loss: 0.697060, acc.: 54.17%] [G loss: 0.715473, acc.: 0.41%]\n",
            "epoch 3200 [D loss: 0.697202, acc.: 50.00%] [G loss: 0.705272, acc.: 0.38%]\n",
            "epoch 3250 [D loss: 0.688376, acc.: 66.67%] [G loss: 0.709505, acc.: 0.28%]\n",
            "epoch 3300 [D loss: 0.692027, acc.: 56.25%] [G loss: 0.712560, acc.: 0.34%]\n",
            "epoch 3350 [D loss: 0.684242, acc.: 66.67%] [G loss: 0.711837, acc.: 0.41%]\n",
            "epoch 3400 [D loss: 0.691878, acc.: 64.58%] [G loss: 0.691099, acc.: 0.47%]\n",
            "epoch 3450 [D loss: 0.683498, acc.: 68.75%] [G loss: 0.707933, acc.: 0.50%]\n",
            "epoch 3500 [D loss: 0.692385, acc.: 60.42%] [G loss: 0.699766, acc.: 0.47%]\n",
            "epoch 3550 [D loss: 0.688779, acc.: 70.83%] [G loss: 0.697251, acc.: 0.44%]\n",
            "epoch 3600 [D loss: 0.681644, acc.: 62.50%] [G loss: 0.706317, acc.: 0.44%]\n",
            "epoch 3650 [D loss: 0.692316, acc.: 54.17%] [G loss: 0.682702, acc.: 0.59%]\n",
            "WARNING:tensorflow:Compiled the loaded model, but the compiled metrics have yet to be built. `model.compile_metrics` will be empty until you train or evaluate the model.\n",
            "epoch 3700 [D loss: 0.691694, acc.: 50.00%] [G loss: 0.695325, acc.: 0.47%]\n",
            "WARNING:tensorflow:Compiled the loaded model, but the compiled metrics have yet to be built. `model.compile_metrics` will be empty until you train or evaluate the model.\n",
            "epoch 3750 [D loss: 0.700675, acc.: 33.33%] [G loss: 0.690870, acc.: 0.53%]\n",
            "WARNING:tensorflow:Compiled the loaded model, but the compiled metrics have yet to be built. `model.compile_metrics` will be empty until you train or evaluate the model.\n",
            "epoch 3800 [D loss: 0.697546, acc.: 47.92%] [G loss: 0.698175, acc.: 0.41%]\n",
            "epoch 3850 [D loss: 0.695969, acc.: 52.08%] [G loss: 0.692945, acc.: 0.47%]\n",
            "epoch 3900 [D loss: 0.697563, acc.: 41.67%] [G loss: 0.711148, acc.: 0.34%]\n",
            "WARNING:tensorflow:Compiled the loaded model, but the compiled metrics have yet to be built. `model.compile_metrics` will be empty until you train or evaluate the model.\n",
            "epoch 3950 [D loss: 0.688930, acc.: 62.50%] [G loss: 0.687268, acc.: 0.62%]\n",
            "WARNING:tensorflow:Compiled the loaded model, but the compiled metrics have yet to be built. `model.compile_metrics` will be empty until you train or evaluate the model.\n",
            "epoch 4000 [D loss: 0.694396, acc.: 45.83%] [G loss: 0.705953, acc.: 0.44%]\n",
            "WARNING:tensorflow:Compiled the loaded model, but the compiled metrics have yet to be built. `model.compile_metrics` will be empty until you train or evaluate the model.\n",
            "epoch 4050 [D loss: 0.704011, acc.: 37.50%] [G loss: 0.695681, acc.: 0.47%]\n",
            "epoch 4100 [D loss: 0.698077, acc.: 37.50%] [G loss: 0.669279, acc.: 0.75%]\n",
            "epoch 4150 [D loss: 0.693305, acc.: 43.75%] [G loss: 0.691153, acc.: 0.53%]\n",
            "epoch 4200 [D loss: 0.695036, acc.: 47.92%] [G loss: 0.697564, acc.: 0.38%]\n",
            "epoch 4250 [D loss: 0.693838, acc.: 43.75%] [G loss: 0.688052, acc.: 0.53%]\n",
            "epoch 4300 [D loss: 0.694113, acc.: 45.83%] [G loss: 0.692891, acc.: 0.47%]\n",
            "WARNING:tensorflow:Compiled the loaded model, but the compiled metrics have yet to be built. `model.compile_metrics` will be empty until you train or evaluate the model.\n",
            "epoch 4350 [D loss: 0.704724, acc.: 45.83%] [G loss: 0.690710, acc.: 0.44%]\n",
            "epoch 4400 [D loss: 0.692562, acc.: 50.00%] [G loss: 0.695965, acc.: 0.47%]\n",
            "WARNING:tensorflow:Compiled the loaded model, but the compiled metrics have yet to be built. `model.compile_metrics` will be empty until you train or evaluate the model.\n",
            "epoch 4450 [D loss: 0.698160, acc.: 54.17%] [G loss: 0.690903, acc.: 0.62%]\n",
            "epoch 4500 [D loss: 0.692743, acc.: 60.42%] [G loss: 0.694709, acc.: 0.56%]\n",
            "epoch 4550 [D loss: 0.700906, acc.: 43.75%] [G loss: 0.692922, acc.: 0.56%]\n",
            "epoch 4600 [D loss: 0.705783, acc.: 37.50%] [G loss: 0.692858, acc.: 0.50%]\n",
            "epoch 4650 [D loss: 0.688731, acc.: 45.83%] [G loss: 0.682419, acc.: 0.59%]\n",
            "epoch 4700 [D loss: 0.691091, acc.: 54.17%] [G loss: 0.675724, acc.: 0.72%]\n",
            "WARNING:tensorflow:Compiled the loaded model, but the compiled metrics have yet to be built. `model.compile_metrics` will be empty until you train or evaluate the model.\n",
            "epoch 4750 [D loss: 0.691196, acc.: 54.17%] [G loss: 0.686918, acc.: 0.59%]\n",
            "WARNING:tensorflow:Compiled the loaded model, but the compiled metrics have yet to be built. `model.compile_metrics` will be empty until you train or evaluate the model.\n",
            "epoch 4800 [D loss: 0.691972, acc.: 47.92%] [G loss: 0.684957, acc.: 0.72%]\n",
            "WARNING:tensorflow:Compiled the loaded model, but the compiled metrics have yet to be built. `model.compile_metrics` will be empty until you train or evaluate the model.\n",
            "epoch 4850 [D loss: 0.689381, acc.: 58.33%] [G loss: 0.678594, acc.: 0.62%]\n",
            "WARNING:tensorflow:Compiled the loaded model, but the compiled metrics have yet to be built. `model.compile_metrics` will be empty until you train or evaluate the model.\n",
            "epoch 4900 [D loss: 0.692199, acc.: 52.08%] [G loss: 0.683445, acc.: 0.62%]\n",
            "epoch 4950 [D loss: 0.689838, acc.: 50.00%] [G loss: 0.683719, acc.: 0.59%]\n",
            "epoch 5000 [D loss: 0.696138, acc.: 41.67%] [G loss: 0.686056, acc.: 0.56%]\n",
            "epoch 5050 [D loss: 0.689276, acc.: 54.17%] [G loss: 0.689532, acc.: 0.59%]\n",
            "WARNING:tensorflow:Compiled the loaded model, but the compiled metrics have yet to be built. `model.compile_metrics` will be empty until you train or evaluate the model.\n",
            "epoch 5100 [D loss: 0.691562, acc.: 52.08%] [G loss: 0.679031, acc.: 0.66%]\n",
            "epoch 5150 [D loss: 0.693205, acc.: 52.08%] [G loss: 0.689345, acc.: 0.53%]\n",
            "epoch 5200 [D loss: 0.691940, acc.: 43.75%] [G loss: 0.682752, acc.: 0.72%]\n",
            "WARNING:tensorflow:Compiled the loaded model, but the compiled metrics have yet to be built. `model.compile_metrics` will be empty until you train or evaluate the model.\n",
            "epoch 5250 [D loss: 0.686049, acc.: 60.42%] [G loss: 0.693169, acc.: 0.34%]\n",
            "WARNING:tensorflow:Compiled the loaded model, but the compiled metrics have yet to be built. `model.compile_metrics` will be empty until you train or evaluate the model.\n",
            "epoch 5300 [D loss: 0.688570, acc.: 62.50%] [G loss: 0.689494, acc.: 0.56%]\n",
            "WARNING:tensorflow:Compiled the loaded model, but the compiled metrics have yet to be built. `model.compile_metrics` will be empty until you train or evaluate the model.\n",
            "epoch 5350 [D loss: 0.694834, acc.: 50.00%] [G loss: 0.696289, acc.: 0.38%]\n",
            "WARNING:tensorflow:Compiled the loaded model, but the compiled metrics have yet to be built. `model.compile_metrics` will be empty until you train or evaluate the model.\n",
            "epoch 5400 [D loss: 0.697251, acc.: 52.08%] [G loss: 0.684284, acc.: 0.53%]\n",
            "epoch 5450 [D loss: 0.704998, acc.: 43.75%] [G loss: 0.705929, acc.: 0.38%]\n",
            "epoch 5500 [D loss: 0.675900, acc.: 68.75%] [G loss: 0.708694, acc.: 0.25%]\n",
            "epoch 5550 [D loss: 0.695031, acc.: 45.83%] [G loss: 0.686337, acc.: 0.53%]\n",
            "WARNING:tensorflow:Compiled the loaded model, but the compiled metrics have yet to be built. `model.compile_metrics` will be empty until you train or evaluate the model.\n",
            "epoch 5600 [D loss: 0.688391, acc.: 58.33%] [G loss: 0.696695, acc.: 0.44%]\n",
            "epoch 5650 [D loss: 0.685454, acc.: 58.33%] [G loss: 0.690752, acc.: 0.50%]\n",
            "WARNING:tensorflow:Compiled the loaded model, but the compiled metrics have yet to be built. `model.compile_metrics` will be empty until you train or evaluate the model.\n",
            "epoch 5700 [D loss: 0.705690, acc.: 47.92%] [G loss: 0.704368, acc.: 0.41%]\n",
            "WARNING:tensorflow:Compiled the loaded model, but the compiled metrics have yet to be built. `model.compile_metrics` will be empty until you train or evaluate the model.\n",
            "epoch 5750 [D loss: 0.693554, acc.: 50.00%] [G loss: 0.698073, acc.: 0.47%]\n",
            "WARNING:tensorflow:Compiled the loaded model, but the compiled metrics have yet to be built. `model.compile_metrics` will be empty until you train or evaluate the model.\n",
            "epoch 5800 [D loss: 0.688360, acc.: 58.33%] [G loss: 0.694870, acc.: 0.38%]\n",
            "epoch 5850 [D loss: 0.677032, acc.: 79.17%] [G loss: 0.711040, acc.: 0.28%]\n",
            "epoch 5900 [D loss: 0.675594, acc.: 70.83%] [G loss: 0.715592, acc.: 0.28%]\n",
            "epoch 5950 [D loss: 0.690464, acc.: 60.42%] [G loss: 0.692326, acc.: 0.53%]\n",
            "epoch 6000 [D loss: 0.688551, acc.: 45.83%] [G loss: 0.699557, acc.: 0.53%]\n",
            "WARNING:tensorflow:Compiled the loaded model, but the compiled metrics have yet to be built. `model.compile_metrics` will be empty until you train or evaluate the model.\n",
            "epoch 6050 [D loss: 0.702818, acc.: 54.17%] [G loss: 0.704957, acc.: 0.28%]\n",
            "epoch 6100 [D loss: 0.689313, acc.: 66.67%] [G loss: 0.698791, acc.: 0.50%]\n",
            "WARNING:tensorflow:Compiled the loaded model, but the compiled metrics have yet to be built. `model.compile_metrics` will be empty until you train or evaluate the model.\n",
            "epoch 6150 [D loss: 0.698092, acc.: 37.50%] [G loss: 0.702372, acc.: 0.47%]\n",
            "WARNING:tensorflow:Compiled the loaded model, but the compiled metrics have yet to be built. `model.compile_metrics` will be empty until you train or evaluate the model.\n",
            "epoch 6200 [D loss: 0.698764, acc.: 39.58%] [G loss: 0.691436, acc.: 0.66%]\n",
            "WARNING:tensorflow:Compiled the loaded model, but the compiled metrics have yet to be built. `model.compile_metrics` will be empty until you train or evaluate the model.\n",
            "epoch 6250 [D loss: 0.693630, acc.: 52.08%] [G loss: 0.712346, acc.: 0.28%]\n",
            "epoch 6300 [D loss: 0.692059, acc.: 62.50%] [G loss: 0.698242, acc.: 0.41%]\n",
            "epoch 6350 [D loss: 0.686700, acc.: 66.67%] [G loss: 0.709699, acc.: 0.34%]\n",
            "epoch 6400 [D loss: 0.691774, acc.: 56.25%] [G loss: 0.713207, acc.: 0.34%]\n",
            "epoch 6450 [D loss: 0.698217, acc.: 56.25%] [G loss: 0.699670, acc.: 0.53%]\n",
            "epoch 6500 [D loss: 0.689024, acc.: 52.08%] [G loss: 0.699321, acc.: 0.53%]\n",
            "epoch 6550 [D loss: 0.692728, acc.: 52.08%] [G loss: 0.692575, acc.: 0.44%]\n",
            "WARNING:tensorflow:Compiled the loaded model, but the compiled metrics have yet to be built. `model.compile_metrics` will be empty until you train or evaluate the model.\n",
            "epoch 6600 [D loss: 0.685271, acc.: 60.42%] [G loss: 0.693739, acc.: 0.53%]\n",
            "epoch 6650 [D loss: 0.697498, acc.: 52.08%] [G loss: 0.692985, acc.: 0.47%]\n",
            "WARNING:tensorflow:Compiled the loaded model, but the compiled metrics have yet to be built. `model.compile_metrics` will be empty until you train or evaluate the model.\n",
            "epoch 6700 [D loss: 0.688248, acc.: 58.33%] [G loss: 0.677207, acc.: 0.69%]\n",
            "WARNING:tensorflow:Compiled the loaded model, but the compiled metrics have yet to be built. `model.compile_metrics` will be empty until you train or evaluate the model.\n",
            "epoch 6750 [D loss: 0.693093, acc.: 56.25%] [G loss: 0.689286, acc.: 0.53%]\n",
            "epoch 6800 [D loss: 0.684418, acc.: 62.50%] [G loss: 0.694185, acc.: 0.44%]\n",
            "epoch 6850 [D loss: 0.683629, acc.: 62.50%] [G loss: 0.709742, acc.: 0.34%]\n",
            "epoch 6900 [D loss: 0.687099, acc.: 56.25%] [G loss: 0.706537, acc.: 0.31%]\n",
            "WARNING:tensorflow:Compiled the loaded model, but the compiled metrics have yet to be built. `model.compile_metrics` will be empty until you train or evaluate the model.\n",
            "epoch 6950 [D loss: 0.689393, acc.: 56.25%] [G loss: 0.689088, acc.: 0.47%]\n",
            "WARNING:tensorflow:Compiled the loaded model, but the compiled metrics have yet to be built. `model.compile_metrics` will be empty until you train or evaluate the model.\n"
          ],
          "name": "stdout"
        }
      ]
    },
    {
      "cell_type": "code",
      "metadata": {
        "colab": {
          "base_uri": "https://localhost:8080/",
          "height": 294
        },
        "id": "GgtYDmOSi38X",
        "outputId": "3a1efdd7-9218-4604-8af2-36f43ee30cb7"
      },
      "source": [
        "# when to stop: once “good enough” images can be generated, \n",
        "# the subjective quality of the images may then begin to vary, improve, or even degrade with subsequent updates.\n",
        "from typing import List\n",
        "\n",
        "def plot_metric_general(graphs: List[np.ndarray], labels: List[str]) -> None:\n",
        "    import matplotlib.pyplot as plt\n",
        "    epochs = range(1, graphs[0].shape[0] + 1)\n",
        "    plt.xlabel(\"Iterations\")\n",
        "    plt.title('Gan')\n",
        "    for i in range(len(labels)):\n",
        "        plt.plot(epochs, graphs[i])\n",
        "    plt.legend(labels)\n",
        "    plt.show()\n",
        "\n",
        "def moving_average(x, w):\n",
        "    return np.convolve(x, np.ones(w), 'valid') / w\n",
        "  \n",
        "d_losses_smooth, d_fake_accuracies_smooth, d_real_accuracies_smooth = moving_average(d_losses.reshape((epochs)), 9), moving_average(d_fake_accuracies.reshape((epochs)), 9), moving_average(d_real_accuracies.reshape((epochs)), 9)\n",
        "\n",
        "plot_metric_general([d_losses_smooth, d_fake_accuracies_smooth, d_real_accuracies_smooth], ['d_losses_smooth', 'd_fake_accuracies_smooth', 'd_real_accuracies_smooth'])\n",
        "# we can see aroud 800 epochs d_fake_accuracies=d_real_accuracies=0.5 and after that it degragates "
      ],
      "execution_count": 77,
      "outputs": [
        {
          "output_type": "display_data",
          "data": {
            "image/png": "[encoded data removed]",
            "text/plain": [
              "<Figure size 432x288 with 1 Axes>"
            ]
          },
          "metadata": {
            "tags": [],
            "needs_background": "light"
          }
        }
      ]
    },
    {
      "cell_type": "code",
      "metadata": {
        "colab": {
          "base_uri": "https://localhost:8080/",
          "height": 294
        },
        "id": "cG99IS2rAara",
        "outputId": "64721749-b339-4ada-c466-f40329b77a1f"
      },
      "source": [
        "d_losses_smooth, d_fake_accuracies_smooth, d_real_accuracies_smooth = moving_average(d_losses.reshape((epochs)), 5), moving_average(d_fake_accuracies.reshape((epochs)), 5), moving_average(d_real_accuracies.reshape((epochs)), 5)\n",
        "plot_metric_general([d_losses_smooth[:2000], d_fake_accuracies_smooth[:2000], d_real_accuracies_smooth[:2000]], ['d_losses_smooth', 'd_fake_accuracies_smooth', 'd_real_accuracies_smooth'])\n",
        "# we can see aroud 800 iteration d_fake_accuracies=d_real_accuracies=0.5 and after that they wobbles one against the other"
      ],
      "execution_count": 86,
      "outputs": [
        {
          "output_type": "display_data",
          "data": {
            "image/png": "[encoded data removed]",
            "text/plain": [
              "<Figure size 432x288 with 1 Axes>"
            ]
          },
          "metadata": {
            "tags": [],
            "needs_background": "light"
          }
        }
      ]
    },
    {
      "cell_type": "code",
      "metadata": {
        "id": "rZD58LobV8L0"
      },
      "source": [
        "# import matplotlib.pyplot as plt\n",
        "# def show_plot(arr):\n",
        "#   x = range(arr.shape[0])\n",
        "#   plt.plot(x, arr)"
      ],
      "execution_count": 79,
      "outputs": []
    },
    {
      "cell_type": "code",
      "metadata": {
        "id": "vXiZVB6zZPGW",
        "colab": {
          "base_uri": "https://localhost:8080/",
          "height": 294
        },
        "outputId": "ac704d5b-d492-46f7-c8a2-7df66c9f83ec"
      },
      "source": [
        "g_losses_smooth, d_losses_smooth = moving_average(g_losses.reshape((epochs)), 3), moving_average(d_losses.reshape((epochs)), 3)\n",
        "# graph describing the loss of the generator and the discriminator\n",
        "# models go “back and forth” with their losses, there was no a consistent leader\n",
        "plot_metric_general([g_losses_smooth, d_losses_smooth], ['g_losses', 'd_losses'])"
      ],
      "execution_count": 80,
      "outputs": [
        {
          "output_type": "display_data",
          "data": {
            "image/png": "[encoded data removed]",
            "text/plain": [
              "<Figure size 432x288 with 1 Axes>"
            ]
          },
          "metadata": {
            "tags": [],
            "needs_background": "light"
          }
        }
      ]
    },
    {
      "cell_type": "code",
      "metadata": {
        "id": "ItVAaN_UYd47"
      },
      "source": [
        "# show_plot(d_accuracies)"
      ],
      "execution_count": 81,
      "outputs": []
    },
    {
      "cell_type": "code",
      "metadata": {
        "id": "z9lcb38pB5lk"
      },
      "source": [
        "# show_plot(g_accuracies)\n"
      ],
      "execution_count": 82,
      "outputs": []
    },
    {
      "cell_type": "code",
      "metadata": {
        "id": "iC6QsE9ZZm65"
      },
      "source": [
        "# X_train = diab_df.values\n",
        "# y_real = np.ones((X_train.shape[0], 1))\n",
        "\n",
        "# # evaluation experiment on diabetes\n",
        "# print ('real evaluation experiment on all data set')\n",
        "# _, acc_real = gan.discriminator.evaluate(X_train, y_real, verbose=1)\n",
        "# y_fake = np.zeros((100, 1))\n",
        "# noise = np.random.uniform(-1, 1, size=(100, gan.latent_dim))\n",
        "# x_fake =gan.generator.predict(noise)\n",
        "# print ('fake evaluation experiment on 100 samples')\n",
        "# _, acc_facke = gan.discriminator.evaluate(x_fake, y_fake, verbose=1)"
      ],
      "execution_count": 83,
      "outputs": []
    },
    {
      "cell_type": "markdown",
      "metadata": {
        "id": "5ETSUwhkeF3b"
      },
      "source": [
        "# Evaluate goodness of generated samples \n",
        "how to Use basic measures (e.g., Euclidean distance, basic visualization) determine whether the samples that fooled the detector are indeed similar to some of the original data\n",
        "\n",
        "1- we can calculate the Gausian distribution of each column and check how close it is to real sample distribution"
      ]
    },
    {
      "cell_type": "code",
      "metadata": {
        "id": "ANqco-I_pj4d"
      },
      "source": [
        "# gan.generator.save('generator_model_5000.h5')"
      ],
      "execution_count": 84,
      "outputs": []
    },
    {
      "cell_type": "code",
      "metadata": {
        "colab": {
          "base_uri": "https://localhost:8080/"
        },
        "id": "BgSoIHeSmxyf",
        "outputId": "305f6a1c-e0d9-4c03-c84f-1ebfe70eb374"
      },
      "source": [
        "# we can check for models checkpoints produced good generative samples\n",
        "loaded_generator = tf.keras.models.load_model('diab_g_model_3900.00_0.71_0.01_0.42_0.12.h5')\n",
        "noise = np.random.uniform(-1, 1, size=(100, gan.latent_dim))\n",
        "x_fake = loaded_generator.predict(noise)\n",
        "y_fake = np.zeros((100, 1))\n",
        "# print('x_fake \\n', x_fake)\n",
        "print ('fake loaded_generator evaluation experiment on 100 samples')\n",
        "_, acc_facke = gan.discriminator.evaluate(x_fake, y_fake, verbose=1)\n"
      ],
      "execution_count": 96,
      "outputs": [
        {
          "output_type": "stream",
          "text": [
            "WARNING:tensorflow:No training configuration found in the save file, so the model was *not* compiled. Compile it manually.\n",
            "fake loaded_generator evaluation experiment on 100 samples\n",
            "4/4 [==============================] - 0s 3ms/step - loss: 0.6951 - accuracy: 0.4800\n"
          ],
          "name": "stdout"
        }
      ]
    },
    {
      "cell_type": "code",
      "metadata": {
        "id": "_17W8OFEiqJk"
      },
      "source": [
        "y_pred_fake = 0\n",
        "iter1 = 0\n",
        "while y_pred_fake < 0.5 and iter1 < 100:\n",
        "  noise = np.random.uniform(-1, 1, size=(1, gan.latent_dim))\n",
        "  x_fake =loaded_generator(noise)\n",
        "  y_pred_fake = gan.discriminator.predict(x_fake)[0][0]\n",
        "  iter1 += 1\n",
        "\n",
        "y_pred_true = 1\n",
        "iter2 = 0\n",
        "while y_pred_true > 0.5 and iter2 < 100:\n",
        "  noise = np.random.uniform(-1, 1, size=(1, gan.latent_dim))\n",
        "  x_real =loaded_generator(noise)\n",
        "  y_pred_true = gan.discriminator.predict(x_real)[0][0]\n",
        "  iter2 += 1"
      ],
      "execution_count": 101,
      "outputs": []
    },
    {
      "cell_type": "code",
      "metadata": {
        "colab": {
          "base_uri": "https://localhost:8080/",
          "height": 335
        },
        "id": "09CcFgIkWYiz",
        "outputId": "35226dc7-e587-46b8-ecd0-94d23bb88576"
      },
      "source": [
        "import matplotlib.pyplot as plt\n",
        "import tensorflow.python.ops.numpy_ops.np_config as np_config\n",
        "np_config.enable_numpy_behavior()\n",
        "\n",
        "for col in diab_df:\n",
        "  xs = [col for x in range(diab_df.shape[0])]\n",
        "  ys = list(diab_df[col])\n",
        "  plt.scatter(xs, ys, alpha=0.01)\n",
        "  plt.plot(col, np.mean(ys) ,'s', c='black', alpha=1, label='_nolegend_')\n",
        "\n",
        "xs = [x for x in diab_df]\n",
        "ys = x_fake\n",
        "plt.plot(xs, ys.tolist()[0], 'b-')\n",
        "\n",
        "ys = x_real\n",
        "plt.plot(xs, ys.tolist()[0], 'r--')\n",
        "\n",
        "plt.legend([\"predicted fake\", \"predicted real\"], loc =\"upper right\")\n",
        "plt.rcParams['figure.figsize'] = [15, 5]\n",
        "plt.grid(True)\n",
        "plt.xticks(rotation=90);"
      ],
      "execution_count": 102,
      "outputs": [
        {
          "output_type": "display_data",
          "data": {
            "image/png": "[encoded data removed]",
            "text/plain": [
              "<Figure size 1080x360 with 1 Axes>"
            ]
          },
          "metadata": {
            "tags": [],
            "needs_background": "light"
          }
        }
      ]
    },
    {
      "cell_type": "code",
      "metadata": {
        "colab": {
          "base_uri": "https://localhost:8080/"
        },
        "id": "lnYMzbHAUPyd",
        "outputId": "97f6c5f4-13d4-4e64-f8bd-7c7454a4e7fe"
      },
      "source": [
        "# L1 - fake sample\n",
        "sum(abs(diab_df.describe().loc['mean']-np.transpose(x_fake.numpy()).flatten()))"
      ],
      "execution_count": 103,
      "outputs": [
        {
          "output_type": "execute_result",
          "data": {
            "text/plain": [
              "1.9699179921407586"
            ]
          },
          "metadata": {
            "tags": []
          },
          "execution_count": 103
        }
      ]
    },
    {
      "cell_type": "code",
      "metadata": {
        "colab": {
          "base_uri": "https://localhost:8080/"
        },
        "id": "qsl8J9OsB6ka",
        "outputId": "7f380e86-03e9-4406-f1a0-2b9759068367"
      },
      "source": [
        "# L1 - real sample\n",
        "sum(abs(diab_df.describe().loc['mean']-np.transpose(x_real.numpy()).flatten()))"
      ],
      "execution_count": 104,
      "outputs": [
        {
          "output_type": "execute_result",
          "data": {
            "text/plain": [
              "1.4536685583771805"
            ]
          },
          "metadata": {
            "tags": []
          },
          "execution_count": 104
        }
      ]
    },
    {
      "cell_type": "code",
      "metadata": {
        "colab": {
          "base_uri": "https://localhost:8080/"
        },
        "id": "4gG8SbGorbne",
        "outputId": "19db5201-9725-46ca-e163-d7e5b5d13d15"
      },
      "source": [
        "# Euclidian distance - fake sample\n",
        "from scipy.spatial.distance import euclidean\n",
        "euclidean(diab_df.describe().loc['mean'], np.transpose(x_fake.numpy()).flatten())"
      ],
      "execution_count": 105,
      "outputs": [
        {
          "output_type": "execute_result",
          "data": {
            "text/plain": [
              "1.0569468921033731"
            ]
          },
          "metadata": {
            "tags": []
          },
          "execution_count": 105
        }
      ]
    },
    {
      "cell_type": "code",
      "metadata": {
        "colab": {
          "base_uri": "https://localhost:8080/"
        },
        "id": "cTV_WEtDB965",
        "outputId": "9d477a3e-72be-4ae8-d659-63e63a7ce1bb"
      },
      "source": [
        "# Euclidian distance - real sample\n",
        "euclidean(diab_df.describe().loc['mean'], np.transpose(x_real.numpy()).flatten())"
      ],
      "execution_count": 106,
      "outputs": [
        {
          "output_type": "execute_result",
          "data": {
            "text/plain": [
              "0.5937155922055837"
            ]
          },
          "metadata": {
            "tags": []
          },
          "execution_count": 106
        }
      ]
    }
  ]
}