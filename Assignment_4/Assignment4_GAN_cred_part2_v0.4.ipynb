{
  "nbformat": 4,
  "nbformat_minor": 0,
  "metadata": {
    "colab": {
      "name": "Assignment4_GAN_cred_part2_v0.4.ipynb",
      "provenance": [],
      "collapsed_sections": []
    },
    "kernelspec": {
      "name": "python3",
      "display_name": "Python 3"
    },
    "language_info": {
      "name": "python"
    }
  },
  "cells": [
    {
      "cell_type": "code",
      "metadata": {
        "id": "4kmcxRzCD1nh"
      },
      "source": [
        "import pandas as pd\n",
        "import numpy as np\n",
        "from scipy.io import arff\n",
        "import tensorflow as tf\n",
        "from tensorflow.keras import layers, backend \n",
        "from sklearn.ensemble import RandomForestClassifier\n",
        "from sklearn.metrics import confusion_matrix\n",
        "from sklearn.metrics import classification_report\n",
        "from sklearn.model_selection import GridSearchCV\n",
        "from keras.models import Sequential, Model\n",
        "from keras.layers import Dense, Dropout, Input, concatenate, BatchNormalization, LeakyReLU, Flatten\n",
        "import joblib\n",
        "\n",
        "import time\n",
        "from typing import Tuple, List\n",
        "from sklearn.preprocessing import OneHotEncoder, MinMaxScaler"
      ],
      "execution_count": 15,
      "outputs": []
    },
    {
      "cell_type": "code",
      "metadata": {
        "colab": {
          "base_uri": "https://localhost:8080/"
        },
        "id": "cicvn2rxESII",
        "outputId": "9c19c4de-5122-4f57-a235-1b7da0838129"
      },
      "source": [
        "import seaborn as sns\n",
        "sns.set_theme()\n",
        "\n",
        "from google.colab import drive \n",
        "drive.mount('/content/gdrive')"
      ],
      "execution_count": 16,
      "outputs": [
        {
          "output_type": "stream",
          "text": [
            "Drive already mounted at /content/gdrive; to attempt to forcibly remount, call drive.mount(\"/content/gdrive\", force_remount=True).\n"
          ],
          "name": "stdout"
        }
      ]
    },
    {
      "cell_type": "code",
      "metadata": {
        "id": "-jKiT0ibayGO"
      },
      "source": [
        "def split_df_to_train_val(df, ratio):\n",
        "    mask = np.random.rand(len(df)) < ratio\n",
        "    df_train = df[mask]\n",
        "    df_val = df[~mask]\n",
        "    return df_train, df_val"
      ],
      "execution_count": 17,
      "outputs": []
    },
    {
      "cell_type": "code",
      "metadata": {
        "id": "bOGIpDPoElpj"
      },
      "source": [
        "def load_data() -> pd.DataFrame:\n",
        "    diab_arf = arff.loadarff('gdrive/MyDrive/DL/Assignment_4/german_credit.arff')\n",
        "    diab_df = pd.DataFrame(diab_arf[0])\n",
        "    return diab_df\n",
        "    \n",
        "def prepare():\n",
        "    cred_df = load_data()\n",
        "    # y = cred_df.pop('21')\n",
        "    # print(cred_df.describe())\n",
        "    cat_labels = ['1', '3', '4', '6', '7', '9', '10', '12', '14', '15', '17', '19', '20']\n",
        "    # One hot encoding\n",
        "    df = pd.get_dummies(cred_df, columns=cat_labels)\n",
        "    df = df.astype('float')\n",
        "    # numeric scaling\n",
        "    scale = MinMaxScaler(feature_range=(-1, 1))\n",
        "    scaled_values = scale.fit_transform(df)\n",
        "    df.loc[:, :] = scaled_values\n",
        "\n",
        "    return df"
      ],
      "execution_count": 18,
      "outputs": []
    },
    {
      "cell_type": "code",
      "metadata": {
        "colab": {
          "base_uri": "https://localhost:8080/",
          "height": 224
        },
        "id": "vug2wKS6aK2r",
        "outputId": "ebe9270c-3b22-4aa1-903f-d84d3583314d"
      },
      "source": [
        "df_credit = prepare()\n",
        "df_credit.head()"
      ],
      "execution_count": 19,
      "outputs": [
        {
          "output_type": "execute_result",
          "data": {
            "text/html": [
              "<div>\n",
              "<style scoped>\n",
              "    .dataframe tbody tr th:only-of-type {\n",
              "        vertical-align: middle;\n",
              "    }\n",
              "\n",
              "    .dataframe tbody tr th {\n",
              "        vertical-align: top;\n",
              "    }\n",
              "\n",
              "    .dataframe thead th {\n",
              "        text-align: right;\n",
              "    }\n",
              "</style>\n",
              "<table border=\"1\" class=\"dataframe\">\n",
              "  <thead>\n",
              "    <tr style=\"text-align: right;\">\n",
              "      <th></th>\n",
              "      <th>2</th>\n",
              "      <th>5</th>\n",
              "      <th>8</th>\n",
              "      <th>11</th>\n",
              "      <th>13</th>\n",
              "      <th>16</th>\n",
              "      <th>18</th>\n",
              "      <th>21</th>\n",
              "      <th>1_b'A11'</th>\n",
              "      <th>1_b'A12'</th>\n",
              "      <th>1_b'A13'</th>\n",
              "      <th>1_b'A14'</th>\n",
              "      <th>3_b'A30'</th>\n",
              "      <th>3_b'A31'</th>\n",
              "      <th>3_b'A32'</th>\n",
              "      <th>3_b'A33'</th>\n",
              "      <th>3_b'A34'</th>\n",
              "      <th>4_b'A40'</th>\n",
              "      <th>4_b'A41'</th>\n",
              "      <th>4_b'A410'</th>\n",
              "      <th>4_b'A42'</th>\n",
              "      <th>4_b'A43'</th>\n",
              "      <th>4_b'A44'</th>\n",
              "      <th>4_b'A45'</th>\n",
              "      <th>4_b'A46'</th>\n",
              "      <th>4_b'A48'</th>\n",
              "      <th>4_b'A49'</th>\n",
              "      <th>6_b'A61'</th>\n",
              "      <th>6_b'A62'</th>\n",
              "      <th>6_b'A63'</th>\n",
              "      <th>6_b'A64'</th>\n",
              "      <th>6_b'A65'</th>\n",
              "      <th>7_b'A71'</th>\n",
              "      <th>7_b'A72'</th>\n",
              "      <th>7_b'A73'</th>\n",
              "      <th>7_b'A74'</th>\n",
              "      <th>7_b'A75'</th>\n",
              "      <th>9_b'A91'</th>\n",
              "      <th>9_b'A92'</th>\n",
              "      <th>9_b'A93'</th>\n",
              "      <th>9_b'A94'</th>\n",
              "      <th>10_b'A101'</th>\n",
              "      <th>10_b'A102'</th>\n",
              "      <th>10_b'A103'</th>\n",
              "      <th>12_b'A121'</th>\n",
              "      <th>12_b'A122'</th>\n",
              "      <th>12_b'A123'</th>\n",
              "      <th>12_b'A124'</th>\n",
              "      <th>14_b'A141'</th>\n",
              "      <th>14_b'A142'</th>\n",
              "      <th>14_b'A143'</th>\n",
              "      <th>15_b'A151'</th>\n",
              "      <th>15_b'A152'</th>\n",
              "      <th>15_b'A153'</th>\n",
              "      <th>17_b'A171'</th>\n",
              "      <th>17_b'A172'</th>\n",
              "      <th>17_b'A173'</th>\n",
              "      <th>17_b'A174'</th>\n",
              "      <th>19_b'A191'</th>\n",
              "      <th>19_b'A192'</th>\n",
              "      <th>20_b'A201'</th>\n",
              "      <th>20_b'A202'</th>\n",
              "    </tr>\n",
              "  </thead>\n",
              "  <tbody>\n",
              "    <tr>\n",
              "      <th>0</th>\n",
              "      <td>-0.941176</td>\n",
              "      <td>-0.898867</td>\n",
              "      <td>1.000000</td>\n",
              "      <td>1.000000</td>\n",
              "      <td>0.714286</td>\n",
              "      <td>-0.333333</td>\n",
              "      <td>-1.0</td>\n",
              "      <td>-1.0</td>\n",
              "      <td>1.0</td>\n",
              "      <td>-1.0</td>\n",
              "      <td>-1.0</td>\n",
              "      <td>-1.0</td>\n",
              "      <td>-1.0</td>\n",
              "      <td>-1.0</td>\n",
              "      <td>-1.0</td>\n",
              "      <td>-1.0</td>\n",
              "      <td>1.0</td>\n",
              "      <td>-1.0</td>\n",
              "      <td>-1.0</td>\n",
              "      <td>-1.0</td>\n",
              "      <td>-1.0</td>\n",
              "      <td>1.0</td>\n",
              "      <td>-1.0</td>\n",
              "      <td>-1.0</td>\n",
              "      <td>-1.0</td>\n",
              "      <td>-1.0</td>\n",
              "      <td>-1.0</td>\n",
              "      <td>-1.0</td>\n",
              "      <td>-1.0</td>\n",
              "      <td>-1.0</td>\n",
              "      <td>-1.0</td>\n",
              "      <td>1.0</td>\n",
              "      <td>-1.0</td>\n",
              "      <td>-1.0</td>\n",
              "      <td>-1.0</td>\n",
              "      <td>-1.0</td>\n",
              "      <td>1.0</td>\n",
              "      <td>-1.0</td>\n",
              "      <td>-1.0</td>\n",
              "      <td>1.0</td>\n",
              "      <td>-1.0</td>\n",
              "      <td>1.0</td>\n",
              "      <td>-1.0</td>\n",
              "      <td>-1.0</td>\n",
              "      <td>1.0</td>\n",
              "      <td>-1.0</td>\n",
              "      <td>-1.0</td>\n",
              "      <td>-1.0</td>\n",
              "      <td>-1.0</td>\n",
              "      <td>-1.0</td>\n",
              "      <td>1.0</td>\n",
              "      <td>-1.0</td>\n",
              "      <td>1.0</td>\n",
              "      <td>-1.0</td>\n",
              "      <td>-1.0</td>\n",
              "      <td>-1.0</td>\n",
              "      <td>1.0</td>\n",
              "      <td>-1.0</td>\n",
              "      <td>-1.0</td>\n",
              "      <td>1.0</td>\n",
              "      <td>1.0</td>\n",
              "      <td>-1.0</td>\n",
              "    </tr>\n",
              "    <tr>\n",
              "      <th>1</th>\n",
              "      <td>0.294118</td>\n",
              "      <td>-0.372620</td>\n",
              "      <td>-0.333333</td>\n",
              "      <td>-0.333333</td>\n",
              "      <td>-0.892857</td>\n",
              "      <td>-1.000000</td>\n",
              "      <td>-1.0</td>\n",
              "      <td>1.0</td>\n",
              "      <td>-1.0</td>\n",
              "      <td>1.0</td>\n",
              "      <td>-1.0</td>\n",
              "      <td>-1.0</td>\n",
              "      <td>-1.0</td>\n",
              "      <td>-1.0</td>\n",
              "      <td>1.0</td>\n",
              "      <td>-1.0</td>\n",
              "      <td>-1.0</td>\n",
              "      <td>-1.0</td>\n",
              "      <td>-1.0</td>\n",
              "      <td>-1.0</td>\n",
              "      <td>-1.0</td>\n",
              "      <td>1.0</td>\n",
              "      <td>-1.0</td>\n",
              "      <td>-1.0</td>\n",
              "      <td>-1.0</td>\n",
              "      <td>-1.0</td>\n",
              "      <td>-1.0</td>\n",
              "      <td>1.0</td>\n",
              "      <td>-1.0</td>\n",
              "      <td>-1.0</td>\n",
              "      <td>-1.0</td>\n",
              "      <td>-1.0</td>\n",
              "      <td>-1.0</td>\n",
              "      <td>-1.0</td>\n",
              "      <td>1.0</td>\n",
              "      <td>-1.0</td>\n",
              "      <td>-1.0</td>\n",
              "      <td>-1.0</td>\n",
              "      <td>1.0</td>\n",
              "      <td>-1.0</td>\n",
              "      <td>-1.0</td>\n",
              "      <td>1.0</td>\n",
              "      <td>-1.0</td>\n",
              "      <td>-1.0</td>\n",
              "      <td>1.0</td>\n",
              "      <td>-1.0</td>\n",
              "      <td>-1.0</td>\n",
              "      <td>-1.0</td>\n",
              "      <td>-1.0</td>\n",
              "      <td>-1.0</td>\n",
              "      <td>1.0</td>\n",
              "      <td>-1.0</td>\n",
              "      <td>1.0</td>\n",
              "      <td>-1.0</td>\n",
              "      <td>-1.0</td>\n",
              "      <td>-1.0</td>\n",
              "      <td>1.0</td>\n",
              "      <td>-1.0</td>\n",
              "      <td>1.0</td>\n",
              "      <td>-1.0</td>\n",
              "      <td>1.0</td>\n",
              "      <td>-1.0</td>\n",
              "    </tr>\n",
              "    <tr>\n",
              "      <th>2</th>\n",
              "      <td>-0.764706</td>\n",
              "      <td>-0.796853</td>\n",
              "      <td>-0.333333</td>\n",
              "      <td>0.333333</td>\n",
              "      <td>0.071429</td>\n",
              "      <td>-1.000000</td>\n",
              "      <td>1.0</td>\n",
              "      <td>-1.0</td>\n",
              "      <td>-1.0</td>\n",
              "      <td>-1.0</td>\n",
              "      <td>-1.0</td>\n",
              "      <td>1.0</td>\n",
              "      <td>-1.0</td>\n",
              "      <td>-1.0</td>\n",
              "      <td>-1.0</td>\n",
              "      <td>-1.0</td>\n",
              "      <td>1.0</td>\n",
              "      <td>-1.0</td>\n",
              "      <td>-1.0</td>\n",
              "      <td>-1.0</td>\n",
              "      <td>-1.0</td>\n",
              "      <td>-1.0</td>\n",
              "      <td>-1.0</td>\n",
              "      <td>-1.0</td>\n",
              "      <td>1.0</td>\n",
              "      <td>-1.0</td>\n",
              "      <td>-1.0</td>\n",
              "      <td>1.0</td>\n",
              "      <td>-1.0</td>\n",
              "      <td>-1.0</td>\n",
              "      <td>-1.0</td>\n",
              "      <td>-1.0</td>\n",
              "      <td>-1.0</td>\n",
              "      <td>-1.0</td>\n",
              "      <td>-1.0</td>\n",
              "      <td>1.0</td>\n",
              "      <td>-1.0</td>\n",
              "      <td>-1.0</td>\n",
              "      <td>-1.0</td>\n",
              "      <td>1.0</td>\n",
              "      <td>-1.0</td>\n",
              "      <td>1.0</td>\n",
              "      <td>-1.0</td>\n",
              "      <td>-1.0</td>\n",
              "      <td>1.0</td>\n",
              "      <td>-1.0</td>\n",
              "      <td>-1.0</td>\n",
              "      <td>-1.0</td>\n",
              "      <td>-1.0</td>\n",
              "      <td>-1.0</td>\n",
              "      <td>1.0</td>\n",
              "      <td>-1.0</td>\n",
              "      <td>1.0</td>\n",
              "      <td>-1.0</td>\n",
              "      <td>-1.0</td>\n",
              "      <td>1.0</td>\n",
              "      <td>-1.0</td>\n",
              "      <td>-1.0</td>\n",
              "      <td>1.0</td>\n",
              "      <td>-1.0</td>\n",
              "      <td>1.0</td>\n",
              "      <td>-1.0</td>\n",
              "    </tr>\n",
              "    <tr>\n",
              "      <th>3</th>\n",
              "      <td>0.117647</td>\n",
              "      <td>-0.160119</td>\n",
              "      <td>-0.333333</td>\n",
              "      <td>1.000000</td>\n",
              "      <td>-0.071429</td>\n",
              "      <td>-1.000000</td>\n",
              "      <td>1.0</td>\n",
              "      <td>-1.0</td>\n",
              "      <td>1.0</td>\n",
              "      <td>-1.0</td>\n",
              "      <td>-1.0</td>\n",
              "      <td>-1.0</td>\n",
              "      <td>-1.0</td>\n",
              "      <td>-1.0</td>\n",
              "      <td>1.0</td>\n",
              "      <td>-1.0</td>\n",
              "      <td>-1.0</td>\n",
              "      <td>-1.0</td>\n",
              "      <td>-1.0</td>\n",
              "      <td>-1.0</td>\n",
              "      <td>1.0</td>\n",
              "      <td>-1.0</td>\n",
              "      <td>-1.0</td>\n",
              "      <td>-1.0</td>\n",
              "      <td>-1.0</td>\n",
              "      <td>-1.0</td>\n",
              "      <td>-1.0</td>\n",
              "      <td>1.0</td>\n",
              "      <td>-1.0</td>\n",
              "      <td>-1.0</td>\n",
              "      <td>-1.0</td>\n",
              "      <td>-1.0</td>\n",
              "      <td>-1.0</td>\n",
              "      <td>-1.0</td>\n",
              "      <td>-1.0</td>\n",
              "      <td>1.0</td>\n",
              "      <td>-1.0</td>\n",
              "      <td>-1.0</td>\n",
              "      <td>-1.0</td>\n",
              "      <td>1.0</td>\n",
              "      <td>-1.0</td>\n",
              "      <td>-1.0</td>\n",
              "      <td>-1.0</td>\n",
              "      <td>1.0</td>\n",
              "      <td>-1.0</td>\n",
              "      <td>1.0</td>\n",
              "      <td>-1.0</td>\n",
              "      <td>-1.0</td>\n",
              "      <td>-1.0</td>\n",
              "      <td>-1.0</td>\n",
              "      <td>1.0</td>\n",
              "      <td>-1.0</td>\n",
              "      <td>-1.0</td>\n",
              "      <td>1.0</td>\n",
              "      <td>-1.0</td>\n",
              "      <td>-1.0</td>\n",
              "      <td>1.0</td>\n",
              "      <td>-1.0</td>\n",
              "      <td>1.0</td>\n",
              "      <td>-1.0</td>\n",
              "      <td>1.0</td>\n",
              "      <td>-1.0</td>\n",
              "    </tr>\n",
              "    <tr>\n",
              "      <th>4</th>\n",
              "      <td>-0.411765</td>\n",
              "      <td>-0.491581</td>\n",
              "      <td>0.333333</td>\n",
              "      <td>1.000000</td>\n",
              "      <td>0.214286</td>\n",
              "      <td>-0.333333</td>\n",
              "      <td>1.0</td>\n",
              "      <td>1.0</td>\n",
              "      <td>1.0</td>\n",
              "      <td>-1.0</td>\n",
              "      <td>-1.0</td>\n",
              "      <td>-1.0</td>\n",
              "      <td>-1.0</td>\n",
              "      <td>-1.0</td>\n",
              "      <td>-1.0</td>\n",
              "      <td>1.0</td>\n",
              "      <td>-1.0</td>\n",
              "      <td>1.0</td>\n",
              "      <td>-1.0</td>\n",
              "      <td>-1.0</td>\n",
              "      <td>-1.0</td>\n",
              "      <td>-1.0</td>\n",
              "      <td>-1.0</td>\n",
              "      <td>-1.0</td>\n",
              "      <td>-1.0</td>\n",
              "      <td>-1.0</td>\n",
              "      <td>-1.0</td>\n",
              "      <td>1.0</td>\n",
              "      <td>-1.0</td>\n",
              "      <td>-1.0</td>\n",
              "      <td>-1.0</td>\n",
              "      <td>-1.0</td>\n",
              "      <td>-1.0</td>\n",
              "      <td>-1.0</td>\n",
              "      <td>1.0</td>\n",
              "      <td>-1.0</td>\n",
              "      <td>-1.0</td>\n",
              "      <td>-1.0</td>\n",
              "      <td>-1.0</td>\n",
              "      <td>1.0</td>\n",
              "      <td>-1.0</td>\n",
              "      <td>1.0</td>\n",
              "      <td>-1.0</td>\n",
              "      <td>-1.0</td>\n",
              "      <td>-1.0</td>\n",
              "      <td>-1.0</td>\n",
              "      <td>-1.0</td>\n",
              "      <td>1.0</td>\n",
              "      <td>-1.0</td>\n",
              "      <td>-1.0</td>\n",
              "      <td>1.0</td>\n",
              "      <td>-1.0</td>\n",
              "      <td>-1.0</td>\n",
              "      <td>1.0</td>\n",
              "      <td>-1.0</td>\n",
              "      <td>-1.0</td>\n",
              "      <td>1.0</td>\n",
              "      <td>-1.0</td>\n",
              "      <td>1.0</td>\n",
              "      <td>-1.0</td>\n",
              "      <td>1.0</td>\n",
              "      <td>-1.0</td>\n",
              "    </tr>\n",
              "  </tbody>\n",
              "</table>\n",
              "</div>"
            ],
            "text/plain": [
              "          2         5         8  ...  19_b'A192'  20_b'A201'  20_b'A202'\n",
              "0 -0.941176 -0.898867  1.000000  ...         1.0         1.0        -1.0\n",
              "1  0.294118 -0.372620 -0.333333  ...        -1.0         1.0        -1.0\n",
              "2 -0.764706 -0.796853 -0.333333  ...        -1.0         1.0        -1.0\n",
              "3  0.117647 -0.160119 -0.333333  ...        -1.0         1.0        -1.0\n",
              "4 -0.411765 -0.491581  0.333333  ...        -1.0         1.0        -1.0\n",
              "\n",
              "[5 rows x 62 columns]"
            ]
          },
          "metadata": {
            "tags": []
          },
          "execution_count": 19
        }
      ]
    },
    {
      "cell_type": "code",
      "metadata": {
        "colab": {
          "base_uri": "https://localhost:8080/",
          "height": 224
        },
        "id": "-Du89EeNWrKZ",
        "outputId": "bfd1fdbf-f0a4-4525-8715-f24968ebe77a"
      },
      "source": [
        "df_train, df_test = split_df_to_train_val(df_credit, 0.7)\n",
        "y_train = df_train.pop('21')\n",
        "y_test = df_test.pop('21')\n",
        "\n",
        "df_train.head()"
      ],
      "execution_count": 20,
      "outputs": [
        {
          "output_type": "execute_result",
          "data": {
            "text/html": [
              "<div>\n",
              "<style scoped>\n",
              "    .dataframe tbody tr th:only-of-type {\n",
              "        vertical-align: middle;\n",
              "    }\n",
              "\n",
              "    .dataframe tbody tr th {\n",
              "        vertical-align: top;\n",
              "    }\n",
              "\n",
              "    .dataframe thead th {\n",
              "        text-align: right;\n",
              "    }\n",
              "</style>\n",
              "<table border=\"1\" class=\"dataframe\">\n",
              "  <thead>\n",
              "    <tr style=\"text-align: right;\">\n",
              "      <th></th>\n",
              "      <th>2</th>\n",
              "      <th>5</th>\n",
              "      <th>8</th>\n",
              "      <th>11</th>\n",
              "      <th>13</th>\n",
              "      <th>16</th>\n",
              "      <th>18</th>\n",
              "      <th>1_b'A11'</th>\n",
              "      <th>1_b'A12'</th>\n",
              "      <th>1_b'A13'</th>\n",
              "      <th>1_b'A14'</th>\n",
              "      <th>3_b'A30'</th>\n",
              "      <th>3_b'A31'</th>\n",
              "      <th>3_b'A32'</th>\n",
              "      <th>3_b'A33'</th>\n",
              "      <th>3_b'A34'</th>\n",
              "      <th>4_b'A40'</th>\n",
              "      <th>4_b'A41'</th>\n",
              "      <th>4_b'A410'</th>\n",
              "      <th>4_b'A42'</th>\n",
              "      <th>4_b'A43'</th>\n",
              "      <th>4_b'A44'</th>\n",
              "      <th>4_b'A45'</th>\n",
              "      <th>4_b'A46'</th>\n",
              "      <th>4_b'A48'</th>\n",
              "      <th>4_b'A49'</th>\n",
              "      <th>6_b'A61'</th>\n",
              "      <th>6_b'A62'</th>\n",
              "      <th>6_b'A63'</th>\n",
              "      <th>6_b'A64'</th>\n",
              "      <th>6_b'A65'</th>\n",
              "      <th>7_b'A71'</th>\n",
              "      <th>7_b'A72'</th>\n",
              "      <th>7_b'A73'</th>\n",
              "      <th>7_b'A74'</th>\n",
              "      <th>7_b'A75'</th>\n",
              "      <th>9_b'A91'</th>\n",
              "      <th>9_b'A92'</th>\n",
              "      <th>9_b'A93'</th>\n",
              "      <th>9_b'A94'</th>\n",
              "      <th>10_b'A101'</th>\n",
              "      <th>10_b'A102'</th>\n",
              "      <th>10_b'A103'</th>\n",
              "      <th>12_b'A121'</th>\n",
              "      <th>12_b'A122'</th>\n",
              "      <th>12_b'A123'</th>\n",
              "      <th>12_b'A124'</th>\n",
              "      <th>14_b'A141'</th>\n",
              "      <th>14_b'A142'</th>\n",
              "      <th>14_b'A143'</th>\n",
              "      <th>15_b'A151'</th>\n",
              "      <th>15_b'A152'</th>\n",
              "      <th>15_b'A153'</th>\n",
              "      <th>17_b'A171'</th>\n",
              "      <th>17_b'A172'</th>\n",
              "      <th>17_b'A173'</th>\n",
              "      <th>17_b'A174'</th>\n",
              "      <th>19_b'A191'</th>\n",
              "      <th>19_b'A192'</th>\n",
              "      <th>20_b'A201'</th>\n",
              "      <th>20_b'A202'</th>\n",
              "    </tr>\n",
              "  </thead>\n",
              "  <tbody>\n",
              "    <tr>\n",
              "      <th>0</th>\n",
              "      <td>-0.941176</td>\n",
              "      <td>-0.898867</td>\n",
              "      <td>1.000000</td>\n",
              "      <td>1.000000</td>\n",
              "      <td>0.714286</td>\n",
              "      <td>-0.333333</td>\n",
              "      <td>-1.0</td>\n",
              "      <td>1.0</td>\n",
              "      <td>-1.0</td>\n",
              "      <td>-1.0</td>\n",
              "      <td>-1.0</td>\n",
              "      <td>-1.0</td>\n",
              "      <td>-1.0</td>\n",
              "      <td>-1.0</td>\n",
              "      <td>-1.0</td>\n",
              "      <td>1.0</td>\n",
              "      <td>-1.0</td>\n",
              "      <td>-1.0</td>\n",
              "      <td>-1.0</td>\n",
              "      <td>-1.0</td>\n",
              "      <td>1.0</td>\n",
              "      <td>-1.0</td>\n",
              "      <td>-1.0</td>\n",
              "      <td>-1.0</td>\n",
              "      <td>-1.0</td>\n",
              "      <td>-1.0</td>\n",
              "      <td>-1.0</td>\n",
              "      <td>-1.0</td>\n",
              "      <td>-1.0</td>\n",
              "      <td>-1.0</td>\n",
              "      <td>1.0</td>\n",
              "      <td>-1.0</td>\n",
              "      <td>-1.0</td>\n",
              "      <td>-1.0</td>\n",
              "      <td>-1.0</td>\n",
              "      <td>1.0</td>\n",
              "      <td>-1.0</td>\n",
              "      <td>-1.0</td>\n",
              "      <td>1.0</td>\n",
              "      <td>-1.0</td>\n",
              "      <td>1.0</td>\n",
              "      <td>-1.0</td>\n",
              "      <td>-1.0</td>\n",
              "      <td>1.0</td>\n",
              "      <td>-1.0</td>\n",
              "      <td>-1.0</td>\n",
              "      <td>-1.0</td>\n",
              "      <td>-1.0</td>\n",
              "      <td>-1.0</td>\n",
              "      <td>1.0</td>\n",
              "      <td>-1.0</td>\n",
              "      <td>1.0</td>\n",
              "      <td>-1.0</td>\n",
              "      <td>-1.0</td>\n",
              "      <td>-1.0</td>\n",
              "      <td>1.0</td>\n",
              "      <td>-1.0</td>\n",
              "      <td>-1.0</td>\n",
              "      <td>1.0</td>\n",
              "      <td>1.0</td>\n",
              "      <td>-1.0</td>\n",
              "    </tr>\n",
              "    <tr>\n",
              "      <th>2</th>\n",
              "      <td>-0.764706</td>\n",
              "      <td>-0.796853</td>\n",
              "      <td>-0.333333</td>\n",
              "      <td>0.333333</td>\n",
              "      <td>0.071429</td>\n",
              "      <td>-1.000000</td>\n",
              "      <td>1.0</td>\n",
              "      <td>-1.0</td>\n",
              "      <td>-1.0</td>\n",
              "      <td>-1.0</td>\n",
              "      <td>1.0</td>\n",
              "      <td>-1.0</td>\n",
              "      <td>-1.0</td>\n",
              "      <td>-1.0</td>\n",
              "      <td>-1.0</td>\n",
              "      <td>1.0</td>\n",
              "      <td>-1.0</td>\n",
              "      <td>-1.0</td>\n",
              "      <td>-1.0</td>\n",
              "      <td>-1.0</td>\n",
              "      <td>-1.0</td>\n",
              "      <td>-1.0</td>\n",
              "      <td>-1.0</td>\n",
              "      <td>1.0</td>\n",
              "      <td>-1.0</td>\n",
              "      <td>-1.0</td>\n",
              "      <td>1.0</td>\n",
              "      <td>-1.0</td>\n",
              "      <td>-1.0</td>\n",
              "      <td>-1.0</td>\n",
              "      <td>-1.0</td>\n",
              "      <td>-1.0</td>\n",
              "      <td>-1.0</td>\n",
              "      <td>-1.0</td>\n",
              "      <td>1.0</td>\n",
              "      <td>-1.0</td>\n",
              "      <td>-1.0</td>\n",
              "      <td>-1.0</td>\n",
              "      <td>1.0</td>\n",
              "      <td>-1.0</td>\n",
              "      <td>1.0</td>\n",
              "      <td>-1.0</td>\n",
              "      <td>-1.0</td>\n",
              "      <td>1.0</td>\n",
              "      <td>-1.0</td>\n",
              "      <td>-1.0</td>\n",
              "      <td>-1.0</td>\n",
              "      <td>-1.0</td>\n",
              "      <td>-1.0</td>\n",
              "      <td>1.0</td>\n",
              "      <td>-1.0</td>\n",
              "      <td>1.0</td>\n",
              "      <td>-1.0</td>\n",
              "      <td>-1.0</td>\n",
              "      <td>1.0</td>\n",
              "      <td>-1.0</td>\n",
              "      <td>-1.0</td>\n",
              "      <td>1.0</td>\n",
              "      <td>-1.0</td>\n",
              "      <td>1.0</td>\n",
              "      <td>-1.0</td>\n",
              "    </tr>\n",
              "    <tr>\n",
              "      <th>3</th>\n",
              "      <td>0.117647</td>\n",
              "      <td>-0.160119</td>\n",
              "      <td>-0.333333</td>\n",
              "      <td>1.000000</td>\n",
              "      <td>-0.071429</td>\n",
              "      <td>-1.000000</td>\n",
              "      <td>1.0</td>\n",
              "      <td>1.0</td>\n",
              "      <td>-1.0</td>\n",
              "      <td>-1.0</td>\n",
              "      <td>-1.0</td>\n",
              "      <td>-1.0</td>\n",
              "      <td>-1.0</td>\n",
              "      <td>1.0</td>\n",
              "      <td>-1.0</td>\n",
              "      <td>-1.0</td>\n",
              "      <td>-1.0</td>\n",
              "      <td>-1.0</td>\n",
              "      <td>-1.0</td>\n",
              "      <td>1.0</td>\n",
              "      <td>-1.0</td>\n",
              "      <td>-1.0</td>\n",
              "      <td>-1.0</td>\n",
              "      <td>-1.0</td>\n",
              "      <td>-1.0</td>\n",
              "      <td>-1.0</td>\n",
              "      <td>1.0</td>\n",
              "      <td>-1.0</td>\n",
              "      <td>-1.0</td>\n",
              "      <td>-1.0</td>\n",
              "      <td>-1.0</td>\n",
              "      <td>-1.0</td>\n",
              "      <td>-1.0</td>\n",
              "      <td>-1.0</td>\n",
              "      <td>1.0</td>\n",
              "      <td>-1.0</td>\n",
              "      <td>-1.0</td>\n",
              "      <td>-1.0</td>\n",
              "      <td>1.0</td>\n",
              "      <td>-1.0</td>\n",
              "      <td>-1.0</td>\n",
              "      <td>-1.0</td>\n",
              "      <td>1.0</td>\n",
              "      <td>-1.0</td>\n",
              "      <td>1.0</td>\n",
              "      <td>-1.0</td>\n",
              "      <td>-1.0</td>\n",
              "      <td>-1.0</td>\n",
              "      <td>-1.0</td>\n",
              "      <td>1.0</td>\n",
              "      <td>-1.0</td>\n",
              "      <td>-1.0</td>\n",
              "      <td>1.0</td>\n",
              "      <td>-1.0</td>\n",
              "      <td>-1.0</td>\n",
              "      <td>1.0</td>\n",
              "      <td>-1.0</td>\n",
              "      <td>1.0</td>\n",
              "      <td>-1.0</td>\n",
              "      <td>1.0</td>\n",
              "      <td>-1.0</td>\n",
              "    </tr>\n",
              "    <tr>\n",
              "      <th>4</th>\n",
              "      <td>-0.411765</td>\n",
              "      <td>-0.491581</td>\n",
              "      <td>0.333333</td>\n",
              "      <td>1.000000</td>\n",
              "      <td>0.214286</td>\n",
              "      <td>-0.333333</td>\n",
              "      <td>1.0</td>\n",
              "      <td>1.0</td>\n",
              "      <td>-1.0</td>\n",
              "      <td>-1.0</td>\n",
              "      <td>-1.0</td>\n",
              "      <td>-1.0</td>\n",
              "      <td>-1.0</td>\n",
              "      <td>-1.0</td>\n",
              "      <td>1.0</td>\n",
              "      <td>-1.0</td>\n",
              "      <td>1.0</td>\n",
              "      <td>-1.0</td>\n",
              "      <td>-1.0</td>\n",
              "      <td>-1.0</td>\n",
              "      <td>-1.0</td>\n",
              "      <td>-1.0</td>\n",
              "      <td>-1.0</td>\n",
              "      <td>-1.0</td>\n",
              "      <td>-1.0</td>\n",
              "      <td>-1.0</td>\n",
              "      <td>1.0</td>\n",
              "      <td>-1.0</td>\n",
              "      <td>-1.0</td>\n",
              "      <td>-1.0</td>\n",
              "      <td>-1.0</td>\n",
              "      <td>-1.0</td>\n",
              "      <td>-1.0</td>\n",
              "      <td>1.0</td>\n",
              "      <td>-1.0</td>\n",
              "      <td>-1.0</td>\n",
              "      <td>-1.0</td>\n",
              "      <td>-1.0</td>\n",
              "      <td>1.0</td>\n",
              "      <td>-1.0</td>\n",
              "      <td>1.0</td>\n",
              "      <td>-1.0</td>\n",
              "      <td>-1.0</td>\n",
              "      <td>-1.0</td>\n",
              "      <td>-1.0</td>\n",
              "      <td>-1.0</td>\n",
              "      <td>1.0</td>\n",
              "      <td>-1.0</td>\n",
              "      <td>-1.0</td>\n",
              "      <td>1.0</td>\n",
              "      <td>-1.0</td>\n",
              "      <td>-1.0</td>\n",
              "      <td>1.0</td>\n",
              "      <td>-1.0</td>\n",
              "      <td>-1.0</td>\n",
              "      <td>1.0</td>\n",
              "      <td>-1.0</td>\n",
              "      <td>1.0</td>\n",
              "      <td>-1.0</td>\n",
              "      <td>1.0</td>\n",
              "      <td>-1.0</td>\n",
              "    </tr>\n",
              "    <tr>\n",
              "      <th>5</th>\n",
              "      <td>-0.058824</td>\n",
              "      <td>-0.031033</td>\n",
              "      <td>-0.333333</td>\n",
              "      <td>1.000000</td>\n",
              "      <td>-0.428571</td>\n",
              "      <td>-1.000000</td>\n",
              "      <td>1.0</td>\n",
              "      <td>-1.0</td>\n",
              "      <td>-1.0</td>\n",
              "      <td>-1.0</td>\n",
              "      <td>1.0</td>\n",
              "      <td>-1.0</td>\n",
              "      <td>-1.0</td>\n",
              "      <td>1.0</td>\n",
              "      <td>-1.0</td>\n",
              "      <td>-1.0</td>\n",
              "      <td>-1.0</td>\n",
              "      <td>-1.0</td>\n",
              "      <td>-1.0</td>\n",
              "      <td>-1.0</td>\n",
              "      <td>-1.0</td>\n",
              "      <td>-1.0</td>\n",
              "      <td>-1.0</td>\n",
              "      <td>1.0</td>\n",
              "      <td>-1.0</td>\n",
              "      <td>-1.0</td>\n",
              "      <td>-1.0</td>\n",
              "      <td>-1.0</td>\n",
              "      <td>-1.0</td>\n",
              "      <td>-1.0</td>\n",
              "      <td>1.0</td>\n",
              "      <td>-1.0</td>\n",
              "      <td>-1.0</td>\n",
              "      <td>1.0</td>\n",
              "      <td>-1.0</td>\n",
              "      <td>-1.0</td>\n",
              "      <td>-1.0</td>\n",
              "      <td>-1.0</td>\n",
              "      <td>1.0</td>\n",
              "      <td>-1.0</td>\n",
              "      <td>1.0</td>\n",
              "      <td>-1.0</td>\n",
              "      <td>-1.0</td>\n",
              "      <td>-1.0</td>\n",
              "      <td>-1.0</td>\n",
              "      <td>-1.0</td>\n",
              "      <td>1.0</td>\n",
              "      <td>-1.0</td>\n",
              "      <td>-1.0</td>\n",
              "      <td>1.0</td>\n",
              "      <td>-1.0</td>\n",
              "      <td>-1.0</td>\n",
              "      <td>1.0</td>\n",
              "      <td>-1.0</td>\n",
              "      <td>1.0</td>\n",
              "      <td>-1.0</td>\n",
              "      <td>-1.0</td>\n",
              "      <td>-1.0</td>\n",
              "      <td>1.0</td>\n",
              "      <td>1.0</td>\n",
              "      <td>-1.0</td>\n",
              "    </tr>\n",
              "  </tbody>\n",
              "</table>\n",
              "</div>"
            ],
            "text/plain": [
              "          2         5         8  ...  19_b'A192'  20_b'A201'  20_b'A202'\n",
              "0 -0.941176 -0.898867  1.000000  ...         1.0         1.0        -1.0\n",
              "2 -0.764706 -0.796853 -0.333333  ...        -1.0         1.0        -1.0\n",
              "3  0.117647 -0.160119 -0.333333  ...        -1.0         1.0        -1.0\n",
              "4 -0.411765 -0.491581  0.333333  ...        -1.0         1.0        -1.0\n",
              "5 -0.058824 -0.031033 -0.333333  ...         1.0         1.0        -1.0\n",
              "\n",
              "[5 rows x 61 columns]"
            ]
          },
          "metadata": {
            "tags": []
          },
          "execution_count": 20
        }
      ]
    },
    {
      "cell_type": "code",
      "metadata": {
        "id": "q0dv1dvMkesv"
      },
      "source": [
        "# rf.fit(df_train, y_train)\n",
        "# rf.oob_score_\n",
        "\n",
        "# using cross-validation and grid-search\n",
        "\n",
        "# rf = RandomForestClassifier()\n",
        "# parameters = {\n",
        "#     'max_features': ('auto', 'sqrt', 10, 12, 20, 30),\n",
        "#     'max_depth': (5, 10, 15, None),\n",
        "#     'n_estimators': (100, 200, 500, 1000, 2000)\n",
        "# }\n",
        "# gs_rf = GridSearchCV(estimator=rf, param_grid=parameters, cv=5, n_jobs=-1, verbose=3)\n",
        "# gs_rf.fit(df_train, y_train)\n",
        "# joblib.dump(gs_rf, \"/content/gdrive/MyDrive/DL/Assignment_4/random_forest_cred.joblib\")\n"
      ],
      "execution_count": 21,
      "outputs": []
    },
    {
      "cell_type": "code",
      "metadata": {
        "id": "-e1SiuIiBeBL"
      },
      "source": [
        "gs_rf = joblib.load(\"/content/gdrive/MyDrive/DL/Assignment_4/random_forest_cred.joblib\")"
      ],
      "execution_count": 22,
      "outputs": []
    },
    {
      "cell_type": "code",
      "metadata": {
        "colab": {
          "base_uri": "https://localhost:8080/"
        },
        "id": "kDk6y8VAMQmk",
        "outputId": "42cfa936-dcb2-4d6c-e683-12b4758941c9"
      },
      "source": [
        "gs_rf.best_params_"
      ],
      "execution_count": 23,
      "outputs": [
        {
          "output_type": "execute_result",
          "data": {
            "text/plain": [
              "{'max_depth': 15, 'max_features': 'sqrt', 'n_estimators': 100}"
            ]
          },
          "metadata": {
            "tags": []
          },
          "execution_count": 23
        }
      ]
    },
    {
      "cell_type": "code",
      "metadata": {
        "colab": {
          "base_uri": "https://localhost:8080/"
        },
        "id": "XS3GNQNLTgxw",
        "outputId": "1fb828d1-d4b7-4399-be33-02ecd0426da0"
      },
      "source": [
        "gs_rf.best_score_"
      ],
      "execution_count": 24,
      "outputs": [
        {
          "output_type": "execute_result",
          "data": {
            "text/plain": [
              "0.7595644790730196"
            ]
          },
          "metadata": {
            "tags": []
          },
          "execution_count": 24
        }
      ]
    },
    {
      "cell_type": "code",
      "metadata": {
        "colab": {
          "base_uri": "https://localhost:8080/"
        },
        "id": "V9olZc8EmlH_",
        "outputId": "9ab0142a-080f-4c89-a3d2-98daa7e16de2"
      },
      "source": [
        "p = gs_rf.predict(df_test)\n",
        "confusion_matrix(y_test.values, p)"
      ],
      "execution_count": 25,
      "outputs": [
        {
          "output_type": "execute_result",
          "data": {
            "text/plain": [
              "array([[201,   4],\n",
              "       [  6,  72]])"
            ]
          },
          "metadata": {
            "tags": []
          },
          "execution_count": 25
        }
      ]
    },
    {
      "cell_type": "code",
      "metadata": {
        "colab": {
          "base_uri": "https://localhost:8080/"
        },
        "id": "tB33XCTwnp2y",
        "outputId": "e5f257e9-dcc8-4298-8f80-71b8ce4804e2"
      },
      "source": [
        "print(classification_report(y_test.values, p,labels=[1,-1]))"
      ],
      "execution_count": 26,
      "outputs": [
        {
          "output_type": "stream",
          "text": [
            "              precision    recall  f1-score   support\n",
            "\n",
            "           1       0.95      0.92      0.94        78\n",
            "          -1       0.97      0.98      0.98       205\n",
            "\n",
            "    accuracy                           0.96       283\n",
            "   macro avg       0.96      0.95      0.96       283\n",
            "weighted avg       0.96      0.96      0.96       283\n",
            "\n"
          ],
          "name": "stdout"
        }
      ]
    },
    {
      "cell_type": "code",
      "metadata": {
        "id": "Mm5gwJr9pmA4"
      },
      "source": [
        ""
      ],
      "execution_count": 26,
      "outputs": []
    },
    {
      "cell_type": "code",
      "metadata": {
        "id": "p9oEzK68SvBO"
      },
      "source": [
        "\n",
        "class BB_GAN_Cred:\n",
        "    def __init__(self, black_box_model, latent_dim, gen_out_size, gen_final_activation='tanh'):\n",
        "        self.latent_dim = latent_dim\n",
        "        self.generator_vector_size = gen_out_size\n",
        "        self.discriminator_input_shape = (self.generator_vector_size,)\n",
        "\n",
        "        self.generator = self.make_generator_model(gen_final_activation)\n",
        "        self.discriminator = self.make_discriminator_model()\n",
        "        self.gan = self.combime_gan(self.generator, self.discriminator)\n",
        "        self.gs_rf = black_box_model\n",
        "\n",
        "    def combime_gan(self, g_model, d_model):\n",
        "        # make weights in the discriminator not trainable\n",
        "        d_model.trainable = False\n",
        "\n",
        "        g_input = Input(shape=(self.latent_dim,))\n",
        "        c_input = Input(shape=(1,))\n",
        "        g_sample = g_model([g_input, c_input])\n",
        "        d_desision = d_model([g_sample, c_input, c_input])\n",
        "        gan_model = Model([g_input, c_input], d_desision)\n",
        "        # opt = tf.keras.optimizers.Adam(lr=0.0002, beta_1=0.5)\n",
        "        opt = tf.keras.optimizers.Adam(lr=0.0002, beta_1=0.6, beta_2=0.999)\n",
        "        gan_model.compile(loss='binary_crossentropy', optimizer=opt, metrics=['accuracy'])\n",
        "        return gan_model\n",
        "\n",
        "    def make_generator_model(self, gen_final_activation):\n",
        "        input_noise = Input(shape=(self.latent_dim,))\n",
        "        c_input = Input(shape=(1,))\n",
        "        concat_layer_c = concatenate([input_noise, c_input])\n",
        "        dense_1 = Dense(128, use_bias=True)(concat_layer_c)\n",
        "        dense_1_bn = BatchNormalization()(dense_1)\n",
        "        dense_1_lr = LeakyReLU()(dense_1_bn)\n",
        "        dense_1_do = Dropout(0.25)(dense_1_lr)\n",
        "        dense_2 = Dense(256)(dense_1_do)\n",
        "        dense_2_bn = BatchNormalization()(dense_2)\n",
        "        dense_2_lr = LeakyReLU()(dense_2_bn)\n",
        "        dense_2_do = Dropout(0.25)(dense_2_lr)\n",
        "        dense_3 = Dense(512)(dense_2_do)\n",
        "        dense_3_bn = BatchNormalization()(dense_3)\n",
        "        dense_3_lr = LeakyReLU()(dense_3_bn)\n",
        "        dense_3_do = Dropout(0.25)(dense_3_lr)\n",
        "        final_layer = Dense(self.generator_vector_size, activation=gen_final_activation)(dense_3_do)\n",
        "        # concat_layer = concatenate([final_layer, c_input])\n",
        "        model = Model(inputs=[input_noise, c_input], outputs=final_layer)\n",
        "\n",
        "        model.summary()\n",
        "        return model\n",
        "\n",
        "\n",
        "    def make_discriminator_model(self):\n",
        "\n",
        "        input_sample = Input(shape=self.discriminator_input_shape,)\n",
        "        cy1_input = Input(shape=(1,))\n",
        "        cy2_input = Input(shape=(1,))\n",
        "\n",
        "        concat_layer_c = concatenate([input_sample, cy1_input, cy2_input])\n",
        "        dense_1 = Dense(512, use_bias=True)(concat_layer_c)\n",
        "        dense_1_lr = LeakyReLU()(dense_1)\n",
        "        dense_1_do = Dropout(0.2)(dense_1_lr)\n",
        "        dense_2 = Dense(256)(dense_1_do)\n",
        "        dense_2_lr = LeakyReLU()(dense_2)\n",
        "        dense_2_do = Dropout(0.2)(dense_2_lr)\n",
        "        dense_3 = Dense(128)(dense_2_do)\n",
        "        dense_3_lr = LeakyReLU()(dense_3)\n",
        "        dense_3_do = Dropout(0.2)(dense_3_lr)\n",
        "        flatten = Flatten()(dense_3_do)\n",
        "        # layer_final_sm = Dense(2, activation='softmax')(flatten)\n",
        "        final_layer = Dense(1, activation='sigmoid')(flatten)\n",
        "        # concat_layer = concatenate([dense_2_do, c_input, y_input])\n",
        "        model = Model(inputs=[input_sample, cy1_input, cy2_input], outputs=final_layer)\n",
        "\n",
        "        opt = tf.keras.optimizers.Adam(lr=0.00002, beta_1=0.8)\n",
        "        # opt = tf.keras.optimizers.Adam(lr=0.000015, beta_1=0.95)  # lr=0.0002, beta_1=0.5, beta_2=0.999\n",
        "        model.compile(loss='binary_crossentropy', optimizer=opt, metrics=['accuracy'])\n",
        "        model.summary()\n",
        "        return model\n",
        "\n",
        "    def generate_real_x_y(self, n_samples: int) -> Tuple[np.ndarray, np.ndarray, np.ndarray, np.ndarray]:\n",
        "        # prepare samples\n",
        "        noise = np.random.uniform(-1, 1, size=(n_samples, self.latent_dim))\n",
        "        c_1 = np.random.random((n_samples, ))\n",
        "        samples_1 = self.generator.predict([noise, c_1])\n",
        "        y_1 = self.gs_rf.predict_proba(samples_1)[:, 0]\n",
        "        valid = np.ones((n_samples, 1))\n",
        "        return samples_1, c_1, y_1, valid\n",
        "\n",
        "    def generate_fake_x_y(self, n_samples: int) -> Tuple[np.ndarray, np.ndarray, np.ndarray, np.ndarray]:\n",
        "        noise = np.random.uniform(-1, 1, size=(n_samples, self.latent_dim))\n",
        "        c_2 = np.random.random((n_samples, ))\n",
        "        samples_2 = self.generator.predict([noise, c_2])\n",
        "        y_2 = self.gs_rf.predict_proba(samples_2)[:, 0]\n",
        "        invalid = np.zeros((n_samples, 1))\n",
        "        return samples_2, y_2, c_2, invalid\n",
        "\n",
        "    def train(self, epochs, batch_size=8):\n",
        "        valid = np.ones((batch_size, 1))\n",
        "        invalid = np.zeros((batch_size, 1))\n",
        "        valid_twice = np.ones((batch_size * 2, 1))\n",
        "        # fake = np.zeros((batch_size, 1))\n",
        "        d_losses = np.zeros((epochs, 1))\n",
        "        d_accuracies = np.zeros((epochs, 1))\n",
        "        d_fake_losses = np.zeros((epochs, 1))\n",
        "        d_fake_accuracies = np.zeros((epochs, 1))\n",
        "        d_real_losses = np.zeros((epochs, 1))\n",
        "        d_real_accuracies = np.zeros((epochs, 1))\n",
        "        g_losses = np.zeros((epochs, 1))\n",
        "        g_accuracies = np.zeros((epochs, 1))\n",
        "        best_epoch = 0\n",
        "        d_acc_delta_to_0_5 = 1\n",
        "        losses_delta = 1\n",
        "        real_2_fake_acc_delta = 1\n",
        "        for i, epoch in enumerate(range(epochs)):\n",
        "            # prepare samples\n",
        "            noise = np.random.uniform(-1, 1, size=(batch_size, self.latent_dim))\n",
        "            c_1 = np.random.random((batch_size, ))\n",
        "            samples_1 = self.generator.predict([noise, c_1])\n",
        "            y_1 = self.gs_rf.predict_proba(samples_1)[:, 0]  # evaluate Y via RF classifier take first column confidence\n",
        "            c_2 = np.random.random((batch_size, ))\n",
        "            samples_2 = self.generator.predict([noise, c_2])\n",
        "            y_2 = self.gs_rf.predict_proba(samples_2)[:, 0]  # evaluate Y via RF classifier take first column confidence\n",
        "\n",
        "            # create training set for the discriminator\n",
        "            # swapping places between 'y' and 'c' trains the Discriminator\n",
        "            # to realize that right hand side parameter is fake (and the opposite)\n",
        "            samples, c, y_bb = np.vstack((samples_1, samples_2)), np.concatenate((c_1, y_2), axis=None), np.concatenate((y_1, c_2), axis=None)\n",
        "\n",
        "            # update discriminator model weights\n",
        "            d_loss, d_acc = self.discriminator.train_on_batch([samples, c, y_bb], np.vstack((valid, invalid)))\n",
        "\n",
        "            # evaluate discriminator on real examples\n",
        "            samples_real, c_real, y_bb_real, y_real = self.generate_real_x_y(batch_size)\n",
        "            d_loss_real, d_acc_real = self.discriminator.evaluate([samples_real, c_real, y_bb_real], y_real, verbose=0)\n",
        "            # evaluate discriminator on fake examples\n",
        "            samples_fake, c_fake, y_bb_fake, y_fake = self.generate_fake_x_y(batch_size)\n",
        "            d_loss_fake, d_acc_fake = self.discriminator.evaluate([samples_fake, c_fake, y_bb_fake], y_fake, verbose=0)\n",
        "\n",
        "            d_fake_losses[i] = d_loss_fake\n",
        "            d_real_losses[i] = d_loss_real\n",
        "            d_fake_accuracies[i] = d_acc_fake\n",
        "            d_real_accuracies[i] = d_acc_real\n",
        "\n",
        "            # noise = np.random.normal(0, 1, (batch_size * 2, self.latent_dim)) # Carmel,  WHY TWISE?\n",
        "            # create inverted labels for the fake samples so generator can improve to be 'real'\n",
        "            # update the generator via the discriminator's error\n",
        "            noise = np.random.uniform(-1, 1, size=(batch_size * 2, self.latent_dim))\n",
        "            # c = np.random.normal(0, 1, (batch_size * 2, ))\n",
        "            c = np.random.random((batch_size * 2, ))\n",
        "            g_loss, g_acc = self.gan.train_on_batch([noise, c], valid_twice)\n",
        "\n",
        "            d_losses[i] = d_loss\n",
        "            d_accuracies[i] = d_acc\n",
        "            g_losses[i] = g_loss\n",
        "            g_accuracies[i] = g_acc\n",
        "\n",
        "            if i % 50 == 0:\n",
        "                print(\"epoch %d [D loss: %f, acc.: %.2f%%] [G loss: %f, acc.: %.2f%%]\" % (epoch, d_loss, 100 * d_acc, g_loss, g_acc))\n",
        "                if 800 <= i:\n",
        "                    if abs(g_loss - d_loss) < 0.2: # check that losses converged\n",
        "                        if abs(d_acc - 0.5) < 0.2 and abs( d_acc_fake - d_acc_real) < 0.2 : # save generator model for closest to 0.5 accuracy\n",
        "                            # filename = 'generator_model.h5'\n",
        "                            filename = 'generator_model_%03d.h5' % epoch\n",
        "\n",
        "                            self.generator.save(filename)\n",
        "                            best_epoch = epoch\n",
        "\n",
        "        print(f'Best epoch: {best_epoch}')\n",
        "        return d_losses, d_accuracies, g_losses, g_accuracies, d_fake_losses, d_real_losses, d_fake_accuracies, d_real_accuracies"
      ],
      "execution_count": 27,
      "outputs": []
    },
    {
      "cell_type": "code",
      "metadata": {
        "id": "Zq2RyaE2VHCg"
      },
      "source": [
        "iterations = 5000\n",
        "gan = BB_GAN_Cred(gs_rf, 30, 61, 'tanh')\n",
        "# d_losses, d_accuracies, g_losses, g_accuracies = gan.train(epochs=iterations, batch_size=32)\n",
        "d_losses, d_accuracies, g_losses, g_accuracies, d_fake_losses, d_real_losses, d_fake_accuracies, d_real_accuracies = gan.train(epochs=iterations, batch_size=16)"
      ],
      "execution_count": null,
      "outputs": []
    },
    {
      "cell_type": "code",
      "metadata": {
        "colab": {
          "base_uri": "https://localhost:8080/"
        },
        "id": "GPYd_SRp7eS8",
        "outputId": "a746675c-e34e-4736-f23b-2bbae04fe1f5"
      },
      "source": [
        "iterations = 3000\n",
        "d_losses, d_accuracies, g_losses, g_accuracies, d_fake_losses, d_real_losses, d_fake_accuracies, d_real_accuracies = gan.train(epochs=iterations, batch_size=16)"
      ],
      "execution_count": 44,
      "outputs": [
        {
          "output_type": "stream",
          "text": [
            "epoch 0 [D loss: 0.703610, acc.: 43.75%] [G loss: 0.703914, acc.: 0.38%]\n",
            "epoch 50 [D loss: 0.695109, acc.: 50.00%] [G loss: 0.686587, acc.: 0.53%]\n",
            "epoch 100 [D loss: 0.695245, acc.: 41.67%] [G loss: 0.679023, acc.: 0.47%]\n",
            "epoch 150 [D loss: 0.693513, acc.: 52.08%] [G loss: 0.706529, acc.: 0.38%]\n",
            "epoch 200 [D loss: 0.679936, acc.: 54.17%] [G loss: 0.658929, acc.: 0.62%]\n",
            "epoch 250 [D loss: 0.699508, acc.: 41.67%] [G loss: 0.719853, acc.: 0.41%]\n",
            "epoch 300 [D loss: 0.672136, acc.: 58.33%] [G loss: 0.708539, acc.: 0.47%]\n",
            "epoch 350 [D loss: 0.705938, acc.: 39.58%] [G loss: 0.687455, acc.: 0.50%]\n",
            "epoch 400 [D loss: 0.680144, acc.: 54.17%] [G loss: 0.696811, acc.: 0.41%]\n",
            "epoch 450 [D loss: 0.700224, acc.: 47.92%] [G loss: 0.708757, acc.: 0.41%]\n",
            "epoch 500 [D loss: 0.724513, acc.: 31.25%] [G loss: 0.709464, acc.: 0.41%]\n",
            "epoch 550 [D loss: 0.694559, acc.: 54.17%] [G loss: 0.709042, acc.: 0.44%]\n",
            "epoch 600 [D loss: 0.700740, acc.: 39.58%] [G loss: 0.679912, acc.: 0.59%]\n",
            "epoch 650 [D loss: 0.708003, acc.: 33.33%] [G loss: 0.689137, acc.: 0.56%]\n",
            "epoch 700 [D loss: 0.695190, acc.: 37.50%] [G loss: 0.695548, acc.: 0.53%]\n",
            "epoch 750 [D loss: 0.711776, acc.: 43.75%] [G loss: 0.679037, acc.: 0.56%]\n",
            "epoch 800 [D loss: 0.683213, acc.: 45.83%] [G loss: 0.708490, acc.: 0.47%]\n",
            "epoch 850 [D loss: 0.680690, acc.: 52.08%] [G loss: 0.694368, acc.: 0.44%]\n",
            "epoch 900 [D loss: 0.698088, acc.: 37.50%] [G loss: 0.720653, acc.: 0.41%]\n",
            "epoch 950 [D loss: 0.701344, acc.: 39.58%] [G loss: 0.722499, acc.: 0.41%]\n",
            "epoch 1000 [D loss: 0.703452, acc.: 41.67%] [G loss: 0.702327, acc.: 0.53%]\n",
            "epoch 1050 [D loss: 0.683826, acc.: 47.92%] [G loss: 0.673370, acc.: 0.56%]\n",
            "epoch 1100 [D loss: 0.694150, acc.: 47.92%] [G loss: 0.702657, acc.: 0.44%]\n",
            "epoch 1150 [D loss: 0.697711, acc.: 41.67%] [G loss: 0.730664, acc.: 0.31%]\n",
            "epoch 1200 [D loss: 0.706783, acc.: 37.50%] [G loss: 0.698073, acc.: 0.47%]\n",
            "epoch 1250 [D loss: 0.692281, acc.: 47.92%] [G loss: 0.706656, acc.: 0.50%]\n",
            "epoch 1300 [D loss: 0.697378, acc.: 41.67%] [G loss: 0.716467, acc.: 0.38%]\n",
            "epoch 1350 [D loss: 0.702107, acc.: 43.75%] [G loss: 0.715613, acc.: 0.41%]\n",
            "epoch 1400 [D loss: 0.677603, acc.: 50.00%] [G loss: 0.672151, acc.: 0.59%]\n",
            "epoch 1450 [D loss: 0.692901, acc.: 43.75%] [G loss: 0.713310, acc.: 0.38%]\n",
            "epoch 1500 [D loss: 0.701677, acc.: 35.42%] [G loss: 0.702186, acc.: 0.44%]\n",
            "epoch 1550 [D loss: 0.704633, acc.: 35.42%] [G loss: 0.691626, acc.: 0.56%]\n",
            "epoch 1600 [D loss: 0.712120, acc.: 31.25%] [G loss: 0.686358, acc.: 0.53%]\n",
            "epoch 1650 [D loss: 0.715066, acc.: 35.42%] [G loss: 0.708616, acc.: 0.47%]\n",
            "epoch 1700 [D loss: 0.688802, acc.: 45.83%] [G loss: 0.699917, acc.: 0.47%]\n",
            "epoch 1750 [D loss: 0.698550, acc.: 43.75%] [G loss: 0.698334, acc.: 0.53%]\n",
            "epoch 1800 [D loss: 0.710161, acc.: 33.33%] [G loss: 0.683443, acc.: 0.53%]\n",
            "epoch 1850 [D loss: 0.700173, acc.: 37.50%] [G loss: 0.705548, acc.: 0.53%]\n",
            "epoch 1900 [D loss: 0.700932, acc.: 39.58%] [G loss: 0.708379, acc.: 0.41%]\n",
            "epoch 1950 [D loss: 0.687180, acc.: 56.25%] [G loss: 0.696450, acc.: 0.53%]\n",
            "epoch 2000 [D loss: 0.694848, acc.: 45.83%] [G loss: 0.695384, acc.: 0.59%]\n",
            "epoch 2050 [D loss: 0.680445, acc.: 50.00%] [G loss: 0.700673, acc.: 0.34%]\n",
            "WARNING:tensorflow:Compiled the loaded model, but the compiled metrics have yet to be built. `model.compile_metrics` will be empty until you train or evaluate the model.\n",
            "epoch 2100 [D loss: 0.686201, acc.: 50.00%] [G loss: 0.688683, acc.: 0.50%]\n",
            "WARNING:tensorflow:Compiled the loaded model, but the compiled metrics have yet to be built. `model.compile_metrics` will be empty until you train or evaluate the model.\n",
            "epoch 2150 [D loss: 0.676053, acc.: 54.17%] [G loss: 0.684471, acc.: 0.56%]\n",
            "epoch 2200 [D loss: 0.710145, acc.: 35.42%] [G loss: 0.697675, acc.: 0.41%]\n",
            "epoch 2250 [D loss: 0.694709, acc.: 45.83%] [G loss: 0.685570, acc.: 0.53%]\n",
            "epoch 2300 [D loss: 0.687872, acc.: 60.42%] [G loss: 0.721003, acc.: 0.44%]\n",
            "epoch 2350 [D loss: 0.690985, acc.: 45.83%] [G loss: 0.694180, acc.: 0.50%]\n",
            "epoch 2400 [D loss: 0.693977, acc.: 50.00%] [G loss: 0.662645, acc.: 0.59%]\n",
            "epoch 2450 [D loss: 0.677677, acc.: 56.25%] [G loss: 0.702885, acc.: 0.50%]\n",
            "epoch 2500 [D loss: 0.660128, acc.: 58.33%] [G loss: 0.690117, acc.: 0.44%]\n",
            "WARNING:tensorflow:Compiled the loaded model, but the compiled metrics have yet to be built. `model.compile_metrics` will be empty until you train or evaluate the model.\n",
            "epoch 2550 [D loss: 0.669540, acc.: 58.33%] [G loss: 0.711924, acc.: 0.31%]\n",
            "epoch 2600 [D loss: 0.665172, acc.: 58.33%] [G loss: 0.704386, acc.: 0.44%]\n",
            "epoch 2650 [D loss: 0.647670, acc.: 47.92%] [G loss: 0.721117, acc.: 0.38%]\n",
            "epoch 2700 [D loss: 0.678497, acc.: 45.83%] [G loss: 0.685474, acc.: 0.56%]\n",
            "epoch 2750 [D loss: 0.654565, acc.: 64.58%] [G loss: 0.678534, acc.: 0.56%]\n",
            "WARNING:tensorflow:Compiled the loaded model, but the compiled metrics have yet to be built. `model.compile_metrics` will be empty until you train or evaluate the model.\n",
            "epoch 2800 [D loss: 0.667993, acc.: 60.42%] [G loss: 0.710528, acc.: 0.41%]\n",
            "epoch 2850 [D loss: 0.654148, acc.: 54.17%] [G loss: 0.708761, acc.: 0.41%]\n",
            "epoch 2900 [D loss: 0.580915, acc.: 60.42%] [G loss: 0.714694, acc.: 0.53%]\n",
            "epoch 2950 [D loss: 0.631353, acc.: 50.00%] [G loss: 0.719152, acc.: 0.38%]\n",
            "Best epoch: 2750\n"
          ],
          "name": "stdout"
        }
      ]
    },
    {
      "cell_type": "code",
      "metadata": {
        "colab": {
          "base_uri": "https://localhost:8080/",
          "height": 301
        },
        "id": "ZM9PERydwSj1",
        "outputId": "db8650b3-1b47-441a-c1f6-10542caa5b61"
      },
      "source": [
        "from typing import List\n",
        "\n",
        "def plot_metric_general(graphs: List[np.ndarray], labels: List[str]) -> None:\n",
        "    import matplotlib.pyplot as plt\n",
        "    epochs = range(1, graphs[0].shape[0] + 1)\n",
        "    plt.xlabel(\"Iterations\")\n",
        "    plt.title('Gan')\n",
        "    for i in range(len(labels)):\n",
        "        plt.plot(epochs, graphs[i])\n",
        "    plt.legend(labels)\n",
        "    plt.show()\n",
        "\n",
        "def moving_average(x, w):\n",
        "    return np.convolve(x, np.ones(w), 'valid') / w\n",
        "\n",
        "d_losses_smooth, d_fake_accuracies_smooth, d_real_accuracies_smooth = moving_average(d_losses.reshape((iterations)), 5), moving_average(d_fake_accuracies.reshape((iterations)), 5), moving_average(d_real_accuracies.reshape((iterations)), 5)\n",
        "\n",
        "plot_metric_general([d_losses_smooth, d_fake_accuracies_smooth, d_real_accuracies_smooth], ['d_losses_smooth', 'd_fake_accuracies_smooth', 'd_real_accuracies_smooth']) "
      ],
      "execution_count": 45,
      "outputs": [
        {
          "output_type": "display_data",
          "data": {
            "image/png": "[encoded data removed]",
            "text/plain": [
              "<Figure size 432x288 with 1 Axes>"
            ]
          },
          "metadata": {
            "tags": []
          }
        }
      ]
    },
    {
      "cell_type": "code",
      "metadata": {
        "id": "waAGk29Rxq3N",
        "colab": {
          "base_uri": "https://localhost:8080/",
          "height": 301
        },
        "outputId": "c57e4338-00d6-42dd-e830-f35942d6d766"
      },
      "source": [
        "d_losses_smooth, d_accuracies_smooth, g_losses_smooth, g_accuracies_smooth = moving_average(d_losses.reshape((iterations)), 5), moving_average(d_accuracies.reshape((iterations)), 5), moving_average(g_losses.reshape((iterations)), 5), moving_average(g_accuracies.reshape((iterations)), 5)\n",
        "\n",
        "plot_metric_general([d_losses_smooth, d_accuracies_smooth, g_losses_smooth], ['d_losses_smooth', 'd_accuracies_smooth', 'g_losses_smooth'])"
      ],
      "execution_count": 46,
      "outputs": [
        {
          "output_type": "display_data",
          "data": {
            "image/png": "[encoded data removed]",
            "text/plain": [
              "<Figure size 432x288 with 1 Axes>"
            ]
          },
          "metadata": {
            "tags": []
          }
        }
      ]
    },
    {
      "cell_type": "code",
      "metadata": {
        "colab": {
          "base_uri": "https://localhost:8080/",
          "height": 382
        },
        "id": "nisaRy3kz1J8",
        "outputId": "bd5fa40a-7aea-43b5-be47-a61abfbf10b5"
      },
      "source": [
        "p_proba = gs_rf.predict_proba(df_test)[:,0]\n",
        "sns.displot(p_proba, bins=10)"
      ],
      "execution_count": 47,
      "outputs": [
        {
          "output_type": "execute_result",
          "data": {
            "text/plain": [
              "<seaborn.axisgrid.FacetGrid at 0x7efc505be150>"
            ]
          },
          "metadata": {
            "tags": []
          },
          "execution_count": 47
        },
        {
          "output_type": "display_data",
          "data": {
            "image/png": "[encoded data removed]",
            "text/plain": [
              "<Figure size 360x360 with 1 Axes>"
            ]
          },
          "metadata": {
            "tags": []
          }
        }
      ]
    },
    {
      "cell_type": "code",
      "metadata": {
        "colab": {
          "base_uri": "https://localhost:8080/"
        },
        "id": "5JzF-M_k0aOH",
        "outputId": "39e1b50e-1cde-45c8-9255-fe5feac80e4b"
      },
      "source": [
        "print(f'min {min(p_proba)}, max {max(p_proba)}, avg {sum(p_proba)/len(p_proba)}')"
      ],
      "execution_count": 48,
      "outputs": [
        {
          "output_type": "stream",
          "text": [
            "min 0.08633333333333333, max 1.0, avg 0.6852434465291608\n"
          ],
          "name": "stdout"
        }
      ]
    },
    {
      "cell_type": "code",
      "metadata": {
        "id": "KcX8i-2g1Ebu"
      },
      "source": [
        "# smaples_len = 1000\n",
        "# noise = np.random.uniform(-1, 1, size=(smaples_len, 30))\n",
        "# # c = np.random.uniform(size=(smaples_len, ))\n",
        "# c = np.random.random(size=(smaples_len, ))\n",
        "# loaded_generator = tf.keras.models.load_model('generator_model_7600.h5')\n",
        "# # samples = gan.generator.predict([noise, c])\n",
        "# samples = loaded_generator.predict([noise, c])"
      ],
      "execution_count": 33,
      "outputs": []
    },
    {
      "cell_type": "code",
      "metadata": {
        "id": "JAGHmhKu1pwM"
      },
      "source": [
        "# p_proba_s = gs_rf.predict_proba(samples)[:,0]\n",
        "# sns.displot(p_proba_s, bins=10)"
      ],
      "execution_count": 34,
      "outputs": []
    },
    {
      "cell_type": "code",
      "metadata": {
        "id": "3tBQsOEQ3Qkh"
      },
      "source": [
        "# print(f'min {min(p_proba_s)}, max {max(p_proba_s)}, avg {sum(p_proba_s)/len(p_proba_s)}')"
      ],
      "execution_count": 35,
      "outputs": []
    },
    {
      "cell_type": "code",
      "metadata": {
        "id": "zSkYST70yaPG"
      },
      "source": [
        "def test_spesific_confidence_range(low, high):\n",
        "  smaples_len = 1000\n",
        "  noise = np.random.uniform(-1, 1, size=(smaples_len, 30))\n",
        "  c = np.random.uniform(low, high, size=(smaples_len, ))\n",
        "  loaded_generator = tf.keras.models.load_model('generator_model_2500.h5')\n",
        "  # samples = gan.generator.predict([noise, c])\n",
        "  # c_mean = np.ones((smaples_len ,)) * np.mean(c)\n",
        "  # c_std = np.ones((smaples_len , )) * np.std(c)    \n",
        "  samples = loaded_generator.predict([noise, c])\n",
        "  p_proba_s = gs_rf.predict_proba(samples)[:,0]\n",
        "  sns.displot(p_proba_s, bins=10)\n",
        "  print(f'min {min(p_proba_s)}, max {max(p_proba_s)}, avg {sum(p_proba_s)/len(p_proba_s)}')"
      ],
      "execution_count": 49,
      "outputs": []
    },
    {
      "cell_type": "code",
      "metadata": {
        "colab": {
          "base_uri": "https://localhost:8080/",
          "height": 399
        },
        "id": "LGKcfDZUyfEL",
        "outputId": "904c31be-de5e-453d-937e-b998d14dd62d"
      },
      "source": [
        "test_spesific_confidence_range(0.1, 0.3)"
      ],
      "execution_count": 50,
      "outputs": [
        {
          "output_type": "stream",
          "text": [
            "WARNING:tensorflow:No training configuration found in the save file, so the model was *not* compiled. Compile it manually.\n",
            "min 0.32, max 0.62, avg 0.5359100000000001\n"
          ],
          "name": "stdout"
        },
        {
          "output_type": "display_data",
          "data": {
            "image/png": "[encoded data removed]",
            "text/plain": [
              "<Figure size 360x360 with 1 Axes>"
            ]
          },
          "metadata": {
            "tags": []
          }
        }
      ]
    },
    {
      "cell_type": "code",
      "metadata": {
        "colab": {
          "base_uri": "https://localhost:8080/",
          "height": 399
        },
        "id": "AJVnI-6Lyfig",
        "outputId": "3d37597e-8233-40d2-fdfe-718e452e8e80"
      },
      "source": [
        "test_spesific_confidence_range(0.3, 0.7)"
      ],
      "execution_count": 51,
      "outputs": [
        {
          "output_type": "stream",
          "text": [
            "WARNING:tensorflow:No training configuration found in the save file, so the model was *not* compiled. Compile it manually.\n",
            "min 0.35, max 0.64, avg 0.5315399999999979\n"
          ],
          "name": "stdout"
        },
        {
          "output_type": "display_data",
          "data": {
            "image/png": "[encoded data removed]",
            "text/plain": [
              "<Figure size 360x360 with 1 Axes>"
            ]
          },
          "metadata": {
            "tags": []
          }
        }
      ]
    },
    {
      "cell_type": "code",
      "metadata": {
        "colab": {
          "base_uri": "https://localhost:8080/",
          "height": 399
        },
        "id": "5q12cDFKyfzB",
        "outputId": "9fc76141-755d-4b98-ecff-1514ee2b7807"
      },
      "source": [
        "test_spesific_confidence_range(0.7, 0.9)"
      ],
      "execution_count": 54,
      "outputs": [
        {
          "output_type": "stream",
          "text": [
            "WARNING:tensorflow:No training configuration found in the save file, so the model was *not* compiled. Compile it manually.\n",
            "min 0.36, max 0.63, avg 0.5255899999999958\n"
          ],
          "name": "stdout"
        },
        {
          "output_type": "display_data",
          "data": {
            "image/png": "[encoded data removed]",
            "text/plain": [
              "<Figure size 360x360 with 1 Axes>"
            ]
          },
          "metadata": {
            "tags": []
          }
        }
      ]
    }
  ]
}