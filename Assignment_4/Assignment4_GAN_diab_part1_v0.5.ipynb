{
  "nbformat": 4,
  "nbformat_minor": 0,
  "metadata": {
    "colab": {
      "name": "Assignment4_GAN_diab_part1_v0.5.ipynb",
      "provenance": [],
      "collapsed_sections": []
    },
    "kernelspec": {
      "name": "python3",
      "display_name": "Python 3"
    },
    "language_info": {
      "name": "python"
    },
    "accelerator": "GPU"
  },
  "cells": [
    {
      "cell_type": "code",
      "metadata": {
        "id": "B0xjeKubRH_g"
      },
      "source": [
        "import pandas as pd\n",
        "import numpy as np\n",
        "from scipy.io import arff\n",
        "import tensorflow as tf\n",
        "from tensorflow.keras import layers\n",
        "import time\n",
        "from typing import Tuple"
      ],
      "execution_count": 1,
      "outputs": []
    },
    {
      "cell_type": "code",
      "metadata": {
        "id": "ODy92sg5BVO1"
      },
      "source": [
        "class GAN:\n",
        "    def __init__(self):\n",
        "        self.latent_dim = 10\n",
        "        self.generator_vector_size = 8\n",
        "        self.discriminator_input_shape = (self.generator_vector_size,)\n",
        "        self.num_examples_to_generate = 16\n",
        "\n",
        "        self.generator = self.make_generator_model()\n",
        "        self.discriminator = self.make_discriminator_model()\n",
        "        self.gan = self.combime_gan(self.generator, self.discriminator)\n",
        "\n",
        "    def combime_gan(self, g_model, d_model):\n",
        "        # make weights in the discriminator not trainable\n",
        "        d_model.trainable = False\n",
        "        # connect generator and discriminator\n",
        "        model = tf.keras.Sequential()\n",
        "        model.add(g_model)\n",
        "        model.add(d_model)\n",
        "        opt = tf.keras.optimizers.Adam(lr=0.0002, beta_1=0.5)\n",
        "        model.compile(loss='binary_crossentropy', optimizer=opt, metrics=['accuracy'])\n",
        "        return model\n",
        "\n",
        "    def make_generator_model(self):\n",
        "        model = tf.keras.Sequential()\n",
        "        model.add(layers.Dense(30, use_bias=True, input_dim=self.latent_dim))\n",
        "        model.add(layers.BatchNormalization())\n",
        "        model.add(layers.LeakyReLU())\n",
        "\n",
        "        model.add(layers.Dense(15))\n",
        "        model.add(layers.BatchNormalization())\n",
        "        model.add(layers.LeakyReLU())\n",
        "        model.add(layers.Dense(self.generator_vector_size, activation='tanh'))\n",
        "\n",
        "        model.summary()\n",
        "        return model\n",
        "\n",
        "        # noise = tf.keras.layers.Input(shape=(self.latent_dim,))\n",
        "        # g_rows = model(noise)\n",
        "        # return tf.keras.Model(noise, g_rows)\n",
        "        # return model\n",
        "\n",
        "    def make_discriminator_model(self):\n",
        "        model = tf.keras.Sequential()\n",
        "        model.add(layers.Dense(32, use_bias=True, input_shape=self.discriminator_input_shape))\n",
        "        # model.add(layers.Dense(32, use_bias=False, input_shape=(8,)))\n",
        "        model.add(layers.LeakyReLU())\n",
        "        model.add(layers.Dropout(0.2))\n",
        "\n",
        "        model.add(layers.Dense(16))\n",
        "        model.add(layers.LeakyReLU())\n",
        "        model.add(layers.Dropout(0.2))\n",
        "\n",
        "        model.add(layers.Flatten())\n",
        "        model.add(layers.Dense(1, activation='sigmoid'))\n",
        "        opt = tf.keras.optimizers.Adam(lr=0.0002, beta_1=0.5)\n",
        "        model.compile(loss='binary_crossentropy', optimizer=opt, metrics=['accuracy'])\n",
        "        model.summary()\n",
        "        return model\n",
        "\n",
        "        # g_rows = tf.keras.layers.Input(shape=self.discriminator_input_shape)\n",
        "        # validity = model(g_rows)\n",
        "        # return tf.keras.Model(g_rows, validity)\n",
        "\n",
        "\n",
        "    def generate_real_x_y(self, data: np.ndarray, n_samples: int) -> Tuple[np.ndarray, np.ndarray]:\n",
        "        y_real = np.ones((n_samples, 1))\n",
        "        idx = np.random.randint(0, data.shape[0], n_samples)\n",
        "        x_real = data[idx]\n",
        "        return x_real, y_real\n",
        "\n",
        "    def generate_fake_x_y(self, n_samples: int) -> Tuple[np.ndarray, np.ndarray]:\n",
        "        y_fake = np.zeros((n_samples, 1))\n",
        "        # noise = np.random.normal(0, 1, (n_samples, self.latent_dim))\n",
        "        noise = np.random.uniform(-1, 1, size=(n_samples, self.latent_dim))\n",
        "        x_fake = self.generator.predict(noise)\n",
        "        return x_fake, y_fake\n",
        "\n",
        "    def train(self, df, epochs, batch_size=8):\n",
        "        # (X_train, _), (_, _) = mnist.load_data()\n",
        "        # X_train = X_train / 127.5 - 1.\n",
        "        # X_train = np.expand_dims(X_train, axis=3)\n",
        "        X_train = df.values\n",
        "        valid = np.ones((batch_size, 1))\n",
        "        valid_twice = np.ones((batch_size * 2, 1))\n",
        "        fake = np.zeros((batch_size, 1))\n",
        "        d_losses = np.zeros((epochs, 1))\n",
        "        d_accuracies = np.zeros((epochs, 1))\n",
        "        d_fake_losses = np.zeros((epochs, 1))\n",
        "        d_fake_accuracies = np.zeros((epochs, 1))\n",
        "        d_real_losses = np.zeros((epochs, 1))\n",
        "        d_real_accuracies = np.zeros((epochs, 1))\n",
        "        g_losses = np.zeros((epochs, 1))\n",
        "        g_accuracies = np.zeros((epochs, 1))\n",
        "\n",
        "        for i, epoch in enumerate(range(epochs)):\n",
        "            # prepare real fake examples\n",
        "            x_fake, y_fake = self.generate_fake_x_y(batch_size)\n",
        "            x_real, y_real = self.generate_real_x_y(X_train, batch_size)\n",
        "            # create training set for the discriminator\n",
        "            x, y = np.vstack((x_real, x_fake)), np.vstack((y_real, y_fake))\n",
        "            # update discriminator model weights\n",
        "            d_loss, d_acc = self.discriminator.train_on_batch(x, y)\n",
        "\n",
        "            # evaluate discriminator on real examples\n",
        "            x_real, y_real = self.generate_real_x_y(X_train, batch_size)\n",
        "            d_loss_real, d_acc_real = self.discriminator.evaluate(x_real, y_real, verbose=0)\n",
        "            # evaluate discriminator on fake examples\n",
        "            x_fake, y_fake = self.generate_fake_x_y(batch_size)\n",
        "            d_loss_fake, d_acc_fake = self.discriminator.evaluate(x_fake, y_fake, verbose=0)\n",
        "\n",
        "            d_fake_losses[i] = d_loss_fake\n",
        "            d_real_losses[i] = d_loss_real\n",
        "            d_fake_accuracies[i] = d_acc_fake\n",
        "            d_real_accuracies[i] = d_acc_real\n",
        "\n",
        "            # noise = np.random.normal(0, 1, (batch_size * 2, self.latent_dim))\n",
        "            noise = np.random.uniform(-1, 1, size=(batch_size * 2, self.latent_dim))\n",
        "            # create inverted labels for the fake samples so generator can improve to be 'real'\n",
        "            # update the generator via the discriminator's error\n",
        "            g_loss, g_acc = self.gan.train_on_batch(noise, valid_twice)\n",
        "\n",
        "            d_losses[i] = d_loss\n",
        "            d_accuracies[i] = d_acc\n",
        "            g_losses[i] = g_loss\n",
        "            g_accuracies[i] = g_acc\n",
        "            # if i % 50 == 0:\n",
        "            #   print(\"epoch %d [D loss: %f, acc.: %.2f%%] [G loss: %f, acc.: %.2f%%]\" % (epoch, d_loss, 100 * d_acc, g_loss, g_acc))\n",
        "            #   if 800<=i and i<= 1200:\n",
        "            #     filename = 'generator_model_%03d.h5' % (epoch + 1)\n",
        "            #     self.generator.save(filename)\n",
        "\n",
        "            if i % 50 == 0:\n",
        "                print(\"epoch %d [D loss: %f, acc.: %.2f%%] [G loss: %f, acc.: %.2f%%]\" % (epoch, d_loss, 100 * d_acc, g_loss, g_acc))\n",
        "                if 800 <= i:\n",
        "                    if abs(g_loss - d_loss) < 0.2: # check that losses converged\n",
        "                        if abs(d_acc - 0.5) < 0.2 and abs( d_acc_fake - d_acc_real) < 0.2 : # save generator model for closest to 0.5 accuracy\n",
        "                            # filename = 'generator_model.h5'\n",
        "                            filename = 'generator_model_%03d.h5' % epoch\n",
        "\n",
        "                            self.generator.save(filename)\n",
        "                            best_epoch = epoch                   \n",
        "        return d_losses, d_accuracies, g_losses, g_accuracies, d_fake_losses, d_real_losses, d_fake_accuracies, d_real_accuracies"
      ],
      "execution_count": 2,
      "outputs": []
    },
    {
      "cell_type": "code",
      "metadata": {
        "colab": {
          "base_uri": "https://localhost:8080/"
        },
        "id": "RYyQd6rkQo8-",
        "outputId": "6cfe97e2-bac1-43cb-c769-dde573e7e047"
      },
      "source": [
        "from google.colab import drive \n",
        "drive.mount('/content/gdrive')"
      ],
      "execution_count": 3,
      "outputs": [
        {
          "output_type": "stream",
          "text": [
            "Mounted at /content/gdrive\n"
          ],
          "name": "stdout"
        }
      ]
    },
    {
      "cell_type": "code",
      "metadata": {
        "id": "lT3CYUGFUjZM"
      },
      "source": [
        "diab_arf = arff.loadarff('gdrive/MyDrive/DL/Assignment_4/diabetes.arff')"
      ],
      "execution_count": 4,
      "outputs": []
    },
    {
      "cell_type": "code",
      "metadata": {
        "id": "gMgc25w7Uu-2"
      },
      "source": [
        "diab_df = pd.DataFrame(diab_arf[0])"
      ],
      "execution_count": 5,
      "outputs": []
    },
    {
      "cell_type": "code",
      "metadata": {
        "id": "PrqCIaw5XwsL"
      },
      "source": [
        "# diab_df.replace(to_replace=b'tested_negative', value=-1, inplace=True)\n",
        "# diab_df.replace(to_replace=b'tested_positive', value=1, inplace=True)"
      ],
      "execution_count": 6,
      "outputs": []
    },
    {
      "cell_type": "code",
      "metadata": {
        "colab": {
          "base_uri": "https://localhost:8080/",
          "height": 202
        },
        "id": "YDlAMStuZCrq",
        "outputId": "b9fab9e6-3365-4806-9c0f-8c64e6ff398d"
      },
      "source": [
        "diab_df.head()"
      ],
      "execution_count": 7,
      "outputs": [
        {
          "output_type": "execute_result",
          "data": {
            "text/html": [
              "<div>\n",
              "<style scoped>\n",
              "    .dataframe tbody tr th:only-of-type {\n",
              "        vertical-align: middle;\n",
              "    }\n",
              "\n",
              "    .dataframe tbody tr th {\n",
              "        vertical-align: top;\n",
              "    }\n",
              "\n",
              "    .dataframe thead th {\n",
              "        text-align: right;\n",
              "    }\n",
              "</style>\n",
              "<table border=\"1\" class=\"dataframe\">\n",
              "  <thead>\n",
              "    <tr style=\"text-align: right;\">\n",
              "      <th></th>\n",
              "      <th>preg</th>\n",
              "      <th>plas</th>\n",
              "      <th>pres</th>\n",
              "      <th>skin</th>\n",
              "      <th>insu</th>\n",
              "      <th>mass</th>\n",
              "      <th>pedi</th>\n",
              "      <th>age</th>\n",
              "      <th>class</th>\n",
              "    </tr>\n",
              "  </thead>\n",
              "  <tbody>\n",
              "    <tr>\n",
              "      <th>0</th>\n",
              "      <td>6.0</td>\n",
              "      <td>148.0</td>\n",
              "      <td>72.0</td>\n",
              "      <td>35.0</td>\n",
              "      <td>0.0</td>\n",
              "      <td>33.6</td>\n",
              "      <td>0.627</td>\n",
              "      <td>50.0</td>\n",
              "      <td>b'tested_positive'</td>\n",
              "    </tr>\n",
              "    <tr>\n",
              "      <th>1</th>\n",
              "      <td>1.0</td>\n",
              "      <td>85.0</td>\n",
              "      <td>66.0</td>\n",
              "      <td>29.0</td>\n",
              "      <td>0.0</td>\n",
              "      <td>26.6</td>\n",
              "      <td>0.351</td>\n",
              "      <td>31.0</td>\n",
              "      <td>b'tested_negative'</td>\n",
              "    </tr>\n",
              "    <tr>\n",
              "      <th>2</th>\n",
              "      <td>8.0</td>\n",
              "      <td>183.0</td>\n",
              "      <td>64.0</td>\n",
              "      <td>0.0</td>\n",
              "      <td>0.0</td>\n",
              "      <td>23.3</td>\n",
              "      <td>0.672</td>\n",
              "      <td>32.0</td>\n",
              "      <td>b'tested_positive'</td>\n",
              "    </tr>\n",
              "    <tr>\n",
              "      <th>3</th>\n",
              "      <td>1.0</td>\n",
              "      <td>89.0</td>\n",
              "      <td>66.0</td>\n",
              "      <td>23.0</td>\n",
              "      <td>94.0</td>\n",
              "      <td>28.1</td>\n",
              "      <td>0.167</td>\n",
              "      <td>21.0</td>\n",
              "      <td>b'tested_negative'</td>\n",
              "    </tr>\n",
              "    <tr>\n",
              "      <th>4</th>\n",
              "      <td>0.0</td>\n",
              "      <td>137.0</td>\n",
              "      <td>40.0</td>\n",
              "      <td>35.0</td>\n",
              "      <td>168.0</td>\n",
              "      <td>43.1</td>\n",
              "      <td>2.288</td>\n",
              "      <td>33.0</td>\n",
              "      <td>b'tested_positive'</td>\n",
              "    </tr>\n",
              "  </tbody>\n",
              "</table>\n",
              "</div>"
            ],
            "text/plain": [
              "   preg   plas  pres  skin   insu  mass   pedi   age               class\n",
              "0   6.0  148.0  72.0  35.0    0.0  33.6  0.627  50.0  b'tested_positive'\n",
              "1   1.0   85.0  66.0  29.0    0.0  26.6  0.351  31.0  b'tested_negative'\n",
              "2   8.0  183.0  64.0   0.0    0.0  23.3  0.672  32.0  b'tested_positive'\n",
              "3   1.0   89.0  66.0  23.0   94.0  28.1  0.167  21.0  b'tested_negative'\n",
              "4   0.0  137.0  40.0  35.0  168.0  43.1  2.288  33.0  b'tested_positive'"
            ]
          },
          "metadata": {
            "tags": []
          },
          "execution_count": 7
        }
      ]
    },
    {
      "cell_type": "code",
      "metadata": {
        "id": "MDA-w1sYGC3B"
      },
      "source": [
        "# the values must be scaled to the range [-1,1] to match the output of the generator model\n",
        "def scaler(df):\n",
        "  for column in df:\n",
        "    max = df[column].max()\n",
        "    min = df[column].min()\n",
        "    col = 2*((df[column] - min)/(max - min)) - 1\n",
        "    df[column] = col\n",
        "  return df"
      ],
      "execution_count": 8,
      "outputs": []
    },
    {
      "cell_type": "code",
      "metadata": {
        "id": "6_QL7k-VHdzT"
      },
      "source": [
        "# class is not part of sample description\n",
        "del diab_df['class']\n",
        "diab_df = scaler(diab_df)"
      ],
      "execution_count": 9,
      "outputs": []
    },
    {
      "cell_type": "code",
      "metadata": {
        "colab": {
          "base_uri": "https://localhost:8080/",
          "height": 294
        },
        "id": "k2xzgNz_ZEBU",
        "outputId": "be5872dc-f0f1-48aa-835f-bd8bd41cbb0d"
      },
      "source": [
        "diab_df.describe()"
      ],
      "execution_count": 10,
      "outputs": [
        {
          "output_type": "execute_result",
          "data": {
            "text/html": [
              "<div>\n",
              "<style scoped>\n",
              "    .dataframe tbody tr th:only-of-type {\n",
              "        vertical-align: middle;\n",
              "    }\n",
              "\n",
              "    .dataframe tbody tr th {\n",
              "        vertical-align: top;\n",
              "    }\n",
              "\n",
              "    .dataframe thead th {\n",
              "        text-align: right;\n",
              "    }\n",
              "</style>\n",
              "<table border=\"1\" class=\"dataframe\">\n",
              "  <thead>\n",
              "    <tr style=\"text-align: right;\">\n",
              "      <th></th>\n",
              "      <th>preg</th>\n",
              "      <th>plas</th>\n",
              "      <th>pres</th>\n",
              "      <th>skin</th>\n",
              "      <th>insu</th>\n",
              "      <th>mass</th>\n",
              "      <th>pedi</th>\n",
              "      <th>age</th>\n",
              "    </tr>\n",
              "  </thead>\n",
              "  <tbody>\n",
              "    <tr>\n",
              "      <th>count</th>\n",
              "      <td>768.000000</td>\n",
              "      <td>768.000000</td>\n",
              "      <td>768.000000</td>\n",
              "      <td>768.000000</td>\n",
              "      <td>768.000000</td>\n",
              "      <td>768.000000</td>\n",
              "      <td>768.000000</td>\n",
              "      <td>768.000000</td>\n",
              "    </tr>\n",
              "    <tr>\n",
              "      <th>mean</th>\n",
              "      <td>-0.547641</td>\n",
              "      <td>0.215020</td>\n",
              "      <td>0.132877</td>\n",
              "      <td>-0.585122</td>\n",
              "      <td>-0.811349</td>\n",
              "      <td>-0.046421</td>\n",
              "      <td>-0.663641</td>\n",
              "      <td>-0.591970</td>\n",
              "    </tr>\n",
              "    <tr>\n",
              "      <th>std</th>\n",
              "      <td>0.396421</td>\n",
              "      <td>0.321333</td>\n",
              "      <td>0.317308</td>\n",
              "      <td>0.322267</td>\n",
              "      <td>0.272444</td>\n",
              "      <td>0.234997</td>\n",
              "      <td>0.282945</td>\n",
              "      <td>0.392008</td>\n",
              "    </tr>\n",
              "    <tr>\n",
              "      <th>min</th>\n",
              "      <td>-1.000000</td>\n",
              "      <td>-1.000000</td>\n",
              "      <td>-1.000000</td>\n",
              "      <td>-1.000000</td>\n",
              "      <td>-1.000000</td>\n",
              "      <td>-1.000000</td>\n",
              "      <td>-1.000000</td>\n",
              "      <td>-1.000000</td>\n",
              "    </tr>\n",
              "    <tr>\n",
              "      <th>25%</th>\n",
              "      <td>-0.882353</td>\n",
              "      <td>-0.005025</td>\n",
              "      <td>0.016393</td>\n",
              "      <td>-1.000000</td>\n",
              "      <td>-1.000000</td>\n",
              "      <td>-0.186289</td>\n",
              "      <td>-0.858454</td>\n",
              "      <td>-0.900000</td>\n",
              "    </tr>\n",
              "    <tr>\n",
              "      <th>50%</th>\n",
              "      <td>-0.647059</td>\n",
              "      <td>0.175879</td>\n",
              "      <td>0.180328</td>\n",
              "      <td>-0.535354</td>\n",
              "      <td>-0.927896</td>\n",
              "      <td>-0.046200</td>\n",
              "      <td>-0.748506</td>\n",
              "      <td>-0.733333</td>\n",
              "    </tr>\n",
              "    <tr>\n",
              "      <th>75%</th>\n",
              "      <td>-0.294118</td>\n",
              "      <td>0.409548</td>\n",
              "      <td>0.311475</td>\n",
              "      <td>-0.353535</td>\n",
              "      <td>-0.699173</td>\n",
              "      <td>0.090909</td>\n",
              "      <td>-0.531810</td>\n",
              "      <td>-0.333333</td>\n",
              "    </tr>\n",
              "    <tr>\n",
              "      <th>max</th>\n",
              "      <td>1.000000</td>\n",
              "      <td>1.000000</td>\n",
              "      <td>1.000000</td>\n",
              "      <td>1.000000</td>\n",
              "      <td>1.000000</td>\n",
              "      <td>1.000000</td>\n",
              "      <td>1.000000</td>\n",
              "      <td>1.000000</td>\n",
              "    </tr>\n",
              "  </tbody>\n",
              "</table>\n",
              "</div>"
            ],
            "text/plain": [
              "             preg        plas        pres  ...        mass        pedi         age\n",
              "count  768.000000  768.000000  768.000000  ...  768.000000  768.000000  768.000000\n",
              "mean    -0.547641    0.215020    0.132877  ...   -0.046421   -0.663641   -0.591970\n",
              "std      0.396421    0.321333    0.317308  ...    0.234997    0.282945    0.392008\n",
              "min     -1.000000   -1.000000   -1.000000  ...   -1.000000   -1.000000   -1.000000\n",
              "25%     -0.882353   -0.005025    0.016393  ...   -0.186289   -0.858454   -0.900000\n",
              "50%     -0.647059    0.175879    0.180328  ...   -0.046200   -0.748506   -0.733333\n",
              "75%     -0.294118    0.409548    0.311475  ...    0.090909   -0.531810   -0.333333\n",
              "max      1.000000    1.000000    1.000000  ...    1.000000    1.000000    1.000000\n",
              "\n",
              "[8 rows x 8 columns]"
            ]
          },
          "metadata": {
            "tags": []
          },
          "execution_count": 10
        }
      ]
    },
    {
      "cell_type": "code",
      "metadata": {
        "colab": {
          "base_uri": "https://localhost:8080/"
        },
        "id": "ydiDRgBKSfdG",
        "outputId": "a147b3ac-5f7e-4cb4-9c63-6f06369b1ea7"
      },
      "source": [
        "gan = GAN()\n",
        "# from tensorflow.python.keras.utils.vis_utils import plot_model\n",
        "# plot_model(gan.generator, to_file='g_plot.png', show_shapes=True, show_layer_names=True)"
      ],
      "execution_count": 11,
      "outputs": [
        {
          "output_type": "stream",
          "text": [
            "Model: \"sequential\"\n",
            "_________________________________________________________________\n",
            "Layer (type)                 Output Shape              Param #   \n",
            "=================================================================\n",
            "dense (Dense)                (None, 30)                330       \n",
            "_________________________________________________________________\n",
            "batch_normalization (BatchNo (None, 30)                120       \n",
            "_________________________________________________________________\n",
            "leaky_re_lu (LeakyReLU)      (None, 30)                0         \n",
            "_________________________________________________________________\n",
            "dense_1 (Dense)              (None, 15)                465       \n",
            "_________________________________________________________________\n",
            "batch_normalization_1 (Batch (None, 15)                60        \n",
            "_________________________________________________________________\n",
            "leaky_re_lu_1 (LeakyReLU)    (None, 15)                0         \n",
            "_________________________________________________________________\n",
            "dense_2 (Dense)              (None, 8)                 128       \n",
            "=================================================================\n",
            "Total params: 1,103\n",
            "Trainable params: 1,013\n",
            "Non-trainable params: 90\n",
            "_________________________________________________________________\n",
            "Model: \"sequential_1\"\n",
            "_________________________________________________________________\n",
            "Layer (type)                 Output Shape              Param #   \n",
            "=================================================================\n",
            "dense_3 (Dense)              (None, 32)                288       \n",
            "_________________________________________________________________\n",
            "leaky_re_lu_2 (LeakyReLU)    (None, 32)                0         \n",
            "_________________________________________________________________\n",
            "dropout (Dropout)            (None, 32)                0         \n",
            "_________________________________________________________________\n",
            "dense_4 (Dense)              (None, 16)                528       \n",
            "_________________________________________________________________\n",
            "leaky_re_lu_3 (LeakyReLU)    (None, 16)                0         \n",
            "_________________________________________________________________\n",
            "dropout_1 (Dropout)          (None, 16)                0         \n",
            "_________________________________________________________________\n",
            "flatten (Flatten)            (None, 16)                0         \n",
            "_________________________________________________________________\n",
            "dense_5 (Dense)              (None, 1)                 17        \n",
            "=================================================================\n",
            "Total params: 833\n",
            "Trainable params: 833\n",
            "Non-trainable params: 0\n",
            "_________________________________________________________________\n"
          ],
          "name": "stdout"
        },
        {
          "output_type": "stream",
          "text": [
            "/usr/local/lib/python3.7/dist-packages/tensorflow/python/keras/optimizer_v2/optimizer_v2.py:375: UserWarning: The `lr` argument is deprecated, use `learning_rate` instead.\n",
            "  \"The `lr` argument is deprecated, use `learning_rate` instead.\")\n"
          ],
          "name": "stderr"
        }
      ]
    },
    {
      "cell_type": "code",
      "metadata": {
        "id": "2Pb5PyJsTIYf"
      },
      "source": [
        "# plot_model(gan.discriminator, to_file='d_plot.png', show_shapes=True, show_layer_names=True)"
      ],
      "execution_count": 12,
      "outputs": []
    },
    {
      "cell_type": "code",
      "metadata": {
        "colab": {
          "base_uri": "https://localhost:8080/"
        },
        "id": "_cHtG9JVObgt",
        "outputId": "2d155091-4203-4f30-fdc9-6ee17eab235a"
      },
      "source": [
        "epochs = 8000\n",
        "d_losses, d_accuracies, g_losses, g_accuracies, d_fake_losses, d_real_losses, d_fake_accuracies, d_real_accuracies = gan.train(df=diab_df, epochs=epochs, batch_size=16)"
      ],
      "execution_count": 13,
      "outputs": [
        {
          "output_type": "stream",
          "text": [
            "epoch 0 [D loss: 0.644223, acc.: 65.62%] [G loss: 0.651536, acc.: 0.56%]\n",
            "epoch 50 [D loss: 0.647582, acc.: 56.25%] [G loss: 0.626398, acc.: 0.66%]\n",
            "epoch 100 [D loss: 0.615066, acc.: 56.25%] [G loss: 0.661564, acc.: 0.66%]\n",
            "epoch 150 [D loss: 0.643564, acc.: 54.17%] [G loss: 0.712178, acc.: 0.56%]\n",
            "epoch 200 [D loss: 0.603935, acc.: 60.42%] [G loss: 0.710072, acc.: 0.53%]\n",
            "epoch 250 [D loss: 0.570139, acc.: 70.83%] [G loss: 0.773931, acc.: 0.41%]\n",
            "epoch 300 [D loss: 0.566443, acc.: 75.00%] [G loss: 0.764758, acc.: 0.38%]\n",
            "epoch 350 [D loss: 0.535566, acc.: 79.17%] [G loss: 0.870091, acc.: 0.22%]\n",
            "epoch 400 [D loss: 0.538504, acc.: 81.25%] [G loss: 0.814129, acc.: 0.47%]\n",
            "epoch 450 [D loss: 0.617948, acc.: 62.50%] [G loss: 0.725194, acc.: 0.47%]\n",
            "epoch 500 [D loss: 0.646123, acc.: 64.58%] [G loss: 0.729715, acc.: 0.56%]\n",
            "epoch 550 [D loss: 0.749533, acc.: 50.00%] [G loss: 0.770916, acc.: 0.41%]\n",
            "epoch 600 [D loss: 0.638440, acc.: 58.33%] [G loss: 0.777689, acc.: 0.38%]\n",
            "epoch 650 [D loss: 0.660009, acc.: 52.08%] [G loss: 0.694846, acc.: 0.50%]\n",
            "epoch 700 [D loss: 0.684345, acc.: 58.33%] [G loss: 0.745507, acc.: 0.38%]\n",
            "epoch 750 [D loss: 0.636669, acc.: 62.50%] [G loss: 0.733278, acc.: 0.44%]\n",
            "epoch 800 [D loss: 0.703481, acc.: 52.08%] [G loss: 0.720765, acc.: 0.50%]\n",
            "WARNING:tensorflow:Compiled the loaded model, but the compiled metrics have yet to be built. `model.compile_metrics` will be empty until you train or evaluate the model.\n",
            "epoch 850 [D loss: 0.719607, acc.: 47.92%] [G loss: 0.735476, acc.: 0.53%]\n",
            "WARNING:tensorflow:Compiled the loaded model, but the compiled metrics have yet to be built. `model.compile_metrics` will be empty until you train or evaluate the model.\n",
            "epoch 900 [D loss: 0.694482, acc.: 54.17%] [G loss: 0.738303, acc.: 0.41%]\n",
            "epoch 950 [D loss: 0.673814, acc.: 58.33%] [G loss: 0.661063, acc.: 0.66%]\n",
            "WARNING:tensorflow:Compiled the loaded model, but the compiled metrics have yet to be built. `model.compile_metrics` will be empty until you train or evaluate the model.\n",
            "epoch 1000 [D loss: 0.708113, acc.: 54.17%] [G loss: 0.726479, acc.: 0.38%]\n",
            "epoch 1050 [D loss: 0.667344, acc.: 66.67%] [G loss: 0.752451, acc.: 0.41%]\n",
            "epoch 1100 [D loss: 0.695858, acc.: 66.67%] [G loss: 0.742558, acc.: 0.47%]\n",
            "epoch 1150 [D loss: 0.685308, acc.: 64.58%] [G loss: 0.720674, acc.: 0.59%]\n",
            "epoch 1200 [D loss: 0.707378, acc.: 54.17%] [G loss: 0.714637, acc.: 0.47%]\n",
            "epoch 1250 [D loss: 0.725152, acc.: 47.92%] [G loss: 0.718689, acc.: 0.41%]\n",
            "epoch 1300 [D loss: 0.682389, acc.: 64.58%] [G loss: 0.728654, acc.: 0.44%]\n",
            "epoch 1350 [D loss: 0.696073, acc.: 52.08%] [G loss: 0.718701, acc.: 0.41%]\n",
            "epoch 1400 [D loss: 0.709305, acc.: 52.08%] [G loss: 0.706898, acc.: 0.38%]\n",
            "epoch 1450 [D loss: 0.719183, acc.: 52.08%] [G loss: 0.714561, acc.: 0.38%]\n",
            "epoch 1500 [D loss: 0.705098, acc.: 52.08%] [G loss: 0.739697, acc.: 0.19%]\n",
            "epoch 1550 [D loss: 0.707389, acc.: 54.17%] [G loss: 0.687209, acc.: 0.56%]\n",
            "epoch 1600 [D loss: 0.709276, acc.: 54.17%] [G loss: 0.725919, acc.: 0.28%]\n",
            "epoch 1650 [D loss: 0.690999, acc.: 62.50%] [G loss: 0.730936, acc.: 0.34%]\n",
            "epoch 1700 [D loss: 0.696766, acc.: 43.75%] [G loss: 0.689741, acc.: 0.59%]\n",
            "WARNING:tensorflow:Compiled the loaded model, but the compiled metrics have yet to be built. `model.compile_metrics` will be empty until you train or evaluate the model.\n",
            "epoch 1750 [D loss: 0.711721, acc.: 45.83%] [G loss: 0.729766, acc.: 0.22%]\n",
            "WARNING:tensorflow:Compiled the loaded model, but the compiled metrics have yet to be built. `model.compile_metrics` will be empty until you train or evaluate the model.\n",
            "epoch 1800 [D loss: 0.701390, acc.: 54.17%] [G loss: 0.715328, acc.: 0.31%]\n",
            "WARNING:tensorflow:Compiled the loaded model, but the compiled metrics have yet to be built. `model.compile_metrics` will be empty until you train or evaluate the model.\n",
            "epoch 1850 [D loss: 0.695578, acc.: 47.92%] [G loss: 0.700639, acc.: 0.50%]\n",
            "epoch 1900 [D loss: 0.696520, acc.: 47.92%] [G loss: 0.705760, acc.: 0.41%]\n",
            "WARNING:tensorflow:Compiled the loaded model, but the compiled metrics have yet to be built. `model.compile_metrics` will be empty until you train or evaluate the model.\n",
            "epoch 1950 [D loss: 0.701530, acc.: 43.75%] [G loss: 0.718128, acc.: 0.41%]\n",
            "WARNING:tensorflow:Compiled the loaded model, but the compiled metrics have yet to be built. `model.compile_metrics` will be empty until you train or evaluate the model.\n",
            "epoch 2000 [D loss: 0.708990, acc.: 37.50%] [G loss: 0.719205, acc.: 0.34%]\n",
            "WARNING:tensorflow:Compiled the loaded model, but the compiled metrics have yet to be built. `model.compile_metrics` will be empty until you train or evaluate the model.\n",
            "epoch 2050 [D loss: 0.689093, acc.: 52.08%] [G loss: 0.702102, acc.: 0.47%]\n",
            "WARNING:tensorflow:Compiled the loaded model, but the compiled metrics have yet to be built. `model.compile_metrics` will be empty until you train or evaluate the model.\n",
            "epoch 2100 [D loss: 0.683967, acc.: 56.25%] [G loss: 0.703260, acc.: 0.34%]\n",
            "WARNING:tensorflow:Compiled the loaded model, but the compiled metrics have yet to be built. `model.compile_metrics` will be empty until you train or evaluate the model.\n",
            "epoch 2150 [D loss: 0.715373, acc.: 29.17%] [G loss: 0.701272, acc.: 0.41%]\n",
            "epoch 2200 [D loss: 0.713571, acc.: 35.42%] [G loss: 0.726708, acc.: 0.38%]\n",
            "epoch 2250 [D loss: 0.700385, acc.: 39.58%] [G loss: 0.706811, acc.: 0.50%]\n",
            "WARNING:tensorflow:Compiled the loaded model, but the compiled metrics have yet to be built. `model.compile_metrics` will be empty until you train or evaluate the model.\n",
            "epoch 2300 [D loss: 0.689596, acc.: 50.00%] [G loss: 0.720778, acc.: 0.38%]\n",
            "epoch 2350 [D loss: 0.678937, acc.: 47.92%] [G loss: 0.711137, acc.: 0.34%]\n",
            "epoch 2400 [D loss: 0.691825, acc.: 52.08%] [G loss: 0.712924, acc.: 0.38%]\n",
            "epoch 2450 [D loss: 0.701729, acc.: 50.00%] [G loss: 0.725220, acc.: 0.28%]\n",
            "epoch 2500 [D loss: 0.681174, acc.: 60.42%] [G loss: 0.718635, acc.: 0.44%]\n",
            "epoch 2550 [D loss: 0.698368, acc.: 62.50%] [G loss: 0.717181, acc.: 0.19%]\n",
            "epoch 2600 [D loss: 0.687619, acc.: 64.58%] [G loss: 0.724923, acc.: 0.25%]\n",
            "epoch 2650 [D loss: 0.689679, acc.: 62.50%] [G loss: 0.713442, acc.: 0.34%]\n",
            "epoch 2700 [D loss: 0.684770, acc.: 70.83%] [G loss: 0.702304, acc.: 0.44%]\n",
            "epoch 2750 [D loss: 0.697644, acc.: 58.33%] [G loss: 0.718369, acc.: 0.28%]\n",
            "epoch 2800 [D loss: 0.686067, acc.: 66.67%] [G loss: 0.715489, acc.: 0.22%]\n",
            "epoch 2850 [D loss: 0.678565, acc.: 68.75%] [G loss: 0.726339, acc.: 0.16%]\n",
            "epoch 2900 [D loss: 0.685280, acc.: 60.42%] [G loss: 0.716229, acc.: 0.28%]\n",
            "epoch 2950 [D loss: 0.685668, acc.: 66.67%] [G loss: 0.722018, acc.: 0.31%]\n",
            "epoch 3000 [D loss: 0.672183, acc.: 72.92%] [G loss: 0.723783, acc.: 0.31%]\n",
            "epoch 3050 [D loss: 0.686963, acc.: 64.58%] [G loss: 0.748479, acc.: 0.16%]\n",
            "epoch 3100 [D loss: 0.678098, acc.: 75.00%] [G loss: 0.726741, acc.: 0.25%]\n",
            "epoch 3150 [D loss: 0.687012, acc.: 60.42%] [G loss: 0.714122, acc.: 0.28%]\n",
            "epoch 3200 [D loss: 0.698815, acc.: 47.92%] [G loss: 0.692055, acc.: 0.59%]\n",
            "epoch 3250 [D loss: 0.688114, acc.: 54.17%] [G loss: 0.695758, acc.: 0.50%]\n",
            "WARNING:tensorflow:Compiled the loaded model, but the compiled metrics have yet to be built. `model.compile_metrics` will be empty until you train or evaluate the model.\n",
            "epoch 3300 [D loss: 0.686649, acc.: 52.08%] [G loss: 0.703859, acc.: 0.41%]\n",
            "epoch 3350 [D loss: 0.693442, acc.: 50.00%] [G loss: 0.696506, acc.: 0.53%]\n",
            "WARNING:tensorflow:Compiled the loaded model, but the compiled metrics have yet to be built. `model.compile_metrics` will be empty until you train or evaluate the model.\n",
            "epoch 3400 [D loss: 0.698381, acc.: 60.42%] [G loss: 0.685431, acc.: 0.44%]\n",
            "epoch 3450 [D loss: 0.694637, acc.: 52.08%] [G loss: 0.692449, acc.: 0.41%]\n",
            "epoch 3500 [D loss: 0.695097, acc.: 50.00%] [G loss: 0.691133, acc.: 0.44%]\n",
            "WARNING:tensorflow:Compiled the loaded model, but the compiled metrics have yet to be built. `model.compile_metrics` will be empty until you train or evaluate the model.\n",
            "epoch 3550 [D loss: 0.689979, acc.: 58.33%] [G loss: 0.716648, acc.: 0.47%]\n",
            "epoch 3600 [D loss: 0.685686, acc.: 54.17%] [G loss: 0.710415, acc.: 0.44%]\n",
            "epoch 3650 [D loss: 0.684700, acc.: 54.17%] [G loss: 0.685066, acc.: 0.56%]\n",
            "epoch 3700 [D loss: 0.702033, acc.: 37.50%] [G loss: 0.682804, acc.: 0.56%]\n",
            "epoch 3750 [D loss: 0.714221, acc.: 45.83%] [G loss: 0.680659, acc.: 0.59%]\n",
            "WARNING:tensorflow:Compiled the loaded model, but the compiled metrics have yet to be built. `model.compile_metrics` will be empty until you train or evaluate the model.\n",
            "epoch 3800 [D loss: 0.696669, acc.: 58.33%] [G loss: 0.699133, acc.: 0.53%]\n",
            "WARNING:tensorflow:Compiled the loaded model, but the compiled metrics have yet to be built. `model.compile_metrics` will be empty until you train or evaluate the model.\n",
            "epoch 3850 [D loss: 0.712125, acc.: 54.17%] [G loss: 0.690542, acc.: 0.50%]\n",
            "WARNING:tensorflow:Compiled the loaded model, but the compiled metrics have yet to be built. `model.compile_metrics` will be empty until you train or evaluate the model.\n",
            "epoch 3900 [D loss: 0.700295, acc.: 52.08%] [G loss: 0.664432, acc.: 0.62%]\n",
            "WARNING:tensorflow:Compiled the loaded model, but the compiled metrics have yet to be built. `model.compile_metrics` will be empty until you train or evaluate the model.\n",
            "epoch 3950 [D loss: 0.694240, acc.: 60.42%] [G loss: 0.682530, acc.: 0.53%]\n",
            "epoch 4000 [D loss: 0.694187, acc.: 50.00%] [G loss: 0.709454, acc.: 0.41%]\n",
            "epoch 4050 [D loss: 0.692407, acc.: 56.25%] [G loss: 0.702727, acc.: 0.53%]\n",
            "WARNING:tensorflow:Compiled the loaded model, but the compiled metrics have yet to be built. `model.compile_metrics` will be empty until you train or evaluate the model.\n",
            "epoch 4100 [D loss: 0.699144, acc.: 45.83%] [G loss: 0.701046, acc.: 0.53%]\n",
            "WARNING:tensorflow:Compiled the loaded model, but the compiled metrics have yet to be built. `model.compile_metrics` will be empty until you train or evaluate the model.\n",
            "epoch 4150 [D loss: 0.684215, acc.: 70.83%] [G loss: 0.695755, acc.: 0.41%]\n",
            "epoch 4200 [D loss: 0.688818, acc.: 45.83%] [G loss: 0.706780, acc.: 0.38%]\n",
            "epoch 4250 [D loss: 0.700224, acc.: 47.92%] [G loss: 0.685221, acc.: 0.56%]\n",
            "epoch 4300 [D loss: 0.699521, acc.: 54.17%] [G loss: 0.681950, acc.: 0.59%]\n",
            "WARNING:tensorflow:Compiled the loaded model, but the compiled metrics have yet to be built. `model.compile_metrics` will be empty until you train or evaluate the model.\n",
            "epoch 4350 [D loss: 0.700262, acc.: 50.00%] [G loss: 0.663217, acc.: 0.72%]\n",
            "epoch 4400 [D loss: 0.711417, acc.: 43.75%] [G loss: 0.684469, acc.: 0.69%]\n",
            "epoch 4450 [D loss: 0.695891, acc.: 43.75%] [G loss: 0.681990, acc.: 0.59%]\n",
            "WARNING:tensorflow:Compiled the loaded model, but the compiled metrics have yet to be built. `model.compile_metrics` will be empty until you train or evaluate the model.\n",
            "epoch 4500 [D loss: 0.694156, acc.: 47.92%] [G loss: 0.678105, acc.: 0.62%]\n",
            "epoch 4550 [D loss: 0.699235, acc.: 43.75%] [G loss: 0.662165, acc.: 0.72%]\n",
            "WARNING:tensorflow:Compiled the loaded model, but the compiled metrics have yet to be built. `model.compile_metrics` will be empty until you train or evaluate the model.\n",
            "epoch 4600 [D loss: 0.699468, acc.: 39.58%] [G loss: 0.673872, acc.: 0.66%]\n",
            "epoch 4650 [D loss: 0.698701, acc.: 39.58%] [G loss: 0.690619, acc.: 0.50%]\n",
            "WARNING:tensorflow:Compiled the loaded model, but the compiled metrics have yet to be built. `model.compile_metrics` will be empty until you train or evaluate the model.\n",
            "epoch 4700 [D loss: 0.704676, acc.: 31.25%] [G loss: 0.681190, acc.: 0.59%]\n",
            "epoch 4750 [D loss: 0.686691, acc.: 54.17%] [G loss: 0.708337, acc.: 0.50%]\n",
            "epoch 4800 [D loss: 0.696189, acc.: 43.75%] [G loss: 0.668158, acc.: 0.72%]\n",
            "WARNING:tensorflow:Compiled the loaded model, but the compiled metrics have yet to be built. `model.compile_metrics` will be empty until you train or evaluate the model.\n",
            "epoch 4850 [D loss: 0.700014, acc.: 47.92%] [G loss: 0.687344, acc.: 0.47%]\n",
            "WARNING:tensorflow:Compiled the loaded model, but the compiled metrics have yet to be built. `model.compile_metrics` will be empty until you train or evaluate the model.\n",
            "epoch 4900 [D loss: 0.704899, acc.: 33.33%] [G loss: 0.694147, acc.: 0.50%]\n",
            "epoch 4950 [D loss: 0.694432, acc.: 43.75%] [G loss: 0.678323, acc.: 0.59%]\n",
            "epoch 5000 [D loss: 0.693699, acc.: 43.75%] [G loss: 0.689558, acc.: 0.44%]\n",
            "WARNING:tensorflow:Compiled the loaded model, but the compiled metrics have yet to be built. `model.compile_metrics` will be empty until you train or evaluate the model.\n",
            "epoch 5050 [D loss: 0.691779, acc.: 54.17%] [G loss: 0.684064, acc.: 0.62%]\n",
            "WARNING:tensorflow:Compiled the loaded model, but the compiled metrics have yet to be built. `model.compile_metrics` will be empty until you train or evaluate the model.\n",
            "epoch 5100 [D loss: 0.694700, acc.: 66.67%] [G loss: 0.705975, acc.: 0.41%]\n",
            "epoch 5150 [D loss: 0.684269, acc.: 72.92%] [G loss: 0.697029, acc.: 0.44%]\n",
            "epoch 5200 [D loss: 0.681446, acc.: 75.00%] [G loss: 0.695803, acc.: 0.50%]\n",
            "epoch 5250 [D loss: 0.692597, acc.: 52.08%] [G loss: 0.694817, acc.: 0.47%]\n",
            "epoch 5300 [D loss: 0.684963, acc.: 64.58%] [G loss: 0.700011, acc.: 0.44%]\n",
            "epoch 5350 [D loss: 0.685206, acc.: 70.83%] [G loss: 0.714283, acc.: 0.38%]\n",
            "epoch 5400 [D loss: 0.685277, acc.: 66.67%] [G loss: 0.701612, acc.: 0.44%]\n",
            "epoch 5450 [D loss: 0.689553, acc.: 56.25%] [G loss: 0.698800, acc.: 0.47%]\n",
            "WARNING:tensorflow:Compiled the loaded model, but the compiled metrics have yet to be built. `model.compile_metrics` will be empty until you train or evaluate the model.\n",
            "epoch 5500 [D loss: 0.692353, acc.: 43.75%] [G loss: 0.703511, acc.: 0.44%]\n",
            "epoch 5550 [D loss: 0.691583, acc.: 58.33%] [G loss: 0.712308, acc.: 0.31%]\n",
            "WARNING:tensorflow:Compiled the loaded model, but the compiled metrics have yet to be built. `model.compile_metrics` will be empty until you train or evaluate the model.\n",
            "epoch 5600 [D loss: 0.693390, acc.: 56.25%] [G loss: 0.704412, acc.: 0.38%]\n",
            "epoch 5650 [D loss: 0.693396, acc.: 54.17%] [G loss: 0.691296, acc.: 0.50%]\n",
            "epoch 5700 [D loss: 0.696697, acc.: 50.00%] [G loss: 0.699298, acc.: 0.44%]\n",
            "epoch 5750 [D loss: 0.702311, acc.: 47.92%] [G loss: 0.690690, acc.: 0.59%]\n",
            "WARNING:tensorflow:Compiled the loaded model, but the compiled metrics have yet to be built. `model.compile_metrics` will be empty until you train or evaluate the model.\n",
            "epoch 5800 [D loss: 0.693047, acc.: 56.25%] [G loss: 0.696203, acc.: 0.44%]\n",
            "epoch 5850 [D loss: 0.698970, acc.: 60.42%] [G loss: 0.716817, acc.: 0.28%]\n",
            "epoch 5900 [D loss: 0.681840, acc.: 64.58%] [G loss: 0.703374, acc.: 0.41%]\n",
            "epoch 5950 [D loss: 0.697211, acc.: 58.33%] [G loss: 0.688908, acc.: 0.66%]\n",
            "WARNING:tensorflow:Compiled the loaded model, but the compiled metrics have yet to be built. `model.compile_metrics` will be empty until you train or evaluate the model.\n",
            "epoch 6000 [D loss: 0.683195, acc.: 60.42%] [G loss: 0.693562, acc.: 0.47%]\n",
            "WARNING:tensorflow:Compiled the loaded model, but the compiled metrics have yet to be built. `model.compile_metrics` will be empty until you train or evaluate the model.\n",
            "epoch 6050 [D loss: 0.683691, acc.: 64.58%] [G loss: 0.702314, acc.: 0.47%]\n",
            "WARNING:tensorflow:Compiled the loaded model, but the compiled metrics have yet to be built. `model.compile_metrics` will be empty until you train or evaluate the model.\n",
            "epoch 6100 [D loss: 0.691338, acc.: 56.25%] [G loss: 0.709395, acc.: 0.41%]\n",
            "WARNING:tensorflow:Compiled the loaded model, but the compiled metrics have yet to be built. `model.compile_metrics` will be empty until you train or evaluate the model.\n",
            "epoch 6150 [D loss: 0.698504, acc.: 52.08%] [G loss: 0.700118, acc.: 0.44%]\n",
            "WARNING:tensorflow:Compiled the loaded model, but the compiled metrics have yet to be built. `model.compile_metrics` will be empty until you train or evaluate the model.\n",
            "epoch 6200 [D loss: 0.700596, acc.: 52.08%] [G loss: 0.702892, acc.: 0.41%]\n",
            "WARNING:tensorflow:Compiled the loaded model, but the compiled metrics have yet to be built. `model.compile_metrics` will be empty until you train or evaluate the model.\n",
            "epoch 6250 [D loss: 0.697453, acc.: 45.83%] [G loss: 0.702324, acc.: 0.47%]\n",
            "WARNING:tensorflow:Compiled the loaded model, but the compiled metrics have yet to be built. `model.compile_metrics` will be empty until you train or evaluate the model.\n",
            "epoch 6300 [D loss: 0.693806, acc.: 60.42%] [G loss: 0.707209, acc.: 0.41%]\n",
            "WARNING:tensorflow:Compiled the loaded model, but the compiled metrics have yet to be built. `model.compile_metrics` will be empty until you train or evaluate the model.\n",
            "epoch 6350 [D loss: 0.691963, acc.: 52.08%] [G loss: 0.702362, acc.: 0.41%]\n",
            "WARNING:tensorflow:Compiled the loaded model, but the compiled metrics have yet to be built. `model.compile_metrics` will be empty until you train or evaluate the model.\n",
            "epoch 6400 [D loss: 0.692306, acc.: 56.25%] [G loss: 0.697372, acc.: 0.34%]\n",
            "WARNING:tensorflow:Compiled the loaded model, but the compiled metrics have yet to be built. `model.compile_metrics` will be empty until you train or evaluate the model.\n",
            "epoch 6450 [D loss: 0.683153, acc.: 66.67%] [G loss: 0.702327, acc.: 0.34%]\n",
            "WARNING:tensorflow:Compiled the loaded model, but the compiled metrics have yet to be built. `model.compile_metrics` will be empty until you train or evaluate the model.\n",
            "epoch 6500 [D loss: 0.689108, acc.: 60.42%] [G loss: 0.695799, acc.: 0.47%]\n",
            "WARNING:tensorflow:Compiled the loaded model, but the compiled metrics have yet to be built. `model.compile_metrics` will be empty until you train or evaluate the model.\n",
            "epoch 6550 [D loss: 0.695708, acc.: 52.08%] [G loss: 0.695405, acc.: 0.50%]\n",
            "epoch 6600 [D loss: 0.701526, acc.: 45.83%] [G loss: 0.682562, acc.: 0.47%]\n",
            "epoch 6650 [D loss: 0.695379, acc.: 41.67%] [G loss: 0.702080, acc.: 0.38%]\n",
            "epoch 6700 [D loss: 0.705765, acc.: 41.67%] [G loss: 0.680838, acc.: 0.69%]\n",
            "epoch 6750 [D loss: 0.685370, acc.: 60.42%] [G loss: 0.696524, acc.: 0.59%]\n",
            "WARNING:tensorflow:Compiled the loaded model, but the compiled metrics have yet to be built. `model.compile_metrics` will be empty until you train or evaluate the model.\n",
            "epoch 6800 [D loss: 0.694585, acc.: 45.83%] [G loss: 0.699138, acc.: 0.34%]\n",
            "epoch 6850 [D loss: 0.698573, acc.: 50.00%] [G loss: 0.674482, acc.: 0.59%]\n",
            "epoch 6900 [D loss: 0.705906, acc.: 31.25%] [G loss: 0.679685, acc.: 0.75%]\n",
            "WARNING:tensorflow:Compiled the loaded model, but the compiled metrics have yet to be built. `model.compile_metrics` will be empty until you train or evaluate the model.\n",
            "epoch 6950 [D loss: 0.696154, acc.: 37.50%] [G loss: 0.682864, acc.: 0.59%]\n",
            "epoch 7000 [D loss: 0.681091, acc.: 66.67%] [G loss: 0.692076, acc.: 0.53%]\n",
            "WARNING:tensorflow:Compiled the loaded model, but the compiled metrics have yet to be built. `model.compile_metrics` will be empty until you train or evaluate the model.\n",
            "epoch 7050 [D loss: 0.692443, acc.: 50.00%] [G loss: 0.711952, acc.: 0.34%]\n",
            "epoch 7100 [D loss: 0.690499, acc.: 50.00%] [G loss: 0.686851, acc.: 0.56%]\n",
            "epoch 7150 [D loss: 0.705566, acc.: 41.67%] [G loss: 0.685434, acc.: 0.50%]\n",
            "epoch 7200 [D loss: 0.694547, acc.: 56.25%] [G loss: 0.692872, acc.: 0.50%]\n",
            "WARNING:tensorflow:Compiled the loaded model, but the compiled metrics have yet to be built. `model.compile_metrics` will be empty until you train or evaluate the model.\n",
            "epoch 7250 [D loss: 0.691329, acc.: 43.75%] [G loss: 0.689613, acc.: 0.56%]\n",
            "WARNING:tensorflow:Compiled the loaded model, but the compiled metrics have yet to be built. `model.compile_metrics` will be empty until you train or evaluate the model.\n",
            "epoch 7300 [D loss: 0.690411, acc.: 43.75%] [G loss: 0.689859, acc.: 0.50%]\n",
            "WARNING:tensorflow:Compiled the loaded model, but the compiled metrics have yet to be built. `model.compile_metrics` will be empty until you train or evaluate the model.\n",
            "epoch 7350 [D loss: 0.685432, acc.: 56.25%] [G loss: 0.692156, acc.: 0.50%]\n",
            "WARNING:tensorflow:Compiled the loaded model, but the compiled metrics have yet to be built. `model.compile_metrics` will be empty until you train or evaluate the model.\n",
            "epoch 7400 [D loss: 0.695201, acc.: 43.75%] [G loss: 0.693086, acc.: 0.59%]\n",
            "epoch 7450 [D loss: 0.701323, acc.: 43.75%] [G loss: 0.693530, acc.: 0.59%]\n",
            "epoch 7500 [D loss: 0.687019, acc.: 58.33%] [G loss: 0.713024, acc.: 0.31%]\n",
            "epoch 7550 [D loss: 0.690304, acc.: 60.42%] [G loss: 0.713638, acc.: 0.31%]\n",
            "epoch 7600 [D loss: 0.690929, acc.: 52.08%] [G loss: 0.690563, acc.: 0.59%]\n",
            "WARNING:tensorflow:Compiled the loaded model, but the compiled metrics have yet to be built. `model.compile_metrics` will be empty until you train or evaluate the model.\n",
            "epoch 7650 [D loss: 0.691212, acc.: 52.08%] [G loss: 0.694757, acc.: 0.47%]\n",
            "epoch 7700 [D loss: 0.695337, acc.: 43.75%] [G loss: 0.705317, acc.: 0.34%]\n",
            "epoch 7750 [D loss: 0.689208, acc.: 60.42%] [G loss: 0.684213, acc.: 0.59%]\n",
            "epoch 7800 [D loss: 0.695786, acc.: 45.83%] [G loss: 0.694977, acc.: 0.50%]\n",
            "epoch 7850 [D loss: 0.696674, acc.: 41.67%] [G loss: 0.691636, acc.: 0.44%]\n",
            "WARNING:tensorflow:Compiled the loaded model, but the compiled metrics have yet to be built. `model.compile_metrics` will be empty until you train or evaluate the model.\n",
            "epoch 7900 [D loss: 0.704212, acc.: 52.08%] [G loss: 0.694218, acc.: 0.47%]\n",
            "WARNING:tensorflow:Compiled the loaded model, but the compiled metrics have yet to be built. `model.compile_metrics` will be empty until you train or evaluate the model.\n",
            "epoch 7950 [D loss: 0.688809, acc.: 56.25%] [G loss: 0.688884, acc.: 0.50%]\n"
          ],
          "name": "stdout"
        }
      ]
    },
    {
      "cell_type": "code",
      "metadata": {
        "colab": {
          "base_uri": "https://localhost:8080/",
          "height": 294
        },
        "id": "GgtYDmOSi38X",
        "outputId": "2a143c70-6307-41c7-c0dd-0db05684b94f"
      },
      "source": [
        "# when to stop: once “good enough” images can be generated, \n",
        "# the subjective quality of the images may then begin to vary, improve, or even degrade with subsequent updates.\n",
        "from typing import List\n",
        "\n",
        "def plot_metric_general(graphs: List[np.ndarray], labels: List[str]) -> None:\n",
        "    import matplotlib.pyplot as plt\n",
        "    epochs = range(1, graphs[0].shape[0] + 1)\n",
        "    plt.xlabel(\"Iterations\")\n",
        "    plt.title('Gan')\n",
        "    for i in range(len(labels)):\n",
        "        plt.plot(epochs, graphs[i])\n",
        "    plt.legend(labels)\n",
        "    plt.show()\n",
        "\n",
        "def moving_average(x, w):\n",
        "    return np.convolve(x, np.ones(w), 'valid') / w\n",
        "  \n",
        "d_losses_smooth, d_fake_accuracies_smooth, d_real_accuracies_smooth = moving_average(d_losses.reshape((epochs)), 9), moving_average(d_fake_accuracies.reshape((epochs)), 9), moving_average(d_real_accuracies.reshape((epochs)), 9)\n",
        "\n",
        "plot_metric_general([d_losses_smooth, d_fake_accuracies_smooth, d_real_accuracies_smooth], ['d_losses_smooth', 'd_fake_accuracies_smooth', 'd_real_accuracies_smooth'])\n",
        "# we can see aroud 800 epochs d_fake_accuracies=d_real_accuracies=0.5 and after that it degragates "
      ],
      "execution_count": 14,
      "outputs": [
        {
          "output_type": "display_data",
          "data": {
            "image/png": "[encoded data removed]",
            "text/plain": [
              "<Figure size 432x288 with 1 Axes>"
            ]
          },
          "metadata": {
            "tags": [],
            "needs_background": "light"
          }
        }
      ]
    },
    {
      "cell_type": "code",
      "metadata": {
        "colab": {
          "base_uri": "https://localhost:8080/",
          "height": 294
        },
        "id": "cG99IS2rAara",
        "outputId": "63773dfa-f294-47df-dfdf-878d76e7f437"
      },
      "source": [
        "d_losses_smooth, d_fake_accuracies_smooth, d_real_accuracies_smooth = moving_average(d_losses.reshape((epochs)), 5), moving_average(d_fake_accuracies.reshape((epochs)), 5), moving_average(d_real_accuracies.reshape((epochs)), 5)\n",
        "plot_metric_general([d_losses_smooth[:2000], d_fake_accuracies_smooth[:2000], d_real_accuracies_smooth[:2000]], ['d_losses_smooth', 'd_fake_accuracies_smooth', 'd_real_accuracies_smooth'])\n",
        "# we can see aroud 800 iteration d_fake_accuracies=d_real_accuracies=0.5 and after that they wobbles one against the other"
      ],
      "execution_count": 15,
      "outputs": [
        {
          "output_type": "display_data",
          "data": {
            "image/png": "[encoded data removed]",
            "text/plain": [
              "<Figure size 432x288 with 1 Axes>"
            ]
          },
          "metadata": {
            "tags": [],
            "needs_background": "light"
          }
        }
      ]
    },
    {
      "cell_type": "code",
      "metadata": {
        "id": "rZD58LobV8L0"
      },
      "source": [
        "# import matplotlib.pyplot as plt\n",
        "# def show_plot(arr):\n",
        "#   x = range(arr.shape[0])\n",
        "#   plt.plot(x, arr)"
      ],
      "execution_count": 16,
      "outputs": []
    },
    {
      "cell_type": "code",
      "metadata": {
        "id": "vXiZVB6zZPGW",
        "colab": {
          "base_uri": "https://localhost:8080/",
          "height": 294
        },
        "outputId": "e3c808a0-aba0-4d2c-d76f-40ef8ae260e1"
      },
      "source": [
        "g_losses_smooth, d_losses_smooth = moving_average(g_losses.reshape((epochs)), 3), moving_average(d_losses.reshape((epochs)), 3)\n",
        "# graph describing the loss of the generator and the discriminator\n",
        "# models go “back and forth” with their losses, there was no a consistent leader\n",
        "plot_metric_general([g_losses_smooth, d_losses_smooth], ['g_losses', 'd_losses'])"
      ],
      "execution_count": 17,
      "outputs": [
        {
          "output_type": "display_data",
          "data": {
            "image/png": "[encoded data removed]",
            "text/plain": [
              "<Figure size 432x288 with 1 Axes>"
            ]
          },
          "metadata": {
            "tags": [],
            "needs_background": "light"
          }
        }
      ]
    },
    {
      "cell_type": "code",
      "metadata": {
        "id": "ItVAaN_UYd47"
      },
      "source": [
        "# show_plot(d_accuracies)"
      ],
      "execution_count": 18,
      "outputs": []
    },
    {
      "cell_type": "code",
      "metadata": {
        "id": "z9lcb38pB5lk"
      },
      "source": [
        "# show_plot(g_accuracies)\n"
      ],
      "execution_count": 19,
      "outputs": []
    },
    {
      "cell_type": "code",
      "metadata": {
        "colab": {
          "base_uri": "https://localhost:8080/"
        },
        "id": "iC6QsE9ZZm65",
        "outputId": "105f90da-d1a0-45a9-a3c5-a65528376914"
      },
      "source": [
        "X_train = diab_df.values\n",
        "y_real = np.ones((X_train.shape[0], 1))\n",
        "\n",
        "# evaluation experiment on diabetes\n",
        "print ('real evaluation experiment on all data set')\n",
        "_, acc_real = gan.discriminator.evaluate(X_train, y_real, verbose=1)\n",
        "y_fake = np.zeros((100, 1))\n",
        "noise = np.random.uniform(-1, 1, size=(100, gan.latent_dim))\n",
        "x_fake =gan.generator.predict(noise)\n",
        "print ('fake evaluation experiment on 100 samples')\n",
        "_, acc_facke = gan.discriminator.evaluate(x_fake, y_fake, verbose=1)"
      ],
      "execution_count": 20,
      "outputs": [
        {
          "output_type": "stream",
          "text": [
            "real evaluation experiment on all data set\n",
            "24/24 [==============================] - 0s 2ms/step - loss: 0.6932 - accuracy: 0.5117\n",
            "fake evaluation experiment on 100 samples\n",
            "4/4 [==============================] - 0s 4ms/step - loss: 0.6909 - accuracy: 0.4700\n"
          ],
          "name": "stdout"
        }
      ]
    },
    {
      "cell_type": "markdown",
      "metadata": {
        "id": "5ETSUwhkeF3b"
      },
      "source": [
        "# Evaluate goodness of generated samples \n",
        "how to Use basic measures (e.g., Euclidean distance, basic visualization) determine whether the samples that fooled the detector are indeed similar to some of the original data\n",
        "\n",
        "1- we can calculate the Gausian distribution of each column and check how close it is to real sample distribution"
      ]
    },
    {
      "cell_type": "code",
      "metadata": {
        "colab": {
          "base_uri": "https://localhost:8080/"
        },
        "id": "ANqco-I_pj4d",
        "outputId": "a7783a10-6325-4a52-8d9c-bc03fb976bc9"
      },
      "source": [
        "gan.generator.save('generator_model_5000.h5')"
      ],
      "execution_count": 21,
      "outputs": [
        {
          "output_type": "stream",
          "text": [
            "WARNING:tensorflow:Compiled the loaded model, but the compiled metrics have yet to be built. `model.compile_metrics` will be empty until you train or evaluate the model.\n"
          ],
          "name": "stdout"
        }
      ]
    },
    {
      "cell_type": "code",
      "metadata": {
        "colab": {
          "base_uri": "https://localhost:8080/"
        },
        "id": "BgSoIHeSmxyf",
        "outputId": "bf0dbbba-0d21-4166-d656-a23fbfa4263b"
      },
      "source": [
        "# we can check for models checkpoints produced good generative samples\n",
        "loaded_generator = tf.keras.models.load_model('generator_model_5000.h5')\n",
        "noise = np.random.uniform(-1, 1, size=(100, gan.latent_dim))\n",
        "x_fake = loaded_generator.predict(noise)\n",
        "# print('x_fake \\n', x_fake)\n",
        "print ('fake loaded_generator evaluation experiment on 100 samples')\n",
        "_, acc_facke = gan.discriminator.evaluate(x_fake, y_fake, verbose=1)\n"
      ],
      "execution_count": 22,
      "outputs": [
        {
          "output_type": "stream",
          "text": [
            "WARNING:tensorflow:No training configuration found in the save file, so the model was *not* compiled. Compile it manually.\n",
            "fake loaded_generator evaluation experiment on 100 samples\n",
            "4/4 [==============================] - 0s 4ms/step - loss: 0.6922 - accuracy: 0.5400\n"
          ],
          "name": "stdout"
        }
      ]
    }
  ]
}