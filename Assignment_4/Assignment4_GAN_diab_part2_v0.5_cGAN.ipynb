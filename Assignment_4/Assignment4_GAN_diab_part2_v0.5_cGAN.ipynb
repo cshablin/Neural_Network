{
  "nbformat": 4,
  "nbformat_minor": 0,
  "metadata": {
    "colab": {
      "name": "Assignment4_GAN_diab_part2_v0.5_cGAN.ipynb",
      "provenance": [],
      "collapsed_sections": []
    },
    "kernelspec": {
      "name": "python3",
      "display_name": "Python 3"
    },
    "language_info": {
      "name": "python"
    },
    "accelerator": "GPU"
  },
  "cells": [
    {
      "cell_type": "code",
      "metadata": {
        "id": "4kmcxRzCD1nh"
      },
      "source": [
        "import pandas as pd\n",
        "import numpy as np\n",
        "from scipy.io import arff\n",
        "import tensorflow as tf\n",
        "from tensorflow.keras import layers, backend \n",
        "from sklearn.ensemble import RandomForestClassifier\n",
        "from sklearn.metrics import confusion_matrix\n",
        "from sklearn.metrics import classification_report\n",
        "from sklearn.model_selection import GridSearchCV\n",
        "from keras.models import Sequential, Model\n",
        "from keras.layers import Dense, Dropout, Input, concatenate, BatchNormalization, LeakyReLU, Flatten\n",
        "import joblib\n",
        "\n",
        "import time\n",
        "from typing import Tuple, List\n",
        "from sklearn.preprocessing import OneHotEncoder, MinMaxScaler"
      ],
      "execution_count": null,
      "outputs": []
    },
    {
      "cell_type": "code",
      "metadata": {
        "colab": {
          "base_uri": "https://localhost:8080/"
        },
        "id": "cicvn2rxESII",
        "outputId": "5afd12f3-df37-471d-8b34-bd5e20ec623c"
      },
      "source": [
        "from google.colab import drive \n",
        "drive.mount('/content/gdrive')"
      ],
      "execution_count": null,
      "outputs": [
        {
          "output_type": "stream",
          "text": [
            "Drive already mounted at /content/gdrive; to attempt to forcibly remount, call drive.mount(\"/content/gdrive\", force_remount=True).\n"
          ],
          "name": "stdout"
        }
      ]
    },
    {
      "cell_type": "code",
      "metadata": {
        "id": "ORwi0IQ3WksA"
      },
      "source": [
        "def split_df_to_train_val(df, ratio):\n",
        "    mask = np.random.rand(len(df)) < ratio\n",
        "    df_train = df[mask]\n",
        "    df_val = df[~mask]\n",
        "    return df_train, df_val"
      ],
      "execution_count": null,
      "outputs": []
    },
    {
      "cell_type": "code",
      "metadata": {
        "colab": {
          "base_uri": "https://localhost:8080/",
          "height": 204
        },
        "id": "63ihYoNGWGIQ",
        "outputId": "9369bdd5-ef82-4a0a-d9a1-715871c9c740"
      },
      "source": [
        "diab_arf = arff.loadarff('gdrive/MyDrive/DL/Assignment_4/diabetes.arff')\n",
        "diab_df = pd.DataFrame(diab_arf[0])\n",
        "diab_df.replace(to_replace=b'tested_negative', value=-1, inplace=True)\n",
        "diab_df.replace(to_replace=b'tested_positive', value=1, inplace=True)\n",
        "# the values must be scaled to the range [-1,1] to match the output of the generator model\n",
        "def scaler(df):\n",
        "  for column in df:\n",
        "    max = df[column].max()\n",
        "    min = df[column].min()\n",
        "    col = 2*((df[column] - min)/(max - min)) - 1\n",
        "    df[column] = col\n",
        "  return df\n",
        "diab_df = scaler(diab_df)\n",
        "diab_df.head()"
      ],
      "execution_count": null,
      "outputs": [
        {
          "output_type": "execute_result",
          "data": {
            "text/html": [
              "<div>\n",
              "<style scoped>\n",
              "    .dataframe tbody tr th:only-of-type {\n",
              "        vertical-align: middle;\n",
              "    }\n",
              "\n",
              "    .dataframe tbody tr th {\n",
              "        vertical-align: top;\n",
              "    }\n",
              "\n",
              "    .dataframe thead th {\n",
              "        text-align: right;\n",
              "    }\n",
              "</style>\n",
              "<table border=\"1\" class=\"dataframe\">\n",
              "  <thead>\n",
              "    <tr style=\"text-align: right;\">\n",
              "      <th></th>\n",
              "      <th>preg</th>\n",
              "      <th>plas</th>\n",
              "      <th>pres</th>\n",
              "      <th>skin</th>\n",
              "      <th>insu</th>\n",
              "      <th>mass</th>\n",
              "      <th>pedi</th>\n",
              "      <th>age</th>\n",
              "      <th>class</th>\n",
              "    </tr>\n",
              "  </thead>\n",
              "  <tbody>\n",
              "    <tr>\n",
              "      <th>0</th>\n",
              "      <td>-0.294118</td>\n",
              "      <td>0.487437</td>\n",
              "      <td>0.180328</td>\n",
              "      <td>-0.292929</td>\n",
              "      <td>-1.000000</td>\n",
              "      <td>0.001490</td>\n",
              "      <td>-0.531170</td>\n",
              "      <td>-0.033333</td>\n",
              "      <td>1.0</td>\n",
              "    </tr>\n",
              "    <tr>\n",
              "      <th>1</th>\n",
              "      <td>-0.882353</td>\n",
              "      <td>-0.145729</td>\n",
              "      <td>0.081967</td>\n",
              "      <td>-0.414141</td>\n",
              "      <td>-1.000000</td>\n",
              "      <td>-0.207154</td>\n",
              "      <td>-0.766866</td>\n",
              "      <td>-0.666667</td>\n",
              "      <td>-1.0</td>\n",
              "    </tr>\n",
              "    <tr>\n",
              "      <th>2</th>\n",
              "      <td>-0.058824</td>\n",
              "      <td>0.839196</td>\n",
              "      <td>0.049180</td>\n",
              "      <td>-1.000000</td>\n",
              "      <td>-1.000000</td>\n",
              "      <td>-0.305514</td>\n",
              "      <td>-0.492741</td>\n",
              "      <td>-0.633333</td>\n",
              "      <td>1.0</td>\n",
              "    </tr>\n",
              "    <tr>\n",
              "      <th>3</th>\n",
              "      <td>-0.882353</td>\n",
              "      <td>-0.105528</td>\n",
              "      <td>0.081967</td>\n",
              "      <td>-0.535354</td>\n",
              "      <td>-0.777778</td>\n",
              "      <td>-0.162444</td>\n",
              "      <td>-0.923997</td>\n",
              "      <td>-1.000000</td>\n",
              "      <td>-1.0</td>\n",
              "    </tr>\n",
              "    <tr>\n",
              "      <th>4</th>\n",
              "      <td>-1.000000</td>\n",
              "      <td>0.376884</td>\n",
              "      <td>-0.344262</td>\n",
              "      <td>-0.292929</td>\n",
              "      <td>-0.602837</td>\n",
              "      <td>0.284650</td>\n",
              "      <td>0.887276</td>\n",
              "      <td>-0.600000</td>\n",
              "      <td>1.0</td>\n",
              "    </tr>\n",
              "  </tbody>\n",
              "</table>\n",
              "</div>"
            ],
            "text/plain": [
              "       preg      plas      pres      skin  ...      mass      pedi       age  class\n",
              "0 -0.294118  0.487437  0.180328 -0.292929  ...  0.001490 -0.531170 -0.033333    1.0\n",
              "1 -0.882353 -0.145729  0.081967 -0.414141  ... -0.207154 -0.766866 -0.666667   -1.0\n",
              "2 -0.058824  0.839196  0.049180 -1.000000  ... -0.305514 -0.492741 -0.633333    1.0\n",
              "3 -0.882353 -0.105528  0.081967 -0.535354  ... -0.162444 -0.923997 -1.000000   -1.0\n",
              "4 -1.000000  0.376884 -0.344262 -0.292929  ...  0.284650  0.887276 -0.600000    1.0\n",
              "\n",
              "[5 rows x 9 columns]"
            ]
          },
          "metadata": {
            "tags": []
          },
          "execution_count": 170
        }
      ]
    },
    {
      "cell_type": "code",
      "metadata": {
        "colab": {
          "base_uri": "https://localhost:8080/",
          "height": 204
        },
        "id": "-Du89EeNWrKZ",
        "outputId": "659a9e6a-7e85-4459-ebb4-852d03cc765b"
      },
      "source": [
        "df_train, df_test = split_df_to_train_val(diab_df, 0.7)\n",
        "y_train = df_train.pop('class')\n",
        "y_test = df_test.pop('class')\n",
        "\n",
        "df_train.head()"
      ],
      "execution_count": null,
      "outputs": [
        {
          "output_type": "execute_result",
          "data": {
            "text/html": [
              "<div>\n",
              "<style scoped>\n",
              "    .dataframe tbody tr th:only-of-type {\n",
              "        vertical-align: middle;\n",
              "    }\n",
              "\n",
              "    .dataframe tbody tr th {\n",
              "        vertical-align: top;\n",
              "    }\n",
              "\n",
              "    .dataframe thead th {\n",
              "        text-align: right;\n",
              "    }\n",
              "</style>\n",
              "<table border=\"1\" class=\"dataframe\">\n",
              "  <thead>\n",
              "    <tr style=\"text-align: right;\">\n",
              "      <th></th>\n",
              "      <th>preg</th>\n",
              "      <th>plas</th>\n",
              "      <th>pres</th>\n",
              "      <th>skin</th>\n",
              "      <th>insu</th>\n",
              "      <th>mass</th>\n",
              "      <th>pedi</th>\n",
              "      <th>age</th>\n",
              "    </tr>\n",
              "  </thead>\n",
              "  <tbody>\n",
              "    <tr>\n",
              "      <th>0</th>\n",
              "      <td>-0.294118</td>\n",
              "      <td>0.487437</td>\n",
              "      <td>0.180328</td>\n",
              "      <td>-0.292929</td>\n",
              "      <td>-1.000000</td>\n",
              "      <td>0.001490</td>\n",
              "      <td>-0.531170</td>\n",
              "      <td>-0.033333</td>\n",
              "    </tr>\n",
              "    <tr>\n",
              "      <th>1</th>\n",
              "      <td>-0.882353</td>\n",
              "      <td>-0.145729</td>\n",
              "      <td>0.081967</td>\n",
              "      <td>-0.414141</td>\n",
              "      <td>-1.000000</td>\n",
              "      <td>-0.207154</td>\n",
              "      <td>-0.766866</td>\n",
              "      <td>-0.666667</td>\n",
              "    </tr>\n",
              "    <tr>\n",
              "      <th>2</th>\n",
              "      <td>-0.058824</td>\n",
              "      <td>0.839196</td>\n",
              "      <td>0.049180</td>\n",
              "      <td>-1.000000</td>\n",
              "      <td>-1.000000</td>\n",
              "      <td>-0.305514</td>\n",
              "      <td>-0.492741</td>\n",
              "      <td>-0.633333</td>\n",
              "    </tr>\n",
              "    <tr>\n",
              "      <th>3</th>\n",
              "      <td>-0.882353</td>\n",
              "      <td>-0.105528</td>\n",
              "      <td>0.081967</td>\n",
              "      <td>-0.535354</td>\n",
              "      <td>-0.777778</td>\n",
              "      <td>-0.162444</td>\n",
              "      <td>-0.923997</td>\n",
              "      <td>-1.000000</td>\n",
              "    </tr>\n",
              "    <tr>\n",
              "      <th>4</th>\n",
              "      <td>-1.000000</td>\n",
              "      <td>0.376884</td>\n",
              "      <td>-0.344262</td>\n",
              "      <td>-0.292929</td>\n",
              "      <td>-0.602837</td>\n",
              "      <td>0.284650</td>\n",
              "      <td>0.887276</td>\n",
              "      <td>-0.600000</td>\n",
              "    </tr>\n",
              "  </tbody>\n",
              "</table>\n",
              "</div>"
            ],
            "text/plain": [
              "       preg      plas      pres  ...      mass      pedi       age\n",
              "0 -0.294118  0.487437  0.180328  ...  0.001490 -0.531170 -0.033333\n",
              "1 -0.882353 -0.145729  0.081967  ... -0.207154 -0.766866 -0.666667\n",
              "2 -0.058824  0.839196  0.049180  ... -0.305514 -0.492741 -0.633333\n",
              "3 -0.882353 -0.105528  0.081967  ... -0.162444 -0.923997 -1.000000\n",
              "4 -1.000000  0.376884 -0.344262  ...  0.284650  0.887276 -0.600000\n",
              "\n",
              "[5 rows x 8 columns]"
            ]
          },
          "metadata": {
            "tags": []
          },
          "execution_count": 171
        }
      ]
    },
    {
      "cell_type": "code",
      "metadata": {
        "id": "q0dv1dvMkesv"
      },
      "source": [
        "# rf.fit(df_train, y_train)\n",
        "# rf.oob_score_\n",
        "\n",
        "# using cross-validation and grid-search\n",
        "\n",
        "# rf = RandomForestClassifier()\n",
        "# parameters = {\n",
        "#     'max_features': ('auto', 'sqrt', 10, 12, 20, 30),\n",
        "#     'max_depth': (5, 10, 15, None),\n",
        "#     'n_estimators': (100, 200, 500, 1000, 2000)\n",
        "# }\n",
        "# gs_rf = GridSearchCV(estimator=rf, param_grid=parameters, cv=5, n_jobs=-1, verbose=3)\n",
        "# gs_rf.fit(df_train, y_train)\n",
        "\n",
        "# joblib.dump(gs_rf, \"/content/gdrive/MyDrive/DL/Assignment_4/random_forest_diab.joblib\")"
      ],
      "execution_count": null,
      "outputs": []
    },
    {
      "cell_type": "code",
      "metadata": {
        "id": "lFsUxTywGagL"
      },
      "source": [
        "gs_rf = joblib.load(\"/content/gdrive/MyDrive/DL/Assignment_4/random_forest_diab.joblib\")"
      ],
      "execution_count": null,
      "outputs": []
    },
    {
      "cell_type": "code",
      "metadata": {
        "colab": {
          "base_uri": "https://localhost:8080/"
        },
        "id": "kDk6y8VAMQmk",
        "outputId": "c467d872-6a0a-4397-bfe4-807ecbf89f97"
      },
      "source": [
        "gs_rf.best_params_"
      ],
      "execution_count": null,
      "outputs": [
        {
          "output_type": "execute_result",
          "data": {
            "text/plain": [
              "{'max_depth': 5, 'max_features': 'auto', 'n_estimators': 500}"
            ]
          },
          "metadata": {
            "tags": []
          },
          "execution_count": 174
        }
      ]
    },
    {
      "cell_type": "code",
      "metadata": {
        "colab": {
          "base_uri": "https://localhost:8080/"
        },
        "id": "XS3GNQNLTgxw",
        "outputId": "66967ddc-be52-4a4f-af05-7157daea9b63"
      },
      "source": [
        "gs_rf.best_score_"
      ],
      "execution_count": null,
      "outputs": [
        {
          "output_type": "execute_result",
          "data": {
            "text/plain": [
              "0.7571794871794871"
            ]
          },
          "metadata": {
            "tags": []
          },
          "execution_count": 175
        }
      ]
    },
    {
      "cell_type": "code",
      "metadata": {
        "colab": {
          "base_uri": "https://localhost:8080/"
        },
        "id": "V9olZc8EmlH_",
        "outputId": "6841036b-e502-4a8b-ef16-720b1712f404"
      },
      "source": [
        "p = gs_rf.predict(df_test)\n",
        "confusion_matrix(y_test.values, p)"
      ],
      "execution_count": null,
      "outputs": [
        {
          "output_type": "execute_result",
          "data": {
            "text/plain": [
              "array([[156,  15],\n",
              "       [ 16,  63]])"
            ]
          },
          "metadata": {
            "tags": []
          },
          "execution_count": 176
        }
      ]
    },
    {
      "cell_type": "code",
      "metadata": {
        "colab": {
          "base_uri": "https://localhost:8080/"
        },
        "id": "tB33XCTwnp2y",
        "outputId": "a8d7ee40-e23b-4756-d8b4-45dbd7a3fbdf"
      },
      "source": [
        "print(classification_report(y_test.values, p,labels=[1,-1]))"
      ],
      "execution_count": null,
      "outputs": [
        {
          "output_type": "stream",
          "text": [
            "              precision    recall  f1-score   support\n",
            "\n",
            "           1       0.81      0.80      0.80        79\n",
            "          -1       0.91      0.91      0.91       171\n",
            "\n",
            "    accuracy                           0.88       250\n",
            "   macro avg       0.86      0.85      0.86       250\n",
            "weighted avg       0.88      0.88      0.88       250\n",
            "\n"
          ],
          "name": "stdout"
        }
      ]
    },
    {
      "cell_type": "code",
      "metadata": {
        "id": "Mm5gwJr9pmA4"
      },
      "source": [
        "# joblib.dump(gs_rf, \"/content/gdrive/MyDrive/DL/Assignment_4/random_forest_cred.joblib\")\n",
        "# gs_rf = joblib.load(\"/content/gdrive/MyDrive/DL/Assignment_4/random_forest_cred.joblib\")\n",
        "\n"
      ],
      "execution_count": null,
      "outputs": []
    },
    {
      "cell_type": "code",
      "metadata": {
        "id": "I1rc_ONj6asZ"
      },
      "source": [
        "\n",
        "\n",
        "class GAN:\n",
        "\n",
        "    def __init__(self, black_box_model):\n",
        "        self.latent_dim = 10\n",
        "        self.generator_vector_size = 8\n",
        "        self.discriminator_input_shape = (self.generator_vector_size,)\n",
        "\n",
        "        self.generator = self.make_generator_model()\n",
        "        self.discriminator = self.make_discriminator_model()\n",
        "        self.gan = self.combime_gan(self.generator, self.discriminator)\n",
        "        # self.gs_rf = joblib.load(\"random_forest_diab.joblib\")\n",
        "        self.gs_rf = black_box_model\n",
        "\n",
        "\n",
        "    def combime_gan(self, g_model, d_model):\n",
        "        # make weights in the discriminator not trainable\n",
        "        d_model.trainable = False\n",
        "        g_input = Input(shape=(self.latent_dim,))\n",
        "        c_input = Input(shape=(1,))\n",
        "        batch_mean = Input(shape=(1,))\n",
        "        batch_std = Input(shape=(1,))  \n",
        "\n",
        "        g_sample = g_model([g_input, c_input, batch_mean, batch_std])\n",
        "        d_desision = d_model([g_sample, c_input, c_input, batch_mean, batch_std])\n",
        "        gan_model = Model([g_input, c_input, batch_mean, batch_std], d_desision)\n",
        "        # opt = tf.keras.optimizers.Adam(lr=0.0002, beta_1=0.7)\n",
        "        opt = tf.keras.optimizers.Adam(lr=0.0002, beta_1=0.95)\n",
        "        gan_model.compile(loss='binary_crossentropy', optimizer=opt, metrics=['accuracy'])\n",
        "        return gan_model\n",
        "\n",
        "    def make_generator_model(self):\n",
        "        c_input = Input(shape=(1,))\n",
        "        batch_mean = Input(shape=(1,))\n",
        "        batch_std = Input(shape=(1,))\n",
        "        concat_layer_batch = concatenate([c_input, batch_mean, batch_std])\n",
        "        # dense_batch = Dense(30, use_bias=True)(concat_layer_batch)\n",
        "        dense_batch = Dense(10, use_bias=True)(concat_layer_batch)\n",
        "        dense_batch_bn = BatchNormalization()(dense_batch)\n",
        "        dense_batch_lr = LeakyReLU()(dense_batch_bn)\n",
        "        dense_batch_do = Dropout(0.3)(dense_batch_lr)\n",
        "        # dense_batch_2 = Dense(15)(dense_batch_do)\n",
        "        dense_batch_2 = Dense(5)(dense_batch_do)\n",
        "        dense_batch_2_bn = BatchNormalization()(dense_batch_2)\n",
        "        dense_batch_2_lr = LeakyReLU()(dense_batch_2_bn)\n",
        "        dense_batch_2_do = Dropout(0.2)(dense_batch_2_lr)\n",
        "\n",
        "        input_noise = Input(shape=(self.latent_dim,))\n",
        "           \n",
        "        # concat_layer_c = concatenate([input_noise])\n",
        "        dense_1 = Dense(30, use_bias=True)(input_noise)\n",
        "        dense_1_bn = BatchNormalization()(dense_1)\n",
        "        dense_1_lr = LeakyReLU()(dense_1_bn)\n",
        "        dense_1_do = Dropout(0.2)(dense_1_lr)\n",
        "        dense_2 = Dense(15)(dense_1_do)\n",
        "        dense_2_bn = BatchNormalization()(dense_2)\n",
        "        dense_2_lr = LeakyReLU()(dense_2_bn)\n",
        "        dense_2_do = Dropout(0.2)(dense_2_lr)\n",
        "\n",
        "        merge_noise_meta = concatenate([dense_2_do, dense_batch_2_do])\n",
        "\n",
        "        final_layer = Dense(self.generator_vector_size, activation='tanh')(merge_noise_meta)\n",
        "        # concat_layer = concatenate([final_layer, c_input])\n",
        "        model = Model(inputs=[input_noise, c_input, batch_mean, batch_std], outputs=final_layer)\n",
        "\n",
        "        model.summary()\n",
        "        return model\n",
        "\n",
        "    def make_discriminator_model(self):\n",
        "\n",
        "        # input_sample = Input(shape=self.discriminator_input_shape,)\n",
        "        input_sample = Input(shape=self.discriminator_input_shape)\n",
        "        cy1_input = Input(shape=(1,))\n",
        "        cy2_input = Input(shape=(1,))\n",
        "        batch_mean = Input(shape=(1,))\n",
        "        batch_std = Input(shape=(1,))\n",
        "\n",
        "        concat_layer_c = concatenate([input_sample, cy1_input, cy2_input, batch_mean, batch_std])\n",
        "        dense_1 = Dense(32, use_bias=True)(concat_layer_c)\n",
        "        dense_1_lr = LeakyReLU()(dense_1)\n",
        "        dense_1_do = Dropout(0.2)(dense_1_lr)\n",
        "        dense_2 = Dense(16)(dense_1_do)\n",
        "        dense_2_lr = LeakyReLU()(dense_2)\n",
        "        dense_2_do = Dropout(0.2)(dense_2_lr)\n",
        "        flatten = Flatten()(dense_2_do)\n",
        "        final_layer = Dense(1, activation='sigmoid')(flatten)\n",
        "        model = Model(inputs=[input_sample, cy1_input, cy2_input, batch_mean, batch_std], outputs=final_layer)\n",
        "        # opt = tf.keras.optimizers.Adam(lr=0.00015, beta_1=0.5)\n",
        "        # opt = tf.keras.optimizers.Adam(lr=0.0002, beta_1=0.5) # not good \n",
        "        # opt = tf.keras.optimizers.Adam(lr=0.00015, beta_1=0.5) # good\n",
        "        # opt = tf.keras.optimizers.Adam(lr=0.00015, beta_1=0.9)\n",
        "        # opt = tf.keras.optimizers.Adam(lr=0.00015, beta_1=0.9,  beta_2=0.9) # good\n",
        "        # opt = tf.keras.optimizers.Adam(lr=0.00011, beta_1=0.9,  beta_2=0.9) # not good    \n",
        "        #opt = tf.keras.optimizers.Adam(lr=0.00015, beta_1=0.5, beta_2=0.9) # very good for without cMean input\n",
        "        opt = tf.keras.optimizers.Adam(lr=0.0001, beta_1=0.5, beta_2=0.8) # very good for without cMean input\n",
        "        model.compile(loss='binary_crossentropy', optimizer=opt, metrics=['accuracy'])\n",
        "        model.summary()\n",
        "        return model\n",
        "\n",
        "    def generate_real_x_y(self, n_samples: int) -> Tuple[np.ndarray, np.ndarray, np.ndarray, np.ndarray]:\n",
        "        # prepare samples\n",
        "        noise = np.random.uniform(-1, 1, size=(n_samples, self.latent_dim))\n",
        "        c_1 = np.random.random((n_samples, ))\n",
        "        c_1_mean = np.ones((n_samples,)) * np.mean(c_1)\n",
        "        c_1_std = np.ones((n_samples, )) * np.std(c_1)  \n",
        "        samples_1 = self.generator.predict([noise, c_1, c_1_mean, c_1_std])\n",
        "        y_1 = self.gs_rf.predict_proba(samples_1)[:, 0]\n",
        "        valid = np.ones((n_samples, 1))\n",
        "        return samples_1, c_1, y_1, valid\n",
        "\n",
        "    def generate_fake_x_y(self, n_samples: int) -> Tuple[np.ndarray, np.ndarray, np.ndarray, np.ndarray]:\n",
        "        noise = np.random.uniform(-1, 1, size=(n_samples, self.latent_dim))\n",
        "        c_2 = np.random.random((n_samples, ))\n",
        "        c_2_mean = np.ones((n_samples,)) * np.mean(c_2)\n",
        "        c_2_std = np.ones((n_samples, )) * np.std(c_2)    \n",
        "        samples_2 = self.generator.predict([noise, c_2, c_2_mean, c_2_std])\n",
        "        y_2 = self.gs_rf.predict_proba(samples_2)[:, 0]\n",
        "        invalid = np.zeros((n_samples, 1))\n",
        "        return samples_2, y_2, c_2, invalid\n",
        "\n",
        "    def train(self, epochs, batch_size=8):\n",
        "        # (X_train, _), (_, _) = mnist.load_data()\n",
        "        # X_train = X_train / 127.5 - 1.\n",
        "        # X_train = np.expand_dims(X_train, axis=3)\n",
        "        # X_train = df.values\n",
        "        valid = np.ones((batch_size, 1))\n",
        "        invalid = np.zeros((batch_size, 1))\n",
        "        valid_twice = np.ones((batch_size * 2, 1))\n",
        "        # fake = np.zeros((batch_size, 1))\n",
        "        d_losses = np.zeros((epochs, 1))\n",
        "        d_accuracies = np.zeros((epochs, 1))\n",
        "        d_fake_losses = np.zeros((epochs, 1))\n",
        "        d_fake_accuracies = np.zeros((epochs, 1))\n",
        "        d_real_losses = np.zeros((epochs, 1))\n",
        "        d_real_accuracies = np.zeros((epochs, 1))\n",
        "        g_losses = np.zeros((epochs, 1))\n",
        "        g_accuracies = np.zeros((epochs, 1))\n",
        "        best_epoch = 0\n",
        "\n",
        "        d_acc_delta_to_0_5 = 1\n",
        "        losses_delta = 1\n",
        "        real_2_fake_acc_delta = 1\n",
        "        for i, epoch in enumerate(range(epochs)):\n",
        "            # prepare samples\n",
        "            noise = np.random.uniform(-1, 1, size=(batch_size, self.latent_dim))\n",
        "            c_1 = np.random.random((batch_size, ))\n",
        "            c_1_mean = np.ones((batch_size,)) * np.mean(c_1)\n",
        "            c_1_std = np.ones((batch_size, )) * np.std(c_1)\n",
        "            samples_1 = self.generator.predict([noise, c_1, c_1_mean, c_1_std])\n",
        "               \n",
        "            y_1 = self.gs_rf.predict_proba(samples_1)[:, 0]  # evaluate Y via RF classifier take first column confidence\n",
        "            c_2 = np.random.random((batch_size, ))\n",
        "            c_2_mean = np.ones((batch_size,)) * np.mean(c_2)\n",
        "            c_2_std = np.ones((batch_size, )) * np.std(c_2)        \n",
        "            samples_2 = self.generator.predict([noise, c_2, c_2_mean, c_2_std])\n",
        "            y_2 = self.gs_rf.predict_proba(samples_2)[:, 0]  # evaluate Y via RF classifier take first column confidence\n",
        "\n",
        "            # create training set for the discriminator\n",
        "            # swapping places between 'y' and 'c' trains the Discriminator\n",
        "            # to realize that right hand side parameter is fake (and the opposite)\n",
        "            samples, c, y_bb = np.vstack((samples_1, samples_2)), np.concatenate((c_1, y_2), axis=None), np.concatenate((y_1, c_2), axis=None)\n",
        "            # samples, c, y_bb = np.vstack((samples_1, samples_2)), np.vstack((c_1, y_2)), np.vstack((y_1, c_2))\n",
        "            y_1 += np.random.normal(0, 0.25, (batch_size, )) # try to add noise to make it harder on D for real\n",
        "            # y_2 += np.random.normal(0, 0.15, (batch_size, )) # try to add noise to make it harder on D for fake\n",
        "\n",
        "            y_1_mean = np.ones((batch_size,)) * np.mean(y_1)\n",
        "            y_1_std = np.ones((batch_size, )) * np.std(y_1)\n",
        "            c_2_mean = np.ones((batch_size, )) * np.mean(c_2)\n",
        "            c_2_std = np.ones((batch_size, )) * np.std(c_2)\n",
        "            d_loss_half_real, d_acc_half_real = self.discriminator.train_on_batch([samples_1, c_1, y_1,  y_1_mean, y_1_std], valid)\n",
        "            d_loss_half_fake, d_acc_half_fake = self.discriminator.train_on_batch([samples_2, y_2, c_2, c_2_mean, c_2_std], invalid)\n",
        "            d_loss = 0.5 * (d_loss_half_real + d_loss_half_fake)\n",
        "            d_acc = 0.5 * (d_acc_half_real + d_acc_half_fake)\n",
        "\n",
        "            # update discriminator model weights\n",
        "            # d_loss, d_acc = self.discriminator.train_on_batch([samples, c, y_bb], np.vstack((valid, invalid)))\n",
        "\n",
        "            # evaluate discriminator on real examples\n",
        "            samples_real, c_real, y_bb_real, y_real = self.generate_real_x_y(batch_size)\n",
        "            y_bb_mean_real = np.ones((batch_size, )) * np.mean(y_bb_real)\n",
        "            y_bb_std_real = np.ones((batch_size, )) * np.std(y_bb_real)         \n",
        "            d_loss_real, d_acc_real = self.discriminator.evaluate([samples_real, c_real, y_bb_real, y_bb_mean_real, y_bb_std_real], y_real, verbose=0)\n",
        "            # evaluate discriminator on fake examples\n",
        "            samples_fake, c_fake, y_bb_fake, y_fake = self.generate_fake_x_y(batch_size)\n",
        "            y_bb_mean_fake = np.ones((batch_size, )) * np.mean(y_bb_fake)\n",
        "            y_bb_std_fake = np.ones((batch_size, )) * np.std(y_bb_fake)      \n",
        "            d_loss_fake, d_acc_fake = self.discriminator.evaluate([samples_fake, c_fake, y_bb_fake, y_bb_mean_fake, y_bb_std_fake], y_fake, verbose=0)\n",
        "\n",
        "            d_fake_losses[i] = d_loss_fake\n",
        "            d_real_losses[i] = d_loss_real\n",
        "            d_fake_accuracies[i] = d_acc_fake\n",
        "            d_real_accuracies[i] = d_acc_real\n",
        "\n",
        "            # create inverted labels for the fake samples so generator can improve to be 'real'\n",
        "            # update the generator via the discriminator's error\n",
        "            noise = np.random.uniform(-1, 1, size=(batch_size * 2, self.latent_dim))\n",
        "            # c = np.random.normal(0, 1, (batch_size * 2, ))\n",
        "            c = np.random.random((batch_size * 2, ))\n",
        "            c_mean = np.ones((batch_size * 2,)) * np.mean(c)\n",
        "            c_std = np.ones((batch_size * 2, )) * np.std(c)            \n",
        "            g_loss, g_acc = self.gan.train_on_batch([noise, c, c_mean, c_std], valid_twice)\n",
        "\n",
        "            d_losses[i] = d_loss\n",
        "            d_accuracies[i] = d_acc\n",
        "            g_losses[i] = g_loss\n",
        "            g_accuracies[i] = g_acc\n",
        "\n",
        "            if i % 50 == 0:\n",
        "                print(\"epoch %d [D loss: %f, acc.: %.2f%%] [G loss: %f, acc.: %.2f%%]\" % (epoch, d_loss, 100 * d_acc, g_loss, g_acc))\n",
        "                if 800 <= i:\n",
        "                    if abs(g_loss - d_loss) < 0.2: # check that losses converged\n",
        "                        if abs(d_acc - 0.5) < 0.2 and abs( d_acc_fake - d_acc_real) < 0.2 : # save generator model for closest to 0.5 accuracy\n",
        "                            # filename = 'generator_model.h5'\n",
        "                            filename = 'generator_model_%03d.h5' % epoch\n",
        "\n",
        "                            self.generator.save(filename)\n",
        "                            best_epoch = epoch       \n",
        "\n",
        "        print(f'Best epoch: {best_epoch}')\n",
        "        return d_losses, d_accuracies, g_losses, g_accuracies, d_fake_losses, d_real_losses, d_fake_accuracies, d_real_accuracies"
      ],
      "execution_count": null,
      "outputs": []
    },
    {
      "cell_type": "code",
      "metadata": {
        "colab": {
          "base_uri": "https://localhost:8080/"
        },
        "id": "Zq2RyaE2VHCg",
        "outputId": "10d89e02-e5fe-49f4-b69a-199286d408ac"
      },
      "source": [
        "iterations = 4000\n",
        "gan = GAN(gs_rf)\n",
        "d_losses, d_accuracies, g_losses, g_accuracies, d_fake_losses, d_real_losses, d_fake_accuracies, d_real_accuracies = gan.train(epochs=iterations, batch_size=16)"
      ],
      "execution_count": null,
      "outputs": [
        {
          "output_type": "stream",
          "text": [
            "Model: \"model_15\"\n",
            "__________________________________________________________________________________________________\n",
            "Layer (type)                    Output Shape         Param #     Connected to                     \n",
            "==================================================================================================\n",
            "input_66 (InputLayer)           [(None, 1)]          0                                            \n",
            "__________________________________________________________________________________________________\n",
            "input_67 (InputLayer)           [(None, 1)]          0                                            \n",
            "__________________________________________________________________________________________________\n",
            "input_68 (InputLayer)           [(None, 1)]          0                                            \n",
            "__________________________________________________________________________________________________\n",
            "input_69 (InputLayer)           [(None, 10)]         0                                            \n",
            "__________________________________________________________________________________________________\n",
            "concatenate_15 (Concatenate)    (None, 3)            0           input_66[0][0]                   \n",
            "                                                                 input_67[0][0]                   \n",
            "                                                                 input_68[0][0]                   \n",
            "__________________________________________________________________________________________________\n",
            "dense_42 (Dense)                (None, 30)           330         input_69[0][0]                   \n",
            "__________________________________________________________________________________________________\n",
            "dense_40 (Dense)                (None, 10)           40          concatenate_15[0][0]             \n",
            "__________________________________________________________________________________________________\n",
            "batch_normalization_22 (BatchNo (None, 30)           120         dense_42[0][0]                   \n",
            "__________________________________________________________________________________________________\n",
            "batch_normalization_20 (BatchNo (None, 10)           40          dense_40[0][0]                   \n",
            "__________________________________________________________________________________________________\n",
            "leaky_re_lu_32 (LeakyReLU)      (None, 30)           0           batch_normalization_22[0][0]     \n",
            "__________________________________________________________________________________________________\n",
            "leaky_re_lu_30 (LeakyReLU)      (None, 10)           0           batch_normalization_20[0][0]     \n",
            "__________________________________________________________________________________________________\n",
            "dropout_32 (Dropout)            (None, 30)           0           leaky_re_lu_32[0][0]             \n",
            "__________________________________________________________________________________________________\n",
            "dropout_30 (Dropout)            (None, 10)           0           leaky_re_lu_30[0][0]             \n",
            "__________________________________________________________________________________________________\n",
            "dense_43 (Dense)                (None, 15)           465         dropout_32[0][0]                 \n",
            "__________________________________________________________________________________________________\n",
            "dense_41 (Dense)                (None, 5)            55          dropout_30[0][0]                 \n",
            "__________________________________________________________________________________________________\n",
            "batch_normalization_23 (BatchNo (None, 15)           60          dense_43[0][0]                   \n",
            "__________________________________________________________________________________________________\n",
            "batch_normalization_21 (BatchNo (None, 5)            20          dense_41[0][0]                   \n",
            "__________________________________________________________________________________________________\n",
            "leaky_re_lu_33 (LeakyReLU)      (None, 15)           0           batch_normalization_23[0][0]     \n",
            "__________________________________________________________________________________________________\n",
            "leaky_re_lu_31 (LeakyReLU)      (None, 5)            0           batch_normalization_21[0][0]     \n",
            "__________________________________________________________________________________________________\n",
            "dropout_33 (Dropout)            (None, 15)           0           leaky_re_lu_33[0][0]             \n",
            "__________________________________________________________________________________________________\n",
            "dropout_31 (Dropout)            (None, 5)            0           leaky_re_lu_31[0][0]             \n",
            "__________________________________________________________________________________________________\n",
            "concatenate_16 (Concatenate)    (None, 20)           0           dropout_33[0][0]                 \n",
            "                                                                 dropout_31[0][0]                 \n",
            "__________________________________________________________________________________________________\n",
            "dense_44 (Dense)                (None, 8)            168         concatenate_16[0][0]             \n",
            "==================================================================================================\n",
            "Total params: 1,298\n",
            "Trainable params: 1,178\n",
            "Non-trainable params: 120\n",
            "__________________________________________________________________________________________________\n",
            "Model: \"model_16\"\n",
            "__________________________________________________________________________________________________\n",
            "Layer (type)                    Output Shape         Param #     Connected to                     \n",
            "==================================================================================================\n",
            "input_70 (InputLayer)           [(None, 8)]          0                                            \n",
            "__________________________________________________________________________________________________\n",
            "input_71 (InputLayer)           [(None, 1)]          0                                            \n",
            "__________________________________________________________________________________________________\n",
            "input_72 (InputLayer)           [(None, 1)]          0                                            \n",
            "__________________________________________________________________________________________________\n",
            "input_73 (InputLayer)           [(None, 1)]          0                                            \n",
            "__________________________________________________________________________________________________\n",
            "input_74 (InputLayer)           [(None, 1)]          0                                            \n",
            "__________________________________________________________________________________________________\n",
            "concatenate_17 (Concatenate)    (None, 12)           0           input_70[0][0]                   \n",
            "                                                                 input_71[0][0]                   \n",
            "                                                                 input_72[0][0]                   \n",
            "                                                                 input_73[0][0]                   \n",
            "                                                                 input_74[0][0]                   \n",
            "__________________________________________________________________________________________________\n",
            "dense_45 (Dense)                (None, 32)           416         concatenate_17[0][0]             \n",
            "__________________________________________________________________________________________________\n",
            "leaky_re_lu_34 (LeakyReLU)      (None, 32)           0           dense_45[0][0]                   \n",
            "__________________________________________________________________________________________________\n",
            "dropout_34 (Dropout)            (None, 32)           0           leaky_re_lu_34[0][0]             \n",
            "__________________________________________________________________________________________________\n",
            "dense_46 (Dense)                (None, 16)           528         dropout_34[0][0]                 \n",
            "__________________________________________________________________________________________________\n",
            "leaky_re_lu_35 (LeakyReLU)      (None, 16)           0           dense_46[0][0]                   \n",
            "__________________________________________________________________________________________________\n",
            "dropout_35 (Dropout)            (None, 16)           0           leaky_re_lu_35[0][0]             \n",
            "__________________________________________________________________________________________________\n",
            "flatten_5 (Flatten)             (None, 16)           0           dropout_35[0][0]                 \n",
            "__________________________________________________________________________________________________\n",
            "dense_47 (Dense)                (None, 1)            17          flatten_5[0][0]                  \n",
            "==================================================================================================\n",
            "Total params: 961\n",
            "Trainable params: 961\n",
            "Non-trainable params: 0\n",
            "__________________________________________________________________________________________________\n"
          ],
          "name": "stdout"
        },
        {
          "output_type": "stream",
          "text": [
            "/usr/local/lib/python3.7/dist-packages/tensorflow/python/keras/optimizer_v2/optimizer_v2.py:375: UserWarning: The `lr` argument is deprecated, use `learning_rate` instead.\n",
            "  \"The `lr` argument is deprecated, use `learning_rate` instead.\")\n"
          ],
          "name": "stderr"
        },
        {
          "output_type": "stream",
          "text": [
            "epoch 0 [D loss: 0.755136, acc.: 50.00%] [G loss: 0.353983, acc.: 0.94%]\n",
            "epoch 50 [D loss: 0.990485, acc.: 28.12%] [G loss: 0.308148, acc.: 0.97%]\n",
            "epoch 100 [D loss: 0.947419, acc.: 26.56%] [G loss: 0.354660, acc.: 0.97%]\n",
            "epoch 150 [D loss: 0.964145, acc.: 25.00%] [G loss: 0.364250, acc.: 1.00%]\n",
            "epoch 200 [D loss: 0.954555, acc.: 31.25%] [G loss: 0.351824, acc.: 0.94%]\n",
            "epoch 250 [D loss: 1.018837, acc.: 26.56%] [G loss: 0.364741, acc.: 0.97%]\n",
            "epoch 300 [D loss: 1.041871, acc.: 26.56%] [G loss: 0.371773, acc.: 0.97%]\n",
            "epoch 350 [D loss: 0.903649, acc.: 29.69%] [G loss: 0.400118, acc.: 0.88%]\n",
            "epoch 400 [D loss: 1.017617, acc.: 21.88%] [G loss: 0.471266, acc.: 0.94%]\n",
            "epoch 450 [D loss: 0.881209, acc.: 29.69%] [G loss: 0.463569, acc.: 0.81%]\n",
            "epoch 500 [D loss: 0.805244, acc.: 32.81%] [G loss: 0.470823, acc.: 0.84%]\n",
            "epoch 550 [D loss: 0.835650, acc.: 26.56%] [G loss: 0.551184, acc.: 0.78%]\n",
            "epoch 600 [D loss: 0.763763, acc.: 37.50%] [G loss: 0.551605, acc.: 0.72%]\n",
            "epoch 650 [D loss: 0.756152, acc.: 37.50%] [G loss: 0.556639, acc.: 0.75%]\n",
            "epoch 700 [D loss: 0.800787, acc.: 26.56%] [G loss: 0.621632, acc.: 0.72%]\n",
            "epoch 750 [D loss: 0.783923, acc.: 34.38%] [G loss: 0.628066, acc.: 0.69%]\n",
            "epoch 800 [D loss: 0.708420, acc.: 45.31%] [G loss: 0.657355, acc.: 0.50%]\n",
            "epoch 850 [D loss: 0.708860, acc.: 51.56%] [G loss: 0.649932, acc.: 0.62%]\n",
            "WARNING:tensorflow:Compiled the loaded model, but the compiled metrics have yet to be built. `model.compile_metrics` will be empty until you train or evaluate the model.\n",
            "epoch 900 [D loss: 0.731726, acc.: 29.69%] [G loss: 0.602956, acc.: 0.78%]\n",
            "epoch 950 [D loss: 0.710142, acc.: 45.31%] [G loss: 0.683378, acc.: 0.50%]\n",
            "WARNING:tensorflow:Compiled the loaded model, but the compiled metrics have yet to be built. `model.compile_metrics` will be empty until you train or evaluate the model.\n",
            "epoch 1000 [D loss: 0.688869, acc.: 51.56%] [G loss: 0.681554, acc.: 0.59%]\n",
            "WARNING:tensorflow:Compiled the loaded model, but the compiled metrics have yet to be built. `model.compile_metrics` will be empty until you train or evaluate the model.\n",
            "epoch 1050 [D loss: 0.749276, acc.: 35.94%] [G loss: 0.643620, acc.: 0.56%]\n",
            "WARNING:tensorflow:Compiled the loaded model, but the compiled metrics have yet to be built. `model.compile_metrics` will be empty until you train or evaluate the model.\n",
            "epoch 1100 [D loss: 0.701124, acc.: 57.81%] [G loss: 0.704422, acc.: 0.47%]\n",
            "epoch 1150 [D loss: 0.732988, acc.: 46.88%] [G loss: 0.695193, acc.: 0.41%]\n",
            "epoch 1200 [D loss: 0.735355, acc.: 50.00%] [G loss: 0.684504, acc.: 0.47%]\n",
            "epoch 1250 [D loss: 0.676555, acc.: 57.81%] [G loss: 0.689501, acc.: 0.50%]\n",
            "epoch 1300 [D loss: 0.683132, acc.: 54.69%] [G loss: 0.741789, acc.: 0.34%]\n",
            "WARNING:tensorflow:Compiled the loaded model, but the compiled metrics have yet to be built. `model.compile_metrics` will be empty until you train or evaluate the model.\n",
            "epoch 1350 [D loss: 0.705589, acc.: 48.44%] [G loss: 0.683606, acc.: 0.59%]\n",
            "epoch 1400 [D loss: 0.686152, acc.: 56.25%] [G loss: 0.681537, acc.: 0.53%]\n",
            "WARNING:tensorflow:Compiled the loaded model, but the compiled metrics have yet to be built. `model.compile_metrics` will be empty until you train or evaluate the model.\n",
            "epoch 1450 [D loss: 0.676735, acc.: 62.50%] [G loss: 0.672866, acc.: 0.50%]\n",
            "WARNING:tensorflow:Compiled the loaded model, but the compiled metrics have yet to be built. `model.compile_metrics` will be empty until you train or evaluate the model.\n",
            "epoch 1500 [D loss: 0.690915, acc.: 62.50%] [G loss: 0.669330, acc.: 0.66%]\n",
            "WARNING:tensorflow:Compiled the loaded model, but the compiled metrics have yet to be built. `model.compile_metrics` will be empty until you train or evaluate the model.\n",
            "epoch 1550 [D loss: 0.674869, acc.: 64.06%] [G loss: 0.717351, acc.: 0.47%]\n",
            "WARNING:tensorflow:Compiled the loaded model, but the compiled metrics have yet to be built. `model.compile_metrics` will be empty until you train or evaluate the model.\n",
            "epoch 1600 [D loss: 0.724248, acc.: 48.44%] [G loss: 0.722905, acc.: 0.41%]\n",
            "epoch 1650 [D loss: 0.696469, acc.: 50.00%] [G loss: 0.717855, acc.: 0.44%]\n",
            "WARNING:tensorflow:Compiled the loaded model, but the compiled metrics have yet to be built. `model.compile_metrics` will be empty until you train or evaluate the model.\n",
            "epoch 1700 [D loss: 0.691235, acc.: 57.81%] [G loss: 0.695976, acc.: 0.44%]\n",
            "WARNING:tensorflow:Compiled the loaded model, but the compiled metrics have yet to be built. `model.compile_metrics` will be empty until you train or evaluate the model.\n",
            "epoch 1750 [D loss: 0.697617, acc.: 53.12%] [G loss: 0.762129, acc.: 0.34%]\n",
            "WARNING:tensorflow:Compiled the loaded model, but the compiled metrics have yet to be built. `model.compile_metrics` will be empty until you train or evaluate the model.\n",
            "epoch 1800 [D loss: 0.707223, acc.: 53.12%] [G loss: 0.703541, acc.: 0.41%]\n",
            "WARNING:tensorflow:Compiled the loaded model, but the compiled metrics have yet to be built. `model.compile_metrics` will be empty until you train or evaluate the model.\n",
            "epoch 1850 [D loss: 0.734651, acc.: 37.50%] [G loss: 0.696487, acc.: 0.53%]\n",
            "WARNING:tensorflow:Compiled the loaded model, but the compiled metrics have yet to be built. `model.compile_metrics` will be empty until you train or evaluate the model.\n",
            "epoch 1900 [D loss: 0.709006, acc.: 51.56%] [G loss: 0.689423, acc.: 0.53%]\n",
            "WARNING:tensorflow:Compiled the loaded model, but the compiled metrics have yet to be built. `model.compile_metrics` will be empty until you train or evaluate the model.\n",
            "epoch 1950 [D loss: 0.702094, acc.: 59.38%] [G loss: 0.726647, acc.: 0.41%]\n",
            "epoch 2000 [D loss: 0.669954, acc.: 73.44%] [G loss: 0.706359, acc.: 0.38%]\n",
            "epoch 2050 [D loss: 0.701668, acc.: 50.00%] [G loss: 0.702639, acc.: 0.53%]\n",
            "epoch 2100 [D loss: 0.672035, acc.: 62.50%] [G loss: 0.713827, acc.: 0.44%]\n",
            "epoch 2150 [D loss: 0.683555, acc.: 50.00%] [G loss: 0.710819, acc.: 0.56%]\n",
            "WARNING:tensorflow:Compiled the loaded model, but the compiled metrics have yet to be built. `model.compile_metrics` will be empty until you train or evaluate the model.\n",
            "epoch 2200 [D loss: 0.725742, acc.: 42.19%] [G loss: 0.697544, acc.: 0.41%]\n",
            "WARNING:tensorflow:Compiled the loaded model, but the compiled metrics have yet to be built. `model.compile_metrics` will be empty until you train or evaluate the model.\n",
            "epoch 2250 [D loss: 0.664403, acc.: 62.50%] [G loss: 0.720530, acc.: 0.31%]\n",
            "WARNING:tensorflow:Compiled the loaded model, but the compiled metrics have yet to be built. `model.compile_metrics` will be empty until you train or evaluate the model.\n",
            "epoch 2300 [D loss: 0.658903, acc.: 56.25%] [G loss: 0.742819, acc.: 0.38%]\n",
            "WARNING:tensorflow:Compiled the loaded model, but the compiled metrics have yet to be built. `model.compile_metrics` will be empty until you train or evaluate the model.\n",
            "epoch 2350 [D loss: 0.731392, acc.: 46.88%] [G loss: 0.689809, acc.: 0.50%]\n",
            "WARNING:tensorflow:Compiled the loaded model, but the compiled metrics have yet to be built. `model.compile_metrics` will be empty until you train or evaluate the model.\n",
            "epoch 2400 [D loss: 0.686261, acc.: 62.50%] [G loss: 0.698957, acc.: 0.56%]\n",
            "WARNING:tensorflow:Compiled the loaded model, but the compiled metrics have yet to be built. `model.compile_metrics` will be empty until you train or evaluate the model.\n",
            "epoch 2450 [D loss: 0.716185, acc.: 51.56%] [G loss: 0.744284, acc.: 0.44%]\n",
            "WARNING:tensorflow:Compiled the loaded model, but the compiled metrics have yet to be built. `model.compile_metrics` will be empty until you train or evaluate the model.\n",
            "epoch 2500 [D loss: 0.665461, acc.: 48.44%] [G loss: 0.672801, acc.: 0.66%]\n",
            "epoch 2550 [D loss: 0.680239, acc.: 54.69%] [G loss: 0.715748, acc.: 0.56%]\n",
            "WARNING:tensorflow:Compiled the loaded model, but the compiled metrics have yet to be built. `model.compile_metrics` will be empty until you train or evaluate the model.\n",
            "epoch 2600 [D loss: 0.673468, acc.: 64.06%] [G loss: 0.740110, acc.: 0.34%]\n",
            "WARNING:tensorflow:Compiled the loaded model, but the compiled metrics have yet to be built. `model.compile_metrics` will be empty until you train or evaluate the model.\n",
            "epoch 2650 [D loss: 0.693968, acc.: 54.69%] [G loss: 0.717520, acc.: 0.38%]\n",
            "WARNING:tensorflow:Compiled the loaded model, but the compiled metrics have yet to be built. `model.compile_metrics` will be empty until you train or evaluate the model.\n",
            "epoch 2700 [D loss: 0.700768, acc.: 62.50%] [G loss: 0.732928, acc.: 0.34%]\n",
            "epoch 2750 [D loss: 0.732332, acc.: 53.12%] [G loss: 0.658124, acc.: 0.62%]\n",
            "epoch 2800 [D loss: 0.692178, acc.: 54.69%] [G loss: 0.704535, acc.: 0.50%]\n",
            "WARNING:tensorflow:Compiled the loaded model, but the compiled metrics have yet to be built. `model.compile_metrics` will be empty until you train or evaluate the model.\n",
            "epoch 2850 [D loss: 0.707585, acc.: 40.62%] [G loss: 0.681106, acc.: 0.56%]\n",
            "WARNING:tensorflow:Compiled the loaded model, but the compiled metrics have yet to be built. `model.compile_metrics` will be empty until you train or evaluate the model.\n",
            "epoch 2900 [D loss: 0.715635, acc.: 50.00%] [G loss: 0.688542, acc.: 0.53%]\n",
            "WARNING:tensorflow:Compiled the loaded model, but the compiled metrics have yet to be built. `model.compile_metrics` will be empty until you train or evaluate the model.\n",
            "epoch 2950 [D loss: 0.700202, acc.: 48.44%] [G loss: 0.707541, acc.: 0.50%]\n",
            "epoch 3000 [D loss: 0.665817, acc.: 67.19%] [G loss: 0.689769, acc.: 0.41%]\n",
            "WARNING:tensorflow:Compiled the loaded model, but the compiled metrics have yet to be built. `model.compile_metrics` will be empty until you train or evaluate the model.\n",
            "epoch 3050 [D loss: 0.688932, acc.: 60.94%] [G loss: 0.711118, acc.: 0.41%]\n",
            "WARNING:tensorflow:Compiled the loaded model, but the compiled metrics have yet to be built. `model.compile_metrics` will be empty until you train or evaluate the model.\n",
            "epoch 3100 [D loss: 0.675233, acc.: 60.94%] [G loss: 0.751219, acc.: 0.34%]\n",
            "WARNING:tensorflow:Compiled the loaded model, but the compiled metrics have yet to be built. `model.compile_metrics` will be empty until you train or evaluate the model.\n",
            "epoch 3150 [D loss: 0.685017, acc.: 56.25%] [G loss: 0.713307, acc.: 0.44%]\n",
            "WARNING:tensorflow:Compiled the loaded model, but the compiled metrics have yet to be built. `model.compile_metrics` will be empty until you train or evaluate the model.\n",
            "epoch 3200 [D loss: 0.689954, acc.: 67.19%] [G loss: 0.693949, acc.: 0.53%]\n",
            "WARNING:tensorflow:Compiled the loaded model, but the compiled metrics have yet to be built. `model.compile_metrics` will be empty until you train or evaluate the model.\n",
            "epoch 3250 [D loss: 0.652381, acc.: 62.50%] [G loss: 0.683816, acc.: 0.62%]\n",
            "WARNING:tensorflow:Compiled the loaded model, but the compiled metrics have yet to be built. `model.compile_metrics` will be empty until you train or evaluate the model.\n",
            "epoch 3300 [D loss: 0.676845, acc.: 46.88%] [G loss: 0.711407, acc.: 0.56%]\n",
            "epoch 3350 [D loss: 0.683935, acc.: 54.69%] [G loss: 0.735148, acc.: 0.44%]\n",
            "epoch 3400 [D loss: 0.692537, acc.: 57.81%] [G loss: 0.688533, acc.: 0.62%]\n",
            "epoch 3450 [D loss: 0.696628, acc.: 50.00%] [G loss: 0.728885, acc.: 0.41%]\n",
            "WARNING:tensorflow:Compiled the loaded model, but the compiled metrics have yet to be built. `model.compile_metrics` will be empty until you train or evaluate the model.\n",
            "epoch 3500 [D loss: 0.650905, acc.: 62.50%] [G loss: 0.724281, acc.: 0.53%]\n",
            "WARNING:tensorflow:Compiled the loaded model, but the compiled metrics have yet to be built. `model.compile_metrics` will be empty until you train or evaluate the model.\n",
            "epoch 3550 [D loss: 0.673851, acc.: 65.62%] [G loss: 0.735112, acc.: 0.41%]\n",
            "WARNING:tensorflow:Compiled the loaded model, but the compiled metrics have yet to be built. `model.compile_metrics` will be empty until you train or evaluate the model.\n",
            "epoch 3600 [D loss: 0.655685, acc.: 68.75%] [G loss: 0.700896, acc.: 0.47%]\n",
            "epoch 3650 [D loss: 0.702638, acc.: 59.38%] [G loss: 0.676783, acc.: 0.53%]\n",
            "epoch 3700 [D loss: 0.660173, acc.: 60.94%] [G loss: 0.717110, acc.: 0.47%]\n",
            "epoch 3750 [D loss: 0.683965, acc.: 68.75%] [G loss: 0.724766, acc.: 0.31%]\n",
            "epoch 3800 [D loss: 0.688994, acc.: 54.69%] [G loss: 0.716954, acc.: 0.44%]\n",
            "epoch 3850 [D loss: 0.666952, acc.: 60.94%] [G loss: 0.711046, acc.: 0.44%]\n",
            "WARNING:tensorflow:Compiled the loaded model, but the compiled metrics have yet to be built. `model.compile_metrics` will be empty until you train or evaluate the model.\n",
            "epoch 3900 [D loss: 0.705919, acc.: 50.00%] [G loss: 0.687749, acc.: 0.47%]\n",
            "epoch 3950 [D loss: 0.689050, acc.: 57.81%] [G loss: 0.656941, acc.: 0.66%]\n",
            "Best epoch: 3850\n"
          ],
          "name": "stdout"
        }
      ]
    },
    {
      "cell_type": "code",
      "metadata": {
        "colab": {
          "base_uri": "https://localhost:8080/",
          "height": 301
        },
        "id": "ZM9PERydwSj1",
        "outputId": "fc8decbe-4849-454c-90a4-da85e4061d13"
      },
      "source": [
        "from typing import List\n",
        "\n",
        "def plot_metric_general(graphs: List[np.ndarray], labels: List[str]) -> None:\n",
        "    import matplotlib.pyplot as plt\n",
        "    epochs = range(1, graphs[0].shape[0] + 1)\n",
        "    plt.xlabel(\"Iterations\")\n",
        "    plt.title('Gan')\n",
        "    for i in range(len(labels)):\n",
        "        plt.plot(epochs, graphs[i])\n",
        "    plt.legend(labels)\n",
        "    plt.show()\n",
        "\n",
        "def moving_average(x, w):\n",
        "    return np.convolve(x, np.ones(w), 'valid') / w\n",
        "\n",
        "d_losses_smooth, d_fake_accuracies_smooth, d_real_accuracies_smooth = moving_average(d_losses.reshape((iterations)), 5), moving_average(d_fake_accuracies.reshape((iterations)), 5), moving_average(d_real_accuracies.reshape((iterations)), 5)\n",
        "\n",
        "plot_metric_general([d_losses_smooth, d_fake_accuracies_smooth, d_real_accuracies_smooth], ['d_losses_smooth', 'd_fake_accuracies_smooth', 'd_real_accuracies_smooth'])\n",
        "# plot_metric_general([d_losses, d_accuracies, g_losses, g_accuracies], ['d_losses', 'd_accuracies', 'g_losses', 'g_accuracies']) \n",
        "# we can see aroud 800 epochs d_fake_accuracies=d_real_accuracies=0.5 and after that it degragates "
      ],
      "execution_count": null,
      "outputs": [
        {
          "output_type": "display_data",
          "data": {
            "image/png": "[encoded data removed]",
            "text/plain": [
              "<Figure size 432x288 with 1 Axes>"
            ]
          },
          "metadata": {
            "tags": []
          }
        }
      ]
    },
    {
      "cell_type": "code",
      "metadata": {
        "colab": {
          "base_uri": "https://localhost:8080/",
          "height": 301
        },
        "id": "Ix6EuTBrIWmd",
        "outputId": "ab73f387-5be3-41ea-c770-5758279477c9"
      },
      "source": [
        "d_losses_smooth, d_accuracies_smooth, g_losses_smooth, g_accuracies_smooth = moving_average(d_losses.reshape((iterations)), 5), moving_average(d_accuracies.reshape((iterations)), 5), moving_average(g_losses.reshape((iterations)), 5), moving_average(g_accuracies.reshape((iterations)), 5)\n",
        "\n",
        "plot_metric_general([d_losses_smooth, d_accuracies_smooth, g_losses_smooth], ['d_losses_smooth', 'd_accuracies_smooth', 'g_losses_smooth'])"
      ],
      "execution_count": null,
      "outputs": [
        {
          "output_type": "display_data",
          "data": {
            "image/png": "[encoded data removed]",
            "text/plain": [
              "<Figure size 432x288 with 1 Axes>"
            ]
          },
          "metadata": {
            "tags": []
          }
        }
      ]
    },
    {
      "cell_type": "code",
      "metadata": {
        "id": "waAGk29Rxq3N"
      },
      "source": [
        "import seaborn as sns\n",
        "sns.set_theme()"
      ],
      "execution_count": null,
      "outputs": []
    },
    {
      "cell_type": "code",
      "metadata": {
        "colab": {
          "base_uri": "https://localhost:8080/",
          "height": 382
        },
        "id": "nisaRy3kz1J8",
        "outputId": "9f5c225e-2ecd-402b-d97d-dc626a17b1aa"
      },
      "source": [
        "p_proba = gs_rf.predict_proba(df_test)[:,0]\n",
        "sns.displot(p_proba, bins=10)\n",
        "print(f'min {min(p_proba)}, max {max(p_proba)}, avg {sum(p_proba)/len(p_proba)}')"
      ],
      "execution_count": null,
      "outputs": [
        {
          "output_type": "stream",
          "text": [
            "min 0.17493114970169515, max 0.9808483998188307, avg 0.637049548748874\n"
          ],
          "name": "stdout"
        },
        {
          "output_type": "display_data",
          "data": {
            "image/png": "[encoded data removed]",
            "text/plain": [
              "<Figure size 360x360 with 1 Axes>"
            ]
          },
          "metadata": {
            "tags": []
          }
        }
      ]
    },
    {
      "cell_type": "code",
      "metadata": {
        "id": "XBnJB1i0Iqun"
      },
      "source": [
        "def test_spesific_confidence_range(low, high):\n",
        "  import math\n",
        "  smaples_len = 1000\n",
        "  noise = np.random.uniform(-1, 1, size=(smaples_len, 10))\n",
        "  c = np.random.uniform(low, high, size=(smaples_len, ))\n",
        "  loaded_generator = tf.keras.models.load_model('generator_model_1300.h5')\n",
        "  # samples = gan.generator.predict([noise, c])\n",
        "  c_mean = np.ones((smaples_len ,)) * np.mean(c)\n",
        "  # c_mean = np.ones((smaples_len ,)) * 0.5\n",
        "  c_std = np.ones((smaples_len , )) * np.std(c)  \n",
        "  # c_std = np.ones((smaples_len , )) * 1.0 / math.sqrt(12)   \n",
        "  samples = loaded_generator.predict([noise, c, c_mean, c_std])\n",
        "  p_proba_s = gs_rf.predict_proba(samples)[:,0]\n",
        "  sns.displot(p_proba_s, bins=10)\n",
        "  print(f'min {min(p_proba_s)}, max {max(p_proba_s)}, avg {sum(p_proba_s)/len(p_proba_s)}')"
      ],
      "execution_count": null,
      "outputs": []
    },
    {
      "cell_type": "code",
      "metadata": {
        "colab": {
          "base_uri": "https://localhost:8080/",
          "height": 1000
        },
        "id": "CTVJNmZqI8Cd",
        "outputId": "5fbe560e-d765-49bd-8601-a8314524adcb"
      },
      "source": [
        "\n",
        "test_spesific_confidence_range(0.2, 0.5)\n",
        "test_spesific_confidence_range(0.5, 0.7)\n",
        "test_spesific_confidence_range(0.7, 1.0)"
      ],
      "execution_count": null,
      "outputs": [
        {
          "output_type": "stream",
          "text": [
            "WARNING:tensorflow:No training configuration found in the save file, so the model was *not* compiled. Compile it manually.\n",
            "min 0.3464807969086817, max 0.794458838299645, avg 0.5599064133951931\n",
            "WARNING:tensorflow:No training configuration found in the save file, so the model was *not* compiled. Compile it manually.\n",
            "min 0.45211189045196143, max 0.9439627063395369, avg 0.6573589920933093\n",
            "WARNING:tensorflow:No training configuration found in the save file, so the model was *not* compiled. Compile it manually.\n",
            "min 0.5182742660375813, max 0.9818000405343473, avg 0.7895096735862609\n"
          ],
          "name": "stdout"
        },
        {
          "output_type": "display_data",
          "data": {
            "image/png": "[encoded data removed]",
            "text/plain": [
              "<Figure size 360x360 with 1 Axes>"
            ]
          },
          "metadata": {
            "tags": []
          }
        },
        {
          "output_type": "display_data",
          "data": {
            "image/png": "[encoded data removed]",
            "text/plain": [
              "<Figure size 360x360 with 1 Axes>"
            ]
          },
          "metadata": {
            "tags": []
          }
        },
        {
          "output_type": "display_data",
          "data": {
            "image/png": "[encoded data removed]",
            "text/plain": [
              "<Figure size 360x360 with 1 Axes>"
            ]
          },
          "metadata": {
            "tags": []
          }
        }
      ]
    }
  ]
}